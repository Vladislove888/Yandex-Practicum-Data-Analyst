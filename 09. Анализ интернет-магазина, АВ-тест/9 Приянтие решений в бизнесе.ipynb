{
 "cells": [
  {
   "cell_type": "markdown",
   "metadata": {},
   "source": [
    "# Проверка гипотез для увеличения выручки интернет-магазина. A/B-тест\n"
   ]
  },
  {
   "cell_type": "markdown",
   "metadata": {},
   "source": [
    "## Описание проекта."
   ]
  },
  {
   "cell_type": "markdown",
   "metadata": {},
   "source": [
    "В нашем распоряжении список гипотез для увеличения выручки. Необходимо приоритизировать гипотезы, запустить A/B-тест и проанализировать результаты.\n",
    "- файл hypothesis.csv содержит список из 9 гипотез по увеличению выручки с параметрами Reach, Impact, Confidence, Effort\n",
    "- результаты А/В-теста содержат в себе файлы orders.csv и visitors.csv"
   ]
  },
  {
   "cell_type": "markdown",
   "metadata": {},
   "source": [
    "## Обзор и предобработка данных"
   ]
  },
  {
   "cell_type": "code",
   "execution_count": 1,
   "metadata": {},
   "outputs": [],
   "source": [
    "# добавим необходимые библиотеки\n",
    "import pandas as pd\n",
    "import matplotlib.pyplot as plt\n",
    "import numpy as np\n",
    "import scipy.stats as stats\n"
   ]
  },
  {
   "cell_type": "code",
   "execution_count": 2,
   "metadata": {},
   "outputs": [],
   "source": [
    "# откроем файлы\n",
    "try:\n",
    "    hypothesis, orders, visitors = (\n",
    "                            pd.read_csv('/datasets/hypothesis.csv'),\n",
    "                            pd.read_csv('/datasets/orders.csv'),\n",
    "                            pd.read_csv('/datasets/visitors.csv')\n",
    "                            )\n",
    "except:\n",
    "    hypothesis, orders, visitors = (\n",
    "                            pd.read_csv('hypothesis.csv'),\n",
    "                            pd.read_csv('orders.csv'),\n",
    "                            pd.read_csv('visitors.csv')\n",
    "                            )"
   ]
  },
  {
   "cell_type": "markdown",
   "metadata": {},
   "source": [
    "### Файл hypothesis"
   ]
  },
  {
   "cell_type": "code",
   "execution_count": 3,
   "metadata": {},
   "outputs": [
    {
     "data": {
      "text/html": [
       "<div>\n",
       "<style scoped>\n",
       "    .dataframe tbody tr th:only-of-type {\n",
       "        vertical-align: middle;\n",
       "    }\n",
       "\n",
       "    .dataframe tbody tr th {\n",
       "        vertical-align: top;\n",
       "    }\n",
       "\n",
       "    .dataframe thead th {\n",
       "        text-align: right;\n",
       "    }\n",
       "</style>\n",
       "<table border=\"1\" class=\"dataframe\">\n",
       "  <thead>\n",
       "    <tr style=\"text-align: right;\">\n",
       "      <th></th>\n",
       "      <th>Hypothesis</th>\n",
       "      <th>Reach</th>\n",
       "      <th>Impact</th>\n",
       "      <th>Confidence</th>\n",
       "      <th>Efforts</th>\n",
       "    </tr>\n",
       "  </thead>\n",
       "  <tbody>\n",
       "    <tr>\n",
       "      <th>0</th>\n",
       "      <td>Добавить два новых канала привлечения трафика, что позволит привлекать на 30% больше пользователей</td>\n",
       "      <td>3</td>\n",
       "      <td>10</td>\n",
       "      <td>8</td>\n",
       "      <td>6</td>\n",
       "    </tr>\n",
       "    <tr>\n",
       "      <th>1</th>\n",
       "      <td>Запустить собственную службу доставки, что сократит срок доставки заказов</td>\n",
       "      <td>2</td>\n",
       "      <td>5</td>\n",
       "      <td>4</td>\n",
       "      <td>10</td>\n",
       "    </tr>\n",
       "    <tr>\n",
       "      <th>2</th>\n",
       "      <td>Добавить блоки рекомендаций товаров на сайт интернет магазина, чтобы повысить конверсию и средний чек заказа</td>\n",
       "      <td>8</td>\n",
       "      <td>3</td>\n",
       "      <td>7</td>\n",
       "      <td>3</td>\n",
       "    </tr>\n",
       "    <tr>\n",
       "      <th>3</th>\n",
       "      <td>Изменить структура категорий, что увеличит конверсию, т.к. пользователи быстрее найдут нужный товар</td>\n",
       "      <td>8</td>\n",
       "      <td>3</td>\n",
       "      <td>3</td>\n",
       "      <td>8</td>\n",
       "    </tr>\n",
       "    <tr>\n",
       "      <th>4</th>\n",
       "      <td>Изменить цвет фона главной страницы, чтобы увеличить вовлеченность пользователей</td>\n",
       "      <td>3</td>\n",
       "      <td>1</td>\n",
       "      <td>1</td>\n",
       "      <td>1</td>\n",
       "    </tr>\n",
       "    <tr>\n",
       "      <th>5</th>\n",
       "      <td>Добавить страницу отзывов клиентов о магазине, что позволит увеличить количество заказов</td>\n",
       "      <td>3</td>\n",
       "      <td>2</td>\n",
       "      <td>2</td>\n",
       "      <td>3</td>\n",
       "    </tr>\n",
       "    <tr>\n",
       "      <th>6</th>\n",
       "      <td>Показать на главной странице баннеры с актуальными акциями и распродажами, чтобы увеличить конверсию</td>\n",
       "      <td>5</td>\n",
       "      <td>3</td>\n",
       "      <td>8</td>\n",
       "      <td>3</td>\n",
       "    </tr>\n",
       "    <tr>\n",
       "      <th>7</th>\n",
       "      <td>Добавить форму подписки на все основные страницы, чтобы собрать базу клиентов для email-рассылок</td>\n",
       "      <td>10</td>\n",
       "      <td>7</td>\n",
       "      <td>8</td>\n",
       "      <td>5</td>\n",
       "    </tr>\n",
       "    <tr>\n",
       "      <th>8</th>\n",
       "      <td>Запустить акцию, дающую скидку на товар в день рождения</td>\n",
       "      <td>1</td>\n",
       "      <td>9</td>\n",
       "      <td>9</td>\n",
       "      <td>5</td>\n",
       "    </tr>\n",
       "  </tbody>\n",
       "</table>\n",
       "</div>"
      ],
      "text/plain": [
       "                                                                                                     Hypothesis  \\\n",
       "0            Добавить два новых канала привлечения трафика, что позволит привлекать на 30% больше пользователей   \n",
       "1                                     Запустить собственную службу доставки, что сократит срок доставки заказов   \n",
       "2  Добавить блоки рекомендаций товаров на сайт интернет магазина, чтобы повысить конверсию и средний чек заказа   \n",
       "3           Изменить структура категорий, что увеличит конверсию, т.к. пользователи быстрее найдут нужный товар   \n",
       "4                              Изменить цвет фона главной страницы, чтобы увеличить вовлеченность пользователей   \n",
       "5                      Добавить страницу отзывов клиентов о магазине, что позволит увеличить количество заказов   \n",
       "6          Показать на главной странице баннеры с актуальными акциями и распродажами, чтобы увеличить конверсию   \n",
       "7              Добавить форму подписки на все основные страницы, чтобы собрать базу клиентов для email-рассылок   \n",
       "8                                                       Запустить акцию, дающую скидку на товар в день рождения   \n",
       "\n",
       "   Reach  Impact  Confidence  Efforts  \n",
       "0      3      10           8        6  \n",
       "1      2       5           4       10  \n",
       "2      8       3           7        3  \n",
       "3      8       3           3        8  \n",
       "4      3       1           1        1  \n",
       "5      3       2           2        3  \n",
       "6      5       3           8        3  \n",
       "7     10       7           8        5  \n",
       "8      1       9           9        5  "
      ]
     },
     "metadata": {},
     "output_type": "display_data"
    },
    {
     "name": "stdout",
     "output_type": "stream",
     "text": [
      "<class 'pandas.core.frame.DataFrame'>\n",
      "RangeIndex: 9 entries, 0 to 8\n",
      "Data columns (total 5 columns):\n",
      " #   Column      Non-Null Count  Dtype \n",
      "---  ------      --------------  ----- \n",
      " 0   Hypothesis  9 non-null      object\n",
      " 1   Reach       9 non-null      int64 \n",
      " 2   Impact      9 non-null      int64 \n",
      " 3   Confidence  9 non-null      int64 \n",
      " 4   Efforts     9 non-null      int64 \n",
      "dtypes: int64(4), object(1)\n",
      "memory usage: 488.0+ bytes\n",
      "None\n"
     ]
    }
   ],
   "source": [
    "pd.set_option('display.max_colwidth', None) # чтобы гипотезы отображались полностью\n",
    "display(hypothesis)\n",
    "print(hypothesis.info())"
   ]
  },
  {
   "cell_type": "markdown",
   "metadata": {},
   "source": [
    "Файл с гипотезами в порядке, нет ни пропусков, ни дубликатов. \n",
    "Содержание файла следующее:\n",
    "- Hypothesis — описание гипотезы;\n",
    "- Reach — охват пользователей по 10-балльной шкале;\n",
    "- Impact — влияние на пользователей по 10-балльной шкале;\n",
    "- Confidence — уверенность в гипотезе по 10-балльной шкале;\n",
    "- Efforts — затраты ресурсов на проверку гипотезы по 10-балльной шкале."
   ]
  },
  {
   "cell_type": "markdown",
   "metadata": {},
   "source": [
    "### Файл orders"
   ]
  },
  {
   "cell_type": "code",
   "execution_count": 4,
   "metadata": {},
   "outputs": [
    {
     "data": {
      "text/html": [
       "<div>\n",
       "<style scoped>\n",
       "    .dataframe tbody tr th:only-of-type {\n",
       "        vertical-align: middle;\n",
       "    }\n",
       "\n",
       "    .dataframe tbody tr th {\n",
       "        vertical-align: top;\n",
       "    }\n",
       "\n",
       "    .dataframe thead th {\n",
       "        text-align: right;\n",
       "    }\n",
       "</style>\n",
       "<table border=\"1\" class=\"dataframe\">\n",
       "  <thead>\n",
       "    <tr style=\"text-align: right;\">\n",
       "      <th></th>\n",
       "      <th>transactionId</th>\n",
       "      <th>visitorId</th>\n",
       "      <th>date</th>\n",
       "      <th>revenue</th>\n",
       "      <th>group</th>\n",
       "    </tr>\n",
       "  </thead>\n",
       "  <tbody>\n",
       "    <tr>\n",
       "      <th>0</th>\n",
       "      <td>3667963787</td>\n",
       "      <td>3312258926</td>\n",
       "      <td>2019-08-15</td>\n",
       "      <td>1650</td>\n",
       "      <td>B</td>\n",
       "    </tr>\n",
       "    <tr>\n",
       "      <th>1</th>\n",
       "      <td>2804400009</td>\n",
       "      <td>3642806036</td>\n",
       "      <td>2019-08-15</td>\n",
       "      <td>730</td>\n",
       "      <td>B</td>\n",
       "    </tr>\n",
       "    <tr>\n",
       "      <th>2</th>\n",
       "      <td>2961555356</td>\n",
       "      <td>4069496402</td>\n",
       "      <td>2019-08-15</td>\n",
       "      <td>400</td>\n",
       "      <td>A</td>\n",
       "    </tr>\n",
       "    <tr>\n",
       "      <th>3</th>\n",
       "      <td>3797467345</td>\n",
       "      <td>1196621759</td>\n",
       "      <td>2019-08-15</td>\n",
       "      <td>9759</td>\n",
       "      <td>B</td>\n",
       "    </tr>\n",
       "    <tr>\n",
       "      <th>4</th>\n",
       "      <td>2282983706</td>\n",
       "      <td>2322279887</td>\n",
       "      <td>2019-08-15</td>\n",
       "      <td>2308</td>\n",
       "      <td>B</td>\n",
       "    </tr>\n",
       "  </tbody>\n",
       "</table>\n",
       "</div>"
      ],
      "text/plain": [
       "   transactionId   visitorId        date  revenue group\n",
       "0     3667963787  3312258926  2019-08-15     1650     B\n",
       "1     2804400009  3642806036  2019-08-15      730     B\n",
       "2     2961555356  4069496402  2019-08-15      400     A\n",
       "3     3797467345  1196621759  2019-08-15     9759     B\n",
       "4     2282983706  2322279887  2019-08-15     2308     B"
      ]
     },
     "metadata": {},
     "output_type": "display_data"
    },
    {
     "name": "stdout",
     "output_type": "stream",
     "text": [
      "<class 'pandas.core.frame.DataFrame'>\n",
      "RangeIndex: 1197 entries, 0 to 1196\n",
      "Data columns (total 5 columns):\n",
      " #   Column         Non-Null Count  Dtype \n",
      "---  ------         --------------  ----- \n",
      " 0   transactionId  1197 non-null   int64 \n",
      " 1   visitorId      1197 non-null   int64 \n",
      " 2   date           1197 non-null   object\n",
      " 3   revenue        1197 non-null   int64 \n",
      " 4   group          1197 non-null   object\n",
      "dtypes: int64(3), object(2)\n",
      "memory usage: 46.9+ KB\n",
      "None\n"
     ]
    }
   ],
   "source": [
    "display(orders.head())\n",
    "print(orders.info())"
   ]
  },
  {
   "cell_type": "code",
   "execution_count": 5,
   "metadata": {},
   "outputs": [
    {
     "name": "stdout",
     "output_type": "stream",
     "text": [
      "Дубликаты 0\n"
     ]
    }
   ],
   "source": [
    "# нужно изменить тип данных в столбце date\n",
    "orders['date'] = pd.to_datetime(orders['date'])\n",
    "# также проверим на наличие дубликатов\n",
    "print('Дубликаты', orders.duplicated().sum())"
   ]
  },
  {
   "cell_type": "markdown",
   "metadata": {},
   "source": [
    "В файле orders нет дубликатов, надо было изменить тип данных в столбце date. \n",
    "Содержание таблицы:\n",
    "- transactionId — идентификатор заказа;\n",
    "- visitorId — идентификатор пользователя, совершившего заказ;\n",
    "- date — дата, когда был совершён заказ;\n",
    "- revenue — выручка заказа;\n",
    "- group — группа A/B-теста, в которую попал заказ."
   ]
  },
  {
   "cell_type": "markdown",
   "metadata": {},
   "source": [
    "### Файл visitors"
   ]
  },
  {
   "cell_type": "code",
   "execution_count": 6,
   "metadata": {},
   "outputs": [
    {
     "data": {
      "text/html": [
       "<div>\n",
       "<style scoped>\n",
       "    .dataframe tbody tr th:only-of-type {\n",
       "        vertical-align: middle;\n",
       "    }\n",
       "\n",
       "    .dataframe tbody tr th {\n",
       "        vertical-align: top;\n",
       "    }\n",
       "\n",
       "    .dataframe thead th {\n",
       "        text-align: right;\n",
       "    }\n",
       "</style>\n",
       "<table border=\"1\" class=\"dataframe\">\n",
       "  <thead>\n",
       "    <tr style=\"text-align: right;\">\n",
       "      <th></th>\n",
       "      <th>date</th>\n",
       "      <th>group</th>\n",
       "      <th>visitors</th>\n",
       "    </tr>\n",
       "  </thead>\n",
       "  <tbody>\n",
       "    <tr>\n",
       "      <th>0</th>\n",
       "      <td>2019-08-01</td>\n",
       "      <td>A</td>\n",
       "      <td>719</td>\n",
       "    </tr>\n",
       "    <tr>\n",
       "      <th>1</th>\n",
       "      <td>2019-08-02</td>\n",
       "      <td>A</td>\n",
       "      <td>619</td>\n",
       "    </tr>\n",
       "    <tr>\n",
       "      <th>2</th>\n",
       "      <td>2019-08-03</td>\n",
       "      <td>A</td>\n",
       "      <td>507</td>\n",
       "    </tr>\n",
       "    <tr>\n",
       "      <th>3</th>\n",
       "      <td>2019-08-04</td>\n",
       "      <td>A</td>\n",
       "      <td>717</td>\n",
       "    </tr>\n",
       "    <tr>\n",
       "      <th>4</th>\n",
       "      <td>2019-08-05</td>\n",
       "      <td>A</td>\n",
       "      <td>756</td>\n",
       "    </tr>\n",
       "  </tbody>\n",
       "</table>\n",
       "</div>"
      ],
      "text/plain": [
       "         date group  visitors\n",
       "0  2019-08-01     A       719\n",
       "1  2019-08-02     A       619\n",
       "2  2019-08-03     A       507\n",
       "3  2019-08-04     A       717\n",
       "4  2019-08-05     A       756"
      ]
     },
     "metadata": {},
     "output_type": "display_data"
    },
    {
     "name": "stdout",
     "output_type": "stream",
     "text": [
      "<class 'pandas.core.frame.DataFrame'>\n",
      "RangeIndex: 62 entries, 0 to 61\n",
      "Data columns (total 3 columns):\n",
      " #   Column    Non-Null Count  Dtype \n",
      "---  ------    --------------  ----- \n",
      " 0   date      62 non-null     object\n",
      " 1   group     62 non-null     object\n",
      " 2   visitors  62 non-null     int64 \n",
      "dtypes: int64(1), object(2)\n",
      "memory usage: 1.6+ KB\n",
      "None\n",
      "Группы ['A' 'B']\n"
     ]
    }
   ],
   "source": [
    "display(visitors.head())\n",
    "print(visitors.info())\n",
    "print('Группы',visitors['group'].unique())"
   ]
  },
  {
   "cell_type": "code",
   "execution_count": 7,
   "metadata": {},
   "outputs": [
    {
     "name": "stdout",
     "output_type": "stream",
     "text": [
      "Дубликаты: 0\n"
     ]
    }
   ],
   "source": [
    "# также изменим тип данных в столбце date\n",
    "visitors['date'] = pd.to_datetime(visitors['date'])\n",
    "# и проверим на количество дубликатов\n",
    "print('Дубликаты:', visitors.duplicated().sum())"
   ]
  },
  {
   "cell_type": "code",
   "execution_count": 8,
   "metadata": {},
   "outputs": [
    {
     "name": "stdout",
     "output_type": "stream",
     "text": [
      "Начало теста 2019-08-01 00:00:00\n",
      "Окончание теста 2019-08-31 00:00:00\n"
     ]
    }
   ],
   "source": [
    "print('Начало теста', min(visitors['date']))\n",
    "print('Окончание теста', max(visitors['date']))"
   ]
  },
  {
   "cell_type": "markdown",
   "metadata": {},
   "source": [
    "Мы имеем данные за август 2019 пользователей из двух групп."
   ]
  },
  {
   "cell_type": "markdown",
   "metadata": {},
   "source": [
    "Проверим также выборки на наличие пользователей, попавших в обе группы:"
   ]
  },
  {
   "cell_type": "code",
   "execution_count": 9,
   "metadata": {},
   "outputs": [
    {
     "data": {
      "text/html": [
       "<div>\n",
       "<style scoped>\n",
       "    .dataframe tbody tr th:only-of-type {\n",
       "        vertical-align: middle;\n",
       "    }\n",
       "\n",
       "    .dataframe tbody tr th {\n",
       "        vertical-align: top;\n",
       "    }\n",
       "\n",
       "    .dataframe thead th {\n",
       "        text-align: right;\n",
       "    }\n",
       "</style>\n",
       "<table border=\"1\" class=\"dataframe\">\n",
       "  <thead>\n",
       "    <tr style=\"text-align: right;\">\n",
       "      <th></th>\n",
       "      <th>groups</th>\n",
       "      <th>group_name</th>\n",
       "    </tr>\n",
       "    <tr>\n",
       "      <th>visitorId</th>\n",
       "      <th></th>\n",
       "      <th></th>\n",
       "    </tr>\n",
       "  </thead>\n",
       "  <tbody>\n",
       "    <tr>\n",
       "      <th>8300375</th>\n",
       "      <td>2</td>\n",
       "      <td>[B, A]</td>\n",
       "    </tr>\n",
       "    <tr>\n",
       "      <th>199603092</th>\n",
       "      <td>2</td>\n",
       "      <td>[A, B]</td>\n",
       "    </tr>\n",
       "    <tr>\n",
       "      <th>232979603</th>\n",
       "      <td>2</td>\n",
       "      <td>[B, A]</td>\n",
       "    </tr>\n",
       "    <tr>\n",
       "      <th>237748145</th>\n",
       "      <td>2</td>\n",
       "      <td>[B, A]</td>\n",
       "    </tr>\n",
       "    <tr>\n",
       "      <th>276558944</th>\n",
       "      <td>2</td>\n",
       "      <td>[B, A]</td>\n",
       "    </tr>\n",
       "  </tbody>\n",
       "</table>\n",
       "</div>"
      ],
      "text/plain": [
       "           groups group_name\n",
       "visitorId                   \n",
       "8300375         2     [B, A]\n",
       "199603092       2     [A, B]\n",
       "232979603       2     [B, A]\n",
       "237748145       2     [B, A]\n",
       "276558944       2     [B, A]"
      ]
     },
     "metadata": {},
     "output_type": "display_data"
    },
    {
     "name": "stdout",
     "output_type": "stream",
     "text": [
      "Общее количество пользователей: 1031\n",
      "Количество пользователей в группе А: 503\n",
      "Количество пользователей в группе В: 586\n",
      "Количество пользователей, попавших в обе группы: 58\n"
     ]
    }
   ],
   "source": [
    "ab_users = orders.groupby('visitorId').agg({'group': ['nunique', 'unique']})\n",
    "ab_users.columns = ['groups', 'group_name']\n",
    "ab_users = ab_users.query('groups > 1')\n",
    "display(ab_users.head())\n",
    "print('Общее количество пользователей:', orders['visitorId'].nunique())\n",
    "print('Количество пользователей в группе А:', orders.query('group == \"A\"')['visitorId'].nunique())\n",
    "print('Количество пользователей в группе В:', orders.query('group == \"B\"')['visitorId'].nunique())\n",
    "print('Количество пользователей, попавших в обе группы:',len(ab_users))"
   ]
  },
  {
   "cell_type": "markdown",
   "metadata": {},
   "source": [
    "Пользователей, находящихся сразу в обеих группах, - 58, это почти по 10% в каждой группе. Их участие сразу в обоих группах может субъективно исказить результаты, а также повлиять на расчет выбросов. Можно было бы попробовать исключить этих пользователей из заказов, но корректно исключить их из визитов не получится, так как данные в этом датасете агрегированы. Поэтому оставим, как есть."
   ]
  },
  {
   "cell_type": "markdown",
   "metadata": {},
   "source": [
    "**Вывод: данные готовы к анализу, были изменены типы в столбцах date, выявлено отсутсвтие пропусков и дубликатов.**"
   ]
  },
  {
   "cell_type": "markdown",
   "metadata": {},
   "source": [
    "## Приоритизация гипотез"
   ]
  },
  {
   "cell_type": "markdown",
   "metadata": {},
   "source": [
    "Применим фреймворки ICE и RICE для приоритетной для анализа гипотезы. "
   ]
  },
  {
   "cell_type": "markdown",
   "metadata": {},
   "source": [
    "### Фреймворк ICE"
   ]
  },
  {
   "cell_type": "markdown",
   "metadata": {},
   "source": [
    "**ICE (от англ. impact, confidence, effort / ease «влияние, уверенность, усилия / простота»)**"
   ]
  },
  {
   "cell_type": "markdown",
   "metadata": {},
   "source": [
    "$$ICE = \\frac{Impact * Confidence}{Efforts}$$"
   ]
  },
  {
   "cell_type": "code",
   "execution_count": 10,
   "metadata": {},
   "outputs": [
    {
     "data": {
      "text/html": [
       "<div>\n",
       "<style scoped>\n",
       "    .dataframe tbody tr th:only-of-type {\n",
       "        vertical-align: middle;\n",
       "    }\n",
       "\n",
       "    .dataframe tbody tr th {\n",
       "        vertical-align: top;\n",
       "    }\n",
       "\n",
       "    .dataframe thead th {\n",
       "        text-align: right;\n",
       "    }\n",
       "</style>\n",
       "<table border=\"1\" class=\"dataframe\">\n",
       "  <thead>\n",
       "    <tr style=\"text-align: right;\">\n",
       "      <th></th>\n",
       "      <th>Hypothesis</th>\n",
       "      <th>ICE</th>\n",
       "    </tr>\n",
       "  </thead>\n",
       "  <tbody>\n",
       "    <tr>\n",
       "      <th>8</th>\n",
       "      <td>Запустить акцию, дающую скидку на товар в день рождения</td>\n",
       "      <td>16.200000</td>\n",
       "    </tr>\n",
       "    <tr>\n",
       "      <th>0</th>\n",
       "      <td>Добавить два новых канала привлечения трафика, что позволит привлекать на 30% больше пользователей</td>\n",
       "      <td>13.333333</td>\n",
       "    </tr>\n",
       "    <tr>\n",
       "      <th>7</th>\n",
       "      <td>Добавить форму подписки на все основные страницы, чтобы собрать базу клиентов для email-рассылок</td>\n",
       "      <td>11.200000</td>\n",
       "    </tr>\n",
       "    <tr>\n",
       "      <th>6</th>\n",
       "      <td>Показать на главной странице баннеры с актуальными акциями и распродажами, чтобы увеличить конверсию</td>\n",
       "      <td>8.000000</td>\n",
       "    </tr>\n",
       "    <tr>\n",
       "      <th>2</th>\n",
       "      <td>Добавить блоки рекомендаций товаров на сайт интернет магазина, чтобы повысить конверсию и средний чек заказа</td>\n",
       "      <td>7.000000</td>\n",
       "    </tr>\n",
       "    <tr>\n",
       "      <th>1</th>\n",
       "      <td>Запустить собственную службу доставки, что сократит срок доставки заказов</td>\n",
       "      <td>2.000000</td>\n",
       "    </tr>\n",
       "    <tr>\n",
       "      <th>5</th>\n",
       "      <td>Добавить страницу отзывов клиентов о магазине, что позволит увеличить количество заказов</td>\n",
       "      <td>1.333333</td>\n",
       "    </tr>\n",
       "    <tr>\n",
       "      <th>3</th>\n",
       "      <td>Изменить структура категорий, что увеличит конверсию, т.к. пользователи быстрее найдут нужный товар</td>\n",
       "      <td>1.125000</td>\n",
       "    </tr>\n",
       "    <tr>\n",
       "      <th>4</th>\n",
       "      <td>Изменить цвет фона главной страницы, чтобы увеличить вовлеченность пользователей</td>\n",
       "      <td>1.000000</td>\n",
       "    </tr>\n",
       "  </tbody>\n",
       "</table>\n",
       "</div>"
      ],
      "text/plain": [
       "                                                                                                     Hypothesis  \\\n",
       "8                                                       Запустить акцию, дающую скидку на товар в день рождения   \n",
       "0            Добавить два новых канала привлечения трафика, что позволит привлекать на 30% больше пользователей   \n",
       "7              Добавить форму подписки на все основные страницы, чтобы собрать базу клиентов для email-рассылок   \n",
       "6          Показать на главной странице баннеры с актуальными акциями и распродажами, чтобы увеличить конверсию   \n",
       "2  Добавить блоки рекомендаций товаров на сайт интернет магазина, чтобы повысить конверсию и средний чек заказа   \n",
       "1                                     Запустить собственную службу доставки, что сократит срок доставки заказов   \n",
       "5                      Добавить страницу отзывов клиентов о магазине, что позволит увеличить количество заказов   \n",
       "3           Изменить структура категорий, что увеличит конверсию, т.к. пользователи быстрее найдут нужный товар   \n",
       "4                              Изменить цвет фона главной страницы, чтобы увеличить вовлеченность пользователей   \n",
       "\n",
       "         ICE  \n",
       "8  16.200000  \n",
       "0  13.333333  \n",
       "7  11.200000  \n",
       "6   8.000000  \n",
       "2   7.000000  \n",
       "1   2.000000  \n",
       "5   1.333333  \n",
       "3   1.125000  \n",
       "4   1.000000  "
      ]
     },
     "metadata": {},
     "output_type": "display_data"
    }
   ],
   "source": [
    "hypothesis['ICE'] = (hypothesis['Impact'] * hypothesis['Confidence']) / hypothesis['Efforts']\n",
    "display(hypothesis[['Hypothesis', 'ICE']].sort_values(by='ICE', ascending=False))"
   ]
  },
  {
   "cell_type": "markdown",
   "metadata": {},
   "source": [
    "Наиболее приоритетная гипотеза №9 (с индексом 8): Запустить акцию, дающую скидку на товар в день рождения"
   ]
  },
  {
   "cell_type": "markdown",
   "metadata": {},
   "source": [
    "### Фреймворк RICE"
   ]
  },
  {
   "cell_type": "markdown",
   "metadata": {},
   "source": [
    "**RICE (от англ. reach, impact, confidence, effort / ease «охват, влияние, уверенность, усилия / простота»)**"
   ]
  },
  {
   "cell_type": "markdown",
   "metadata": {},
   "source": [
    "$$RICE = \\frac{Rearch * Impact * Confidence}{Efforts}$$"
   ]
  },
  {
   "cell_type": "code",
   "execution_count": 11,
   "metadata": {
    "scrolled": true
   },
   "outputs": [
    {
     "data": {
      "text/html": [
       "<div>\n",
       "<style scoped>\n",
       "    .dataframe tbody tr th:only-of-type {\n",
       "        vertical-align: middle;\n",
       "    }\n",
       "\n",
       "    .dataframe tbody tr th {\n",
       "        vertical-align: top;\n",
       "    }\n",
       "\n",
       "    .dataframe thead th {\n",
       "        text-align: right;\n",
       "    }\n",
       "</style>\n",
       "<table border=\"1\" class=\"dataframe\">\n",
       "  <thead>\n",
       "    <tr style=\"text-align: right;\">\n",
       "      <th></th>\n",
       "      <th>Hypothesis</th>\n",
       "      <th>RICE</th>\n",
       "    </tr>\n",
       "  </thead>\n",
       "  <tbody>\n",
       "    <tr>\n",
       "      <th>7</th>\n",
       "      <td>Добавить форму подписки на все основные страницы, чтобы собрать базу клиентов для email-рассылок</td>\n",
       "      <td>112.0</td>\n",
       "    </tr>\n",
       "    <tr>\n",
       "      <th>2</th>\n",
       "      <td>Добавить блоки рекомендаций товаров на сайт интернет магазина, чтобы повысить конверсию и средний чек заказа</td>\n",
       "      <td>56.0</td>\n",
       "    </tr>\n",
       "    <tr>\n",
       "      <th>0</th>\n",
       "      <td>Добавить два новых канала привлечения трафика, что позволит привлекать на 30% больше пользователей</td>\n",
       "      <td>40.0</td>\n",
       "    </tr>\n",
       "    <tr>\n",
       "      <th>6</th>\n",
       "      <td>Показать на главной странице баннеры с актуальными акциями и распродажами, чтобы увеличить конверсию</td>\n",
       "      <td>40.0</td>\n",
       "    </tr>\n",
       "    <tr>\n",
       "      <th>8</th>\n",
       "      <td>Запустить акцию, дающую скидку на товар в день рождения</td>\n",
       "      <td>16.2</td>\n",
       "    </tr>\n",
       "    <tr>\n",
       "      <th>3</th>\n",
       "      <td>Изменить структура категорий, что увеличит конверсию, т.к. пользователи быстрее найдут нужный товар</td>\n",
       "      <td>9.0</td>\n",
       "    </tr>\n",
       "    <tr>\n",
       "      <th>1</th>\n",
       "      <td>Запустить собственную службу доставки, что сократит срок доставки заказов</td>\n",
       "      <td>4.0</td>\n",
       "    </tr>\n",
       "    <tr>\n",
       "      <th>5</th>\n",
       "      <td>Добавить страницу отзывов клиентов о магазине, что позволит увеличить количество заказов</td>\n",
       "      <td>4.0</td>\n",
       "    </tr>\n",
       "    <tr>\n",
       "      <th>4</th>\n",
       "      <td>Изменить цвет фона главной страницы, чтобы увеличить вовлеченность пользователей</td>\n",
       "      <td>3.0</td>\n",
       "    </tr>\n",
       "  </tbody>\n",
       "</table>\n",
       "</div>"
      ],
      "text/plain": [
       "                                                                                                     Hypothesis  \\\n",
       "7              Добавить форму подписки на все основные страницы, чтобы собрать базу клиентов для email-рассылок   \n",
       "2  Добавить блоки рекомендаций товаров на сайт интернет магазина, чтобы повысить конверсию и средний чек заказа   \n",
       "0            Добавить два новых канала привлечения трафика, что позволит привлекать на 30% больше пользователей   \n",
       "6          Показать на главной странице баннеры с актуальными акциями и распродажами, чтобы увеличить конверсию   \n",
       "8                                                       Запустить акцию, дающую скидку на товар в день рождения   \n",
       "3           Изменить структура категорий, что увеличит конверсию, т.к. пользователи быстрее найдут нужный товар   \n",
       "1                                     Запустить собственную службу доставки, что сократит срок доставки заказов   \n",
       "5                      Добавить страницу отзывов клиентов о магазине, что позволит увеличить количество заказов   \n",
       "4                              Изменить цвет фона главной страницы, чтобы увеличить вовлеченность пользователей   \n",
       "\n",
       "    RICE  \n",
       "7  112.0  \n",
       "2   56.0  \n",
       "0   40.0  \n",
       "6   40.0  \n",
       "8   16.2  \n",
       "3    9.0  \n",
       "1    4.0  \n",
       "5    4.0  \n",
       "4    3.0  "
      ]
     },
     "metadata": {},
     "output_type": "display_data"
    }
   ],
   "source": [
    "hypothesis['RICE'] = (hypothesis['Reach'] * hypothesis['Impact'] * hypothesis['Confidence']) / hypothesis['Efforts']\n",
    "display(hypothesis[['Hypothesis', 'RICE']].sort_values(by='RICE', ascending=False))"
   ]
  },
  {
   "cell_type": "markdown",
   "metadata": {},
   "source": [
    "В данном случае приоритетная гипотеза №8 (с индексом 7): Добавить форму подписки на все основные страницы, чтобы собрать базу клиентов для email-рассылок\t"
   ]
  },
  {
   "cell_type": "markdown",
   "metadata": {},
   "source": [
    "**Вывод: при расчете RICE на первое место вышла 8 гипотеза : \"Добавить форму подписки на все основные страницы, чтобы собрать базу клиентов для email-рассылок\", поскольку на значимость гипотезы влияет и охват пользователей Reach. Это и будет наиболее приоритетная гипотеза.**"
   ]
  },
  {
   "cell_type": "markdown",
   "metadata": {},
   "source": [
    "## Анализ А/В-теста"
   ]
  },
  {
   "cell_type": "markdown",
   "metadata": {},
   "source": [
    "### График кумулятивной выручки по группам."
   ]
  },
  {
   "cell_type": "code",
   "execution_count": 12,
   "metadata": {},
   "outputs": [
    {
     "data": {
      "image/png": "[encoded data removed]",
      "text/plain": [
       "<Figure size 720x360 with 1 Axes>"
      ]
     },
     "metadata": {
      "needs_background": "light"
     },
     "output_type": "display_data"
    }
   ],
   "source": [
    "datesGroups = orders[['date', 'group']].drop_duplicates()\n",
    "\n",
    "ordersAggregated = datesGroups.apply(\n",
    "    lambda x: orders[\n",
    "        np.logical_and(\n",
    "            orders['date'] <= x['date'], orders['group'] == x['group']\n",
    "        )\n",
    "    ].agg(\n",
    "        {\n",
    "            'date': 'max',\n",
    "            'group': 'max',\n",
    "            'transactionId': 'nunique',\n",
    "            'visitorId': 'nunique',\n",
    "            'revenue': 'sum',\n",
    "        }\n",
    "    ),\n",
    "    axis=1,\n",
    ").sort_values(by=['date', 'group'])\n",
    "\n",
    "visitorsAggregated = datesGroups.apply(\n",
    "    lambda x: visitors[\n",
    "        np.logical_and(\n",
    "            visitors['date'] <= x['date'], visitors['group'] == x['group']\n",
    "        )\n",
    "    ].agg({'date': 'max', 'group': 'max', 'visitors': 'sum'}),\n",
    "    axis=1,\n",
    ").sort_values(by=['date', 'group'])\n",
    "\n",
    "cumulativeData = ordersAggregated.merge(\n",
    "    visitorsAggregated, left_on=['date', 'group'], right_on=['date', 'group']\n",
    ")\n",
    "cumulativeData.columns = [\n",
    "    'date',\n",
    "    'group',\n",
    "    'orders',\n",
    "    'buyers',\n",
    "    'revenue',\n",
    "    'visitors',\n",
    "]\n",
    "# датафрейм с кумулятивным количеством заказов и кумулятивной выручкой по дням в группе А\n",
    "cumulativeRevenueA = cumulativeData[cumulativeData['group'] == 'A'][['date', 'revenue', 'orders']]\n",
    "# датафрейм с кумулятивным количеством заказов и кумулятивной выручкой по дням в группе B\n",
    "cumulativeRevenueB = cumulativeData[cumulativeData['group'] == 'B'][['date', 'revenue', 'orders']]\n",
    "\n",
    "plt.figure(figsize=(10, 5))\n",
    "# Строим график выручки группы А\n",
    "plt.plot(cumulativeRevenueA['date'], cumulativeRevenueA['revenue'], label='A')\n",
    "# Строим график выручки группы B\n",
    "plt.plot(cumulativeRevenueB['date'], cumulativeRevenueB['revenue'], label='B')\n",
    "plt.legend()\n",
    "plt.title('График кумулятивной выручки по группам')\n",
    "plt.xlabel('Дата')\n",
    "plt.ylabel('Выручка')\n",
    "plt.show()"
   ]
  },
  {
   "cell_type": "markdown",
   "metadata": {},
   "source": [
    "По графикам можно наблюдать, что выручка группы В стабильно выше выручки группы А. Также заметен резкий скачок группы В примерно 18 августа, скорее всего из-за какого-то крупного заказа."
   ]
  },
  {
   "cell_type": "markdown",
   "metadata": {},
   "source": [
    "### График кумулятивного среднего чека по группам."
   ]
  },
  {
   "cell_type": "code",
   "execution_count": 13,
   "metadata": {},
   "outputs": [
    {
     "data": {
      "image/png": "[encoded data removed]",
      "text/plain": [
       "<Figure size 720x360 with 1 Axes>"
      ]
     },
     "metadata": {
      "needs_background": "light"
     },
     "output_type": "display_data"
    }
   ],
   "source": [
    "plt.figure(figsize=(10, 5))\n",
    "plt.plot(cumulativeRevenueA['date'], cumulativeRevenueA['revenue']/cumulativeRevenueA['orders'], label='A')\n",
    "plt.plot(cumulativeRevenueB['date'], cumulativeRevenueB['revenue']/cumulativeRevenueB['orders'], label='B')\n",
    "plt.legend()\n",
    "plt.title('График кумулятивного среднего чека по группам')\n",
    "plt.xlabel('Дата')\n",
    "plt.ylabel('Средний чек')\n",
    "plt.show()"
   ]
  },
  {
   "cell_type": "markdown",
   "metadata": {},
   "source": [
    "В период примерно с 10 по 14 августа средний чек группы В опустился ниже среднего чека группы А. И опять же резкое движение чека группы В вверх 18 августа, подтверждающее наличие крупного заказа в тот день."
   ]
  },
  {
   "cell_type": "markdown",
   "metadata": {},
   "source": [
    "### График относительного изменения кумулятивного среднего чека группы B к группе A."
   ]
  },
  {
   "cell_type": "code",
   "execution_count": 14,
   "metadata": {},
   "outputs": [
    {
     "data": {
      "image/png": "[encoded data removed]",
      "text/plain": [
       "<Figure size 720x360 with 1 Axes>"
      ]
     },
     "metadata": {
      "needs_background": "light"
     },
     "output_type": "display_data"
    }
   ],
   "source": [
    "mergedCumulativeRevenue = cumulativeRevenueA.merge(cumulativeRevenueB, left_on='date', right_on='date', how='left', suffixes=['A', 'B'])\n",
    "plt.figure(figsize=(10, 5))\n",
    "plt.plot(mergedCumulativeRevenue['date'], (mergedCumulativeRevenue['revenueB']/mergedCumulativeRevenue['ordersB'])/ (mergedCumulativeRevenue['revenueA']/mergedCumulativeRevenue['ordersA']) - 1)\n",
    "plt.axhline(y=0, color='black', linestyle='--')\n",
    "plt.title('График относительного изменения кумулятивного среднего чека группы B к группе A')\n",
    "plt.xlabel('Дата')\n",
    "plt.ylabel('Относительное изм-е среднего чека группы В к А')\n",
    "plt.show()"
   ]
  },
  {
   "cell_type": "markdown",
   "metadata": {},
   "source": [
    "Мы видим, как сильно меняются значения в определенные даты. Веротяно из-за аномальных заказов"
   ]
  },
  {
   "cell_type": "markdown",
   "metadata": {},
   "source": [
    "### График кумулятивного среднего количества заказов на посетителя по группам."
   ]
  },
  {
   "cell_type": "code",
   "execution_count": 15,
   "metadata": {},
   "outputs": [
    {
     "data": {
      "image/png": "[encoded data removed]",
      "text/plain": [
       "<Figure size 720x360 with 1 Axes>"
      ]
     },
     "metadata": {
      "needs_background": "light"
     },
     "output_type": "display_data"
    }
   ],
   "source": [
    "plt.figure(figsize=(10, 5))\n",
    "cumulativeData['conversion'] = cumulativeData['orders']/cumulativeData['visitors']\n",
    "cumulativeDataA = cumulativeData[cumulativeData['group'] == 'A']\n",
    "cumulativeDataB = cumulativeData[cumulativeData['group'] == 'B']\n",
    "\n",
    "plt.plot(cumulativeDataA['date'], cumulativeDataA['conversion'], label='A')\n",
    "plt.plot(cumulativeDataB['date'], cumulativeDataB['conversion'], label='B')\n",
    "plt.legend()\n",
    "plt.title('График кумулятивного среднего количества заказов на посетителя по группам')\n",
    "plt.xlabel('Дата')\n",
    "plt.ylabel('Конверсия')\n",
    "plt.show()"
   ]
  },
  {
   "cell_type": "markdown",
   "metadata": {},
   "source": [
    "Кумулятивная среднее количество заказов на посетителя группы В стабильно выше, чем у группы А."
   ]
  },
  {
   "cell_type": "markdown",
   "metadata": {},
   "source": [
    "### График относительного изменения кумулятивного среднего количества заказов на посетителя группы B к группе A."
   ]
  },
  {
   "cell_type": "code",
   "execution_count": 16,
   "metadata": {},
   "outputs": [
    {
     "data": {
      "image/png": "[encoded data removed]",
      "text/plain": [
       "<Figure size 720x360 with 1 Axes>"
      ]
     },
     "metadata": {
      "needs_background": "light"
     },
     "output_type": "display_data"
    }
   ],
   "source": [
    "mergedCumulativeConversions = ( cumulativeDataA[['date','conversion']]\n",
    "    .merge(cumulativeDataB[['date','conversion']], left_on='date', right_on='date', how='left', suffixes=['A', 'B'])\n",
    "                              )\n",
    "plt.figure(figsize=(10, 5))\n",
    "plt.plot(mergedCumulativeConversions['date'], \n",
    "        mergedCumulativeConversions['conversionB']/mergedCumulativeConversions['conversionA']-1,\n",
    "        label=\"Относительный прирост конверсии группы B относительно группы A\")\n",
    "plt.legend()\n",
    "plt.axhline(y=0, color='black', linestyle='--')\n",
    "plt.title('График отн изм-я кумулятивного ср. кол-ва заказов на посетителя группы B к группе A')\n",
    "plt.xlabel('Дата')\n",
    "plt.ylabel('Относительное изм-е конверсии группы В к А')\n",
    "plt.show()"
   ]
  },
  {
   "cell_type": "markdown",
   "metadata": {},
   "source": [
    "Почти с самого начала конверсия группы В выше группы А и преимущество продожает колебаться в районе 10-15%"
   ]
  },
  {
   "cell_type": "markdown",
   "metadata": {},
   "source": [
    "### Точечный график количества заказов по пользователям."
   ]
  },
  {
   "cell_type": "code",
   "execution_count": 17,
   "metadata": {},
   "outputs": [
    {
     "name": "stdout",
     "output_type": "stream",
     "text": [
      "       visitorId  transactions\n",
      "1023  4256040402            11\n",
      "591   2458001652            11\n",
      "569   2378935119             9\n",
      "487   2038680547             8\n",
      "44     199603092             5\n",
      "744   3062433592             5\n",
      "55     237748145             5\n",
      "917   3803269165             5\n",
      "299   1230306981             5\n",
      "897   3717692402             5\n"
     ]
    },
    {
     "data": {
      "image/png": "[encoded data removed]",
      "text/plain": [
       "<Figure size 432x288 with 1 Axes>"
      ]
     },
     "metadata": {
      "needs_background": "light"
     },
     "output_type": "display_data"
    }
   ],
   "source": [
    "ordersByUsers = (\n",
    "    orders.groupby('visitorId', as_index=False)\n",
    "    .agg({'transactionId': 'nunique'})\n",
    ")\n",
    "ordersByUsers.columns = ['visitorId', 'transactions']\n",
    "\n",
    "print(ordersByUsers.sort_values(by='transactions', ascending=False).head(10))\n",
    "\n",
    "# серия из чисел от 0 до количества наблюдений в ordersByUsers\n",
    "x_values = pd.Series(range(0, len(ordersByUsers)))\n",
    "plt.scatter(x_values, ordersByUsers['transactions'])\n",
    "plt.title('График количества заказов по пользователям')\n",
    "plt.xlabel('Количество пользователей')\n",
    "plt.ylabel('Число заказов на пользователя')\n",
    "plt.show()"
   ]
  },
  {
   "cell_type": "markdown",
   "metadata": {},
   "source": [
    "Основная масса пользователей делает 1-2 заказа."
   ]
  },
  {
   "cell_type": "markdown",
   "metadata": {},
   "source": [
    "### 95-й и 99-й перцентили количества заказов на пользователя."
   ]
  },
  {
   "cell_type": "code",
   "execution_count": 18,
   "metadata": {},
   "outputs": [
    {
     "name": "stdout",
     "output_type": "stream",
     "text": [
      "[1. 2. 4.]\n"
     ]
    }
   ],
   "source": [
    "print(np.percentile(ordersByUsers['transactions'], [90, 95, 99]))"
   ]
  },
  {
   "cell_type": "markdown",
   "metadata": {},
   "source": [
    "То есть всего 5% пользователей делают больше 2 заказов, и 1% пользователей делает более 4 заказов.  Тех, кто совершил от 2 заказов и более будем считать за аномальных."
   ]
  },
  {
   "cell_type": "markdown",
   "metadata": {},
   "source": [
    "### Точечный график стоимостей заказов."
   ]
  },
  {
   "cell_type": "code",
   "execution_count": 19,
   "metadata": {},
   "outputs": [
    {
     "name": "stdout",
     "output_type": "stream",
     "text": [
      "count    1.197000e+03\n",
      "mean     8.348006e+03\n",
      "std      3.919113e+04\n",
      "min      5.000000e+01\n",
      "25%      1.220000e+03\n",
      "50%      2.978000e+03\n",
      "75%      8.290000e+03\n",
      "max      1.294500e+06\n",
      "Name: revenue, dtype: float64\n"
     ]
    },
    {
     "data": {
      "image/png": "[encoded data removed]",
      "text/plain": [
       "<Figure size 432x288 with 1 Axes>"
      ]
     },
     "metadata": {
      "needs_background": "light"
     },
     "output_type": "display_data"
    }
   ],
   "source": [
    "x_values = pd.Series(range(0, len(orders['revenue'])))\n",
    "print(orders['revenue'].describe())\n",
    "\n",
    "plt.scatter(x_values, orders['revenue'])\n",
    "plt.title('График стоимостей заказов')\n",
    "plt.xlabel('Количество пользователей')\n",
    "plt.ylabel('Сумма заказа')\n",
    "plt.show()"
   ]
  },
  {
   "cell_type": "markdown",
   "metadata": {},
   "source": [
    "В большинстве случаев стоимость заказов менее 10 тысяч. Виден 1 заказ размером более 1.2 млн - вот он тот самый выброс в группе В"
   ]
  },
  {
   "cell_type": "markdown",
   "metadata": {},
   "source": [
    "### 95-й и 99-й перцентили стоимости заказов."
   ]
  },
  {
   "cell_type": "code",
   "execution_count": 20,
   "metadata": {},
   "outputs": [
    {
     "name": "stdout",
     "output_type": "stream",
     "text": [
      "[18168.  28000.  58233.2]\n"
     ]
    }
   ],
   "source": [
    "print(np.percentile(orders['revenue'], [90, 95, 99]))"
   ]
  },
  {
   "cell_type": "markdown",
   "metadata": {},
   "source": [
    "90% заказов суммой до 18168, заказы от 28000 будем считать аномальными."
   ]
  },
  {
   "cell_type": "markdown",
   "metadata": {},
   "source": [
    "### Статистическая значимость различий в среднем количестве заказов на посетителя между группами по «сырым» данным. "
   ]
  },
  {
   "cell_type": "code",
   "execution_count": 21,
   "metadata": {
    "scrolled": false
   },
   "outputs": [
    {
     "name": "stdout",
     "output_type": "stream",
     "text": [
      "        date  ordersPerDateA  revenuePerDateA  ordersPerDateB  \\\n",
      "0 2019-08-01              24           148579              20   \n",
      "1 2019-08-02              20            93822              23   \n",
      "2 2019-08-03              24           112473              16   \n",
      "3 2019-08-04              16            70825              16   \n",
      "4 2019-08-05              25           124218              23   \n",
      "\n",
      "   revenuePerDateB  ordersCummulativeA  revenueCummulativeA  \\\n",
      "0           101217                  24               148579   \n",
      "1           165531                  44               242401   \n",
      "2           114248                  68               354874   \n",
      "3           108571                  84               425699   \n",
      "4            92428                 109               549917   \n",
      "\n",
      "   ordersCummulativeB  revenueCummulativeB  visitorsPerDateA  \\\n",
      "0                  20               101217               719   \n",
      "1                  43               266748               619   \n",
      "2                  59               380996               507   \n",
      "3                  75               489567               717   \n",
      "4                  98               581995               756   \n",
      "\n",
      "   visitorsPerDateB  visitorsCummulativeA  visitorsCummulativeB  \n",
      "0               713                   719                   713  \n",
      "1               581                  1338                  1294  \n",
      "2               509                  1845                  1803  \n",
      "3               770                  2562                  2573  \n",
      "4               707                  3318                  3280  \n"
     ]
    }
   ],
   "source": [
    "visitorsADaily = visitors[visitors['group'] == 'A'][['date', 'visitors']]\n",
    "visitorsADaily.columns = ['date', 'visitorsPerDateA']\n",
    "\n",
    "visitorsACummulative = visitorsADaily.apply(\n",
    "    lambda x: visitorsADaily[visitorsADaily['date'] <= x['date']].agg(\n",
    "        {'date': 'max', 'visitorsPerDateA': 'sum'}\n",
    "    ),\n",
    "    axis=1,\n",
    ")\n",
    "visitorsACummulative.columns = ['date', 'visitorsCummulativeA']\n",
    "\n",
    "visitorsBDaily = visitors[visitors['group'] == 'B'][['date', 'visitors']]\n",
    "visitorsBDaily.columns = ['date', 'visitorsPerDateB']\n",
    "\n",
    "visitorsBCummulative = visitorsBDaily.apply(\n",
    "    lambda x: visitorsBDaily[visitorsBDaily['date'] <= x['date']].agg(\n",
    "        {'date': 'max', 'visitorsPerDateB': 'sum'}\n",
    "    ),\n",
    "    axis=1,\n",
    ")\n",
    "visitorsBCummulative.columns = ['date', 'visitorsCummulativeB']\n",
    "\n",
    "ordersADaily = (\n",
    "    orders[orders['group'] == 'A'][['date', 'transactionId', 'visitorId', 'revenue']]\n",
    "    .groupby('date', as_index=False)\n",
    "    .agg({'transactionId': pd.Series.nunique, 'revenue': 'sum'})\n",
    ")\n",
    "ordersADaily.columns = ['date', 'ordersPerDateA', 'revenuePerDateA']\n",
    "\n",
    "ordersACummulative = ordersADaily.apply(\n",
    "    lambda x: ordersADaily[ordersADaily['date'] <= x['date']].agg(\n",
    "        {'date': 'max', 'ordersPerDateA': 'sum', 'revenuePerDateA': 'sum'}\n",
    "    ),\n",
    "    axis=1,\n",
    ").sort_values(by=['date'])\n",
    "ordersACummulative.columns = [\n",
    "    'date',\n",
    "    'ordersCummulativeA',\n",
    "    'revenueCummulativeA',\n",
    "]\n",
    "\n",
    "ordersBDaily = (\n",
    "    orders[orders['group'] == 'B'][['date', 'transactionId', 'visitorId', 'revenue']]\n",
    "    .groupby('date', as_index=False)\n",
    "    .agg({'visitorId': pd.Series.nunique, 'revenue': 'sum'})\n",
    ")\n",
    "ordersBDaily.columns = ['date', 'ordersPerDateB', 'revenuePerDateB']\n",
    "\n",
    "ordersBCummulative = ordersBDaily.apply(\n",
    "    lambda x: ordersBDaily[ordersBDaily['date'] <= x['date']].agg(\n",
    "        {'date': 'max', 'ordersPerDateB': 'sum', 'revenuePerDateB': 'sum'}\n",
    "    ),\n",
    "    axis=1,\n",
    ").sort_values(by=['date'])\n",
    "ordersBCummulative.columns = [\n",
    "    'date',\n",
    "    'ordersCummulativeB',\n",
    "    'revenueCummulativeB',\n",
    "]\n",
    "\n",
    "data = (\n",
    "    ordersADaily.merge(\n",
    "        ordersBDaily, left_on='date', right_on='date', how='left'\n",
    "    )\n",
    "    .merge(ordersACummulative, left_on='date', right_on='date', how='left')\n",
    "    .merge(ordersBCummulative, left_on='date', right_on='date', how='left')\n",
    "    .merge(visitorsADaily, left_on='date', right_on='date', how='left')\n",
    "    .merge(visitorsBDaily, left_on='date', right_on='date', how='left')\n",
    "    .merge(visitorsACummulative, left_on='date', right_on='date', how='left')\n",
    "    .merge(visitorsBCummulative, left_on='date', right_on='date', how='left')\n",
    ")\n",
    "\n",
    "print(data.head(5))\n",
    "\n",
    "# Создадим переменные ordersByUsersA и ordersByUsersB со столбцами ['visitorId', 'transactionId']. \n",
    "# В них для пользователей, которые заказывали хотя бы 1 раз, укажем число совершённых заказов. \n",
    "ordersByUsersA = (\n",
    "    orders[orders['group'] == 'A']\n",
    "    .groupby('visitorId', as_index=False)\n",
    "    .agg({'transactionId': pd.Series.nunique})\n",
    ")\n",
    "ordersByUsersA.columns = ['visitorId', 'orders']  \n",
    "    \n",
    "ordersByUsersB = (\n",
    "    orders[orders['group'] == 'B']\n",
    "    .groupby('visitorId', as_index=False)\n",
    "    .agg({'transactionId': pd.Series.nunique})\n",
    ")\n",
    "ordersByUsersB.columns = ['visitorId', 'orders']"
   ]
  },
  {
   "cell_type": "markdown",
   "metadata": {},
   "source": [
    "Сформулируем гипотезы:\n",
    "- Н0 : статистически значимых различий в конверсии между группами нет\n",
    "- Н1 : статистически значимые различия в конверсии между группами есть\n",
    "    "
   ]
  },
  {
   "cell_type": "code",
   "execution_count": 22,
   "metadata": {},
   "outputs": [
    {
     "name": "stdout",
     "output_type": "stream",
     "text": [
      "0.017\n",
      "0.138\n"
     ]
    }
   ],
   "source": [
    "# Объявим переменные sampleA и sampleB, в которых пользователям из разных групп будет соответствовать количество заказов. \n",
    "# Тем, кто ничего не заказал, будут соответствовать нули. \n",
    "sampleA = pd.concat(\n",
    "    [ordersByUsersA['orders'],\n",
    "    pd.Series(0, index=np.arange(data['visitorsPerDateA'].sum() - len(ordersByUsersA['orders'])),\n",
    "    name='orders')],\n",
    "    axis=0)\n",
    "\n",
    "sampleB = pd.concat(\n",
    "    [ordersByUsersB['orders'],\n",
    "    pd.Series(0, index=np.arange(data['visitorsPerDateB'].sum() - len(ordersByUsersB['orders'])),\n",
    "    name='orders')],\n",
    "    axis=0)\n",
    "\n",
    "# Применим критерий и отформатируем p-value, округлив его до трёх знаков после запятой.\n",
    "print(\"{0:.3f}\".format(stats.mannwhitneyu(sampleA, sampleB)[1]))\n",
    "# Выведем относительный прирост среднего числа заказов группы B.\n",
    "print(\"{0:.3f}\".format(sampleB.mean() / sampleA.mean() - 1))"
   ]
  },
  {
   "cell_type": "markdown",
   "metadata": {},
   "source": [
    "Таким образом, по сырым данным значение p-value 0.017, что меньше уровня статистической значимости, значит, гипотезу о том, что различий в среднем количестве заказов на посетителя между группами нет (H0), отвергаем. Относительная разница в конверсии между группами В и А составила 13,8%."
   ]
  },
  {
   "cell_type": "markdown",
   "metadata": {},
   "source": [
    "### Статистическая значимость различий в среднем чеке заказа между группами по «сырым» данным."
   ]
  },
  {
   "cell_type": "markdown",
   "metadata": {},
   "source": [
    "Гипотезы:\n",
    "- Н0 : статистически значимых различий в среднем чеке между группами нет\n",
    "- Н1 : статистически значимые различия в среднем чеке между группами есть"
   ]
  },
  {
   "cell_type": "code",
   "execution_count": 23,
   "metadata": {},
   "outputs": [
    {
     "name": "stdout",
     "output_type": "stream",
     "text": [
      "0.729\n",
      "0.259\n"
     ]
    }
   ],
   "source": [
    "# Чтобы рассчитать статистическую значимость различий в среднем чеке, \n",
    "# передадим критерию mannwhitneyu() данные о выручке с заказов. \n",
    "print('{0:.3f}'.format(stats.mannwhitneyu(orders[orders['group']=='A']['revenue'], orders[orders['group']=='B']['revenue'])[1]))\n",
    "# А ещё найдём относительные различия в среднем чеке между группами.\n",
    "print(\"{0:.3f}\".format(orders[orders['group'] == 'B']['revenue'].mean() / orders[orders['group'] == 'A']['revenue'].mean() - 1))"
   ]
  },
  {
   "cell_type": "markdown",
   "metadata": {},
   "source": [
    "P-value значительно больше 0.05, статистически значимых отличий между средними чеками групп нет (не удалось отвергнуть H0). Относительное различие между чеками почти 26%."
   ]
  },
  {
   "cell_type": "markdown",
   "metadata": {},
   "source": [
    "### Статистическая значимость различий в среднем количестве заказов на посетителя между группами по «очищенным» данным. "
   ]
  },
  {
   "cell_type": "code",
   "execution_count": 24,
   "metadata": {},
   "outputs": [
    {
     "name": "stdout",
     "output_type": "stream",
     "text": [
      "1099    148427295\n",
      "18      199603092\n",
      "928     204675465\n",
      "23      237748145\n",
      "37      249864742\n",
      "Name: visitorId, dtype: int64\n",
      "74\n"
     ]
    }
   ],
   "source": [
    "# Сделаем срезы пользователей с числом заказов больше 3 — usersWithManyOrders \n",
    "# и пользователей, совершивших заказы дороже 28 000 — usersWithExpensiveOrders. \n",
    "# Объединим их в таблице abnormalUsers. \n",
    "usersWithManyOrders = pd.concat(\n",
    "    [\n",
    "        ordersByUsersA[ordersByUsersA['orders'] > 2]['visitorId'],\n",
    "        ordersByUsersB[ordersByUsersB['orders'] > 2]['visitorId']\n",
    "    ],\n",
    "    axis = 0\n",
    ")\n",
    "\n",
    "usersWithExpensiveOrders = orders[orders['revenue'] > 28000]['visitorId']\n",
    "abnormalUsers = (\n",
    "    pd.concat([usersWithManyOrders, usersWithExpensiveOrders], axis=0)\n",
    "    .drop_duplicates()\n",
    "    .sort_values()\n",
    ")\n",
    "print(abnormalUsers.head())\n",
    "print(len(abnormalUsers))"
   ]
  },
  {
   "cell_type": "markdown",
   "metadata": {},
   "source": [
    "Также выдвинем гипотезы\n",
    "- Н0 : по очщенным данным статистически значимых различий в конверсии между группами нет\n",
    "- Н1 : статистически значимые различия в конверсии между группами есть"
   ]
  },
  {
   "cell_type": "code",
   "execution_count": 25,
   "metadata": {},
   "outputs": [
    {
     "name": "stdout",
     "output_type": "stream",
     "text": [
      "0.013\n",
      "0.173\n"
     ]
    }
   ],
   "source": [
    "# Посчитаем статистическую значимость различий в среднем количестве заказов между группами теста по очищенным данным. \n",
    "# Сначала подготовим выборки количества заказов по пользователям по группам теста\n",
    "sampleAFiltered = pd.concat(\n",
    "    [\n",
    "        ordersByUsersA[\n",
    "            np.logical_not(ordersByUsersA['visitorId'].isin(abnormalUsers))\n",
    "        ]['orders'],\n",
    "        pd.Series(\n",
    "        0, index=np.arange(\n",
    "                data['visitorsPerDateA'].sum() - len(ordersByUsersA['orders'])\n",
    "        ),\n",
    "        name='orders',\n",
    "        ),\n",
    "    ],\n",
    "    axis=0,\n",
    ")\n",
    "    \n",
    "sampleBFiltered = pd.concat(\n",
    "    [\n",
    "        ordersByUsersB[\n",
    "            np.logical_not(ordersByUsersB['visitorId'].isin(abnormalUsers))\n",
    "        ]['orders'],\n",
    "        pd.Series(\n",
    "        0, index=np.arange(\n",
    "                data['visitorsPerDateB'].sum() - len(ordersByUsersB['orders'])\n",
    "        ),\n",
    "        name='orders',\n",
    "        ),\n",
    "    ],\n",
    "    axis=0,\n",
    ")\n",
    "\n",
    "print('{0:.3f}'.format(stats.mannwhitneyu(sampleAFiltered, sampleBFiltered)[1]))\n",
    "print('{0:.3f}'.format(sampleBFiltered.mean()/sampleAFiltered.mean()-1))"
   ]
  },
  {
   "cell_type": "markdown",
   "metadata": {},
   "source": [
    "Как и в случае с сырыми данными, статистическая значимость достигнута (отвергаем H0). Группа В начительно лучше группы А."
   ]
  },
  {
   "cell_type": "markdown",
   "metadata": {},
   "source": [
    "### Статистическая значимость различий в среднем чеке заказа между группами по «очищенным» данным."
   ]
  },
  {
   "cell_type": "markdown",
   "metadata": {},
   "source": [
    "Гипотезы:\n",
    "- Н0 : по очищенным данным статистически значимых различий в среднем чеке между группами нет\n",
    "- Н1 : статистически значимые различия в среднем чеке между группами есть"
   ]
  },
  {
   "cell_type": "code",
   "execution_count": 26,
   "metadata": {},
   "outputs": [
    {
     "name": "stdout",
     "output_type": "stream",
     "text": [
      "0.738\n",
      "-0.020\n"
     ]
    }
   ],
   "source": [
    "# Так же посчитаем статистическую значимость различий в среднем количестве заказов между группами теста по очищенным данным.\n",
    "print(\n",
    "    '{0:.3f}'.format(\n",
    "        stats.mannwhitneyu(\n",
    "            orders[\n",
    "                np.logical_and(\n",
    "                    orders['group'] == 'A',\n",
    "                    np.logical_not(orders['visitorId'].isin(abnormalUsers)),\n",
    "                )\n",
    "            ]['revenue'],\n",
    "            orders[\n",
    "                np.logical_and(\n",
    "                    orders['group'] == 'B',\n",
    "                    np.logical_not(orders['visitorId'].isin(abnormalUsers)),\n",
    "                )\n",
    "            ]['revenue'],\n",
    "        )[1]\n",
    "    )\n",
    ")\n",
    "\n",
    "print(\n",
    "    \"{0:.3f}\".format(\n",
    "        orders[\n",
    "            np.logical_and(\n",
    "                orders['group'] == 'B',\n",
    "                np.logical_not(orders['visitorId'].isin(abnormalUsers)),\n",
    "            )\n",
    "        ]['revenue'].mean()\n",
    "        / orders[\n",
    "            np.logical_and(\n",
    "                orders['group'] == 'A',\n",
    "                np.logical_not(orders['visitorId'].isin(abnormalUsers)),\n",
    "            )\n",
    "        ]['revenue'].mean()\n",
    "        - 1\n",
    "    )\n",
    ")"
   ]
  },
  {
   "cell_type": "markdown",
   "metadata": {},
   "source": [
    "Нет статистически значимого различия по среднему чеку между группами ни по «сырым», ни по данным после фильтрации аномалий. А вот разница сократилась до 2%."
   ]
  },
  {
   "cell_type": "markdown",
   "metadata": {},
   "source": [
    "### Результаты теста."
   ]
  },
  {
   "cell_type": "markdown",
   "metadata": {},
   "source": [
    "Тест можно остановить и признать его успешным. По реузльатам теста мы увидели, что куммулятивная выручка группы В стабильно выше выручки группы А. То же самое можно сказать и о конверсии: группа В опережает группу А.\n",
    "\n",
    "При проведении теста было обнаружено, что гипотеза о равенстве конверсии между группами отвергнута: относительная разница конверсии группы В по очищенным данным на 14.8% больше, чем в группе А.\n",
    "\n",
    "Гипотеза об отсутствии различий в сумме среднего чека между группами не была отвергнута, относительная разница между группами составила 2% после исключения выбросов."
   ]
  },
  {
   "cell_type": "markdown",
   "metadata": {},
   "source": [
    "## Общий вывод"
   ]
  },
  {
   "cell_type": "markdown",
   "metadata": {},
   "source": [
    "В ходе исследования с помощью фреймворка RICE была выделена наиболее приоритетная гипотеза №8: \"Добавить форму подписки на все основные страницы, чтобы собрать базу клиентов для email-рассылок\".\n",
    "По результатам А/В-теста было установлено отсутствие отличий в среднем чеке групп, но обнаружено, что выручка и конверсия группы В превосходит значения группы А. Было принято решение остановить тест и признать его успешным."
   ]
  },
  {
   "cell_type": "code",
   "execution_count": null,
   "metadata": {},
   "outputs": [],
   "source": []
  }
 ],
 "metadata": {
  "ExecuteTimeLog": [
   {
    "duration": 50,
    "start_time": "2023-02-25T08:33:25.595Z"
   },
   {
    "duration": 745,
    "start_time": "2023-02-25T08:39:47.572Z"
   },
   {
    "duration": 187,
    "start_time": "2023-02-25T08:44:26.441Z"
   },
   {
    "duration": 22,
    "start_time": "2023-02-25T08:45:37.254Z"
   },
   {
    "duration": 16,
    "start_time": "2023-02-25T08:46:43.071Z"
   },
   {
    "duration": 17,
    "start_time": "2023-02-25T08:48:15.663Z"
   },
   {
    "duration": 5,
    "start_time": "2023-02-25T08:55:34.981Z"
   },
   {
    "duration": 10,
    "start_time": "2023-02-25T09:01:05.151Z"
   },
   {
    "duration": 12,
    "start_time": "2023-02-25T09:04:01.247Z"
   },
   {
    "duration": 7,
    "start_time": "2023-02-25T09:04:09.052Z"
   },
   {
    "duration": 15,
    "start_time": "2023-02-25T09:05:41.107Z"
   },
   {
    "duration": 6,
    "start_time": "2023-02-25T09:08:44.891Z"
   },
   {
    "duration": 5,
    "start_time": "2023-02-25T09:11:50.423Z"
   },
   {
    "duration": 6,
    "start_time": "2023-02-25T09:12:13.200Z"
   },
   {
    "duration": 7,
    "start_time": "2023-02-25T09:13:12.339Z"
   },
   {
    "duration": 631,
    "start_time": "2023-02-25T09:13:19.012Z"
   },
   {
    "duration": 66,
    "start_time": "2023-02-25T09:13:19.645Z"
   },
   {
    "duration": 19,
    "start_time": "2023-02-25T09:13:19.713Z"
   },
   {
    "duration": 16,
    "start_time": "2023-02-25T09:13:19.734Z"
   },
   {
    "duration": 8,
    "start_time": "2023-02-25T09:13:19.753Z"
   },
   {
    "duration": 15,
    "start_time": "2023-02-25T09:13:19.763Z"
   },
   {
    "duration": 6,
    "start_time": "2023-02-25T09:13:19.780Z"
   },
   {
    "duration": 40,
    "start_time": "2023-02-25T09:13:19.787Z"
   },
   {
    "duration": 6,
    "start_time": "2023-02-25T09:13:19.828Z"
   },
   {
    "duration": 615,
    "start_time": "2023-02-25T09:14:47.466Z"
   },
   {
    "duration": 64,
    "start_time": "2023-02-25T09:14:48.083Z"
   },
   {
    "duration": 19,
    "start_time": "2023-02-25T09:14:48.149Z"
   },
   {
    "duration": 15,
    "start_time": "2023-02-25T09:14:48.169Z"
   },
   {
    "duration": 8,
    "start_time": "2023-02-25T09:14:48.186Z"
   },
   {
    "duration": 23,
    "start_time": "2023-02-25T09:14:48.195Z"
   },
   {
    "duration": 26,
    "start_time": "2023-02-25T09:14:48.220Z"
   },
   {
    "duration": 7,
    "start_time": "2023-02-25T09:14:48.248Z"
   },
   {
    "duration": 6,
    "start_time": "2023-02-25T09:14:48.257Z"
   },
   {
    "duration": 5,
    "start_time": "2023-02-25T09:15:15.910Z"
   },
   {
    "duration": 10,
    "start_time": "2023-02-25T09:25:53.391Z"
   },
   {
    "duration": 10,
    "start_time": "2023-02-25T09:29:05.151Z"
   },
   {
    "duration": 11,
    "start_time": "2023-02-25T09:30:19.685Z"
   },
   {
    "duration": 619,
    "start_time": "2023-02-25T15:24:25.895Z"
   },
   {
    "duration": 68,
    "start_time": "2023-02-25T15:24:26.516Z"
   },
   {
    "duration": 18,
    "start_time": "2023-02-25T15:24:26.586Z"
   },
   {
    "duration": 14,
    "start_time": "2023-02-25T15:24:26.606Z"
   },
   {
    "duration": 7,
    "start_time": "2023-02-25T15:24:26.622Z"
   },
   {
    "duration": 40,
    "start_time": "2023-02-25T15:24:26.631Z"
   },
   {
    "duration": 5,
    "start_time": "2023-02-25T15:24:26.672Z"
   },
   {
    "duration": 5,
    "start_time": "2023-02-25T15:24:26.679Z"
   },
   {
    "duration": 12,
    "start_time": "2023-02-25T15:24:26.685Z"
   },
   {
    "duration": 9,
    "start_time": "2023-02-25T15:24:26.699Z"
   },
   {
    "duration": 106,
    "start_time": "2023-02-25T15:24:26.710Z"
   },
   {
    "duration": 621,
    "start_time": "2023-02-25T15:28:18.255Z"
   },
   {
    "duration": 490,
    "start_time": "2023-02-25T15:29:59.514Z"
   },
   {
    "duration": 467,
    "start_time": "2023-02-25T15:30:10.851Z"
   },
   {
    "duration": 559,
    "start_time": "2023-02-25T15:30:22.057Z"
   },
   {
    "duration": 537,
    "start_time": "2023-02-25T15:30:31.892Z"
   },
   {
    "duration": 169,
    "start_time": "2023-02-25T15:35:28.791Z"
   },
   {
    "duration": 186,
    "start_time": "2023-02-25T15:35:42.503Z"
   },
   {
    "duration": 292,
    "start_time": "2023-02-25T15:41:00.837Z"
   },
   {
    "duration": 328,
    "start_time": "2023-02-25T15:41:11.840Z"
   },
   {
    "duration": 653,
    "start_time": "2023-02-25T15:48:48.969Z"
   },
   {
    "duration": 678,
    "start_time": "2023-02-25T15:49:11.714Z"
   },
   {
    "duration": 173,
    "start_time": "2023-02-25T15:50:35.699Z"
   },
   {
    "duration": 215,
    "start_time": "2023-02-25T15:53:05.896Z"
   },
   {
    "duration": 167,
    "start_time": "2023-02-25T15:53:45.318Z"
   },
   {
    "duration": 276,
    "start_time": "2023-02-25T15:53:57.285Z"
   },
   {
    "duration": 232,
    "start_time": "2023-02-25T15:54:23.728Z"
   },
   {
    "duration": 9,
    "start_time": "2023-02-25T15:57:11.714Z"
   },
   {
    "duration": 45,
    "start_time": "2023-02-25T15:58:29.830Z"
   },
   {
    "duration": 42,
    "start_time": "2023-02-25T15:58:38.152Z"
   },
   {
    "duration": 293,
    "start_time": "2023-02-25T15:58:41.954Z"
   },
   {
    "duration": 336,
    "start_time": "2023-02-25T15:59:41.104Z"
   },
   {
    "duration": 305,
    "start_time": "2023-02-25T15:59:58.587Z"
   },
   {
    "duration": 317,
    "start_time": "2023-02-25T16:00:03.100Z"
   },
   {
    "duration": 301,
    "start_time": "2023-02-25T16:00:27.078Z"
   },
   {
    "duration": 289,
    "start_time": "2023-02-25T16:01:02.084Z"
   },
   {
    "duration": 8,
    "start_time": "2023-02-25T16:06:14.292Z"
   },
   {
    "duration": 12,
    "start_time": "2023-02-25T16:06:25.123Z"
   },
   {
    "duration": 116,
    "start_time": "2023-02-25T16:08:14.372Z"
   },
   {
    "duration": 14,
    "start_time": "2023-02-25T16:08:31.651Z"
   },
   {
    "duration": 735,
    "start_time": "2023-02-25T16:08:40.620Z"
   },
   {
    "duration": 763,
    "start_time": "2023-02-25T16:09:00.830Z"
   },
   {
    "duration": 115,
    "start_time": "2023-02-25T16:09:18.694Z"
   },
   {
    "duration": 4,
    "start_time": "2023-02-25T16:12:17.385Z"
   },
   {
    "duration": 9,
    "start_time": "2023-02-25T16:17:55.182Z"
   },
   {
    "duration": 706,
    "start_time": "2023-02-25T16:18:12.048Z"
   },
   {
    "duration": 129,
    "start_time": "2023-02-25T16:18:53.694Z"
   },
   {
    "duration": 122,
    "start_time": "2023-02-25T16:20:40.983Z"
   },
   {
    "duration": 210,
    "start_time": "2023-02-25T16:21:14.851Z"
   },
   {
    "duration": 128,
    "start_time": "2023-02-25T16:21:19.635Z"
   },
   {
    "duration": 123,
    "start_time": "2023-02-25T16:21:28.743Z"
   },
   {
    "duration": 124,
    "start_time": "2023-02-25T16:22:03.317Z"
   },
   {
    "duration": 126,
    "start_time": "2023-02-25T16:22:17.805Z"
   },
   {
    "duration": 130,
    "start_time": "2023-02-25T16:22:30.919Z"
   },
   {
    "duration": 4,
    "start_time": "2023-02-25T16:25:03.475Z"
   },
   {
    "duration": 153,
    "start_time": "2023-02-25T17:11:04.628Z"
   },
   {
    "duration": 215,
    "start_time": "2023-02-25T17:12:15.360Z"
   },
   {
    "duration": 238,
    "start_time": "2023-02-25T17:12:32.038Z"
   },
   {
    "duration": 224,
    "start_time": "2023-02-25T17:12:57.485Z"
   },
   {
    "duration": 231,
    "start_time": "2023-02-25T17:13:06.917Z"
   },
   {
    "duration": 348,
    "start_time": "2023-02-25T17:14:26.436Z"
   },
   {
    "duration": 1058,
    "start_time": "2023-02-25T17:14:56.531Z"
   },
   {
    "duration": 66,
    "start_time": "2023-02-25T17:14:57.591Z"
   },
   {
    "duration": 20,
    "start_time": "2023-02-25T17:14:57.658Z"
   },
   {
    "duration": 14,
    "start_time": "2023-02-25T17:14:57.680Z"
   },
   {
    "duration": 23,
    "start_time": "2023-02-25T17:14:57.696Z"
   },
   {
    "duration": 50,
    "start_time": "2023-02-25T17:14:57.721Z"
   },
   {
    "duration": 7,
    "start_time": "2023-02-25T17:14:57.773Z"
   },
   {
    "duration": 7,
    "start_time": "2023-02-25T17:14:57.781Z"
   },
   {
    "duration": 13,
    "start_time": "2023-02-25T17:14:57.789Z"
   },
   {
    "duration": 10,
    "start_time": "2023-02-25T17:14:57.803Z"
   },
   {
    "duration": 536,
    "start_time": "2023-02-25T17:14:57.815Z"
   },
   {
    "duration": 199,
    "start_time": "2023-02-25T17:14:58.352Z"
   },
   {
    "duration": 285,
    "start_time": "2023-02-25T17:14:58.553Z"
   },
   {
    "duration": 209,
    "start_time": "2023-02-25T17:14:58.840Z"
   },
   {
    "duration": 300,
    "start_time": "2023-02-25T17:14:59.051Z"
   },
   {
    "duration": 123,
    "start_time": "2023-02-25T17:14:59.353Z"
   },
   {
    "duration": 4,
    "start_time": "2023-02-25T17:14:59.478Z"
   },
   {
    "duration": 152,
    "start_time": "2023-02-25T17:14:59.484Z"
   },
   {
    "duration": 4,
    "start_time": "2023-02-25T17:14:59.638Z"
   },
   {
    "duration": 382,
    "start_time": "2023-02-25T17:14:59.643Z"
   },
   {
    "duration": 27,
    "start_time": "2023-02-25T17:16:15.405Z"
   },
   {
    "duration": 24,
    "start_time": "2023-02-25T17:19:20.153Z"
   },
   {
    "duration": 11,
    "start_time": "2023-02-25T17:22:16.113Z"
   },
   {
    "duration": 25,
    "start_time": "2023-02-25T17:22:40.664Z"
   },
   {
    "duration": 25,
    "start_time": "2023-02-25T17:24:44.360Z"
   },
   {
    "duration": 25,
    "start_time": "2023-02-25T17:25:04.331Z"
   },
   {
    "duration": 9,
    "start_time": "2023-02-25T17:30:57.962Z"
   },
   {
    "duration": 30,
    "start_time": "2023-02-25T17:32:07.540Z"
   },
   {
    "duration": 25,
    "start_time": "2023-02-25T17:32:12.764Z"
   },
   {
    "duration": 51,
    "start_time": "2023-02-25T17:37:28.150Z"
   },
   {
    "duration": 15,
    "start_time": "2023-02-25T17:39:00.142Z"
   },
   {
    "duration": 1115,
    "start_time": "2023-02-25T18:27:24.908Z"
   },
   {
    "duration": 68,
    "start_time": "2023-02-25T18:27:26.028Z"
   },
   {
    "duration": 23,
    "start_time": "2023-02-25T18:27:26.098Z"
   },
   {
    "duration": 16,
    "start_time": "2023-02-25T18:27:26.123Z"
   },
   {
    "duration": 8,
    "start_time": "2023-02-25T18:27:26.141Z"
   },
   {
    "duration": 36,
    "start_time": "2023-02-25T18:27:26.151Z"
   },
   {
    "duration": 6,
    "start_time": "2023-02-25T18:27:26.189Z"
   },
   {
    "duration": 11,
    "start_time": "2023-02-25T18:27:26.196Z"
   },
   {
    "duration": 28,
    "start_time": "2023-02-25T18:27:26.209Z"
   },
   {
    "duration": 12,
    "start_time": "2023-02-25T18:27:26.239Z"
   },
   {
    "duration": 575,
    "start_time": "2023-02-25T18:27:26.252Z"
   },
   {
    "duration": 190,
    "start_time": "2023-02-25T18:27:26.828Z"
   },
   {
    "duration": 291,
    "start_time": "2023-02-25T18:27:27.026Z"
   },
   {
    "duration": 217,
    "start_time": "2023-02-25T18:27:27.319Z"
   },
   {
    "duration": 305,
    "start_time": "2023-02-25T18:27:27.538Z"
   },
   {
    "duration": 126,
    "start_time": "2023-02-25T18:27:27.845Z"
   },
   {
    "duration": 5,
    "start_time": "2023-02-25T18:27:27.973Z"
   },
   {
    "duration": 154,
    "start_time": "2023-02-25T18:27:27.980Z"
   },
   {
    "duration": 4,
    "start_time": "2023-02-25T18:27:28.136Z"
   },
   {
    "duration": 347,
    "start_time": "2023-02-25T18:27:28.142Z"
   },
   {
    "duration": 36,
    "start_time": "2023-02-25T18:27:28.492Z"
   },
   {
    "duration": 10,
    "start_time": "2023-02-25T18:27:28.530Z"
   },
   {
    "duration": 12,
    "start_time": "2023-02-25T18:27:28.542Z"
   },
   {
    "duration": 30,
    "start_time": "2023-02-25T18:27:28.556Z"
   },
   {
    "duration": 15,
    "start_time": "2023-02-25T18:27:28.588Z"
   },
   {
    "duration": 1366,
    "start_time": "2023-02-26T14:53:45.225Z"
   },
   {
    "duration": 218,
    "start_time": "2023-02-26T14:53:46.593Z"
   },
   {
    "duration": 23,
    "start_time": "2023-02-26T14:53:46.813Z"
   },
   {
    "duration": 17,
    "start_time": "2023-02-26T14:53:46.838Z"
   },
   {
    "duration": 21,
    "start_time": "2023-02-26T14:53:46.857Z"
   },
   {
    "duration": 36,
    "start_time": "2023-02-26T14:53:46.880Z"
   },
   {
    "duration": 19,
    "start_time": "2023-02-26T14:53:46.918Z"
   },
   {
    "duration": 25,
    "start_time": "2023-02-26T14:53:46.939Z"
   },
   {
    "duration": 23,
    "start_time": "2023-02-26T14:53:46.966Z"
   },
   {
    "duration": 12,
    "start_time": "2023-02-26T14:53:46.993Z"
   },
   {
    "duration": 573,
    "start_time": "2023-02-26T14:53:47.007Z"
   },
   {
    "duration": 196,
    "start_time": "2023-02-26T14:53:47.582Z"
   },
   {
    "duration": 323,
    "start_time": "2023-02-26T14:53:47.780Z"
   },
   {
    "duration": 239,
    "start_time": "2023-02-26T14:53:48.105Z"
   },
   {
    "duration": 321,
    "start_time": "2023-02-26T14:53:48.346Z"
   },
   {
    "duration": 144,
    "start_time": "2023-02-26T14:53:48.669Z"
   },
   {
    "duration": 5,
    "start_time": "2023-02-26T14:53:48.815Z"
   },
   {
    "duration": 162,
    "start_time": "2023-02-26T14:53:48.822Z"
   },
   {
    "duration": 5,
    "start_time": "2023-02-26T14:53:48.985Z"
   },
   {
    "duration": 380,
    "start_time": "2023-02-26T14:53:48.992Z"
   },
   {
    "duration": 28,
    "start_time": "2023-02-26T14:53:49.374Z"
   },
   {
    "duration": 11,
    "start_time": "2023-02-26T14:53:49.404Z"
   },
   {
    "duration": 27,
    "start_time": "2023-02-26T14:53:49.417Z"
   },
   {
    "duration": 42,
    "start_time": "2023-02-26T14:53:49.446Z"
   },
   {
    "duration": 14,
    "start_time": "2023-02-26T14:53:49.490Z"
   },
   {
    "duration": 655,
    "start_time": "2023-02-26T15:06:34.901Z"
   },
   {
    "duration": 223,
    "start_time": "2023-02-26T15:07:30.148Z"
   },
   {
    "duration": 367,
    "start_time": "2023-02-26T15:07:58.101Z"
   },
   {
    "duration": 323,
    "start_time": "2023-02-26T15:08:10.054Z"
   },
   {
    "duration": 244,
    "start_time": "2023-02-26T15:08:37.625Z"
   },
   {
    "duration": 329,
    "start_time": "2023-02-26T15:09:06.855Z"
   },
   {
    "duration": 139,
    "start_time": "2023-02-26T15:10:06.357Z"
   },
   {
    "duration": 162,
    "start_time": "2023-02-26T15:10:55.008Z"
   },
   {
    "duration": 228,
    "start_time": "2023-02-26T15:11:06.761Z"
   },
   {
    "duration": 1123,
    "start_time": "2023-02-26T17:16:17.391Z"
   },
   {
    "duration": 73,
    "start_time": "2023-02-26T17:16:18.516Z"
   },
   {
    "duration": 21,
    "start_time": "2023-02-26T17:16:18.591Z"
   },
   {
    "duration": 16,
    "start_time": "2023-02-26T17:16:18.614Z"
   },
   {
    "duration": 16,
    "start_time": "2023-02-26T17:16:18.632Z"
   },
   {
    "duration": 21,
    "start_time": "2023-02-26T17:16:18.649Z"
   },
   {
    "duration": 5,
    "start_time": "2023-02-26T17:16:18.672Z"
   },
   {
    "duration": 11,
    "start_time": "2023-02-26T17:16:18.679Z"
   },
   {
    "duration": 14,
    "start_time": "2023-02-26T17:16:18.692Z"
   },
   {
    "duration": 31,
    "start_time": "2023-02-26T17:16:18.709Z"
   },
   {
    "duration": 606,
    "start_time": "2023-02-26T17:16:18.741Z"
   },
   {
    "duration": 220,
    "start_time": "2023-02-26T17:16:19.348Z"
   },
   {
    "duration": 326,
    "start_time": "2023-02-26T17:16:19.570Z"
   },
   {
    "duration": 252,
    "start_time": "2023-02-26T17:16:19.898Z"
   },
   {
    "duration": 346,
    "start_time": "2023-02-26T17:16:20.152Z"
   },
   {
    "duration": 158,
    "start_time": "2023-02-26T17:16:20.499Z"
   },
   {
    "duration": 5,
    "start_time": "2023-02-26T17:16:20.660Z"
   },
   {
    "duration": 173,
    "start_time": "2023-02-26T17:16:20.666Z"
   },
   {
    "duration": 5,
    "start_time": "2023-02-26T17:16:20.841Z"
   },
   {
    "duration": 396,
    "start_time": "2023-02-26T17:16:20.848Z"
   },
   {
    "duration": 30,
    "start_time": "2023-02-26T17:16:21.246Z"
   },
   {
    "duration": 11,
    "start_time": "2023-02-26T17:16:21.278Z"
   },
   {
    "duration": 9,
    "start_time": "2023-02-26T17:16:21.291Z"
   },
   {
    "duration": 61,
    "start_time": "2023-02-26T17:16:21.302Z"
   },
   {
    "duration": 15,
    "start_time": "2023-02-26T17:16:21.365Z"
   },
   {
    "duration": 1117,
    "start_time": "2023-02-27T05:21:28.515Z"
   },
   {
    "duration": 72,
    "start_time": "2023-02-27T05:21:29.633Z"
   },
   {
    "duration": 22,
    "start_time": "2023-02-27T05:21:29.707Z"
   },
   {
    "duration": 15,
    "start_time": "2023-02-27T05:21:29.731Z"
   },
   {
    "duration": 7,
    "start_time": "2023-02-27T05:21:29.747Z"
   },
   {
    "duration": 14,
    "start_time": "2023-02-27T05:21:29.755Z"
   },
   {
    "duration": 24,
    "start_time": "2023-02-27T05:21:29.771Z"
   },
   {
    "duration": 8,
    "start_time": "2023-02-27T05:21:29.796Z"
   },
   {
    "duration": 13,
    "start_time": "2023-02-27T05:21:29.806Z"
   },
   {
    "duration": 11,
    "start_time": "2023-02-27T05:21:29.822Z"
   },
   {
    "duration": 595,
    "start_time": "2023-02-27T05:21:29.834Z"
   },
   {
    "duration": 227,
    "start_time": "2023-02-27T05:21:30.431Z"
   },
   {
    "duration": 339,
    "start_time": "2023-02-27T05:21:30.660Z"
   },
   {
    "duration": 247,
    "start_time": "2023-02-27T05:21:31.001Z"
   },
   {
    "duration": 324,
    "start_time": "2023-02-27T05:21:31.250Z"
   },
   {
    "duration": 160,
    "start_time": "2023-02-27T05:21:31.576Z"
   },
   {
    "duration": 5,
    "start_time": "2023-02-27T05:21:31.737Z"
   },
   {
    "duration": 163,
    "start_time": "2023-02-27T05:21:31.744Z"
   },
   {
    "duration": 10,
    "start_time": "2023-02-27T05:21:31.909Z"
   },
   {
    "duration": 389,
    "start_time": "2023-02-27T05:21:31.920Z"
   },
   {
    "duration": 26,
    "start_time": "2023-02-27T05:21:32.311Z"
   },
   {
    "duration": 11,
    "start_time": "2023-02-27T05:21:32.339Z"
   },
   {
    "duration": 10,
    "start_time": "2023-02-27T05:21:32.351Z"
   },
   {
    "duration": 56,
    "start_time": "2023-02-27T05:21:32.363Z"
   },
   {
    "duration": 13,
    "start_time": "2023-02-27T05:21:32.421Z"
   },
   {
    "duration": 1230,
    "start_time": "2023-02-28T09:42:11.047Z"
   },
   {
    "duration": 224,
    "start_time": "2023-02-28T09:42:12.278Z"
   },
   {
    "duration": 18,
    "start_time": "2023-02-28T09:42:12.504Z"
   },
   {
    "duration": 13,
    "start_time": "2023-02-28T09:42:12.524Z"
   },
   {
    "duration": 7,
    "start_time": "2023-02-28T09:42:12.539Z"
   },
   {
    "duration": 16,
    "start_time": "2023-02-28T09:42:12.547Z"
   },
   {
    "duration": 5,
    "start_time": "2023-02-28T09:42:12.565Z"
   },
   {
    "duration": 7,
    "start_time": "2023-02-28T09:42:12.571Z"
   },
   {
    "duration": 12,
    "start_time": "2023-02-28T09:42:12.579Z"
   },
   {
    "duration": 9,
    "start_time": "2023-02-28T09:42:12.593Z"
   },
   {
    "duration": 521,
    "start_time": "2023-02-28T09:42:12.603Z"
   },
   {
    "duration": 200,
    "start_time": "2023-02-28T09:42:13.126Z"
   },
   {
    "duration": 343,
    "start_time": "2023-02-28T09:42:13.328Z"
   },
   {
    "duration": 210,
    "start_time": "2023-02-28T09:42:13.673Z"
   },
   {
    "duration": 295,
    "start_time": "2023-02-28T09:42:13.885Z"
   },
   {
    "duration": 138,
    "start_time": "2023-02-28T09:42:14.181Z"
   },
   {
    "duration": 5,
    "start_time": "2023-02-28T09:42:14.321Z"
   },
   {
    "duration": 161,
    "start_time": "2023-02-28T09:42:14.328Z"
   },
   {
    "duration": 5,
    "start_time": "2023-02-28T09:42:14.491Z"
   },
   {
    "duration": 350,
    "start_time": "2023-02-28T09:42:14.498Z"
   },
   {
    "duration": 23,
    "start_time": "2023-02-28T09:42:14.850Z"
   },
   {
    "duration": 10,
    "start_time": "2023-02-28T09:42:14.875Z"
   },
   {
    "duration": 12,
    "start_time": "2023-02-28T09:42:14.886Z"
   },
   {
    "duration": 50,
    "start_time": "2023-02-28T09:42:14.899Z"
   },
   {
    "duration": 13,
    "start_time": "2023-02-28T09:42:14.951Z"
   },
   {
    "duration": 215,
    "start_time": "2023-02-28T09:42:58.805Z"
   },
   {
    "duration": 127,
    "start_time": "2023-02-28T10:31:15.301Z"
   },
   {
    "duration": 86,
    "start_time": "2023-02-28T10:46:54.871Z"
   },
   {
    "duration": 1244,
    "start_time": "2023-02-28T18:19:57.974Z"
   },
   {
    "duration": 172,
    "start_time": "2023-02-28T18:19:59.220Z"
   },
   {
    "duration": 19,
    "start_time": "2023-02-28T18:19:59.394Z"
   },
   {
    "duration": 15,
    "start_time": "2023-02-28T18:19:59.415Z"
   },
   {
    "duration": 8,
    "start_time": "2023-02-28T18:19:59.431Z"
   },
   {
    "duration": 18,
    "start_time": "2023-02-28T18:19:59.440Z"
   },
   {
    "duration": 5,
    "start_time": "2023-02-28T18:19:59.460Z"
   },
   {
    "duration": 6,
    "start_time": "2023-02-28T18:19:59.466Z"
   },
   {
    "duration": 18,
    "start_time": "2023-02-28T18:19:59.474Z"
   },
   {
    "duration": 11,
    "start_time": "2023-02-28T18:19:59.494Z"
   },
   {
    "duration": 549,
    "start_time": "2023-02-28T18:19:59.506Z"
   },
   {
    "duration": 201,
    "start_time": "2023-02-28T18:20:00.059Z"
   },
   {
    "duration": 364,
    "start_time": "2023-02-28T18:20:00.262Z"
   },
   {
    "duration": 230,
    "start_time": "2023-02-28T18:20:00.629Z"
   },
   {
    "duration": 343,
    "start_time": "2023-02-28T18:20:00.861Z"
   },
   {
    "duration": 133,
    "start_time": "2023-02-28T18:20:01.206Z"
   },
   {
    "duration": 5,
    "start_time": "2023-02-28T18:20:01.340Z"
   },
   {
    "duration": 197,
    "start_time": "2023-02-28T18:20:01.347Z"
   },
   {
    "duration": 4,
    "start_time": "2023-02-28T18:20:01.545Z"
   },
   {
    "duration": 367,
    "start_time": "2023-02-28T18:20:01.551Z"
   },
   {
    "duration": 40,
    "start_time": "2023-02-28T18:20:01.920Z"
   },
   {
    "duration": 13,
    "start_time": "2023-02-28T18:20:01.962Z"
   },
   {
    "duration": 26,
    "start_time": "2023-02-28T18:20:01.977Z"
   },
   {
    "duration": 64,
    "start_time": "2023-02-28T18:20:02.005Z"
   },
   {
    "duration": 33,
    "start_time": "2023-02-28T18:20:02.070Z"
   },
   {
    "duration": 11,
    "start_time": "2023-02-28T18:20:37.016Z"
   },
   {
    "duration": 134,
    "start_time": "2023-02-28T18:20:47.080Z"
   },
   {
    "duration": 4,
    "start_time": "2023-02-28T18:20:51.463Z"
   },
   {
    "duration": 4,
    "start_time": "2023-02-28T18:21:22.768Z"
   },
   {
    "duration": 4,
    "start_time": "2023-02-28T18:21:28.008Z"
   },
   {
    "duration": 16,
    "start_time": "2023-02-28T18:22:00.158Z"
   },
   {
    "duration": 15,
    "start_time": "2023-02-28T18:22:56.713Z"
   },
   {
    "duration": 47,
    "start_time": "2023-02-28T18:25:05.284Z"
   },
   {
    "duration": 18,
    "start_time": "2023-02-28T18:25:10.402Z"
   },
   {
    "duration": 14,
    "start_time": "2023-02-28T18:25:47.065Z"
   },
   {
    "duration": 76,
    "start_time": "2023-02-28T18:26:02.548Z"
   },
   {
    "duration": 75,
    "start_time": "2023-02-28T18:26:17.235Z"
   },
   {
    "duration": 74,
    "start_time": "2023-02-28T18:26:22.676Z"
   },
   {
    "duration": 79,
    "start_time": "2023-02-28T18:26:47.352Z"
   },
   {
    "duration": 73,
    "start_time": "2023-02-28T18:27:50.325Z"
   },
   {
    "duration": 49,
    "start_time": "2023-02-28T18:28:30.811Z"
   },
   {
    "duration": 75,
    "start_time": "2023-02-28T18:28:40.737Z"
   },
   {
    "duration": 76,
    "start_time": "2023-02-28T18:28:57.086Z"
   },
   {
    "duration": 82,
    "start_time": "2023-02-28T18:29:05.756Z"
   },
   {
    "duration": 71,
    "start_time": "2023-02-28T18:29:23.180Z"
   },
   {
    "duration": 11,
    "start_time": "2023-02-28T18:40:45.589Z"
   },
   {
    "duration": 133,
    "start_time": "2023-02-28T18:41:15.921Z"
   },
   {
    "duration": 19,
    "start_time": "2023-02-28T18:41:50.847Z"
   },
   {
    "duration": 49,
    "start_time": "2023-02-28T18:46:18.720Z"
   },
   {
    "duration": 448,
    "start_time": "2023-02-28T18:46:58.913Z"
   },
   {
    "duration": 204,
    "start_time": "2023-02-28T18:47:14.504Z"
   },
   {
    "duration": 324,
    "start_time": "2023-02-28T18:47:32.267Z"
   },
   {
    "duration": 308,
    "start_time": "2023-02-28T18:47:42.075Z"
   },
   {
    "duration": 250,
    "start_time": "2023-02-28T18:48:07.465Z"
   },
   {
    "duration": 316,
    "start_time": "2023-02-28T18:48:31.880Z"
   },
   {
    "duration": 379,
    "start_time": "2023-02-28T18:48:47.471Z"
   },
   {
    "duration": 344,
    "start_time": "2023-02-28T18:49:07.951Z"
   },
   {
    "duration": 137,
    "start_time": "2023-02-28T18:49:41.951Z"
   },
   {
    "duration": 145,
    "start_time": "2023-02-28T18:50:10.888Z"
   },
   {
    "duration": 9,
    "start_time": "2023-02-28T18:51:19.149Z"
   },
   {
    "duration": 8,
    "start_time": "2023-02-28T18:51:40.228Z"
   },
   {
    "duration": 164,
    "start_time": "2023-02-28T18:51:46.381Z"
   },
   {
    "duration": 14,
    "start_time": "2023-02-28T18:51:54.479Z"
   },
   {
    "duration": 84,
    "start_time": "2023-02-28T18:59:57.886Z"
   },
   {
    "duration": 17,
    "start_time": "2023-02-28T19:00:02.314Z"
   },
   {
    "duration": 61,
    "start_time": "2023-02-28T19:00:50.212Z"
   },
   {
    "duration": 16,
    "start_time": "2023-02-28T19:00:53.667Z"
   },
   {
    "duration": 1211,
    "start_time": "2023-02-28T19:01:27.123Z"
   },
   {
    "duration": 65,
    "start_time": "2023-02-28T19:01:28.336Z"
   },
   {
    "duration": 22,
    "start_time": "2023-02-28T19:01:28.403Z"
   },
   {
    "duration": 17,
    "start_time": "2023-02-28T19:01:28.427Z"
   },
   {
    "duration": 8,
    "start_time": "2023-02-28T19:01:28.445Z"
   },
   {
    "duration": 17,
    "start_time": "2023-02-28T19:01:28.455Z"
   },
   {
    "duration": 7,
    "start_time": "2023-02-28T19:01:28.473Z"
   },
   {
    "duration": 18,
    "start_time": "2023-02-28T19:01:28.481Z"
   },
   {
    "duration": 96,
    "start_time": "2023-02-28T19:01:28.501Z"
   },
   {
    "duration": 10,
    "start_time": "2023-02-28T19:01:28.600Z"
   },
   {
    "duration": 11,
    "start_time": "2023-02-28T19:01:28.612Z"
   },
   {
    "duration": 561,
    "start_time": "2023-02-28T19:01:28.625Z"
   },
   {
    "duration": 201,
    "start_time": "2023-02-28T19:01:29.188Z"
   },
   {
    "duration": 291,
    "start_time": "2023-02-28T19:01:29.392Z"
   },
   {
    "duration": 235,
    "start_time": "2023-02-28T19:01:29.685Z"
   },
   {
    "duration": 356,
    "start_time": "2023-02-28T19:01:29.922Z"
   },
   {
    "duration": 157,
    "start_time": "2023-02-28T19:01:30.280Z"
   },
   {
    "duration": 20,
    "start_time": "2023-02-28T19:01:30.439Z"
   },
   {
    "duration": 252,
    "start_time": "2023-02-28T19:01:30.461Z"
   },
   {
    "duration": 5,
    "start_time": "2023-02-28T19:01:30.715Z"
   },
   {
    "duration": 526,
    "start_time": "2023-02-28T19:01:30.722Z"
   },
   {
    "duration": 117,
    "start_time": "2023-02-28T19:01:31.250Z"
   },
   {
    "duration": 68,
    "start_time": "2023-02-28T19:01:31.369Z"
   },
   {
    "duration": 58,
    "start_time": "2023-02-28T19:01:31.439Z"
   },
   {
    "duration": 87,
    "start_time": "2023-02-28T19:01:31.499Z"
   },
   {
    "duration": 28,
    "start_time": "2023-02-28T19:01:31.589Z"
   },
   {
    "duration": 1218,
    "start_time": "2023-03-01T05:41:00.738Z"
   },
   {
    "duration": 254,
    "start_time": "2023-03-01T05:41:01.959Z"
   },
   {
    "duration": 21,
    "start_time": "2023-03-01T05:41:02.215Z"
   },
   {
    "duration": 30,
    "start_time": "2023-03-01T05:41:02.238Z"
   },
   {
    "duration": 17,
    "start_time": "2023-03-01T05:41:02.269Z"
   },
   {
    "duration": 27,
    "start_time": "2023-03-01T05:41:02.288Z"
   },
   {
    "duration": 12,
    "start_time": "2023-03-01T05:41:02.317Z"
   },
   {
    "duration": 12,
    "start_time": "2023-03-01T05:41:02.331Z"
   },
   {
    "duration": 86,
    "start_time": "2023-03-01T05:41:02.344Z"
   },
   {
    "duration": 12,
    "start_time": "2023-03-01T05:41:02.432Z"
   },
   {
    "duration": 57,
    "start_time": "2023-03-01T05:41:02.446Z"
   },
   {
    "duration": 610,
    "start_time": "2023-03-01T05:41:02.505Z"
   },
   {
    "duration": 212,
    "start_time": "2023-03-01T05:41:03.117Z"
   },
   {
    "duration": 301,
    "start_time": "2023-03-01T05:41:03.330Z"
   },
   {
    "duration": 217,
    "start_time": "2023-03-01T05:41:03.632Z"
   },
   {
    "duration": 310,
    "start_time": "2023-03-01T05:41:03.851Z"
   },
   {
    "duration": 139,
    "start_time": "2023-03-01T05:41:04.163Z"
   },
   {
    "duration": 5,
    "start_time": "2023-03-01T05:41:04.303Z"
   },
   {
    "duration": 158,
    "start_time": "2023-03-01T05:41:04.309Z"
   },
   {
    "duration": 4,
    "start_time": "2023-03-01T05:41:04.469Z"
   },
   {
    "duration": 341,
    "start_time": "2023-03-01T05:41:04.475Z"
   },
   {
    "duration": 25,
    "start_time": "2023-03-01T05:41:04.818Z"
   },
   {
    "duration": 11,
    "start_time": "2023-03-01T05:41:04.845Z"
   },
   {
    "duration": 34,
    "start_time": "2023-03-01T05:41:04.858Z"
   },
   {
    "duration": 27,
    "start_time": "2023-03-01T05:41:04.894Z"
   },
   {
    "duration": 14,
    "start_time": "2023-03-01T05:41:04.924Z"
   },
   {
    "duration": 1382,
    "start_time": "2023-03-01T05:51:11.582Z"
   },
   {
    "duration": 242,
    "start_time": "2023-03-01T05:51:12.966Z"
   },
   {
    "duration": 20,
    "start_time": "2023-03-01T05:51:13.210Z"
   },
   {
    "duration": 15,
    "start_time": "2023-03-01T05:51:13.232Z"
   },
   {
    "duration": 13,
    "start_time": "2023-03-01T05:51:13.248Z"
   },
   {
    "duration": 19,
    "start_time": "2023-03-01T05:51:13.263Z"
   },
   {
    "duration": 6,
    "start_time": "2023-03-01T05:51:13.284Z"
   },
   {
    "duration": 18,
    "start_time": "2023-03-01T05:51:13.292Z"
   },
   {
    "duration": 108,
    "start_time": "2023-03-01T05:51:13.312Z"
   },
   {
    "duration": 19,
    "start_time": "2023-03-01T05:51:13.423Z"
   },
   {
    "duration": 13,
    "start_time": "2023-03-01T05:51:13.444Z"
   },
   {
    "duration": 627,
    "start_time": "2023-03-01T05:51:13.458Z"
   },
   {
    "duration": 223,
    "start_time": "2023-03-01T05:51:14.087Z"
   },
   {
    "duration": 394,
    "start_time": "2023-03-01T05:51:14.312Z"
   },
   {
    "duration": 250,
    "start_time": "2023-03-01T05:51:14.708Z"
   },
   {
    "duration": 332,
    "start_time": "2023-03-01T05:51:14.960Z"
   },
   {
    "duration": 165,
    "start_time": "2023-03-01T05:51:15.294Z"
   },
   {
    "duration": 5,
    "start_time": "2023-03-01T05:51:15.461Z"
   },
   {
    "duration": 169,
    "start_time": "2023-03-01T05:51:15.467Z"
   },
   {
    "duration": 5,
    "start_time": "2023-03-01T05:51:15.638Z"
   },
   {
    "duration": 402,
    "start_time": "2023-03-01T05:51:15.645Z"
   },
   {
    "duration": 33,
    "start_time": "2023-03-01T05:51:16.049Z"
   },
   {
    "duration": 11,
    "start_time": "2023-03-01T05:51:16.084Z"
   },
   {
    "duration": 21,
    "start_time": "2023-03-01T05:51:16.097Z"
   },
   {
    "duration": 52,
    "start_time": "2023-03-01T05:51:16.120Z"
   },
   {
    "duration": 17,
    "start_time": "2023-03-01T05:51:16.174Z"
   }
  ],
  "kernelspec": {
   "display_name": "Python 3 (ipykernel)",
   "language": "python",
   "name": "python3"
  },
  "language_info": {
   "codemirror_mode": {
    "name": "ipython",
    "version": 3
   },
   "file_extension": ".py",
   "mimetype": "text/x-python",
   "name": "python",
   "nbconvert_exporter": "python",
   "pygments_lexer": "ipython3",
   "version": "3.9.13"
  },
  "toc": {
   "base_numbering": 1,
   "nav_menu": {
    "height": "210.764px",
    "width": "386.753px"
   },
   "number_sections": true,
   "sideBar": true,
   "skip_h1_title": true,
   "title_cell": "Table of Contents",
   "title_sidebar": "Contents",
   "toc_cell": false,
   "toc_position": {},
   "toc_section_display": true,
   "toc_window_display": false
  }
 },
 "nbformat": 4,
 "nbformat_minor": 2
}
