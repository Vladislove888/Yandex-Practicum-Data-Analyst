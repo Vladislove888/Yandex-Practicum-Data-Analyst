{
 "cells": [
  {
   "cell_type": "markdown",
   "metadata": {},
   "source": [
    "# Анализ продаж видеоигр"
   ]
  },
  {
   "cell_type": "markdown",
   "metadata": {},
   "source": [
    "## Описание проекта и данных"
   ]
  },
  {
   "cell_type": "markdown",
   "metadata": {},
   "source": [
    "Из открытых источников доступны исторические данные о продажах игр, оценки пользователей и экспертов, жанры и платформы. Нужно выявить определяющие успешность игры закономерности. Это позволит сделать ставку на потенциально популярный продукт и спланировать рекламные кампании."
   ]
  },
  {
   "cell_type": "markdown",
   "metadata": {},
   "source": [
    "Name — название игры\n",
    "\n",
    "Platform — платформа\n",
    "\n",
    "Year_of_Release — год выпуска\n",
    "\n",
    "Genre — жанр игры\n",
    "\n",
    "NA_sales — продажи в Северной Америке (миллионы долларов)\n",
    "\n",
    "EU_sales — продажи в Европе (миллионы долларов)\n",
    "\n",
    "JP_sales — продажи в Японии (миллионы долларов)\n",
    "\n",
    "Other_sales — продажи в других странах (миллионы долларов)\n",
    "\n",
    "Critic_Score — оценка критиков (от 0 до 100)\n",
    "\n",
    "User_Score — оценка пользователей (от 0 до 10)\n",
    "\n",
    "Rating — рейтинг от организации ESRB (англ. Entertainment Software Rating Board). Эта ассоциация определяет рейтинг \n",
    "компьютерных игр и присваивает им подходящую возрастную категорию."
   ]
  },
  {
   "cell_type": "markdown",
   "metadata": {},
   "source": [
    "## Изучение данных из файла"
   ]
  },
  {
   "cell_type": "code",
   "execution_count": 1,
   "metadata": {},
   "outputs": [],
   "source": [
    "import pandas as pd\n",
    "import matplotlib.pyplot as plt\n",
    "from scipy import stats as st"
   ]
  },
  {
   "cell_type": "code",
   "execution_count": 2,
   "metadata": {
    "scrolled": true
   },
   "outputs": [
    {
     "data": {
      "text/html": [
       "<div>\n",
       "<style scoped>\n",
       "    .dataframe tbody tr th:only-of-type {\n",
       "        vertical-align: middle;\n",
       "    }\n",
       "\n",
       "    .dataframe tbody tr th {\n",
       "        vertical-align: top;\n",
       "    }\n",
       "\n",
       "    .dataframe thead th {\n",
       "        text-align: right;\n",
       "    }\n",
       "</style>\n",
       "<table border=\"1\" class=\"dataframe\">\n",
       "  <thead>\n",
       "    <tr style=\"text-align: right;\">\n",
       "      <th></th>\n",
       "      <th>Name</th>\n",
       "      <th>Platform</th>\n",
       "      <th>Year_of_Release</th>\n",
       "      <th>Genre</th>\n",
       "      <th>NA_sales</th>\n",
       "      <th>EU_sales</th>\n",
       "      <th>JP_sales</th>\n",
       "      <th>Other_sales</th>\n",
       "      <th>Critic_Score</th>\n",
       "      <th>User_Score</th>\n",
       "      <th>Rating</th>\n",
       "    </tr>\n",
       "  </thead>\n",
       "  <tbody>\n",
       "    <tr>\n",
       "      <th>0</th>\n",
       "      <td>Wii Sports</td>\n",
       "      <td>Wii</td>\n",
       "      <td>2006.0</td>\n",
       "      <td>Sports</td>\n",
       "      <td>41.36</td>\n",
       "      <td>28.96</td>\n",
       "      <td>3.77</td>\n",
       "      <td>8.45</td>\n",
       "      <td>76.0</td>\n",
       "      <td>8</td>\n",
       "      <td>E</td>\n",
       "    </tr>\n",
       "    <tr>\n",
       "      <th>1</th>\n",
       "      <td>Super Mario Bros.</td>\n",
       "      <td>NES</td>\n",
       "      <td>1985.0</td>\n",
       "      <td>Platform</td>\n",
       "      <td>29.08</td>\n",
       "      <td>3.58</td>\n",
       "      <td>6.81</td>\n",
       "      <td>0.77</td>\n",
       "      <td>NaN</td>\n",
       "      <td>NaN</td>\n",
       "      <td>NaN</td>\n",
       "    </tr>\n",
       "    <tr>\n",
       "      <th>2</th>\n",
       "      <td>Mario Kart Wii</td>\n",
       "      <td>Wii</td>\n",
       "      <td>2008.0</td>\n",
       "      <td>Racing</td>\n",
       "      <td>15.68</td>\n",
       "      <td>12.76</td>\n",
       "      <td>3.79</td>\n",
       "      <td>3.29</td>\n",
       "      <td>82.0</td>\n",
       "      <td>8.3</td>\n",
       "      <td>E</td>\n",
       "    </tr>\n",
       "    <tr>\n",
       "      <th>3</th>\n",
       "      <td>Wii Sports Resort</td>\n",
       "      <td>Wii</td>\n",
       "      <td>2009.0</td>\n",
       "      <td>Sports</td>\n",
       "      <td>15.61</td>\n",
       "      <td>10.93</td>\n",
       "      <td>3.28</td>\n",
       "      <td>2.95</td>\n",
       "      <td>80.0</td>\n",
       "      <td>8</td>\n",
       "      <td>E</td>\n",
       "    </tr>\n",
       "    <tr>\n",
       "      <th>4</th>\n",
       "      <td>Pokemon Red/Pokemon Blue</td>\n",
       "      <td>GB</td>\n",
       "      <td>1996.0</td>\n",
       "      <td>Role-Playing</td>\n",
       "      <td>11.27</td>\n",
       "      <td>8.89</td>\n",
       "      <td>10.22</td>\n",
       "      <td>1.00</td>\n",
       "      <td>NaN</td>\n",
       "      <td>NaN</td>\n",
       "      <td>NaN</td>\n",
       "    </tr>\n",
       "    <tr>\n",
       "      <th>5</th>\n",
       "      <td>Tetris</td>\n",
       "      <td>GB</td>\n",
       "      <td>1989.0</td>\n",
       "      <td>Puzzle</td>\n",
       "      <td>23.20</td>\n",
       "      <td>2.26</td>\n",
       "      <td>4.22</td>\n",
       "      <td>0.58</td>\n",
       "      <td>NaN</td>\n",
       "      <td>NaN</td>\n",
       "      <td>NaN</td>\n",
       "    </tr>\n",
       "    <tr>\n",
       "      <th>6</th>\n",
       "      <td>New Super Mario Bros.</td>\n",
       "      <td>DS</td>\n",
       "      <td>2006.0</td>\n",
       "      <td>Platform</td>\n",
       "      <td>11.28</td>\n",
       "      <td>9.14</td>\n",
       "      <td>6.50</td>\n",
       "      <td>2.88</td>\n",
       "      <td>89.0</td>\n",
       "      <td>8.5</td>\n",
       "      <td>E</td>\n",
       "    </tr>\n",
       "    <tr>\n",
       "      <th>7</th>\n",
       "      <td>Wii Play</td>\n",
       "      <td>Wii</td>\n",
       "      <td>2006.0</td>\n",
       "      <td>Misc</td>\n",
       "      <td>13.96</td>\n",
       "      <td>9.18</td>\n",
       "      <td>2.93</td>\n",
       "      <td>2.84</td>\n",
       "      <td>58.0</td>\n",
       "      <td>6.6</td>\n",
       "      <td>E</td>\n",
       "    </tr>\n",
       "    <tr>\n",
       "      <th>8</th>\n",
       "      <td>New Super Mario Bros. Wii</td>\n",
       "      <td>Wii</td>\n",
       "      <td>2009.0</td>\n",
       "      <td>Platform</td>\n",
       "      <td>14.44</td>\n",
       "      <td>6.94</td>\n",
       "      <td>4.70</td>\n",
       "      <td>2.24</td>\n",
       "      <td>87.0</td>\n",
       "      <td>8.4</td>\n",
       "      <td>E</td>\n",
       "    </tr>\n",
       "    <tr>\n",
       "      <th>9</th>\n",
       "      <td>Duck Hunt</td>\n",
       "      <td>NES</td>\n",
       "      <td>1984.0</td>\n",
       "      <td>Shooter</td>\n",
       "      <td>26.93</td>\n",
       "      <td>0.63</td>\n",
       "      <td>0.28</td>\n",
       "      <td>0.47</td>\n",
       "      <td>NaN</td>\n",
       "      <td>NaN</td>\n",
       "      <td>NaN</td>\n",
       "    </tr>\n",
       "  </tbody>\n",
       "</table>\n",
       "</div>"
      ],
      "text/plain": [
       "                        Name Platform  Year_of_Release         Genre  \\\n",
       "0                 Wii Sports      Wii           2006.0        Sports   \n",
       "1          Super Mario Bros.      NES           1985.0      Platform   \n",
       "2             Mario Kart Wii      Wii           2008.0        Racing   \n",
       "3          Wii Sports Resort      Wii           2009.0        Sports   \n",
       "4   Pokemon Red/Pokemon Blue       GB           1996.0  Role-Playing   \n",
       "5                     Tetris       GB           1989.0        Puzzle   \n",
       "6      New Super Mario Bros.       DS           2006.0      Platform   \n",
       "7                   Wii Play      Wii           2006.0          Misc   \n",
       "8  New Super Mario Bros. Wii      Wii           2009.0      Platform   \n",
       "9                  Duck Hunt      NES           1984.0       Shooter   \n",
       "\n",
       "   NA_sales  EU_sales  JP_sales  Other_sales  Critic_Score User_Score Rating  \n",
       "0     41.36     28.96      3.77         8.45          76.0          8      E  \n",
       "1     29.08      3.58      6.81         0.77           NaN        NaN    NaN  \n",
       "2     15.68     12.76      3.79         3.29          82.0        8.3      E  \n",
       "3     15.61     10.93      3.28         2.95          80.0          8      E  \n",
       "4     11.27      8.89     10.22         1.00           NaN        NaN    NaN  \n",
       "5     23.20      2.26      4.22         0.58           NaN        NaN    NaN  \n",
       "6     11.28      9.14      6.50         2.88          89.0        8.5      E  \n",
       "7     13.96      9.18      2.93         2.84          58.0        6.6      E  \n",
       "8     14.44      6.94      4.70         2.24          87.0        8.4      E  \n",
       "9     26.93      0.63      0.28         0.47           NaN        NaN    NaN  "
      ]
     },
     "execution_count": 2,
     "metadata": {},
     "output_type": "execute_result"
    }
   ],
   "source": [
    "data = pd.read_csv('/datasets/games.csv')\n",
    "data.head(10)"
   ]
  },
  {
   "cell_type": "code",
   "execution_count": 3,
   "metadata": {
    "scrolled": true
   },
   "outputs": [
    {
     "data": {
      "text/plain": [
       "(16715, 11)"
      ]
     },
     "execution_count": 3,
     "metadata": {},
     "output_type": "execute_result"
    }
   ],
   "source": [
    "data.shape"
   ]
  },
  {
   "cell_type": "code",
   "execution_count": 4,
   "metadata": {
    "scrolled": true
   },
   "outputs": [
    {
     "name": "stdout",
     "output_type": "stream",
     "text": [
      "<class 'pandas.core.frame.DataFrame'>\n",
      "RangeIndex: 16715 entries, 0 to 16714\n",
      "Data columns (total 11 columns):\n",
      " #   Column           Non-Null Count  Dtype  \n",
      "---  ------           --------------  -----  \n",
      " 0   Name             16713 non-null  object \n",
      " 1   Platform         16715 non-null  object \n",
      " 2   Year_of_Release  16446 non-null  float64\n",
      " 3   Genre            16713 non-null  object \n",
      " 4   NA_sales         16715 non-null  float64\n",
      " 5   EU_sales         16715 non-null  float64\n",
      " 6   JP_sales         16715 non-null  float64\n",
      " 7   Other_sales      16715 non-null  float64\n",
      " 8   Critic_Score     8137 non-null   float64\n",
      " 9   User_Score       10014 non-null  object \n",
      " 10  Rating           9949 non-null   object \n",
      "dtypes: float64(6), object(5)\n",
      "memory usage: 1.4+ MB\n"
     ]
    }
   ],
   "source": [
    "data.info()"
   ]
  },
  {
   "cell_type": "markdown",
   "metadata": {},
   "source": [
    "В таблице 16715 строк и 11 столбцов. Названия колонок нужно привести к змеиному регистру."
   ]
  },
  {
   "cell_type": "markdown",
   "metadata": {},
   "source": [
    "## Предобработка данных"
   ]
  },
  {
   "cell_type": "markdown",
   "metadata": {},
   "source": [
    "Приведём названия столбцов к змеиному регистру"
   ]
  },
  {
   "cell_type": "code",
   "execution_count": 5,
   "metadata": {},
   "outputs": [],
   "source": [
    "data.columns = data.columns.str.lower()"
   ]
  },
  {
   "cell_type": "code",
   "execution_count": 6,
   "metadata": {
    "scrolled": true
   },
   "outputs": [
    {
     "name": "stdout",
     "output_type": "stream",
     "text": [
      "<class 'pandas.core.frame.DataFrame'>\n",
      "RangeIndex: 16715 entries, 0 to 16714\n",
      "Data columns (total 11 columns):\n",
      " #   Column           Non-Null Count  Dtype  \n",
      "---  ------           --------------  -----  \n",
      " 0   name             16713 non-null  object \n",
      " 1   platform         16715 non-null  object \n",
      " 2   year_of_release  16446 non-null  float64\n",
      " 3   genre            16713 non-null  object \n",
      " 4   na_sales         16715 non-null  float64\n",
      " 5   eu_sales         16715 non-null  float64\n",
      " 6   jp_sales         16715 non-null  float64\n",
      " 7   other_sales      16715 non-null  float64\n",
      " 8   critic_score     8137 non-null   float64\n",
      " 9   user_score       10014 non-null  object \n",
      " 10  rating           9949 non-null   object \n",
      "dtypes: float64(6), object(5)\n",
      "memory usage: 1.4+ MB\n"
     ]
    }
   ],
   "source": [
    "data.info()"
   ]
  },
  {
   "cell_type": "markdown",
   "metadata": {},
   "source": [
    "**Избавимся от пропусков в данных**"
   ]
  },
  {
   "cell_type": "markdown",
   "metadata": {},
   "source": [
    "В столбце с названиями имеются 2 пропуска, посмортим, что они собой представляют"
   ]
  },
  {
   "cell_type": "code",
   "execution_count": 7,
   "metadata": {
    "scrolled": true
   },
   "outputs": [
    {
     "data": {
      "text/html": [
       "<div>\n",
       "<style scoped>\n",
       "    .dataframe tbody tr th:only-of-type {\n",
       "        vertical-align: middle;\n",
       "    }\n",
       "\n",
       "    .dataframe tbody tr th {\n",
       "        vertical-align: top;\n",
       "    }\n",
       "\n",
       "    .dataframe thead th {\n",
       "        text-align: right;\n",
       "    }\n",
       "</style>\n",
       "<table border=\"1\" class=\"dataframe\">\n",
       "  <thead>\n",
       "    <tr style=\"text-align: right;\">\n",
       "      <th></th>\n",
       "      <th>name</th>\n",
       "      <th>platform</th>\n",
       "      <th>year_of_release</th>\n",
       "      <th>genre</th>\n",
       "      <th>na_sales</th>\n",
       "      <th>eu_sales</th>\n",
       "      <th>jp_sales</th>\n",
       "      <th>other_sales</th>\n",
       "      <th>critic_score</th>\n",
       "      <th>user_score</th>\n",
       "      <th>rating</th>\n",
       "    </tr>\n",
       "  </thead>\n",
       "  <tbody>\n",
       "    <tr>\n",
       "      <th>659</th>\n",
       "      <td>NaN</td>\n",
       "      <td>GEN</td>\n",
       "      <td>1993.0</td>\n",
       "      <td>NaN</td>\n",
       "      <td>1.78</td>\n",
       "      <td>0.53</td>\n",
       "      <td>0.00</td>\n",
       "      <td>0.08</td>\n",
       "      <td>NaN</td>\n",
       "      <td>NaN</td>\n",
       "      <td>NaN</td>\n",
       "    </tr>\n",
       "    <tr>\n",
       "      <th>14244</th>\n",
       "      <td>NaN</td>\n",
       "      <td>GEN</td>\n",
       "      <td>1993.0</td>\n",
       "      <td>NaN</td>\n",
       "      <td>0.00</td>\n",
       "      <td>0.00</td>\n",
       "      <td>0.03</td>\n",
       "      <td>0.00</td>\n",
       "      <td>NaN</td>\n",
       "      <td>NaN</td>\n",
       "      <td>NaN</td>\n",
       "    </tr>\n",
       "  </tbody>\n",
       "</table>\n",
       "</div>"
      ],
      "text/plain": [
       "      name platform  year_of_release genre  na_sales  eu_sales  jp_sales  \\\n",
       "659    NaN      GEN           1993.0   NaN      1.78      0.53      0.00   \n",
       "14244  NaN      GEN           1993.0   NaN      0.00      0.00      0.03   \n",
       "\n",
       "       other_sales  critic_score user_score rating  \n",
       "659           0.08           NaN        NaN    NaN  \n",
       "14244         0.00           NaN        NaN    NaN  "
      ]
     },
     "execution_count": 7,
     "metadata": {},
     "output_type": "execute_result"
    }
   ],
   "source": [
    "data[data['name'].isna()]"
   ]
  },
  {
   "cell_type": "markdown",
   "metadata": {},
   "source": [
    "Бесполезные строки, спокойно удаляем"
   ]
  },
  {
   "cell_type": "code",
   "execution_count": 8,
   "metadata": {},
   "outputs": [],
   "source": [
    "data = data.dropna(subset=['name']).reset_index(drop=True)"
   ]
  },
  {
   "cell_type": "markdown",
   "metadata": {},
   "source": [
    "Также удалим строки, где пропущен год релиза, такие значения составляют очень малую часть данных"
   ]
  },
  {
   "cell_type": "code",
   "execution_count": 9,
   "metadata": {},
   "outputs": [],
   "source": [
    "data = data.dropna(subset=['year_of_release']).reset_index(drop=True)"
   ]
  },
  {
   "cell_type": "markdown",
   "metadata": {},
   "source": [
    "Далее изменим тип данных в столбцах с годом выпуска и оценкой пользователей"
   ]
  },
  {
   "cell_type": "code",
   "execution_count": 10,
   "metadata": {},
   "outputs": [],
   "source": [
    "data['year_of_release'] = data['year_of_release'].astype(int)"
   ]
  },
  {
   "cell_type": "code",
   "execution_count": 11,
   "metadata": {},
   "outputs": [
    {
     "data": {
      "text/plain": [
       "array(['8', nan, '8.3', '8.5', '6.6', '8.4', '8.6', '7.7', '6.3', '7.4',\n",
       "       '8.2', '9', '7.9', '8.1', '8.7', '7.1', '3.4', '5.3', '4.8', '3.2',\n",
       "       '8.9', '6.4', '7.8', '7.5', '2.6', '7.2', '9.2', '7', '7.3', '4.3',\n",
       "       '7.6', '5.7', '5', '9.1', '6.5', 'tbd', '8.8', '6.9', '9.4', '6.8',\n",
       "       '6.1', '6.7', '5.4', '4', '4.9', '4.5', '9.3', '6.2', '4.2', '6',\n",
       "       '3.7', '4.1', '5.8', '5.6', '5.5', '4.4', '4.6', '5.9', '3.9',\n",
       "       '3.1', '2.9', '5.2', '3.3', '4.7', '5.1', '3.5', '2.5', '1.9', '3',\n",
       "       '2.7', '2.2', '2', '9.5', '2.1', '3.6', '2.8', '1.8', '3.8', '0',\n",
       "       '1.6', '9.6', '2.4', '1.7', '1.1', '0.3', '1.5', '0.7', '1.2',\n",
       "       '2.3', '0.5', '1.3', '0.2', '0.6', '1.4', '0.9', '1', '9.7'],\n",
       "      dtype=object)"
      ]
     },
     "execution_count": 11,
     "metadata": {},
     "output_type": "execute_result"
    }
   ],
   "source": [
    "data['user_score'].unique()"
   ]
  },
  {
   "cell_type": "markdown",
   "metadata": {},
   "source": [
    "В столбце **user_score** обнаружились значения tbd. Интернет говорит, что это аббревиатура To Be Determined (будет определено), то есть данных ещё нет. Заменим на пропуск nan"
   ]
  },
  {
   "cell_type": "code",
   "execution_count": 12,
   "metadata": {},
   "outputs": [],
   "source": [
    "data['user_score'] = data['user_score'].replace('tbd', 'nan')\n",
    "data['user_score'] = data['user_score'].astype(float)"
   ]
  },
  {
   "cell_type": "code",
   "execution_count": 13,
   "metadata": {},
   "outputs": [
    {
     "data": {
      "text/plain": [
       "array(['E', nan, 'M', 'T', 'E10+', 'K-A', 'AO', 'EC', 'RP'], dtype=object)"
      ]
     },
     "execution_count": 13,
     "metadata": {},
     "output_type": "execute_result"
    }
   ],
   "source": [
    "data['rating'].unique()"
   ]
  },
  {
   "cell_type": "code",
   "execution_count": 14,
   "metadata": {},
   "outputs": [
    {
     "data": {
      "text/plain": [
       "E       3921\n",
       "T       2905\n",
       "M       1536\n",
       "E10+    1393\n",
       "EC         8\n",
       "K-A        3\n",
       "RP         1\n",
       "AO         1\n",
       "Name: rating, dtype: int64"
      ]
     },
     "execution_count": 14,
     "metadata": {},
     "output_type": "execute_result"
    }
   ],
   "source": [
    "data['rating'].value_counts()"
   ]
  },
  {
   "cell_type": "markdown",
   "metadata": {},
   "source": [
    "В стобце rating некоторые значения встречаются очень редко. Википедия гласит: «EC» («Early childhood») — «Для детей младшего возраста». «E» («Everyone») — «Для всех»: Содержание вполне подходит для всех возрастов. Первоначально \"K-A\" (\"Kids to Adults\"). «AO» («Adults Only 18+») — «Только для взрослых»: Содержание игры только для взрослых старше 18 лет. «RP» («Rating Pending») — «Рейтинг ожидается»: Продукт был отправлен в ESRB и ожидает присвоения рейтинга. **Таким образом, объединяем К-А и ЕС в Е, АО - в М, а RP и пропуски примем за unknown.**"
   ]
  },
  {
   "cell_type": "code",
   "execution_count": 15,
   "metadata": {
    "scrolled": true
   },
   "outputs": [
    {
     "data": {
      "text/plain": [
       "unknown    6677\n",
       "E          3932\n",
       "T          2905\n",
       "M          1537\n",
       "E10+       1393\n",
       "Name: rating, dtype: int64"
      ]
     },
     "execution_count": 15,
     "metadata": {},
     "output_type": "execute_result"
    }
   ],
   "source": [
    "data['rating'] = data['rating'].replace(['EC', 'K-A'], 'E')\n",
    "data['rating'] = data['rating'].replace('AO', 'M')\n",
    "data['rating'] = data['rating'].replace('RP', 'unknown') \n",
    "data['rating'] = data['rating'].fillna('unknown')\n",
    "data['rating'].value_counts()"
   ]
  },
  {
   "cell_type": "markdown",
   "metadata": {},
   "source": [
    "Наибольшее число игр не имеют рейтинг ESRB"
   ]
  },
  {
   "cell_type": "markdown",
   "metadata": {},
   "source": [
    "Пропуски в столбцах critic_score, user_score и rating оставим без изменений, поскольку их удаление или замена на медиану, среднее и пр. приведут к искажению данных. Появление пропусков может быть связано с некорректной выгрзкой данных, их отсутствием (например, не все игры оценивались критиками)."
   ]
  },
  {
   "cell_type": "markdown",
   "metadata": {},
   "source": [
    "Добавим столбец с суммарными продажами во всех регионах"
   ]
  },
  {
   "cell_type": "code",
   "execution_count": 16,
   "metadata": {
    "scrolled": true
   },
   "outputs": [],
   "source": [
    "data['total_sales'] = data['na_sales'] + data['eu_sales'] + data['jp_sales'] + data['other_sales']"
   ]
  },
  {
   "cell_type": "markdown",
   "metadata": {},
   "source": [
    "Также проверим таблцу на наличие строк-дубликатов"
   ]
  },
  {
   "cell_type": "code",
   "execution_count": 17,
   "metadata": {},
   "outputs": [
    {
     "data": {
      "text/plain": [
       "0"
      ]
     },
     "execution_count": 17,
     "metadata": {},
     "output_type": "execute_result"
    }
   ],
   "source": [
    "data.duplicated().sum()"
   ]
  },
  {
   "cell_type": "markdown",
   "metadata": {},
   "source": [
    "Явные дубликаты отсутствуют"
   ]
  },
  {
   "cell_type": "markdown",
   "metadata": {},
   "source": [
    "## Исследовательский анализ"
   ]
  },
  {
   "cell_type": "markdown",
   "metadata": {},
   "source": [
    "Определим, сколько игр выпускалось в каждый год."
   ]
  },
  {
   "cell_type": "code",
   "execution_count": 18,
   "metadata": {
    "scrolled": true
   },
   "outputs": [
    {
     "data": {
      "image/png": "[encoded data removed]",
      "text/plain": [
       "<Figure size 720x360 with 1 Axes>"
      ]
     },
     "metadata": {
      "needs_background": "light"
     },
     "output_type": "display_data"
    }
   ],
   "source": [
    "data.pivot_table(index='year_of_release', values='name', aggfunc='count').plot(grid=True, figsize=(10, 5))\n",
    "plt.xlabel('Год выпуска')\n",
    "plt.ylabel('Количество релизов')\n",
    "plt.show()"
   ]
  },
  {
   "cell_type": "markdown",
   "metadata": {},
   "source": [
    "Из графика видно, что игровая индустрия пошла в гору в 2000 году."
   ]
  },
  {
   "cell_type": "markdown",
   "metadata": {},
   "source": [
    "Далее определим, как менялись продажи по платформам."
   ]
  },
  {
   "cell_type": "code",
   "execution_count": 19,
   "metadata": {},
   "outputs": [
    {
     "data": {
      "image/png": "[encoded data removed]",
      "text/plain": [
       "<Figure size 720x360 with 1 Axes>"
      ]
     },
     "metadata": {
      "needs_background": "light"
     },
     "output_type": "display_data"
    }
   ],
   "source": [
    "data \\\n",
    "    .pivot_table(index='platform', values='total_sales', aggfunc='sum') \\\n",
    "    .sort_values(by='total_sales', ascending=False) \\\n",
    "    .plot(figsize=(10, 5), kind='bar')\n",
    "plt.show()"
   ]
  },
  {
   "cell_type": "markdown",
   "metadata": {},
   "source": [
    "Наибольший объём продаж имеют 6 платформ: PS2, X360, PS3, Wii, DS, PS."
   ]
  },
  {
   "cell_type": "markdown",
   "metadata": {},
   "source": [
    "Далее изучим, как менялись продажи этих 6 платформ в разные годы."
   ]
  },
  {
   "cell_type": "code",
   "execution_count": 20,
   "metadata": {},
   "outputs": [
    {
     "data": {
      "image/png": "[encoded data removed]",
      "text/plain": [
       "<Figure size 576x360 with 1 Axes>"
      ]
     },
     "metadata": {
      "needs_background": "light"
     },
     "output_type": "display_data"
    }
   ],
   "source": [
    "data \\\n",
    "    .query('platform == \"PS2\"') \\\n",
    "    .pivot_table(index='year_of_release', values='total_sales', aggfunc='sum') \\\n",
    "    .plot(figsize=(8, 5), kind='bar') \n",
    "plt.title('Продажи на PS2')\n",
    "plt.show()"
   ]
  },
  {
   "cell_type": "markdown",
   "metadata": {},
   "source": [
    "Основной объём продаж на PS2 приходился на 2001-2004 годы, после пошёл спад. В 2011 платформа и вовсе потеряла свою актуальность."
   ]
  },
  {
   "cell_type": "code",
   "execution_count": 21,
   "metadata": {},
   "outputs": [
    {
     "data": {
      "image/png": "[encoded data removed]",
      "text/plain": [
       "<Figure size 576x360 with 1 Axes>"
      ]
     },
     "metadata": {
      "needs_background": "light"
     },
     "output_type": "display_data"
    }
   ],
   "source": [
    "data \\\n",
    "    .query('platform == \"X360\"') \\\n",
    "    .pivot_table(index='year_of_release', values='total_sales', aggfunc='sum') \\\n",
    "    .plot(figsize=(8, 5), kind='bar') \n",
    "plt.title('Продажи на X360')\n",
    "plt.show()"
   ]
  },
  {
   "cell_type": "markdown",
   "metadata": {},
   "source": [
    "У Х360 продажи находились на высоте в 2008-2011 годах, после началось нижение. После 2016 года платформа уйдёт в небытие."
   ]
  },
  {
   "cell_type": "code",
   "execution_count": 22,
   "metadata": {},
   "outputs": [
    {
     "data": {
      "image/png": "[encoded data removed]",
      "text/plain": [
       "<Figure size 576x360 with 1 Axes>"
      ]
     },
     "metadata": {
      "needs_background": "light"
     },
     "output_type": "display_data"
    }
   ],
   "source": [
    "data \\\n",
    "    .query('platform == \"PS3\"') \\\n",
    "    .pivot_table(index='year_of_release', values='total_sales', aggfunc='sum') \\\n",
    "    .plot(figsize=(8, 5), kind='bar')\n",
    "plt.title('Продажи на PS3')\n",
    "plt.show()"
   ]
  },
  {
   "cell_type": "markdown",
   "metadata": {},
   "source": [
    "Аналагично Х360 продажи PS3 имеют самые высокие значения в 2008-2011 годах, после которых идёт спад с небольшим отскоком в 2013. А дальше также в небытие после 2016."
   ]
  },
  {
   "cell_type": "code",
   "execution_count": 23,
   "metadata": {},
   "outputs": [
    {
     "data": {
      "image/png": "[encoded data removed]",
      "text/plain": [
       "<Figure size 576x360 with 1 Axes>"
      ]
     },
     "metadata": {
      "needs_background": "light"
     },
     "output_type": "display_data"
    }
   ],
   "source": [
    "data \\\n",
    "    .query('platform == \"Wii\"') \\\n",
    "    .pivot_table(index='year_of_release', values='total_sales', aggfunc='sum') \\\n",
    "    .plot(figsize=(8, 5), kind='bar')\n",
    "plt.title('Продажи на Wii')\n",
    "plt.show()"
   ]
  },
  {
   "cell_type": "code",
   "execution_count": 24,
   "metadata": {},
   "outputs": [
    {
     "data": {
      "image/png": "[encoded data removed]",
      "text/plain": [
       "<Figure size 576x360 with 1 Axes>"
      ]
     },
     "metadata": {
      "needs_background": "light"
     },
     "output_type": "display_data"
    }
   ],
   "source": [
    "data \\\n",
    "    .query('platform == \"DS\"') \\\n",
    "    .pivot_table(index='year_of_release', values='total_sales', aggfunc='sum') \\\n",
    "    .plot(figsize=(8, 5), kind='bar') \n",
    "plt.title('Продажи на DS')\n",
    "plt.show()"
   ]
  },
  {
   "cell_type": "markdown",
   "metadata": {},
   "source": [
    "DS держалась молодцом с 2005 по 2008, затем пошла на спад. После 2013 потеряла свою актуальность."
   ]
  },
  {
   "cell_type": "code",
   "execution_count": 25,
   "metadata": {},
   "outputs": [
    {
     "data": {
      "image/png": "[encoded data removed]",
      "text/plain": [
       "<Figure size 576x360 with 1 Axes>"
      ]
     },
     "metadata": {
      "needs_background": "light"
     },
     "output_type": "display_data"
    }
   ],
   "source": [
    "data \\\n",
    "    .query('platform == \"PS\"') \\\n",
    "    .pivot_table(index='year_of_release', values='total_sales', aggfunc='sum') \\\n",
    "    .plot(figsize=(8, 5), kind='bar')\n",
    "plt.title('Продажи на PS')\n",
    "plt.show()"
   ]
  },
  {
   "cell_type": "markdown",
   "metadata": {},
   "source": [
    "Продажи на PS стремительно росли с 1995 по 1998, затем так же стремительно пошли вниз. После 2003 платформа не актуальна."
   ]
  },
  {
   "cell_type": "markdown",
   "metadata": {},
   "source": [
    "**Можно сделать вывод о том, что платформы существуют в среднем 10-11 лет и имеют имеют высокий показатель продаж около 4 лет. Поэтому для прогнозирования продаж на 2017 год возьмём данные с 2013 года**"
   ]
  },
  {
   "cell_type": "markdown",
   "metadata": {},
   "source": [
    "### Какие платформы лидируют по продажам, растут или падают. Выберем несколько потенциально прибыльных платформ."
   ]
  },
  {
   "cell_type": "code",
   "execution_count": 26,
   "metadata": {},
   "outputs": [],
   "source": [
    "data_actual = data.query('year_of_release >= 2013')"
   ]
  },
  {
   "cell_type": "code",
   "execution_count": 27,
   "metadata": {},
   "outputs": [
    {
     "data": {
      "image/png": "[encoded data removed]",
      "text/plain": [
       "<Figure size 720x360 with 1 Axes>"
      ]
     },
     "metadata": {
      "needs_background": "light"
     },
     "output_type": "display_data"
    }
   ],
   "source": [
    "data_actual \\\n",
    "    .pivot_table(index='platform', values='total_sales', aggfunc='sum') \\\n",
    "    .sort_values(by='total_sales', ascending=False) \\\n",
    "    .plot(figsize=(10, 5), kind='bar')\n",
    "plt.show()"
   ]
  },
  {
   "cell_type": "markdown",
   "metadata": {},
   "source": [
    "На графике видно, что мы имеем 2 лидера: PS4 и XOne. Стоит изучить их подробнее по годам. Также уделим внимание 3DS, WiiU, PC. Остальные платформы были рассмотрены раннее, роста там не будет."
   ]
  },
  {
   "cell_type": "code",
   "execution_count": 28,
   "metadata": {},
   "outputs": [
    {
     "data": {
      "image/png": "[encoded data removed]",
      "text/plain": [
       "<Figure size 576x360 with 1 Axes>"
      ]
     },
     "metadata": {
      "needs_background": "light"
     },
     "output_type": "display_data"
    }
   ],
   "source": [
    "data_actual \\\n",
    "    .query('platform == \"PS4\"') \\\n",
    "    .pivot_table(index='year_of_release', values='total_sales', aggfunc='sum') \\\n",
    "    .plot(figsize=(8, 5), kind='bar') \n",
    "plt.title('Продажи на PS4')\n",
    "plt.show()"
   ]
  },
  {
   "cell_type": "markdown",
   "metadata": {},
   "source": [
    "Учитывая, что данные за 2016 год неполные, и взяв во внимание, что у предыдущих поколений PS продажи росли на прояжении 4-5 лет, можно предположить, что PS4 в 2017 году принесёт прибыль."
   ]
  },
  {
   "cell_type": "code",
   "execution_count": 29,
   "metadata": {},
   "outputs": [
    {
     "data": {
      "image/png": "[encoded data removed]",
      "text/plain": [
       "<Figure size 576x360 with 1 Axes>"
      ]
     },
     "metadata": {
      "needs_background": "light"
     },
     "output_type": "display_data"
    }
   ],
   "source": [
    "data_actual \\\n",
    "    .query('platform == \"XOne\"') \\\n",
    "    .pivot_table(index='year_of_release', values='total_sales', aggfunc='sum') \\\n",
    "    .plot(figsize=(8, 5), kind='bar') \n",
    "plt.title('Продажи на XOne')\n",
    "plt.show()"
   ]
  },
  {
   "cell_type": "markdown",
   "metadata": {},
   "source": [
    "Аналогично PS4 можно предположить, что в 2016 и 2017 году продажи будут на высоких уровнях."
   ]
  },
  {
   "cell_type": "code",
   "execution_count": 30,
   "metadata": {},
   "outputs": [
    {
     "data": {
      "image/png": "[encoded data removed]",
      "text/plain": [
       "<Figure size 576x360 with 1 Axes>"
      ]
     },
     "metadata": {
      "needs_background": "light"
     },
     "output_type": "display_data"
    }
   ],
   "source": [
    "data_actual \\\n",
    "    .query('platform == \"3DS\"') \\\n",
    "    .pivot_table(index='year_of_release', values='total_sales', aggfunc='sum') \\\n",
    "    .plot(figsize=(8, 5), kind='bar') \n",
    "plt.title('Продажи на 3DS')\n",
    "plt.show()"
   ]
  },
  {
   "cell_type": "markdown",
   "metadata": {},
   "source": [
    "Снижение 3 года подряд, в будущем хороших цифр ждать вряд ли придётся."
   ]
  },
  {
   "cell_type": "code",
   "execution_count": 31,
   "metadata": {},
   "outputs": [
    {
     "data": {
      "image/png": "[encoded data removed]",
      "text/plain": [
       "<Figure size 576x360 with 1 Axes>"
      ]
     },
     "metadata": {
      "needs_background": "light"
     },
     "output_type": "display_data"
    }
   ],
   "source": [
    "data_actual \\\n",
    "    .query('platform == \"WiiU\"') \\\n",
    "    .pivot_table(index='year_of_release', values='total_sales', aggfunc='sum') \\\n",
    "    .plot(figsize=(8, 5), kind='bar') \n",
    "plt.title('Продажи на WiiU')\n",
    "plt.show()"
   ]
  },
  {
   "cell_type": "markdown",
   "metadata": {},
   "source": [
    "Данная платформа также находится в фазе снижения."
   ]
  },
  {
   "cell_type": "code",
   "execution_count": 32,
   "metadata": {},
   "outputs": [
    {
     "data": {
      "image/png": "[encoded data removed]",
      "text/plain": [
       "<Figure size 576x360 with 1 Axes>"
      ]
     },
     "metadata": {
      "needs_background": "light"
     },
     "output_type": "display_data"
    }
   ],
   "source": [
    "data_actual \\\n",
    "    .query('platform == \"PC\"') \\\n",
    "    .pivot_table(index='year_of_release', values='total_sales', aggfunc='sum') \\\n",
    "    .plot(figsize=(8, 5), kind='bar') \n",
    "plt.title('Продажи на PC')\n",
    "plt.show()"
   ]
  },
  {
   "cell_type": "markdown",
   "metadata": {},
   "source": [
    "У PC провальный 2015 год, но может быть в 2016-2017 результаты будут лучше."
   ]
  },
  {
   "cell_type": "markdown",
   "metadata": {},
   "source": [
    "**Можно сделать вывод о том, что активно растут 2 платформы: PS4 и XOne; 3DS, WiiU и PC также пока занимают немалую долю рынка и держатся на плаву.**"
   ]
  },
  {
   "cell_type": "markdown",
   "metadata": {},
   "source": [
    "Построим график «ящик с усами» по глобальным продажам игр в разбивке по платформам."
   ]
  },
  {
   "cell_type": "code",
   "execution_count": 33,
   "metadata": {},
   "outputs": [
    {
     "data": {
      "image/png": "[encoded data removed]",
      "text/plain": [
       "<Figure size 576x720 with 1 Axes>"
      ]
     },
     "metadata": {
      "needs_background": "light"
     },
     "output_type": "display_data"
    }
   ],
   "source": [
    "actual_platforms = ['PS4', 'XOne', '3DS', 'WiiU', 'PC']\n",
    "data_actual.query('platform in @actual_platforms').boxplot(column='total_sales', by='platform', figsize=(8, 10))\n",
    "plt.ylim(0, 5)\n",
    "plt.show()"
   ]
  },
  {
   "cell_type": "markdown",
   "metadata": {},
   "source": [
    "По графику видно, что в лидерах PS4, WiiU и XOne: их медианные значения находятся выше. PC является скорее самым стабильным, размах там меньше всего."
   ]
  },
  {
   "cell_type": "markdown",
   "metadata": {},
   "source": [
    "### Влияние оценок пользователей и критиков на продажи внутри платформ"
   ]
  },
  {
   "cell_type": "markdown",
   "metadata": {},
   "source": [
    "Построим диаграмму рассеяния и посчитаем корреляцию между продажами и отзывами для наших пяти платформ."
   ]
  },
  {
   "cell_type": "code",
   "execution_count": 34,
   "metadata": {},
   "outputs": [
    {
     "name": "stdout",
     "output_type": "stream",
     "text": [
      "Корреляция оценок пользователей с продажами: 0.0419989632391509\n",
      "Корреляция оценок критиков с продажами: 0.3335753710761152\n"
     ]
    },
    {
     "data": {
      "image/png": "[encoded data removed]",
      "text/plain": [
       "<Figure size 432x288 with 1 Axes>"
      ]
     },
     "metadata": {
      "needs_background": "light"
     },
     "output_type": "display_data"
    },
    {
     "data": {
      "image/png": "[encoded data removed]",
      "text/plain": [
       "<Figure size 432x288 with 1 Axes>"
      ]
     },
     "metadata": {
      "needs_background": "light"
     },
     "output_type": "display_data"
    }
   ],
   "source": [
    "new_data_actual = data_actual.query('platform in @actual_platforms')\n",
    "new_data_actual.plot(x='user_score', y='total_sales', kind='scatter')\n",
    "plt.title('Корреляция оценок пользователей с продажами')\n",
    "print('Корреляция оценок пользователей с продажами:',new_data_actual['user_score'].corr(new_data_actual['total_sales']))\n",
    "\n",
    "new_data_actual.plot(x='critic_score', y='total_sales', kind='scatter') \n",
    "plt.title('Корреляция оценок критиков с продажами')\n",
    "print('Корреляция оценок критиков с продажами:',new_data_actual['critic_score'].corr(new_data_actual['total_sales']))"
   ]
  },
  {
   "cell_type": "markdown",
   "metadata": {},
   "source": [
    "Также в отдельности разберём одну из платформ, например, XOne."
   ]
  },
  {
   "cell_type": "code",
   "execution_count": 35,
   "metadata": {},
   "outputs": [
    {
     "name": "stdout",
     "output_type": "stream",
     "text": [
      "Корреляция оценок пользователей с продажами: -0.06892505328279414\n",
      "Корреляция оценок критиков с продажами: 0.4169983280084017\n"
     ]
    },
    {
     "data": {
      "image/png": "[encoded data removed]",
      "text/plain": [
       "<Figure size 432x288 with 1 Axes>"
      ]
     },
     "metadata": {
      "needs_background": "light"
     },
     "output_type": "display_data"
    },
    {
     "data": {
      "image/png": "[encoded data removed]",
      "text/plain": [
       "<Figure size 432x288 with 1 Axes>"
      ]
     },
     "metadata": {
      "needs_background": "light"
     },
     "output_type": "display_data"
    }
   ],
   "source": [
    "xone_data = new_data_actual.query('platform == \"XOne\"')\n",
    "new_data_actual.plot(x='user_score', y='total_sales', kind='scatter')\n",
    "plt.title('Корреляция оценок пользователей с продажами')\n",
    "print('Корреляция оценок пользователей с продажами:',xone_data['user_score'].corr(xone_data['total_sales']))\n",
    "\n",
    "new_data_actual.plot(x='critic_score', y='total_sales', kind='scatter') \n",
    "plt.title('Корреляция оценок критиков с продажами')\n",
    "print('Корреляция оценок критиков с продажами:',xone_data['critic_score'].corr(xone_data['total_sales']))"
   ]
  },
  {
   "cell_type": "markdown",
   "metadata": {},
   "source": [
    "По диаграммам и коэффициенту корреляции Пирсона видно, что оценки критиков слабо влияют на количество продаж наших лидеров рынка и XOne в частности, а оценки пользователей и вовсе на продажи не влияют."
   ]
  },
  {
   "cell_type": "markdown",
   "metadata": {},
   "source": [
    "### Общее распределение игр по жанрам"
   ]
  },
  {
   "cell_type": "markdown",
   "metadata": {},
   "source": [
    "Построим диаграммы размаха для жанров с 2013 по 2016."
   ]
  },
  {
   "cell_type": "code",
   "execution_count": 36,
   "metadata": {},
   "outputs": [
    {
     "data": {
      "image/png": "[encoded data removed]",
      "text/plain": [
       "<Figure size 864x576 with 1 Axes>"
      ]
     },
     "metadata": {
      "needs_background": "light"
     },
     "output_type": "display_data"
    }
   ],
   "source": [
    "actual_platforms = ['PS4', 'XOne', '3DS', 'WiiU', 'PC']\n",
    "data_actual.query('platform in @actual_platforms').boxplot(column='total_sales', by='genre', figsize=(12, 8))\n",
    "plt.ylim(0, 5)\n",
    "plt.show()"
   ]
  },
  {
   "cell_type": "markdown",
   "metadata": {},
   "source": [
    "По графику видно, что с 2013 по 2016 г. на наших пяти платформах, исходя из медианного значения продаж, наиболее прибыльные жанры: Shooter, Sports и PLatform."
   ]
  },
  {
   "cell_type": "markdown",
   "metadata": {},
   "source": [
    "### Портрет пользователя каждого региона"
   ]
  },
  {
   "cell_type": "markdown",
   "metadata": {},
   "source": [
    "Определим топ-5 платформ и долю между ними для каждого региона"
   ]
  },
  {
   "cell_type": "code",
   "execution_count": 37,
   "metadata": {},
   "outputs": [
    {
     "name": "stdout",
     "output_type": "stream",
     "text": [
      "platform\n",
      "PS4     108.74\n",
      "XOne     93.12\n",
      "X360     81.66\n",
      "PS3      63.50\n",
      "3DS      38.20\n",
      "Name: na_sales, dtype: float64\n"
     ]
    },
    {
     "data": {
      "image/png": "[encoded data removed]",
      "text/plain": [
       "<Figure size 432x288 with 1 Axes>"
      ]
     },
     "metadata": {},
     "output_type": "display_data"
    }
   ],
   "source": [
    "user_platform_na = data_actual.groupby('platform')['na_sales'].sum().sort_values(ascending=False).head(5)\n",
    "labels_na = ['PS4', 'XOne', 'X360', 'PS3', '3DS']\n",
    "plt.pie(user_platform_na, labels= labels_na)\n",
    "\n",
    "print(user_platform_na)\n",
    "plt.title('Распределение долей топ-5 платформ на рынке Америки')\n",
    "plt.show()"
   ]
  },
  {
   "cell_type": "code",
   "execution_count": 38,
   "metadata": {},
   "outputs": [
    {
     "name": "stdout",
     "output_type": "stream",
     "text": [
      "platform\n",
      "PS4     141.09\n",
      "PS3      67.81\n",
      "XOne     51.59\n",
      "X360     42.52\n",
      "3DS      30.96\n",
      "Name: eu_sales, dtype: float64\n"
     ]
    },
    {
     "data": {
      "image/png": "[encoded data removed]",
      "text/plain": [
       "<Figure size 432x288 with 1 Axes>"
      ]
     },
     "metadata": {},
     "output_type": "display_data"
    }
   ],
   "source": [
    "user_platform_eu = data_actual.groupby('platform')['eu_sales'].sum().sort_values(ascending=False).head(5)\n",
    "labels_eu = ['PS4', 'PS3', 'XOne', 'X360', '3DS']\n",
    "plt.pie(user_platform_eu, labels= labels_eu)\n",
    "\n",
    "print(user_platform_eu)\n",
    "plt.title('Распределение долей топ-5 платформ на рынке Европы')\n",
    "plt.show()"
   ]
  },
  {
   "cell_type": "code",
   "execution_count": 39,
   "metadata": {
    "scrolled": true
   },
   "outputs": [
    {
     "name": "stdout",
     "output_type": "stream",
     "text": [
      "platform\n",
      "3DS     67.81\n",
      "PS3     23.35\n",
      "PSV     18.59\n",
      "PS4     15.96\n",
      "WiiU    10.88\n",
      "Name: jp_sales, dtype: float64\n"
     ]
    },
    {
     "data": {
      "image/png": "[encoded data removed]",
      "text/plain": [
       "<Figure size 432x288 with 1 Axes>"
      ]
     },
     "metadata": {},
     "output_type": "display_data"
    }
   ],
   "source": [
    "user_platform_jp = data_actual.groupby('platform')['jp_sales'].sum().sort_values(ascending=False).head(5)\n",
    "labels_jp = ['3DS', 'PS3', 'PSV', 'PS4', 'WiiU']\n",
    "plt.pie(user_platform_jp, labels= labels_jp)\n",
    "\n",
    "print(user_platform_jp)\n",
    "plt.title('Распределение долей топ-5 платформ на рынке Японии')\n",
    "plt.show()"
   ]
  },
  {
   "cell_type": "markdown",
   "metadata": {},
   "source": [
    "Для пользователей Америки и Европы в топ-5 входят одни и те же платформы немного в разных долях, но явно заметно первенство PS4.\\\n",
    "На рынке Японии в топе находятся исключительно платформы родом из самой Японии, львиную долю рынка занимает Nintendo 3DS."
   ]
  },
  {
   "cell_type": "markdown",
   "metadata": {},
   "source": [
    "Далее изучим наиболее популярные жанры игр по регионам."
   ]
  },
  {
   "cell_type": "code",
   "execution_count": 40,
   "metadata": {},
   "outputs": [
    {
     "name": "stdout",
     "output_type": "stream",
     "text": [
      "genre\n",
      "Action          126.05\n",
      "Shooter         109.74\n",
      "Sports           65.27\n",
      "Role-Playing     46.40\n",
      "Misc             27.49\n",
      "Name: na_sales, dtype: float64\n"
     ]
    },
    {
     "data": {
      "image/png": "[encoded data removed]",
      "text/plain": [
       "<Figure size 432x288 with 1 Axes>"
      ]
     },
     "metadata": {
      "needs_background": "light"
     },
     "output_type": "display_data"
    }
   ],
   "source": [
    "user_genre_na = data_actual.groupby('genre')['na_sales'].sum().sort_values(ascending=False).head(5)\n",
    "user_genre_na.plot(kind='bar')\n",
    "print(user_genre_na)\n",
    "plt.show()"
   ]
  },
  {
   "cell_type": "code",
   "execution_count": 41,
   "metadata": {},
   "outputs": [
    {
     "name": "stdout",
     "output_type": "stream",
     "text": [
      "genre\n",
      "Action          118.13\n",
      "Shooter          87.86\n",
      "Sports           60.52\n",
      "Role-Playing     36.97\n",
      "Racing           20.19\n",
      "Name: eu_sales, dtype: float64\n"
     ]
    },
    {
     "data": {
      "image/png": "[encoded data removed]",
      "text/plain": [
       "<Figure size 432x288 with 1 Axes>"
      ]
     },
     "metadata": {
      "needs_background": "light"
     },
     "output_type": "display_data"
    }
   ],
   "source": [
    "user_genre_eu = data_actual.groupby('genre')['eu_sales'].sum().sort_values(ascending=False).head(5)\n",
    "user_genre_eu.plot(kind='bar')\n",
    "print(user_genre_eu)\n",
    "plt.show()"
   ]
  },
  {
   "cell_type": "code",
   "execution_count": 42,
   "metadata": {},
   "outputs": [
    {
     "name": "stdout",
     "output_type": "stream",
     "text": [
      "genre\n",
      "Role-Playing    51.04\n",
      "Action          40.49\n",
      "Misc             9.20\n",
      "Fighting         7.65\n",
      "Shooter          6.61\n",
      "Name: jp_sales, dtype: float64\n"
     ]
    },
    {
     "data": {
      "image/png": "[encoded data removed]",
      "text/plain": [
       "<Figure size 432x288 with 1 Axes>"
      ]
     },
     "metadata": {
      "needs_background": "light"
     },
     "output_type": "display_data"
    }
   ],
   "source": [
    "user_genre_jp = data_actual.groupby('genre')['jp_sales'].sum().sort_values(ascending=False).head(5)\n",
    "user_genre_jp.plot(kind='bar')\n",
    "print(user_genre_jp)\n",
    "plt.show()"
   ]
  },
  {
   "cell_type": "markdown",
   "metadata": {},
   "source": [
    "На рынках Америки и Европы одинаково преобладают жанры Action и Shooter. В Японии же на первом месте игры жанра Role-Playing, за ними следуют игры Action. Вероятнее всего причина отличия кроется в культурных особенностях регионов. Но факт, что игры жанра Action имеют популярность и там, и там."
   ]
  },
  {
   "cell_type": "markdown",
   "metadata": {},
   "source": [
    "Далее определим влияние рейтинга ESRB на количество продаж в разных регионах."
   ]
  },
  {
   "cell_type": "code",
   "execution_count": 43,
   "metadata": {},
   "outputs": [
    {
     "data": {
      "text/plain": [
       "<AxesSubplot:xlabel='rating'>"
      ]
     },
     "execution_count": 43,
     "metadata": {},
     "output_type": "execute_result"
    },
    {
     "data": {
      "image/png": "[encoded data removed]",
      "text/plain": [
       "<Figure size 720x432 with 1 Axes>"
      ]
     },
     "metadata": {
      "needs_background": "light"
     },
     "output_type": "display_data"
    }
   ],
   "source": [
    "data_actual \\\n",
    "    .pivot_table(index='rating', values=['na_sales', 'eu_sales', 'jp_sales'], aggfunc='mean') \\\n",
    "    .sort_values(by='na_sales', ascending=False) \\\n",
    "    .plot(kind='bar', figsize=(10, 6)) "
   ]
  },
  {
   "cell_type": "markdown",
   "metadata": {},
   "source": [
    "В Европе и Америке наиболее популярные игры категории для взрослых, следом за ними идут игры \"для всех\". ESRB ориентируется на США и Канаду. Европа также следует трендам стран Северной Америки, поэтому их графики схожи. В Японии же этот рейтинг видимо значения не имеет, поэтому количество продаж игр с рейтингом unknown больше, чем игр с различными оценками ESRB."
   ]
  },
  {
   "cell_type": "markdown",
   "metadata": {},
   "source": [
    "## Проверка гипотез"
   ]
  },
  {
   "cell_type": "markdown",
   "metadata": {},
   "source": [
    "### Гипотеза об идентичности средних пользовательских рейтингов платформ Xbox One и PC."
   ]
  },
  {
   "cell_type": "markdown",
   "metadata": {},
   "source": [
    "H0: Средние пользовательские рейтинги платформ Xbox One и PC одинаковые \\\n",
    "H1: Средние пользовательские рейтинги платформ Xbox One и PC отличаются друг от друга"
   ]
  },
  {
   "cell_type": "code",
   "execution_count": 44,
   "metadata": {},
   "outputs": [
    {
     "name": "stdout",
     "output_type": "stream",
     "text": [
      "p-значение: 0.14012658403611503\n",
      "Не удалось отвернуть нулевую гипотезу\n"
     ]
    }
   ],
   "source": [
    "results = st.ttest_ind(data_actual.query('platform == \"XOne\"')['user_score'], data_actual.query('platform == \"PC\"')['user_score'], nan_policy='omit')\n",
    "print('p-значение:',results.pvalue)\n",
    "\n",
    "alpha = 0.05\n",
    "\n",
    "if results.pvalue < alpha:\n",
    "    print('Отвергаем нулевую гипотезу')\n",
    "else:\n",
    "    print('Не удалось отвернуть нулевую гипотезу')"
   ]
  },
  {
   "cell_type": "markdown",
   "metadata": {},
   "source": [
    "По результатам проверки нельзя отрицать тот факт, что пользовательские оценки XOne и PC имеют схожие значения."
   ]
  },
  {
   "cell_type": "markdown",
   "metadata": {},
   "source": [
    "### Гипотеза о различии средних пользовательских рейтингов жанров Action и Sports ."
   ]
  },
  {
   "cell_type": "markdown",
   "metadata": {},
   "source": [
    "H0:cредние пользовательские рейтинги жанров Action и Sports cхожи \\\n",
    "H1:cредние пользовательские рейтинги жанров Action и Sports разные"
   ]
  },
  {
   "cell_type": "code",
   "execution_count": 45,
   "metadata": {},
   "outputs": [
    {
     "name": "stdout",
     "output_type": "stream",
     "text": [
      "p-значение: 1.0517832389139422e-27\n",
      "Отвергаем нулевую гипотезу\n"
     ]
    }
   ],
   "source": [
    "results = st.ttest_ind(data_actual.query('genre == \"Action\"')['user_score'], data_actual.query('genre == \"Sports\"')['user_score'], nan_policy='omit')\n",
    "print('p-значение:',results.pvalue)\n",
    "\n",
    "alpha = 0.05\n",
    "\n",
    "if results.pvalue < alpha:\n",
    "    print('Отвергаем нулевую гипотезу')\n",
    "else:\n",
    "    print('Не удалось отвернуть нулевую гипотезу')"
   ]
  },
  {
   "cell_type": "markdown",
   "metadata": {},
   "source": [
    "Результат проверки гипотезы говорит, что пользовательские рейтинги жанров Action и Sports отличаются."
   ]
  },
  {
   "cell_type": "markdown",
   "metadata": {},
   "source": [
    "## Общий вывод"
   ]
  },
  {
   "cell_type": "markdown",
   "metadata": {},
   "source": [
    "В процессе исследования была проведена предобработка данных, включающая в себя: изменение названий столбцов, изменение типов данных и работу с пропусками.\n",
    "\n",
    "Также был проведён исследовательский анализ данных, в результате которого было сделано несколько выводов:\n",
    "1) Наибольший объём продаж за всё время имеют 6 платформ: PS2, X360, PS3, Wii, DS, PS.\\\n",
    "2) Были определены наиболее успешные платформы в акутальный период времени: PS4, XOne, 3DS, WiiU и PC.\\\n",
    "3) Установлено, что оценки пользователей и критиков слабо влияют на объём продаж.\\\n",
    "4) С 2013 по 2016 г. на платформах-лидерах наиболее популярные жанры: Shooter, Sports и PLatform.\\\n",
    "5) Составлены портреты пользователей из разных регионов, в результате сравнения которых было обнаружено сходство в предпочтениях Европы и Северной Америки и отличие от них рынка Японии. Но был выявлен факт того, что игры жанра Action пользуются огромной популярностью в представленных регионах.\n",
    "\n",
    "В результате проверки двух гипотез было установлено, что пользовательские оценки XOne и PC скорее имеют схожие значения и что пользовательские рейтинги жанров Action и Sports отличаются.\n",
    "\n",
    "\n",
    "Заказчику следует обратить внимание на следующие моменты:\n",
    "1) Предпочтения пользователей Северной Америки и Европы во многом схожи: самыми популярными платформами являются PS4 и XOne, а любимыми (и прибыльными) жанрами - Action, Shooter и Sports. Это болшой и привлекательный рынок.\\\n",
    "2) Рынок же Японии сильно отличается от двух предыдущих: самой популярной платформой является 3DS, а любимыми жанрами - Role-Playing и Action."
   ]
  }
 ],
 "metadata": {
  "ExecuteTimeLog": [
   {
    "duration": 78,
    "start_time": "2022-12-14T16:05:55.614Z"
   },
   {
    "duration": 799,
    "start_time": "2022-12-14T16:17:31.330Z"
   },
   {
    "duration": 15,
    "start_time": "2022-12-14T16:18:43.570Z"
   },
   {
    "duration": 5,
    "start_time": "2022-12-14T16:19:05.127Z"
   },
   {
    "duration": 4,
    "start_time": "2022-12-14T16:21:58.792Z"
   },
   {
    "duration": 3,
    "start_time": "2022-12-14T16:22:18.892Z"
   },
   {
    "duration": 14,
    "start_time": "2022-12-14T16:22:28.008Z"
   },
   {
    "duration": 74,
    "start_time": "2022-12-14T16:28:27.929Z"
   },
   {
    "duration": 102,
    "start_time": "2022-12-14T17:46:39.193Z"
   },
   {
    "duration": 7,
    "start_time": "2022-12-14T17:48:21.532Z"
   },
   {
    "duration": 15,
    "start_time": "2022-12-14T17:48:28.614Z"
   },
   {
    "duration": 3,
    "start_time": "2022-12-14T17:48:47.691Z"
   },
   {
    "duration": 14,
    "start_time": "2022-12-14T17:49:42.391Z"
   },
   {
    "duration": 11,
    "start_time": "2022-12-14T17:50:04.730Z"
   },
   {
    "duration": 13,
    "start_time": "2022-12-14T17:50:17.533Z"
   },
   {
    "duration": 9,
    "start_time": "2022-12-14T17:51:27.711Z"
   },
   {
    "duration": 79,
    "start_time": "2022-12-14T17:52:17.162Z"
   },
   {
    "duration": 15,
    "start_time": "2022-12-14T17:55:50.875Z"
   },
   {
    "duration": 3,
    "start_time": "2022-12-14T17:57:26.164Z"
   },
   {
    "duration": 5,
    "start_time": "2022-12-14T17:57:48.467Z"
   },
   {
    "duration": 5,
    "start_time": "2022-12-14T17:59:53.470Z"
   },
   {
    "duration": 5,
    "start_time": "2022-12-14T18:00:04.670Z"
   },
   {
    "duration": 14,
    "start_time": "2022-12-14T18:00:38.423Z"
   },
   {
    "duration": 4,
    "start_time": "2022-12-14T18:01:45.339Z"
   },
   {
    "duration": 474,
    "start_time": "2022-12-14T18:04:44.356Z"
   },
   {
    "duration": 6,
    "start_time": "2022-12-14T18:04:44.832Z"
   },
   {
    "duration": 18,
    "start_time": "2022-12-14T18:04:44.839Z"
   },
   {
    "duration": 3,
    "start_time": "2022-12-14T18:04:44.859Z"
   },
   {
    "duration": 18,
    "start_time": "2022-12-14T18:04:44.865Z"
   },
   {
    "duration": 38,
    "start_time": "2022-12-14T18:04:44.908Z"
   },
   {
    "duration": 13,
    "start_time": "2022-12-14T18:04:44.950Z"
   },
   {
    "duration": 10,
    "start_time": "2022-12-14T18:04:44.965Z"
   },
   {
    "duration": 4,
    "start_time": "2022-12-14T18:04:44.977Z"
   },
   {
    "duration": 7,
    "start_time": "2022-12-14T18:04:44.983Z"
   },
   {
    "duration": 8,
    "start_time": "2022-12-14T18:04:44.992Z"
   },
   {
    "duration": 11,
    "start_time": "2022-12-14T18:07:19.229Z"
   },
   {
    "duration": 18,
    "start_time": "2022-12-14T18:08:12.062Z"
   },
   {
    "duration": 30,
    "start_time": "2022-12-14T18:08:23.839Z"
   },
   {
    "duration": 22,
    "start_time": "2022-12-14T18:09:42.278Z"
   },
   {
    "duration": 6,
    "start_time": "2022-12-14T18:10:13.789Z"
   },
   {
    "duration": 5,
    "start_time": "2022-12-14T18:10:53.077Z"
   },
   {
    "duration": 1263,
    "start_time": "2022-12-14T18:12:35.423Z"
   },
   {
    "duration": 20,
    "start_time": "2022-12-14T18:14:13.438Z"
   },
   {
    "duration": 8,
    "start_time": "2022-12-14T18:14:37.322Z"
   },
   {
    "duration": 15,
    "start_time": "2022-12-14T18:15:19.850Z"
   },
   {
    "duration": 6,
    "start_time": "2022-12-14T18:20:33.751Z"
   },
   {
    "duration": 5,
    "start_time": "2022-12-14T18:25:23.964Z"
   },
   {
    "duration": 6,
    "start_time": "2022-12-14T18:25:27.644Z"
   },
   {
    "duration": 7,
    "start_time": "2022-12-14T18:36:20.583Z"
   },
   {
    "duration": 380,
    "start_time": "2022-12-14T18:40:14.099Z"
   },
   {
    "duration": 9,
    "start_time": "2022-12-14T18:40:25.295Z"
   },
   {
    "duration": 12,
    "start_time": "2022-12-14T18:40:35.604Z"
   },
   {
    "duration": 431,
    "start_time": "2022-12-14T18:40:50.165Z"
   },
   {
    "duration": 4,
    "start_time": "2022-12-14T18:40:50.598Z"
   },
   {
    "duration": 39,
    "start_time": "2022-12-14T18:40:50.604Z"
   },
   {
    "duration": 4,
    "start_time": "2022-12-14T18:40:50.645Z"
   },
   {
    "duration": 23,
    "start_time": "2022-12-14T18:40:50.652Z"
   },
   {
    "duration": 16,
    "start_time": "2022-12-14T18:40:50.677Z"
   },
   {
    "duration": 16,
    "start_time": "2022-12-14T18:40:50.704Z"
   },
   {
    "duration": 10,
    "start_time": "2022-12-14T18:40:50.724Z"
   },
   {
    "duration": 4,
    "start_time": "2022-12-14T18:40:50.735Z"
   },
   {
    "duration": 9,
    "start_time": "2022-12-14T18:40:50.741Z"
   },
   {
    "duration": 13,
    "start_time": "2022-12-14T18:40:50.751Z"
   },
   {
    "duration": 7,
    "start_time": "2022-12-14T18:40:50.765Z"
   },
   {
    "duration": 12,
    "start_time": "2022-12-14T18:40:50.774Z"
   },
   {
    "duration": 30,
    "start_time": "2022-12-14T18:40:50.789Z"
   },
   {
    "duration": 488,
    "start_time": "2022-12-14T18:53:27.730Z"
   },
   {
    "duration": 5,
    "start_time": "2022-12-14T18:53:28.220Z"
   },
   {
    "duration": 19,
    "start_time": "2022-12-14T18:53:28.226Z"
   },
   {
    "duration": 3,
    "start_time": "2022-12-14T18:53:28.248Z"
   },
   {
    "duration": 20,
    "start_time": "2022-12-14T18:53:28.253Z"
   },
   {
    "duration": 41,
    "start_time": "2022-12-14T18:53:28.275Z"
   },
   {
    "duration": 10,
    "start_time": "2022-12-14T18:53:28.317Z"
   },
   {
    "duration": 8,
    "start_time": "2022-12-14T18:53:28.329Z"
   },
   {
    "duration": 5,
    "start_time": "2022-12-14T18:53:28.338Z"
   },
   {
    "duration": 6,
    "start_time": "2022-12-14T18:53:28.345Z"
   },
   {
    "duration": 9,
    "start_time": "2022-12-14T18:53:28.352Z"
   },
   {
    "duration": 6,
    "start_time": "2022-12-14T18:53:28.362Z"
   },
   {
    "duration": 8,
    "start_time": "2022-12-14T18:53:28.369Z"
   },
   {
    "duration": 19,
    "start_time": "2022-12-14T18:53:28.405Z"
   },
   {
    "duration": 19,
    "start_time": "2022-12-14T18:53:49.953Z"
   },
   {
    "duration": 80,
    "start_time": "2022-12-14T18:55:31.717Z"
   },
   {
    "duration": 101,
    "start_time": "2022-12-14T18:59:26.939Z"
   },
   {
    "duration": 5,
    "start_time": "2022-12-14T18:59:32.213Z"
   },
   {
    "duration": 36,
    "start_time": "2022-12-14T18:59:36.219Z"
   },
   {
    "duration": 89,
    "start_time": "2022-12-14T19:00:27.279Z"
   },
   {
    "duration": 19,
    "start_time": "2022-12-14T19:01:28.789Z"
   },
   {
    "duration": 1059,
    "start_time": "2022-12-15T13:48:43.985Z"
   },
   {
    "duration": 707,
    "start_time": "2022-12-15T13:49:25.514Z"
   },
   {
    "duration": 4,
    "start_time": "2022-12-15T13:49:26.224Z"
   },
   {
    "duration": 19,
    "start_time": "2022-12-15T13:49:26.230Z"
   },
   {
    "duration": 4,
    "start_time": "2022-12-15T13:49:26.251Z"
   },
   {
    "duration": 21,
    "start_time": "2022-12-15T13:49:26.257Z"
   },
   {
    "duration": 14,
    "start_time": "2022-12-15T13:49:26.280Z"
   },
   {
    "duration": 13,
    "start_time": "2022-12-15T13:49:26.295Z"
   },
   {
    "duration": 13,
    "start_time": "2022-12-15T13:49:26.310Z"
   },
   {
    "duration": 5,
    "start_time": "2022-12-15T13:49:26.325Z"
   },
   {
    "duration": 27,
    "start_time": "2022-12-15T13:49:26.331Z"
   },
   {
    "duration": 11,
    "start_time": "2022-12-15T13:49:26.360Z"
   },
   {
    "duration": 6,
    "start_time": "2022-12-15T13:49:26.374Z"
   },
   {
    "duration": 40,
    "start_time": "2022-12-15T13:49:26.382Z"
   },
   {
    "duration": 15,
    "start_time": "2022-12-15T13:49:26.424Z"
   },
   {
    "duration": 27,
    "start_time": "2022-12-15T13:49:26.442Z"
   },
   {
    "duration": 30,
    "start_time": "2022-12-15T13:49:26.470Z"
   },
   {
    "duration": 69,
    "start_time": "2022-12-15T13:51:54.416Z"
   },
   {
    "duration": 80,
    "start_time": "2022-12-15T13:51:58.439Z"
   },
   {
    "duration": 84,
    "start_time": "2022-12-15T13:52:05.198Z"
   },
   {
    "duration": 191,
    "start_time": "2022-12-15T13:52:11.320Z"
   },
   {
    "duration": 152,
    "start_time": "2022-12-15T13:52:32.935Z"
   },
   {
    "duration": 164,
    "start_time": "2022-12-15T13:52:50.265Z"
   },
   {
    "duration": 191,
    "start_time": "2022-12-15T13:53:02.266Z"
   },
   {
    "duration": 213,
    "start_time": "2022-12-15T13:53:09.035Z"
   },
   {
    "duration": 161,
    "start_time": "2022-12-15T13:55:37.086Z"
   },
   {
    "duration": 160,
    "start_time": "2022-12-15T13:55:57.413Z"
   },
   {
    "duration": 71,
    "start_time": "2022-12-15T14:01:32.515Z"
   },
   {
    "duration": 3,
    "start_time": "2022-12-15T14:03:15.782Z"
   },
   {
    "duration": 147,
    "start_time": "2022-12-15T14:03:19.097Z"
   },
   {
    "duration": 276,
    "start_time": "2022-12-15T14:04:19.380Z"
   },
   {
    "duration": 18,
    "start_time": "2022-12-15T14:06:32.951Z"
   },
   {
    "duration": 274,
    "start_time": "2022-12-15T14:06:43.904Z"
   },
   {
    "duration": 281,
    "start_time": "2022-12-15T14:06:54.430Z"
   },
   {
    "duration": 84,
    "start_time": "2022-12-15T14:12:41.184Z"
   },
   {
    "duration": 80,
    "start_time": "2022-12-15T14:15:45.728Z"
   },
   {
    "duration": 75,
    "start_time": "2022-12-15T14:15:58.402Z"
   },
   {
    "duration": 75,
    "start_time": "2022-12-15T14:16:12.234Z"
   },
   {
    "duration": 72,
    "start_time": "2022-12-15T14:16:55.769Z"
   },
   {
    "duration": 73,
    "start_time": "2022-12-15T14:17:01.730Z"
   },
   {
    "duration": 91,
    "start_time": "2022-12-15T14:18:09.790Z"
   },
   {
    "duration": 74,
    "start_time": "2022-12-15T14:18:27.109Z"
   },
   {
    "duration": 96,
    "start_time": "2022-12-15T14:19:52.174Z"
   },
   {
    "duration": 84,
    "start_time": "2022-12-15T14:19:57.164Z"
   },
   {
    "duration": 82,
    "start_time": "2022-12-15T14:20:23.905Z"
   },
   {
    "duration": 29,
    "start_time": "2022-12-15T14:20:33.427Z"
   },
   {
    "duration": 24,
    "start_time": "2022-12-15T14:20:58.192Z"
   },
   {
    "duration": 193,
    "start_time": "2022-12-15T14:21:31.252Z"
   },
   {
    "duration": 26,
    "start_time": "2022-12-15T14:21:39.337Z"
   },
   {
    "duration": 70,
    "start_time": "2022-12-15T14:21:46.867Z"
   },
   {
    "duration": 244,
    "start_time": "2022-12-15T14:21:54.264Z"
   },
   {
    "duration": 180,
    "start_time": "2022-12-15T14:22:37.772Z"
   },
   {
    "duration": 177,
    "start_time": "2022-12-15T14:23:02.071Z"
   },
   {
    "duration": 187,
    "start_time": "2022-12-15T14:23:57.328Z"
   },
   {
    "duration": 196,
    "start_time": "2022-12-15T14:24:10.143Z"
   },
   {
    "duration": 178,
    "start_time": "2022-12-15T14:24:12.649Z"
   },
   {
    "duration": 177,
    "start_time": "2022-12-15T14:24:20.810Z"
   },
   {
    "duration": 186,
    "start_time": "2022-12-15T14:24:22.839Z"
   },
   {
    "duration": 196,
    "start_time": "2022-12-15T14:25:40.049Z"
   },
   {
    "duration": 194,
    "start_time": "2022-12-15T14:25:52.979Z"
   },
   {
    "duration": 183,
    "start_time": "2022-12-15T14:26:12.595Z"
   },
   {
    "duration": 247,
    "start_time": "2022-12-15T14:26:31.136Z"
   },
   {
    "duration": 191,
    "start_time": "2022-12-15T14:26:42.848Z"
   },
   {
    "duration": 170,
    "start_time": "2022-12-15T14:26:57.670Z"
   },
   {
    "duration": 165,
    "start_time": "2022-12-15T14:27:10.241Z"
   },
   {
    "duration": 261,
    "start_time": "2022-12-15T14:35:30.907Z"
   },
   {
    "duration": 91,
    "start_time": "2022-12-15T14:52:29.606Z"
   },
   {
    "duration": 717,
    "start_time": "2022-12-15T14:52:39.760Z"
   },
   {
    "duration": 4,
    "start_time": "2022-12-15T14:52:40.479Z"
   },
   {
    "duration": 16,
    "start_time": "2022-12-15T14:52:40.485Z"
   },
   {
    "duration": 10,
    "start_time": "2022-12-15T14:52:40.503Z"
   },
   {
    "duration": 38,
    "start_time": "2022-12-15T14:52:40.514Z"
   },
   {
    "duration": 15,
    "start_time": "2022-12-15T14:52:40.554Z"
   },
   {
    "duration": 27,
    "start_time": "2022-12-15T14:52:40.571Z"
   },
   {
    "duration": 11,
    "start_time": "2022-12-15T14:52:40.600Z"
   },
   {
    "duration": 14,
    "start_time": "2022-12-15T14:52:40.613Z"
   },
   {
    "duration": 16,
    "start_time": "2022-12-15T14:52:40.630Z"
   },
   {
    "duration": 27,
    "start_time": "2022-12-15T14:52:40.647Z"
   },
   {
    "duration": 27,
    "start_time": "2022-12-15T14:52:40.675Z"
   },
   {
    "duration": 15,
    "start_time": "2022-12-15T14:52:40.703Z"
   },
   {
    "duration": 18,
    "start_time": "2022-12-15T14:52:40.719Z"
   },
   {
    "duration": 16,
    "start_time": "2022-12-15T14:52:40.739Z"
   },
   {
    "duration": 42,
    "start_time": "2022-12-15T14:52:40.757Z"
   },
   {
    "duration": 180,
    "start_time": "2022-12-15T14:52:40.801Z"
   },
   {
    "duration": 283,
    "start_time": "2022-12-15T14:52:40.984Z"
   },
   {
    "duration": 185,
    "start_time": "2022-12-15T14:52:41.269Z"
   },
   {
    "duration": 231,
    "start_time": "2022-12-15T14:52:41.455Z"
   },
   {
    "duration": 173,
    "start_time": "2022-12-15T14:52:41.688Z"
   },
   {
    "duration": 180,
    "start_time": "2022-12-15T14:52:41.863Z"
   },
   {
    "duration": 182,
    "start_time": "2022-12-15T14:52:42.044Z"
   },
   {
    "duration": 185,
    "start_time": "2022-12-15T14:52:42.228Z"
   },
   {
    "duration": 85,
    "start_time": "2022-12-15T14:55:42.473Z"
   },
   {
    "duration": 49,
    "start_time": "2022-12-15T18:55:13.611Z"
   },
   {
    "duration": 996,
    "start_time": "2022-12-15T18:55:22.540Z"
   },
   {
    "duration": 4,
    "start_time": "2022-12-15T18:55:23.538Z"
   },
   {
    "duration": 87,
    "start_time": "2022-12-15T18:55:23.544Z"
   },
   {
    "duration": 4,
    "start_time": "2022-12-15T18:55:23.633Z"
   },
   {
    "duration": 22,
    "start_time": "2022-12-15T18:55:23.638Z"
   },
   {
    "duration": 14,
    "start_time": "2022-12-15T18:55:23.662Z"
   },
   {
    "duration": 14,
    "start_time": "2022-12-15T18:55:23.678Z"
   },
   {
    "duration": 12,
    "start_time": "2022-12-15T18:55:23.693Z"
   },
   {
    "duration": 4,
    "start_time": "2022-12-15T18:55:23.707Z"
   },
   {
    "duration": 10,
    "start_time": "2022-12-15T18:55:23.714Z"
   },
   {
    "duration": 10,
    "start_time": "2022-12-15T18:55:23.725Z"
   },
   {
    "duration": 11,
    "start_time": "2022-12-15T18:55:23.737Z"
   },
   {
    "duration": 11,
    "start_time": "2022-12-15T18:55:23.750Z"
   },
   {
    "duration": 11,
    "start_time": "2022-12-15T18:55:23.763Z"
   },
   {
    "duration": 31,
    "start_time": "2022-12-15T18:55:23.776Z"
   },
   {
    "duration": 17,
    "start_time": "2022-12-15T18:55:23.809Z"
   },
   {
    "duration": 201,
    "start_time": "2022-12-15T18:55:23.828Z"
   },
   {
    "duration": 294,
    "start_time": "2022-12-15T18:55:24.031Z"
   },
   {
    "duration": 200,
    "start_time": "2022-12-15T18:55:24.326Z"
   },
   {
    "duration": 240,
    "start_time": "2022-12-15T18:55:24.528Z"
   },
   {
    "duration": 189,
    "start_time": "2022-12-15T18:55:24.770Z"
   },
   {
    "duration": 201,
    "start_time": "2022-12-15T18:55:24.960Z"
   },
   {
    "duration": 183,
    "start_time": "2022-12-15T18:55:25.163Z"
   },
   {
    "duration": 210,
    "start_time": "2022-12-15T18:55:25.348Z"
   },
   {
    "duration": 7,
    "start_time": "2022-12-15T18:55:25.560Z"
   },
   {
    "duration": 22,
    "start_time": "2022-12-15T18:55:29.619Z"
   },
   {
    "duration": 69,
    "start_time": "2022-12-15T18:55:55.117Z"
   },
   {
    "duration": 6,
    "start_time": "2022-12-15T18:56:00.750Z"
   },
   {
    "duration": 160,
    "start_time": "2022-12-15T18:56:55.329Z"
   },
   {
    "duration": 126,
    "start_time": "2022-12-15T19:09:15.236Z"
   },
   {
    "duration": 5,
    "start_time": "2022-12-15T19:09:29.525Z"
   },
   {
    "duration": 721,
    "start_time": "2022-12-15T19:09:35.884Z"
   },
   {
    "duration": 4,
    "start_time": "2022-12-15T19:09:36.608Z"
   },
   {
    "duration": 16,
    "start_time": "2022-12-15T19:09:36.613Z"
   },
   {
    "duration": 3,
    "start_time": "2022-12-15T19:09:36.632Z"
   },
   {
    "duration": 20,
    "start_time": "2022-12-15T19:09:36.637Z"
   },
   {
    "duration": 16,
    "start_time": "2022-12-15T19:09:36.659Z"
   },
   {
    "duration": 40,
    "start_time": "2022-12-15T19:09:36.676Z"
   },
   {
    "duration": 9,
    "start_time": "2022-12-15T19:09:36.718Z"
   },
   {
    "duration": 4,
    "start_time": "2022-12-15T19:09:36.728Z"
   },
   {
    "duration": 6,
    "start_time": "2022-12-15T19:09:36.734Z"
   },
   {
    "duration": 10,
    "start_time": "2022-12-15T19:09:36.742Z"
   },
   {
    "duration": 8,
    "start_time": "2022-12-15T19:09:36.753Z"
   },
   {
    "duration": 9,
    "start_time": "2022-12-15T19:09:36.763Z"
   },
   {
    "duration": 34,
    "start_time": "2022-12-15T19:09:36.773Z"
   },
   {
    "duration": 5,
    "start_time": "2022-12-15T19:09:36.809Z"
   },
   {
    "duration": 18,
    "start_time": "2022-12-15T19:09:36.815Z"
   },
   {
    "duration": 200,
    "start_time": "2022-12-15T19:09:36.835Z"
   },
   {
    "duration": 299,
    "start_time": "2022-12-15T19:09:37.037Z"
   },
   {
    "duration": 227,
    "start_time": "2022-12-15T19:09:37.338Z"
   },
   {
    "duration": 292,
    "start_time": "2022-12-15T19:09:37.567Z"
   },
   {
    "duration": 196,
    "start_time": "2022-12-15T19:09:37.861Z"
   },
   {
    "duration": 206,
    "start_time": "2022-12-15T19:09:38.059Z"
   },
   {
    "duration": 193,
    "start_time": "2022-12-15T19:09:38.268Z"
   },
   {
    "duration": 193,
    "start_time": "2022-12-15T19:09:38.463Z"
   },
   {
    "duration": 6,
    "start_time": "2022-12-15T19:09:38.657Z"
   },
   {
    "duration": 189,
    "start_time": "2022-12-15T19:09:38.664Z"
   },
   {
    "duration": 144,
    "start_time": "2022-12-15T19:09:38.854Z"
   },
   {
    "duration": 138,
    "start_time": "2022-12-15T19:17:50.161Z"
   },
   {
    "duration": 134,
    "start_time": "2022-12-15T19:17:56.619Z"
   },
   {
    "duration": 909,
    "start_time": "2022-12-17T13:17:36.399Z"
   },
   {
    "duration": 4,
    "start_time": "2022-12-17T13:17:37.310Z"
   },
   {
    "duration": 19,
    "start_time": "2022-12-17T13:17:37.315Z"
   },
   {
    "duration": 3,
    "start_time": "2022-12-17T13:17:37.336Z"
   },
   {
    "duration": 15,
    "start_time": "2022-12-17T13:17:37.340Z"
   },
   {
    "duration": 25,
    "start_time": "2022-12-17T13:17:37.357Z"
   },
   {
    "duration": 13,
    "start_time": "2022-12-17T13:17:37.384Z"
   },
   {
    "duration": 9,
    "start_time": "2022-12-17T13:17:37.399Z"
   },
   {
    "duration": 13,
    "start_time": "2022-12-17T13:17:37.410Z"
   },
   {
    "duration": 7,
    "start_time": "2022-12-17T13:17:37.426Z"
   },
   {
    "duration": 10,
    "start_time": "2022-12-17T13:17:37.434Z"
   },
   {
    "duration": 13,
    "start_time": "2022-12-17T13:17:37.446Z"
   },
   {
    "duration": 7,
    "start_time": "2022-12-17T13:17:37.478Z"
   },
   {
    "duration": 15,
    "start_time": "2022-12-17T13:17:37.486Z"
   },
   {
    "duration": 14,
    "start_time": "2022-12-17T13:17:37.503Z"
   },
   {
    "duration": 20,
    "start_time": "2022-12-17T13:17:37.519Z"
   },
   {
    "duration": 215,
    "start_time": "2022-12-17T13:17:37.540Z"
   },
   {
    "duration": 293,
    "start_time": "2022-12-17T13:17:37.756Z"
   },
   {
    "duration": 217,
    "start_time": "2022-12-17T13:17:38.051Z"
   },
   {
    "duration": 330,
    "start_time": "2022-12-17T13:17:38.269Z"
   },
   {
    "duration": 199,
    "start_time": "2022-12-17T13:17:38.601Z"
   },
   {
    "duration": 198,
    "start_time": "2022-12-17T13:17:38.801Z"
   },
   {
    "duration": 193,
    "start_time": "2022-12-17T13:17:39.000Z"
   },
   {
    "duration": 196,
    "start_time": "2022-12-17T13:17:39.194Z"
   },
   {
    "duration": 6,
    "start_time": "2022-12-17T13:17:39.392Z"
   },
   {
    "duration": 194,
    "start_time": "2022-12-17T13:17:39.399Z"
   },
   {
    "duration": 154,
    "start_time": "2022-12-17T13:17:39.595Z"
   },
   {
    "duration": 166,
    "start_time": "2022-12-17T13:17:39.752Z"
   },
   {
    "duration": 152,
    "start_time": "2022-12-17T13:23:41.382Z"
   },
   {
    "duration": 140,
    "start_time": "2022-12-17T13:26:10.177Z"
   },
   {
    "duration": 143,
    "start_time": "2022-12-17T13:27:17.566Z"
   },
   {
    "duration": 43,
    "start_time": "2022-12-17T13:37:56.781Z"
   },
   {
    "duration": 264,
    "start_time": "2022-12-17T13:44:30.614Z"
   },
   {
    "duration": 46,
    "start_time": "2022-12-17T13:47:27.739Z"
   },
   {
    "duration": 11,
    "start_time": "2022-12-17T13:47:34.597Z"
   },
   {
    "duration": 127,
    "start_time": "2022-12-17T13:47:40.051Z"
   },
   {
    "duration": 44,
    "start_time": "2022-12-17T13:49:37.550Z"
   },
   {
    "duration": 9,
    "start_time": "2022-12-17T13:49:43.101Z"
   },
   {
    "duration": 238,
    "start_time": "2022-12-17T13:50:05.786Z"
   },
   {
    "duration": 198,
    "start_time": "2022-12-17T13:51:27.295Z"
   },
   {
    "duration": 185,
    "start_time": "2022-12-17T13:51:35.253Z"
   },
   {
    "duration": 14,
    "start_time": "2022-12-17T13:53:10.771Z"
   },
   {
    "duration": 112,
    "start_time": "2022-12-17T13:53:44.753Z"
   },
   {
    "duration": 137,
    "start_time": "2022-12-17T13:55:00.018Z"
   },
   {
    "duration": 165,
    "start_time": "2022-12-17T13:55:16.606Z"
   },
   {
    "duration": 225,
    "start_time": "2022-12-17T13:55:35.524Z"
   },
   {
    "duration": 13,
    "start_time": "2022-12-17T13:56:00.313Z"
   },
   {
    "duration": 149,
    "start_time": "2022-12-17T13:56:10.707Z"
   },
   {
    "duration": 203,
    "start_time": "2022-12-17T13:57:06.383Z"
   },
   {
    "duration": 284,
    "start_time": "2022-12-17T13:57:16.976Z"
   },
   {
    "duration": 250,
    "start_time": "2022-12-17T13:57:22.855Z"
   },
   {
    "duration": 219,
    "start_time": "2022-12-17T13:57:31.056Z"
   },
   {
    "duration": 257,
    "start_time": "2022-12-17T13:58:08.374Z"
   },
   {
    "duration": 199,
    "start_time": "2022-12-17T13:58:56.988Z"
   },
   {
    "duration": 196,
    "start_time": "2022-12-17T13:59:06.653Z"
   },
   {
    "duration": 193,
    "start_time": "2022-12-17T13:59:53.673Z"
   },
   {
    "duration": 146,
    "start_time": "2022-12-17T14:20:31.942Z"
   },
   {
    "duration": 158,
    "start_time": "2022-12-17T14:20:54.954Z"
   },
   {
    "duration": 308,
    "start_time": "2022-12-17T14:21:05.582Z"
   },
   {
    "duration": 316,
    "start_time": "2022-12-17T14:22:02.270Z"
   },
   {
    "duration": 389,
    "start_time": "2022-12-17T14:24:37.369Z"
   },
   {
    "duration": 47,
    "start_time": "2022-12-17T14:31:23.811Z"
   },
   {
    "duration": 54,
    "start_time": "2022-12-17T14:31:28.293Z"
   },
   {
    "duration": 288,
    "start_time": "2022-12-17T14:31:35.484Z"
   },
   {
    "duration": 287,
    "start_time": "2022-12-17T14:32:52.793Z"
   },
   {
    "duration": 315,
    "start_time": "2022-12-17T14:34:29.985Z"
   },
   {
    "duration": 281,
    "start_time": "2022-12-17T14:34:39.069Z"
   },
   {
    "duration": 1019,
    "start_time": "2022-12-17T18:30:44.057Z"
   },
   {
    "duration": 3,
    "start_time": "2022-12-17T18:30:45.078Z"
   },
   {
    "duration": 22,
    "start_time": "2022-12-17T18:30:45.082Z"
   },
   {
    "duration": 2,
    "start_time": "2022-12-17T18:30:45.106Z"
   },
   {
    "duration": 15,
    "start_time": "2022-12-17T18:30:45.110Z"
   },
   {
    "duration": 13,
    "start_time": "2022-12-17T18:30:45.126Z"
   },
   {
    "duration": 18,
    "start_time": "2022-12-17T18:30:45.140Z"
   },
   {
    "duration": 7,
    "start_time": "2022-12-17T18:30:45.160Z"
   },
   {
    "duration": 6,
    "start_time": "2022-12-17T18:30:45.168Z"
   },
   {
    "duration": 8,
    "start_time": "2022-12-17T18:30:45.176Z"
   },
   {
    "duration": 10,
    "start_time": "2022-12-17T18:30:45.185Z"
   },
   {
    "duration": 11,
    "start_time": "2022-12-17T18:30:45.197Z"
   },
   {
    "duration": 9,
    "start_time": "2022-12-17T18:30:45.210Z"
   },
   {
    "duration": 9,
    "start_time": "2022-12-17T18:30:45.221Z"
   },
   {
    "duration": 5,
    "start_time": "2022-12-17T18:30:45.252Z"
   },
   {
    "duration": 25,
    "start_time": "2022-12-17T18:30:45.258Z"
   },
   {
    "duration": 188,
    "start_time": "2022-12-17T18:30:45.284Z"
   },
   {
    "duration": 271,
    "start_time": "2022-12-17T18:30:45.474Z"
   },
   {
    "duration": 184,
    "start_time": "2022-12-17T18:30:45.747Z"
   },
   {
    "duration": 239,
    "start_time": "2022-12-17T18:30:45.933Z"
   },
   {
    "duration": 178,
    "start_time": "2022-12-17T18:30:46.174Z"
   },
   {
    "duration": 178,
    "start_time": "2022-12-17T18:30:46.354Z"
   },
   {
    "duration": 196,
    "start_time": "2022-12-17T18:30:46.534Z"
   },
   {
    "duration": 205,
    "start_time": "2022-12-17T18:30:46.732Z"
   },
   {
    "duration": 14,
    "start_time": "2022-12-17T18:30:46.940Z"
   },
   {
    "duration": 202,
    "start_time": "2022-12-17T18:30:46.956Z"
   },
   {
    "duration": 161,
    "start_time": "2022-12-17T18:30:47.159Z"
   },
   {
    "duration": 156,
    "start_time": "2022-12-17T18:30:47.324Z"
   },
   {
    "duration": 154,
    "start_time": "2022-12-17T18:30:47.482Z"
   },
   {
    "duration": 146,
    "start_time": "2022-12-17T18:30:47.637Z"
   },
   {
    "duration": 140,
    "start_time": "2022-12-17T18:30:47.784Z"
   },
   {
    "duration": 252,
    "start_time": "2022-12-17T18:30:47.925Z"
   },
   {
    "duration": 276,
    "start_time": "2022-12-17T18:30:48.179Z"
   },
   {
    "duration": 186,
    "start_time": "2022-12-17T18:32:13.535Z"
   },
   {
    "duration": 188,
    "start_time": "2022-12-17T18:33:14.566Z"
   },
   {
    "duration": 178,
    "start_time": "2022-12-17T18:33:32.757Z"
   },
   {
    "duration": 159,
    "start_time": "2022-12-17T18:33:59.562Z"
   },
   {
    "duration": 261,
    "start_time": "2022-12-17T18:34:34.380Z"
   },
   {
    "duration": 206,
    "start_time": "2022-12-17T18:39:15.036Z"
   },
   {
    "duration": 2,
    "start_time": "2022-12-17T18:40:53.712Z"
   },
   {
    "duration": 23,
    "start_time": "2022-12-17T18:41:53.953Z"
   },
   {
    "duration": 1185,
    "start_time": "2022-12-17T18:43:55.512Z"
   },
   {
    "duration": 71,
    "start_time": "2022-12-17T18:44:07.397Z"
   },
   {
    "duration": 71,
    "start_time": "2022-12-17T18:44:12.641Z"
   },
   {
    "duration": 12,
    "start_time": "2022-12-17T18:44:14.984Z"
   },
   {
    "duration": 1112,
    "start_time": "2022-12-17T18:44:28.952Z"
   },
   {
    "duration": 191,
    "start_time": "2022-12-17T18:46:16.301Z"
   },
   {
    "duration": 193,
    "start_time": "2022-12-17T18:46:31.440Z"
   },
   {
    "duration": 69,
    "start_time": "2022-12-17T18:47:13.820Z"
   },
   {
    "duration": 26,
    "start_time": "2022-12-17T18:47:22.736Z"
   },
   {
    "duration": 12,
    "start_time": "2022-12-17T18:49:02.496Z"
   },
   {
    "duration": 3,
    "start_time": "2022-12-17T18:49:07.031Z"
   },
   {
    "duration": 13,
    "start_time": "2022-12-17T18:49:10.509Z"
   },
   {
    "duration": 6,
    "start_time": "2022-12-17T18:52:38.615Z"
   },
   {
    "duration": 6,
    "start_time": "2022-12-17T18:52:42.003Z"
   },
   {
    "duration": 6,
    "start_time": "2022-12-17T18:52:43.340Z"
   },
   {
    "duration": 5,
    "start_time": "2022-12-17T18:53:02.301Z"
   },
   {
    "duration": 4,
    "start_time": "2022-12-17T18:53:04.023Z"
   },
   {
    "duration": 6,
    "start_time": "2022-12-17T18:53:18.155Z"
   },
   {
    "duration": 5,
    "start_time": "2022-12-17T18:53:20.681Z"
   },
   {
    "duration": 6,
    "start_time": "2022-12-17T18:53:27.888Z"
   },
   {
    "duration": 5,
    "start_time": "2022-12-17T18:53:29.979Z"
   },
   {
    "duration": 9,
    "start_time": "2022-12-17T18:53:38.924Z"
   },
   {
    "duration": 8,
    "start_time": "2022-12-17T18:56:55.057Z"
   },
   {
    "duration": 9,
    "start_time": "2022-12-17T18:57:23.813Z"
   },
   {
    "duration": 7,
    "start_time": "2022-12-17T18:57:51.675Z"
   },
   {
    "duration": 7,
    "start_time": "2022-12-17T18:58:48.724Z"
   },
   {
    "duration": 6,
    "start_time": "2022-12-17T18:59:21.442Z"
   },
   {
    "duration": 84,
    "start_time": "2022-12-17T19:00:06.379Z"
   },
   {
    "duration": 8,
    "start_time": "2022-12-17T19:00:27.841Z"
   },
   {
    "duration": 8,
    "start_time": "2022-12-17T19:00:32.672Z"
   },
   {
    "duration": 10,
    "start_time": "2022-12-17T19:00:37.879Z"
   },
   {
    "duration": 10,
    "start_time": "2022-12-17T19:02:40.132Z"
   },
   {
    "duration": 7,
    "start_time": "2022-12-17T19:03:04.662Z"
   },
   {
    "duration": 6,
    "start_time": "2022-12-17T19:04:02.841Z"
   },
   {
    "duration": 7,
    "start_time": "2022-12-17T19:04:14.716Z"
   },
   {
    "duration": 104,
    "start_time": "2022-12-17T19:07:25.401Z"
   },
   {
    "duration": 142,
    "start_time": "2022-12-17T19:07:38.340Z"
   },
   {
    "duration": 11,
    "start_time": "2022-12-17T19:11:40.539Z"
   },
   {
    "duration": 4,
    "start_time": "2022-12-17T19:12:07.504Z"
   },
   {
    "duration": 86,
    "start_time": "2022-12-17T19:12:19.206Z"
   },
   {
    "duration": 78,
    "start_time": "2022-12-17T19:12:31.171Z"
   },
   {
    "duration": 83,
    "start_time": "2022-12-17T19:13:02.013Z"
   },
   {
    "duration": 4,
    "start_time": "2022-12-17T19:14:54.656Z"
   },
   {
    "duration": 102,
    "start_time": "2022-12-17T19:14:57.119Z"
   },
   {
    "duration": 103,
    "start_time": "2022-12-17T19:15:13.171Z"
   },
   {
    "duration": 116,
    "start_time": "2022-12-17T19:17:11.878Z"
   },
   {
    "duration": 16,
    "start_time": "2022-12-17T19:19:06.643Z"
   },
   {
    "duration": 14,
    "start_time": "2022-12-17T19:19:26.655Z"
   },
   {
    "duration": 16,
    "start_time": "2022-12-17T19:19:36.582Z"
   },
   {
    "duration": 13,
    "start_time": "2022-12-17T19:20:26.762Z"
   },
   {
    "duration": 98,
    "start_time": "2022-12-17T19:20:38.983Z"
   },
   {
    "duration": 74,
    "start_time": "2022-12-17T19:20:45.311Z"
   },
   {
    "duration": 104,
    "start_time": "2022-12-17T19:21:55.596Z"
   },
   {
    "duration": 10,
    "start_time": "2022-12-17T19:23:13.324Z"
   },
   {
    "duration": 161,
    "start_time": "2022-12-17T19:25:54.367Z"
   },
   {
    "duration": 1220,
    "start_time": "2022-12-17T19:26:16.924Z"
   },
   {
    "duration": 1231,
    "start_time": "2022-12-17T19:26:55.967Z"
   },
   {
    "duration": 1216,
    "start_time": "2022-12-17T19:28:51.040Z"
   },
   {
    "duration": 1113,
    "start_time": "2022-12-17T19:29:11.515Z"
   },
   {
    "duration": 1077,
    "start_time": "2022-12-17T19:29:52.707Z"
   },
   {
    "duration": 1066,
    "start_time": "2022-12-17T19:31:18.960Z"
   },
   {
    "duration": 10,
    "start_time": "2022-12-17T19:31:34.223Z"
   },
   {
    "duration": 1137,
    "start_time": "2022-12-17T19:31:41.011Z"
   },
   {
    "duration": 7,
    "start_time": "2022-12-17T19:31:50.155Z"
   },
   {
    "duration": 8,
    "start_time": "2022-12-17T19:31:54.563Z"
   },
   {
    "duration": 5,
    "start_time": "2022-12-17T19:32:54.442Z"
   },
   {
    "duration": 7,
    "start_time": "2022-12-17T19:33:00.185Z"
   },
   {
    "duration": 1087,
    "start_time": "2022-12-17T19:33:17.493Z"
   },
   {
    "duration": 7,
    "start_time": "2022-12-17T19:33:43.313Z"
   },
   {
    "duration": 9,
    "start_time": "2022-12-17T19:35:39.306Z"
   },
   {
    "duration": 1086,
    "start_time": "2022-12-17T19:35:56.407Z"
   },
   {
    "duration": 5,
    "start_time": "2022-12-17T19:36:14.832Z"
   },
   {
    "duration": 4,
    "start_time": "2022-12-17T19:36:24.428Z"
   },
   {
    "duration": 99,
    "start_time": "2022-12-17T19:36:30.068Z"
   },
   {
    "duration": 101,
    "start_time": "2022-12-17T19:36:44.967Z"
   },
   {
    "duration": 13,
    "start_time": "2022-12-17T19:37:00.419Z"
   },
   {
    "duration": 13,
    "start_time": "2022-12-17T19:37:11.075Z"
   },
   {
    "duration": 6,
    "start_time": "2022-12-17T19:37:38.338Z"
   },
   {
    "duration": 7,
    "start_time": "2022-12-17T19:37:42.732Z"
   },
   {
    "duration": 11,
    "start_time": "2022-12-17T19:38:20.465Z"
   },
   {
    "duration": 10,
    "start_time": "2022-12-17T19:38:29.577Z"
   },
   {
    "duration": 7,
    "start_time": "2022-12-17T19:39:15.540Z"
   },
   {
    "duration": 8,
    "start_time": "2022-12-17T19:39:17.201Z"
   },
   {
    "duration": 8,
    "start_time": "2022-12-17T19:39:17.615Z"
   },
   {
    "duration": 7,
    "start_time": "2022-12-17T19:45:33.149Z"
   },
   {
    "duration": 7,
    "start_time": "2022-12-17T19:45:33.966Z"
   },
   {
    "duration": 9,
    "start_time": "2022-12-17T19:45:34.285Z"
   },
   {
    "duration": 7,
    "start_time": "2022-12-17T19:45:53.614Z"
   },
   {
    "duration": 7,
    "start_time": "2022-12-17T19:46:01.532Z"
   },
   {
    "duration": 79,
    "start_time": "2022-12-17T19:52:30.052Z"
   },
   {
    "duration": 87,
    "start_time": "2022-12-17T19:52:40.007Z"
   },
   {
    "duration": 99,
    "start_time": "2022-12-17T19:52:58.461Z"
   },
   {
    "duration": 48,
    "start_time": "2022-12-18T08:29:07.519Z"
   },
   {
    "duration": 7,
    "start_time": "2022-12-18T08:29:36.633Z"
   },
   {
    "duration": 1019,
    "start_time": "2022-12-18T08:29:45.066Z"
   },
   {
    "duration": 5,
    "start_time": "2022-12-18T08:29:46.087Z"
   },
   {
    "duration": 18,
    "start_time": "2022-12-18T08:29:46.094Z"
   },
   {
    "duration": 4,
    "start_time": "2022-12-18T08:29:46.114Z"
   },
   {
    "duration": 21,
    "start_time": "2022-12-18T08:29:46.120Z"
   },
   {
    "duration": 14,
    "start_time": "2022-12-18T08:29:46.143Z"
   },
   {
    "duration": 11,
    "start_time": "2022-12-18T08:29:46.159Z"
   },
   {
    "duration": 8,
    "start_time": "2022-12-18T08:29:46.171Z"
   },
   {
    "duration": 9,
    "start_time": "2022-12-18T08:29:46.181Z"
   },
   {
    "duration": 25,
    "start_time": "2022-12-18T08:29:46.193Z"
   },
   {
    "duration": 10,
    "start_time": "2022-12-18T08:29:46.221Z"
   },
   {
    "duration": 9,
    "start_time": "2022-12-18T08:29:46.233Z"
   },
   {
    "duration": 9,
    "start_time": "2022-12-18T08:29:46.244Z"
   },
   {
    "duration": 12,
    "start_time": "2022-12-18T08:29:46.254Z"
   },
   {
    "duration": 4,
    "start_time": "2022-12-18T08:29:46.268Z"
   },
   {
    "duration": 40,
    "start_time": "2022-12-18T08:29:46.274Z"
   },
   {
    "duration": 189,
    "start_time": "2022-12-18T08:29:46.315Z"
   },
   {
    "duration": 281,
    "start_time": "2022-12-18T08:29:46.505Z"
   },
   {
    "duration": 210,
    "start_time": "2022-12-18T08:29:46.788Z"
   },
   {
    "duration": 258,
    "start_time": "2022-12-18T08:29:47.000Z"
   },
   {
    "duration": 203,
    "start_time": "2022-12-18T08:29:47.261Z"
   },
   {
    "duration": 191,
    "start_time": "2022-12-18T08:29:47.466Z"
   },
   {
    "duration": 186,
    "start_time": "2022-12-18T08:29:47.660Z"
   },
   {
    "duration": 185,
    "start_time": "2022-12-18T08:29:47.848Z"
   },
   {
    "duration": 6,
    "start_time": "2022-12-18T08:29:48.035Z"
   },
   {
    "duration": 184,
    "start_time": "2022-12-18T08:29:48.043Z"
   },
   {
    "duration": 161,
    "start_time": "2022-12-18T08:29:48.229Z"
   },
   {
    "duration": 149,
    "start_time": "2022-12-18T08:29:48.394Z"
   },
   {
    "duration": 141,
    "start_time": "2022-12-18T08:29:48.544Z"
   },
   {
    "duration": 151,
    "start_time": "2022-12-18T08:29:48.687Z"
   },
   {
    "duration": 168,
    "start_time": "2022-12-18T08:29:48.839Z"
   },
   {
    "duration": 300,
    "start_time": "2022-12-18T08:29:49.013Z"
   },
   {
    "duration": 294,
    "start_time": "2022-12-18T08:29:49.315Z"
   },
   {
    "duration": 196,
    "start_time": "2022-12-18T08:29:49.612Z"
   },
   {
    "duration": 9,
    "start_time": "2022-12-18T08:29:49.810Z"
   },
   {
    "duration": 16,
    "start_time": "2022-12-18T08:29:49.821Z"
   },
   {
    "duration": 20,
    "start_time": "2022-12-18T08:29:49.839Z"
   },
   {
    "duration": 10,
    "start_time": "2022-12-18T08:29:49.861Z"
   },
   {
    "duration": 14,
    "start_time": "2022-12-18T08:29:49.873Z"
   },
   {
    "duration": 15,
    "start_time": "2022-12-18T08:29:49.889Z"
   },
   {
    "duration": 154,
    "start_time": "2022-12-18T08:30:13.978Z"
   },
   {
    "duration": 109,
    "start_time": "2022-12-18T08:30:27.290Z"
   },
   {
    "duration": 2,
    "start_time": "2022-12-18T08:30:57.705Z"
   },
   {
    "duration": 74,
    "start_time": "2022-12-18T08:32:36.206Z"
   },
   {
    "duration": 173,
    "start_time": "2022-12-18T08:32:59.172Z"
   },
   {
    "duration": 182,
    "start_time": "2022-12-18T08:33:47.339Z"
   },
   {
    "duration": 195,
    "start_time": "2022-12-18T08:34:11.154Z"
   },
   {
    "duration": 176,
    "start_time": "2022-12-18T08:34:22.916Z"
   },
   {
    "duration": 3,
    "start_time": "2022-12-18T08:36:32.658Z"
   },
   {
    "duration": 80,
    "start_time": "2022-12-18T12:03:56.351Z"
   },
   {
    "duration": 39,
    "start_time": "2022-12-18T12:04:03.612Z"
   },
   {
    "duration": 931,
    "start_time": "2022-12-18T12:04:13.552Z"
   },
   {
    "duration": 4,
    "start_time": "2022-12-18T12:04:14.485Z"
   },
   {
    "duration": 16,
    "start_time": "2022-12-18T12:04:14.490Z"
   },
   {
    "duration": 3,
    "start_time": "2022-12-18T12:04:14.508Z"
   },
   {
    "duration": 19,
    "start_time": "2022-12-18T12:04:14.513Z"
   },
   {
    "duration": 23,
    "start_time": "2022-12-18T12:04:14.534Z"
   },
   {
    "duration": 15,
    "start_time": "2022-12-18T12:04:14.559Z"
   },
   {
    "duration": 13,
    "start_time": "2022-12-18T12:04:14.575Z"
   },
   {
    "duration": 5,
    "start_time": "2022-12-18T12:04:14.589Z"
   },
   {
    "duration": 6,
    "start_time": "2022-12-18T12:04:14.596Z"
   },
   {
    "duration": 13,
    "start_time": "2022-12-18T12:04:14.604Z"
   },
   {
    "duration": 11,
    "start_time": "2022-12-18T12:04:14.618Z"
   },
   {
    "duration": 12,
    "start_time": "2022-12-18T12:04:14.630Z"
   },
   {
    "duration": 10,
    "start_time": "2022-12-18T12:04:14.644Z"
   },
   {
    "duration": 5,
    "start_time": "2022-12-18T12:04:14.655Z"
   },
   {
    "duration": 15,
    "start_time": "2022-12-18T12:04:14.662Z"
   },
   {
    "duration": 187,
    "start_time": "2022-12-18T12:04:14.678Z"
   },
   {
    "duration": 284,
    "start_time": "2022-12-18T12:04:14.867Z"
   },
   {
    "duration": 182,
    "start_time": "2022-12-18T12:04:15.153Z"
   },
   {
    "duration": 236,
    "start_time": "2022-12-18T12:04:15.337Z"
   },
   {
    "duration": 214,
    "start_time": "2022-12-18T12:04:15.574Z"
   },
   {
    "duration": 194,
    "start_time": "2022-12-18T12:04:15.790Z"
   },
   {
    "duration": 173,
    "start_time": "2022-12-18T12:04:15.986Z"
   },
   {
    "duration": 169,
    "start_time": "2022-12-18T12:04:16.161Z"
   },
   {
    "duration": 6,
    "start_time": "2022-12-18T12:04:16.332Z"
   },
   {
    "duration": 172,
    "start_time": "2022-12-18T12:04:16.340Z"
   },
   {
    "duration": 135,
    "start_time": "2022-12-18T12:04:16.514Z"
   },
   {
    "duration": 133,
    "start_time": "2022-12-18T12:04:16.651Z"
   },
   {
    "duration": 133,
    "start_time": "2022-12-18T12:04:16.786Z"
   },
   {
    "duration": 142,
    "start_time": "2022-12-18T12:04:16.920Z"
   },
   {
    "duration": 134,
    "start_time": "2022-12-18T12:04:17.063Z"
   },
   {
    "duration": 247,
    "start_time": "2022-12-18T12:04:17.199Z"
   },
   {
    "duration": 251,
    "start_time": "2022-12-18T12:04:17.448Z"
   },
   {
    "duration": 201,
    "start_time": "2022-12-18T12:04:17.701Z"
   },
   {
    "duration": 8,
    "start_time": "2022-12-18T12:04:17.904Z"
   },
   {
    "duration": 12,
    "start_time": "2022-12-18T12:04:17.927Z"
   },
   {
    "duration": 8,
    "start_time": "2022-12-18T12:04:17.940Z"
   },
   {
    "duration": 12,
    "start_time": "2022-12-18T12:04:17.950Z"
   },
   {
    "duration": 8,
    "start_time": "2022-12-18T12:04:17.964Z"
   },
   {
    "duration": 125,
    "start_time": "2022-12-18T12:04:17.974Z"
   },
   {
    "duration": 176,
    "start_time": "2022-12-18T12:04:18.102Z"
   },
   {
    "duration": 167,
    "start_time": "2022-12-18T12:04:18.279Z"
   },
   {
    "duration": 12,
    "start_time": "2022-12-18T12:04:30.119Z"
   },
   {
    "duration": 94,
    "start_time": "2022-12-18T12:04:37.664Z"
   },
   {
    "duration": 98,
    "start_time": "2022-12-18T12:05:33.109Z"
   },
   {
    "duration": 91,
    "start_time": "2022-12-18T12:05:41.414Z"
   },
   {
    "duration": 1145,
    "start_time": "2022-12-18T12:05:48.106Z"
   },
   {
    "duration": 132,
    "start_time": "2022-12-18T12:06:11.668Z"
   },
   {
    "duration": 94,
    "start_time": "2022-12-18T12:06:21.368Z"
   },
   {
    "duration": 172,
    "start_time": "2022-12-18T12:08:31.078Z"
   },
   {
    "duration": 17,
    "start_time": "2022-12-18T12:09:05.426Z"
   },
   {
    "duration": 126,
    "start_time": "2022-12-18T12:09:20.461Z"
   },
   {
    "duration": 102,
    "start_time": "2022-12-18T12:10:12.224Z"
   },
   {
    "duration": 90,
    "start_time": "2022-12-18T12:10:23.721Z"
   },
   {
    "duration": 700,
    "start_time": "2022-12-18T15:35:57.679Z"
   },
   {
    "duration": 4,
    "start_time": "2022-12-18T15:35:58.381Z"
   },
   {
    "duration": 30,
    "start_time": "2022-12-18T15:35:58.387Z"
   },
   {
    "duration": 9,
    "start_time": "2022-12-18T15:35:58.419Z"
   },
   {
    "duration": 20,
    "start_time": "2022-12-18T15:35:58.430Z"
   },
   {
    "duration": 15,
    "start_time": "2022-12-18T15:35:58.452Z"
   },
   {
    "duration": 13,
    "start_time": "2022-12-18T15:35:58.469Z"
   },
   {
    "duration": 7,
    "start_time": "2022-12-18T15:35:58.484Z"
   },
   {
    "duration": 13,
    "start_time": "2022-12-18T15:35:58.493Z"
   },
   {
    "duration": 19,
    "start_time": "2022-12-18T15:35:58.508Z"
   },
   {
    "duration": 10,
    "start_time": "2022-12-18T15:35:58.529Z"
   },
   {
    "duration": 10,
    "start_time": "2022-12-18T15:35:58.540Z"
   },
   {
    "duration": 12,
    "start_time": "2022-12-18T15:35:58.552Z"
   },
   {
    "duration": 10,
    "start_time": "2022-12-18T15:35:58.566Z"
   },
   {
    "duration": 6,
    "start_time": "2022-12-18T15:35:58.577Z"
   },
   {
    "duration": 23,
    "start_time": "2022-12-18T15:35:58.584Z"
   },
   {
    "duration": 189,
    "start_time": "2022-12-18T15:35:58.608Z"
   },
   {
    "duration": 274,
    "start_time": "2022-12-18T15:35:58.798Z"
   },
   {
    "duration": 190,
    "start_time": "2022-12-18T15:35:59.073Z"
   },
   {
    "duration": 242,
    "start_time": "2022-12-18T15:35:59.265Z"
   },
   {
    "duration": 178,
    "start_time": "2022-12-18T15:35:59.509Z"
   },
   {
    "duration": 180,
    "start_time": "2022-12-18T15:35:59.688Z"
   },
   {
    "duration": 177,
    "start_time": "2022-12-18T15:35:59.870Z"
   },
   {
    "duration": 196,
    "start_time": "2022-12-18T15:36:00.049Z"
   },
   {
    "duration": 6,
    "start_time": "2022-12-18T15:36:00.247Z"
   },
   {
    "duration": 198,
    "start_time": "2022-12-18T15:36:00.254Z"
   },
   {
    "duration": 144,
    "start_time": "2022-12-18T15:36:00.453Z"
   },
   {
    "duration": 144,
    "start_time": "2022-12-18T15:36:00.600Z"
   },
   {
    "duration": 146,
    "start_time": "2022-12-18T15:36:00.746Z"
   },
   {
    "duration": 141,
    "start_time": "2022-12-18T15:36:00.894Z"
   },
   {
    "duration": 143,
    "start_time": "2022-12-18T15:36:01.037Z"
   },
   {
    "duration": 275,
    "start_time": "2022-12-18T15:36:01.182Z"
   },
   {
    "duration": 314,
    "start_time": "2022-12-18T15:36:01.459Z"
   },
   {
    "duration": 152,
    "start_time": "2022-12-18T15:36:01.774Z"
   },
   {
    "duration": 204,
    "start_time": "2022-12-18T15:36:01.928Z"
   },
   {
    "duration": 7,
    "start_time": "2022-12-18T15:36:02.134Z"
   },
   {
    "duration": 43,
    "start_time": "2022-12-18T15:36:02.143Z"
   },
   {
    "duration": 23,
    "start_time": "2022-12-18T15:36:02.188Z"
   },
   {
    "duration": 21,
    "start_time": "2022-12-18T15:36:02.213Z"
   },
   {
    "duration": 49,
    "start_time": "2022-12-18T15:36:02.236Z"
   },
   {
    "duration": 130,
    "start_time": "2022-12-18T15:36:02.286Z"
   },
   {
    "duration": 176,
    "start_time": "2022-12-18T15:36:02.418Z"
   },
   {
    "duration": 99,
    "start_time": "2022-12-18T15:36:02.595Z"
   },
   {
    "duration": 131,
    "start_time": "2022-12-18T15:36:27.065Z"
   },
   {
    "duration": 13,
    "start_time": "2022-12-18T15:40:46.712Z"
   },
   {
    "duration": 133,
    "start_time": "2022-12-18T15:41:05.302Z"
   },
   {
    "duration": 14,
    "start_time": "2022-12-18T15:41:20.403Z"
   },
   {
    "duration": 96,
    "start_time": "2022-12-18T15:41:36.631Z"
   },
   {
    "duration": 100,
    "start_time": "2022-12-18T15:43:12.520Z"
   },
   {
    "duration": 67,
    "start_time": "2022-12-18T15:43:49.168Z"
   },
   {
    "duration": 127,
    "start_time": "2022-12-18T15:44:47.460Z"
   },
   {
    "duration": 73,
    "start_time": "2022-12-18T15:45:50.346Z"
   },
   {
    "duration": 66,
    "start_time": "2022-12-18T15:46:03.556Z"
   },
   {
    "duration": 68,
    "start_time": "2022-12-18T15:47:20.505Z"
   },
   {
    "duration": 68,
    "start_time": "2022-12-18T15:47:25.720Z"
   },
   {
    "duration": 70,
    "start_time": "2022-12-18T15:47:42.113Z"
   },
   {
    "duration": 77,
    "start_time": "2022-12-18T15:47:51.489Z"
   },
   {
    "duration": 66,
    "start_time": "2022-12-18T15:49:09.179Z"
   },
   {
    "duration": 70,
    "start_time": "2022-12-18T15:49:15.023Z"
   },
   {
    "duration": 83,
    "start_time": "2022-12-18T15:50:15.461Z"
   },
   {
    "duration": 655,
    "start_time": "2022-12-18T15:51:19.465Z"
   },
   {
    "duration": 4,
    "start_time": "2022-12-18T15:51:20.122Z"
   },
   {
    "duration": 22,
    "start_time": "2022-12-18T15:51:20.127Z"
   },
   {
    "duration": 3,
    "start_time": "2022-12-18T15:51:20.150Z"
   },
   {
    "duration": 22,
    "start_time": "2022-12-18T15:51:20.155Z"
   },
   {
    "duration": 25,
    "start_time": "2022-12-18T15:51:20.179Z"
   },
   {
    "duration": 23,
    "start_time": "2022-12-18T15:51:20.205Z"
   },
   {
    "duration": 18,
    "start_time": "2022-12-18T15:51:20.230Z"
   },
   {
    "duration": 15,
    "start_time": "2022-12-18T15:51:20.250Z"
   },
   {
    "duration": 11,
    "start_time": "2022-12-18T15:51:20.266Z"
   },
   {
    "duration": 15,
    "start_time": "2022-12-18T15:51:20.278Z"
   },
   {
    "duration": 5,
    "start_time": "2022-12-18T15:51:20.295Z"
   },
   {
    "duration": 11,
    "start_time": "2022-12-18T15:51:20.301Z"
   },
   {
    "duration": 7,
    "start_time": "2022-12-18T15:51:20.314Z"
   },
   {
    "duration": 4,
    "start_time": "2022-12-18T15:51:20.322Z"
   },
   {
    "duration": 17,
    "start_time": "2022-12-18T15:51:20.328Z"
   },
   {
    "duration": 176,
    "start_time": "2022-12-18T15:51:20.347Z"
   },
   {
    "duration": 271,
    "start_time": "2022-12-18T15:51:20.524Z"
   },
   {
    "duration": 183,
    "start_time": "2022-12-18T15:51:20.797Z"
   },
   {
    "duration": 229,
    "start_time": "2022-12-18T15:51:20.982Z"
   },
   {
    "duration": 171,
    "start_time": "2022-12-18T15:51:21.213Z"
   },
   {
    "duration": 181,
    "start_time": "2022-12-18T15:51:21.385Z"
   },
   {
    "duration": 193,
    "start_time": "2022-12-18T15:51:21.568Z"
   },
   {
    "duration": 178,
    "start_time": "2022-12-18T15:51:21.763Z"
   },
   {
    "duration": 5,
    "start_time": "2022-12-18T15:51:21.942Z"
   },
   {
    "duration": 174,
    "start_time": "2022-12-18T15:51:21.949Z"
   },
   {
    "duration": 140,
    "start_time": "2022-12-18T15:51:22.125Z"
   },
   {
    "duration": 151,
    "start_time": "2022-12-18T15:51:22.266Z"
   },
   {
    "duration": 152,
    "start_time": "2022-12-18T15:51:22.418Z"
   },
   {
    "duration": 142,
    "start_time": "2022-12-18T15:51:22.572Z"
   },
   {
    "duration": 149,
    "start_time": "2022-12-18T15:51:22.716Z"
   },
   {
    "duration": 260,
    "start_time": "2022-12-18T15:51:22.866Z"
   },
   {
    "duration": 159,
    "start_time": "2022-12-18T15:51:23.128Z"
   },
   {
    "duration": 148,
    "start_time": "2022-12-18T15:51:23.289Z"
   },
   {
    "duration": 198,
    "start_time": "2022-12-18T15:51:23.439Z"
   },
   {
    "duration": 72,
    "start_time": "2022-12-18T15:51:23.639Z"
   },
   {
    "duration": 74,
    "start_time": "2022-12-18T15:51:23.727Z"
   },
   {
    "duration": 91,
    "start_time": "2022-12-18T15:51:23.802Z"
   },
   {
    "duration": 7,
    "start_time": "2022-12-18T15:51:23.895Z"
   },
   {
    "duration": 34,
    "start_time": "2022-12-18T15:51:23.904Z"
   },
   {
    "duration": 110,
    "start_time": "2022-12-18T15:51:23.942Z"
   },
   {
    "duration": 167,
    "start_time": "2022-12-18T15:51:24.053Z"
   },
   {
    "duration": 70,
    "start_time": "2022-12-18T15:51:24.232Z"
   },
   {
    "duration": 117,
    "start_time": "2022-12-18T15:53:38.787Z"
   },
   {
    "duration": 173,
    "start_time": "2022-12-18T15:54:38.756Z"
   },
   {
    "duration": 100,
    "start_time": "2022-12-18T15:55:03.890Z"
   },
   {
    "duration": 700,
    "start_time": "2022-12-18T15:55:23.302Z"
   },
   {
    "duration": 4,
    "start_time": "2022-12-18T15:55:24.003Z"
   },
   {
    "duration": 17,
    "start_time": "2022-12-18T15:55:24.008Z"
   },
   {
    "duration": 3,
    "start_time": "2022-12-18T15:55:24.027Z"
   },
   {
    "duration": 25,
    "start_time": "2022-12-18T15:55:24.031Z"
   },
   {
    "duration": 13,
    "start_time": "2022-12-18T15:55:24.057Z"
   },
   {
    "duration": 10,
    "start_time": "2022-12-18T15:55:24.072Z"
   },
   {
    "duration": 8,
    "start_time": "2022-12-18T15:55:24.083Z"
   },
   {
    "duration": 5,
    "start_time": "2022-12-18T15:55:24.092Z"
   },
   {
    "duration": 7,
    "start_time": "2022-12-18T15:55:24.099Z"
   },
   {
    "duration": 19,
    "start_time": "2022-12-18T15:55:24.107Z"
   },
   {
    "duration": 12,
    "start_time": "2022-12-18T15:55:24.127Z"
   },
   {
    "duration": 13,
    "start_time": "2022-12-18T15:55:24.141Z"
   },
   {
    "duration": 11,
    "start_time": "2022-12-18T15:55:24.156Z"
   },
   {
    "duration": 4,
    "start_time": "2022-12-18T15:55:24.168Z"
   },
   {
    "duration": 18,
    "start_time": "2022-12-18T15:55:24.174Z"
   },
   {
    "duration": 171,
    "start_time": "2022-12-18T15:55:24.193Z"
   },
   {
    "duration": 270,
    "start_time": "2022-12-18T15:55:24.365Z"
   },
   {
    "duration": 175,
    "start_time": "2022-12-18T15:55:24.636Z"
   },
   {
    "duration": 230,
    "start_time": "2022-12-18T15:55:24.813Z"
   },
   {
    "duration": 172,
    "start_time": "2022-12-18T15:55:25.044Z"
   },
   {
    "duration": 178,
    "start_time": "2022-12-18T15:55:25.217Z"
   },
   {
    "duration": 182,
    "start_time": "2022-12-18T15:55:25.397Z"
   },
   {
    "duration": 210,
    "start_time": "2022-12-18T15:55:25.580Z"
   },
   {
    "duration": 5,
    "start_time": "2022-12-18T15:55:25.792Z"
   },
   {
    "duration": 175,
    "start_time": "2022-12-18T15:55:25.799Z"
   },
   {
    "duration": 138,
    "start_time": "2022-12-18T15:55:25.975Z"
   },
   {
    "duration": 137,
    "start_time": "2022-12-18T15:55:26.116Z"
   },
   {
    "duration": 136,
    "start_time": "2022-12-18T15:55:26.255Z"
   },
   {
    "duration": 123,
    "start_time": "2022-12-18T15:55:26.393Z"
   },
   {
    "duration": 140,
    "start_time": "2022-12-18T15:55:26.517Z"
   },
   {
    "duration": 251,
    "start_time": "2022-12-18T15:55:26.658Z"
   },
   {
    "duration": 137,
    "start_time": "2022-12-18T15:55:26.910Z"
   },
   {
    "duration": 133,
    "start_time": "2022-12-18T15:55:27.049Z"
   },
   {
    "duration": 185,
    "start_time": "2022-12-18T15:55:27.184Z"
   },
   {
    "duration": 72,
    "start_time": "2022-12-18T15:55:27.370Z"
   },
   {
    "duration": 62,
    "start_time": "2022-12-18T15:55:27.444Z"
   },
   {
    "duration": 78,
    "start_time": "2022-12-18T15:55:27.508Z"
   },
   {
    "duration": 115,
    "start_time": "2022-12-18T15:55:27.588Z"
   },
   {
    "duration": 113,
    "start_time": "2022-12-18T15:55:27.705Z"
   },
   {
    "duration": 109,
    "start_time": "2022-12-18T15:55:27.826Z"
   },
   {
    "duration": 157,
    "start_time": "2022-12-18T15:55:27.937Z"
   },
   {
    "duration": 132,
    "start_time": "2022-12-18T15:55:44.043Z"
   },
   {
    "duration": 81,
    "start_time": "2022-12-18T15:57:30.039Z"
   },
   {
    "duration": 88,
    "start_time": "2022-12-18T15:57:50.956Z"
   },
   {
    "duration": 80,
    "start_time": "2022-12-18T15:58:00.652Z"
   },
   {
    "duration": 516,
    "start_time": "2022-12-18T16:05:25.584Z"
   },
   {
    "duration": 1133,
    "start_time": "2022-12-18T16:05:37.808Z"
   },
   {
    "duration": 4,
    "start_time": "2022-12-18T16:05:38.943Z"
   },
   {
    "duration": 33,
    "start_time": "2022-12-18T16:05:38.948Z"
   },
   {
    "duration": 27,
    "start_time": "2022-12-18T16:05:38.983Z"
   },
   {
    "duration": 25,
    "start_time": "2022-12-18T16:05:39.012Z"
   },
   {
    "duration": 46,
    "start_time": "2022-12-18T16:05:39.038Z"
   },
   {
    "duration": 35,
    "start_time": "2022-12-18T16:05:39.086Z"
   },
   {
    "duration": 37,
    "start_time": "2022-12-18T16:05:39.123Z"
   },
   {
    "duration": 37,
    "start_time": "2022-12-18T16:05:39.162Z"
   },
   {
    "duration": 25,
    "start_time": "2022-12-18T16:05:39.201Z"
   },
   {
    "duration": 26,
    "start_time": "2022-12-18T16:05:39.228Z"
   },
   {
    "duration": 8,
    "start_time": "2022-12-18T16:05:39.256Z"
   },
   {
    "duration": 8,
    "start_time": "2022-12-18T16:05:39.266Z"
   },
   {
    "duration": 8,
    "start_time": "2022-12-18T16:05:39.276Z"
   },
   {
    "duration": 5,
    "start_time": "2022-12-18T16:05:39.285Z"
   },
   {
    "duration": 20,
    "start_time": "2022-12-18T16:05:39.292Z"
   },
   {
    "duration": 188,
    "start_time": "2022-12-18T16:05:39.313Z"
   },
   {
    "duration": 266,
    "start_time": "2022-12-18T16:05:39.503Z"
   },
   {
    "duration": 206,
    "start_time": "2022-12-18T16:05:39.770Z"
   },
   {
    "duration": 201,
    "start_time": "2022-12-18T16:05:39.977Z"
   },
   {
    "duration": 176,
    "start_time": "2022-12-18T16:05:40.179Z"
   },
   {
    "duration": 185,
    "start_time": "2022-12-18T16:05:40.357Z"
   },
   {
    "duration": 175,
    "start_time": "2022-12-18T16:05:40.543Z"
   },
   {
    "duration": 178,
    "start_time": "2022-12-18T16:05:40.720Z"
   },
   {
    "duration": 6,
    "start_time": "2022-12-18T16:05:40.900Z"
   },
   {
    "duration": 258,
    "start_time": "2022-12-18T16:05:40.907Z"
   },
   {
    "duration": 133,
    "start_time": "2022-12-18T16:05:41.167Z"
   },
   {
    "duration": 135,
    "start_time": "2022-12-18T16:05:41.302Z"
   },
   {
    "duration": 151,
    "start_time": "2022-12-18T16:05:41.439Z"
   },
   {
    "duration": 148,
    "start_time": "2022-12-18T16:05:41.591Z"
   },
   {
    "duration": 151,
    "start_time": "2022-12-18T16:05:41.741Z"
   },
   {
    "duration": 182,
    "start_time": "2022-12-18T16:05:41.894Z"
   },
   {
    "duration": 137,
    "start_time": "2022-12-18T16:05:42.078Z"
   },
   {
    "duration": 163,
    "start_time": "2022-12-18T16:05:42.217Z"
   },
   {
    "duration": 216,
    "start_time": "2022-12-18T16:05:42.382Z"
   },
   {
    "duration": 88,
    "start_time": "2022-12-18T16:05:42.600Z"
   },
   {
    "duration": 157,
    "start_time": "2022-12-18T16:05:42.689Z"
   },
   {
    "duration": 90,
    "start_time": "2022-12-18T16:05:42.848Z"
   },
   {
    "duration": 129,
    "start_time": "2022-12-18T16:05:42.940Z"
   },
   {
    "duration": 115,
    "start_time": "2022-12-18T16:05:43.070Z"
   },
   {
    "duration": 116,
    "start_time": "2022-12-18T16:05:43.189Z"
   },
   {
    "duration": 160,
    "start_time": "2022-12-18T16:05:43.307Z"
   },
   {
    "duration": 96,
    "start_time": "2022-12-18T16:05:43.469Z"
   },
   {
    "duration": 28,
    "start_time": "2022-12-18T16:08:19.289Z"
   },
   {
    "duration": 6,
    "start_time": "2022-12-18T16:08:36.627Z"
   },
   {
    "duration": 9,
    "start_time": "2022-12-18T16:10:28.924Z"
   },
   {
    "duration": 9,
    "start_time": "2022-12-18T16:12:33.996Z"
   },
   {
    "duration": 9,
    "start_time": "2022-12-18T16:13:23.749Z"
   },
   {
    "duration": 9,
    "start_time": "2022-12-18T16:13:32.309Z"
   },
   {
    "duration": 9,
    "start_time": "2022-12-18T16:14:06.820Z"
   },
   {
    "duration": 11,
    "start_time": "2022-12-18T16:14:55.768Z"
   },
   {
    "duration": 10,
    "start_time": "2022-12-18T16:16:34.664Z"
   },
   {
    "duration": 12,
    "start_time": "2022-12-18T16:17:01.606Z"
   },
   {
    "duration": 9,
    "start_time": "2022-12-18T16:17:18.224Z"
   },
   {
    "duration": 16,
    "start_time": "2022-12-18T16:22:04.944Z"
   },
   {
    "duration": 10,
    "start_time": "2022-12-18T16:22:18.294Z"
   },
   {
    "duration": 11,
    "start_time": "2022-12-18T16:27:43.276Z"
   },
   {
    "duration": 10,
    "start_time": "2022-12-18T16:29:56.913Z"
   },
   {
    "duration": 9,
    "start_time": "2022-12-18T17:32:43.708Z"
   },
   {
    "duration": 79,
    "start_time": "2022-12-18T17:36:51.237Z"
   },
   {
    "duration": 76,
    "start_time": "2022-12-18T17:37:06.709Z"
   },
   {
    "duration": 81,
    "start_time": "2022-12-18T17:37:18.979Z"
   },
   {
    "duration": 85,
    "start_time": "2022-12-18T17:37:25.240Z"
   },
   {
    "duration": 168,
    "start_time": "2022-12-18T17:47:32.388Z"
   },
   {
    "duration": 234,
    "start_time": "2022-12-18T17:47:45.753Z"
   },
   {
    "duration": 76,
    "start_time": "2022-12-18T17:54:44.717Z"
   },
   {
    "duration": 75,
    "start_time": "2022-12-18T17:59:23.810Z"
   },
   {
    "duration": 1063,
    "start_time": "2022-12-18T20:31:49.276Z"
   },
   {
    "duration": 5,
    "start_time": "2022-12-18T20:31:50.341Z"
   },
   {
    "duration": 19,
    "start_time": "2022-12-18T20:31:50.348Z"
   },
   {
    "duration": 4,
    "start_time": "2022-12-18T20:31:50.369Z"
   },
   {
    "duration": 14,
    "start_time": "2022-12-18T20:31:50.375Z"
   },
   {
    "duration": 26,
    "start_time": "2022-12-18T20:31:50.391Z"
   },
   {
    "duration": 11,
    "start_time": "2022-12-18T20:31:50.419Z"
   },
   {
    "duration": 8,
    "start_time": "2022-12-18T20:31:50.432Z"
   },
   {
    "duration": 6,
    "start_time": "2022-12-18T20:31:50.441Z"
   },
   {
    "duration": 7,
    "start_time": "2022-12-18T20:31:50.450Z"
   },
   {
    "duration": 13,
    "start_time": "2022-12-18T20:31:50.458Z"
   },
   {
    "duration": 5,
    "start_time": "2022-12-18T20:31:50.472Z"
   },
   {
    "duration": 8,
    "start_time": "2022-12-18T20:31:50.479Z"
   },
   {
    "duration": 31,
    "start_time": "2022-12-18T20:31:50.489Z"
   },
   {
    "duration": 9,
    "start_time": "2022-12-18T20:31:50.522Z"
   },
   {
    "duration": 21,
    "start_time": "2022-12-18T20:31:50.532Z"
   },
   {
    "duration": 194,
    "start_time": "2022-12-18T20:31:50.554Z"
   },
   {
    "duration": 270,
    "start_time": "2022-12-18T20:31:50.749Z"
   },
   {
    "duration": 189,
    "start_time": "2022-12-18T20:31:51.020Z"
   },
   {
    "duration": 176,
    "start_time": "2022-12-18T20:31:51.210Z"
   },
   {
    "duration": 176,
    "start_time": "2022-12-18T20:31:51.387Z"
   },
   {
    "duration": 178,
    "start_time": "2022-12-18T20:31:51.565Z"
   },
   {
    "duration": 173,
    "start_time": "2022-12-18T20:31:51.744Z"
   },
   {
    "duration": 169,
    "start_time": "2022-12-18T20:31:51.919Z"
   },
   {
    "duration": 7,
    "start_time": "2022-12-18T20:31:52.090Z"
   },
   {
    "duration": 236,
    "start_time": "2022-12-18T20:31:52.098Z"
   },
   {
    "duration": 145,
    "start_time": "2022-12-18T20:31:52.336Z"
   },
   {
    "duration": 152,
    "start_time": "2022-12-18T20:31:52.485Z"
   },
   {
    "duration": 142,
    "start_time": "2022-12-18T20:31:52.638Z"
   },
   {
    "duration": 124,
    "start_time": "2022-12-18T20:31:52.781Z"
   },
   {
    "duration": 139,
    "start_time": "2022-12-18T20:31:52.915Z"
   },
   {
    "duration": 167,
    "start_time": "2022-12-18T20:31:53.055Z"
   },
   {
    "duration": 134,
    "start_time": "2022-12-18T20:31:53.224Z"
   },
   {
    "duration": 144,
    "start_time": "2022-12-18T20:31:53.360Z"
   },
   {
    "duration": 191,
    "start_time": "2022-12-18T20:31:53.505Z"
   },
   {
    "duration": 87,
    "start_time": "2022-12-18T20:31:53.697Z"
   },
   {
    "duration": 160,
    "start_time": "2022-12-18T20:31:53.786Z"
   },
   {
    "duration": 92,
    "start_time": "2022-12-18T20:31:53.947Z"
   },
   {
    "duration": 129,
    "start_time": "2022-12-18T20:31:54.041Z"
   },
   {
    "duration": 127,
    "start_time": "2022-12-18T20:31:54.171Z"
   },
   {
    "duration": 115,
    "start_time": "2022-12-18T20:31:54.300Z"
   },
   {
    "duration": 170,
    "start_time": "2022-12-18T20:31:54.417Z"
   },
   {
    "duration": 11,
    "start_time": "2022-12-18T20:31:54.588Z"
   },
   {
    "duration": 21,
    "start_time": "2022-12-18T20:31:54.600Z"
   },
   {
    "duration": 1250,
    "start_time": "2022-12-19T18:15:54.890Z"
   },
   {
    "duration": 207,
    "start_time": "2022-12-19T18:15:56.142Z"
   },
   {
    "duration": 4,
    "start_time": "2022-12-19T18:15:56.350Z"
   },
   {
    "duration": 16,
    "start_time": "2022-12-19T18:15:56.355Z"
   },
   {
    "duration": 3,
    "start_time": "2022-12-19T18:15:56.373Z"
   },
   {
    "duration": 13,
    "start_time": "2022-12-19T18:15:56.378Z"
   },
   {
    "duration": 13,
    "start_time": "2022-12-19T18:15:56.393Z"
   },
   {
    "duration": 14,
    "start_time": "2022-12-19T18:15:56.408Z"
   },
   {
    "duration": 8,
    "start_time": "2022-12-19T18:15:56.423Z"
   },
   {
    "duration": 3,
    "start_time": "2022-12-19T18:15:56.434Z"
   },
   {
    "duration": 9,
    "start_time": "2022-12-19T18:15:56.439Z"
   },
   {
    "duration": 9,
    "start_time": "2022-12-19T18:15:56.477Z"
   },
   {
    "duration": 6,
    "start_time": "2022-12-19T18:15:56.489Z"
   },
   {
    "duration": 8,
    "start_time": "2022-12-19T18:15:56.496Z"
   },
   {
    "duration": 19,
    "start_time": "2022-12-19T18:15:56.506Z"
   },
   {
    "duration": 4,
    "start_time": "2022-12-19T18:15:56.527Z"
   },
   {
    "duration": 17,
    "start_time": "2022-12-19T18:15:56.533Z"
   },
   {
    "duration": 181,
    "start_time": "2022-12-19T18:15:56.578Z"
   },
   {
    "duration": 273,
    "start_time": "2022-12-19T18:15:56.761Z"
   },
   {
    "duration": 212,
    "start_time": "2022-12-19T18:15:57.036Z"
   },
   {
    "duration": 197,
    "start_time": "2022-12-19T18:15:57.250Z"
   },
   {
    "duration": 175,
    "start_time": "2022-12-19T18:15:57.449Z"
   },
   {
    "duration": 185,
    "start_time": "2022-12-19T18:15:57.626Z"
   },
   {
    "duration": 177,
    "start_time": "2022-12-19T18:15:57.812Z"
   },
   {
    "duration": 175,
    "start_time": "2022-12-19T18:15:57.991Z"
   },
   {
    "duration": 16,
    "start_time": "2022-12-19T18:15:58.168Z"
   },
   {
    "duration": 299,
    "start_time": "2022-12-19T18:15:58.186Z"
   },
   {
    "duration": 159,
    "start_time": "2022-12-19T18:15:58.489Z"
   },
   {
    "duration": 148,
    "start_time": "2022-12-19T18:15:58.650Z"
   },
   {
    "duration": 144,
    "start_time": "2022-12-19T18:15:58.800Z"
   },
   {
    "duration": 153,
    "start_time": "2022-12-19T18:15:58.946Z"
   },
   {
    "duration": 178,
    "start_time": "2022-12-19T18:15:59.101Z"
   },
   {
    "duration": 181,
    "start_time": "2022-12-19T18:15:59.281Z"
   },
   {
    "duration": 174,
    "start_time": "2022-12-19T18:15:59.463Z"
   },
   {
    "duration": 155,
    "start_time": "2022-12-19T18:15:59.639Z"
   },
   {
    "duration": 197,
    "start_time": "2022-12-19T18:15:59.796Z"
   },
   {
    "duration": 106,
    "start_time": "2022-12-19T18:15:59.994Z"
   },
   {
    "duration": 189,
    "start_time": "2022-12-19T18:16:00.102Z"
   },
   {
    "duration": 97,
    "start_time": "2022-12-19T18:16:00.293Z"
   },
   {
    "duration": 140,
    "start_time": "2022-12-19T18:16:00.392Z"
   },
   {
    "duration": 133,
    "start_time": "2022-12-19T18:16:00.534Z"
   },
   {
    "duration": 124,
    "start_time": "2022-12-19T18:16:00.679Z"
   },
   {
    "duration": 191,
    "start_time": "2022-12-19T18:16:00.805Z"
   },
   {
    "duration": 11,
    "start_time": "2022-12-19T18:16:00.997Z"
   },
   {
    "duration": 21,
    "start_time": "2022-12-19T18:16:01.009Z"
   },
   {
    "duration": 15,
    "start_time": "2022-12-19T18:16:22.331Z"
   },
   {
    "duration": 14,
    "start_time": "2022-12-19T18:16:44.792Z"
   },
   {
    "duration": 1067,
    "start_time": "2022-12-19T18:16:53.845Z"
   },
   {
    "duration": 67,
    "start_time": "2022-12-19T18:16:54.914Z"
   },
   {
    "duration": 4,
    "start_time": "2022-12-19T18:16:54.983Z"
   },
   {
    "duration": 18,
    "start_time": "2022-12-19T18:16:54.988Z"
   },
   {
    "duration": 3,
    "start_time": "2022-12-19T18:16:55.007Z"
   },
   {
    "duration": 17,
    "start_time": "2022-12-19T18:16:55.012Z"
   },
   {
    "duration": 21,
    "start_time": "2022-12-19T18:16:55.031Z"
   },
   {
    "duration": 32,
    "start_time": "2022-12-19T18:16:55.054Z"
   },
   {
    "duration": 7,
    "start_time": "2022-12-19T18:16:55.088Z"
   },
   {
    "duration": 4,
    "start_time": "2022-12-19T18:16:55.097Z"
   },
   {
    "duration": 8,
    "start_time": "2022-12-19T18:16:55.102Z"
   },
   {
    "duration": 8,
    "start_time": "2022-12-19T18:16:55.111Z"
   },
   {
    "duration": 17,
    "start_time": "2022-12-19T18:16:55.121Z"
   },
   {
    "duration": 13,
    "start_time": "2022-12-19T18:16:55.139Z"
   },
   {
    "duration": 34,
    "start_time": "2022-12-19T18:16:55.154Z"
   },
   {
    "duration": 5,
    "start_time": "2022-12-19T18:16:55.189Z"
   },
   {
    "duration": 18,
    "start_time": "2022-12-19T18:16:55.195Z"
   },
   {
    "duration": 222,
    "start_time": "2022-12-19T18:16:55.214Z"
   },
   {
    "duration": 273,
    "start_time": "2022-12-19T18:16:55.437Z"
   },
   {
    "duration": 181,
    "start_time": "2022-12-19T18:16:55.712Z"
   },
   {
    "duration": 195,
    "start_time": "2022-12-19T18:16:55.895Z"
   },
   {
    "duration": 189,
    "start_time": "2022-12-19T18:16:56.091Z"
   },
   {
    "duration": 239,
    "start_time": "2022-12-19T18:16:56.281Z"
   },
   {
    "duration": 212,
    "start_time": "2022-12-19T18:16:56.524Z"
   },
   {
    "duration": 173,
    "start_time": "2022-12-19T18:16:56.738Z"
   },
   {
    "duration": 6,
    "start_time": "2022-12-19T18:16:56.913Z"
   },
   {
    "duration": 239,
    "start_time": "2022-12-19T18:16:56.921Z"
   },
   {
    "duration": 139,
    "start_time": "2022-12-19T18:16:57.163Z"
   },
   {
    "duration": 135,
    "start_time": "2022-12-19T18:16:57.304Z"
   },
   {
    "duration": 137,
    "start_time": "2022-12-19T18:16:57.441Z"
   },
   {
    "duration": 177,
    "start_time": "2022-12-19T18:16:57.580Z"
   },
   {
    "duration": 135,
    "start_time": "2022-12-19T18:16:57.759Z"
   },
   {
    "duration": 169,
    "start_time": "2022-12-19T18:16:57.896Z"
   },
   {
    "duration": 138,
    "start_time": "2022-12-19T18:16:58.066Z"
   },
   {
    "duration": 138,
    "start_time": "2022-12-19T18:16:58.206Z"
   },
   {
    "duration": 196,
    "start_time": "2022-12-19T18:16:58.345Z"
   },
   {
    "duration": 96,
    "start_time": "2022-12-19T18:16:58.542Z"
   },
   {
    "duration": 184,
    "start_time": "2022-12-19T18:16:58.641Z"
   },
   {
    "duration": 91,
    "start_time": "2022-12-19T18:16:58.827Z"
   },
   {
    "duration": 126,
    "start_time": "2022-12-19T18:16:58.919Z"
   },
   {
    "duration": 146,
    "start_time": "2022-12-19T18:16:59.047Z"
   },
   {
    "duration": 131,
    "start_time": "2022-12-19T18:16:59.195Z"
   },
   {
    "duration": 169,
    "start_time": "2022-12-19T18:16:59.328Z"
   },
   {
    "duration": 11,
    "start_time": "2022-12-19T18:16:59.499Z"
   },
   {
    "duration": 12,
    "start_time": "2022-12-19T18:16:59.511Z"
   },
   {
    "duration": 67,
    "start_time": "2022-12-19T18:18:07.258Z"
   },
   {
    "duration": 14,
    "start_time": "2022-12-19T18:18:10.800Z"
   },
   {
    "duration": 67,
    "start_time": "2022-12-19T18:19:29.863Z"
   },
   {
    "duration": 100,
    "start_time": "2022-12-19T18:23:59.189Z"
   },
   {
    "duration": 151,
    "start_time": "2022-12-19T18:24:18.942Z"
   },
   {
    "duration": 11,
    "start_time": "2022-12-19T18:27:22.852Z"
   },
   {
    "duration": 273,
    "start_time": "2022-12-19T18:27:28.438Z"
   },
   {
    "duration": 141,
    "start_time": "2022-12-19T18:30:49.707Z"
   },
   {
    "duration": 430,
    "start_time": "2022-12-19T18:31:52.932Z"
   },
   {
    "duration": 380,
    "start_time": "2022-12-19T18:32:21.428Z"
   },
   {
    "duration": 255,
    "start_time": "2022-12-19T18:33:07.130Z"
   },
   {
    "duration": 176,
    "start_time": "2022-12-19T18:33:20.802Z"
   },
   {
    "duration": 18,
    "start_time": "2022-12-19T18:33:30.815Z"
   },
   {
    "duration": 138,
    "start_time": "2022-12-19T18:33:44.201Z"
   },
   {
    "duration": 91,
    "start_time": "2022-12-19T18:37:16.376Z"
   },
   {
    "duration": 1108,
    "start_time": "2022-12-19T18:38:45.056Z"
   },
   {
    "duration": 1145,
    "start_time": "2022-12-19T18:39:25.067Z"
   },
   {
    "duration": 120,
    "start_time": "2022-12-19T18:40:12.235Z"
   },
   {
    "duration": 265,
    "start_time": "2022-12-19T18:40:15.186Z"
   },
   {
    "duration": 280,
    "start_time": "2022-12-19T18:41:03.578Z"
   },
   {
    "duration": 270,
    "start_time": "2022-12-19T18:41:22.345Z"
   },
   {
    "duration": 231,
    "start_time": "2022-12-19T18:41:32.792Z"
   },
   {
    "duration": 159,
    "start_time": "2022-12-19T18:41:42.825Z"
   },
   {
    "duration": 284,
    "start_time": "2022-12-19T18:42:34.947Z"
   },
   {
    "duration": 449,
    "start_time": "2022-12-19T19:05:55.107Z"
   },
   {
    "duration": 240,
    "start_time": "2022-12-19T19:06:44.441Z"
   },
   {
    "duration": 251,
    "start_time": "2022-12-19T19:06:53.554Z"
   },
   {
    "duration": 366,
    "start_time": "2022-12-19T19:09:54.308Z"
   },
   {
    "duration": 70,
    "start_time": "2022-12-19T19:10:20.424Z"
   },
   {
    "duration": 249,
    "start_time": "2022-12-19T19:10:23.583Z"
   },
   {
    "duration": 257,
    "start_time": "2022-12-19T19:11:09.558Z"
   },
   {
    "duration": 1088,
    "start_time": "2022-12-19T19:11:38.439Z"
   },
   {
    "duration": 67,
    "start_time": "2022-12-19T19:11:39.529Z"
   },
   {
    "duration": 4,
    "start_time": "2022-12-19T19:11:39.597Z"
   },
   {
    "duration": 26,
    "start_time": "2022-12-19T19:11:39.603Z"
   },
   {
    "duration": 4,
    "start_time": "2022-12-19T19:11:39.630Z"
   },
   {
    "duration": 18,
    "start_time": "2022-12-19T19:11:39.635Z"
   },
   {
    "duration": 12,
    "start_time": "2022-12-19T19:11:39.655Z"
   },
   {
    "duration": 19,
    "start_time": "2022-12-19T19:11:39.668Z"
   },
   {
    "duration": 7,
    "start_time": "2022-12-19T19:11:39.689Z"
   },
   {
    "duration": 3,
    "start_time": "2022-12-19T19:11:39.699Z"
   },
   {
    "duration": 10,
    "start_time": "2022-12-19T19:11:39.703Z"
   },
   {
    "duration": 15,
    "start_time": "2022-12-19T19:11:39.715Z"
   },
   {
    "duration": 7,
    "start_time": "2022-12-19T19:11:39.731Z"
   },
   {
    "duration": 8,
    "start_time": "2022-12-19T19:11:39.739Z"
   },
   {
    "duration": 30,
    "start_time": "2022-12-19T19:11:39.749Z"
   },
   {
    "duration": 5,
    "start_time": "2022-12-19T19:11:39.780Z"
   },
   {
    "duration": 19,
    "start_time": "2022-12-19T19:11:39.786Z"
   },
   {
    "duration": 189,
    "start_time": "2022-12-19T19:11:39.807Z"
   },
   {
    "duration": 261,
    "start_time": "2022-12-19T19:11:39.998Z"
   },
   {
    "duration": 175,
    "start_time": "2022-12-19T19:11:40.261Z"
   },
   {
    "duration": 178,
    "start_time": "2022-12-19T19:11:40.438Z"
   },
   {
    "duration": 181,
    "start_time": "2022-12-19T19:11:40.618Z"
   },
   {
    "duration": 184,
    "start_time": "2022-12-19T19:11:40.801Z"
   },
   {
    "duration": 191,
    "start_time": "2022-12-19T19:11:40.987Z"
   },
   {
    "duration": 175,
    "start_time": "2022-12-19T19:11:41.179Z"
   },
   {
    "duration": 5,
    "start_time": "2022-12-19T19:11:41.356Z"
   },
   {
    "duration": 234,
    "start_time": "2022-12-19T19:11:41.363Z"
   },
   {
    "duration": 136,
    "start_time": "2022-12-19T19:11:41.601Z"
   },
   {
    "duration": 135,
    "start_time": "2022-12-19T19:11:41.739Z"
   },
   {
    "duration": 135,
    "start_time": "2022-12-19T19:11:41.877Z"
   },
   {
    "duration": 129,
    "start_time": "2022-12-19T19:11:42.014Z"
   },
   {
    "duration": 133,
    "start_time": "2022-12-19T19:11:42.145Z"
   },
   {
    "duration": 159,
    "start_time": "2022-12-19T19:11:42.279Z"
   },
   {
    "duration": 279,
    "start_time": "2022-12-19T19:11:42.440Z"
   },
   {
    "duration": 306,
    "start_time": "2022-12-19T19:11:42.720Z"
   },
   {
    "duration": 271,
    "start_time": "2022-12-19T19:11:43.028Z"
   },
   {
    "duration": 163,
    "start_time": "2022-12-19T19:11:43.300Z"
   },
   {
    "duration": 84,
    "start_time": "2022-12-19T19:11:43.465Z"
   },
   {
    "duration": 89,
    "start_time": "2022-12-19T19:11:43.551Z"
   },
   {
    "duration": 117,
    "start_time": "2022-12-19T19:11:43.642Z"
   },
   {
    "duration": 127,
    "start_time": "2022-12-19T19:11:43.761Z"
   },
   {
    "duration": 129,
    "start_time": "2022-12-19T19:11:43.890Z"
   },
   {
    "duration": 222,
    "start_time": "2022-12-19T19:11:44.021Z"
   },
   {
    "duration": 10,
    "start_time": "2022-12-19T19:11:44.245Z"
   },
   {
    "duration": 22,
    "start_time": "2022-12-19T19:11:44.256Z"
   },
   {
    "duration": 95,
    "start_time": "2022-12-19T19:21:30.325Z"
   },
   {
    "duration": 54,
    "start_time": "2023-01-10T17:38:46.524Z"
   },
   {
    "duration": 1322,
    "start_time": "2023-01-10T17:39:00.163Z"
   },
   {
    "duration": 119,
    "start_time": "2023-01-10T17:39:01.486Z"
   },
   {
    "duration": 5,
    "start_time": "2023-01-10T17:39:01.607Z"
   },
   {
    "duration": 34,
    "start_time": "2023-01-10T17:39:01.613Z"
   },
   {
    "duration": 14,
    "start_time": "2023-01-10T17:39:01.649Z"
   },
   {
    "duration": 27,
    "start_time": "2023-01-10T17:39:01.664Z"
   },
   {
    "duration": 19,
    "start_time": "2023-01-10T17:39:01.692Z"
   },
   {
    "duration": 25,
    "start_time": "2023-01-10T17:39:01.712Z"
   },
   {
    "duration": 7,
    "start_time": "2023-01-10T17:39:01.739Z"
   },
   {
    "duration": 16,
    "start_time": "2023-01-10T17:39:01.749Z"
   },
   {
    "duration": 25,
    "start_time": "2023-01-10T17:39:01.767Z"
   },
   {
    "duration": 22,
    "start_time": "2023-01-10T17:39:01.793Z"
   },
   {
    "duration": 29,
    "start_time": "2023-01-10T17:39:01.817Z"
   },
   {
    "duration": 21,
    "start_time": "2023-01-10T17:39:01.848Z"
   },
   {
    "duration": 24,
    "start_time": "2023-01-10T17:39:01.871Z"
   },
   {
    "duration": 17,
    "start_time": "2023-01-10T17:39:01.896Z"
   },
   {
    "duration": 45,
    "start_time": "2023-01-10T17:39:01.915Z"
   },
   {
    "duration": 203,
    "start_time": "2023-01-10T17:39:01.962Z"
   },
   {
    "duration": 303,
    "start_time": "2023-01-10T17:39:02.167Z"
   },
   {
    "duration": 225,
    "start_time": "2023-01-10T17:39:02.472Z"
   },
   {
    "duration": 215,
    "start_time": "2023-01-10T17:39:02.700Z"
   },
   {
    "duration": 188,
    "start_time": "2023-01-10T17:39:02.917Z"
   },
   {
    "duration": 175,
    "start_time": "2023-01-10T17:39:03.116Z"
   },
   {
    "duration": 178,
    "start_time": "2023-01-10T17:39:03.293Z"
   },
   {
    "duration": 242,
    "start_time": "2023-01-10T17:39:03.473Z"
   },
   {
    "duration": 6,
    "start_time": "2023-01-10T17:39:03.717Z"
   },
   {
    "duration": 171,
    "start_time": "2023-01-10T17:39:03.724Z"
   },
   {
    "duration": 147,
    "start_time": "2023-01-10T17:39:03.899Z"
   },
   {
    "duration": 146,
    "start_time": "2023-01-10T17:39:04.048Z"
   },
   {
    "duration": 130,
    "start_time": "2023-01-10T17:39:04.195Z"
   },
   {
    "duration": 133,
    "start_time": "2023-01-10T17:39:04.326Z"
   },
   {
    "duration": 145,
    "start_time": "2023-01-10T17:39:04.460Z"
   },
   {
    "duration": 172,
    "start_time": "2023-01-10T17:39:04.606Z"
   },
   {
    "duration": 299,
    "start_time": "2023-01-10T17:39:04.780Z"
   },
   {
    "duration": 289,
    "start_time": "2023-01-10T17:39:05.081Z"
   },
   {
    "duration": 346,
    "start_time": "2023-01-10T17:39:05.372Z"
   },
   {
    "duration": 98,
    "start_time": "2023-01-10T17:39:05.720Z"
   },
   {
    "duration": 77,
    "start_time": "2023-01-10T17:39:05.820Z"
   },
   {
    "duration": 104,
    "start_time": "2023-01-10T17:39:05.899Z"
   },
   {
    "duration": 132,
    "start_time": "2023-01-10T17:39:06.005Z"
   },
   {
    "duration": 119,
    "start_time": "2023-01-10T17:39:06.139Z"
   },
   {
    "duration": 120,
    "start_time": "2023-01-10T17:39:06.259Z"
   },
   {
    "duration": 188,
    "start_time": "2023-01-10T17:39:06.381Z"
   },
   {
    "duration": 14,
    "start_time": "2023-01-10T17:39:06.572Z"
   },
   {
    "duration": 27,
    "start_time": "2023-01-10T17:39:06.588Z"
   },
   {
    "duration": 108,
    "start_time": "2023-01-10T17:39:06.618Z"
   },
   {
    "duration": 249,
    "start_time": "2023-01-10T17:39:55.075Z"
   },
   {
    "duration": 100,
    "start_time": "2023-01-10T17:42:02.277Z"
   },
   {
    "duration": 385,
    "start_time": "2023-01-10T17:42:22.693Z"
   },
   {
    "duration": 328,
    "start_time": "2023-01-10T17:42:42.417Z"
   },
   {
    "duration": 112,
    "start_time": "2023-01-10T17:43:09.808Z"
   },
   {
    "duration": 370,
    "start_time": "2023-01-10T17:43:41.722Z"
   },
   {
    "duration": 1019,
    "start_time": "2023-01-10T17:44:51.255Z"
   },
   {
    "duration": 70,
    "start_time": "2023-01-10T17:44:52.276Z"
   },
   {
    "duration": 3,
    "start_time": "2023-01-10T17:44:52.348Z"
   },
   {
    "duration": 24,
    "start_time": "2023-01-10T17:44:52.353Z"
   },
   {
    "duration": 6,
    "start_time": "2023-01-10T17:44:52.379Z"
   },
   {
    "duration": 21,
    "start_time": "2023-01-10T17:44:52.386Z"
   },
   {
    "duration": 22,
    "start_time": "2023-01-10T17:44:52.411Z"
   },
   {
    "duration": 9,
    "start_time": "2023-01-10T17:44:52.435Z"
   },
   {
    "duration": 16,
    "start_time": "2023-01-10T17:44:52.446Z"
   },
   {
    "duration": 6,
    "start_time": "2023-01-10T17:44:52.464Z"
   },
   {
    "duration": 12,
    "start_time": "2023-01-10T17:44:52.471Z"
   },
   {
    "duration": 13,
    "start_time": "2023-01-10T17:44:52.485Z"
   },
   {
    "duration": 18,
    "start_time": "2023-01-10T17:44:52.500Z"
   },
   {
    "duration": 14,
    "start_time": "2023-01-10T17:44:52.520Z"
   },
   {
    "duration": 27,
    "start_time": "2023-01-10T17:44:52.536Z"
   },
   {
    "duration": 7,
    "start_time": "2023-01-10T17:44:52.565Z"
   },
   {
    "duration": 18,
    "start_time": "2023-01-10T17:44:52.574Z"
   },
   {
    "duration": 179,
    "start_time": "2023-01-10T17:44:52.594Z"
   },
   {
    "duration": 278,
    "start_time": "2023-01-10T17:44:52.774Z"
   },
   {
    "duration": 197,
    "start_time": "2023-01-10T17:44:53.054Z"
   },
   {
    "duration": 193,
    "start_time": "2023-01-10T17:44:53.253Z"
   },
   {
    "duration": 192,
    "start_time": "2023-01-10T17:44:53.447Z"
   },
   {
    "duration": 197,
    "start_time": "2023-01-10T17:44:53.640Z"
   },
   {
    "duration": 199,
    "start_time": "2023-01-10T17:44:53.839Z"
   },
   {
    "duration": 188,
    "start_time": "2023-01-10T17:44:54.041Z"
   },
   {
    "duration": 6,
    "start_time": "2023-01-10T17:44:54.231Z"
   },
   {
    "duration": 243,
    "start_time": "2023-01-10T17:44:54.238Z"
   },
   {
    "duration": 147,
    "start_time": "2023-01-10T17:44:54.484Z"
   },
   {
    "duration": 141,
    "start_time": "2023-01-10T17:44:54.633Z"
   },
   {
    "duration": 146,
    "start_time": "2023-01-10T17:44:54.775Z"
   },
   {
    "duration": 138,
    "start_time": "2023-01-10T17:44:54.923Z"
   },
   {
    "duration": 139,
    "start_time": "2023-01-10T17:44:55.063Z"
   },
   {
    "duration": 178,
    "start_time": "2023-01-10T17:44:55.204Z"
   },
   {
    "duration": 293,
    "start_time": "2023-01-10T17:44:55.384Z"
   },
   {
    "duration": 285,
    "start_time": "2023-01-10T17:44:55.678Z"
   },
   {
    "duration": 278,
    "start_time": "2023-01-10T17:44:55.964Z"
   },
   {
    "duration": 179,
    "start_time": "2023-01-10T17:44:56.243Z"
   },
   {
    "duration": 109,
    "start_time": "2023-01-10T17:44:56.425Z"
   },
   {
    "duration": 113,
    "start_time": "2023-01-10T17:44:56.536Z"
   },
   {
    "duration": 134,
    "start_time": "2023-01-10T17:44:56.651Z"
   },
   {
    "duration": 132,
    "start_time": "2023-01-10T17:44:56.786Z"
   },
   {
    "duration": 121,
    "start_time": "2023-01-10T17:44:56.920Z"
   },
   {
    "duration": 182,
    "start_time": "2023-01-10T17:44:57.043Z"
   },
   {
    "duration": 11,
    "start_time": "2023-01-10T17:44:57.227Z"
   },
   {
    "duration": 14,
    "start_time": "2023-01-10T17:44:57.240Z"
   }
  ],
  "kernelspec": {
   "display_name": "Python 3 (ipykernel)",
   "language": "python",
   "name": "python3"
  },
  "language_info": {
   "codemirror_mode": {
    "name": "ipython",
    "version": 3
   },
   "file_extension": ".py",
   "mimetype": "text/x-python",
   "name": "python",
   "nbconvert_exporter": "python",
   "pygments_lexer": "ipython3",
   "version": "3.9.13"
  },
  "toc": {
   "base_numbering": 1,
   "nav_menu": {
    "height": "343px",
    "width": "458px"
   },
   "number_sections": true,
   "sideBar": true,
   "skip_h1_title": true,
   "title_cell": "Table of Contents",
   "title_sidebar": "Contents",
   "toc_cell": false,
   "toc_position": {},
   "toc_section_display": true,
   "toc_window_display": false
  }
 },
 "nbformat": 4,
 "nbformat_minor": 2
}
