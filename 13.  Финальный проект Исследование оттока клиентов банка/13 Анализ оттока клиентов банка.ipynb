{
 "cells": [
  {
   "cell_type": "markdown",
   "metadata": {},
   "source": [
    "# Анализ оттока клиентов банка"
   ]
  },
  {
   "cell_type": "markdown",
   "metadata": {},
   "source": [
    "**Описание проекта**\n",
    "\n",
    "В банке в последнее время повысился отток, это начинает становиться проблемой, которая угрожает существованию банка.\n",
    "\n",
    "Исследование проводится для отдела маркетинга, чтобы эффективно выделить сегменты отточных клиентов, чтобы они были однородными, высокоотточными и покрывали максимум проблемных зон банка. Таким образом, маркетинговое воздействие на эти сегменты должно привести к уменьшению оттока.\n",
    "\n",
    "**Задача:** Проанализировать клиентов регионального банка и выделить сегменты клиентов, которые склонны уходить из банка."
   ]
  },
  {
   "cell_type": "markdown",
   "metadata": {},
   "source": [
    "## Обзор данных"
   ]
  },
  {
   "cell_type": "markdown",
   "metadata": {},
   "source": [
    "Датасет содержит данные о клиентах банка «Метанпром». Банк располагается в Ярославле и областных городах: Ростов Великий и Рыбинск.\n",
    "\n",
    "Колонки:\n",
    "\n",
    "- `userid` — идентификатор пользователя,\n",
    "- `score` — баллы кредитного скоринга,\n",
    "- `City` — город,\n",
    "- `Gender` — пол,\n",
    "- `Age` — возраст,\n",
    "- `Objects` — количество объектов в собственности \n",
    "- `Balance` — баланс на счёте,\n",
    "- `Products` — количество продуктов, которыми пользуется клиент,\n",
    "- `CreditCard` — есть ли кредитная карта,\n",
    "- `Loyalty` — активный клиент,\n",
    "- `estimated_salary` — заработная плата клиента,\n",
    "- `Churn` — ушёл или нет."
   ]
  },
  {
   "cell_type": "code",
   "execution_count": 1,
   "metadata": {},
   "outputs": [],
   "source": [
    "# импортируем необходимые библиотеки\n",
    "import pandas as pd\n",
    "import matplotlib.pyplot as plt\n",
    "import seaborn as sns\n",
    "import numpy as np\n",
    "from scipy import stats as st"
   ]
  },
  {
   "cell_type": "code",
   "execution_count": 2,
   "metadata": {},
   "outputs": [
    {
     "data": {
      "text/html": [
       "<div>\n",
       "<style scoped>\n",
       "    .dataframe tbody tr th:only-of-type {\n",
       "        vertical-align: middle;\n",
       "    }\n",
       "\n",
       "    .dataframe tbody tr th {\n",
       "        vertical-align: top;\n",
       "    }\n",
       "\n",
       "    .dataframe thead th {\n",
       "        text-align: right;\n",
       "    }\n",
       "</style>\n",
       "<table border=\"1\" class=\"dataframe\">\n",
       "  <thead>\n",
       "    <tr style=\"text-align: right;\">\n",
       "      <th></th>\n",
       "      <th>userid</th>\n",
       "      <th>score</th>\n",
       "      <th>City</th>\n",
       "      <th>Gender</th>\n",
       "      <th>Age</th>\n",
       "      <th>Objects</th>\n",
       "      <th>Balance</th>\n",
       "      <th>Products</th>\n",
       "      <th>CreditCard</th>\n",
       "      <th>Loyalty</th>\n",
       "      <th>estimated_salary</th>\n",
       "      <th>Churn</th>\n",
       "    </tr>\n",
       "  </thead>\n",
       "  <tbody>\n",
       "    <tr>\n",
       "      <th>0</th>\n",
       "      <td>15677338</td>\n",
       "      <td>619</td>\n",
       "      <td>Ярославль</td>\n",
       "      <td>Ж</td>\n",
       "      <td>42</td>\n",
       "      <td>2</td>\n",
       "      <td>NaN</td>\n",
       "      <td>1</td>\n",
       "      <td>1</td>\n",
       "      <td>1</td>\n",
       "      <td>101348.88</td>\n",
       "      <td>1</td>\n",
       "    </tr>\n",
       "    <tr>\n",
       "      <th>1</th>\n",
       "      <td>15690047</td>\n",
       "      <td>608</td>\n",
       "      <td>Рыбинск</td>\n",
       "      <td>Ж</td>\n",
       "      <td>41</td>\n",
       "      <td>1</td>\n",
       "      <td>83807.86</td>\n",
       "      <td>1</td>\n",
       "      <td>0</td>\n",
       "      <td>1</td>\n",
       "      <td>112542.58</td>\n",
       "      <td>0</td>\n",
       "    </tr>\n",
       "    <tr>\n",
       "      <th>2</th>\n",
       "      <td>15662040</td>\n",
       "      <td>502</td>\n",
       "      <td>Ярославль</td>\n",
       "      <td>Ж</td>\n",
       "      <td>42</td>\n",
       "      <td>8</td>\n",
       "      <td>159660.80</td>\n",
       "      <td>3</td>\n",
       "      <td>1</td>\n",
       "      <td>0</td>\n",
       "      <td>113931.57</td>\n",
       "      <td>1</td>\n",
       "    </tr>\n",
       "    <tr>\n",
       "      <th>3</th>\n",
       "      <td>15744090</td>\n",
       "      <td>699</td>\n",
       "      <td>Ярославль</td>\n",
       "      <td>Ж</td>\n",
       "      <td>39</td>\n",
       "      <td>1</td>\n",
       "      <td>NaN</td>\n",
       "      <td>2</td>\n",
       "      <td>0</td>\n",
       "      <td>0</td>\n",
       "      <td>93826.63</td>\n",
       "      <td>0</td>\n",
       "    </tr>\n",
       "    <tr>\n",
       "      <th>4</th>\n",
       "      <td>15780624</td>\n",
       "      <td>850</td>\n",
       "      <td>Рыбинск</td>\n",
       "      <td>Ж</td>\n",
       "      <td>43</td>\n",
       "      <td>2</td>\n",
       "      <td>125510.82</td>\n",
       "      <td>1</td>\n",
       "      <td>1</td>\n",
       "      <td>1</td>\n",
       "      <td>79084.10</td>\n",
       "      <td>0</td>\n",
       "    </tr>\n",
       "    <tr>\n",
       "      <th>5</th>\n",
       "      <td>15616748</td>\n",
       "      <td>645</td>\n",
       "      <td>Рыбинск</td>\n",
       "      <td>М</td>\n",
       "      <td>44</td>\n",
       "      <td>8</td>\n",
       "      <td>113755.78</td>\n",
       "      <td>2</td>\n",
       "      <td>1</td>\n",
       "      <td>0</td>\n",
       "      <td>149756.71</td>\n",
       "      <td>1</td>\n",
       "    </tr>\n",
       "    <tr>\n",
       "      <th>6</th>\n",
       "      <td>15635267</td>\n",
       "      <td>822</td>\n",
       "      <td>Ярославль</td>\n",
       "      <td>М</td>\n",
       "      <td>50</td>\n",
       "      <td>7</td>\n",
       "      <td>NaN</td>\n",
       "      <td>2</td>\n",
       "      <td>1</td>\n",
       "      <td>1</td>\n",
       "      <td>10062.80</td>\n",
       "      <td>0</td>\n",
       "    </tr>\n",
       "    <tr>\n",
       "      <th>7</th>\n",
       "      <td>15698884</td>\n",
       "      <td>376</td>\n",
       "      <td>Ростов Великий</td>\n",
       "      <td>Ж</td>\n",
       "      <td>29</td>\n",
       "      <td>4</td>\n",
       "      <td>115046.74</td>\n",
       "      <td>4</td>\n",
       "      <td>1</td>\n",
       "      <td>0</td>\n",
       "      <td>119346.88</td>\n",
       "      <td>1</td>\n",
       "    </tr>\n",
       "    <tr>\n",
       "      <th>8</th>\n",
       "      <td>15835101</td>\n",
       "      <td>501</td>\n",
       "      <td>Ярославль</td>\n",
       "      <td>М</td>\n",
       "      <td>44</td>\n",
       "      <td>4</td>\n",
       "      <td>142051.07</td>\n",
       "      <td>2</td>\n",
       "      <td>0</td>\n",
       "      <td>1</td>\n",
       "      <td>74940.50</td>\n",
       "      <td>0</td>\n",
       "    </tr>\n",
       "    <tr>\n",
       "      <th>9</th>\n",
       "      <td>15635125</td>\n",
       "      <td>684</td>\n",
       "      <td>Ярославль</td>\n",
       "      <td>М</td>\n",
       "      <td>27</td>\n",
       "      <td>2</td>\n",
       "      <td>134603.88</td>\n",
       "      <td>1</td>\n",
       "      <td>1</td>\n",
       "      <td>1</td>\n",
       "      <td>71725.73</td>\n",
       "      <td>0</td>\n",
       "    </tr>\n",
       "  </tbody>\n",
       "</table>\n",
       "</div>"
      ],
      "text/plain": [
       "     userid  score            City Gender  Age  Objects    Balance  Products  \\\n",
       "0  15677338    619       Ярославль      Ж   42        2        NaN         1   \n",
       "1  15690047    608         Рыбинск      Ж   41        1   83807.86         1   \n",
       "2  15662040    502       Ярославль      Ж   42        8  159660.80         3   \n",
       "3  15744090    699       Ярославль      Ж   39        1        NaN         2   \n",
       "4  15780624    850         Рыбинск      Ж   43        2  125510.82         1   \n",
       "5  15616748    645         Рыбинск      М   44        8  113755.78         2   \n",
       "6  15635267    822       Ярославль      М   50        7        NaN         2   \n",
       "7  15698884    376  Ростов Великий      Ж   29        4  115046.74         4   \n",
       "8  15835101    501       Ярославль      М   44        4  142051.07         2   \n",
       "9  15635125    684       Ярославль      М   27        2  134603.88         1   \n",
       "\n",
       "   CreditCard  Loyalty  estimated_salary  Churn  \n",
       "0           1        1         101348.88      1  \n",
       "1           0        1         112542.58      0  \n",
       "2           1        0         113931.57      1  \n",
       "3           0        0          93826.63      0  \n",
       "4           1        1          79084.10      0  \n",
       "5           1        0         149756.71      1  \n",
       "6           1        1          10062.80      0  \n",
       "7           1        0         119346.88      1  \n",
       "8           0        1          74940.50      0  \n",
       "9           1        1          71725.73      0  "
      ]
     },
     "metadata": {},
     "output_type": "display_data"
    }
   ],
   "source": [
    "# выведем первые 10 строк таблицы\n",
    "data = pd.read_csv('https://code.s3.yandex.net/datasets/bank_dataset.csv') \n",
    "display(data.head(10))"
   ]
  },
  {
   "cell_type": "markdown",
   "metadata": {},
   "source": [
    "Закодируем столбец gender численно. Женский пол 0, мужской - 1."
   ]
  },
  {
   "cell_type": "code",
   "execution_count": 3,
   "metadata": {},
   "outputs": [
    {
     "data": {
      "text/html": [
       "<div>\n",
       "<style scoped>\n",
       "    .dataframe tbody tr th:only-of-type {\n",
       "        vertical-align: middle;\n",
       "    }\n",
       "\n",
       "    .dataframe tbody tr th {\n",
       "        vertical-align: top;\n",
       "    }\n",
       "\n",
       "    .dataframe thead th {\n",
       "        text-align: right;\n",
       "    }\n",
       "</style>\n",
       "<table border=\"1\" class=\"dataframe\">\n",
       "  <thead>\n",
       "    <tr style=\"text-align: right;\">\n",
       "      <th></th>\n",
       "      <th>userid</th>\n",
       "      <th>score</th>\n",
       "      <th>City</th>\n",
       "      <th>Age</th>\n",
       "      <th>Objects</th>\n",
       "      <th>Balance</th>\n",
       "      <th>Products</th>\n",
       "      <th>CreditCard</th>\n",
       "      <th>Loyalty</th>\n",
       "      <th>estimated_salary</th>\n",
       "      <th>Churn</th>\n",
       "      <th>Gender_М</th>\n",
       "    </tr>\n",
       "  </thead>\n",
       "  <tbody>\n",
       "    <tr>\n",
       "      <th>0</th>\n",
       "      <td>15677338</td>\n",
       "      <td>619</td>\n",
       "      <td>Ярославль</td>\n",
       "      <td>42</td>\n",
       "      <td>2</td>\n",
       "      <td>NaN</td>\n",
       "      <td>1</td>\n",
       "      <td>1</td>\n",
       "      <td>1</td>\n",
       "      <td>101348.88</td>\n",
       "      <td>1</td>\n",
       "      <td>0</td>\n",
       "    </tr>\n",
       "    <tr>\n",
       "      <th>1</th>\n",
       "      <td>15690047</td>\n",
       "      <td>608</td>\n",
       "      <td>Рыбинск</td>\n",
       "      <td>41</td>\n",
       "      <td>1</td>\n",
       "      <td>83807.86</td>\n",
       "      <td>1</td>\n",
       "      <td>0</td>\n",
       "      <td>1</td>\n",
       "      <td>112542.58</td>\n",
       "      <td>0</td>\n",
       "      <td>0</td>\n",
       "    </tr>\n",
       "    <tr>\n",
       "      <th>2</th>\n",
       "      <td>15662040</td>\n",
       "      <td>502</td>\n",
       "      <td>Ярославль</td>\n",
       "      <td>42</td>\n",
       "      <td>8</td>\n",
       "      <td>159660.80</td>\n",
       "      <td>3</td>\n",
       "      <td>1</td>\n",
       "      <td>0</td>\n",
       "      <td>113931.57</td>\n",
       "      <td>1</td>\n",
       "      <td>0</td>\n",
       "    </tr>\n",
       "    <tr>\n",
       "      <th>3</th>\n",
       "      <td>15744090</td>\n",
       "      <td>699</td>\n",
       "      <td>Ярославль</td>\n",
       "      <td>39</td>\n",
       "      <td>1</td>\n",
       "      <td>NaN</td>\n",
       "      <td>2</td>\n",
       "      <td>0</td>\n",
       "      <td>0</td>\n",
       "      <td>93826.63</td>\n",
       "      <td>0</td>\n",
       "      <td>0</td>\n",
       "    </tr>\n",
       "    <tr>\n",
       "      <th>4</th>\n",
       "      <td>15780624</td>\n",
       "      <td>850</td>\n",
       "      <td>Рыбинск</td>\n",
       "      <td>43</td>\n",
       "      <td>2</td>\n",
       "      <td>125510.82</td>\n",
       "      <td>1</td>\n",
       "      <td>1</td>\n",
       "      <td>1</td>\n",
       "      <td>79084.10</td>\n",
       "      <td>0</td>\n",
       "      <td>0</td>\n",
       "    </tr>\n",
       "  </tbody>\n",
       "</table>\n",
       "</div>"
      ],
      "text/plain": [
       "     userid  score       City  Age  Objects    Balance  Products  CreditCard  \\\n",
       "0  15677338    619  Ярославль   42        2        NaN         1           1   \n",
       "1  15690047    608    Рыбинск   41        1   83807.86         1           0   \n",
       "2  15662040    502  Ярославль   42        8  159660.80         3           1   \n",
       "3  15744090    699  Ярославль   39        1        NaN         2           0   \n",
       "4  15780624    850    Рыбинск   43        2  125510.82         1           1   \n",
       "\n",
       "   Loyalty  estimated_salary  Churn  Gender_М  \n",
       "0        1         101348.88      1         0  \n",
       "1        1         112542.58      0         0  \n",
       "2        0         113931.57      1         0  \n",
       "3        0          93826.63      0         0  \n",
       "4        1          79084.10      0         0  "
      ]
     },
     "metadata": {},
     "output_type": "display_data"
    }
   ],
   "source": [
    "data = pd.get_dummies(data, columns=['Gender'], drop_first=True)\n",
    "display(data.head())"
   ]
  },
  {
   "cell_type": "code",
   "execution_count": 4,
   "metadata": {},
   "outputs": [
    {
     "name": "stdout",
     "output_type": "stream",
     "text": [
      "<class 'pandas.core.frame.DataFrame'>\n",
      "RangeIndex: 10000 entries, 0 to 9999\n",
      "Data columns (total 12 columns):\n",
      " #   Column            Non-Null Count  Dtype  \n",
      "---  ------            --------------  -----  \n",
      " 0   userid            10000 non-null  int64  \n",
      " 1   score             10000 non-null  int64  \n",
      " 2   City              10000 non-null  object \n",
      " 3   Age               10000 non-null  int64  \n",
      " 4   Objects           10000 non-null  int64  \n",
      " 5   Balance           6383 non-null   float64\n",
      " 6   Products          10000 non-null  int64  \n",
      " 7   CreditCard        10000 non-null  int64  \n",
      " 8   Loyalty           10000 non-null  int64  \n",
      " 9   estimated_salary  10000 non-null  float64\n",
      " 10  Churn             10000 non-null  int64  \n",
      " 11  Gender_М          10000 non-null  uint8  \n",
      "dtypes: float64(2), int64(8), object(1), uint8(1)\n",
      "memory usage: 869.3+ KB\n"
     ]
    }
   ],
   "source": [
    "# выведем общую информацию о данных\n",
    "data.info()"
   ]
  },
  {
   "cell_type": "markdown",
   "metadata": {},
   "source": [
    "Типы данных указаны верно. Стоит привести названия столбцов к нужному виду."
   ]
  },
  {
   "cell_type": "code",
   "execution_count": 5,
   "metadata": {},
   "outputs": [],
   "source": [
    "data.columns = data.columns.str.lower()\n",
    "data = data.rename(columns={\n",
    "    'userid': 'user_id',\n",
    "    'creditcard': 'credit_card',\n",
    "    'estimated_salary': 'salary',\n",
    "    'gender_м': 'gender'})"
   ]
  },
  {
   "cell_type": "markdown",
   "metadata": {},
   "source": [
    " В столбце **balance** пропущено более 35% данных. Нужно изучить природу этих пропусков подробнее."
   ]
  },
  {
   "cell_type": "code",
   "execution_count": 6,
   "metadata": {},
   "outputs": [
    {
     "data": {
      "image/png": "[encoded data removed]",
      "text/plain": [
       "<Figure size 576x360 with 1 Axes>"
      ]
     },
     "metadata": {
      "needs_background": "light"
     },
     "output_type": "display_data"
    }
   ],
   "source": [
    "# рассмотрим распределение значений баланса\n",
    "plt.figure(figsize=(8,5))\n",
    "sns.histplot(data, x='balance')\n",
    "plt.title('Распределение клиентов по размеру баланса')\n",
    "plt.show()"
   ]
  },
  {
   "cell_type": "markdown",
   "metadata": {},
   "source": [
    "Значение баланса имеет нормальное распределение, отсутствуют клиенты с нулевыми счетами."
   ]
  },
  {
   "cell_type": "code",
   "execution_count": 7,
   "metadata": {},
   "outputs": [
    {
     "name": "stdout",
     "output_type": "stream",
     "text": [
      "Средние значения признаков всего датафрейма\n",
      "user_id        15733676.57\n",
      "score               650.53\n",
      "age                  38.92\n",
      "objects               5.01\n",
      "balance          119827.49\n",
      "products              1.53\n",
      "credit_card           0.71\n",
      "loyalty               0.52\n",
      "salary           100090.24\n",
      "churn                 0.20\n",
      "gender                0.55\n",
      "dtype: float64\n",
      "------------------------------\n",
      "Средние значения признаков датафрейма с пропусками в столбце balance\n",
      "user_id        15734685.59\n",
      "score               649.45\n",
      "age                  38.43\n",
      "objects               5.07\n",
      "balance                NaN\n",
      "products              1.78\n",
      "credit_card           0.72\n",
      "loyalty               0.52\n",
      "salary            98983.56\n",
      "churn                 0.14\n",
      "gender                0.54\n",
      "dtype: float64\n"
     ]
    }
   ],
   "source": [
    "# сделаем срез данных, где баланс пропущен, и сравним средние значения баланса\n",
    "nan_balance = data.query('balance.isna()')\n",
    "\n",
    "print('Средние значения признаков всего датафрейма')\n",
    "print(round(data.mean(), 2))\n",
    "print('------------------------------')\n",
    "print('Средние значения признаков датафрейма с пропусками в столбце balance')\n",
    "print(round(nan_balance.mean(), 2))"
   ]
  },
  {
   "cell_type": "code",
   "execution_count": 8,
   "metadata": {},
   "outputs": [
    {
     "data": {
      "text/plain": [
       "city\n",
       "Рыбинск      1199\n",
       "Ярославль    2418\n",
       "Name: city, dtype: int64"
      ]
     },
     "execution_count": 8,
     "metadata": {},
     "output_type": "execute_result"
    }
   ],
   "source": [
    "# также изучим, во всех ли городах есть пропуски.\n",
    "nan_balance.groupby('city')['city'].count()"
   ]
  },
  {
   "cell_type": "code",
   "execution_count": 9,
   "metadata": {},
   "outputs": [
    {
     "name": "stdout",
     "output_type": "stream",
     "text": [
      "city             Рыбинск    Ярославль\n",
      "user_id      15735505.69  15734278.93\n",
      "score             651.69       648.35\n",
      "age                38.50        38.40\n",
      "objects             5.09         5.06\n",
      "balance              NaN          NaN\n",
      "products            1.79         1.78\n",
      "credit_card         0.71         0.72\n",
      "loyalty             0.51         0.52\n",
      "salary          98708.62     99119.89\n",
      "churn               0.14         0.14\n",
      "gender              0.55         0.54\n",
      "------------------------------------------------------\n",
      "city         Ростов Великий      Рыбинск    Ярославль\n",
      "user_id         15733291.65  15734654.41  15733386.11\n",
      "score                651.45       651.33       649.67\n",
      "age                   39.77        38.89        38.51\n",
      "objects                5.01         5.03         5.00\n",
      "balance           119730.12    119814.99    119927.77\n",
      "products               1.52         1.54         1.53\n",
      "credit_card            0.71         0.69         0.71\n",
      "loyalty                0.50         0.53         0.52\n",
      "salary            101113.44     99440.57     99899.18\n",
      "churn                  0.32         0.17         0.16\n",
      "gender                 0.52         0.56         0.55\n"
     ]
    }
   ],
   "source": [
    "print(round(nan_balance.groupby('city').mean(), 2).T)\n",
    "print('------------------------------------------------------')\n",
    "print(round(data.groupby('city').mean(), 2).T)"
   ]
  },
  {
   "cell_type": "markdown",
   "metadata": {},
   "source": [
    "- Средние значения признаков схожи, что говорит об отсутствии зависимости пропусков от остальных данных.\n",
    "- Пропуски есть только в Рыбинске и Ярославле, в Ростове Великом их нет. \n",
    "- Пропуски не связаны с оттоком, они есть как у тех, кто является клиентом, так и у тех, кто рассторгнул договор. \n",
    "\n",
    "Также ни у кого нет нулевых счетов, можно было бы предположить, что пропуски - это нули, но тогда получается, что в Ростове Великом нет пустых счетов, не похоже на правду. Скорее всего база изначально включает в себя информацию по клиентам с ненулевыми счетами, и сейчас мы имеем дело со сломанной выгрузкой данных. В таком случае оставим пропуски, как есть, чтобы не удалять более 35% данных и не заменять их значениями, которые могут сильно исказить результаты исследования."
   ]
  },
  {
   "cell_type": "markdown",
   "metadata": {},
   "source": [
    "## Исследовательский анализ"
   ]
  },
  {
   "cell_type": "markdown",
   "metadata": {},
   "source": [
    "### Распределение характеристик в разрезе оттока и портрет отточного клиента."
   ]
  },
  {
   "cell_type": "markdown",
   "metadata": {},
   "source": [
    "Для начала определим общий уровень оттока по банку."
   ]
  },
  {
   "cell_type": "code",
   "execution_count": 10,
   "metadata": {
    "scrolled": false
   },
   "outputs": [
    {
     "data": {
      "text/html": [
       "<div>\n",
       "<style scoped>\n",
       "    .dataframe tbody tr th:only-of-type {\n",
       "        vertical-align: middle;\n",
       "    }\n",
       "\n",
       "    .dataframe tbody tr th {\n",
       "        vertical-align: top;\n",
       "    }\n",
       "\n",
       "    .dataframe thead th {\n",
       "        text-align: right;\n",
       "    }\n",
       "</style>\n",
       "<table border=\"1\" class=\"dataframe\">\n",
       "  <thead>\n",
       "    <tr style=\"text-align: right;\">\n",
       "      <th></th>\n",
       "      <th>churn</th>\n",
       "    </tr>\n",
       "    <tr>\n",
       "      <th>churn</th>\n",
       "      <th></th>\n",
       "    </tr>\n",
       "  </thead>\n",
       "  <tbody>\n",
       "    <tr>\n",
       "      <th>0</th>\n",
       "      <td>7963</td>\n",
       "    </tr>\n",
       "    <tr>\n",
       "      <th>1</th>\n",
       "      <td>2037</td>\n",
       "    </tr>\n",
       "  </tbody>\n",
       "</table>\n",
       "</div>"
      ],
      "text/plain": [
       "       churn\n",
       "churn       \n",
       "0       7963\n",
       "1       2037"
      ]
     },
     "metadata": {},
     "output_type": "display_data"
    },
    {
     "data": {
      "image/png": "[encoded data removed]",
      "text/plain": [
       "<Figure size 504x504 with 1 Axes>"
      ]
     },
     "metadata": {},
     "output_type": "display_data"
    }
   ],
   "source": [
    "churn_perc = data.groupby('churn').agg({'churn': 'count'})\n",
    "display(churn_perc)\n",
    "\n",
    "churn_perc.plot(kind='pie', y='churn', autopct='%1.1f%%', figsize=(7,7))\n",
    "plt.title('Доли клиентов в разрезе оттока')\n",
    "plt.legend(['Клиенты', 'Рассторгли договор'])\n",
    "plt.show()"
   ]
  },
  {
   "cell_type": "code",
   "execution_count": 11,
   "metadata": {},
   "outputs": [],
   "source": [
    "# функция для формирования графиков распределения\n",
    "# hue - признак, по которому мы хотим увидеть детализацию данных\n",
    "\n",
    "def distr_charts(data, hue):\n",
    "    # дискретные величины:\n",
    "    for column in ['city', 'gender', 'objects', 'products', 'credit_card', 'loyalty']:\n",
    "        common_churn_level = data['churn'].mean() * 100\n",
    "        columns_churn = data.groupby(column)['churn'].mean() * 100\n",
    "        \n",
    "        plt.figure(figsize=(8, 5))\n",
    "        plt.axhline(y= common_churn_level, linewidth=2, linestyle='--', color='k')\n",
    "        ax = columns_churn.plot(kind='bar', color='c')\n",
    "        plt.xticks(rotation=0)\n",
    "        plt.title(f'Процент оттока клиентов по категории {column} относительно среднего по банку')\n",
    "        plt.show()\n",
    "\n",
    "    # непрерывные:\n",
    "    for column in ['score',  'balance', 'salary']:\n",
    "        plt.figure(figsize=(8,5))\n",
    "        sns.kdeplot(data=data, x=column, hue=hue, common_norm=False);\n",
    "        plt.title(f'Распределение клиентов по признаку {column}')\n",
    "        plt.show()\n",
    "        \n",
    "    # столбец age, поскольку у него по оси у много значений, ему нужно попдобрать другой размер\n",
    "    plt.figure(figsize=(20,8))\n",
    "    sns.histplot(data=data, x='age', hue=hue, stat=\"density\", common_norm=False);\n",
    "    plt.title('Распределение клиентов по признаку age')\n",
    "    plt.show()"
   ]
  },
  {
   "cell_type": "code",
   "execution_count": 12,
   "metadata": {
    "scrolled": false
   },
   "outputs": [
    {
     "data": {
      "image/png": "[encoded data removed]",
      "text/plain": [
       "<Figure size 576x360 with 1 Axes>"
      ]
     },
     "metadata": {
      "needs_background": "light"
     },
     "output_type": "display_data"
    },
    {
     "data": {
      "image/png": "[encoded data removed]",
      "text/plain": [
       "<Figure size 576x360 with 1 Axes>"
      ]
     },
     "metadata": {
      "needs_background": "light"
     },
     "output_type": "display_data"
    },
    {
     "data": {
      "image/png": "[encoded data removed]",
      "text/plain": [
       "<Figure size 576x360 with 1 Axes>"
      ]
     },
     "metadata": {
      "needs_background": "light"
     },
     "output_type": "display_data"
    },
    {
     "data": {
      "image/png": "[encoded data removed]",
      "text/plain": [
       "<Figure size 576x360 with 1 Axes>"
      ]
     },
     "metadata": {
      "needs_background": "light"
     },
     "output_type": "display_data"
    },
    {
     "data": {
      "image/png": "[encoded data removed]",
      "text/plain": [
       "<Figure size 576x360 with 1 Axes>"
      ]
     },
     "metadata": {
      "needs_background": "light"
     },
     "output_type": "display_data"
    },
    {
     "data": {
      "image/png": "[encoded data removed]",
      "text/plain": [
       "<Figure size 576x360 with 1 Axes>"
      ]
     },
     "metadata": {
      "needs_background": "light"
     },
     "output_type": "display_data"
    },
    {
     "data": {
      "image/png": "[encoded data removed]",
      "text/plain": [
       "<Figure size 576x360 with 1 Axes>"
      ]
     },
     "metadata": {
      "needs_background": "light"
     },
     "output_type": "display_data"
    },
    {
     "data": {
      "image/png": "[encoded data removed]",
      "text/plain": [
       "<Figure size 576x360 with 1 Axes>"
      ]
     },
     "metadata": {
      "needs_background": "light"
     },
     "output_type": "display_data"
    },
    {
     "data": {
      "image/png": "[encoded data removed]",
      "text/plain": [
       "<Figure size 576x360 with 1 Axes>"
      ]
     },
     "metadata": {
      "needs_background": "light"
     },
     "output_type": "display_data"
    },
    {
     "data": {
      "image/png": "[encoded data removed]",
      "text/plain": [
       "<Figure size 1440x576 with 1 Axes>"
      ]
     },
     "metadata": {
      "needs_background": "light"
     },
     "output_type": "display_data"
    }
   ],
   "source": [
    "distr_charts(data, 'churn')"
   ]
  },
  {
   "cell_type": "markdown",
   "metadata": {},
   "source": [
    "Изучим портреты отточных и неотточных клиентов."
   ]
  },
  {
   "cell_type": "code",
   "execution_count": 13,
   "metadata": {
    "scrolled": false
   },
   "outputs": [
    {
     "data": {
      "text/html": [
       "<div>\n",
       "<style scoped>\n",
       "    .dataframe tbody tr th:only-of-type {\n",
       "        vertical-align: middle;\n",
       "    }\n",
       "\n",
       "    .dataframe tbody tr th {\n",
       "        vertical-align: top;\n",
       "    }\n",
       "\n",
       "    .dataframe thead th {\n",
       "        text-align: right;\n",
       "    }\n",
       "</style>\n",
       "<table border=\"1\" class=\"dataframe\">\n",
       "  <thead>\n",
       "    <tr style=\"text-align: right;\">\n",
       "      <th>churn</th>\n",
       "      <th>0</th>\n",
       "      <th>1</th>\n",
       "      <th>difference, %</th>\n",
       "    </tr>\n",
       "  </thead>\n",
       "  <tbody>\n",
       "    <tr>\n",
       "      <th>age</th>\n",
       "      <td>37.41</td>\n",
       "      <td>44.84</td>\n",
       "      <td>19.86</td>\n",
       "    </tr>\n",
       "    <tr>\n",
       "      <th>salary</th>\n",
       "      <td>99738.39</td>\n",
       "      <td>101465.68</td>\n",
       "      <td>1.73</td>\n",
       "    </tr>\n",
       "    <tr>\n",
       "      <th>balance</th>\n",
       "      <td>119535.86</td>\n",
       "      <td>120746.97</td>\n",
       "      <td>1.01</td>\n",
       "    </tr>\n",
       "    <tr>\n",
       "      <th>user_id</th>\n",
       "      <td>15733903.88</td>\n",
       "      <td>15732787.96</td>\n",
       "      <td>-0.01</td>\n",
       "    </tr>\n",
       "    <tr>\n",
       "      <th>score</th>\n",
       "      <td>651.85</td>\n",
       "      <td>645.35</td>\n",
       "      <td>-1.00</td>\n",
       "    </tr>\n",
       "    <tr>\n",
       "      <th>credit_card</th>\n",
       "      <td>0.71</td>\n",
       "      <td>0.70</td>\n",
       "      <td>-1.41</td>\n",
       "    </tr>\n",
       "    <tr>\n",
       "      <th>objects</th>\n",
       "      <td>5.03</td>\n",
       "      <td>4.93</td>\n",
       "      <td>-1.99</td>\n",
       "    </tr>\n",
       "    <tr>\n",
       "      <th>products</th>\n",
       "      <td>1.54</td>\n",
       "      <td>1.48</td>\n",
       "      <td>-3.90</td>\n",
       "    </tr>\n",
       "    <tr>\n",
       "      <th>gender</th>\n",
       "      <td>0.57</td>\n",
       "      <td>0.44</td>\n",
       "      <td>-22.81</td>\n",
       "    </tr>\n",
       "    <tr>\n",
       "      <th>loyalty</th>\n",
       "      <td>0.55</td>\n",
       "      <td>0.36</td>\n",
       "      <td>-34.55</td>\n",
       "    </tr>\n",
       "  </tbody>\n",
       "</table>\n",
       "</div>"
      ],
      "text/plain": [
       "churn                  0            1  difference, %\n",
       "age                37.41        44.84          19.86\n",
       "salary          99738.39    101465.68           1.73\n",
       "balance        119535.86    120746.97           1.01\n",
       "user_id      15733903.88  15732787.96          -0.01\n",
       "score             651.85       645.35          -1.00\n",
       "credit_card         0.71         0.70          -1.41\n",
       "objects             5.03         4.93          -1.99\n",
       "products            1.54         1.48          -3.90\n",
       "gender              0.57         0.44         -22.81\n",
       "loyalty             0.55         0.36         -34.55"
      ]
     },
     "metadata": {},
     "output_type": "display_data"
    }
   ],
   "source": [
    "# среднее распределение признаков \n",
    "portrait = data.groupby('churn').mean().round(2).T\n",
    "portrait['difference, %'] = round(((portrait[1] - portrait[0]) / portrait[0]) * 100, 2)\n",
    "display(portrait.sort_values(by='difference, %', ascending=False))"
   ]
  },
  {
   "cell_type": "markdown",
   "metadata": {},
   "source": [
    "Обобщённый портрет клиента банка:\n",
    "- небольшой перевес в сторону мужчин\n",
    "- возраст 37-38 лет\n",
    "- 5 объектов в собственности\n",
    "- средний остаток на счетах 120 тыс. руб \n",
    "- средний доход около 100 тыс. руб\n",
    "- пользуется 1-2 продуктами, один их которых в 70% случаях - кредитная карта\n",
    "- умеренно активный\n",
    "\n",
    "Портрет отточного клиента:\n",
    "- на 22% перевес в сторону женщин\n",
    "- средний возраст 44-45 лет\n",
    "- активность на 34% ниже, чем у клиента, пользующегося услугами\n",
    "\n",
    "Остальные признаки схожи."
   ]
  },
  {
   "cell_type": "markdown",
   "metadata": {},
   "source": [
    "**Вывод:**\n",
    "\n",
    "- общий процент оттока более 20%\n",
    "- наибольшая доля отточных клиентов в Ростове Великом\n",
    "- среди отточных клиентов женщин больше почти на 23%, чем мужчин.\n",
    "- клиенты, пользующиеся двумя продуктами, - группа, которая имеет самую низкую долю оттока. Группа клиентов с одним продуктом имеет процент чуть выше среднего по банку. Клиенты же с 3 и 4 продуктами практически полностью подвержены оттоку.\n",
    "- пользователи кредитных карт примерно в равных долях остаются с банком.\n",
    "- среди уходящих пользователей активных на 34% меньше, чем у действующих клиентов.\n",
    "- основная масса клиентов, которые работают с банком 28-40 лет. Пользователи возраста 42-64 года сильнее подвержены оттоку."
   ]
  },
  {
   "cell_type": "markdown",
   "metadata": {},
   "source": [
    "### Матрица корреляций"
   ]
  },
  {
   "cell_type": "code",
   "execution_count": 14,
   "metadata": {
    "scrolled": false
   },
   "outputs": [
    {
     "data": {
      "image/png": "[encoded data removed]",
      "text/plain": [
       "<Figure size 1440x1080 with 2 Axes>"
      ]
     },
     "metadata": {
      "needs_background": "light"
     },
     "output_type": "display_data"
    }
   ],
   "source": [
    "corr_matrix = data.corr()\n",
    "\n",
    "plt.figure(figsize=(20,15))\n",
    "sns.heatmap(corr_matrix, center=0 ,cmap=\"vlag\", annot=True, fmt='.2%')\n",
    "plt.title('Матрица корреляций', fontsize = 20)\n",
    "plt.show()"
   ]
  },
  {
   "cell_type": "code",
   "execution_count": 15,
   "metadata": {
    "scrolled": false
   },
   "outputs": [
    {
     "data": {
      "image/png": "[encoded data removed]",
      "text/plain": [
       "<Figure size 576x576 with 2 Axes>"
      ]
     },
     "metadata": {
      "needs_background": "light"
     },
     "output_type": "display_data"
    }
   ],
   "source": [
    "# построим отдельно тепловую карту корреляций признаков непосредственно с оттоком\n",
    "plt.figure(figsize=(8,8))\n",
    "sns.heatmap(\n",
    "    corr_matrix.loc[:,['churn']].drop('churn').sort_values('churn'),\n",
    "    annot=True, fmt='.0%', cmap='coolwarm', center=0\n",
    ")\n",
    "plt.title('Корреляция признаков с оттоком', fontsize = 16)\n",
    "plt.show()"
   ]
  },
  {
   "cell_type": "markdown",
   "metadata": {},
   "source": [
    "Присутствуют слабая связь возраста, активности и пола клиентов с оттоком. Чем выше возраст, тем больше уровень оттока. И чем ниже уровень лояльности - тем выше уровень оттока."
   ]
  },
  {
   "cell_type": "markdown",
   "metadata": {},
   "source": [
    "## Проверка статистических гипотез"
   ]
  },
  {
   "cell_type": "markdown",
   "metadata": {},
   "source": [
    "### Гипотеза о различии дохода между теми клиентами, которые ушли и теми, которые остались."
   ]
  },
  {
   "cell_type": "markdown",
   "metadata": {},
   "source": [
    "H0: в среднем доходы отточных клиентов равны доходам клиентов, оставшихся с банком.\n",
    "\n",
    "H1: в среднем доходы отточных клиентов отличаются от доходов клиентов, оставшихся с банком."
   ]
  },
  {
   "cell_type": "markdown",
   "metadata": {},
   "source": [
    "#### t-критерий Стьюдента"
   ]
  },
  {
   "cell_type": "markdown",
   "metadata": {},
   "source": [
    "Три аспекта, которые надо проверить, чтобы понять, можно ли применять t-тест:\n",
    "\n",
    "- Генеральные совокупности не должны зависеть друг от друга.\n",
    "- Выборочные средние должны быть нормально распределены.\n",
    "- Дисперсии рассматриваемых генеральных совокупностей должны быть равны."
   ]
  },
  {
   "cell_type": "code",
   "execution_count": 16,
   "metadata": {
    "scrolled": false
   },
   "outputs": [
    {
     "data": {
      "image/png": "[encoded data removed]",
      "text/plain": [
       "<Figure size 576x360 with 1 Axes>"
      ]
     },
     "metadata": {
      "needs_background": "light"
     },
     "output_type": "display_data"
    }
   ],
   "source": [
    "plt.figure(figsize=(8,5))\n",
    "sns.kdeplot(data=data, x='salary', hue='churn', common_norm=False);\n",
    "plt.title(f'Распределение доходов клиентов в разрезе оттока')\n",
    "plt.show()"
   ]
  },
  {
   "cell_type": "markdown",
   "metadata": {},
   "source": [
    "Совокупности не зависят друг от друга, уровень доходу распределён равномерно."
   ]
  },
  {
   "cell_type": "code",
   "execution_count": 17,
   "metadata": {},
   "outputs": [
    {
     "name": "stdout",
     "output_type": "stream",
     "text": [
      "Описание salary_0\n",
      "count      7963.00\n",
      "mean      99738.39\n",
      "std       57405.59\n",
      "min          90.07\n",
      "25%       50783.49\n",
      "50%       99645.04\n",
      "75%      148609.96\n",
      "max      199992.48\n",
      "Name: salary, dtype: float64\n",
      "---------------------\n",
      "Описание salary_1\n",
      "count      2037.00\n",
      "mean     101465.68\n",
      "std       57912.42\n",
      "min          11.58\n",
      "25%       51907.72\n",
      "50%      102460.84\n",
      "75%      152422.91\n",
      "max      199808.10\n",
      "Name: salary, dtype: float64\n"
     ]
    }
   ],
   "source": [
    "salary_0 = data.query('churn == 0')['salary']\n",
    "salary_1 = data.query('churn == 1')['salary']\n",
    "\n",
    "print('Описание salary_0')\n",
    "print(salary_0.describe().round(2))\n",
    "print('---------------------')\n",
    "print('Описание salary_1')\n",
    "print(salary_1.describe().round(2))"
   ]
  },
  {
   "cell_type": "markdown",
   "metadata": {},
   "source": [
    "Стандартные отклонения схожи, для анализа можно использовать t-критерий Стьюдента."
   ]
  },
  {
   "cell_type": "code",
   "execution_count": 18,
   "metadata": {},
   "outputs": [
    {
     "name": "stdout",
     "output_type": "stream",
     "text": [
      "p-значение: 0.22644042802223352\n",
      "Не получилось отвергнуть нулевую гипотезу, статистической разницы в доходах клиентов нет\n"
     ]
    }
   ],
   "source": [
    "alpha = 0.01\n",
    "\n",
    "results = st.ttest_ind(salary_0, salary_1)\n",
    "\n",
    "print('p-значение:', results.pvalue)\n",
    "\n",
    "if results.pvalue < alpha:\n",
    "    print(\"Отвергаем нулевую гипотезу\")\n",
    "else:\n",
    "    print(\"Не получилось отвергнуть нулевую гипотезу, статистической разницы в доходах клиентов нет\")"
   ]
  },
  {
   "cell_type": "markdown",
   "metadata": {},
   "source": [
    "#### u-критерий Манна-Уитни"
   ]
  },
  {
   "cell_type": "markdown",
   "metadata": {},
   "source": [
    "Сравним выборки другим способом. Главное отличие u-критерия Манна-Уитни от t-критерия Стьюдента в том, что он работает с рангами, — номерами значений в упорядоченном ряду, — никак не учитывая сами значения. Поэтому им пользуются тогда, когда работа с самими значениями невозможна из-за выбросов, сильно сдвигающих результаты."
   ]
  },
  {
   "cell_type": "code",
   "execution_count": 19,
   "metadata": {},
   "outputs": [
    {
     "name": "stdout",
     "output_type": "stream",
     "text": [
      "p-значение:  0.22705150930153783\n",
      "Не получилось отвергнуть нулевую гипотезу, статистической разницы в доходах клиентов нет\n"
     ]
    }
   ],
   "source": [
    "alpha = 0.01  # критический уровень статистической значимости\n",
    "\n",
    "results = st.mannwhitneyu(salary_0, salary_1)\n",
    "\n",
    "print('p-значение: ', results.pvalue)\n",
    "\n",
    "if results.pvalue < alpha:\n",
    "    print(\"Отвергаем нулевую гипотезу\")\n",
    "else:\n",
    "    print(\"Не получилось отвергнуть нулевую гипотезу, статистической разницы в доходах клиентов нет\") "
   ]
  },
  {
   "cell_type": "markdown",
   "metadata": {},
   "source": [
    "Оба теста показали один результат, статистической разницы в доходах отточных и оставшихся клиентов нет. В случае с доходами людей, лучше использовать u-критерий Манна-Уитни, т.к в них могут быть аномальные значения, например в данных есть зарплата в 11 рублей."
   ]
  },
  {
   "cell_type": "markdown",
   "metadata": {},
   "source": [
    "### Гипотеза о баллов кредитного скоринга между теми клиентами, которые ушли и теми, которые остались."
   ]
  },
  {
   "cell_type": "markdown",
   "metadata": {},
   "source": [
    "H0: в среднем баллы кредитного скоринга клиентов равны скоринговым баллам клиентов, оставшихся с банком.\n",
    "\n",
    "H1: в среднем баллы кредитного скоринга клиентов отличаются от скоринговых баллов клиентов, оставшихся с банком."
   ]
  },
  {
   "cell_type": "code",
   "execution_count": 20,
   "metadata": {},
   "outputs": [
    {
     "data": {
      "image/png": "[encoded data removed]",
      "text/plain": [
       "<Figure size 576x360 with 1 Axes>"
      ]
     },
     "metadata": {
      "needs_background": "light"
     },
     "output_type": "display_data"
    }
   ],
   "source": [
    "plt.figure(figsize=(8,5))\n",
    "sns.kdeplot(data=data, x='score', hue='churn', common_norm=False);\n",
    "plt.title(f'Распределение баллов кредитного скоринга клиентов в разрезе оттока')\n",
    "plt.show()"
   ]
  },
  {
   "cell_type": "code",
   "execution_count": 21,
   "metadata": {},
   "outputs": [
    {
     "name": "stdout",
     "output_type": "stream",
     "text": [
      "Описание score_0\n",
      "count    7963.00\n",
      "mean      651.85\n",
      "std        95.65\n",
      "min       405.00\n",
      "25%       585.00\n",
      "50%       653.00\n",
      "75%       718.00\n",
      "max       850.00\n",
      "Name: score, dtype: float64\n",
      "---------------------\n",
      "Описание score_1\n",
      "count    2037.00\n",
      "mean      645.35\n",
      "std       100.32\n",
      "min       350.00\n",
      "25%       578.00\n",
      "50%       646.00\n",
      "75%       716.00\n",
      "max       850.00\n",
      "Name: score, dtype: float64\n"
     ]
    }
   ],
   "source": [
    "score_0 = data.query('churn == 0')['score']\n",
    "score_1 = data.query('churn == 1')['score']\n",
    "\n",
    "print('Описание score_0')\n",
    "print(score_0.describe().round(2))\n",
    "print('---------------------')\n",
    "print('Описание score_1')\n",
    "print(score_1.describe().round(2))"
   ]
  },
  {
   "cell_type": "markdown",
   "metadata": {},
   "source": [
    "Распределение нормальное, стандартные отклонения схожи. Применим t-критерий Стьюдента."
   ]
  },
  {
   "cell_type": "code",
   "execution_count": 22,
   "metadata": {},
   "outputs": [
    {
     "name": "stdout",
     "output_type": "stream",
     "text": [
      "p-значение: 0.006738213892192373\n",
      "Отвергаем нулевую гипотезу\n"
     ]
    }
   ],
   "source": [
    "alpha = 0.01\n",
    "\n",
    "results = st.ttest_ind(score_0, score_1)\n",
    "\n",
    "print('p-значение:', results.pvalue)\n",
    "\n",
    "if results.pvalue < alpha:\n",
    "    print(\"Отвергаем нулевую гипотезу\")\n",
    "else:\n",
    "    print(\"Не получилось отвергнуть нулевую гипотезу, статистической разницы в баллах кредитного скорина клиентов нет\")"
   ]
  },
  {
   "cell_type": "markdown",
   "metadata": {},
   "source": [
    "Нулевая гипотеза отвергнута, то есть присутствует статистически значимая разница между скорингом отточных и неотточных клиентов."
   ]
  },
  {
   "cell_type": "markdown",
   "metadata": {},
   "source": [
    "## Промежуточный итог"
   ]
  },
  {
   "cell_type": "markdown",
   "metadata": {},
   "source": [
    "- общий процент оттока более 20%\n",
    "- наибольшая доля отточных клиентов в Ростове Великом.\n",
    "- среди отточных клиентов женщин больше почти на 23%, чем мужчин.\n",
    "- клиенты, пользующиеся двумя продуктами, - группа, которая имеет самую низкую долю оттока. Группа клиентов с одним продуктом имеет процент чуть выше среднего по банку. Клиенты же с 3 и 4 продуктами практически полностью подвержены оттоку.\n",
    "- пользователи кредитных карт примерно в равных долях остаются с банком.\n",
    "- также отточные и неотточные клиенты имеют схожие остатки на счетах.\n",
    "- рейтинг кредитного скоринга немного у отточных клиентов немного смещён влево, то есть чуть ниже.\n",
    "- среди уходящих пользователей активных на 34% меньше, чем у действующих клиентов.\n",
    "- основная масса клиентов, которые работают с банком 28-40 лет. Пользователи старше 40 лет сильнее подвержены оттоку."
   ]
  },
  {
   "cell_type": "markdown",
   "metadata": {},
   "source": [
    "Судя по матрице корреляций, присутствуют слабая связь возраста, активности и пола клиентов с оттоком. Чем выше возраст, тем больше уровень оттока. И чем ниже уровень лояльности - тем выше уровень оттока. Также женщины чуть с болшьшей вероятностю склонны уходить из банка."
   ]
  },
  {
   "cell_type": "markdown",
   "metadata": {},
   "source": [
    "Статистические тесты показали следуещее:\n",
    "- значимой разницы в доходах отточных и оставшихся клиентов нет. Уровень доход не влияет на показатель оттока.\n",
    "- гипотеза о равенстве скоринговых баллов была отвергнута, то есть присутствует статистически значимая разница между скорингом отточных и неотточных клиентов, у отточных клиентов показатель немного ниже."
   ]
  },
  {
   "cell_type": "markdown",
   "metadata": {},
   "source": [
    "### Сегментация клиентов"
   ]
  },
  {
   "cell_type": "markdown",
   "metadata": {},
   "source": [
    "Выделим сегменты клиентов с наибольшей вероятностью оттока"
   ]
  },
  {
   "cell_type": "code",
   "execution_count": 23,
   "metadata": {},
   "outputs": [
    {
     "name": "stdout",
     "output_type": "stream",
     "text": [
      "Сегмент клиентов старше 45 лет\n",
      "Процент оттока: 44.62%\n",
      "Размер группы: 2340\n",
      "---------------------------------------\n",
      "Сегмент клиентов женщин старше 45 лет\n",
      "Процент оттока: 51.09%\n",
      "Размер группы: 1149\n",
      "---------------------------------------\n",
      "Сегмент клиентов с низкой активностью из Ростова Великого\n",
      "Процент оттока: 41.08%\n",
      "Размер группы: 1261\n",
      "---------------------------------------\n",
      "Сегмент клиентов с более, чем двумя продуктами\n",
      "Процент оттока: 85.89%\n",
      "Размер группы: 326\n"
     ]
    }
   ],
   "source": [
    "print('Сегмент клиентов старше 45 лет')\n",
    "print('Процент оттока: {:.2%}'.format(data.query('age >= 45')['churn'].mean()))\n",
    "print('Размер группы:', data.query('age >= 45')['churn'].count())\n",
    "print('---------------------------------------')\n",
    "\n",
    "print('Сегмент клиентов женщин старше 45 лет')\n",
    "print('Процент оттока: {:.2%}'.format(data.query('gender == 0 and age >= 45')['churn'].mean()))\n",
    "print('Размер группы:', data.query('gender == 0 and age >= 45')['churn'].count())\n",
    "print('---------------------------------------')\n",
    "\n",
    "print('Сегмент клиентов с низкой активностью из Ростова Великого')\n",
    "print('Процент оттока: {:.2%}'.format(data.query('loyalty == 0 and city == \"Ростов Великий\"')['churn'].mean()))\n",
    "print('Размер группы:', data.query('loyalty == 0 and city == \"Ростов Великий\"')['churn'].count())\n",
    "print('---------------------------------------')\n",
    "\n",
    "print('Сегмент клиентов с более, чем двумя продуктами')\n",
    "print('Процент оттока: {:.2%}'.format(data.query('products > 2')['churn'].mean()))\n",
    "print('Размер группы:', data.query('products > 2')['churn'].count())"
   ]
  },
  {
   "cell_type": "markdown",
   "metadata": {},
   "source": [
    "Самые отточне клиенты те, которые пользуются 3 и 4 продуктами, процент оттока почти 86%. Также есть проблемы с клиентами старше 45 лет, в особенности, когда клиент женщина. Следует обратить внимание и на пользователей с низкой активностью из Ростова Великого, процент ушедших 41% в 2 раза превышает средний по банку."
   ]
  },
  {
   "cell_type": "markdown",
   "metadata": {},
   "source": [
    "## Рекомендации для отдела маркетинга"
   ]
  },
  {
   "cell_type": "markdown",
   "metadata": {},
   "source": [
    "Для мужчин и женщин старше 45 стоит узнать, куда и почему они уходят, чтобы сравнить условия обслуживания, получить обратную связь. Может быть недостаточно высокие ставки по накопительным счетам, где-то предлагают больше. Может быть недостаточно удобное и понятное приложение. Людям в старшем возрасте сложнее с этим разбираться, нужно, чтобы было обучение в самом приложении. Также поскольку лица этой возрастной категории - контингент людей уже состоявшихся профессионально и финансово, поэтому им требуется более широкий спектр услуг: консультирование по вопросам финансирования образования детей и внуков, инвестирования сбережений, страхования, завещательных распоряжений. \n",
    "\n",
    "На отток также влияет активность клиентов. Стоит пользоваться программами лояльности, например, предлагать повышенный кэшбек в некоторых категориях, снижение комиссий за перевод по определённым дням. Особенно это касается жителей Ростова Великого. Нужно получить обратную связь от клиентов, расторгнувших договор. Может будут негативыне отзывы не на продукты, а на персонал. Также можно ввести повышенный кэшбек именно для клиентов этого города, например, рестораны, магазины, транспорт.\n",
    "\n",
    "И самая отточная группа - это клиенты, оформившие 3 и 4 продукта. Нужно изучить процесс перехода с 2 продуктов на 3 и более, какое преимущество это даёт клиенту, есть ли в них смысл."
   ]
  }
 ],
 "metadata": {
  "ExecuteTimeLog": [
   {
    "duration": 80,
    "start_time": "2023-05-02T13:15:53.419Z"
   },
   {
    "duration": 97,
    "start_time": "2023-05-02T13:16:39.904Z"
   },
   {
    "duration": 84,
    "start_time": "2023-05-02T13:18:27.904Z"
   },
   {
    "duration": 380,
    "start_time": "2023-05-02T13:19:05.107Z"
   },
   {
    "duration": 1260,
    "start_time": "2023-05-02T13:26:28.301Z"
   },
   {
    "duration": 126,
    "start_time": "2023-05-02T13:26:34.037Z"
   },
   {
    "duration": 11,
    "start_time": "2023-05-02T13:26:40.413Z"
   },
   {
    "duration": 4,
    "start_time": "2023-05-02T13:27:00.916Z"
   },
   {
    "duration": 2,
    "start_time": "2023-05-02T13:37:23.927Z"
   },
   {
    "duration": 55,
    "start_time": "2023-05-02T13:37:46.772Z"
   },
   {
    "duration": 10,
    "start_time": "2023-05-02T13:38:09.293Z"
   },
   {
    "duration": 4,
    "start_time": "2023-05-02T13:40:45.611Z"
   },
   {
    "duration": 21,
    "start_time": "2023-05-02T13:58:42.747Z"
   },
   {
    "duration": 108,
    "start_time": "2023-05-02T13:59:40.606Z"
   },
   {
    "duration": 15,
    "start_time": "2023-05-02T14:00:00.290Z"
   },
   {
    "duration": 1162,
    "start_time": "2023-05-02T14:00:14.615Z"
   },
   {
    "duration": 64,
    "start_time": "2023-05-02T14:00:15.779Z"
   },
   {
    "duration": 11,
    "start_time": "2023-05-02T14:00:15.844Z"
   },
   {
    "duration": 9,
    "start_time": "2023-05-02T14:00:15.857Z"
   },
   {
    "duration": 25,
    "start_time": "2023-05-02T14:00:15.867Z"
   },
   {
    "duration": 95,
    "start_time": "2023-05-02T14:02:03.419Z"
   },
   {
    "duration": 1072,
    "start_time": "2023-05-02T14:02:12.550Z"
   },
   {
    "duration": 75,
    "start_time": "2023-05-02T14:02:13.624Z"
   },
   {
    "duration": 97,
    "start_time": "2023-05-02T14:02:13.700Z"
   },
   {
    "duration": 0,
    "start_time": "2023-05-02T14:02:13.799Z"
   },
   {
    "duration": 0,
    "start_time": "2023-05-02T14:02:13.800Z"
   },
   {
    "duration": 12,
    "start_time": "2023-05-02T14:04:59.938Z"
   },
   {
    "duration": 15,
    "start_time": "2023-05-02T14:05:18.319Z"
   },
   {
    "duration": 10,
    "start_time": "2023-05-02T14:05:26.807Z"
   },
   {
    "duration": 11,
    "start_time": "2023-05-02T14:05:26.901Z"
   },
   {
    "duration": 11,
    "start_time": "2023-05-02T14:05:37.319Z"
   },
   {
    "duration": 1109,
    "start_time": "2023-05-02T14:05:59.371Z"
   },
   {
    "duration": 96,
    "start_time": "2023-05-02T14:06:00.481Z"
   },
   {
    "duration": 15,
    "start_time": "2023-05-02T14:06:00.579Z"
   },
   {
    "duration": 29,
    "start_time": "2023-05-02T14:06:00.596Z"
   },
   {
    "duration": 20,
    "start_time": "2023-05-02T14:06:00.626Z"
   },
   {
    "duration": 5,
    "start_time": "2023-05-02T14:06:29.913Z"
   },
   {
    "duration": 6,
    "start_time": "2023-05-02T14:06:48.731Z"
   },
   {
    "duration": 10,
    "start_time": "2023-05-02T14:06:57.123Z"
   },
   {
    "duration": 5,
    "start_time": "2023-05-02T14:07:18.767Z"
   },
   {
    "duration": 9,
    "start_time": "2023-05-02T14:07:20.488Z"
   },
   {
    "duration": 5,
    "start_time": "2023-05-02T14:07:38.172Z"
   },
   {
    "duration": 11,
    "start_time": "2023-05-02T14:07:38.807Z"
   },
   {
    "duration": 11,
    "start_time": "2023-05-02T14:07:46.372Z"
   },
   {
    "duration": 8,
    "start_time": "2023-05-02T14:11:28.631Z"
   },
   {
    "duration": 22,
    "start_time": "2023-05-02T14:11:37.819Z"
   },
   {
    "duration": 12,
    "start_time": "2023-05-02T14:14:13.919Z"
   },
   {
    "duration": 19,
    "start_time": "2023-05-02T14:14:24.411Z"
   },
   {
    "duration": 4,
    "start_time": "2023-05-02T14:15:45.024Z"
   },
   {
    "duration": 126,
    "start_time": "2023-05-02T14:16:43.019Z"
   },
   {
    "duration": 6,
    "start_time": "2023-05-02T14:17:10.200Z"
   },
   {
    "duration": 103,
    "start_time": "2023-05-02T14:17:20.060Z"
   },
   {
    "duration": 152,
    "start_time": "2023-05-02T14:17:29.452Z"
   },
   {
    "duration": 8,
    "start_time": "2023-05-02T14:17:34.156Z"
   },
   {
    "duration": 151,
    "start_time": "2023-05-02T14:17:53.331Z"
   },
   {
    "duration": 4,
    "start_time": "2023-05-02T14:18:57.695Z"
   },
   {
    "duration": 6,
    "start_time": "2023-05-02T14:19:08.697Z"
   },
   {
    "duration": 7,
    "start_time": "2023-05-02T14:20:20.301Z"
   },
   {
    "duration": 5,
    "start_time": "2023-05-02T14:25:24.459Z"
   },
   {
    "duration": 8,
    "start_time": "2023-05-02T14:27:05.516Z"
   },
   {
    "duration": 17,
    "start_time": "2023-05-02T14:27:38.385Z"
   },
   {
    "duration": 10,
    "start_time": "2023-05-02T14:29:13.819Z"
   },
   {
    "duration": 14,
    "start_time": "2023-05-02T14:29:42.871Z"
   },
   {
    "duration": 14,
    "start_time": "2023-05-02T14:37:09.347Z"
   },
   {
    "duration": 24,
    "start_time": "2023-05-02T14:37:16.967Z"
   },
   {
    "duration": 13,
    "start_time": "2023-05-02T14:37:29.978Z"
   },
   {
    "duration": 4,
    "start_time": "2023-05-02T14:53:52.093Z"
   },
   {
    "duration": 21,
    "start_time": "2023-05-02T15:02:44.426Z"
   },
   {
    "duration": 7,
    "start_time": "2023-05-02T15:03:06.925Z"
   },
   {
    "duration": 10,
    "start_time": "2023-05-02T15:03:13.127Z"
   },
   {
    "duration": 5,
    "start_time": "2023-05-02T15:08:22.018Z"
   },
   {
    "duration": 4,
    "start_time": "2023-05-02T15:09:20.337Z"
   },
   {
    "duration": 3445,
    "start_time": "2023-05-02T15:09:36.028Z"
   },
   {
    "duration": 5,
    "start_time": "2023-05-02T15:09:55.823Z"
   },
   {
    "duration": 6,
    "start_time": "2023-05-02T15:09:57.151Z"
   },
   {
    "duration": 3036,
    "start_time": "2023-05-02T15:09:58.125Z"
   },
   {
    "duration": 5,
    "start_time": "2023-05-02T15:10:35.304Z"
   },
   {
    "duration": 3023,
    "start_time": "2023-05-02T15:11:55.967Z"
   },
   {
    "duration": 5,
    "start_time": "2023-05-02T15:17:38.075Z"
   },
   {
    "duration": 7,
    "start_time": "2023-05-02T15:17:41.231Z"
   },
   {
    "duration": 1897,
    "start_time": "2023-05-02T15:17:41.534Z"
   },
   {
    "duration": 6,
    "start_time": "2023-05-02T15:18:44.522Z"
   },
   {
    "duration": 6,
    "start_time": "2023-05-02T15:18:48.018Z"
   },
   {
    "duration": 2161,
    "start_time": "2023-05-02T15:18:48.147Z"
   },
   {
    "duration": 4,
    "start_time": "2023-05-02T15:19:11.849Z"
   },
   {
    "duration": 5,
    "start_time": "2023-05-02T15:19:12.327Z"
   },
   {
    "duration": 1886,
    "start_time": "2023-05-02T15:19:12.567Z"
   },
   {
    "duration": 186,
    "start_time": "2023-05-02T15:23:43.446Z"
   },
   {
    "duration": 12,
    "start_time": "2023-05-02T15:27:31.505Z"
   },
   {
    "duration": 15,
    "start_time": "2023-05-02T15:27:37.468Z"
   },
   {
    "duration": 14,
    "start_time": "2023-05-02T15:27:42.325Z"
   },
   {
    "duration": 13,
    "start_time": "2023-05-02T15:28:01.978Z"
   },
   {
    "duration": 2490,
    "start_time": "2023-05-02T15:30:06.452Z"
   },
   {
    "duration": 1532,
    "start_time": "2023-05-03T09:10:42.876Z"
   },
   {
    "duration": 183,
    "start_time": "2023-05-03T09:10:44.410Z"
   },
   {
    "duration": 21,
    "start_time": "2023-05-03T09:10:44.595Z"
   },
   {
    "duration": 23,
    "start_time": "2023-05-03T09:10:44.620Z"
   },
   {
    "duration": 16,
    "start_time": "2023-05-03T09:10:44.647Z"
   },
   {
    "duration": 50,
    "start_time": "2023-05-03T09:10:44.665Z"
   },
   {
    "duration": 11,
    "start_time": "2023-05-03T09:10:44.718Z"
   },
   {
    "duration": 34,
    "start_time": "2023-05-03T09:10:44.732Z"
   },
   {
    "duration": 7,
    "start_time": "2023-05-03T09:10:44.769Z"
   },
   {
    "duration": 15,
    "start_time": "2023-05-03T09:10:44.778Z"
   },
   {
    "duration": 20,
    "start_time": "2023-05-03T09:10:44.795Z"
   },
   {
    "duration": 3371,
    "start_time": "2023-05-03T09:10:44.817Z"
   },
   {
    "duration": 293,
    "start_time": "2023-05-03T09:10:48.190Z"
   },
   {
    "duration": 19,
    "start_time": "2023-05-03T09:10:48.486Z"
   },
   {
    "duration": 8,
    "start_time": "2023-05-03T09:22:00.449Z"
   },
   {
    "duration": 72,
    "start_time": "2023-05-03T09:25:12.230Z"
   },
   {
    "duration": 9,
    "start_time": "2023-05-03T09:25:16.934Z"
   },
   {
    "duration": 3052,
    "start_time": "2023-05-03T09:28:26.505Z"
   },
   {
    "duration": 3092,
    "start_time": "2023-05-03T09:28:34.312Z"
   },
   {
    "duration": 13,
    "start_time": "2023-05-03T09:29:52.843Z"
   },
   {
    "duration": 8,
    "start_time": "2023-05-03T09:30:14.372Z"
   },
   {
    "duration": 13,
    "start_time": "2023-05-03T09:30:54.071Z"
   },
   {
    "duration": 13,
    "start_time": "2023-05-03T09:31:07.696Z"
   },
   {
    "duration": 10,
    "start_time": "2023-05-03T09:31:15.421Z"
   },
   {
    "duration": 13,
    "start_time": "2023-05-03T09:31:32.084Z"
   },
   {
    "duration": 171,
    "start_time": "2023-05-03T09:31:40.988Z"
   },
   {
    "duration": 156,
    "start_time": "2023-05-03T09:31:47.935Z"
   },
   {
    "duration": 178,
    "start_time": "2023-05-03T09:32:43.424Z"
   },
   {
    "duration": 323,
    "start_time": "2023-05-03T09:32:52.324Z"
   },
   {
    "duration": 204,
    "start_time": "2023-05-03T09:33:14.489Z"
   },
   {
    "duration": 182,
    "start_time": "2023-05-03T09:33:21.038Z"
   },
   {
    "duration": 162,
    "start_time": "2023-05-03T09:33:30.482Z"
   },
   {
    "duration": 140,
    "start_time": "2023-05-03T09:34:49.145Z"
   },
   {
    "duration": 256,
    "start_time": "2023-05-03T09:34:55.647Z"
   },
   {
    "duration": 264,
    "start_time": "2023-05-03T09:34:59.188Z"
   },
   {
    "duration": 175,
    "start_time": "2023-05-03T09:35:16.983Z"
   },
   {
    "duration": 167,
    "start_time": "2023-05-03T09:35:24.352Z"
   },
   {
    "duration": 175,
    "start_time": "2023-05-03T09:35:30.803Z"
   },
   {
    "duration": 215,
    "start_time": "2023-05-03T09:35:35.786Z"
   },
   {
    "duration": 184,
    "start_time": "2023-05-03T09:35:44.500Z"
   },
   {
    "duration": 285,
    "start_time": "2023-05-03T09:36:31.209Z"
   },
   {
    "duration": 167,
    "start_time": "2023-05-03T09:36:58.346Z"
   },
   {
    "duration": 10,
    "start_time": "2023-05-03T09:44:42.932Z"
   },
   {
    "duration": 13,
    "start_time": "2023-05-03T09:45:05.516Z"
   },
   {
    "duration": 8,
    "start_time": "2023-05-03T09:45:09.455Z"
   },
   {
    "duration": 15,
    "start_time": "2023-05-03T09:45:23.730Z"
   },
   {
    "duration": 20,
    "start_time": "2023-05-03T09:58:41.851Z"
   },
   {
    "duration": 23,
    "start_time": "2023-05-03T09:58:50.840Z"
   },
   {
    "duration": 20,
    "start_time": "2023-05-03T09:59:02.466Z"
   },
   {
    "duration": 18,
    "start_time": "2023-05-03T09:59:11.440Z"
   },
   {
    "duration": 12,
    "start_time": "2023-05-03T10:00:15.401Z"
   },
   {
    "duration": 16,
    "start_time": "2023-05-03T10:00:24.869Z"
   },
   {
    "duration": 1493,
    "start_time": "2023-05-03T10:02:38.203Z"
   },
   {
    "duration": 38,
    "start_time": "2023-05-03T10:02:56.204Z"
   },
   {
    "duration": 19,
    "start_time": "2023-05-03T10:03:09.683Z"
   },
   {
    "duration": 20,
    "start_time": "2023-05-03T10:03:47.758Z"
   },
   {
    "duration": 29,
    "start_time": "2023-05-03T10:03:55.739Z"
   },
   {
    "duration": 27,
    "start_time": "2023-05-03T10:04:04.953Z"
   },
   {
    "duration": 29,
    "start_time": "2023-05-03T10:04:29.019Z"
   },
   {
    "duration": 25,
    "start_time": "2023-05-03T10:06:50.641Z"
   },
   {
    "duration": 22,
    "start_time": "2023-05-03T10:07:31.746Z"
   },
   {
    "duration": 85,
    "start_time": "2023-05-03T10:08:34.531Z"
   },
   {
    "duration": 88,
    "start_time": "2023-05-03T10:08:44.724Z"
   },
   {
    "duration": 157,
    "start_time": "2023-05-03T10:09:35.594Z"
   },
   {
    "duration": 128,
    "start_time": "2023-05-03T10:09:43.450Z"
   },
   {
    "duration": 39,
    "start_time": "2023-05-03T10:09:47.210Z"
   },
   {
    "duration": 148,
    "start_time": "2023-05-03T10:12:35.498Z"
   },
   {
    "duration": 105,
    "start_time": "2023-05-03T10:12:41.994Z"
   },
   {
    "duration": 79,
    "start_time": "2023-05-03T10:13:02.292Z"
   },
   {
    "duration": 16,
    "start_time": "2023-05-03T10:13:10.506Z"
   },
   {
    "duration": 18,
    "start_time": "2023-05-03T10:16:11.096Z"
   },
   {
    "duration": 19,
    "start_time": "2023-05-03T10:16:22.202Z"
   },
   {
    "duration": 16,
    "start_time": "2023-05-03T10:17:06.684Z"
   },
   {
    "duration": 24,
    "start_time": "2023-05-03T10:17:23.795Z"
   },
   {
    "duration": 17,
    "start_time": "2023-05-03T10:19:41.722Z"
   },
   {
    "duration": 15,
    "start_time": "2023-05-03T10:19:54.787Z"
   },
   {
    "duration": 30,
    "start_time": "2023-05-03T10:20:29.605Z"
   },
   {
    "duration": 72,
    "start_time": "2023-05-03T10:20:37.531Z"
   },
   {
    "duration": 131,
    "start_time": "2023-05-03T10:21:17.666Z"
   },
   {
    "duration": 43,
    "start_time": "2023-05-03T10:21:23.169Z"
   },
   {
    "duration": 42,
    "start_time": "2023-05-03T10:21:39.892Z"
   },
   {
    "duration": 1442,
    "start_time": "2023-05-03T17:20:12.480Z"
   },
   {
    "duration": 192,
    "start_time": "2023-05-03T17:20:13.925Z"
   },
   {
    "duration": 18,
    "start_time": "2023-05-03T17:20:14.119Z"
   },
   {
    "duration": 16,
    "start_time": "2023-05-03T17:20:14.139Z"
   },
   {
    "duration": 5,
    "start_time": "2023-05-03T17:20:14.156Z"
   },
   {
    "duration": 47,
    "start_time": "2023-05-03T17:20:14.163Z"
   },
   {
    "duration": 5,
    "start_time": "2023-05-03T17:20:14.212Z"
   },
   {
    "duration": 14,
    "start_time": "2023-05-03T17:20:14.219Z"
   },
   {
    "duration": 7,
    "start_time": "2023-05-03T17:20:14.234Z"
   },
   {
    "duration": 6,
    "start_time": "2023-05-03T17:20:14.243Z"
   },
   {
    "duration": 2948,
    "start_time": "2023-05-03T17:20:14.250Z"
   },
   {
    "duration": 231,
    "start_time": "2023-05-03T17:20:17.200Z"
   },
   {
    "duration": 21,
    "start_time": "2023-05-03T17:20:17.432Z"
   },
   {
    "duration": 105,
    "start_time": "2023-05-03T17:20:17.455Z"
   },
   {
    "duration": 19,
    "start_time": "2023-05-03T17:20:30.080Z"
   },
   {
    "duration": 22,
    "start_time": "2023-05-03T17:20:37.553Z"
   },
   {
    "duration": 22,
    "start_time": "2023-05-03T17:20:44.830Z"
   },
   {
    "duration": 17,
    "start_time": "2023-05-03T17:21:25.142Z"
   },
   {
    "duration": 4,
    "start_time": "2023-05-03T17:25:44.109Z"
   },
   {
    "duration": 20,
    "start_time": "2023-05-03T17:26:20.108Z"
   },
   {
    "duration": 4,
    "start_time": "2023-05-03T17:27:10.210Z"
   },
   {
    "duration": 4,
    "start_time": "2023-05-03T17:27:13.670Z"
   },
   {
    "duration": 23,
    "start_time": "2023-05-03T17:27:46.638Z"
   },
   {
    "duration": 18,
    "start_time": "2023-05-03T17:28:59.309Z"
   },
   {
    "duration": 1253,
    "start_time": "2023-05-03T17:44:19.276Z"
   },
   {
    "duration": 1104,
    "start_time": "2023-05-03T17:45:49.884Z"
   },
   {
    "duration": 1546,
    "start_time": "2023-05-03T17:46:01.888Z"
   },
   {
    "duration": 1118,
    "start_time": "2023-05-03T17:46:13.521Z"
   },
   {
    "duration": 140,
    "start_time": "2023-05-03T17:55:44.261Z"
   },
   {
    "duration": 16,
    "start_time": "2023-05-03T17:58:21.548Z"
   },
   {
    "duration": 526,
    "start_time": "2023-05-03T18:02:08.131Z"
   },
   {
    "duration": 1272,
    "start_time": "2023-05-03T18:02:55.982Z"
   },
   {
    "duration": 512,
    "start_time": "2023-05-03T18:03:46.735Z"
   },
   {
    "duration": 670,
    "start_time": "2023-05-03T18:03:56.857Z"
   },
   {
    "duration": 1219,
    "start_time": "2023-05-03T18:04:05.181Z"
   },
   {
    "duration": 1284,
    "start_time": "2023-05-03T18:04:11.072Z"
   },
   {
    "duration": 1416,
    "start_time": "2023-05-03T18:05:24.919Z"
   },
   {
    "duration": 1328,
    "start_time": "2023-05-03T18:07:07.417Z"
   },
   {
    "duration": 1470,
    "start_time": "2023-05-03T18:07:36.731Z"
   },
   {
    "duration": 1507,
    "start_time": "2023-05-03T18:07:43.407Z"
   },
   {
    "duration": 1419,
    "start_time": "2023-05-03T18:08:17.421Z"
   },
   {
    "duration": 4,
    "start_time": "2023-05-03T18:20:58.638Z"
   },
   {
    "duration": 3772,
    "start_time": "2023-05-03T18:21:00.707Z"
   },
   {
    "duration": 5,
    "start_time": "2023-05-03T18:22:34.077Z"
   },
   {
    "duration": 3402,
    "start_time": "2023-05-03T18:22:34.641Z"
   },
   {
    "duration": 1556,
    "start_time": "2023-05-04T13:42:48.972Z"
   },
   {
    "duration": 176,
    "start_time": "2023-05-04T13:42:50.530Z"
   },
   {
    "duration": 17,
    "start_time": "2023-05-04T13:42:50.708Z"
   },
   {
    "duration": 18,
    "start_time": "2023-05-04T13:42:50.727Z"
   },
   {
    "duration": 5,
    "start_time": "2023-05-04T13:42:50.747Z"
   },
   {
    "duration": 42,
    "start_time": "2023-05-04T13:42:50.754Z"
   },
   {
    "duration": 9,
    "start_time": "2023-05-04T13:42:50.798Z"
   },
   {
    "duration": 26,
    "start_time": "2023-05-04T13:42:50.809Z"
   },
   {
    "duration": 34,
    "start_time": "2023-05-04T13:42:50.837Z"
   },
   {
    "duration": 15,
    "start_time": "2023-05-04T13:42:50.873Z"
   },
   {
    "duration": 3422,
    "start_time": "2023-05-04T13:42:50.890Z"
   },
   {
    "duration": 215,
    "start_time": "2023-05-04T13:42:54.314Z"
   },
   {
    "duration": 26,
    "start_time": "2023-05-04T13:42:54.533Z"
   },
   {
    "duration": 136,
    "start_time": "2023-05-04T13:42:54.561Z"
   },
   {
    "duration": 1259,
    "start_time": "2023-05-04T13:43:10.487Z"
   },
   {
    "duration": 126,
    "start_time": "2023-05-04T13:47:13.025Z"
   },
   {
    "duration": 3415,
    "start_time": "2023-05-04T13:47:13.474Z"
   },
   {
    "duration": 29,
    "start_time": "2023-05-04T13:55:29.397Z"
   },
   {
    "duration": 40,
    "start_time": "2023-05-04T13:55:40.342Z"
   },
   {
    "duration": 15,
    "start_time": "2023-05-04T13:58:03.314Z"
   },
   {
    "duration": 17,
    "start_time": "2023-05-04T13:58:14.753Z"
   },
   {
    "duration": 14,
    "start_time": "2023-05-04T13:59:53.554Z"
   },
   {
    "duration": 43,
    "start_time": "2023-05-04T13:59:57.275Z"
   },
   {
    "duration": 27,
    "start_time": "2023-05-04T14:00:04.094Z"
   },
   {
    "duration": 18,
    "start_time": "2023-05-04T14:00:16.690Z"
   },
   {
    "duration": 15,
    "start_time": "2023-05-04T14:00:44.690Z"
   },
   {
    "duration": 35,
    "start_time": "2023-05-04T14:03:04.221Z"
   },
   {
    "duration": 12,
    "start_time": "2023-05-04T14:03:24.280Z"
   },
   {
    "duration": 16,
    "start_time": "2023-05-04T14:03:36.269Z"
   },
   {
    "duration": 15,
    "start_time": "2023-05-04T14:06:42.291Z"
   },
   {
    "duration": 21,
    "start_time": "2023-05-04T14:06:51.432Z"
   },
   {
    "duration": 49,
    "start_time": "2023-05-04T14:06:59.722Z"
   },
   {
    "duration": 17,
    "start_time": "2023-05-04T14:07:08.602Z"
   },
   {
    "duration": 27,
    "start_time": "2023-05-04T14:07:28.630Z"
   },
   {
    "duration": 56,
    "start_time": "2023-05-04T14:09:06.126Z"
   },
   {
    "duration": 13,
    "start_time": "2023-05-04T14:09:24.934Z"
   },
   {
    "duration": 14,
    "start_time": "2023-05-04T14:09:41.095Z"
   },
   {
    "duration": 17,
    "start_time": "2023-05-04T14:09:58.765Z"
   },
   {
    "duration": 14,
    "start_time": "2023-05-04T14:10:04.172Z"
   },
   {
    "duration": 20,
    "start_time": "2023-05-04T14:10:08.620Z"
   },
   {
    "duration": 17,
    "start_time": "2023-05-04T14:10:16.085Z"
   },
   {
    "duration": 21,
    "start_time": "2023-05-04T14:10:24.531Z"
   },
   {
    "duration": 18,
    "start_time": "2023-05-04T14:10:34.073Z"
   },
   {
    "duration": 193,
    "start_time": "2023-05-04T14:10:45.665Z"
   },
   {
    "duration": 43,
    "start_time": "2023-05-04T14:11:09.724Z"
   },
   {
    "duration": 241,
    "start_time": "2023-05-04T14:13:47.387Z"
   },
   {
    "duration": 19,
    "start_time": "2023-05-04T14:14:20.688Z"
   },
   {
    "duration": 34,
    "start_time": "2023-05-04T14:14:41.745Z"
   },
   {
    "duration": 21,
    "start_time": "2023-05-04T14:50:53.037Z"
   },
   {
    "duration": 11,
    "start_time": "2023-05-04T14:50:59.384Z"
   },
   {
    "duration": 8,
    "start_time": "2023-05-04T14:51:07.386Z"
   },
   {
    "duration": 260,
    "start_time": "2023-05-04T14:54:26.122Z"
   },
   {
    "duration": 8,
    "start_time": "2023-05-04T14:59:01.921Z"
   },
   {
    "duration": 5,
    "start_time": "2023-05-04T15:00:01.369Z"
   },
   {
    "duration": 6,
    "start_time": "2023-05-04T15:00:29.067Z"
   },
   {
    "duration": 8,
    "start_time": "2023-05-04T15:01:25.766Z"
   },
   {
    "duration": 6,
    "start_time": "2023-05-04T15:01:46.117Z"
   },
   {
    "duration": 35,
    "start_time": "2023-05-04T15:03:23.122Z"
   },
   {
    "duration": 22,
    "start_time": "2023-05-04T15:03:54.657Z"
   },
   {
    "duration": 17,
    "start_time": "2023-05-04T15:04:14.001Z"
   },
   {
    "duration": 36,
    "start_time": "2023-05-04T15:04:25.816Z"
   },
   {
    "duration": 112,
    "start_time": "2023-05-04T15:05:20.466Z"
   },
   {
    "duration": 3,
    "start_time": "2023-05-04T15:07:03.601Z"
   },
   {
    "duration": 23,
    "start_time": "2023-05-04T15:07:50.717Z"
   },
   {
    "duration": 24,
    "start_time": "2023-05-04T15:10:21.907Z"
   },
   {
    "duration": 9,
    "start_time": "2023-05-04T15:10:47.881Z"
   },
   {
    "duration": 10,
    "start_time": "2023-05-04T15:10:53.100Z"
   },
   {
    "duration": 5,
    "start_time": "2023-05-04T15:14:31.470Z"
   },
   {
    "duration": 5,
    "start_time": "2023-05-04T15:18:08.691Z"
   },
   {
    "duration": 6,
    "start_time": "2023-05-04T15:18:41.929Z"
   },
   {
    "duration": 5,
    "start_time": "2023-05-04T15:18:51.602Z"
   },
   {
    "duration": 14,
    "start_time": "2023-05-04T15:27:29.355Z"
   },
   {
    "duration": 17,
    "start_time": "2023-05-04T15:28:05.949Z"
   },
   {
    "duration": 2,
    "start_time": "2023-05-04T15:29:27.011Z"
   },
   {
    "duration": 25,
    "start_time": "2023-05-04T15:43:38.150Z"
   },
   {
    "duration": 10,
    "start_time": "2023-05-04T15:48:11.258Z"
   },
   {
    "duration": 3047,
    "start_time": "2023-05-04T15:48:12.481Z"
   },
   {
    "duration": 1234,
    "start_time": "2023-05-04T18:24:19.957Z"
   },
   {
    "duration": 216,
    "start_time": "2023-05-04T18:24:21.193Z"
   },
   {
    "duration": 20,
    "start_time": "2023-05-04T18:24:21.411Z"
   },
   {
    "duration": 50,
    "start_time": "2023-05-04T18:24:21.433Z"
   },
   {
    "duration": 6,
    "start_time": "2023-05-04T18:24:21.486Z"
   },
   {
    "duration": 41,
    "start_time": "2023-05-04T18:24:21.493Z"
   },
   {
    "duration": 9,
    "start_time": "2023-05-04T18:24:21.538Z"
   },
   {
    "duration": 23,
    "start_time": "2023-05-04T18:24:21.550Z"
   },
   {
    "duration": 6,
    "start_time": "2023-05-04T18:24:21.574Z"
   },
   {
    "duration": 5,
    "start_time": "2023-05-04T18:24:21.581Z"
   },
   {
    "duration": 2717,
    "start_time": "2023-05-04T18:24:21.587Z"
   },
   {
    "duration": 170,
    "start_time": "2023-05-04T18:24:24.305Z"
   },
   {
    "duration": 17,
    "start_time": "2023-05-04T18:24:24.476Z"
   },
   {
    "duration": 1243,
    "start_time": "2023-05-04T18:24:24.495Z"
   },
   {
    "duration": 231,
    "start_time": "2023-05-04T18:24:25.740Z"
   },
   {
    "duration": 15,
    "start_time": "2023-05-04T18:24:25.973Z"
   },
   {
    "duration": 4,
    "start_time": "2023-05-04T18:24:25.990Z"
   },
   {
    "duration": 17,
    "start_time": "2023-05-04T18:24:25.995Z"
   },
   {
    "duration": 16,
    "start_time": "2023-05-04T18:24:27.304Z"
   },
   {
    "duration": 175,
    "start_time": "2023-05-04T18:34:17.587Z"
   },
   {
    "duration": 3,
    "start_time": "2023-05-04T18:35:00.596Z"
   },
   {
    "duration": 8,
    "start_time": "2023-05-04T18:35:57.729Z"
   },
   {
    "duration": 8,
    "start_time": "2023-05-04T18:36:38.238Z"
   },
   {
    "duration": 6,
    "start_time": "2023-05-04T18:36:48.816Z"
   },
   {
    "duration": 17,
    "start_time": "2023-05-04T18:37:35.883Z"
   },
   {
    "duration": 107,
    "start_time": "2023-05-04T18:38:39.221Z"
   },
   {
    "duration": 1111,
    "start_time": "2023-05-04T18:39:03.270Z"
   },
   {
    "duration": 1228,
    "start_time": "2023-05-04T18:39:13.624Z"
   },
   {
    "duration": 90,
    "start_time": "2023-05-04T18:39:14.854Z"
   },
   {
    "duration": 21,
    "start_time": "2023-05-04T18:39:14.946Z"
   },
   {
    "duration": 12,
    "start_time": "2023-05-04T18:39:14.970Z"
   },
   {
    "duration": 5,
    "start_time": "2023-05-04T18:39:14.984Z"
   },
   {
    "duration": 56,
    "start_time": "2023-05-04T18:39:14.991Z"
   },
   {
    "duration": 8,
    "start_time": "2023-05-04T18:39:15.049Z"
   },
   {
    "duration": 28,
    "start_time": "2023-05-04T18:39:15.059Z"
   },
   {
    "duration": 12,
    "start_time": "2023-05-04T18:39:15.088Z"
   },
   {
    "duration": 8,
    "start_time": "2023-05-04T18:39:15.103Z"
   },
   {
    "duration": 2699,
    "start_time": "2023-05-04T18:39:15.112Z"
   },
   {
    "duration": 170,
    "start_time": "2023-05-04T18:39:17.813Z"
   },
   {
    "duration": 21,
    "start_time": "2023-05-04T18:39:17.985Z"
   },
   {
    "duration": 1188,
    "start_time": "2023-05-04T18:39:18.009Z"
   },
   {
    "duration": 230,
    "start_time": "2023-05-04T18:39:19.199Z"
   },
   {
    "duration": 27,
    "start_time": "2023-05-04T18:39:19.433Z"
   },
   {
    "duration": 5,
    "start_time": "2023-05-04T18:39:19.462Z"
   },
   {
    "duration": 25,
    "start_time": "2023-05-04T18:39:19.468Z"
   },
   {
    "duration": 318,
    "start_time": "2023-05-04T18:39:19.494Z"
   },
   {
    "duration": 31,
    "start_time": "2023-05-04T18:39:19.814Z"
   },
   {
    "duration": 11,
    "start_time": "2023-05-04T18:39:19.852Z"
   },
   {
    "duration": 15,
    "start_time": "2023-05-04T18:39:19.865Z"
   },
   {
    "duration": 6,
    "start_time": "2023-05-04T18:40:33.537Z"
   },
   {
    "duration": 25,
    "start_time": "2023-05-04T18:41:36.051Z"
   },
   {
    "duration": 18,
    "start_time": "2023-05-04T18:41:42.281Z"
   },
   {
    "duration": 6,
    "start_time": "2023-05-04T18:41:43.139Z"
   },
   {
    "duration": 5,
    "start_time": "2023-05-04T18:41:44.000Z"
   },
   {
    "duration": 2138,
    "start_time": "2023-05-04T18:42:29.939Z"
   },
   {
    "duration": 97,
    "start_time": "2023-05-04T18:42:32.079Z"
   },
   {
    "duration": 16,
    "start_time": "2023-05-04T18:42:32.178Z"
   },
   {
    "duration": 12,
    "start_time": "2023-05-04T18:42:32.196Z"
   },
   {
    "duration": 4,
    "start_time": "2023-05-04T18:42:32.209Z"
   },
   {
    "duration": 45,
    "start_time": "2023-05-04T18:42:32.215Z"
   },
   {
    "duration": 9,
    "start_time": "2023-05-04T18:42:32.262Z"
   },
   {
    "duration": 15,
    "start_time": "2023-05-04T18:42:32.272Z"
   },
   {
    "duration": 29,
    "start_time": "2023-05-04T18:42:32.289Z"
   },
   {
    "duration": 31,
    "start_time": "2023-05-04T18:42:32.321Z"
   },
   {
    "duration": 3043,
    "start_time": "2023-05-04T18:42:32.354Z"
   },
   {
    "duration": 218,
    "start_time": "2023-05-04T18:42:35.399Z"
   },
   {
    "duration": 36,
    "start_time": "2023-05-04T18:42:35.619Z"
   },
   {
    "duration": 1443,
    "start_time": "2023-05-04T18:42:35.658Z"
   },
   {
    "duration": 254,
    "start_time": "2023-05-04T18:42:37.103Z"
   },
   {
    "duration": 20,
    "start_time": "2023-05-04T18:42:37.359Z"
   },
   {
    "duration": 7,
    "start_time": "2023-05-04T18:42:37.381Z"
   },
   {
    "duration": 18,
    "start_time": "2023-05-04T18:42:37.390Z"
   },
   {
    "duration": 313,
    "start_time": "2023-05-04T18:42:37.409Z"
   },
   {
    "duration": 35,
    "start_time": "2023-05-04T18:42:37.724Z"
   },
   {
    "duration": 6,
    "start_time": "2023-05-04T18:42:37.761Z"
   },
   {
    "duration": 10,
    "start_time": "2023-05-04T18:42:37.770Z"
   },
   {
    "duration": 28,
    "start_time": "2023-05-04T18:42:59.332Z"
   },
   {
    "duration": 7,
    "start_time": "2023-05-04T18:43:01.178Z"
   },
   {
    "duration": 18,
    "start_time": "2023-05-04T18:43:03.014Z"
   },
   {
    "duration": 12,
    "start_time": "2023-05-04T18:43:08.982Z"
   },
   {
    "duration": 20,
    "start_time": "2023-05-04T18:43:42.189Z"
   },
   {
    "duration": 7,
    "start_time": "2023-05-04T18:43:42.813Z"
   },
   {
    "duration": 7,
    "start_time": "2023-05-04T18:43:43.798Z"
   },
   {
    "duration": 7,
    "start_time": "2023-05-04T18:44:50.357Z"
   },
   {
    "duration": 6,
    "start_time": "2023-05-04T18:44:51.413Z"
   },
   {
    "duration": 223,
    "start_time": "2023-05-04T18:45:49.090Z"
   },
   {
    "duration": 17,
    "start_time": "2023-05-04T18:46:38.349Z"
   },
   {
    "duration": 5,
    "start_time": "2023-05-04T18:46:53.421Z"
   },
   {
    "duration": 16,
    "start_time": "2023-05-04T18:47:11.665Z"
   },
   {
    "duration": 12,
    "start_time": "2023-05-04T18:47:16.338Z"
   },
   {
    "duration": 6,
    "start_time": "2023-05-04T18:48:00.847Z"
   },
   {
    "duration": 198,
    "start_time": "2023-05-04T18:48:21.114Z"
   },
   {
    "duration": 138,
    "start_time": "2023-05-04T18:59:36.772Z"
   },
   {
    "duration": 199,
    "start_time": "2023-05-04T18:59:47.394Z"
   },
   {
    "duration": 6,
    "start_time": "2023-05-04T18:59:57.676Z"
   },
   {
    "duration": 8,
    "start_time": "2023-05-04T19:00:06.629Z"
   },
   {
    "duration": 13,
    "start_time": "2023-05-04T19:02:04.790Z"
   },
   {
    "duration": 15,
    "start_time": "2023-05-04T19:02:06.878Z"
   },
   {
    "duration": 11,
    "start_time": "2023-05-04T19:02:40.279Z"
   },
   {
    "duration": 14,
    "start_time": "2023-05-04T19:02:50.706Z"
   },
   {
    "duration": 16,
    "start_time": "2023-05-04T19:03:16.881Z"
   },
   {
    "duration": 1319,
    "start_time": "2023-05-05T09:11:37.127Z"
   },
   {
    "duration": 394,
    "start_time": "2023-05-05T09:11:38.450Z"
   },
   {
    "duration": 24,
    "start_time": "2023-05-05T09:11:38.847Z"
   },
   {
    "duration": 39,
    "start_time": "2023-05-05T09:11:38.874Z"
   },
   {
    "duration": 6,
    "start_time": "2023-05-05T09:11:38.916Z"
   },
   {
    "duration": 45,
    "start_time": "2023-05-05T09:11:38.924Z"
   },
   {
    "duration": 8,
    "start_time": "2023-05-05T09:11:38.971Z"
   },
   {
    "duration": 42,
    "start_time": "2023-05-05T09:11:38.982Z"
   },
   {
    "duration": 64,
    "start_time": "2023-05-05T09:11:39.028Z"
   },
   {
    "duration": 20,
    "start_time": "2023-05-05T09:11:39.096Z"
   },
   {
    "duration": 2756,
    "start_time": "2023-05-05T09:11:39.118Z"
   },
   {
    "duration": 210,
    "start_time": "2023-05-05T09:11:41.876Z"
   },
   {
    "duration": 30,
    "start_time": "2023-05-05T09:11:42.088Z"
   },
   {
    "duration": 1324,
    "start_time": "2023-05-05T09:11:42.120Z"
   },
   {
    "duration": 330,
    "start_time": "2023-05-05T09:11:43.447Z"
   },
   {
    "duration": 18,
    "start_time": "2023-05-05T09:11:43.778Z"
   },
   {
    "duration": 7,
    "start_time": "2023-05-05T09:11:43.811Z"
   },
   {
    "duration": 47,
    "start_time": "2023-05-05T09:11:43.821Z"
   },
   {
    "duration": 240,
    "start_time": "2023-05-05T09:11:43.870Z"
   },
   {
    "duration": 24,
    "start_time": "2023-05-05T09:11:44.112Z"
   },
   {
    "duration": 9,
    "start_time": "2023-05-05T09:11:44.138Z"
   },
   {
    "duration": 24,
    "start_time": "2023-05-05T09:11:44.149Z"
   },
   {
    "duration": 1208,
    "start_time": "2023-05-05T09:29:36.062Z"
   },
   {
    "duration": 125,
    "start_time": "2023-05-05T09:29:37.273Z"
   },
   {
    "duration": 23,
    "start_time": "2023-05-05T09:29:37.400Z"
   },
   {
    "duration": 18,
    "start_time": "2023-05-05T09:29:37.427Z"
   },
   {
    "duration": 16,
    "start_time": "2023-05-05T09:29:37.447Z"
   },
   {
    "duration": 45,
    "start_time": "2023-05-05T09:29:37.465Z"
   },
   {
    "duration": 8,
    "start_time": "2023-05-05T09:29:37.513Z"
   },
   {
    "duration": 24,
    "start_time": "2023-05-05T09:29:37.524Z"
   },
   {
    "duration": 9,
    "start_time": "2023-05-05T09:29:37.550Z"
   },
   {
    "duration": 20,
    "start_time": "2023-05-05T09:29:37.562Z"
   },
   {
    "duration": 2974,
    "start_time": "2023-05-05T09:29:37.584Z"
   },
   {
    "duration": 229,
    "start_time": "2023-05-05T09:29:40.560Z"
   },
   {
    "duration": 33,
    "start_time": "2023-05-05T09:29:40.791Z"
   },
   {
    "duration": 1249,
    "start_time": "2023-05-05T09:29:40.826Z"
   },
   {
    "duration": 286,
    "start_time": "2023-05-05T09:29:42.077Z"
   },
   {
    "duration": 17,
    "start_time": "2023-05-05T09:29:42.365Z"
   },
   {
    "duration": 6,
    "start_time": "2023-05-05T09:29:42.384Z"
   },
   {
    "duration": 36,
    "start_time": "2023-05-05T09:29:42.392Z"
   },
   {
    "duration": 397,
    "start_time": "2023-05-05T09:29:42.430Z"
   },
   {
    "duration": 18,
    "start_time": "2023-05-05T09:29:42.830Z"
   },
   {
    "duration": 5,
    "start_time": "2023-05-05T09:29:42.850Z"
   },
   {
    "duration": 11,
    "start_time": "2023-05-05T09:29:42.857Z"
   },
   {
    "duration": 1266,
    "start_time": "2023-05-05T09:49:29.705Z"
   },
   {
    "duration": 76,
    "start_time": "2023-05-05T09:49:30.973Z"
   },
   {
    "duration": 18,
    "start_time": "2023-05-05T09:49:31.051Z"
   },
   {
    "duration": 63,
    "start_time": "2023-05-05T09:49:31.070Z"
   },
   {
    "duration": 24,
    "start_time": "2023-05-05T09:49:31.136Z"
   },
   {
    "duration": 80,
    "start_time": "2023-05-05T09:49:31.163Z"
   },
   {
    "duration": 7,
    "start_time": "2023-05-05T09:49:31.245Z"
   },
   {
    "duration": 51,
    "start_time": "2023-05-05T09:49:31.254Z"
   },
   {
    "duration": 11,
    "start_time": "2023-05-05T09:49:31.307Z"
   },
   {
    "duration": 32,
    "start_time": "2023-05-05T09:49:31.320Z"
   },
   {
    "duration": 2769,
    "start_time": "2023-05-05T09:49:31.354Z"
   },
   {
    "duration": 201,
    "start_time": "2023-05-05T09:49:34.125Z"
   },
   {
    "duration": 19,
    "start_time": "2023-05-05T09:49:34.328Z"
   },
   {
    "duration": 1286,
    "start_time": "2023-05-05T09:49:34.349Z"
   },
   {
    "duration": 272,
    "start_time": "2023-05-05T09:49:35.637Z"
   },
   {
    "duration": 17,
    "start_time": "2023-05-05T09:49:35.911Z"
   },
   {
    "duration": 6,
    "start_time": "2023-05-05T09:49:35.930Z"
   },
   {
    "duration": 33,
    "start_time": "2023-05-05T09:49:35.937Z"
   },
   {
    "duration": 326,
    "start_time": "2023-05-05T09:49:35.972Z"
   },
   {
    "duration": 25,
    "start_time": "2023-05-05T09:49:36.299Z"
   },
   {
    "duration": 14,
    "start_time": "2023-05-05T09:49:36.326Z"
   },
   {
    "duration": 26,
    "start_time": "2023-05-05T09:49:36.342Z"
   },
   {
    "duration": 526,
    "start_time": "2023-05-05T09:52:05.405Z"
   },
   {
    "duration": 435,
    "start_time": "2023-05-05T09:52:23.954Z"
   },
   {
    "duration": 530,
    "start_time": "2023-05-05T09:53:26.416Z"
   },
   {
    "duration": 447,
    "start_time": "2023-05-05T09:53:34.476Z"
   },
   {
    "duration": 426,
    "start_time": "2023-05-05T09:53:42.245Z"
   },
   {
    "duration": 1189,
    "start_time": "2023-05-05T09:54:02.536Z"
   },
   {
    "duration": 398,
    "start_time": "2023-05-05T09:54:10.916Z"
   },
   {
    "duration": 485,
    "start_time": "2023-05-05T09:55:43.572Z"
   },
   {
    "duration": 447,
    "start_time": "2023-05-05T09:55:50.554Z"
   },
   {
    "duration": 232,
    "start_time": "2023-05-05T09:58:27.720Z"
   },
   {
    "duration": 380,
    "start_time": "2023-05-05T09:58:42.664Z"
   },
   {
    "duration": 249,
    "start_time": "2023-05-05T09:58:50.365Z"
   },
   {
    "duration": 6,
    "start_time": "2023-05-05T09:59:08.382Z"
   },
   {
    "duration": 2783,
    "start_time": "2023-05-05T09:59:09.331Z"
   },
   {
    "duration": 9,
    "start_time": "2023-05-05T09:59:17.276Z"
   },
   {
    "duration": 3304,
    "start_time": "2023-05-05T09:59:18.038Z"
   },
   {
    "duration": 362,
    "start_time": "2023-05-05T10:22:20.069Z"
   },
   {
    "duration": 45,
    "start_time": "2023-05-05T10:40:16.827Z"
   },
   {
    "duration": 1775,
    "start_time": "2023-05-05T13:29:54.414Z"
   },
   {
    "duration": 617,
    "start_time": "2023-05-05T13:29:56.191Z"
   },
   {
    "duration": 41,
    "start_time": "2023-05-05T13:29:56.810Z"
   },
   {
    "duration": 32,
    "start_time": "2023-05-05T13:29:56.854Z"
   },
   {
    "duration": 8,
    "start_time": "2023-05-05T13:29:56.889Z"
   },
   {
    "duration": 58,
    "start_time": "2023-05-05T13:29:56.900Z"
   },
   {
    "duration": 10,
    "start_time": "2023-05-05T13:29:56.960Z"
   },
   {
    "duration": 23,
    "start_time": "2023-05-05T13:29:56.972Z"
   },
   {
    "duration": 13,
    "start_time": "2023-05-05T13:29:56.997Z"
   },
   {
    "duration": 53,
    "start_time": "2023-05-05T13:29:57.014Z"
   },
   {
    "duration": 3643,
    "start_time": "2023-05-05T13:29:57.069Z"
   },
   {
    "duration": 335,
    "start_time": "2023-05-05T13:30:00.715Z"
   },
   {
    "duration": 32,
    "start_time": "2023-05-05T13:30:01.057Z"
   },
   {
    "duration": 1672,
    "start_time": "2023-05-05T13:30:01.091Z"
   },
   {
    "duration": 501,
    "start_time": "2023-05-05T13:30:02.766Z"
   },
   {
    "duration": 317,
    "start_time": "2023-05-05T13:30:03.269Z"
   },
   {
    "duration": 31,
    "start_time": "2023-05-05T13:30:03.590Z"
   },
   {
    "duration": 65,
    "start_time": "2023-05-05T13:30:03.626Z"
   },
   {
    "duration": 78,
    "start_time": "2023-05-05T13:30:03.693Z"
   },
   {
    "duration": 467,
    "start_time": "2023-05-05T13:30:03.773Z"
   },
   {
    "duration": 23,
    "start_time": "2023-05-05T13:30:04.242Z"
   },
   {
    "duration": 30,
    "start_time": "2023-05-05T13:30:04.267Z"
   },
   {
    "duration": 13,
    "start_time": "2023-05-05T13:31:04.657Z"
   },
   {
    "duration": 16,
    "start_time": "2023-05-05T13:32:17.045Z"
   },
   {
    "duration": 30,
    "start_time": "2023-05-05T13:32:59.589Z"
   },
   {
    "duration": 36,
    "start_time": "2023-05-05T13:33:44.848Z"
   },
   {
    "duration": 584,
    "start_time": "2023-05-05T13:37:13.412Z"
   },
   {
    "duration": 181,
    "start_time": "2023-05-05T13:37:39.009Z"
   },
   {
    "duration": 36,
    "start_time": "2023-05-05T13:37:52.375Z"
   },
   {
    "duration": 28,
    "start_time": "2023-05-05T13:38:06.487Z"
   },
   {
    "duration": 36,
    "start_time": "2023-05-05T13:39:23.200Z"
   },
   {
    "duration": 32,
    "start_time": "2023-05-05T13:39:30.047Z"
   },
   {
    "duration": 123,
    "start_time": "2023-05-05T13:43:28.341Z"
   },
   {
    "duration": 29,
    "start_time": "2023-05-05T13:44:45.867Z"
   },
   {
    "duration": 67,
    "start_time": "2023-05-05T13:45:38.842Z"
   },
   {
    "duration": 61,
    "start_time": "2023-05-05T13:46:35.247Z"
   },
   {
    "duration": 14,
    "start_time": "2023-05-05T13:48:39.462Z"
   },
   {
    "duration": 13,
    "start_time": "2023-05-05T13:48:48.059Z"
   },
   {
    "duration": 9,
    "start_time": "2023-05-05T13:48:50.698Z"
   },
   {
    "duration": 18,
    "start_time": "2023-05-05T13:49:05.890Z"
   },
   {
    "duration": 304,
    "start_time": "2023-05-05T13:49:19.650Z"
   },
   {
    "duration": 31,
    "start_time": "2023-05-05T13:49:22.536Z"
   },
   {
    "duration": 16,
    "start_time": "2023-05-05T13:49:31.669Z"
   },
   {
    "duration": 14,
    "start_time": "2023-05-05T13:49:45.984Z"
   },
   {
    "duration": 9,
    "start_time": "2023-05-05T13:50:59.886Z"
   },
   {
    "duration": 16,
    "start_time": "2023-05-05T13:51:14.215Z"
   },
   {
    "duration": 47,
    "start_time": "2023-05-05T13:51:44.234Z"
   },
   {
    "duration": 16,
    "start_time": "2023-05-05T13:54:03.594Z"
   },
   {
    "duration": 28,
    "start_time": "2023-05-05T13:54:09.449Z"
   },
   {
    "duration": 27,
    "start_time": "2023-05-05T13:54:17.074Z"
   },
   {
    "duration": 27,
    "start_time": "2023-05-05T13:55:42.763Z"
   },
   {
    "duration": 15,
    "start_time": "2023-05-05T13:55:55.456Z"
   },
   {
    "duration": 10,
    "start_time": "2023-05-05T13:56:00.960Z"
   },
   {
    "duration": 13,
    "start_time": "2023-05-05T13:57:02.711Z"
   },
   {
    "duration": 19,
    "start_time": "2023-05-05T13:57:49.919Z"
   },
   {
    "duration": 13,
    "start_time": "2023-05-05T13:58:02.695Z"
   },
   {
    "duration": 115,
    "start_time": "2023-05-05T14:00:29.506Z"
   },
   {
    "duration": 12,
    "start_time": "2023-05-05T14:00:48.187Z"
   },
   {
    "duration": 164,
    "start_time": "2023-05-05T14:01:58.714Z"
   },
   {
    "duration": 1170,
    "start_time": "2023-05-05T14:02:01.514Z"
   },
   {
    "duration": 11,
    "start_time": "2023-05-05T14:02:11.804Z"
   },
   {
    "duration": 11,
    "start_time": "2023-05-05T14:02:50.770Z"
   },
   {
    "duration": 11,
    "start_time": "2023-05-05T14:03:31.672Z"
   },
   {
    "duration": 9,
    "start_time": "2023-05-05T14:05:35.158Z"
   },
   {
    "duration": 8,
    "start_time": "2023-05-05T14:05:44.560Z"
   },
   {
    "duration": 18,
    "start_time": "2023-05-05T14:06:09.015Z"
   },
   {
    "duration": 11,
    "start_time": "2023-05-05T14:06:27.084Z"
   },
   {
    "duration": 14,
    "start_time": "2023-05-05T14:06:32.458Z"
   },
   {
    "duration": 14,
    "start_time": "2023-05-05T14:07:05.812Z"
   },
   {
    "duration": 13,
    "start_time": "2023-05-05T14:11:33.178Z"
   },
   {
    "duration": 10,
    "start_time": "2023-05-05T14:13:33.159Z"
   },
   {
    "duration": 12,
    "start_time": "2023-05-05T14:13:47.356Z"
   },
   {
    "duration": 10,
    "start_time": "2023-05-05T14:13:52.203Z"
   },
   {
    "duration": 27,
    "start_time": "2023-05-05T14:28:41.942Z"
   },
   {
    "duration": 10,
    "start_time": "2023-05-05T14:31:31.378Z"
   },
   {
    "duration": 9,
    "start_time": "2023-05-05T14:32:02.609Z"
   },
   {
    "duration": 10,
    "start_time": "2023-05-05T14:32:09.289Z"
   },
   {
    "duration": 9,
    "start_time": "2023-05-05T14:32:28.069Z"
   },
   {
    "duration": 10,
    "start_time": "2023-05-05T14:32:33.209Z"
   },
   {
    "duration": 20,
    "start_time": "2023-05-05T14:36:10.834Z"
   },
   {
    "duration": 22,
    "start_time": "2023-05-05T14:36:30.729Z"
   },
   {
    "duration": 10,
    "start_time": "2023-05-05T14:38:16.375Z"
   },
   {
    "duration": 12,
    "start_time": "2023-05-05T14:38:54.701Z"
   },
   {
    "duration": 12,
    "start_time": "2023-05-05T14:39:06.950Z"
   },
   {
    "duration": 17,
    "start_time": "2023-05-05T14:39:21.245Z"
   },
   {
    "duration": 10,
    "start_time": "2023-05-05T14:39:46.697Z"
   },
   {
    "duration": 11,
    "start_time": "2023-05-05T14:39:51.197Z"
   },
   {
    "duration": 11,
    "start_time": "2023-05-05T14:39:54.565Z"
   },
   {
    "duration": 10,
    "start_time": "2023-05-05T15:45:55.667Z"
   },
   {
    "duration": 65,
    "start_time": "2023-05-05T15:47:04.065Z"
   },
   {
    "duration": 10,
    "start_time": "2023-05-05T15:47:17.935Z"
   },
   {
    "duration": 13,
    "start_time": "2023-05-05T15:47:42.442Z"
   },
   {
    "duration": 11,
    "start_time": "2023-05-05T15:47:50.751Z"
   },
   {
    "duration": 10,
    "start_time": "2023-05-05T15:48:05.510Z"
   },
   {
    "duration": 12,
    "start_time": "2023-05-05T15:49:10.613Z"
   },
   {
    "duration": 11,
    "start_time": "2023-05-05T15:49:25.280Z"
   },
   {
    "duration": 10,
    "start_time": "2023-05-05T15:49:29.094Z"
   },
   {
    "duration": 71,
    "start_time": "2023-05-05T15:49:47.771Z"
   },
   {
    "duration": 11,
    "start_time": "2023-05-05T15:49:53.670Z"
   },
   {
    "duration": 14,
    "start_time": "2023-05-05T15:50:01.908Z"
   },
   {
    "duration": 10,
    "start_time": "2023-05-05T15:50:08.237Z"
   },
   {
    "duration": 9,
    "start_time": "2023-05-05T15:50:15.996Z"
   },
   {
    "duration": 9,
    "start_time": "2023-05-05T15:50:24.285Z"
   },
   {
    "duration": 10,
    "start_time": "2023-05-05T15:50:37.796Z"
   },
   {
    "duration": 11,
    "start_time": "2023-05-05T15:50:44.565Z"
   },
   {
    "duration": 9,
    "start_time": "2023-05-05T15:51:22.035Z"
   },
   {
    "duration": 10,
    "start_time": "2023-05-05T15:51:33.895Z"
   },
   {
    "duration": 10,
    "start_time": "2023-05-05T15:51:47.268Z"
   },
   {
    "duration": 10,
    "start_time": "2023-05-05T15:52:30.926Z"
   },
   {
    "duration": 10,
    "start_time": "2023-05-05T15:52:41.610Z"
   },
   {
    "duration": 12,
    "start_time": "2023-05-05T15:52:44.732Z"
   },
   {
    "duration": 10,
    "start_time": "2023-05-05T15:52:59.659Z"
   },
   {
    "duration": 9,
    "start_time": "2023-05-05T15:53:02.697Z"
   },
   {
    "duration": 10,
    "start_time": "2023-05-05T15:53:41.304Z"
   },
   {
    "duration": 9,
    "start_time": "2023-05-05T15:53:49.522Z"
   },
   {
    "duration": 10,
    "start_time": "2023-05-05T15:53:52.648Z"
   },
   {
    "duration": 12,
    "start_time": "2023-05-05T15:53:59.208Z"
   },
   {
    "duration": 11,
    "start_time": "2023-05-05T15:54:01.816Z"
   },
   {
    "duration": 13,
    "start_time": "2023-05-05T15:54:13.656Z"
   },
   {
    "duration": 11,
    "start_time": "2023-05-05T15:54:18.575Z"
   },
   {
    "duration": 8,
    "start_time": "2023-05-05T15:54:29.199Z"
   },
   {
    "duration": 12,
    "start_time": "2023-05-05T15:54:31.353Z"
   },
   {
    "duration": 9,
    "start_time": "2023-05-05T15:54:47.272Z"
   },
   {
    "duration": 10,
    "start_time": "2023-05-05T15:54:54.760Z"
   },
   {
    "duration": 10,
    "start_time": "2023-05-05T15:55:01.497Z"
   },
   {
    "duration": 10,
    "start_time": "2023-05-05T15:55:09.823Z"
   },
   {
    "duration": 11,
    "start_time": "2023-05-05T15:55:12.680Z"
   },
   {
    "duration": 10,
    "start_time": "2023-05-05T15:55:24.261Z"
   },
   {
    "duration": 10,
    "start_time": "2023-05-05T15:55:34.280Z"
   },
   {
    "duration": 10,
    "start_time": "2023-05-05T15:56:52.061Z"
   },
   {
    "duration": 7,
    "start_time": "2023-05-05T15:57:05.348Z"
   },
   {
    "duration": 6,
    "start_time": "2023-05-05T15:57:09.645Z"
   },
   {
    "duration": 11,
    "start_time": "2023-05-05T15:57:15.524Z"
   },
   {
    "duration": 14,
    "start_time": "2023-05-05T15:57:21.830Z"
   },
   {
    "duration": 10,
    "start_time": "2023-05-05T15:57:33.444Z"
   },
   {
    "duration": 12,
    "start_time": "2023-05-05T15:57:49.068Z"
   },
   {
    "duration": 13,
    "start_time": "2023-05-05T15:57:58.971Z"
   },
   {
    "duration": 12,
    "start_time": "2023-05-05T15:58:09.115Z"
   },
   {
    "duration": 12,
    "start_time": "2023-05-05T15:58:50.525Z"
   },
   {
    "duration": 82,
    "start_time": "2023-05-05T16:00:41.875Z"
   },
   {
    "duration": 74,
    "start_time": "2023-05-05T16:00:47.111Z"
   },
   {
    "duration": 99,
    "start_time": "2023-05-05T16:01:06.283Z"
   },
   {
    "duration": 9,
    "start_time": "2023-05-05T16:01:37.880Z"
   },
   {
    "duration": 9,
    "start_time": "2023-05-05T16:02:43.166Z"
   },
   {
    "duration": 12,
    "start_time": "2023-05-05T16:03:08.423Z"
   },
   {
    "duration": 10,
    "start_time": "2023-05-05T16:03:19.535Z"
   },
   {
    "duration": 9,
    "start_time": "2023-05-05T16:03:28.717Z"
   },
   {
    "duration": 12,
    "start_time": "2023-05-05T16:10:07.999Z"
   },
   {
    "duration": 14,
    "start_time": "2023-05-05T16:10:39.189Z"
   },
   {
    "duration": 11,
    "start_time": "2023-05-05T16:10:56.564Z"
   },
   {
    "duration": 10,
    "start_time": "2023-05-05T16:11:05.734Z"
   },
   {
    "duration": 11,
    "start_time": "2023-05-05T16:11:37.819Z"
   },
   {
    "duration": 76,
    "start_time": "2023-05-05T16:12:05.228Z"
   },
   {
    "duration": 9,
    "start_time": "2023-05-05T16:12:17.914Z"
   },
   {
    "duration": 10,
    "start_time": "2023-05-05T16:12:26.210Z"
   },
   {
    "duration": 10,
    "start_time": "2023-05-05T16:12:37.895Z"
   },
   {
    "duration": 9,
    "start_time": "2023-05-05T16:12:55.419Z"
   },
   {
    "duration": 11,
    "start_time": "2023-05-05T16:14:44.346Z"
   },
   {
    "duration": 9,
    "start_time": "2023-05-05T16:14:47.471Z"
   },
   {
    "duration": 11,
    "start_time": "2023-05-05T16:15:09.088Z"
   },
   {
    "duration": 12,
    "start_time": "2023-05-05T16:15:19.725Z"
   },
   {
    "duration": 11,
    "start_time": "2023-05-05T16:15:55.359Z"
   },
   {
    "duration": 10,
    "start_time": "2023-05-05T16:16:12.344Z"
   },
   {
    "duration": 12,
    "start_time": "2023-05-05T16:16:19.262Z"
   },
   {
    "duration": 9,
    "start_time": "2023-05-05T16:16:22.155Z"
   },
   {
    "duration": 9,
    "start_time": "2023-05-05T16:16:25.366Z"
   },
   {
    "duration": 9,
    "start_time": "2023-05-05T16:16:27.888Z"
   },
   {
    "duration": 9,
    "start_time": "2023-05-05T16:16:41.229Z"
   },
   {
    "duration": 10,
    "start_time": "2023-05-05T16:16:51.741Z"
   },
   {
    "duration": 10,
    "start_time": "2023-05-05T16:17:06.094Z"
   },
   {
    "duration": 11,
    "start_time": "2023-05-05T16:17:11.012Z"
   },
   {
    "duration": 11,
    "start_time": "2023-05-05T16:17:40.526Z"
   },
   {
    "duration": 10,
    "start_time": "2023-05-05T16:18:03.107Z"
   },
   {
    "duration": 9,
    "start_time": "2023-05-05T16:18:06.108Z"
   },
   {
    "duration": 30,
    "start_time": "2023-05-05T16:18:15.741Z"
   },
   {
    "duration": 10,
    "start_time": "2023-05-05T16:18:17.978Z"
   },
   {
    "duration": 11,
    "start_time": "2023-05-05T16:18:21.956Z"
   },
   {
    "duration": 10,
    "start_time": "2023-05-05T16:18:24.275Z"
   },
   {
    "duration": 42,
    "start_time": "2023-05-05T16:18:44.419Z"
   },
   {
    "duration": 11,
    "start_time": "2023-05-05T16:19:01.131Z"
   },
   {
    "duration": 11,
    "start_time": "2023-05-05T16:19:26.372Z"
   },
   {
    "duration": 11,
    "start_time": "2023-05-05T16:19:35.745Z"
   },
   {
    "duration": 10,
    "start_time": "2023-05-05T16:19:46.468Z"
   },
   {
    "duration": 10,
    "start_time": "2023-05-05T16:20:12.036Z"
   },
   {
    "duration": 9,
    "start_time": "2023-05-05T16:20:26.043Z"
   },
   {
    "duration": 10,
    "start_time": "2023-05-05T16:20:29.099Z"
   },
   {
    "duration": 9,
    "start_time": "2023-05-05T16:20:32.129Z"
   },
   {
    "duration": 10,
    "start_time": "2023-05-05T16:20:42.800Z"
   },
   {
    "duration": 10,
    "start_time": "2023-05-05T16:21:47.105Z"
   },
   {
    "duration": 10,
    "start_time": "2023-05-05T16:22:50.143Z"
   },
   {
    "duration": 10,
    "start_time": "2023-05-05T16:23:07.455Z"
   },
   {
    "duration": 12,
    "start_time": "2023-05-05T16:23:18.213Z"
   },
   {
    "duration": 9,
    "start_time": "2023-05-05T16:23:34.304Z"
   },
   {
    "duration": 9,
    "start_time": "2023-05-05T16:23:39.289Z"
   },
   {
    "duration": 10,
    "start_time": "2023-05-05T16:23:56.189Z"
   },
   {
    "duration": 10,
    "start_time": "2023-05-05T16:24:04.189Z"
   },
   {
    "duration": 11,
    "start_time": "2023-05-05T16:24:24.255Z"
   },
   {
    "duration": 10,
    "start_time": "2023-05-05T16:24:27.518Z"
   },
   {
    "duration": 10,
    "start_time": "2023-05-05T16:24:32.045Z"
   },
   {
    "duration": 11,
    "start_time": "2023-05-05T16:24:34.788Z"
   },
   {
    "duration": 10,
    "start_time": "2023-05-05T16:24:42.118Z"
   },
   {
    "duration": 11,
    "start_time": "2023-05-05T16:24:58.494Z"
   },
   {
    "duration": 10,
    "start_time": "2023-05-05T16:25:03.101Z"
   },
   {
    "duration": 30,
    "start_time": "2023-05-05T16:26:49.962Z"
   },
   {
    "duration": 10,
    "start_time": "2023-05-05T16:27:03.304Z"
   },
   {
    "duration": 10,
    "start_time": "2023-05-05T16:27:16.729Z"
   },
   {
    "duration": 12,
    "start_time": "2023-05-05T16:27:41.194Z"
   },
   {
    "duration": 10,
    "start_time": "2023-05-05T16:27:44.289Z"
   },
   {
    "duration": 12,
    "start_time": "2023-05-05T16:28:33.025Z"
   },
   {
    "duration": 10,
    "start_time": "2023-05-05T16:28:42.761Z"
   },
   {
    "duration": 9,
    "start_time": "2023-05-05T16:28:44.967Z"
   },
   {
    "duration": 12,
    "start_time": "2023-05-05T16:29:01.960Z"
   },
   {
    "duration": 11,
    "start_time": "2023-05-05T16:29:27.823Z"
   },
   {
    "duration": 11,
    "start_time": "2023-05-05T16:29:33.863Z"
   },
   {
    "duration": 128,
    "start_time": "2023-05-05T16:29:47.496Z"
   },
   {
    "duration": 9,
    "start_time": "2023-05-05T16:29:50.840Z"
   },
   {
    "duration": 10,
    "start_time": "2023-05-05T16:31:02.799Z"
   },
   {
    "duration": 12,
    "start_time": "2023-05-05T16:31:25.918Z"
   },
   {
    "duration": 11,
    "start_time": "2023-05-05T16:31:42.373Z"
   },
   {
    "duration": 11,
    "start_time": "2023-05-05T16:31:50.972Z"
   },
   {
    "duration": 10,
    "start_time": "2023-05-05T16:32:11.445Z"
   },
   {
    "duration": 12,
    "start_time": "2023-05-05T16:32:35.153Z"
   },
   {
    "duration": 8,
    "start_time": "2023-05-05T16:33:13.536Z"
   },
   {
    "duration": 76,
    "start_time": "2023-05-05T16:33:26.018Z"
   },
   {
    "duration": 27,
    "start_time": "2023-05-05T16:33:59.459Z"
   },
   {
    "duration": 95,
    "start_time": "2023-05-05T16:34:23.286Z"
   },
   {
    "duration": 27,
    "start_time": "2023-05-05T16:34:35.426Z"
   },
   {
    "duration": 30,
    "start_time": "2023-05-05T16:34:41.811Z"
   },
   {
    "duration": 27,
    "start_time": "2023-05-05T16:34:59.299Z"
   },
   {
    "duration": 30,
    "start_time": "2023-05-05T16:35:25.616Z"
   },
   {
    "duration": 1662,
    "start_time": "2023-05-07T18:35:45.101Z"
   },
   {
    "duration": 207,
    "start_time": "2023-05-07T18:35:46.766Z"
   },
   {
    "duration": 23,
    "start_time": "2023-05-07T18:35:46.975Z"
   },
   {
    "duration": 46,
    "start_time": "2023-05-07T18:35:47.000Z"
   },
   {
    "duration": 39,
    "start_time": "2023-05-07T18:35:47.049Z"
   },
   {
    "duration": 41,
    "start_time": "2023-05-07T18:35:47.090Z"
   },
   {
    "duration": 6,
    "start_time": "2023-05-07T18:35:47.133Z"
   },
   {
    "duration": 45,
    "start_time": "2023-05-07T18:35:47.141Z"
   },
   {
    "duration": 7,
    "start_time": "2023-05-07T18:35:47.191Z"
   },
   {
    "duration": 14,
    "start_time": "2023-05-07T18:35:47.200Z"
   },
   {
    "duration": 2991,
    "start_time": "2023-05-07T18:35:47.217Z"
   },
   {
    "duration": 177,
    "start_time": "2023-05-07T18:35:50.209Z"
   },
   {
    "duration": 21,
    "start_time": "2023-05-07T18:35:50.388Z"
   },
   {
    "duration": 1346,
    "start_time": "2023-05-07T18:35:50.412Z"
   },
   {
    "duration": 445,
    "start_time": "2023-05-07T18:35:51.760Z"
   },
   {
    "duration": 304,
    "start_time": "2023-05-07T18:35:52.207Z"
   },
   {
    "duration": 28,
    "start_time": "2023-05-07T18:35:52.516Z"
   },
   {
    "duration": 8,
    "start_time": "2023-05-07T18:35:52.546Z"
   },
   {
    "duration": 19,
    "start_time": "2023-05-07T18:35:52.558Z"
   },
   {
    "duration": 331,
    "start_time": "2023-05-07T18:35:52.580Z"
   },
   {
    "duration": 26,
    "start_time": "2023-05-07T18:35:52.913Z"
   },
   {
    "duration": 6,
    "start_time": "2023-05-07T18:35:52.941Z"
   },
   {
    "duration": 32,
    "start_time": "2023-05-07T18:35:52.948Z"
   },
   {
    "duration": 50,
    "start_time": "2023-05-07T18:37:25.981Z"
   },
   {
    "duration": 39,
    "start_time": "2023-05-07T18:38:55.865Z"
   },
   {
    "duration": 38,
    "start_time": "2023-05-07T18:39:01.993Z"
   },
   {
    "duration": 19,
    "start_time": "2023-05-07T18:46:21.118Z"
   },
   {
    "duration": 5,
    "start_time": "2023-05-07T18:47:06.630Z"
   },
   {
    "duration": 19,
    "start_time": "2023-05-07T18:47:22.628Z"
   },
   {
    "duration": 102,
    "start_time": "2023-05-07T18:48:10.502Z"
   },
   {
    "duration": 17,
    "start_time": "2023-05-07T18:48:22.220Z"
   },
   {
    "duration": 33,
    "start_time": "2023-05-07T18:48:32.124Z"
   },
   {
    "duration": 18,
    "start_time": "2023-05-07T18:48:44.012Z"
   },
   {
    "duration": 4,
    "start_time": "2023-05-07T18:49:53.707Z"
   },
   {
    "duration": 18,
    "start_time": "2023-05-07T18:49:59.592Z"
   },
   {
    "duration": 21,
    "start_time": "2023-05-07T18:50:04.273Z"
   },
   {
    "duration": 29,
    "start_time": "2023-05-07T18:50:15.044Z"
   },
   {
    "duration": 1387,
    "start_time": "2023-05-07T18:50:25.797Z"
   },
   {
    "duration": 75,
    "start_time": "2023-05-07T18:50:27.187Z"
   },
   {
    "duration": 18,
    "start_time": "2023-05-07T18:50:27.264Z"
   },
   {
    "duration": 16,
    "start_time": "2023-05-07T18:50:27.285Z"
   },
   {
    "duration": 9,
    "start_time": "2023-05-07T18:50:27.303Z"
   },
   {
    "duration": 66,
    "start_time": "2023-05-07T18:50:27.313Z"
   },
   {
    "duration": 24,
    "start_time": "2023-05-07T18:50:27.381Z"
   },
   {
    "duration": 28,
    "start_time": "2023-05-07T18:50:27.407Z"
   },
   {
    "duration": 19,
    "start_time": "2023-05-07T18:50:27.437Z"
   },
   {
    "duration": 7,
    "start_time": "2023-05-07T18:50:27.459Z"
   },
   {
    "duration": 13,
    "start_time": "2023-05-07T18:50:27.468Z"
   },
   {
    "duration": 2516,
    "start_time": "2023-05-07T18:50:27.482Z"
   },
   {
    "duration": 189,
    "start_time": "2023-05-07T18:50:30.000Z"
   },
   {
    "duration": 19,
    "start_time": "2023-05-07T18:50:30.191Z"
   },
   {
    "duration": 1218,
    "start_time": "2023-05-07T18:50:30.212Z"
   },
   {
    "duration": 382,
    "start_time": "2023-05-07T18:50:31.432Z"
   },
   {
    "duration": 211,
    "start_time": "2023-05-07T18:50:31.816Z"
   },
   {
    "duration": 21,
    "start_time": "2023-05-07T18:50:32.028Z"
   },
   {
    "duration": 26,
    "start_time": "2023-05-07T18:50:32.051Z"
   },
   {
    "duration": 27,
    "start_time": "2023-05-07T18:50:32.079Z"
   },
   {
    "duration": 332,
    "start_time": "2023-05-07T18:50:32.107Z"
   },
   {
    "duration": 17,
    "start_time": "2023-05-07T18:50:32.441Z"
   },
   {
    "duration": 6,
    "start_time": "2023-05-07T18:50:32.460Z"
   },
   {
    "duration": 36,
    "start_time": "2023-05-07T18:50:32.468Z"
   },
   {
    "duration": 37,
    "start_time": "2023-05-07T18:51:08.139Z"
   },
   {
    "duration": 17,
    "start_time": "2023-05-07T18:56:15.869Z"
   },
   {
    "duration": 85,
    "start_time": "2023-05-07T19:17:18.458Z"
   },
   {
    "duration": 98,
    "start_time": "2023-05-07T19:17:21.653Z"
   },
   {
    "duration": 11,
    "start_time": "2023-05-07T19:17:29.861Z"
   },
   {
    "duration": 70,
    "start_time": "2023-05-07T19:18:02.797Z"
   },
   {
    "duration": 227,
    "start_time": "2023-05-07T19:18:05.116Z"
   },
   {
    "duration": 232,
    "start_time": "2023-05-07T19:18:43.658Z"
   },
   {
    "duration": 69,
    "start_time": "2023-05-07T19:19:37.446Z"
   },
   {
    "duration": 18,
    "start_time": "2023-05-07T19:20:35.059Z"
   },
   {
    "duration": 48,
    "start_time": "2023-05-07T19:20:44.040Z"
   },
   {
    "duration": 24,
    "start_time": "2023-05-07T19:21:56.273Z"
   },
   {
    "duration": 477,
    "start_time": "2023-05-07T19:24:26.031Z"
   },
   {
    "duration": 334,
    "start_time": "2023-05-07T19:31:34.941Z"
   },
   {
    "duration": 234,
    "start_time": "2023-05-07T19:32:58.538Z"
   },
   {
    "duration": 60,
    "start_time": "2023-05-07T19:34:54.929Z"
   },
   {
    "duration": 11,
    "start_time": "2023-05-07T19:39:04.155Z"
   },
   {
    "duration": 9,
    "start_time": "2023-05-07T19:39:08.358Z"
   },
   {
    "duration": 51,
    "start_time": "2023-05-07T19:39:51.086Z"
   },
   {
    "duration": 51,
    "start_time": "2023-05-07T19:40:12.945Z"
   },
   {
    "duration": 53,
    "start_time": "2023-05-07T19:41:12.936Z"
   },
   {
    "duration": 48,
    "start_time": "2023-05-07T19:41:49.501Z"
   },
   {
    "duration": 68,
    "start_time": "2023-05-07T19:43:06.458Z"
   },
   {
    "duration": 10,
    "start_time": "2023-05-07T19:55:37.193Z"
   },
   {
    "duration": 62,
    "start_time": "2023-05-07T19:55:47.743Z"
   },
   {
    "duration": 65,
    "start_time": "2023-05-07T19:56:29.713Z"
   },
   {
    "duration": 15,
    "start_time": "2023-05-07T20:07:27.876Z"
   },
   {
    "duration": 35,
    "start_time": "2023-05-07T20:07:43.761Z"
   },
   {
    "duration": 59,
    "start_time": "2023-05-07T20:07:58.377Z"
   },
   {
    "duration": 110,
    "start_time": "2023-05-07T20:08:14.889Z"
   },
   {
    "duration": 31,
    "start_time": "2023-05-07T20:08:36.865Z"
   },
   {
    "duration": 42,
    "start_time": "2023-05-07T20:09:37.784Z"
   },
   {
    "duration": 53,
    "start_time": "2023-05-07T20:10:00.151Z"
   },
   {
    "duration": 58,
    "start_time": "2023-05-07T20:10:03.900Z"
   },
   {
    "duration": 14,
    "start_time": "2023-05-07T20:10:21.846Z"
   },
   {
    "duration": 19,
    "start_time": "2023-05-07T20:10:24.317Z"
   },
   {
    "duration": 12,
    "start_time": "2023-05-07T20:10:32.786Z"
   },
   {
    "duration": 29,
    "start_time": "2023-05-07T20:11:12.898Z"
   },
   {
    "duration": 28,
    "start_time": "2023-05-07T20:11:18.125Z"
   },
   {
    "duration": 37,
    "start_time": "2023-05-07T20:11:21.649Z"
   },
   {
    "duration": 1250,
    "start_time": "2023-05-09T10:26:12.387Z"
   },
   {
    "duration": 156,
    "start_time": "2023-05-09T10:26:13.640Z"
   },
   {
    "duration": 15,
    "start_time": "2023-05-09T10:26:13.797Z"
   },
   {
    "duration": 10,
    "start_time": "2023-05-09T10:26:13.814Z"
   },
   {
    "duration": 5,
    "start_time": "2023-05-09T10:26:13.825Z"
   },
   {
    "duration": 213,
    "start_time": "2023-05-09T10:26:13.831Z"
   },
   {
    "duration": 47,
    "start_time": "2023-05-09T10:26:14.045Z"
   },
   {
    "duration": 8,
    "start_time": "2023-05-09T10:26:14.093Z"
   },
   {
    "duration": 42,
    "start_time": "2023-05-09T10:26:14.103Z"
   },
   {
    "duration": 5,
    "start_time": "2023-05-09T10:26:14.147Z"
   },
   {
    "duration": 2391,
    "start_time": "2023-05-09T10:26:14.154Z"
   },
   {
    "duration": 161,
    "start_time": "2023-05-09T10:26:16.546Z"
   },
   {
    "duration": 17,
    "start_time": "2023-05-09T10:26:16.709Z"
   },
   {
    "duration": 1081,
    "start_time": "2023-05-09T10:26:16.734Z"
   },
   {
    "duration": 371,
    "start_time": "2023-05-09T10:26:17.817Z"
   },
   {
    "duration": 277,
    "start_time": "2023-05-09T10:26:18.190Z"
   },
   {
    "duration": 14,
    "start_time": "2023-05-09T10:26:18.469Z"
   },
   {
    "duration": 4,
    "start_time": "2023-05-09T10:26:18.485Z"
   },
   {
    "duration": 12,
    "start_time": "2023-05-09T10:26:18.491Z"
   },
   {
    "duration": 216,
    "start_time": "2023-05-09T10:26:18.504Z"
   },
   {
    "duration": 26,
    "start_time": "2023-05-09T10:26:18.722Z"
   },
   {
    "duration": 5,
    "start_time": "2023-05-09T10:26:18.750Z"
   },
   {
    "duration": 29,
    "start_time": "2023-05-09T10:26:18.757Z"
   },
   {
    "duration": 208,
    "start_time": "2023-05-09T10:26:18.788Z"
   },
   {
    "duration": 45,
    "start_time": "2023-05-09T10:26:18.998Z"
   },
   {
    "duration": 23,
    "start_time": "2023-05-09T10:26:19.044Z"
   },
   {
    "duration": 46,
    "start_time": "2023-05-09T10:26:19.069Z"
   },
   {
    "duration": 95,
    "start_time": "2023-05-09T10:37:40.630Z"
   },
   {
    "duration": 10,
    "start_time": "2023-05-09T10:37:52.099Z"
   },
   {
    "duration": 110,
    "start_time": "2023-05-09T10:39:09.504Z"
   },
   {
    "duration": 104,
    "start_time": "2023-05-09T10:39:19.932Z"
   },
   {
    "duration": 14,
    "start_time": "2023-05-09T10:40:30.972Z"
   },
   {
    "duration": 7,
    "start_time": "2023-05-09T10:40:39.827Z"
   },
   {
    "duration": 90,
    "start_time": "2023-05-09T10:41:03.514Z"
   },
   {
    "duration": 13,
    "start_time": "2023-05-09T10:41:27.041Z"
   },
   {
    "duration": 14,
    "start_time": "2023-05-09T10:41:31.353Z"
   },
   {
    "duration": 6,
    "start_time": "2023-05-09T10:41:39.195Z"
   },
   {
    "duration": 110,
    "start_time": "2023-05-09T10:41:48.826Z"
   },
   {
    "duration": 110,
    "start_time": "2023-05-09T10:41:56.436Z"
   },
   {
    "duration": 98,
    "start_time": "2023-05-09T10:42:20.639Z"
   },
   {
    "duration": 101,
    "start_time": "2023-05-09T10:43:05.680Z"
   },
   {
    "duration": 81,
    "start_time": "2023-05-09T10:43:12.584Z"
   },
   {
    "duration": 168,
    "start_time": "2023-05-09T10:43:17.469Z"
   },
   {
    "duration": 116,
    "start_time": "2023-05-09T10:43:26.747Z"
   },
   {
    "duration": 113,
    "start_time": "2023-05-09T10:46:11.286Z"
   },
   {
    "duration": 11,
    "start_time": "2023-05-09T10:47:02.896Z"
   },
   {
    "duration": 9,
    "start_time": "2023-05-09T10:47:24.575Z"
   },
   {
    "duration": 6,
    "start_time": "2023-05-09T10:47:40.370Z"
   },
   {
    "duration": 7,
    "start_time": "2023-05-09T10:47:42.319Z"
   },
   {
    "duration": 7,
    "start_time": "2023-05-09T10:47:51.243Z"
   },
   {
    "duration": 8,
    "start_time": "2023-05-09T10:47:55.488Z"
   },
   {
    "duration": 105,
    "start_time": "2023-05-09T10:48:10.722Z"
   },
   {
    "duration": 101,
    "start_time": "2023-05-09T10:48:13.100Z"
   },
   {
    "duration": 100,
    "start_time": "2023-05-09T10:49:11.577Z"
   },
   {
    "duration": 104,
    "start_time": "2023-05-09T10:49:16.823Z"
   },
   {
    "duration": 104,
    "start_time": "2023-05-09T10:50:19.224Z"
   },
   {
    "duration": 11,
    "start_time": "2023-05-09T10:50:33.254Z"
   },
   {
    "duration": 1116,
    "start_time": "2023-05-09T10:52:15.598Z"
   },
   {
    "duration": 68,
    "start_time": "2023-05-09T10:52:16.715Z"
   },
   {
    "duration": 15,
    "start_time": "2023-05-09T10:52:16.784Z"
   },
   {
    "duration": 10,
    "start_time": "2023-05-09T10:52:16.801Z"
   },
   {
    "duration": 4,
    "start_time": "2023-05-09T10:52:16.812Z"
   },
   {
    "duration": 207,
    "start_time": "2023-05-09T10:52:16.817Z"
   },
   {
    "duration": 54,
    "start_time": "2023-05-09T10:52:17.025Z"
   },
   {
    "duration": 5,
    "start_time": "2023-05-09T10:52:17.081Z"
   },
   {
    "duration": 23,
    "start_time": "2023-05-09T10:52:17.087Z"
   },
   {
    "duration": 173,
    "start_time": "2023-05-09T10:52:17.112Z"
   },
   {
    "duration": 5,
    "start_time": "2023-05-09T10:52:17.286Z"
   },
   {
    "duration": 2165,
    "start_time": "2023-05-09T10:52:17.292Z"
   },
   {
    "duration": 108,
    "start_time": "2023-05-09T10:52:19.459Z"
   },
   {
    "duration": 17,
    "start_time": "2023-05-09T10:52:19.568Z"
   },
   {
    "duration": 1085,
    "start_time": "2023-05-09T10:52:19.586Z"
   },
   {
    "duration": 422,
    "start_time": "2023-05-09T10:52:20.673Z"
   },
   {
    "duration": 185,
    "start_time": "2023-05-09T10:52:21.097Z"
   },
   {
    "duration": 15,
    "start_time": "2023-05-09T10:52:21.284Z"
   },
   {
    "duration": 23,
    "start_time": "2023-05-09T10:52:21.300Z"
   },
   {
    "duration": 29,
    "start_time": "2023-05-09T10:52:21.324Z"
   },
   {
    "duration": 188,
    "start_time": "2023-05-09T10:52:21.354Z"
   },
   {
    "duration": 16,
    "start_time": "2023-05-09T10:52:21.543Z"
   },
   {
    "duration": 10,
    "start_time": "2023-05-09T10:52:21.561Z"
   },
   {
    "duration": 27,
    "start_time": "2023-05-09T10:52:21.573Z"
   },
   {
    "duration": 103,
    "start_time": "2023-05-09T10:52:45.940Z"
   },
   {
    "duration": 100,
    "start_time": "2023-05-09T10:53:11.584Z"
   },
   {
    "duration": 180,
    "start_time": "2023-05-09T10:53:48.372Z"
   },
   {
    "duration": 94,
    "start_time": "2023-05-09T10:53:51.649Z"
   },
   {
    "duration": 140,
    "start_time": "2023-05-09T10:54:14.679Z"
   },
   {
    "duration": 100,
    "start_time": "2023-05-09T10:54:32.941Z"
   },
   {
    "duration": 152,
    "start_time": "2023-05-09T10:57:12.008Z"
   },
   {
    "duration": 663,
    "start_time": "2023-05-09T10:57:16.786Z"
   },
   {
    "duration": 634,
    "start_time": "2023-05-09T10:57:34.373Z"
   },
   {
    "duration": 663,
    "start_time": "2023-05-09T10:59:06.538Z"
   },
   {
    "duration": 568,
    "start_time": "2023-05-09T10:59:22.870Z"
   },
   {
    "duration": 728,
    "start_time": "2023-05-09T10:59:45.573Z"
   },
   {
    "duration": 553,
    "start_time": "2023-05-09T10:59:49.772Z"
   },
   {
    "duration": 690,
    "start_time": "2023-05-09T11:00:13.979Z"
   },
   {
    "duration": 572,
    "start_time": "2023-05-09T11:00:20.868Z"
   },
   {
    "duration": 584,
    "start_time": "2023-05-09T11:00:32.268Z"
   },
   {
    "duration": 663,
    "start_time": "2023-05-09T11:00:45.575Z"
   },
   {
    "duration": 583,
    "start_time": "2023-05-09T11:01:46.953Z"
   },
   {
    "duration": 686,
    "start_time": "2023-05-09T11:01:53.779Z"
   },
   {
    "duration": 591,
    "start_time": "2023-05-09T11:01:58.277Z"
   },
   {
    "duration": 735,
    "start_time": "2023-05-09T11:02:30.619Z"
   },
   {
    "duration": 684,
    "start_time": "2023-05-09T11:03:24.366Z"
   },
   {
    "duration": 89,
    "start_time": "2023-05-09T11:07:07.708Z"
   },
   {
    "duration": 6,
    "start_time": "2023-05-09T11:07:21.480Z"
   },
   {
    "duration": 123,
    "start_time": "2023-05-09T11:07:23.641Z"
   },
   {
    "duration": 6,
    "start_time": "2023-05-09T11:07:33.291Z"
   },
   {
    "duration": 1673,
    "start_time": "2023-05-09T11:07:34.744Z"
   },
   {
    "duration": 5,
    "start_time": "2023-05-09T11:07:57.578Z"
   },
   {
    "duration": 5,
    "start_time": "2023-05-09T11:09:08.193Z"
   },
   {
    "duration": 129,
    "start_time": "2023-05-09T11:09:09.914Z"
   },
   {
    "duration": 5,
    "start_time": "2023-05-09T11:09:18.999Z"
   },
   {
    "duration": 219,
    "start_time": "2023-05-09T11:09:19.600Z"
   },
   {
    "duration": 76,
    "start_time": "2023-05-09T11:09:47.460Z"
   },
   {
    "duration": 8,
    "start_time": "2023-05-09T11:09:58.720Z"
   },
   {
    "duration": 2165,
    "start_time": "2023-05-09T11:09:59.155Z"
   },
   {
    "duration": 7,
    "start_time": "2023-05-09T11:10:27.048Z"
   },
   {
    "duration": 133,
    "start_time": "2023-05-09T11:10:27.710Z"
   },
   {
    "duration": 5,
    "start_time": "2023-05-09T11:10:38.288Z"
   },
   {
    "duration": 1654,
    "start_time": "2023-05-09T11:10:39.348Z"
   },
   {
    "duration": 9,
    "start_time": "2023-05-09T11:14:10.495Z"
   },
   {
    "duration": 3,
    "start_time": "2023-05-09T11:14:17.882Z"
   },
   {
    "duration": 5,
    "start_time": "2023-05-09T11:14:22.475Z"
   },
   {
    "duration": 4,
    "start_time": "2023-05-09T11:14:30.182Z"
   },
   {
    "duration": 4,
    "start_time": "2023-05-09T11:14:46.732Z"
   },
   {
    "duration": 5,
    "start_time": "2023-05-09T11:14:49.444Z"
   },
   {
    "duration": 6,
    "start_time": "2023-05-09T11:15:40.925Z"
   },
   {
    "duration": 1754,
    "start_time": "2023-05-09T11:15:41.771Z"
   },
   {
    "duration": 12,
    "start_time": "2023-05-09T15:33:11.255Z"
   },
   {
    "duration": 42,
    "start_time": "2023-05-09T15:33:11.795Z"
   },
   {
    "duration": 1292,
    "start_time": "2023-05-09T17:54:12.295Z"
   },
   {
    "duration": 271,
    "start_time": "2023-05-09T17:54:13.589Z"
   },
   {
    "duration": 17,
    "start_time": "2023-05-09T17:54:13.862Z"
   },
   {
    "duration": 14,
    "start_time": "2023-05-09T17:54:13.881Z"
   },
   {
    "duration": 4,
    "start_time": "2023-05-09T17:54:13.897Z"
   },
   {
    "duration": 318,
    "start_time": "2023-05-09T17:54:13.903Z"
   },
   {
    "duration": 82,
    "start_time": "2023-05-09T17:54:14.224Z"
   },
   {
    "duration": 8,
    "start_time": "2023-05-09T17:54:14.308Z"
   },
   {
    "duration": 28,
    "start_time": "2023-05-09T17:54:14.318Z"
   },
   {
    "duration": 230,
    "start_time": "2023-05-09T17:54:14.349Z"
   },
   {
    "duration": 6,
    "start_time": "2023-05-09T17:54:14.585Z"
   },
   {
    "duration": 1828,
    "start_time": "2023-05-09T17:54:14.594Z"
   },
   {
    "duration": 25,
    "start_time": "2023-05-09T17:54:16.423Z"
   },
   {
    "duration": 1239,
    "start_time": "2023-05-09T17:54:16.450Z"
   },
   {
    "duration": 371,
    "start_time": "2023-05-09T17:54:17.691Z"
   },
   {
    "duration": 222,
    "start_time": "2023-05-09T17:54:18.063Z"
   },
   {
    "duration": 22,
    "start_time": "2023-05-09T17:54:18.288Z"
   },
   {
    "duration": 6,
    "start_time": "2023-05-09T17:54:18.313Z"
   },
   {
    "duration": 15,
    "start_time": "2023-05-09T17:54:18.321Z"
   },
   {
    "duration": 306,
    "start_time": "2023-05-09T17:54:18.338Z"
   },
   {
    "duration": 22,
    "start_time": "2023-05-09T17:54:18.646Z"
   },
   {
    "duration": 19,
    "start_time": "2023-05-09T17:54:18.669Z"
   },
   {
    "duration": 127,
    "start_time": "2023-05-09T17:54:18.689Z"
   },
   {
    "duration": 5,
    "start_time": "2023-05-09T17:54:18.818Z"
   }
  ],
  "kernelspec": {
   "display_name": "Python 3 (ipykernel)",
   "language": "python",
   "name": "python3"
  },
  "language_info": {
   "codemirror_mode": {
    "name": "ipython",
    "version": 3
   },
   "file_extension": ".py",
   "mimetype": "text/x-python",
   "name": "python",
   "nbconvert_exporter": "python",
   "pygments_lexer": "ipython3",
   "version": "3.9.13"
  },
  "toc": {
   "base_numbering": 1,
   "nav_menu": {
    "height": "412px",
    "width": "843px"
   },
   "number_sections": true,
   "sideBar": true,
   "skip_h1_title": true,
   "title_cell": "Table of Contents",
   "title_sidebar": "Contents",
   "toc_cell": false,
   "toc_position": {},
   "toc_section_display": true,
   "toc_window_display": false
  }
 },
 "nbformat": 4,
 "nbformat_minor": 2
}
