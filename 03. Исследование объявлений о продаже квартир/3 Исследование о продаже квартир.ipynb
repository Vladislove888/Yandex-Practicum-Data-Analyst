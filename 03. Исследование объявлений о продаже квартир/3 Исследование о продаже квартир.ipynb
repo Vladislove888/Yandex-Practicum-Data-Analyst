{
 "cells": [
  {
   "cell_type": "markdown",
   "metadata": {},
   "source": [
    "# Исследование объявлений о продаже квартир\n",
    "\n",
    "В вашем распоряжении данные сервиса Яндекс.Недвижимость — архив объявлений о продаже квартир в Санкт-Петербурге и соседних населённых пунктов за несколько лет. Нужно научиться определять рыночную стоимость объектов недвижимости. Ваша задача — установить параметры. Это позволит построить автоматизированную систему: она отследит аномалии и мошенническую деятельность. \n",
    "\n",
    "По каждой квартире на продажу доступны два вида данных. Первые вписаны пользователем, вторые — получены автоматически на основе картографических данных. Например, расстояние до центра, аэропорта, ближайшего парка и водоёма. "
   ]
  },
  {
   "cell_type": "markdown",
   "metadata": {},
   "source": [
    "### Изучение информации из файла. "
   ]
  },
  {
   "cell_type": "code",
   "execution_count": 1,
   "metadata": {},
   "outputs": [
    {
     "data": {
      "text/html": [
       "<div>\n",
       "<style scoped>\n",
       "    .dataframe tbody tr th:only-of-type {\n",
       "        vertical-align: middle;\n",
       "    }\n",
       "\n",
       "    .dataframe tbody tr th {\n",
       "        vertical-align: top;\n",
       "    }\n",
       "\n",
       "    .dataframe thead th {\n",
       "        text-align: right;\n",
       "    }\n",
       "</style>\n",
       "<table border=\"1\" class=\"dataframe\">\n",
       "  <thead>\n",
       "    <tr style=\"text-align: right;\">\n",
       "      <th></th>\n",
       "      <th>total_images</th>\n",
       "      <th>last_price</th>\n",
       "      <th>total_area</th>\n",
       "      <th>first_day_exposition</th>\n",
       "      <th>rooms</th>\n",
       "      <th>ceiling_height</th>\n",
       "      <th>floors_total</th>\n",
       "      <th>living_area</th>\n",
       "      <th>floor</th>\n",
       "      <th>is_apartment</th>\n",
       "      <th>...</th>\n",
       "      <th>kitchen_area</th>\n",
       "      <th>balcony</th>\n",
       "      <th>locality_name</th>\n",
       "      <th>airports_nearest</th>\n",
       "      <th>cityCenters_nearest</th>\n",
       "      <th>parks_around3000</th>\n",
       "      <th>parks_nearest</th>\n",
       "      <th>ponds_around3000</th>\n",
       "      <th>ponds_nearest</th>\n",
       "      <th>days_exposition</th>\n",
       "    </tr>\n",
       "  </thead>\n",
       "  <tbody>\n",
       "    <tr>\n",
       "      <th>0</th>\n",
       "      <td>20</td>\n",
       "      <td>13000000.0</td>\n",
       "      <td>108.00</td>\n",
       "      <td>2019-03-07T00:00:00</td>\n",
       "      <td>3</td>\n",
       "      <td>2.70</td>\n",
       "      <td>16.0</td>\n",
       "      <td>51.0</td>\n",
       "      <td>8</td>\n",
       "      <td>NaN</td>\n",
       "      <td>...</td>\n",
       "      <td>25.00</td>\n",
       "      <td>NaN</td>\n",
       "      <td>Санкт-Петербург</td>\n",
       "      <td>18863.0</td>\n",
       "      <td>16028.0</td>\n",
       "      <td>1.0</td>\n",
       "      <td>482.0</td>\n",
       "      <td>2.0</td>\n",
       "      <td>755.0</td>\n",
       "      <td>NaN</td>\n",
       "    </tr>\n",
       "    <tr>\n",
       "      <th>1</th>\n",
       "      <td>7</td>\n",
       "      <td>3350000.0</td>\n",
       "      <td>40.40</td>\n",
       "      <td>2018-12-04T00:00:00</td>\n",
       "      <td>1</td>\n",
       "      <td>NaN</td>\n",
       "      <td>11.0</td>\n",
       "      <td>18.6</td>\n",
       "      <td>1</td>\n",
       "      <td>NaN</td>\n",
       "      <td>...</td>\n",
       "      <td>11.00</td>\n",
       "      <td>2.0</td>\n",
       "      <td>посёлок Шушары</td>\n",
       "      <td>12817.0</td>\n",
       "      <td>18603.0</td>\n",
       "      <td>0.0</td>\n",
       "      <td>NaN</td>\n",
       "      <td>0.0</td>\n",
       "      <td>NaN</td>\n",
       "      <td>81.0</td>\n",
       "    </tr>\n",
       "    <tr>\n",
       "      <th>2</th>\n",
       "      <td>10</td>\n",
       "      <td>5196000.0</td>\n",
       "      <td>56.00</td>\n",
       "      <td>2015-08-20T00:00:00</td>\n",
       "      <td>2</td>\n",
       "      <td>NaN</td>\n",
       "      <td>5.0</td>\n",
       "      <td>34.3</td>\n",
       "      <td>4</td>\n",
       "      <td>NaN</td>\n",
       "      <td>...</td>\n",
       "      <td>8.30</td>\n",
       "      <td>0.0</td>\n",
       "      <td>Санкт-Петербург</td>\n",
       "      <td>21741.0</td>\n",
       "      <td>13933.0</td>\n",
       "      <td>1.0</td>\n",
       "      <td>90.0</td>\n",
       "      <td>2.0</td>\n",
       "      <td>574.0</td>\n",
       "      <td>558.0</td>\n",
       "    </tr>\n",
       "    <tr>\n",
       "      <th>3</th>\n",
       "      <td>0</td>\n",
       "      <td>64900000.0</td>\n",
       "      <td>159.00</td>\n",
       "      <td>2015-07-24T00:00:00</td>\n",
       "      <td>3</td>\n",
       "      <td>NaN</td>\n",
       "      <td>14.0</td>\n",
       "      <td>NaN</td>\n",
       "      <td>9</td>\n",
       "      <td>NaN</td>\n",
       "      <td>...</td>\n",
       "      <td>NaN</td>\n",
       "      <td>0.0</td>\n",
       "      <td>Санкт-Петербург</td>\n",
       "      <td>28098.0</td>\n",
       "      <td>6800.0</td>\n",
       "      <td>2.0</td>\n",
       "      <td>84.0</td>\n",
       "      <td>3.0</td>\n",
       "      <td>234.0</td>\n",
       "      <td>424.0</td>\n",
       "    </tr>\n",
       "    <tr>\n",
       "      <th>4</th>\n",
       "      <td>2</td>\n",
       "      <td>10000000.0</td>\n",
       "      <td>100.00</td>\n",
       "      <td>2018-06-19T00:00:00</td>\n",
       "      <td>2</td>\n",
       "      <td>3.03</td>\n",
       "      <td>14.0</td>\n",
       "      <td>32.0</td>\n",
       "      <td>13</td>\n",
       "      <td>NaN</td>\n",
       "      <td>...</td>\n",
       "      <td>41.00</td>\n",
       "      <td>NaN</td>\n",
       "      <td>Санкт-Петербург</td>\n",
       "      <td>31856.0</td>\n",
       "      <td>8098.0</td>\n",
       "      <td>2.0</td>\n",
       "      <td>112.0</td>\n",
       "      <td>1.0</td>\n",
       "      <td>48.0</td>\n",
       "      <td>121.0</td>\n",
       "    </tr>\n",
       "    <tr>\n",
       "      <th>...</th>\n",
       "      <td>...</td>\n",
       "      <td>...</td>\n",
       "      <td>...</td>\n",
       "      <td>...</td>\n",
       "      <td>...</td>\n",
       "      <td>...</td>\n",
       "      <td>...</td>\n",
       "      <td>...</td>\n",
       "      <td>...</td>\n",
       "      <td>...</td>\n",
       "      <td>...</td>\n",
       "      <td>...</td>\n",
       "      <td>...</td>\n",
       "      <td>...</td>\n",
       "      <td>...</td>\n",
       "      <td>...</td>\n",
       "      <td>...</td>\n",
       "      <td>...</td>\n",
       "      <td>...</td>\n",
       "      <td>...</td>\n",
       "      <td>...</td>\n",
       "    </tr>\n",
       "    <tr>\n",
       "      <th>23694</th>\n",
       "      <td>9</td>\n",
       "      <td>9700000.0</td>\n",
       "      <td>133.81</td>\n",
       "      <td>2017-03-21T00:00:00</td>\n",
       "      <td>3</td>\n",
       "      <td>3.70</td>\n",
       "      <td>5.0</td>\n",
       "      <td>73.3</td>\n",
       "      <td>3</td>\n",
       "      <td>NaN</td>\n",
       "      <td>...</td>\n",
       "      <td>13.83</td>\n",
       "      <td>NaN</td>\n",
       "      <td>Санкт-Петербург</td>\n",
       "      <td>24665.0</td>\n",
       "      <td>4232.0</td>\n",
       "      <td>1.0</td>\n",
       "      <td>796.0</td>\n",
       "      <td>3.0</td>\n",
       "      <td>381.0</td>\n",
       "      <td>NaN</td>\n",
       "    </tr>\n",
       "    <tr>\n",
       "      <th>23695</th>\n",
       "      <td>14</td>\n",
       "      <td>3100000.0</td>\n",
       "      <td>59.00</td>\n",
       "      <td>2018-01-15T00:00:00</td>\n",
       "      <td>3</td>\n",
       "      <td>NaN</td>\n",
       "      <td>5.0</td>\n",
       "      <td>38.0</td>\n",
       "      <td>4</td>\n",
       "      <td>NaN</td>\n",
       "      <td>...</td>\n",
       "      <td>8.50</td>\n",
       "      <td>NaN</td>\n",
       "      <td>Тосно</td>\n",
       "      <td>NaN</td>\n",
       "      <td>NaN</td>\n",
       "      <td>NaN</td>\n",
       "      <td>NaN</td>\n",
       "      <td>NaN</td>\n",
       "      <td>NaN</td>\n",
       "      <td>45.0</td>\n",
       "    </tr>\n",
       "    <tr>\n",
       "      <th>23696</th>\n",
       "      <td>18</td>\n",
       "      <td>2500000.0</td>\n",
       "      <td>56.70</td>\n",
       "      <td>2018-02-11T00:00:00</td>\n",
       "      <td>2</td>\n",
       "      <td>NaN</td>\n",
       "      <td>3.0</td>\n",
       "      <td>29.7</td>\n",
       "      <td>1</td>\n",
       "      <td>NaN</td>\n",
       "      <td>...</td>\n",
       "      <td>NaN</td>\n",
       "      <td>NaN</td>\n",
       "      <td>село Рождествено</td>\n",
       "      <td>NaN</td>\n",
       "      <td>NaN</td>\n",
       "      <td>NaN</td>\n",
       "      <td>NaN</td>\n",
       "      <td>NaN</td>\n",
       "      <td>NaN</td>\n",
       "      <td>NaN</td>\n",
       "    </tr>\n",
       "    <tr>\n",
       "      <th>23697</th>\n",
       "      <td>13</td>\n",
       "      <td>11475000.0</td>\n",
       "      <td>76.75</td>\n",
       "      <td>2017-03-28T00:00:00</td>\n",
       "      <td>2</td>\n",
       "      <td>3.00</td>\n",
       "      <td>17.0</td>\n",
       "      <td>NaN</td>\n",
       "      <td>12</td>\n",
       "      <td>NaN</td>\n",
       "      <td>...</td>\n",
       "      <td>23.30</td>\n",
       "      <td>2.0</td>\n",
       "      <td>Санкт-Петербург</td>\n",
       "      <td>39140.0</td>\n",
       "      <td>10364.0</td>\n",
       "      <td>2.0</td>\n",
       "      <td>173.0</td>\n",
       "      <td>3.0</td>\n",
       "      <td>196.0</td>\n",
       "      <td>602.0</td>\n",
       "    </tr>\n",
       "    <tr>\n",
       "      <th>23698</th>\n",
       "      <td>4</td>\n",
       "      <td>1350000.0</td>\n",
       "      <td>32.30</td>\n",
       "      <td>2017-07-21T00:00:00</td>\n",
       "      <td>1</td>\n",
       "      <td>2.50</td>\n",
       "      <td>5.0</td>\n",
       "      <td>12.3</td>\n",
       "      <td>1</td>\n",
       "      <td>NaN</td>\n",
       "      <td>...</td>\n",
       "      <td>9.00</td>\n",
       "      <td>NaN</td>\n",
       "      <td>поселок Новый Учхоз</td>\n",
       "      <td>NaN</td>\n",
       "      <td>NaN</td>\n",
       "      <td>NaN</td>\n",
       "      <td>NaN</td>\n",
       "      <td>NaN</td>\n",
       "      <td>NaN</td>\n",
       "      <td>NaN</td>\n",
       "    </tr>\n",
       "  </tbody>\n",
       "</table>\n",
       "<p>23699 rows × 22 columns</p>\n",
       "</div>"
      ],
      "text/plain": [
       "       total_images  last_price  total_area first_day_exposition  rooms  \\\n",
       "0                20  13000000.0      108.00  2019-03-07T00:00:00      3   \n",
       "1                 7   3350000.0       40.40  2018-12-04T00:00:00      1   \n",
       "2                10   5196000.0       56.00  2015-08-20T00:00:00      2   \n",
       "3                 0  64900000.0      159.00  2015-07-24T00:00:00      3   \n",
       "4                 2  10000000.0      100.00  2018-06-19T00:00:00      2   \n",
       "...             ...         ...         ...                  ...    ...   \n",
       "23694             9   9700000.0      133.81  2017-03-21T00:00:00      3   \n",
       "23695            14   3100000.0       59.00  2018-01-15T00:00:00      3   \n",
       "23696            18   2500000.0       56.70  2018-02-11T00:00:00      2   \n",
       "23697            13  11475000.0       76.75  2017-03-28T00:00:00      2   \n",
       "23698             4   1350000.0       32.30  2017-07-21T00:00:00      1   \n",
       "\n",
       "       ceiling_height  floors_total  living_area  floor is_apartment  ...  \\\n",
       "0                2.70          16.0         51.0      8          NaN  ...   \n",
       "1                 NaN          11.0         18.6      1          NaN  ...   \n",
       "2                 NaN           5.0         34.3      4          NaN  ...   \n",
       "3                 NaN          14.0          NaN      9          NaN  ...   \n",
       "4                3.03          14.0         32.0     13          NaN  ...   \n",
       "...               ...           ...          ...    ...          ...  ...   \n",
       "23694            3.70           5.0         73.3      3          NaN  ...   \n",
       "23695             NaN           5.0         38.0      4          NaN  ...   \n",
       "23696             NaN           3.0         29.7      1          NaN  ...   \n",
       "23697            3.00          17.0          NaN     12          NaN  ...   \n",
       "23698            2.50           5.0         12.3      1          NaN  ...   \n",
       "\n",
       "       kitchen_area  balcony        locality_name  airports_nearest  \\\n",
       "0             25.00      NaN      Санкт-Петербург           18863.0   \n",
       "1             11.00      2.0       посёлок Шушары           12817.0   \n",
       "2              8.30      0.0      Санкт-Петербург           21741.0   \n",
       "3               NaN      0.0      Санкт-Петербург           28098.0   \n",
       "4             41.00      NaN      Санкт-Петербург           31856.0   \n",
       "...             ...      ...                  ...               ...   \n",
       "23694         13.83      NaN      Санкт-Петербург           24665.0   \n",
       "23695          8.50      NaN                Тосно               NaN   \n",
       "23696           NaN      NaN     село Рождествено               NaN   \n",
       "23697         23.30      2.0      Санкт-Петербург           39140.0   \n",
       "23698          9.00      NaN  поселок Новый Учхоз               NaN   \n",
       "\n",
       "      cityCenters_nearest  parks_around3000  parks_nearest  ponds_around3000  \\\n",
       "0                 16028.0               1.0          482.0               2.0   \n",
       "1                 18603.0               0.0            NaN               0.0   \n",
       "2                 13933.0               1.0           90.0               2.0   \n",
       "3                  6800.0               2.0           84.0               3.0   \n",
       "4                  8098.0               2.0          112.0               1.0   \n",
       "...                   ...               ...            ...               ...   \n",
       "23694              4232.0               1.0          796.0               3.0   \n",
       "23695                 NaN               NaN            NaN               NaN   \n",
       "23696                 NaN               NaN            NaN               NaN   \n",
       "23697             10364.0               2.0          173.0               3.0   \n",
       "23698                 NaN               NaN            NaN               NaN   \n",
       "\n",
       "       ponds_nearest  days_exposition  \n",
       "0              755.0              NaN  \n",
       "1                NaN             81.0  \n",
       "2              574.0            558.0  \n",
       "3              234.0            424.0  \n",
       "4               48.0            121.0  \n",
       "...              ...              ...  \n",
       "23694          381.0              NaN  \n",
       "23695            NaN             45.0  \n",
       "23696            NaN              NaN  \n",
       "23697          196.0            602.0  \n",
       "23698            NaN              NaN  \n",
       "\n",
       "[23699 rows x 22 columns]"
      ]
     },
     "execution_count": 1,
     "metadata": {},
     "output_type": "execute_result"
    }
   ],
   "source": [
    "# сначала откроем файл\n",
    "import pandas as pd\n",
    "import matplotlib.pyplot as plt\n",
    "\n",
    "data = pd.read_csv('/datasets/real_estate_data.csv', sep='\\t')  # при открытии файла обнаружлось, что столбцы разделены \\t\n",
    "data\n",
    "\n"
   ]
  },
  {
   "cell_type": "code",
   "execution_count": 2,
   "metadata": {
    "scrolled": false
   },
   "outputs": [
    {
     "name": "stdout",
     "output_type": "stream",
     "text": [
      "<class 'pandas.core.frame.DataFrame'>\n",
      "RangeIndex: 23699 entries, 0 to 23698\n",
      "Data columns (total 22 columns):\n",
      " #   Column                Non-Null Count  Dtype  \n",
      "---  ------                --------------  -----  \n",
      " 0   total_images          23699 non-null  int64  \n",
      " 1   last_price            23699 non-null  float64\n",
      " 2   total_area            23699 non-null  float64\n",
      " 3   first_day_exposition  23699 non-null  object \n",
      " 4   rooms                 23699 non-null  int64  \n",
      " 5   ceiling_height        14504 non-null  float64\n",
      " 6   floors_total          23613 non-null  float64\n",
      " 7   living_area           21796 non-null  float64\n",
      " 8   floor                 23699 non-null  int64  \n",
      " 9   is_apartment          2775 non-null   object \n",
      " 10  studio                23699 non-null  bool   \n",
      " 11  open_plan             23699 non-null  bool   \n",
      " 12  kitchen_area          21421 non-null  float64\n",
      " 13  balcony               12180 non-null  float64\n",
      " 14  locality_name         23650 non-null  object \n",
      " 15  airports_nearest      18157 non-null  float64\n",
      " 16  cityCenters_nearest   18180 non-null  float64\n",
      " 17  parks_around3000      18181 non-null  float64\n",
      " 18  parks_nearest         8079 non-null   float64\n",
      " 19  ponds_around3000      18181 non-null  float64\n",
      " 20  ponds_nearest         9110 non-null   float64\n",
      " 21  days_exposition       20518 non-null  float64\n",
      "dtypes: bool(2), float64(14), int64(3), object(3)\n",
      "memory usage: 3.7+ MB\n"
     ]
    }
   ],
   "source": [
    "data.info()"
   ]
  },
  {
   "cell_type": "markdown",
   "metadata": {},
   "source": [
    "В таблице 22 столбца и 23699 строк. Есть строки с большим количеством пропусков. Также есть строки, которые нужно привести к змеиному регистру"
   ]
  },
  {
   "cell_type": "markdown",
   "metadata": {},
   "source": [
    "### Предобработка данных"
   ]
  },
  {
   "cell_type": "code",
   "execution_count": 3,
   "metadata": {},
   "outputs": [
    {
     "name": "stdout",
     "output_type": "stream",
     "text": [
      "total_images                0\n",
      "last_price                  0\n",
      "total_area                  0\n",
      "first_day_exposition        0\n",
      "rooms                       0\n",
      "ceiling_height              0\n",
      "floors_total               86\n",
      "living_area              1903\n",
      "floor                       0\n",
      "is_apartment                0\n",
      "studio                      0\n",
      "open_plan                   0\n",
      "kitchen_area             2278\n",
      "balcony                     0\n",
      "locality_name              49\n",
      "airports_nearest         5542\n",
      "city_centers_nearest     5519\n",
      "parks_around_3000           0\n",
      "parks_nearest           15620\n",
      "ponds_around_3000           0\n",
      "ponds_nearest           14589\n",
      "days_exposition          3181\n",
      "dtype: int64\n"
     ]
    }
   ],
   "source": [
    "# прежде чем приступить к работе с пропусками, изменим стиль названия некоторых столбцов\n",
    "data = data.rename(columns={'parks_around3000':'parks_around_3000', 'ponds_around3000':'ponds_around_3000', 'cityCenters_nearest':'city_centers_nearest'})\n",
    "\n",
    "# определим, в каких столбцах есть пропуски\n",
    "#print(data.isna().sum())\n",
    "data['balcony'] = data['balcony'].fillna(0).astype('int')  # скорее всего пропуски, потому что балкона нет вовсе\n",
    "data['parks_around_3000'] = data['parks_around_3000'].fillna(0).astype('int')  # аналогично балконам в радиусе 3 км может не быть парков и прудов\n",
    "data['ponds_around_3000'] = data['ponds_around_3000'].fillna(0).astype('int')  \n",
    "data['is_apartment'] = data['is_apartment'].fillna(False)  # True только в 50 случаях, скорее всего, остальные таковыми и не являются, поэтому пропуски\n",
    "data['ceiling_height'] = data['ceiling_height'].fillna(data['ceiling_height'].median())  # высоту потолков приводим к медианному значению\n",
    "data['first_day_exposition'] = pd.to_datetime(data['first_day_exposition'], format='%Y.%m.%d')  # меняем дату на подъодящий формат\n",
    "print(data.isna().sum())\n",
    "\n",
    "# Пропуски в столбцах с объектами инфраструктуры не помешают, чтобы достичь поставленных задач.\n",
    "# Пропуски в количестве дней размещения означают, что скорее всего квартира не продана.\n",
    "# В столбце с названиями населённых пунктов непонятна причина пропусков, да и доля невелика, поэтому оставим так.\n",
    "\n"
   ]
  },
  {
   "cell_type": "code",
   "execution_count": 4,
   "metadata": {
    "scrolled": true
   },
   "outputs": [
    {
     "name": "stdout",
     "output_type": "stream",
     "text": [
      "Уникальных значений до обработки 365\n",
      "Уникальных значений после обработки 322\n"
     ]
    }
   ],
   "source": [
    "# избавимся от неявных дубликатов в названиях населённых пунктов\n",
    "print('Уникальных значений до обработки', len(data['locality_name'].unique()))\n",
    "\n",
    "\n",
    "data['locality_name'].sort_values().unique()\n",
    "replace_name = ['деревня ', 'поселок ', 'посёлок ', 'поселок городского типа ', 'городской поселок ', 'село ', 'коттеджный поселок ', 'садовое товарищество ']\n",
    "for name in replace_name:\n",
    "    data['locality_name'] = data['locality_name'].str.replace(name, '')\n",
    "\n",
    "    \n",
    "print('Уникальных значений после обработки', len(data['locality_name'].unique()))"
   ]
  },
  {
   "cell_type": "code",
   "execution_count": 5,
   "metadata": {},
   "outputs": [],
   "source": [
    "#  Далее проверим столбцы на наличие выбросов\n",
    "data['ceiling_height'].value_counts()\n",
    "data['ceiling_height'] = data.loc[(data['ceiling_height'] <= 5)&(data['ceiling_height'] > 2), ['ceiling_height']]  # оставим высоту потлков от 2 до 5 метров        "
   ]
  },
  {
   "cell_type": "code",
   "execution_count": 6,
   "metadata": {},
   "outputs": [
    {
     "data": {
      "text/plain": [
       "count    23699.000000\n",
       "mean        60.348651\n",
       "std         35.654083\n",
       "min         12.000000\n",
       "25%         40.000000\n",
       "50%         52.000000\n",
       "75%         69.900000\n",
       "max        900.000000\n",
       "Name: total_area, dtype: float64"
      ]
     },
     "execution_count": 6,
     "metadata": {},
     "output_type": "execute_result"
    }
   ],
   "source": [
    "data['total_area'].describe()  # проблем не обнаружено"
   ]
  },
  {
   "cell_type": "code",
   "execution_count": 7,
   "metadata": {},
   "outputs": [],
   "source": [
    "data['living_area'].describe()\n",
    "data['living_area'] = data.loc[data['living_area'] > 10, 'living_area']  # сделаем минимальную жилую площаль от 10"
   ]
  },
  {
   "cell_type": "code",
   "execution_count": 8,
   "metadata": {},
   "outputs": [
    {
     "data": {
      "text/plain": [
       "count    21309.000000\n",
       "mean        10.445753\n",
       "std          5.178937\n",
       "min          4.100000\n",
       "25%          7.000000\n",
       "50%          9.100000\n",
       "75%         12.000000\n",
       "max         49.400000\n",
       "Name: kitchen_area, dtype: float64"
      ]
     },
     "execution_count": 8,
     "metadata": {},
     "output_type": "execute_result"
    }
   ],
   "source": [
    "data['kitchen_area'].describe()  # также приведём размеры кухни к адекватным\n",
    "data['kitchen_area'] = data.loc[data['kitchen_area'] < 50, 'kitchen_area']\n",
    "data['kitchen_area'] = data.loc[data['kitchen_area'] > 4, 'kitchen_area']\n",
    "data['kitchen_area'].describe()"
   ]
  },
  {
   "cell_type": "code",
   "execution_count": 9,
   "metadata": {
    "scrolled": true
   },
   "outputs": [],
   "source": [
    "data['last_price'].describe()\n",
    "data['last_price'] = data.loc[data['last_price'] > 400000, 'last_price']  # установим минимальную цену в 400000"
   ]
  },
  {
   "cell_type": "code",
   "execution_count": 10,
   "metadata": {},
   "outputs": [],
   "source": [
    "data['rooms'].value_counts()\n",
    "data['rooms'] = data.loc[data['rooms'] <= 10, 'rooms']  # оставим недвижимость с количесвтом комнат до 10\n"
   ]
  },
  {
   "cell_type": "code",
   "execution_count": 11,
   "metadata": {
    "scrolled": true
   },
   "outputs": [
    {
     "data": {
      "text/plain": [
       "count    23699.000000\n",
       "mean         5.892358\n",
       "std          4.885249\n",
       "min          1.000000\n",
       "25%          2.000000\n",
       "50%          4.000000\n",
       "75%          8.000000\n",
       "max         33.000000\n",
       "Name: floor, dtype: float64"
      ]
     },
     "execution_count": 11,
     "metadata": {},
     "output_type": "execute_result"
    }
   ],
   "source": [
    "data['floor'].describe()  # проблем с этажами нет "
   ]
  },
  {
   "cell_type": "code",
   "execution_count": 12,
   "metadata": {},
   "outputs": [
    {
     "data": {
      "text/plain": [
       "count    23699.000000\n",
       "mean         0.591080\n",
       "std          0.959298\n",
       "min          0.000000\n",
       "25%          0.000000\n",
       "50%          0.000000\n",
       "75%          1.000000\n",
       "max          5.000000\n",
       "Name: balcony, dtype: float64"
      ]
     },
     "execution_count": 12,
     "metadata": {},
     "output_type": "execute_result"
    }
   ],
   "source": [
    "data['balcony'].describe()  # с балконами проблем также не обнаружено"
   ]
  },
  {
   "cell_type": "markdown",
   "metadata": {},
   "source": [
    "### Добавление в таблицу новых столбцов"
   ]
  },
  {
   "cell_type": "code",
   "execution_count": 13,
   "metadata": {},
   "outputs": [],
   "source": [
    "# добавим в таблицу цену за квадратный метр; день, месяц и год, когда было выставлено объявдление; а также добавим тип этажа\n",
    "data['price_per_square'] = data['last_price']/data['total_area']  \n",
    "data['exposition_weekday'] = data['first_day_exposition'].dt.weekday\n",
    "data['exposition_month'] = data['first_day_exposition'].dt.month\n",
    "data['exposition_year'] = data['first_day_exposition'].dt.year\n",
    "\n",
    "def floor_category(row):\n",
    "    floors_total = row['floors_total']\n",
    "    floor = row['floor']\n",
    "    if floor == 1:\n",
    "        return 'первый'\n",
    "    elif 1 < floor < floors_total:\n",
    "        return 'другой'\n",
    "    elif floor == floors_total:\n",
    "        return 'последний'\n",
    "    \n",
    "data['floor_category'] = data.apply(floor_category, axis = 1)\n",
    "data['city_centers_nearest_km'] = data['city_centers_nearest']//1000  # добавим столбец с расстоянием до центра в км\n",
    "\n",
    "\n",
    "\n"
   ]
  },
  {
   "cell_type": "markdown",
   "metadata": {},
   "source": [
    "### Анализ данных"
   ]
  },
  {
   "cell_type": "code",
   "execution_count": 14,
   "metadata": {},
   "outputs": [
    {
     "data": {
      "text/plain": [
       "Text(0.5, 1.0, 'Общая площадь')"
      ]
     },
     "execution_count": 14,
     "metadata": {},
     "output_type": "execute_result"
    },
    {
     "data": {
      "image/png": "[encoded data removed]",
      "text/plain": [
       "<Figure size 576x360 with 1 Axes>"
      ]
     },
     "metadata": {
      "needs_background": "light"
     },
     "output_type": "display_data"
    }
   ],
   "source": [
    "data.plot(y='total_area',\n",
    "          kind='hist',\n",
    "          bins=100,\n",
    "          figsize=(8, 5),\n",
    "          range=(0, 450),\n",
    "          grid=True          \n",
    "         )\n",
    "plt.xlim(0, 400)\n",
    "plt.title('Общая площадь')"
   ]
  },
  {
   "cell_type": "markdown",
   "metadata": {},
   "source": [
    "Наибольшее количество квартир имеет площадь в районе 30-70 метров."
   ]
  },
  {
   "cell_type": "code",
   "execution_count": 16,
   "metadata": {},
   "outputs": [
    {
     "data": {
      "text/plain": [
       "Text(0.5, 1.0, 'Жилая площадь')"
      ]
     },
     "execution_count": 16,
     "metadata": {},
     "output_type": "execute_result"
    },
    {
     "data": {
      "image/png": "[encoded data removed]",
      "text/plain": [
       "<Figure size 576x360 with 1 Axes>"
      ]
     },
     "metadata": {
      "needs_background": "light"
     },
     "output_type": "display_data"
    }
   ],
   "source": [
    "data.plot(y='living_area',\n",
    "          kind='hist',\n",
    "          bins=100,\n",
    "          figsize=(8, 5),\n",
    "          range=(0, 200),\n",
    "          grid=True          \n",
    "         )\n",
    "plt.title('Жилая площадь')"
   ]
  },
  {
   "cell_type": "markdown",
   "metadata": {},
   "source": [
    "В большинстве случаев жилая площадь не занимает более 45 метров, выделяется пик в районе 20-25 метров, скорее всего речь идёт об однушках или студиях."
   ]
  },
  {
   "cell_type": "code",
   "execution_count": 17,
   "metadata": {
    "scrolled": false
   },
   "outputs": [
    {
     "data": {
      "text/plain": [
       "Text(0.5, 1.0, 'Площадь кухни')"
      ]
     },
     "execution_count": 17,
     "metadata": {},
     "output_type": "execute_result"
    },
    {
     "data": {
      "image/png": "[encoded data removed]",
      "text/plain": [
       "<Figure size 576x360 with 1 Axes>"
      ]
     },
     "metadata": {
      "needs_background": "light"
     },
     "output_type": "display_data"
    }
   ],
   "source": [
    "data.plot(y='kitchen_area',\n",
    "          kind='hist',\n",
    "          bins=100,\n",
    "          figsize=(8, 5),\n",
    "          range=(0, 50),\n",
    "          grid=True          \n",
    "         )\n",
    "plt.title('Площадь кухни')"
   ]
  },
  {
   "cell_type": "markdown",
   "metadata": {},
   "source": [
    "Основная масса квартир имеет площаль кухни менее 15 метров, особо много в районе 6-10 метров."
   ]
  },
  {
   "cell_type": "code",
   "execution_count": 18,
   "metadata": {},
   "outputs": [
    {
     "data": {
      "text/plain": [
       "Text(0.5, 0, 'Цена в 10 млн')"
      ]
     },
     "execution_count": 18,
     "metadata": {},
     "output_type": "execute_result"
    },
    {
     "data": {
      "image/png": "[encoded data removed]",
      "text/plain": [
       "<Figure size 576x360 with 1 Axes>"
      ]
     },
     "metadata": {
      "needs_background": "light"
     },
     "output_type": "display_data"
    }
   ],
   "source": [
    "data.plot(y='last_price',\n",
    "          kind='hist',\n",
    "          bins=100,\n",
    "          figsize=(8, 5),\n",
    "          range=(0, 30000000),\n",
    "          grid=True          \n",
    "         )\n",
    "plt.title('Цена объкта')\n",
    "plt.xlabel('Цена в 10 млн')"
   ]
  },
  {
   "cell_type": "markdown",
   "metadata": {},
   "source": [
    "Самые распространённые цены в диапазоне от 3 до 8 миллионов."
   ]
  },
  {
   "cell_type": "code",
   "execution_count": 19,
   "metadata": {},
   "outputs": [
    {
     "data": {
      "text/plain": [
       "Text(0.5, 1.0, 'Кол-во комнат')"
      ]
     },
     "execution_count": 19,
     "metadata": {},
     "output_type": "execute_result"
    },
    {
     "data": {
      "image/png": "[encoded data removed]",
      "text/plain": [
       "<Figure size 576x360 with 1 Axes>"
      ]
     },
     "metadata": {
      "needs_background": "light"
     },
     "output_type": "display_data"
    }
   ],
   "source": [
    "data.plot(y='rooms',\n",
    "          kind='hist',\n",
    "          bins=10,\n",
    "          figsize=(8, 5),\n",
    "          range=(0, 10),\n",
    "          grid=True          \n",
    "         )\n",
    "plt.title('Кол-во комнат')"
   ]
  },
  {
   "cell_type": "markdown",
   "metadata": {},
   "source": [
    "Чаще всего встречаются квартиры с количеством комнат от 1 до 3"
   ]
  },
  {
   "cell_type": "code",
   "execution_count": 20,
   "metadata": {},
   "outputs": [
    {
     "data": {
      "text/plain": [
       "Text(0.5, 1.0, 'Высота потолков')"
      ]
     },
     "execution_count": 20,
     "metadata": {},
     "output_type": "execute_result"
    },
    {
     "data": {
      "image/png": "[encoded data removed]",
      "text/plain": [
       "<Figure size 576x432 with 1 Axes>"
      ]
     },
     "metadata": {
      "needs_background": "light"
     },
     "output_type": "display_data"
    }
   ],
   "source": [
    "data.plot(y='ceiling_height',\n",
    "          kind='hist',\n",
    "          bins=15,\n",
    "          figsize=(8, 6),\n",
    "          range=(0, 5),\n",
    "          grid=True          \n",
    "         )\n",
    "plt.title('Высота потолков')"
   ]
  },
  {
   "cell_type": "markdown",
   "metadata": {},
   "source": [
    "В большинсвте квартир потолки 2.5 метра"
   ]
  },
  {
   "cell_type": "code",
   "execution_count": 21,
   "metadata": {},
   "outputs": [
    {
     "data": {
      "text/plain": [
       "Text(0.5, 1.0, 'Этаж квартиры')"
      ]
     },
     "execution_count": 21,
     "metadata": {},
     "output_type": "execute_result"
    },
    {
     "data": {
      "image/png": "[encoded data removed]",
      "text/plain": [
       "<Figure size 576x360 with 1 Axes>"
      ]
     },
     "metadata": {
      "needs_background": "light"
     },
     "output_type": "display_data"
    }
   ],
   "source": [
    "data.plot(y='floor',\n",
    "          kind='hist',\n",
    "          bins=30,\n",
    "          figsize=(8, 5),\n",
    "          range=(0, 30),\n",
    "          grid=True          \n",
    "         )\n",
    "plt.title('Этаж квартиры')"
   ]
  },
  {
   "cell_type": "markdown",
   "metadata": {},
   "source": [
    "Самое большое количество квартир находится ниже 10 этажа"
   ]
  },
  {
   "cell_type": "code",
   "execution_count": 22,
   "metadata": {},
   "outputs": [
    {
     "data": {
      "text/plain": [
       "другой       17363\n",
       "последний     3336\n",
       "первый        2917\n",
       "Name: floor_category, dtype: int64"
      ]
     },
     "execution_count": 22,
     "metadata": {},
     "output_type": "execute_result"
    },
    {
     "data": {
      "image/png": "[encoded data removed]",
      "text/plain": [
       "<Figure size 432x288 with 1 Axes>"
      ]
     },
     "metadata": {
      "needs_background": "light"
     },
     "output_type": "display_data"
    }
   ],
   "source": [
    "# Оценим количество квартир по категории этажа\n",
    "data['floor_category'].hist()\n",
    "data['floor_category'].value_counts()"
   ]
  },
  {
   "cell_type": "markdown",
   "metadata": {},
   "source": [
    "Квартир, находящихся на последнем и на первом этажах, сильно меньше, чем остальных"
   ]
  },
  {
   "cell_type": "code",
   "execution_count": 23,
   "metadata": {
    "scrolled": false
   },
   "outputs": [
    {
     "data": {
      "text/plain": [
       "Text(0.5, 1.0, 'Общее число этажей')"
      ]
     },
     "execution_count": 23,
     "metadata": {},
     "output_type": "execute_result"
    },
    {
     "data": {
      "image/png": "[encoded data removed]",
      "text/plain": [
       "<Figure size 576x360 with 1 Axes>"
      ]
     },
     "metadata": {
      "needs_background": "light"
     },
     "output_type": "display_data"
    }
   ],
   "source": [
    "data.plot(y='floors_total',\n",
    "          kind='hist',\n",
    "          bins=30,\n",
    "          figsize=(8, 5),\n",
    "          range=(0, 30),\n",
    "          grid=True          \n",
    "         )\n",
    "plt.title('Общее число этажей')"
   ]
  },
  {
   "cell_type": "markdown",
   "metadata": {},
   "source": [
    "Наибольше число квартир в 6 и 9 этажных домах, не муравейники"
   ]
  },
  {
   "cell_type": "code",
   "execution_count": 24,
   "metadata": {},
   "outputs": [
    {
     "data": {
      "text/plain": [
       "Text(0.5, 1.0, 'Расстояние до центра')"
      ]
     },
     "execution_count": 24,
     "metadata": {},
     "output_type": "execute_result"
    },
    {
     "data": {
      "image/png": "[encoded data removed]",
      "text/plain": [
       "<Figure size 576x360 with 1 Axes>"
      ]
     },
     "metadata": {
      "needs_background": "light"
     },
     "output_type": "display_data"
    }
   ],
   "source": [
    "data.plot(y='city_centers_nearest',\n",
    "          kind='hist',\n",
    "          bins=30,\n",
    "          figsize=(8, 5),\n",
    "          range=(0, 30000),\n",
    "          grid=True          \n",
    "         )\n",
    "plt.title('Расстояние до центра')"
   ]
  },
  {
   "cell_type": "markdown",
   "metadata": {},
   "source": [
    "Больше всего квартир в 11-17 км от центра города"
   ]
  },
  {
   "cell_type": "code",
   "execution_count": 25,
   "metadata": {
    "scrolled": false
   },
   "outputs": [
    {
     "data": {
      "text/plain": [
       "Text(0.5, 1.0, 'Расстояние до аэропорта')"
      ]
     },
     "execution_count": 25,
     "metadata": {},
     "output_type": "execute_result"
    },
    {
     "data": {
      "image/png": "[encoded data removed]",
      "text/plain": [
       "<Figure size 576x360 with 1 Axes>"
      ]
     },
     "metadata": {
      "needs_background": "light"
     },
     "output_type": "display_data"
    }
   ],
   "source": [
    "data.plot(y='airports_nearest',\n",
    "          kind='hist',\n",
    "          bins=30,\n",
    "          figsize=(8, 5),\n",
    "          range=(0, 30000),\n",
    "          grid=True          \n",
    "         )\n",
    "plt.title('Расстояние до аэропорта')"
   ]
  },
  {
   "cell_type": "markdown",
   "metadata": {},
   "source": [
    "Очень малая часть находится ближе 10км к аэропорту, в основном квартиры примерно равно удалены на расстояние от 10 до 28."
   ]
  },
  {
   "cell_type": "code",
   "execution_count": 26,
   "metadata": {
    "scrolled": false
   },
   "outputs": [
    {
     "data": {
      "text/plain": [
       "Text(0.5, 1.0, 'Расстояние до ближаёшего парка')"
      ]
     },
     "execution_count": 26,
     "metadata": {},
     "output_type": "execute_result"
    },
    {
     "data": {
      "image/png": "[encoded data removed]",
      "text/plain": [
       "<Figure size 576x360 with 1 Axes>"
      ]
     },
     "metadata": {
      "needs_background": "light"
     },
     "output_type": "display_data"
    }
   ],
   "source": [
    "data.plot(y='parks_nearest',\n",
    "          kind='hist',\n",
    "          bins=30,\n",
    "          figsize=(8, 5),\n",
    "          range=(0, 3000),\n",
    "          grid=True          \n",
    "         )\n",
    "plt.title('Расстояние до ближаёшего парка')"
   ]
  },
  {
   "cell_type": "markdown",
   "metadata": {},
   "source": [
    "Там, где есть неподалёку парки, они находятся в пешей доступности от жилья. Но количество таких квартир относительно всей выборки достаточно невелико."
   ]
  },
  {
   "cell_type": "code",
   "execution_count": 27,
   "metadata": {},
   "outputs": [
    {
     "data": {
      "text/plain": [
       "Text(0.5, 1.0, 'Месяц публикации')"
      ]
     },
     "execution_count": 27,
     "metadata": {},
     "output_type": "execute_result"
    },
    {
     "data": {
      "image/png": "[encoded data removed]",
      "text/plain": [
       "<Figure size 432x288 with 1 Axes>"
      ]
     },
     "metadata": {
      "needs_background": "light"
     },
     "output_type": "display_data"
    }
   ],
   "source": [
    "data['exposition_month'].hist()\n",
    "plt.title('Месяц публикации')"
   ]
  },
  {
   "cell_type": "code",
   "execution_count": 28,
   "metadata": {},
   "outputs": [
    {
     "data": {
      "text/plain": [
       "Text(0.5, 1.0, 'День публикации')"
      ]
     },
     "execution_count": 28,
     "metadata": {},
     "output_type": "execute_result"
    },
    {
     "data": {
      "image/png": "[encoded data removed]",
      "text/plain": [
       "<Figure size 432x288 with 1 Axes>"
      ]
     },
     "metadata": {
      "needs_background": "light"
     },
     "output_type": "display_data"
    }
   ],
   "source": [
    "data['exposition_weekday'].hist()\n",
    "plt.title('День публикации')"
   ]
  },
  {
   "cell_type": "markdown",
   "metadata": {},
   "source": [
    "Наиболее часто публикуют объявления в будние дни и зимние месяцы"
   ]
  },
  {
   "cell_type": "markdown",
   "metadata": {},
   "source": [
    "**Изучим, как быстро продавались квартиры**"
   ]
  },
  {
   "cell_type": "code",
   "execution_count": 29,
   "metadata": {},
   "outputs": [
    {
     "data": {
      "text/plain": [
       "Text(0.5, 1.0, 'Время продажи')"
      ]
     },
     "execution_count": 29,
     "metadata": {},
     "output_type": "execute_result"
    },
    {
     "data": {
      "image/png": "[encoded data removed]",
      "text/plain": [
       "<Figure size 576x360 with 1 Axes>"
      ]
     },
     "metadata": {
      "needs_background": "light"
     },
     "output_type": "display_data"
    }
   ],
   "source": [
    "data.plot(y='days_exposition',\n",
    "          kind='hist',\n",
    "          bins=100,\n",
    "          figsize=(8, 5),\n",
    "          range=(0, 500),\n",
    "          grid=True          \n",
    "         )\n",
    "plt.title('Время продажи')"
   ]
  },
  {
   "cell_type": "code",
   "execution_count": 30,
   "metadata": {},
   "outputs": [
    {
     "data": {
      "image/png": "[encoded data removed]",
      "text/plain": [
       "<Figure size 432x288 with 1 Axes>"
      ]
     },
     "metadata": {
      "needs_background": "light"
     },
     "output_type": "display_data"
    },
    {
     "name": "stdout",
     "output_type": "stream",
     "text": [
      "count    20518.000000\n",
      "mean       180.888634\n",
      "std        219.727988\n",
      "min          1.000000\n",
      "25%         45.000000\n",
      "50%         95.000000\n",
      "75%        232.000000\n",
      "max       1580.000000\n",
      "Name: days_exposition_not_0, dtype: float64\n"
     ]
    }
   ],
   "source": [
    "data['days_exposition_not_0'] = data.loc[data['days_exposition'] > 0, 'days_exposition'] #  добавим столбец, где нет объявлений меньше одного дня\n",
    "data.boxplot(column='days_exposition_not_0')\n",
    "plt.show()\n",
    "print(data['days_exposition_not_0'].describe())"
   ]
  },
  {
   "cell_type": "code",
   "execution_count": 31,
   "metadata": {},
   "outputs": [
    {
     "data": {
      "text/plain": [
       "Text(0.5, 1.0, 'Время продажи')"
      ]
     },
     "execution_count": 31,
     "metadata": {},
     "output_type": "execute_result"
    },
    {
     "data": {
      "image/png": "[encoded data removed]",
      "text/plain": [
       "<Figure size 576x360 with 1 Axes>"
      ]
     },
     "metadata": {
      "needs_background": "light"
     },
     "output_type": "display_data"
    }
   ],
   "source": [
    "data.plot(y='days_exposition',\n",
    "          kind='hist',\n",
    "          bins=100,\n",
    "          figsize=(8, 5),\n",
    "          range=(1, 250),\n",
    "          grid=True          \n",
    "         )\n",
    "plt.title('Время продажи')"
   ]
  },
  {
   "cell_type": "markdown",
   "metadata": {},
   "source": [
    "Среднее время продажи квартиры 180 дней, медиана - 95. Наибольшее число продаж происходит около 45 и 60 дней. Быстрой продажей можно считать до 45 дней, медленной - от 230 дней"
   ]
  },
  {
   "cell_type": "markdown",
   "metadata": {},
   "source": [
    "**Далее изучим, какие факторы больше всего влияют на общую стоимость недвижимости**"
   ]
  },
  {
   "cell_type": "code",
   "execution_count": 32,
   "metadata": {
    "scrolled": true
   },
   "outputs": [
    {
     "name": "stdout",
     "output_type": "stream",
     "text": [
      "Коэффициент корреляции: 0.6537402377092495\n"
     ]
    },
    {
     "data": {
      "image/png": "[encoded data removed]",
      "text/plain": [
       "<Figure size 432x288 with 1 Axes>"
      ]
     },
     "metadata": {
      "needs_background": "light"
     },
     "output_type": "display_data"
    }
   ],
   "source": [
    "price_total_area_pivot = data.pivot_table(index='total_area', values='last_price', aggfunc=['count', 'mean', 'median'])\n",
    "price_total_area_pivot.columns = ['count', 'mean', 'median']\n",
    "price_total_area_pivot.plot(y = 'median', style = 'o')\n",
    "plt.title('Зависимость цены от общей площади')\n",
    "print('Коэффициент корреляции:', data['last_price'].corr(data['total_area']))"
   ]
  },
  {
   "cell_type": "markdown",
   "metadata": {},
   "source": [
    "Существует несильная связь между ценой и общей площадью"
   ]
  },
  {
   "cell_type": "code",
   "execution_count": 33,
   "metadata": {},
   "outputs": [
    {
     "name": "stdout",
     "output_type": "stream",
     "text": [
      "Коэффициент корреляции: 0.567621030365706\n"
     ]
    },
    {
     "data": {
      "image/png": "[encoded data removed]",
      "text/plain": [
       "<Figure size 432x288 with 1 Axes>"
      ]
     },
     "metadata": {
      "needs_background": "light"
     },
     "output_type": "display_data"
    }
   ],
   "source": [
    "price_living_area_pivot = data.pivot_table(index='living_area', values='last_price', aggfunc=['count', 'mean', 'median'])\n",
    "price_living_area_pivot.columns = ['count', 'mean', 'median']\n",
    "price_living_area_pivot.plot(y = 'median', style = 'o')\n",
    "plt.title('Зависимость цены от жилой площади')\n",
    "print('Коэффициент корреляции:', data['last_price'].corr(data['living_area']))"
   ]
  },
  {
   "cell_type": "markdown",
   "metadata": {},
   "source": [
    "Цена также зависит от жилой площади, но не сильно"
   ]
  },
  {
   "cell_type": "code",
   "execution_count": 34,
   "metadata": {},
   "outputs": [
    {
     "name": "stdout",
     "output_type": "stream",
     "text": [
      "Коэффициент корреяции: 0.4670824019651631\n"
     ]
    },
    {
     "data": {
      "image/png": "[encoded data removed]",
      "text/plain": [
       "<Figure size 432x288 with 1 Axes>"
      ]
     },
     "metadata": {
      "needs_background": "light"
     },
     "output_type": "display_data"
    }
   ],
   "source": [
    "price_kitchen_area_pivot = data.pivot_table(index='kitchen_area', values='last_price', aggfunc=['count', 'mean', 'median'])\n",
    "price_kitchen_area_pivot.columns = ['count', 'mean', 'median']\n",
    "price_kitchen_area_pivot.plot(y = 'median', style = 'o')\n",
    "plt.title('Зависимость цены от площади кухни')\n",
    "print('Коэффициент корреяции:', data['last_price'].corr(data['kitchen_area']))"
   ]
  },
  {
   "cell_type": "markdown",
   "metadata": {},
   "source": [
    "Зависимость цены от площади кухни также невелика"
   ]
  },
  {
   "cell_type": "code",
   "execution_count": 35,
   "metadata": {},
   "outputs": [
    {
     "data": {
      "text/plain": [
       "<AxesSubplot:xlabel='rooms'>"
      ]
     },
     "execution_count": 35,
     "metadata": {},
     "output_type": "execute_result"
    },
    {
     "data": {
      "image/png": "[encoded data removed]",
      "text/plain": [
       "<Figure size 432x288 with 1 Axes>"
      ]
     },
     "metadata": {
      "needs_background": "light"
     },
     "output_type": "display_data"
    }
   ],
   "source": [
    "price_rooms_pivot = data.pivot_table(index='rooms', values='last_price', aggfunc=['count', 'mean', 'median'])\n",
    "price_rooms_pivot.columns = ['count', 'mean', 'median']\n",
    "price_rooms_pivot.query('rooms < 10').plot(y='median')"
   ]
  },
  {
   "cell_type": "markdown",
   "metadata": {},
   "source": [
    "Чем больше комнат, тем выше цена"
   ]
  },
  {
   "cell_type": "code",
   "execution_count": 36,
   "metadata": {
    "scrolled": true
   },
   "outputs": [
    {
     "data": {
      "text/plain": [
       "<AxesSubplot:xlabel='floor_category'>"
      ]
     },
     "execution_count": 36,
     "metadata": {},
     "output_type": "execute_result"
    },
    {
     "data": {
      "image/png": "[encoded data removed]",
      "text/plain": [
       "<Figure size 432x288 with 1 Axes>"
      ]
     },
     "metadata": {
      "needs_background": "light"
     },
     "output_type": "display_data"
    }
   ],
   "source": [
    "price_floor_category_pivot = data.pivot_table(index='floor_category', values='last_price', aggfunc=['count', 'mean', 'median'])\n",
    "price_floor_category_pivot.columns = ['count', 'mean', 'median']\n",
    "price_floor_category_pivot.plot(y='median')"
   ]
  },
  {
   "cell_type": "markdown",
   "metadata": {},
   "source": [
    "Дешевле всего квартиры, находящиеся на первом этаже"
   ]
  },
  {
   "cell_type": "code",
   "execution_count": 37,
   "metadata": {
    "scrolled": false
   },
   "outputs": [
    {
     "name": "stdout",
     "output_type": "stream",
     "text": [
      "Коэффициент корреяции(день): -0.007298628468845339\n",
      "Коэффициент корреяции(месяц): -0.0020768090748387014\n",
      "Коэффициент корреяции(год): 0.00864808448151074\n"
     ]
    },
    {
     "data": {
      "image/png": "[encoded data removed]",
      "text/plain": [
       "<Figure size 432x288 with 1 Axes>"
      ]
     },
     "metadata": {
      "needs_background": "light"
     },
     "output_type": "display_data"
    },
    {
     "data": {
      "image/png": "[encoded data removed]",
      "text/plain": [
       "<Figure size 432x288 with 1 Axes>"
      ]
     },
     "metadata": {
      "needs_background": "light"
     },
     "output_type": "display_data"
    },
    {
     "data": {
      "image/png": "[encoded data removed]",
      "text/plain": [
       "<Figure size 432x288 with 1 Axes>"
      ]
     },
     "metadata": {
      "needs_background": "light"
     },
     "output_type": "display_data"
    }
   ],
   "source": [
    "price_weekday_pivot = data.pivot_table(index='exposition_weekday', values='price_per_square', aggfunc=['count', 'mean', 'median'])\n",
    "price_weekday_pivot.columns = ['count', 'mean', 'median']\n",
    "price_weekday_pivot.plot(y='median')\n",
    "print('Коэффициент корреяции(день):', data['price_per_square'].corr(data['exposition_weekday']))\n",
    "\n",
    "price_month_pivot = data.pivot_table(index='exposition_month', values='price_per_square', aggfunc=['count', 'mean', 'median'])\n",
    "price_month_pivot.columns = ['count', 'mean', 'median']\n",
    "price_month_pivot.plot(y='median')\n",
    "print('Коэффициент корреяции(месяц):', data['price_per_square'].corr(data['exposition_month']))\n",
    "\n",
    "price_year_pivot = data.pivot_table(index='exposition_year', values='price_per_square', aggfunc=['count', 'mean', 'median'])\n",
    "price_year_pivot.columns = ['count', 'mean', 'median']\n",
    "price_year_pivot.plot(y='median')\n",
    "print('Коэффициент корреяции(год):', data['price_per_square'].corr(data['exposition_year']))"
   ]
  },
  {
   "cell_type": "markdown",
   "metadata": {},
   "source": [
    "По коэффициенту корреляции видно, что нет никакой заивисмости цены ни от дня недели, ни от месяца, ни от года в который выставили квартиру на продажу. По графикам можно сказать, что в летние месяцы цена ниже. Также цена в 2015-2018 годах сильно просела."
   ]
  },
  {
   "cell_type": "markdown",
   "metadata": {},
   "source": [
    "**Посчитаем среднюю цену одного квадратного метра в 10 населённых пунктах с наибольшим числом объявлений и определим населённые пункты с самой высокой и низкой стоимостью квадратного метра**"
   ]
  },
  {
   "cell_type": "code",
   "execution_count": 38,
   "metadata": {},
   "outputs": [
    {
     "data": {
      "text/html": [
       "<div>\n",
       "<style scoped>\n",
       "    .dataframe tbody tr th:only-of-type {\n",
       "        vertical-align: middle;\n",
       "    }\n",
       "\n",
       "    .dataframe tbody tr th {\n",
       "        vertical-align: top;\n",
       "    }\n",
       "\n",
       "    .dataframe thead th {\n",
       "        text-align: right;\n",
       "    }\n",
       "</style>\n",
       "<table border=\"1\" class=\"dataframe\">\n",
       "  <thead>\n",
       "    <tr style=\"text-align: right;\">\n",
       "      <th></th>\n",
       "      <th>count</th>\n",
       "      <th>mean</th>\n",
       "    </tr>\n",
       "    <tr>\n",
       "      <th>locality_name</th>\n",
       "      <th></th>\n",
       "      <th></th>\n",
       "    </tr>\n",
       "  </thead>\n",
       "  <tbody>\n",
       "    <tr>\n",
       "      <th>Санкт-Петербург</th>\n",
       "      <td>15720</td>\n",
       "      <td>114856.307596</td>\n",
       "    </tr>\n",
       "    <tr>\n",
       "      <th>Мурино</th>\n",
       "      <td>590</td>\n",
       "      <td>86087.512050</td>\n",
       "    </tr>\n",
       "    <tr>\n",
       "      <th>Кудрово</th>\n",
       "      <td>472</td>\n",
       "      <td>95324.930544</td>\n",
       "    </tr>\n",
       "    <tr>\n",
       "      <th>Шушары</th>\n",
       "      <td>440</td>\n",
       "      <td>78677.364217</td>\n",
       "    </tr>\n",
       "    <tr>\n",
       "      <th>Всеволожск</th>\n",
       "      <td>398</td>\n",
       "      <td>68654.473986</td>\n",
       "    </tr>\n",
       "    <tr>\n",
       "      <th>Пушкин</th>\n",
       "      <td>369</td>\n",
       "      <td>103125.819291</td>\n",
       "    </tr>\n",
       "    <tr>\n",
       "      <th>Колпино</th>\n",
       "      <td>338</td>\n",
       "      <td>75424.579098</td>\n",
       "    </tr>\n",
       "    <tr>\n",
       "      <th>Парголово</th>\n",
       "      <td>327</td>\n",
       "      <td>90175.913458</td>\n",
       "    </tr>\n",
       "    <tr>\n",
       "      <th>Гатчина</th>\n",
       "      <td>307</td>\n",
       "      <td>68746.146763</td>\n",
       "    </tr>\n",
       "    <tr>\n",
       "      <th>Выборг</th>\n",
       "      <td>237</td>\n",
       "      <td>58141.909153</td>\n",
       "    </tr>\n",
       "  </tbody>\n",
       "</table>\n",
       "</div>"
      ],
      "text/plain": [
       "                 count           mean\n",
       "locality_name                        \n",
       "Санкт-Петербург  15720  114856.307596\n",
       "Мурино             590   86087.512050\n",
       "Кудрово            472   95324.930544\n",
       "Шушары             440   78677.364217\n",
       "Всеволожск         398   68654.473986\n",
       "Пушкин             369  103125.819291\n",
       "Колпино            338   75424.579098\n",
       "Парголово          327   90175.913458\n",
       "Гатчина            307   68746.146763\n",
       "Выборг             237   58141.909153"
      ]
     },
     "metadata": {},
     "output_type": "display_data"
    }
   ],
   "source": [
    "top_10 = data.pivot_table(index='locality_name', values='price_per_square', aggfunc=['count', 'mean'])\n",
    "top_10.columns = ['count', 'mean']\n",
    "display(top_10.sort_values('count', ascending=False).head(10))"
   ]
  },
  {
   "cell_type": "markdown",
   "metadata": {},
   "source": [
    "Из десяти населённых пунктов с наибольшим числом объявлений самая выскоая цена за квадратный метр в Санкт-Петербурге, самая низкая - в Выборге."
   ]
  },
  {
   "cell_type": "markdown",
   "metadata": {},
   "source": [
    "**Теперь определим, как в Санкт-Петербурге влияет расстояние до центра города на стоимость.**"
   ]
  },
  {
   "cell_type": "code",
   "execution_count": 39,
   "metadata": {},
   "outputs": [
    {
     "data": {
      "text/html": [
       "<div>\n",
       "<style scoped>\n",
       "    .dataframe tbody tr th:only-of-type {\n",
       "        vertical-align: middle;\n",
       "    }\n",
       "\n",
       "    .dataframe tbody tr th {\n",
       "        vertical-align: top;\n",
       "    }\n",
       "\n",
       "    .dataframe thead th {\n",
       "        text-align: right;\n",
       "    }\n",
       "</style>\n",
       "<table border=\"1\" class=\"dataframe\">\n",
       "  <thead>\n",
       "    <tr style=\"text-align: right;\">\n",
       "      <th></th>\n",
       "      <th>price_per_square</th>\n",
       "    </tr>\n",
       "    <tr>\n",
       "      <th>city_centers_nearest_km</th>\n",
       "      <th></th>\n",
       "    </tr>\n",
       "  </thead>\n",
       "  <tbody>\n",
       "    <tr>\n",
       "      <th>0.0</th>\n",
       "      <td>187324.130319</td>\n",
       "    </tr>\n",
       "    <tr>\n",
       "      <th>1.0</th>\n",
       "      <td>166442.183762</td>\n",
       "    </tr>\n",
       "    <tr>\n",
       "      <th>2.0</th>\n",
       "      <td>146662.860056</td>\n",
       "    </tr>\n",
       "    <tr>\n",
       "      <th>3.0</th>\n",
       "      <td>129370.144145</td>\n",
       "    </tr>\n",
       "    <tr>\n",
       "      <th>4.0</th>\n",
       "      <td>137148.290679</td>\n",
       "    </tr>\n",
       "    <tr>\n",
       "      <th>...</th>\n",
       "      <td>...</td>\n",
       "    </tr>\n",
       "    <tr>\n",
       "      <th>60.0</th>\n",
       "      <td>56250.000000</td>\n",
       "    </tr>\n",
       "    <tr>\n",
       "      <th>61.0</th>\n",
       "      <td>60606.060606</td>\n",
       "    </tr>\n",
       "    <tr>\n",
       "      <th>62.0</th>\n",
       "      <td>65807.235421</td>\n",
       "    </tr>\n",
       "    <tr>\n",
       "      <th>64.0</th>\n",
       "      <td>67843.866171</td>\n",
       "    </tr>\n",
       "    <tr>\n",
       "      <th>65.0</th>\n",
       "      <td>74129.246613</td>\n",
       "    </tr>\n",
       "  </tbody>\n",
       "</table>\n",
       "<p>61 rows × 1 columns</p>\n",
       "</div>"
      ],
      "text/plain": [
       "                         price_per_square\n",
       "city_centers_nearest_km                  \n",
       "0.0                         187324.130319\n",
       "1.0                         166442.183762\n",
       "2.0                         146662.860056\n",
       "3.0                         129370.144145\n",
       "4.0                         137148.290679\n",
       "...                                   ...\n",
       "60.0                         56250.000000\n",
       "61.0                         60606.060606\n",
       "62.0                         65807.235421\n",
       "64.0                         67843.866171\n",
       "65.0                         74129.246613\n",
       "\n",
       "[61 rows x 1 columns]"
      ]
     },
     "metadata": {},
     "output_type": "display_data"
    },
    {
     "data": {
      "text/plain": [
       "<AxesSubplot:xlabel='city_centers_nearest_km'>"
      ]
     },
     "execution_count": 39,
     "metadata": {},
     "output_type": "execute_result"
    },
    {
     "data": {
      "image/png": "[encoded data removed]",
      "text/plain": [
       "<Figure size 432x288 with 1 Axes>"
      ]
     },
     "metadata": {
      "needs_background": "light"
     },
     "output_type": "display_data"
    }
   ],
   "source": [
    "spb_pivot = data.pivot_table(index='city_centers_nearest_km', values='price_per_square', aggfunc='mean')\n",
    "display(spb_pivot.sort_values('city_centers_nearest_km'))\n",
    "spb_pivot.sort_values('city_centers_nearest_km').plot(y='price_per_square')"
   ]
  },
  {
   "cell_type": "markdown",
   "metadata": {},
   "source": [
    "Всё достаточно очевидно: чем ближе к центру города, тем выше цена за квадратный метр."
   ]
  },
  {
   "cell_type": "markdown",
   "metadata": {},
   "source": [
    "### Общий вывод"
   ]
  },
  {
   "cell_type": "markdown",
   "metadata": {},
   "source": [
    "Данные для анализа содержат информацию о конкретной квартире, выставленной на продажу (добавленные пользователем и полученные автоматически).\n",
    "\n",
    "В процессе обработки были выявлены и удалены пропуски там, где это возможно. Пропуски возникли скорее всего по той причине, что картографические данные взяты из разных источников, а пользователи заполняли не все поля. Также были внесены изменения в названия стобцов, их типов данных, а ещё избавились от аномальных зачений, которые могли повлиять на качество исследования. Избавились от дубликатов в названиях населённых пунктов. Также в таблицу были добавлены столбцы с данными для удобства расчётов (например, цена за квадратный метр).\n",
    "\n",
    "Далее мы изучили рынок жилья. Исследование показало, что наибольшим спросом пользуются 1-3 комнатные квартиры небольшой площади 30-70 квадратных метров с ценой от 3 до 8 миллионов. Была определена средняя продолжительность продажи квартиры, составляющая 95 дней.\n",
    "\n",
    "Затем были выявлены зависимости между ценой объекта и некоторыми характеристиками. Влияние на стоимость оказывают: населённый пункт (самые дорогие квартиры в Санкт-Петербурге), приближенность к центру (чем ближе, тем выше цена), количество комнат, площадь (жилая и нежилая) и этаж. Дата публикации объявления слабо коррелирует с ценой, в определённую дату на неё скорее всего действуют другие факторы.\n"
   ]
  }
 ],
 "metadata": {
  "ExecuteTimeLog": [
   {
    "duration": 725,
    "start_time": "2022-11-24T10:35:13.150Z"
   },
   {
    "duration": 97,
    "start_time": "2022-11-24T10:35:40.396Z"
   },
   {
    "duration": 2290,
    "start_time": "2022-11-24T10:36:23.847Z"
   },
   {
    "duration": 106,
    "start_time": "2022-11-24T10:37:03.118Z"
   },
   {
    "duration": 2021,
    "start_time": "2022-11-24T10:37:33.248Z"
   },
   {
    "duration": 14,
    "start_time": "2022-11-24T10:41:47.472Z"
   },
   {
    "duration": 1374,
    "start_time": "2022-11-24T11:15:46.905Z"
   },
   {
    "duration": 23,
    "start_time": "2022-11-24T11:16:27.177Z"
   },
   {
    "duration": 19,
    "start_time": "2022-11-24T11:18:25.208Z"
   },
   {
    "duration": 18,
    "start_time": "2022-11-24T11:19:25.467Z"
   },
   {
    "duration": 153,
    "start_time": "2022-11-24T11:19:48.416Z"
   },
   {
    "duration": 31,
    "start_time": "2022-11-24T11:19:58.888Z"
   },
   {
    "duration": 18,
    "start_time": "2022-11-24T11:23:09.884Z"
   },
   {
    "duration": 853,
    "start_time": "2022-11-24T11:23:13.969Z"
   },
   {
    "duration": 19,
    "start_time": "2022-11-24T11:23:34.347Z"
   },
   {
    "duration": 17,
    "start_time": "2022-11-24T11:23:45.283Z"
   },
   {
    "duration": 18,
    "start_time": "2022-11-24T11:24:38.916Z"
   },
   {
    "duration": 20,
    "start_time": "2022-11-24T11:24:50.496Z"
   },
   {
    "duration": 19,
    "start_time": "2022-11-24T11:26:10.331Z"
   },
   {
    "duration": 16,
    "start_time": "2022-11-24T11:26:26.666Z"
   },
   {
    "duration": 116,
    "start_time": "2022-11-24T11:28:05.062Z"
   },
   {
    "duration": 7,
    "start_time": "2022-11-24T11:28:39.358Z"
   },
   {
    "duration": 52,
    "start_time": "2022-11-24T14:40:16.819Z"
   },
   {
    "duration": 639,
    "start_time": "2022-11-24T14:40:27.028Z"
   },
   {
    "duration": 16,
    "start_time": "2022-11-24T14:40:27.669Z"
   },
   {
    "duration": 10,
    "start_time": "2022-11-24T14:40:27.686Z"
   },
   {
    "duration": 26,
    "start_time": "2022-11-24T14:40:27.699Z"
   },
   {
    "duration": 125,
    "start_time": "2022-11-24T14:42:06.393Z"
   },
   {
    "duration": 76,
    "start_time": "2022-11-24T14:42:34.673Z"
   },
   {
    "duration": 152,
    "start_time": "2022-11-24T14:42:46.187Z"
   },
   {
    "duration": 123,
    "start_time": "2022-11-24T14:43:11.652Z"
   },
   {
    "duration": 17,
    "start_time": "2022-11-24T14:44:17.660Z"
   },
   {
    "duration": 5,
    "start_time": "2022-11-24T14:44:44.592Z"
   },
   {
    "duration": 7,
    "start_time": "2022-11-24T14:45:05.019Z"
   },
   {
    "duration": 6,
    "start_time": "2022-11-24T14:45:31.319Z"
   },
   {
    "duration": 7,
    "start_time": "2022-11-24T14:45:40.367Z"
   },
   {
    "duration": 8,
    "start_time": "2022-11-24T14:45:46.623Z"
   },
   {
    "duration": 5,
    "start_time": "2022-11-24T14:45:56.604Z"
   },
   {
    "duration": 7,
    "start_time": "2022-11-24T14:46:11.831Z"
   },
   {
    "duration": 9,
    "start_time": "2022-11-24T14:46:19.789Z"
   },
   {
    "duration": 7,
    "start_time": "2022-11-24T14:46:28.694Z"
   },
   {
    "duration": 7,
    "start_time": "2022-11-24T14:46:36.754Z"
   },
   {
    "duration": 4,
    "start_time": "2022-11-24T14:47:00.790Z"
   },
   {
    "duration": 5,
    "start_time": "2022-11-24T14:47:57.484Z"
   },
   {
    "duration": 130,
    "start_time": "2022-11-24T14:51:09.721Z"
   },
   {
    "duration": 10,
    "start_time": "2022-11-24T15:00:21.458Z"
   },
   {
    "duration": 11,
    "start_time": "2022-11-24T15:00:31.136Z"
   },
   {
    "duration": 116,
    "start_time": "2022-11-24T15:00:50.409Z"
   },
   {
    "duration": 67,
    "start_time": "2022-11-24T15:01:01.123Z"
   },
   {
    "duration": 9,
    "start_time": "2022-11-24T15:01:08.423Z"
   },
   {
    "duration": 10,
    "start_time": "2022-11-24T15:01:14.539Z"
   },
   {
    "duration": 9,
    "start_time": "2022-11-24T15:05:37.247Z"
   },
   {
    "duration": 13,
    "start_time": "2022-11-24T15:12:18.750Z"
   },
   {
    "duration": 16,
    "start_time": "2022-11-24T15:12:29.432Z"
   },
   {
    "duration": 9,
    "start_time": "2022-11-24T15:14:10.930Z"
   },
   {
    "duration": 18,
    "start_time": "2022-11-24T15:20:24.190Z"
   },
   {
    "duration": 29,
    "start_time": "2022-11-24T15:29:12.520Z"
   },
   {
    "duration": 77,
    "start_time": "2022-11-24T15:29:20.596Z"
   },
   {
    "duration": 30,
    "start_time": "2022-11-24T15:35:08.687Z"
   },
   {
    "duration": 118,
    "start_time": "2022-11-24T15:45:20.704Z"
   },
   {
    "duration": 14,
    "start_time": "2022-11-24T15:45:20.824Z"
   },
   {
    "duration": 31,
    "start_time": "2022-11-24T15:45:20.840Z"
   },
   {
    "duration": 602,
    "start_time": "2022-11-24T15:45:29.425Z"
   },
   {
    "duration": 24,
    "start_time": "2022-11-24T15:45:30.029Z"
   },
   {
    "duration": 25,
    "start_time": "2022-11-24T15:45:30.055Z"
   },
   {
    "duration": 625,
    "start_time": "2022-11-24T15:48:00.238Z"
   },
   {
    "duration": 134,
    "start_time": "2022-11-24T15:48:43.796Z"
   },
   {
    "duration": 311,
    "start_time": "2022-11-24T15:48:53.457Z"
   },
   {
    "duration": 160,
    "start_time": "2022-11-24T15:48:58.525Z"
   },
   {
    "duration": 166,
    "start_time": "2022-11-24T15:49:06.146Z"
   },
   {
    "duration": 155,
    "start_time": "2022-11-24T15:49:15.370Z"
   },
   {
    "duration": 154,
    "start_time": "2022-11-24T15:51:05.393Z"
   },
   {
    "duration": 135,
    "start_time": "2022-11-24T15:51:25.593Z"
   },
   {
    "duration": 169,
    "start_time": "2022-11-24T15:51:46.158Z"
   },
   {
    "duration": 8,
    "start_time": "2022-11-24T15:52:49.760Z"
   },
   {
    "duration": 11,
    "start_time": "2022-11-24T15:53:05.556Z"
   },
   {
    "duration": 24,
    "start_time": "2022-11-24T15:58:26.703Z"
   },
   {
    "duration": 71,
    "start_time": "2022-11-24T19:07:24.873Z"
   },
   {
    "duration": 798,
    "start_time": "2022-11-24T19:07:35.416Z"
   },
   {
    "duration": 20,
    "start_time": "2022-11-24T19:07:36.216Z"
   },
   {
    "duration": 28,
    "start_time": "2022-11-24T19:07:36.238Z"
   },
   {
    "duration": 11,
    "start_time": "2022-11-24T19:07:36.269Z"
   },
   {
    "duration": 9,
    "start_time": "2022-11-24T19:07:49.356Z"
   },
   {
    "duration": 520,
    "start_time": "2022-11-24T19:12:37.194Z"
   },
   {
    "duration": 16,
    "start_time": "2022-11-24T19:12:37.716Z"
   },
   {
    "duration": 961,
    "start_time": "2022-11-24T19:12:37.734Z"
   },
   {
    "duration": 0,
    "start_time": "2022-11-24T19:12:38.696Z"
   },
   {
    "duration": 536,
    "start_time": "2022-11-24T19:13:07.602Z"
   },
   {
    "duration": 16,
    "start_time": "2022-11-24T19:13:08.140Z"
   },
   {
    "duration": 957,
    "start_time": "2022-11-24T19:13:08.158Z"
   },
   {
    "duration": 0,
    "start_time": "2022-11-24T19:13:09.117Z"
   },
   {
    "duration": 531,
    "start_time": "2022-11-24T19:13:32.992Z"
   },
   {
    "duration": 18,
    "start_time": "2022-11-24T19:13:33.525Z"
   },
   {
    "duration": 25,
    "start_time": "2022-11-24T19:13:33.545Z"
   },
   {
    "duration": 11,
    "start_time": "2022-11-24T19:13:33.572Z"
   },
   {
    "duration": 9,
    "start_time": "2022-11-24T19:31:44.634Z"
   },
   {
    "duration": 12,
    "start_time": "2022-11-24T19:32:02.201Z"
   },
   {
    "duration": 18,
    "start_time": "2022-11-24T19:32:17.598Z"
   },
   {
    "duration": 38,
    "start_time": "2022-11-24T19:32:32.979Z"
   },
   {
    "duration": 101,
    "start_time": "2022-11-24T19:33:39.241Z"
   },
   {
    "duration": 44,
    "start_time": "2022-11-24T19:33:52.062Z"
   },
   {
    "duration": 53,
    "start_time": "2022-11-24T19:34:53.133Z"
   },
   {
    "duration": 59,
    "start_time": "2022-11-24T19:35:39.956Z"
   },
   {
    "duration": 47,
    "start_time": "2022-11-24T19:36:13.912Z"
   },
   {
    "duration": 46,
    "start_time": "2022-11-24T19:36:26.672Z"
   },
   {
    "duration": 61,
    "start_time": "2022-11-24T19:37:59.117Z"
   },
   {
    "duration": 546,
    "start_time": "2022-11-26T10:23:05.434Z"
   },
   {
    "duration": 14,
    "start_time": "2022-11-26T10:23:05.982Z"
   },
   {
    "duration": 27,
    "start_time": "2022-11-26T10:23:05.998Z"
   },
   {
    "duration": 65,
    "start_time": "2022-11-26T10:23:06.027Z"
   },
   {
    "duration": 0,
    "start_time": "2022-11-26T10:23:06.093Z"
   },
   {
    "duration": 7,
    "start_time": "2022-11-26T10:23:48.405Z"
   },
   {
    "duration": 11,
    "start_time": "2022-11-26T10:23:51.577Z"
   },
   {
    "duration": 10,
    "start_time": "2022-11-26T10:23:58.111Z"
   },
   {
    "duration": 145,
    "start_time": "2022-11-26T10:24:35.752Z"
   },
   {
    "duration": 125,
    "start_time": "2022-11-26T10:25:20.218Z"
   },
   {
    "duration": 125,
    "start_time": "2022-11-26T10:25:51.421Z"
   },
   {
    "duration": 127,
    "start_time": "2022-11-26T10:26:19.859Z"
   },
   {
    "duration": 122,
    "start_time": "2022-11-26T10:26:25.923Z"
   },
   {
    "duration": 123,
    "start_time": "2022-11-26T10:28:34.443Z"
   },
   {
    "duration": 116,
    "start_time": "2022-11-26T10:28:52.053Z"
   },
   {
    "duration": 144,
    "start_time": "2022-11-26T10:29:06.808Z"
   },
   {
    "duration": 131,
    "start_time": "2022-11-26T10:29:23.747Z"
   },
   {
    "duration": 129,
    "start_time": "2022-11-26T10:30:47.717Z"
   },
   {
    "duration": 116,
    "start_time": "2022-11-26T10:31:09.688Z"
   },
   {
    "duration": 114,
    "start_time": "2022-11-26T10:31:28.169Z"
   },
   {
    "duration": 140,
    "start_time": "2022-11-26T10:31:41.515Z"
   },
   {
    "duration": 120,
    "start_time": "2022-11-26T10:32:03.036Z"
   },
   {
    "duration": 132,
    "start_time": "2022-11-26T10:32:08.168Z"
   },
   {
    "duration": 57,
    "start_time": "2022-11-26T10:33:39.913Z"
   },
   {
    "duration": 75,
    "start_time": "2022-11-26T10:33:59.786Z"
   },
   {
    "duration": 69,
    "start_time": "2022-11-26T10:34:19.526Z"
   },
   {
    "duration": 58,
    "start_time": "2022-11-26T10:34:30.889Z"
   },
   {
    "duration": 460,
    "start_time": "2022-11-26T10:34:48.558Z"
   },
   {
    "duration": 14,
    "start_time": "2022-11-26T10:34:49.020Z"
   },
   {
    "duration": 24,
    "start_time": "2022-11-26T10:34:49.036Z"
   },
   {
    "duration": 78,
    "start_time": "2022-11-26T10:34:49.062Z"
   },
   {
    "duration": 60,
    "start_time": "2022-11-26T10:36:11.644Z"
   },
   {
    "duration": 9,
    "start_time": "2022-11-26T10:48:25.162Z"
   },
   {
    "duration": 95,
    "start_time": "2022-11-26T10:49:04.287Z"
   },
   {
    "duration": 13,
    "start_time": "2022-11-26T10:49:14.122Z"
   },
   {
    "duration": 66,
    "start_time": "2022-11-26T10:49:47.915Z"
   },
   {
    "duration": 15,
    "start_time": "2022-11-26T10:49:51.703Z"
   },
   {
    "duration": 12,
    "start_time": "2022-11-26T10:50:01.441Z"
   },
   {
    "duration": 12,
    "start_time": "2022-11-26T10:50:09.639Z"
   },
   {
    "duration": 14,
    "start_time": "2022-11-26T10:50:27.134Z"
   },
   {
    "duration": 14,
    "start_time": "2022-11-26T10:50:46.145Z"
   },
   {
    "duration": 10,
    "start_time": "2022-11-26T10:51:16.017Z"
   },
   {
    "duration": 11,
    "start_time": "2022-11-26T10:51:27.616Z"
   },
   {
    "duration": 11,
    "start_time": "2022-11-26T10:51:39.759Z"
   },
   {
    "duration": 137,
    "start_time": "2022-11-26T11:02:10.467Z"
   },
   {
    "duration": 90,
    "start_time": "2022-11-26T11:02:21.916Z"
   },
   {
    "duration": 68,
    "start_time": "2022-11-26T11:02:57.735Z"
   },
   {
    "duration": 64,
    "start_time": "2022-11-26T11:03:19.524Z"
   },
   {
    "duration": 73,
    "start_time": "2022-11-26T11:03:36.750Z"
   },
   {
    "duration": 64,
    "start_time": "2022-11-26T11:03:40.334Z"
   },
   {
    "duration": 7,
    "start_time": "2022-11-26T11:04:20.725Z"
   },
   {
    "duration": 9,
    "start_time": "2022-11-26T11:04:44.846Z"
   },
   {
    "duration": 15,
    "start_time": "2022-11-26T11:04:49.094Z"
   },
   {
    "duration": 9,
    "start_time": "2022-11-26T11:08:21.461Z"
   },
   {
    "duration": 508,
    "start_time": "2022-11-26T11:10:33.217Z"
   },
   {
    "duration": 15,
    "start_time": "2022-11-26T11:10:33.727Z"
   },
   {
    "duration": 27,
    "start_time": "2022-11-26T11:10:33.743Z"
   },
   {
    "duration": 88,
    "start_time": "2022-11-26T11:10:33.771Z"
   },
   {
    "duration": 8,
    "start_time": "2022-11-26T11:10:33.862Z"
   },
   {
    "duration": 90,
    "start_time": "2022-11-26T11:20:57.355Z"
   },
   {
    "duration": 20,
    "start_time": "2022-11-26T11:21:51.723Z"
   },
   {
    "duration": 4,
    "start_time": "2022-11-26T11:22:33.415Z"
   },
   {
    "duration": 67,
    "start_time": "2022-11-26T11:22:53.665Z"
   },
   {
    "duration": 158,
    "start_time": "2022-11-26T11:27:31.787Z"
   },
   {
    "duration": 75,
    "start_time": "2022-11-26T11:27:44.404Z"
   },
   {
    "duration": 533,
    "start_time": "2022-11-26T11:27:53.212Z"
   },
   {
    "duration": 15,
    "start_time": "2022-11-26T11:27:53.747Z"
   },
   {
    "duration": 25,
    "start_time": "2022-11-26T11:27:53.763Z"
   },
   {
    "duration": 86,
    "start_time": "2022-11-26T11:27:53.790Z"
   },
   {
    "duration": 151,
    "start_time": "2022-11-26T11:27:53.879Z"
   },
   {
    "duration": 68,
    "start_time": "2022-11-26T11:28:24.645Z"
   },
   {
    "duration": 76,
    "start_time": "2022-11-26T11:28:36.912Z"
   },
   {
    "duration": 74,
    "start_time": "2022-11-26T11:30:50.876Z"
   },
   {
    "duration": 501,
    "start_time": "2022-11-26T11:32:35.828Z"
   },
   {
    "duration": 207,
    "start_time": "2022-11-26T11:32:59.795Z"
   },
   {
    "duration": 525,
    "start_time": "2022-11-26T11:33:13.324Z"
   },
   {
    "duration": 17,
    "start_time": "2022-11-26T11:33:13.851Z"
   },
   {
    "duration": 31,
    "start_time": "2022-11-26T11:33:13.870Z"
   },
   {
    "duration": 66,
    "start_time": "2022-11-26T11:33:13.903Z"
   },
   {
    "duration": 445,
    "start_time": "2022-11-26T11:33:13.970Z"
   },
   {
    "duration": 763,
    "start_time": "2022-11-26T14:05:07.854Z"
   },
   {
    "duration": 16,
    "start_time": "2022-11-26T14:05:08.619Z"
   },
   {
    "duration": 28,
    "start_time": "2022-11-26T14:05:08.637Z"
   },
   {
    "duration": 69,
    "start_time": "2022-11-26T14:05:08.667Z"
   },
   {
    "duration": 3,
    "start_time": "2022-11-26T14:05:08.754Z"
   },
   {
    "duration": 8,
    "start_time": "2022-11-26T14:05:33.044Z"
   },
   {
    "duration": 131,
    "start_time": "2022-11-26T14:07:05.314Z"
   },
   {
    "duration": 73,
    "start_time": "2022-11-26T14:07:17.379Z"
   },
   {
    "duration": 76,
    "start_time": "2022-11-26T14:07:31.011Z"
   },
   {
    "duration": 83,
    "start_time": "2022-11-26T14:08:16.511Z"
   },
   {
    "duration": 74,
    "start_time": "2022-11-26T14:08:40.132Z"
   },
   {
    "duration": 86,
    "start_time": "2022-11-26T14:09:01.908Z"
   },
   {
    "duration": 380,
    "start_time": "2022-11-26T14:09:25.189Z"
   },
   {
    "duration": 347,
    "start_time": "2022-11-26T14:09:48.234Z"
   },
   {
    "duration": 46,
    "start_time": "2022-11-26T14:09:55.837Z"
   },
   {
    "duration": 442,
    "start_time": "2022-11-26T14:10:05.796Z"
   },
   {
    "duration": 72,
    "start_time": "2022-11-26T14:11:17.318Z"
   },
   {
    "duration": 77,
    "start_time": "2022-11-26T14:11:23.310Z"
   },
   {
    "duration": 78,
    "start_time": "2022-11-26T14:11:31.093Z"
   },
   {
    "duration": 12,
    "start_time": "2022-11-26T14:11:48.132Z"
   },
   {
    "duration": 128,
    "start_time": "2022-11-26T14:11:55.617Z"
   },
   {
    "duration": 15,
    "start_time": "2022-11-26T14:11:58.569Z"
   },
   {
    "duration": 536,
    "start_time": "2022-11-26T14:12:08.654Z"
   },
   {
    "duration": 16,
    "start_time": "2022-11-26T14:12:09.192Z"
   },
   {
    "duration": 26,
    "start_time": "2022-11-26T14:12:09.209Z"
   },
   {
    "duration": 74,
    "start_time": "2022-11-26T14:12:09.254Z"
   },
   {
    "duration": 34,
    "start_time": "2022-11-26T14:12:09.330Z"
   },
   {
    "duration": 139,
    "start_time": "2022-11-26T14:12:27.718Z"
   },
   {
    "duration": 90,
    "start_time": "2022-11-26T14:12:30.507Z"
   },
   {
    "duration": 19,
    "start_time": "2022-11-26T14:12:41.433Z"
   },
   {
    "duration": 13,
    "start_time": "2022-11-26T14:12:52.298Z"
   },
   {
    "duration": 506,
    "start_time": "2022-11-26T14:12:57.292Z"
   },
   {
    "duration": 14,
    "start_time": "2022-11-26T14:12:57.800Z"
   },
   {
    "duration": 37,
    "start_time": "2022-11-26T14:12:57.816Z"
   },
   {
    "duration": 89,
    "start_time": "2022-11-26T14:12:57.855Z"
   },
   {
    "duration": 17,
    "start_time": "2022-11-26T14:12:57.946Z"
   },
   {
    "duration": 12,
    "start_time": "2022-11-26T14:13:12.997Z"
   },
   {
    "duration": 60,
    "start_time": "2022-11-26T14:14:32.601Z"
   },
   {
    "duration": 69,
    "start_time": "2022-11-26T14:14:47.490Z"
   },
   {
    "duration": 16,
    "start_time": "2022-11-26T14:14:59.006Z"
   },
   {
    "duration": 530,
    "start_time": "2022-11-26T14:15:52.578Z"
   },
   {
    "duration": 17,
    "start_time": "2022-11-26T14:15:53.111Z"
   },
   {
    "duration": 51,
    "start_time": "2022-11-26T14:15:53.131Z"
   },
   {
    "duration": 83,
    "start_time": "2022-11-26T14:15:53.184Z"
   },
   {
    "duration": 15,
    "start_time": "2022-11-26T14:15:53.268Z"
   },
   {
    "duration": 7,
    "start_time": "2022-11-26T14:17:30.842Z"
   },
   {
    "duration": 23,
    "start_time": "2022-11-26T14:21:14.391Z"
   },
   {
    "duration": 7,
    "start_time": "2022-11-26T14:21:46.986Z"
   },
   {
    "duration": 8,
    "start_time": "2022-11-26T14:21:53.640Z"
   },
   {
    "duration": 6,
    "start_time": "2022-11-26T14:21:58.555Z"
   },
   {
    "duration": 6,
    "start_time": "2022-11-26T14:22:04.786Z"
   },
   {
    "duration": 5,
    "start_time": "2022-11-26T14:24:59.685Z"
   },
   {
    "duration": 38,
    "start_time": "2022-11-26T14:25:05.935Z"
   },
   {
    "duration": 8,
    "start_time": "2022-11-26T14:36:31.137Z"
   },
   {
    "duration": 7,
    "start_time": "2022-11-26T14:36:44.432Z"
   },
   {
    "duration": 9,
    "start_time": "2022-11-26T14:36:49.114Z"
   },
   {
    "duration": 9,
    "start_time": "2022-11-26T14:36:55.042Z"
   },
   {
    "duration": 9,
    "start_time": "2022-11-26T14:37:11.567Z"
   },
   {
    "duration": 45,
    "start_time": "2022-11-26T14:37:55.471Z"
   },
   {
    "duration": 80,
    "start_time": "2022-11-26T14:38:00.003Z"
   },
   {
    "duration": 17,
    "start_time": "2022-11-26T14:38:06.148Z"
   },
   {
    "duration": 9,
    "start_time": "2022-11-26T14:38:11.471Z"
   },
   {
    "duration": 9,
    "start_time": "2022-11-26T14:38:15.875Z"
   },
   {
    "duration": 9,
    "start_time": "2022-11-26T14:38:19.771Z"
   },
   {
    "duration": 9,
    "start_time": "2022-11-26T14:38:23.532Z"
   },
   {
    "duration": 48,
    "start_time": "2022-11-26T14:38:27.302Z"
   },
   {
    "duration": 16,
    "start_time": "2022-11-26T14:39:39.217Z"
   },
   {
    "duration": 6,
    "start_time": "2022-11-26T14:40:57.268Z"
   },
   {
    "duration": 4,
    "start_time": "2022-11-26T14:41:01.212Z"
   },
   {
    "duration": 7,
    "start_time": "2022-11-26T14:41:09.591Z"
   },
   {
    "duration": 69,
    "start_time": "2022-11-26T14:49:40.756Z"
   },
   {
    "duration": 8,
    "start_time": "2022-11-26T14:49:46.361Z"
   },
   {
    "duration": 51,
    "start_time": "2022-11-26T14:49:49.235Z"
   },
   {
    "duration": 13,
    "start_time": "2022-11-26T14:50:52.194Z"
   },
   {
    "duration": 58,
    "start_time": "2022-11-26T14:50:54.875Z"
   },
   {
    "duration": 1120,
    "start_time": "2022-11-27T15:05:19.035Z"
   },
   {
    "duration": 14,
    "start_time": "2022-11-27T15:05:20.156Z"
   },
   {
    "duration": 24,
    "start_time": "2022-11-27T15:05:20.172Z"
   },
   {
    "duration": 78,
    "start_time": "2022-11-27T15:05:20.198Z"
   },
   {
    "duration": 12,
    "start_time": "2022-11-27T15:05:20.278Z"
   },
   {
    "duration": 358,
    "start_time": "2022-11-27T15:05:20.292Z"
   },
   {
    "duration": 129,
    "start_time": "2022-11-27T15:05:49.123Z"
   },
   {
    "duration": 302,
    "start_time": "2022-11-27T15:05:51.854Z"
   },
   {
    "duration": 292,
    "start_time": "2022-11-27T15:11:38.297Z"
   },
   {
    "duration": 354,
    "start_time": "2022-11-27T15:12:00.009Z"
   },
   {
    "duration": 327,
    "start_time": "2022-11-27T15:12:20.051Z"
   },
   {
    "duration": 309,
    "start_time": "2022-11-27T15:12:28.543Z"
   },
   {
    "duration": 519,
    "start_time": "2022-11-27T15:16:34.042Z"
   },
   {
    "duration": 150,
    "start_time": "2022-11-27T15:16:45.310Z"
   },
   {
    "duration": 226,
    "start_time": "2022-11-27T15:16:50.334Z"
   },
   {
    "duration": 26,
    "start_time": "2022-11-27T15:18:43.169Z"
   },
   {
    "duration": 282,
    "start_time": "2022-11-27T15:18:50.035Z"
   },
   {
    "duration": 301,
    "start_time": "2022-11-27T15:20:11.037Z"
   },
   {
    "duration": 382,
    "start_time": "2022-11-27T15:20:26.276Z"
   },
   {
    "duration": 164,
    "start_time": "2022-11-27T15:20:37.044Z"
   },
   {
    "duration": 288,
    "start_time": "2022-11-27T15:20:39.908Z"
   },
   {
    "duration": 298,
    "start_time": "2022-11-27T15:20:45.234Z"
   },
   {
    "duration": 302,
    "start_time": "2022-11-27T15:20:53.375Z"
   },
   {
    "duration": 42,
    "start_time": "2022-11-27T15:37:39.217Z"
   },
   {
    "duration": 410,
    "start_time": "2022-11-27T15:37:57.006Z"
   },
   {
    "duration": 277,
    "start_time": "2022-11-27T15:38:06.337Z"
   },
   {
    "duration": 277,
    "start_time": "2022-11-27T15:38:18.743Z"
   },
   {
    "duration": 293,
    "start_time": "2022-11-27T15:38:30.834Z"
   },
   {
    "duration": 282,
    "start_time": "2022-11-27T15:40:22.955Z"
   },
   {
    "duration": 312,
    "start_time": "2022-11-27T15:40:46.687Z"
   },
   {
    "duration": 457,
    "start_time": "2022-11-27T15:40:56.495Z"
   },
   {
    "duration": 292,
    "start_time": "2022-11-27T15:41:12.603Z"
   },
   {
    "duration": 293,
    "start_time": "2022-11-27T15:42:51.199Z"
   },
   {
    "duration": 307,
    "start_time": "2022-11-27T15:43:08.436Z"
   },
   {
    "duration": 317,
    "start_time": "2022-11-27T15:43:26.049Z"
   },
   {
    "duration": 320,
    "start_time": "2022-11-27T15:43:30.629Z"
   },
   {
    "duration": 453,
    "start_time": "2022-11-27T15:43:33.301Z"
   },
   {
    "duration": 309,
    "start_time": "2022-11-27T15:43:36.290Z"
   },
   {
    "duration": 265,
    "start_time": "2022-11-27T15:43:39.344Z"
   },
   {
    "duration": 301,
    "start_time": "2022-11-27T15:43:46.324Z"
   },
   {
    "duration": 108,
    "start_time": "2022-11-27T15:46:23.203Z"
   },
   {
    "duration": 46,
    "start_time": "2022-11-27T15:47:02.246Z"
   },
   {
    "duration": 309,
    "start_time": "2022-11-27T15:47:13.790Z"
   },
   {
    "duration": 321,
    "start_time": "2022-11-27T15:47:32.022Z"
   },
   {
    "duration": 292,
    "start_time": "2022-11-27T15:47:45.194Z"
   },
   {
    "duration": 329,
    "start_time": "2022-11-27T15:48:50.662Z"
   },
   {
    "duration": 466,
    "start_time": "2022-11-27T15:49:17.001Z"
   },
   {
    "duration": 292,
    "start_time": "2022-11-27T15:49:28.138Z"
   },
   {
    "duration": 334,
    "start_time": "2022-11-27T15:49:42.516Z"
   },
   {
    "duration": 742,
    "start_time": "2022-11-27T15:49:54.568Z"
   },
   {
    "duration": 14,
    "start_time": "2022-11-27T15:49:55.312Z"
   },
   {
    "duration": 44,
    "start_time": "2022-11-27T15:49:55.328Z"
   },
   {
    "duration": 69,
    "start_time": "2022-11-27T15:49:55.374Z"
   },
   {
    "duration": 12,
    "start_time": "2022-11-27T15:49:55.444Z"
   },
   {
    "duration": 290,
    "start_time": "2022-11-27T15:49:55.457Z"
   },
   {
    "duration": 347,
    "start_time": "2022-11-27T15:49:55.748Z"
   },
   {
    "duration": 289,
    "start_time": "2022-11-27T15:49:56.096Z"
   },
   {
    "duration": 311,
    "start_time": "2022-11-27T15:49:56.387Z"
   },
   {
    "duration": 345,
    "start_time": "2022-11-27T15:49:56.700Z"
   },
   {
    "duration": 48,
    "start_time": "2022-11-27T15:50:19.137Z"
   },
   {
    "duration": 912,
    "start_time": "2022-11-27T15:51:14.449Z"
   },
   {
    "duration": 296,
    "start_time": "2022-11-27T15:51:17.966Z"
   },
   {
    "duration": 170,
    "start_time": "2022-11-27T15:51:28.360Z"
   },
   {
    "duration": 194,
    "start_time": "2022-11-27T15:51:33.701Z"
   },
   {
    "duration": 271,
    "start_time": "2022-11-27T15:51:42.711Z"
   },
   {
    "duration": 294,
    "start_time": "2022-11-27T15:53:34.973Z"
   },
   {
    "duration": 496,
    "start_time": "2022-11-27T15:53:41.167Z"
   },
   {
    "duration": 317,
    "start_time": "2022-11-27T15:54:02.918Z"
   },
   {
    "duration": 171,
    "start_time": "2022-11-27T15:54:08.094Z"
   },
   {
    "duration": 199,
    "start_time": "2022-11-27T15:54:55.110Z"
   },
   {
    "duration": 181,
    "start_time": "2022-11-27T15:55:01.458Z"
   },
   {
    "duration": 378,
    "start_time": "2022-11-27T15:57:09.906Z"
   },
   {
    "duration": 313,
    "start_time": "2022-11-27T15:57:18.114Z"
   },
   {
    "duration": 250,
    "start_time": "2022-11-27T15:57:27.139Z"
   },
   {
    "duration": 172,
    "start_time": "2022-11-27T15:57:31.580Z"
   },
   {
    "duration": 215,
    "start_time": "2022-11-27T15:57:41.866Z"
   },
   {
    "duration": 216,
    "start_time": "2022-11-27T15:57:45.106Z"
   },
   {
    "duration": 48,
    "start_time": "2022-11-27T15:58:34.539Z"
   },
   {
    "duration": 17,
    "start_time": "2022-11-27T15:59:35.613Z"
   },
   {
    "duration": 187,
    "start_time": "2022-11-27T16:00:58.327Z"
   },
   {
    "duration": 201,
    "start_time": "2022-11-27T16:01:01.606Z"
   },
   {
    "duration": 292,
    "start_time": "2022-11-27T16:01:07.645Z"
   },
   {
    "duration": 192,
    "start_time": "2022-11-27T16:01:16.964Z"
   },
   {
    "duration": 164,
    "start_time": "2022-11-27T16:01:25.158Z"
   },
   {
    "duration": 177,
    "start_time": "2022-11-27T16:01:36.522Z"
   },
   {
    "duration": 15,
    "start_time": "2022-11-27T16:02:45.406Z"
   },
   {
    "duration": 15,
    "start_time": "2022-11-27T16:02:55.272Z"
   },
   {
    "duration": 1515,
    "start_time": "2022-11-27T18:49:02.998Z"
   },
   {
    "duration": 16,
    "start_time": "2022-11-27T18:49:04.516Z"
   },
   {
    "duration": 26,
    "start_time": "2022-11-27T18:49:04.535Z"
   },
   {
    "duration": 91,
    "start_time": "2022-11-27T18:49:04.564Z"
   },
   {
    "duration": 14,
    "start_time": "2022-11-27T18:49:04.658Z"
   },
   {
    "duration": 319,
    "start_time": "2022-11-27T18:49:04.674Z"
   },
   {
    "duration": 355,
    "start_time": "2022-11-27T18:49:04.994Z"
   },
   {
    "duration": 314,
    "start_time": "2022-11-27T18:49:05.352Z"
   },
   {
    "duration": 309,
    "start_time": "2022-11-27T18:49:05.668Z"
   },
   {
    "duration": 335,
    "start_time": "2022-11-27T18:49:05.980Z"
   },
   {
    "duration": 219,
    "start_time": "2022-11-27T18:49:06.316Z"
   },
   {
    "duration": 250,
    "start_time": "2022-11-27T18:49:06.537Z"
   },
   {
    "duration": 213,
    "start_time": "2022-11-27T18:49:06.789Z"
   },
   {
    "duration": 403,
    "start_time": "2022-11-27T18:50:27.921Z"
   },
   {
    "duration": 75,
    "start_time": "2022-11-27T18:50:51.775Z"
   },
   {
    "duration": 10,
    "start_time": "2022-11-27T18:52:48.210Z"
   },
   {
    "duration": 5,
    "start_time": "2022-11-27T18:53:37.250Z"
   },
   {
    "duration": 735,
    "start_time": "2022-11-27T18:53:50.057Z"
   },
   {
    "duration": 8,
    "start_time": "2022-11-27T18:55:22.598Z"
   },
   {
    "duration": 13,
    "start_time": "2022-11-27T18:59:19.686Z"
   },
   {
    "duration": 7,
    "start_time": "2022-11-27T19:00:47.756Z"
   },
   {
    "duration": 7,
    "start_time": "2022-11-27T19:00:49.906Z"
   },
   {
    "duration": 11,
    "start_time": "2022-11-27T19:00:56.664Z"
   },
   {
    "duration": 14,
    "start_time": "2022-11-27T19:01:06.993Z"
   },
   {
    "duration": 13,
    "start_time": "2022-11-27T19:01:12.026Z"
   },
   {
    "duration": 17,
    "start_time": "2022-11-27T19:01:39.976Z"
   },
   {
    "duration": 18,
    "start_time": "2022-11-27T19:01:55.746Z"
   },
   {
    "duration": 7,
    "start_time": "2022-11-27T19:02:23.815Z"
   },
   {
    "duration": 187,
    "start_time": "2022-11-27T19:05:21.325Z"
   },
   {
    "duration": 52,
    "start_time": "2022-11-27T19:09:56.795Z"
   },
   {
    "duration": 173,
    "start_time": "2022-11-27T19:10:05.465Z"
   },
   {
    "duration": 277,
    "start_time": "2022-11-27T19:10:43.735Z"
   },
   {
    "duration": 37,
    "start_time": "2022-11-27T19:11:01.606Z"
   },
   {
    "duration": 4,
    "start_time": "2022-11-27T19:11:36.088Z"
   },
   {
    "duration": 193,
    "start_time": "2022-11-27T19:12:03.913Z"
   },
   {
    "duration": 214,
    "start_time": "2022-11-27T19:13:49.074Z"
   },
   {
    "duration": 195,
    "start_time": "2022-11-27T19:16:32.833Z"
   },
   {
    "duration": 194,
    "start_time": "2022-11-27T19:16:39.703Z"
   },
   {
    "duration": 93,
    "start_time": "2022-11-27T19:24:30.423Z"
   },
   {
    "duration": 16,
    "start_time": "2022-11-27T19:24:32.675Z"
   },
   {
    "duration": 31,
    "start_time": "2022-11-27T19:24:38.299Z"
   },
   {
    "duration": 746,
    "start_time": "2022-11-27T19:24:55.530Z"
   },
   {
    "duration": 16,
    "start_time": "2022-11-27T19:25:21.271Z"
   },
   {
    "duration": 43,
    "start_time": "2022-11-27T19:26:29.519Z"
   },
   {
    "duration": 42,
    "start_time": "2022-11-27T19:26:31.343Z"
   },
   {
    "duration": 15,
    "start_time": "2022-11-27T19:26:50.613Z"
   },
   {
    "duration": 15,
    "start_time": "2022-11-27T19:27:02.215Z"
   },
   {
    "duration": 8,
    "start_time": "2022-11-27T19:27:52.850Z"
   },
   {
    "duration": 6,
    "start_time": "2022-11-27T19:28:01.199Z"
   },
   {
    "duration": 137,
    "start_time": "2022-11-27T19:28:52.143Z"
   },
   {
    "duration": 52,
    "start_time": "2022-11-27T19:29:03.463Z"
   },
   {
    "duration": 148,
    "start_time": "2022-11-27T19:29:06.694Z"
   },
   {
    "duration": 144,
    "start_time": "2022-11-27T19:30:00.893Z"
   },
   {
    "duration": 138,
    "start_time": "2022-11-27T19:30:13.051Z"
   },
   {
    "duration": 128,
    "start_time": "2022-11-27T19:30:24.090Z"
   },
   {
    "duration": 146,
    "start_time": "2022-11-27T19:31:08.248Z"
   },
   {
    "duration": 135,
    "start_time": "2022-11-27T19:31:17.154Z"
   },
   {
    "duration": 126,
    "start_time": "2022-11-27T19:31:36.190Z"
   },
   {
    "duration": 215,
    "start_time": "2022-11-27T19:56:39.145Z"
   },
   {
    "duration": 204,
    "start_time": "2022-11-27T19:56:45.999Z"
   },
   {
    "duration": 748,
    "start_time": "2022-11-27T19:57:00.763Z"
   },
   {
    "duration": 224,
    "start_time": "2022-11-27T19:57:07.920Z"
   },
   {
    "duration": 284,
    "start_time": "2022-11-27T19:57:17.034Z"
   },
   {
    "duration": 297,
    "start_time": "2022-11-27T19:59:07.525Z"
   },
   {
    "duration": 431,
    "start_time": "2022-11-27T20:00:00.262Z"
   },
   {
    "duration": 147,
    "start_time": "2022-11-27T20:00:12.571Z"
   },
   {
    "duration": 791,
    "start_time": "2022-11-27T20:02:11.950Z"
   },
   {
    "duration": 834,
    "start_time": "2022-11-27T20:02:44.018Z"
   },
   {
    "duration": 806,
    "start_time": "2022-11-27T20:02:54.005Z"
   },
   {
    "duration": 412,
    "start_time": "2022-11-27T20:03:19.198Z"
   },
   {
    "duration": 763,
    "start_time": "2022-11-27T20:03:32.326Z"
   },
   {
    "duration": 18,
    "start_time": "2022-11-27T20:03:40.005Z"
   },
   {
    "duration": 817,
    "start_time": "2022-11-27T20:04:20.463Z"
   },
   {
    "duration": 7,
    "start_time": "2022-11-27T20:04:32.035Z"
   },
   {
    "duration": 45,
    "start_time": "2022-11-27T20:04:36.248Z"
   },
   {
    "duration": 116,
    "start_time": "2022-11-27T20:05:37.168Z"
   },
   {
    "duration": 132,
    "start_time": "2022-11-27T20:06:06.670Z"
   },
   {
    "duration": 450,
    "start_time": "2022-11-27T20:06:18.042Z"
   },
   {
    "duration": 299,
    "start_time": "2022-11-27T20:07:02.975Z"
   },
   {
    "duration": 210,
    "start_time": "2022-11-27T20:07:10.040Z"
   },
   {
    "duration": 258,
    "start_time": "2022-11-27T20:07:17.119Z"
   },
   {
    "duration": 43,
    "start_time": "2022-11-27T20:07:59.807Z"
   },
   {
    "duration": 1050,
    "start_time": "2022-11-28T09:08:00.804Z"
   },
   {
    "duration": 16,
    "start_time": "2022-11-28T09:08:01.857Z"
   },
   {
    "duration": 29,
    "start_time": "2022-11-28T09:08:01.875Z"
   },
   {
    "duration": 83,
    "start_time": "2022-11-28T09:08:01.906Z"
   },
   {
    "duration": 15,
    "start_time": "2022-11-28T09:08:01.990Z"
   },
   {
    "duration": 314,
    "start_time": "2022-11-28T09:08:02.006Z"
   },
   {
    "duration": 370,
    "start_time": "2022-11-28T09:08:02.321Z"
   },
   {
    "duration": 310,
    "start_time": "2022-11-28T09:08:02.693Z"
   },
   {
    "duration": 326,
    "start_time": "2022-11-28T09:08:03.005Z"
   },
   {
    "duration": 366,
    "start_time": "2022-11-28T09:08:03.338Z"
   },
   {
    "duration": 252,
    "start_time": "2022-11-28T09:08:03.706Z"
   },
   {
    "duration": 230,
    "start_time": "2022-11-28T09:08:03.961Z"
   },
   {
    "duration": 329,
    "start_time": "2022-11-28T09:08:04.194Z"
   },
   {
    "duration": 14,
    "start_time": "2022-11-28T09:08:04.525Z"
   },
   {
    "duration": 236,
    "start_time": "2022-11-28T09:08:04.541Z"
   },
   {
    "duration": 310,
    "start_time": "2022-11-28T09:08:04.779Z"
   },
   {
    "duration": 267,
    "start_time": "2022-11-28T09:08:05.091Z"
   },
   {
    "duration": 226,
    "start_time": "2022-11-28T09:08:05.360Z"
   },
   {
    "duration": 179,
    "start_time": "2022-11-28T09:08:05.589Z"
   },
   {
    "duration": 172,
    "start_time": "2022-11-28T09:08:05.771Z"
   },
   {
    "duration": 364,
    "start_time": "2022-11-28T09:08:05.945Z"
   },
   {
    "duration": 178,
    "start_time": "2022-11-28T09:08:06.311Z"
   },
   {
    "duration": 449,
    "start_time": "2022-11-28T09:08:06.490Z"
   },
   {
    "duration": 64,
    "start_time": "2022-11-28T09:08:06.941Z"
   },
   {
    "duration": 84,
    "start_time": "2022-11-28T09:19:50.043Z"
   },
   {
    "duration": 29,
    "start_time": "2022-11-28T09:19:57.909Z"
   },
   {
    "duration": 26,
    "start_time": "2022-11-28T09:20:08.616Z"
   },
   {
    "duration": 182,
    "start_time": "2022-11-28T09:20:24.973Z"
   },
   {
    "duration": 1656,
    "start_time": "2022-11-28T09:21:24.925Z"
   },
   {
    "duration": 1771,
    "start_time": "2022-11-28T09:21:47.407Z"
   },
   {
    "duration": 1390,
    "start_time": "2022-11-28T09:23:06.613Z"
   },
   {
    "duration": 1374,
    "start_time": "2022-11-28T09:23:24.011Z"
   },
   {
    "duration": 1397,
    "start_time": "2022-11-28T09:23:56.015Z"
   },
   {
    "duration": 866,
    "start_time": "2022-11-28T09:25:30.036Z"
   },
   {
    "duration": 16,
    "start_time": "2022-11-28T09:25:30.904Z"
   },
   {
    "duration": 38,
    "start_time": "2022-11-28T09:25:30.921Z"
   },
   {
    "duration": 93,
    "start_time": "2022-11-28T09:25:30.961Z"
   },
   {
    "duration": 13,
    "start_time": "2022-11-28T09:25:31.056Z"
   },
   {
    "duration": 317,
    "start_time": "2022-11-28T09:25:31.071Z"
   },
   {
    "duration": 381,
    "start_time": "2022-11-28T09:25:31.390Z"
   },
   {
    "duration": 318,
    "start_time": "2022-11-28T09:25:31.773Z"
   },
   {
    "duration": 317,
    "start_time": "2022-11-28T09:25:32.093Z"
   },
   {
    "duration": 331,
    "start_time": "2022-11-28T09:25:32.414Z"
   },
   {
    "duration": 256,
    "start_time": "2022-11-28T09:25:32.747Z"
   },
   {
    "duration": 195,
    "start_time": "2022-11-28T09:25:33.006Z"
   },
   {
    "duration": 220,
    "start_time": "2022-11-28T09:25:33.204Z"
   },
   {
    "duration": 13,
    "start_time": "2022-11-28T09:25:33.426Z"
   },
   {
    "duration": 229,
    "start_time": "2022-11-28T09:25:33.441Z"
   },
   {
    "duration": 334,
    "start_time": "2022-11-28T09:25:33.673Z"
   },
   {
    "duration": 229,
    "start_time": "2022-11-28T09:25:34.009Z"
   },
   {
    "duration": 216,
    "start_time": "2022-11-28T09:25:34.240Z"
   },
   {
    "duration": 168,
    "start_time": "2022-11-28T09:25:34.458Z"
   },
   {
    "duration": 141,
    "start_time": "2022-11-28T09:25:34.627Z"
   },
   {
    "duration": 321,
    "start_time": "2022-11-28T09:25:34.769Z"
   },
   {
    "duration": 153,
    "start_time": "2022-11-28T09:25:35.092Z"
   },
   {
    "duration": 315,
    "start_time": "2022-11-28T09:25:35.248Z"
   },
   {
    "duration": 1378,
    "start_time": "2022-11-28T09:25:35.566Z"
   },
   {
    "duration": 0,
    "start_time": "2022-11-28T09:25:36.947Z"
   },
   {
    "duration": 44,
    "start_time": "2022-11-28T09:25:53.096Z"
   },
   {
    "duration": 254,
    "start_time": "2022-11-28T09:27:52.133Z"
   },
   {
    "duration": 177,
    "start_time": "2022-11-28T09:28:29.792Z"
   },
   {
    "duration": 84,
    "start_time": "2022-11-28T09:28:58.575Z"
   },
   {
    "duration": 158,
    "start_time": "2022-11-28T09:29:01.262Z"
   },
   {
    "duration": 70,
    "start_time": "2022-11-28T09:29:45.325Z"
   },
   {
    "duration": 185,
    "start_time": "2022-11-28T09:30:14.774Z"
   },
   {
    "duration": 153,
    "start_time": "2022-11-28T09:30:47.348Z"
   },
   {
    "duration": 186,
    "start_time": "2022-11-28T09:31:50.002Z"
   },
   {
    "duration": 71,
    "start_time": "2022-11-28T09:32:45.237Z"
   },
   {
    "duration": 211,
    "start_time": "2022-11-28T09:32:58.775Z"
   },
   {
    "duration": 162,
    "start_time": "2022-11-28T09:34:15.850Z"
   },
   {
    "duration": 167,
    "start_time": "2022-11-28T09:38:27.657Z"
   },
   {
    "duration": 1256,
    "start_time": "2022-11-28T09:40:15.196Z"
   },
   {
    "duration": 122,
    "start_time": "2022-11-28T09:40:31.876Z"
   },
   {
    "duration": 332,
    "start_time": "2022-11-28T09:40:36.233Z"
   },
   {
    "duration": 160,
    "start_time": "2022-11-28T09:40:50.203Z"
   },
   {
    "duration": 171,
    "start_time": "2022-11-28T09:40:55.631Z"
   },
   {
    "duration": 281,
    "start_time": "2022-11-28T09:42:25.294Z"
   },
   {
    "duration": 1121,
    "start_time": "2022-11-28T09:42:37.472Z"
   },
   {
    "duration": 304,
    "start_time": "2022-11-28T09:42:55.099Z"
   },
   {
    "duration": 300,
    "start_time": "2022-11-28T09:43:54.252Z"
   },
   {
    "duration": 1296,
    "start_time": "2022-11-28T09:44:19.496Z"
   },
   {
    "duration": 165,
    "start_time": "2022-11-28T09:44:43.293Z"
   },
   {
    "duration": 156,
    "start_time": "2022-11-28T09:45:20.555Z"
   },
   {
    "duration": 11,
    "start_time": "2022-11-28T09:46:23.784Z"
   },
   {
    "duration": 167,
    "start_time": "2022-11-28T09:46:42.174Z"
   },
   {
    "duration": 80,
    "start_time": "2022-11-28T09:49:06.635Z"
   },
   {
    "duration": 68,
    "start_time": "2022-11-28T09:49:19.864Z"
   },
   {
    "duration": 26,
    "start_time": "2022-11-28T09:51:06.719Z"
   },
   {
    "duration": 145,
    "start_time": "2022-11-28T09:51:10.961Z"
   },
   {
    "duration": 159,
    "start_time": "2022-11-28T09:52:22.573Z"
   },
   {
    "duration": 164,
    "start_time": "2022-11-28T09:52:29.941Z"
   },
   {
    "duration": 291,
    "start_time": "2022-11-28T09:56:04.246Z"
   },
   {
    "duration": 138,
    "start_time": "2022-11-28T09:56:26.583Z"
   },
   {
    "duration": 171,
    "start_time": "2022-11-28T09:58:39.712Z"
   },
   {
    "duration": 161,
    "start_time": "2022-11-28T09:59:02.138Z"
   },
   {
    "duration": 72,
    "start_time": "2022-11-28T10:00:13.512Z"
   },
   {
    "duration": 275,
    "start_time": "2022-11-28T10:00:32.871Z"
   },
   {
    "duration": 284,
    "start_time": "2022-11-28T10:01:10.335Z"
   },
   {
    "duration": 448,
    "start_time": "2022-11-28T10:01:52.945Z"
   },
   {
    "duration": 20,
    "start_time": "2022-11-28T10:18:24.756Z"
   },
   {
    "duration": 21,
    "start_time": "2022-11-28T10:19:11.091Z"
   },
   {
    "duration": 25,
    "start_time": "2022-11-28T10:19:14.881Z"
   },
   {
    "duration": 25,
    "start_time": "2022-11-28T10:19:53.137Z"
   },
   {
    "duration": 21,
    "start_time": "2022-11-28T10:20:21.793Z"
   },
   {
    "duration": 10,
    "start_time": "2022-11-28T10:25:31.519Z"
   },
   {
    "duration": 723,
    "start_time": "2022-11-28T11:00:50.373Z"
   },
   {
    "duration": 13,
    "start_time": "2022-11-28T11:00:51.098Z"
   },
   {
    "duration": 29,
    "start_time": "2022-11-28T11:00:51.113Z"
   },
   {
    "duration": 61,
    "start_time": "2022-11-28T11:00:51.143Z"
   },
   {
    "duration": 31,
    "start_time": "2022-11-28T11:00:51.206Z"
   },
   {
    "duration": 288,
    "start_time": "2022-11-28T11:00:51.239Z"
   },
   {
    "duration": 343,
    "start_time": "2022-11-28T11:00:51.529Z"
   },
   {
    "duration": 293,
    "start_time": "2022-11-28T11:00:51.874Z"
   },
   {
    "duration": 305,
    "start_time": "2022-11-28T11:00:52.169Z"
   },
   {
    "duration": 315,
    "start_time": "2022-11-28T11:00:52.478Z"
   },
   {
    "duration": 217,
    "start_time": "2022-11-28T11:00:52.795Z"
   },
   {
    "duration": 189,
    "start_time": "2022-11-28T11:00:53.014Z"
   },
   {
    "duration": 203,
    "start_time": "2022-11-28T11:00:53.205Z"
   },
   {
    "duration": 7,
    "start_time": "2022-11-28T11:00:53.410Z"
   },
   {
    "duration": 213,
    "start_time": "2022-11-28T11:00:53.419Z"
   },
   {
    "duration": 313,
    "start_time": "2022-11-28T11:00:53.637Z"
   },
   {
    "duration": 215,
    "start_time": "2022-11-28T11:00:53.952Z"
   },
   {
    "duration": 204,
    "start_time": "2022-11-28T11:00:54.169Z"
   },
   {
    "duration": 158,
    "start_time": "2022-11-28T11:00:54.374Z"
   },
   {
    "duration": 137,
    "start_time": "2022-11-28T11:00:54.534Z"
   },
   {
    "duration": 297,
    "start_time": "2022-11-28T11:00:54.673Z"
   },
   {
    "duration": 141,
    "start_time": "2022-11-28T11:00:54.972Z"
   },
   {
    "duration": 293,
    "start_time": "2022-11-28T11:00:55.115Z"
   },
   {
    "duration": 166,
    "start_time": "2022-11-28T11:00:55.410Z"
   },
   {
    "duration": 299,
    "start_time": "2022-11-28T11:00:55.577Z"
   },
   {
    "duration": 150,
    "start_time": "2022-11-28T11:00:55.878Z"
   },
   {
    "duration": 164,
    "start_time": "2022-11-28T11:00:56.030Z"
   },
   {
    "duration": 147,
    "start_time": "2022-11-28T11:00:56.196Z"
   },
   {
    "duration": 446,
    "start_time": "2022-11-28T11:00:56.345Z"
   },
   {
    "duration": 23,
    "start_time": "2022-11-28T11:00:56.793Z"
   },
   {
    "duration": 52,
    "start_time": "2022-11-28T11:00:56.818Z"
   },
   {
    "duration": 9,
    "start_time": "2022-11-28T11:05:55.571Z"
   },
   {
    "duration": 73,
    "start_time": "2022-11-28T11:06:49.673Z"
   },
   {
    "duration": 15,
    "start_time": "2022-11-28T11:06:54.448Z"
   },
   {
    "duration": 73,
    "start_time": "2022-11-28T11:08:40.913Z"
   },
   {
    "duration": 15,
    "start_time": "2022-11-28T11:08:46.341Z"
   },
   {
    "duration": 167,
    "start_time": "2022-11-28T11:09:19.440Z"
   },
   {
    "duration": 77,
    "start_time": "2022-11-28T11:11:27.495Z"
   },
   {
    "duration": 721,
    "start_time": "2022-11-28T11:28:34.392Z"
   },
   {
    "duration": 24,
    "start_time": "2022-11-28T11:28:35.115Z"
   },
   {
    "duration": 26,
    "start_time": "2022-11-28T11:28:35.141Z"
   },
   {
    "duration": 77,
    "start_time": "2022-11-28T11:28:35.169Z"
   },
   {
    "duration": 13,
    "start_time": "2022-11-28T11:28:35.248Z"
   },
   {
    "duration": 296,
    "start_time": "2022-11-28T11:28:35.263Z"
   },
   {
    "duration": 387,
    "start_time": "2022-11-28T11:28:35.561Z"
   },
   {
    "duration": 301,
    "start_time": "2022-11-28T11:28:35.949Z"
   },
   {
    "duration": 299,
    "start_time": "2022-11-28T11:28:36.251Z"
   },
   {
    "duration": 317,
    "start_time": "2022-11-28T11:28:36.551Z"
   },
   {
    "duration": 216,
    "start_time": "2022-11-28T11:28:36.870Z"
   },
   {
    "duration": 197,
    "start_time": "2022-11-28T11:28:37.088Z"
   },
   {
    "duration": 202,
    "start_time": "2022-11-28T11:28:37.286Z"
   },
   {
    "duration": 6,
    "start_time": "2022-11-28T11:28:37.491Z"
   },
   {
    "duration": 214,
    "start_time": "2022-11-28T11:28:37.499Z"
   },
   {
    "duration": 301,
    "start_time": "2022-11-28T11:28:37.714Z"
   },
   {
    "duration": 222,
    "start_time": "2022-11-28T11:28:38.017Z"
   },
   {
    "duration": 221,
    "start_time": "2022-11-28T11:28:38.241Z"
   },
   {
    "duration": 147,
    "start_time": "2022-11-28T11:28:38.463Z"
   },
   {
    "duration": 136,
    "start_time": "2022-11-28T11:28:38.612Z"
   },
   {
    "duration": 391,
    "start_time": "2022-11-28T11:28:38.749Z"
   },
   {
    "duration": 140,
    "start_time": "2022-11-28T11:28:39.142Z"
   },
   {
    "duration": 361,
    "start_time": "2022-11-28T11:28:39.284Z"
   },
   {
    "duration": 156,
    "start_time": "2022-11-28T11:28:39.646Z"
   },
   {
    "duration": 282,
    "start_time": "2022-11-28T11:28:39.804Z"
   },
   {
    "duration": 160,
    "start_time": "2022-11-28T11:28:40.087Z"
   },
   {
    "duration": 177,
    "start_time": "2022-11-28T11:28:40.248Z"
   },
   {
    "duration": 163,
    "start_time": "2022-11-28T11:28:40.427Z"
   },
   {
    "duration": 483,
    "start_time": "2022-11-28T11:28:40.592Z"
   },
   {
    "duration": 28,
    "start_time": "2022-11-28T11:28:41.080Z"
   },
   {
    "duration": 184,
    "start_time": "2022-11-28T11:28:41.110Z"
   },
   {
    "duration": 812,
    "start_time": "2022-11-28T13:58:05.039Z"
   },
   {
    "duration": 21,
    "start_time": "2022-11-28T13:58:05.854Z"
   },
   {
    "duration": 30,
    "start_time": "2022-11-28T13:58:05.877Z"
   },
   {
    "duration": 94,
    "start_time": "2022-11-28T13:58:05.910Z"
   },
   {
    "duration": 14,
    "start_time": "2022-11-28T13:58:06.007Z"
   },
   {
    "duration": 403,
    "start_time": "2022-11-28T13:58:06.024Z"
   },
   {
    "duration": 392,
    "start_time": "2022-11-28T13:58:06.429Z"
   },
   {
    "duration": 332,
    "start_time": "2022-11-28T13:58:06.823Z"
   },
   {
    "duration": 349,
    "start_time": "2022-11-28T13:58:07.157Z"
   },
   {
    "duration": 488,
    "start_time": "2022-11-28T13:58:07.509Z"
   },
   {
    "duration": 254,
    "start_time": "2022-11-28T13:58:07.999Z"
   },
   {
    "duration": 223,
    "start_time": "2022-11-28T13:58:08.255Z"
   },
   {
    "duration": 236,
    "start_time": "2022-11-28T13:58:08.480Z"
   },
   {
    "duration": 11,
    "start_time": "2022-11-28T13:58:08.717Z"
   },
   {
    "duration": 242,
    "start_time": "2022-11-28T13:58:08.731Z"
   },
   {
    "duration": 342,
    "start_time": "2022-11-28T13:58:08.975Z"
   },
   {
    "duration": 251,
    "start_time": "2022-11-28T13:58:09.319Z"
   },
   {
    "duration": 309,
    "start_time": "2022-11-28T13:58:09.572Z"
   },
   {
    "duration": 207,
    "start_time": "2022-11-28T13:58:09.884Z"
   },
   {
    "duration": 180,
    "start_time": "2022-11-28T13:58:10.093Z"
   },
   {
    "duration": 375,
    "start_time": "2022-11-28T13:58:10.275Z"
   },
   {
    "duration": 159,
    "start_time": "2022-11-28T13:58:10.653Z"
   },
   {
    "duration": 338,
    "start_time": "2022-11-28T13:58:10.814Z"
   },
   {
    "duration": 180,
    "start_time": "2022-11-28T13:58:11.154Z"
   },
   {
    "duration": 329,
    "start_time": "2022-11-28T13:58:11.336Z"
   },
   {
    "duration": 192,
    "start_time": "2022-11-28T13:58:11.667Z"
   },
   {
    "duration": 174,
    "start_time": "2022-11-28T13:58:11.861Z"
   },
   {
    "duration": 196,
    "start_time": "2022-11-28T13:58:12.051Z"
   },
   {
    "duration": 512,
    "start_time": "2022-11-28T13:58:12.250Z"
   },
   {
    "duration": 37,
    "start_time": "2022-11-28T13:58:12.764Z"
   },
   {
    "duration": 229,
    "start_time": "2022-11-28T13:58:12.803Z"
   },
   {
    "duration": 17,
    "start_time": "2022-11-28T14:25:30.741Z"
   },
   {
    "duration": 1146,
    "start_time": "2022-11-28T14:28:45.083Z"
   },
   {
    "duration": 662,
    "start_time": "2022-11-28T14:28:52.163Z"
   },
   {
    "duration": 817,
    "start_time": "2022-11-28T14:39:44.965Z"
   },
   {
    "duration": 18,
    "start_time": "2022-11-28T14:39:45.784Z"
   },
   {
    "duration": 53,
    "start_time": "2022-11-28T14:39:45.804Z"
   },
   {
    "duration": 71,
    "start_time": "2022-11-28T14:39:45.860Z"
   },
   {
    "duration": 30,
    "start_time": "2022-11-28T14:39:45.933Z"
   },
   {
    "duration": 339,
    "start_time": "2022-11-28T14:39:45.966Z"
   },
   {
    "duration": 413,
    "start_time": "2022-11-28T14:39:46.307Z"
   },
   {
    "duration": 729,
    "start_time": "2022-11-28T14:39:46.722Z"
   },
   {
    "duration": 355,
    "start_time": "2022-11-28T14:39:47.454Z"
   },
   {
    "duration": 365,
    "start_time": "2022-11-28T14:39:47.813Z"
   },
   {
    "duration": 417,
    "start_time": "2022-11-28T14:39:48.180Z"
   },
   {
    "duration": 235,
    "start_time": "2022-11-28T14:39:48.599Z"
   },
   {
    "duration": 204,
    "start_time": "2022-11-28T14:39:48.836Z"
   },
   {
    "duration": 288,
    "start_time": "2022-11-28T14:39:49.043Z"
   },
   {
    "duration": 17,
    "start_time": "2022-11-28T14:39:49.333Z"
   },
   {
    "duration": 255,
    "start_time": "2022-11-28T14:39:49.353Z"
   },
   {
    "duration": 312,
    "start_time": "2022-11-28T14:39:49.610Z"
   },
   {
    "duration": 321,
    "start_time": "2022-11-28T14:39:49.925Z"
   },
   {
    "duration": 235,
    "start_time": "2022-11-28T14:39:50.250Z"
   },
   {
    "duration": 224,
    "start_time": "2022-11-28T14:39:50.487Z"
   },
   {
    "duration": 187,
    "start_time": "2022-11-28T14:39:50.713Z"
   },
   {
    "duration": 423,
    "start_time": "2022-11-28T14:39:50.902Z"
   },
   {
    "duration": 152,
    "start_time": "2022-11-28T14:39:51.327Z"
   },
   {
    "duration": 326,
    "start_time": "2022-11-28T14:39:51.481Z"
   },
   {
    "duration": 191,
    "start_time": "2022-11-28T14:39:51.809Z"
   },
   {
    "duration": 223,
    "start_time": "2022-11-28T14:39:52.002Z"
   },
   {
    "duration": 231,
    "start_time": "2022-11-28T14:39:52.228Z"
   },
   {
    "duration": 198,
    "start_time": "2022-11-28T14:39:52.462Z"
   },
   {
    "duration": 214,
    "start_time": "2022-11-28T14:39:52.662Z"
   },
   {
    "duration": 520,
    "start_time": "2022-11-28T14:39:52.877Z"
   },
   {
    "duration": 33,
    "start_time": "2022-11-28T14:39:53.398Z"
   },
   {
    "duration": 269,
    "start_time": "2022-11-28T14:39:53.433Z"
   },
   {
    "duration": 1289,
    "start_time": "2022-11-28T14:59:37.664Z"
   },
   {
    "duration": 34,
    "start_time": "2022-11-28T15:48:04.765Z"
   },
   {
    "duration": 40,
    "start_time": "2022-11-28T15:56:14.141Z"
   },
   {
    "duration": 24,
    "start_time": "2022-11-28T16:00:15.538Z"
   },
   {
    "duration": 85,
    "start_time": "2022-11-28T16:04:42.351Z"
   },
   {
    "duration": 17,
    "start_time": "2022-11-28T16:04:54.140Z"
   },
   {
    "duration": 912,
    "start_time": "2022-11-28T16:05:06.127Z"
   },
   {
    "duration": 19,
    "start_time": "2022-11-28T16:05:07.043Z"
   },
   {
    "duration": 66,
    "start_time": "2022-11-28T16:05:07.065Z"
   },
   {
    "duration": 107,
    "start_time": "2022-11-28T16:05:07.133Z"
   },
   {
    "duration": 0,
    "start_time": "2022-11-28T16:05:07.243Z"
   },
   {
    "duration": 0,
    "start_time": "2022-11-28T16:05:07.244Z"
   },
   {
    "duration": 0,
    "start_time": "2022-11-28T16:05:07.246Z"
   },
   {
    "duration": 0,
    "start_time": "2022-11-28T16:05:07.247Z"
   },
   {
    "duration": 0,
    "start_time": "2022-11-28T16:05:07.248Z"
   },
   {
    "duration": 0,
    "start_time": "2022-11-28T16:05:07.249Z"
   },
   {
    "duration": 0,
    "start_time": "2022-11-28T16:05:07.250Z"
   },
   {
    "duration": 0,
    "start_time": "2022-11-28T16:05:07.252Z"
   },
   {
    "duration": 0,
    "start_time": "2022-11-28T16:05:07.254Z"
   },
   {
    "duration": 0,
    "start_time": "2022-11-28T16:05:07.255Z"
   },
   {
    "duration": 0,
    "start_time": "2022-11-28T16:05:07.257Z"
   },
   {
    "duration": 0,
    "start_time": "2022-11-28T16:05:07.258Z"
   },
   {
    "duration": 0,
    "start_time": "2022-11-28T16:05:07.259Z"
   },
   {
    "duration": 0,
    "start_time": "2022-11-28T16:05:07.260Z"
   },
   {
    "duration": 0,
    "start_time": "2022-11-28T16:05:07.261Z"
   },
   {
    "duration": 0,
    "start_time": "2022-11-28T16:05:07.262Z"
   },
   {
    "duration": 0,
    "start_time": "2022-11-28T16:05:07.263Z"
   },
   {
    "duration": 0,
    "start_time": "2022-11-28T16:05:07.264Z"
   },
   {
    "duration": 0,
    "start_time": "2022-11-28T16:05:07.265Z"
   },
   {
    "duration": 0,
    "start_time": "2022-11-28T16:05:07.267Z"
   },
   {
    "duration": 0,
    "start_time": "2022-11-28T16:05:07.268Z"
   },
   {
    "duration": 0,
    "start_time": "2022-11-28T16:05:07.269Z"
   },
   {
    "duration": 0,
    "start_time": "2022-11-28T16:05:07.271Z"
   },
   {
    "duration": 0,
    "start_time": "2022-11-28T16:05:07.312Z"
   },
   {
    "duration": 0,
    "start_time": "2022-11-28T16:05:07.314Z"
   },
   {
    "duration": 0,
    "start_time": "2022-11-28T16:05:07.315Z"
   },
   {
    "duration": 0,
    "start_time": "2022-11-28T16:05:07.316Z"
   },
   {
    "duration": 0,
    "start_time": "2022-11-28T16:05:07.319Z"
   },
   {
    "duration": 75,
    "start_time": "2022-11-28T16:08:25.193Z"
   },
   {
    "duration": 90,
    "start_time": "2022-11-28T16:08:43.936Z"
   },
   {
    "duration": 75,
    "start_time": "2022-11-28T16:09:04.294Z"
   },
   {
    "duration": 88,
    "start_time": "2022-11-28T16:09:13.211Z"
   },
   {
    "duration": 83,
    "start_time": "2022-11-28T16:12:52.464Z"
   },
   {
    "duration": 67,
    "start_time": "2022-11-28T16:13:00.750Z"
   },
   {
    "duration": 69,
    "start_time": "2022-11-28T16:14:03.314Z"
   },
   {
    "duration": 68,
    "start_time": "2022-11-28T16:14:18.805Z"
   },
   {
    "duration": 72,
    "start_time": "2022-11-28T16:14:28.500Z"
   },
   {
    "duration": 78,
    "start_time": "2022-11-28T16:14:52.588Z"
   },
   {
    "duration": 41,
    "start_time": "2022-11-28T16:16:37.530Z"
   },
   {
    "duration": 33,
    "start_time": "2022-11-28T16:16:48.999Z"
   },
   {
    "duration": 43,
    "start_time": "2022-11-28T16:18:36.493Z"
   },
   {
    "duration": 109,
    "start_time": "2022-11-28T16:20:03.051Z"
   },
   {
    "duration": 121,
    "start_time": "2022-11-28T16:20:23.943Z"
   },
   {
    "duration": 59,
    "start_time": "2022-11-28T16:20:43.705Z"
   },
   {
    "duration": 56,
    "start_time": "2022-11-28T16:20:51.896Z"
   },
   {
    "duration": 136,
    "start_time": "2022-11-28T16:21:44.510Z"
   },
   {
    "duration": 108,
    "start_time": "2022-11-28T16:21:53.960Z"
   },
   {
    "duration": 766,
    "start_time": "2022-11-28T16:22:07.759Z"
   },
   {
    "duration": 17,
    "start_time": "2022-11-28T16:22:08.528Z"
   },
   {
    "duration": 30,
    "start_time": "2022-11-28T16:22:08.548Z"
   },
   {
    "duration": 150,
    "start_time": "2022-11-28T16:22:08.581Z"
   },
   {
    "duration": 15,
    "start_time": "2022-11-28T16:22:08.734Z"
   },
   {
    "duration": 344,
    "start_time": "2022-11-28T16:22:08.751Z"
   },
   {
    "duration": 419,
    "start_time": "2022-11-28T16:22:09.097Z"
   },
   {
    "duration": 718,
    "start_time": "2022-11-28T16:22:09.518Z"
   },
   {
    "duration": 334,
    "start_time": "2022-11-28T16:22:10.238Z"
   },
   {
    "duration": 348,
    "start_time": "2022-11-28T16:22:10.576Z"
   },
   {
    "duration": 439,
    "start_time": "2022-11-28T16:22:10.926Z"
   },
   {
    "duration": 248,
    "start_time": "2022-11-28T16:22:11.367Z"
   },
   {
    "duration": 211,
    "start_time": "2022-11-28T16:22:11.617Z"
   },
   {
    "duration": 233,
    "start_time": "2022-11-28T16:22:11.830Z"
   },
   {
    "duration": 8,
    "start_time": "2022-11-28T16:22:12.064Z"
   },
   {
    "duration": 244,
    "start_time": "2022-11-28T16:22:12.074Z"
   },
   {
    "duration": 239,
    "start_time": "2022-11-28T16:22:12.320Z"
   },
   {
    "duration": 234,
    "start_time": "2022-11-28T16:22:12.560Z"
   },
   {
    "duration": 237,
    "start_time": "2022-11-28T16:22:12.795Z"
   },
   {
    "duration": 170,
    "start_time": "2022-11-28T16:22:13.035Z"
   },
   {
    "duration": 157,
    "start_time": "2022-11-28T16:22:13.213Z"
   },
   {
    "duration": 430,
    "start_time": "2022-11-28T16:22:13.372Z"
   },
   {
    "duration": 148,
    "start_time": "2022-11-28T16:22:13.804Z"
   },
   {
    "duration": 339,
    "start_time": "2022-11-28T16:22:13.953Z"
   },
   {
    "duration": 187,
    "start_time": "2022-11-28T16:22:14.295Z"
   },
   {
    "duration": 196,
    "start_time": "2022-11-28T16:22:14.484Z"
   },
   {
    "duration": 174,
    "start_time": "2022-11-28T16:22:14.682Z"
   },
   {
    "duration": 189,
    "start_time": "2022-11-28T16:22:14.860Z"
   },
   {
    "duration": 172,
    "start_time": "2022-11-28T16:22:15.051Z"
   },
   {
    "duration": 515,
    "start_time": "2022-11-28T16:22:15.224Z"
   },
   {
    "duration": 26,
    "start_time": "2022-11-28T16:22:15.741Z"
   },
   {
    "duration": 195,
    "start_time": "2022-11-28T16:22:15.769Z"
   },
   {
    "duration": 128,
    "start_time": "2022-11-28T16:22:29.280Z"
   },
   {
    "duration": 21,
    "start_time": "2022-11-28T16:23:55.578Z"
   },
   {
    "duration": 16,
    "start_time": "2022-11-28T16:24:12.500Z"
   },
   {
    "duration": 819,
    "start_time": "2022-11-28T16:24:23.911Z"
   },
   {
    "duration": 18,
    "start_time": "2022-11-28T16:24:24.732Z"
   },
   {
    "duration": 27,
    "start_time": "2022-11-28T16:24:24.755Z"
   },
   {
    "duration": 169,
    "start_time": "2022-11-28T16:24:24.784Z"
   },
   {
    "duration": 15,
    "start_time": "2022-11-28T16:24:24.955Z"
   },
   {
    "duration": 337,
    "start_time": "2022-11-28T16:24:24.972Z"
   },
   {
    "duration": 394,
    "start_time": "2022-11-28T16:24:25.311Z"
   },
   {
    "duration": 734,
    "start_time": "2022-11-28T16:24:25.706Z"
   },
   {
    "duration": 391,
    "start_time": "2022-11-28T16:24:26.444Z"
   },
   {
    "duration": 364,
    "start_time": "2022-11-28T16:24:26.837Z"
   },
   {
    "duration": 447,
    "start_time": "2022-11-28T16:24:27.203Z"
   },
   {
    "duration": 248,
    "start_time": "2022-11-28T16:24:27.652Z"
   },
   {
    "duration": 219,
    "start_time": "2022-11-28T16:24:27.902Z"
   },
   {
    "duration": 251,
    "start_time": "2022-11-28T16:24:28.123Z"
   },
   {
    "duration": 8,
    "start_time": "2022-11-28T16:24:28.376Z"
   },
   {
    "duration": 236,
    "start_time": "2022-11-28T16:24:28.385Z"
   },
   {
    "duration": 235,
    "start_time": "2022-11-28T16:24:28.623Z"
   },
   {
    "duration": 248,
    "start_time": "2022-11-28T16:24:28.860Z"
   },
   {
    "duration": 236,
    "start_time": "2022-11-28T16:24:29.111Z"
   },
   {
    "duration": 174,
    "start_time": "2022-11-28T16:24:29.350Z"
   },
   {
    "duration": 151,
    "start_time": "2022-11-28T16:24:29.526Z"
   },
   {
    "duration": 433,
    "start_time": "2022-11-28T16:24:29.679Z"
   },
   {
    "duration": 163,
    "start_time": "2022-11-28T16:24:30.114Z"
   },
   {
    "duration": 345,
    "start_time": "2022-11-28T16:24:30.279Z"
   },
   {
    "duration": 191,
    "start_time": "2022-11-28T16:24:30.627Z"
   },
   {
    "duration": 206,
    "start_time": "2022-11-28T16:24:30.820Z"
   },
   {
    "duration": 191,
    "start_time": "2022-11-28T16:24:31.031Z"
   },
   {
    "duration": 198,
    "start_time": "2022-11-28T16:24:31.224Z"
   },
   {
    "duration": 181,
    "start_time": "2022-11-28T16:24:31.423Z"
   },
   {
    "duration": 508,
    "start_time": "2022-11-28T16:24:31.606Z"
   },
   {
    "duration": 30,
    "start_time": "2022-11-28T16:24:32.116Z"
   },
   {
    "duration": 200,
    "start_time": "2022-11-28T16:24:32.148Z"
   },
   {
    "duration": 24,
    "start_time": "2022-11-28T16:24:45.372Z"
   },
   {
    "duration": 9,
    "start_time": "2022-11-28T16:25:23.320Z"
   },
   {
    "duration": 8,
    "start_time": "2022-11-28T16:26:00.127Z"
   },
   {
    "duration": 9,
    "start_time": "2022-11-28T16:26:14.774Z"
   },
   {
    "duration": 11,
    "start_time": "2022-11-28T16:27:25.157Z"
   },
   {
    "duration": 10,
    "start_time": "2022-11-28T16:27:32.082Z"
   },
   {
    "duration": 10,
    "start_time": "2022-11-28T16:27:45.775Z"
   },
   {
    "duration": 10,
    "start_time": "2022-11-28T16:28:16.456Z"
   },
   {
    "duration": 13,
    "start_time": "2022-11-28T16:28:57.650Z"
   },
   {
    "duration": 11,
    "start_time": "2022-11-28T16:29:14.076Z"
   },
   {
    "duration": 45,
    "start_time": "2022-11-28T16:29:43.591Z"
   },
   {
    "duration": 45,
    "start_time": "2022-11-28T16:29:50.630Z"
   },
   {
    "duration": 14,
    "start_time": "2022-11-28T16:30:12.837Z"
   },
   {
    "duration": 18,
    "start_time": "2022-11-28T16:30:20.941Z"
   },
   {
    "duration": 13,
    "start_time": "2022-11-28T16:30:30.178Z"
   },
   {
    "duration": 15,
    "start_time": "2022-11-28T16:30:41.157Z"
   },
   {
    "duration": 12,
    "start_time": "2022-11-28T16:30:46.502Z"
   },
   {
    "duration": 12,
    "start_time": "2022-11-28T16:30:52.480Z"
   },
   {
    "duration": 10,
    "start_time": "2022-11-28T16:32:26.792Z"
   },
   {
    "duration": 13,
    "start_time": "2022-11-28T16:32:36.803Z"
   },
   {
    "duration": 13,
    "start_time": "2022-11-28T16:32:42.869Z"
   },
   {
    "duration": 820,
    "start_time": "2022-11-28T16:32:56.312Z"
   },
   {
    "duration": 18,
    "start_time": "2022-11-28T16:32:57.135Z"
   },
   {
    "duration": 37,
    "start_time": "2022-11-28T16:32:57.155Z"
   },
   {
    "duration": 131,
    "start_time": "2022-11-28T16:32:57.193Z"
   },
   {
    "duration": 11,
    "start_time": "2022-11-28T16:32:57.328Z"
   },
   {
    "duration": 8,
    "start_time": "2022-11-28T16:32:57.341Z"
   },
   {
    "duration": 18,
    "start_time": "2022-11-28T16:32:57.351Z"
   },
   {
    "duration": 63,
    "start_time": "2022-11-28T16:32:57.371Z"
   },
   {
    "duration": 329,
    "start_time": "2022-11-28T16:32:57.436Z"
   },
   {
    "duration": 366,
    "start_time": "2022-11-28T16:32:57.767Z"
   },
   {
    "duration": 719,
    "start_time": "2022-11-28T16:32:58.134Z"
   },
   {
    "duration": 334,
    "start_time": "2022-11-28T16:32:58.855Z"
   },
   {
    "duration": 346,
    "start_time": "2022-11-28T16:32:59.191Z"
   },
   {
    "duration": 431,
    "start_time": "2022-11-28T16:32:59.540Z"
   },
   {
    "duration": 241,
    "start_time": "2022-11-28T16:32:59.973Z"
   },
   {
    "duration": 211,
    "start_time": "2022-11-28T16:33:00.216Z"
   },
   {
    "duration": 222,
    "start_time": "2022-11-28T16:33:00.429Z"
   },
   {
    "duration": 8,
    "start_time": "2022-11-28T16:33:00.652Z"
   },
   {
    "duration": 251,
    "start_time": "2022-11-28T16:33:00.662Z"
   },
   {
    "duration": 232,
    "start_time": "2022-11-28T16:33:00.915Z"
   },
   {
    "duration": 250,
    "start_time": "2022-11-28T16:33:01.150Z"
   },
   {
    "duration": 224,
    "start_time": "2022-11-28T16:33:01.402Z"
   },
   {
    "duration": 169,
    "start_time": "2022-11-28T16:33:01.627Z"
   },
   {
    "duration": 156,
    "start_time": "2022-11-28T16:33:01.798Z"
   },
   {
    "duration": 439,
    "start_time": "2022-11-28T16:33:01.956Z"
   },
   {
    "duration": 147,
    "start_time": "2022-11-28T16:33:02.397Z"
   },
   {
    "duration": 332,
    "start_time": "2022-11-28T16:33:02.547Z"
   },
   {
    "duration": 187,
    "start_time": "2022-11-28T16:33:02.880Z"
   },
   {
    "duration": 195,
    "start_time": "2022-11-28T16:33:03.068Z"
   },
   {
    "duration": 189,
    "start_time": "2022-11-28T16:33:03.265Z"
   },
   {
    "duration": 177,
    "start_time": "2022-11-28T16:33:03.456Z"
   },
   {
    "duration": 172,
    "start_time": "2022-11-28T16:33:03.635Z"
   },
   {
    "duration": 489,
    "start_time": "2022-11-28T16:33:03.811Z"
   },
   {
    "duration": 31,
    "start_time": "2022-11-28T16:33:04.302Z"
   },
   {
    "duration": 197,
    "start_time": "2022-11-28T16:33:04.335Z"
   },
   {
    "duration": 51,
    "start_time": "2022-11-28T16:33:53.316Z"
   },
   {
    "duration": 9,
    "start_time": "2022-11-28T16:34:13.022Z"
   },
   {
    "duration": 49,
    "start_time": "2022-11-28T16:34:37.722Z"
   },
   {
    "duration": 9,
    "start_time": "2022-11-28T16:34:56.502Z"
   },
   {
    "duration": 7,
    "start_time": "2022-11-28T16:35:12.272Z"
   },
   {
    "duration": 17,
    "start_time": "2022-11-28T16:36:30.743Z"
   },
   {
    "duration": 8,
    "start_time": "2022-11-28T16:36:39.007Z"
   },
   {
    "duration": 10,
    "start_time": "2022-11-28T16:38:11.885Z"
   },
   {
    "duration": 10,
    "start_time": "2022-11-28T16:38:58.578Z"
   },
   {
    "duration": 436,
    "start_time": "2022-11-28T16:40:14.153Z"
   },
   {
    "duration": 316,
    "start_time": "2022-11-28T16:41:16.513Z"
   },
   {
    "duration": 403,
    "start_time": "2022-11-28T16:41:26.398Z"
   },
   {
    "duration": 323,
    "start_time": "2022-11-28T16:41:42.625Z"
   },
   {
    "duration": 342,
    "start_time": "2022-11-28T16:41:48.270Z"
   },
   {
    "duration": 8,
    "start_time": "2022-11-28T16:45:01.123Z"
   },
   {
    "duration": 138,
    "start_time": "2022-11-28T16:45:21.252Z"
   },
   {
    "duration": 263,
    "start_time": "2022-11-28T16:45:48.304Z"
   },
   {
    "duration": 171,
    "start_time": "2022-11-28T17:58:07.037Z"
   },
   {
    "duration": 157,
    "start_time": "2022-11-28T17:58:16.005Z"
   },
   {
    "duration": 170,
    "start_time": "2022-11-28T17:58:30.584Z"
   },
   {
    "duration": 158,
    "start_time": "2022-11-28T17:58:48.202Z"
   },
   {
    "duration": 149,
    "start_time": "2022-11-28T18:00:55.498Z"
   },
   {
    "duration": 59,
    "start_time": "2022-11-28T18:01:28.666Z"
   },
   {
    "duration": 149,
    "start_time": "2022-11-28T18:01:40.632Z"
   },
   {
    "duration": 838,
    "start_time": "2022-11-28T18:10:54.234Z"
   },
   {
    "duration": 17,
    "start_time": "2022-11-28T18:10:55.075Z"
   },
   {
    "duration": 36,
    "start_time": "2022-11-28T18:10:55.094Z"
   },
   {
    "duration": 129,
    "start_time": "2022-11-28T18:10:55.133Z"
   },
   {
    "duration": 12,
    "start_time": "2022-11-28T18:10:55.264Z"
   },
   {
    "duration": 12,
    "start_time": "2022-11-28T18:10:55.278Z"
   },
   {
    "duration": 13,
    "start_time": "2022-11-28T18:10:55.311Z"
   },
   {
    "duration": 20,
    "start_time": "2022-11-28T18:10:55.326Z"
   },
   {
    "duration": 8,
    "start_time": "2022-11-28T18:10:55.348Z"
   },
   {
    "duration": 5,
    "start_time": "2022-11-28T18:10:55.359Z"
   },
   {
    "duration": 13,
    "start_time": "2022-11-28T18:10:55.366Z"
   },
   {
    "duration": 34,
    "start_time": "2022-11-28T18:10:55.381Z"
   },
   {
    "duration": 344,
    "start_time": "2022-11-28T18:10:55.416Z"
   },
   {
    "duration": 388,
    "start_time": "2022-11-28T18:10:55.762Z"
   },
   {
    "duration": 785,
    "start_time": "2022-11-28T18:10:56.152Z"
   },
   {
    "duration": 318,
    "start_time": "2022-11-28T18:10:56.939Z"
   },
   {
    "duration": 329,
    "start_time": "2022-11-28T18:10:57.259Z"
   },
   {
    "duration": 434,
    "start_time": "2022-11-28T18:10:57.590Z"
   },
   {
    "duration": 243,
    "start_time": "2022-11-28T18:10:58.026Z"
   },
   {
    "duration": 206,
    "start_time": "2022-11-28T18:10:58.271Z"
   },
   {
    "duration": 248,
    "start_time": "2022-11-28T18:10:58.480Z"
   },
   {
    "duration": 141,
    "start_time": "2022-11-28T18:10:58.731Z"
   },
   {
    "duration": 221,
    "start_time": "2022-11-28T18:10:58.873Z"
   },
   {
    "duration": 260,
    "start_time": "2022-11-28T18:10:59.096Z"
   },
   {
    "duration": 258,
    "start_time": "2022-11-28T18:10:59.358Z"
   },
   {
    "duration": 237,
    "start_time": "2022-11-28T18:10:59.618Z"
   },
   {
    "duration": 174,
    "start_time": "2022-11-28T18:10:59.856Z"
   },
   {
    "duration": 161,
    "start_time": "2022-11-28T18:11:00.034Z"
   },
   {
    "duration": 424,
    "start_time": "2022-11-28T18:11:00.197Z"
   },
   {
    "duration": 152,
    "start_time": "2022-11-28T18:11:00.623Z"
   },
   {
    "duration": 338,
    "start_time": "2022-11-28T18:11:00.778Z"
   },
   {
    "duration": 176,
    "start_time": "2022-11-28T18:11:01.119Z"
   },
   {
    "duration": 183,
    "start_time": "2022-11-28T18:11:01.297Z"
   },
   {
    "duration": 178,
    "start_time": "2022-11-28T18:11:01.482Z"
   },
   {
    "duration": 158,
    "start_time": "2022-11-28T18:11:01.661Z"
   },
   {
    "duration": 163,
    "start_time": "2022-11-28T18:11:01.821Z"
   },
   {
    "duration": 595,
    "start_time": "2022-11-28T18:11:01.985Z"
   },
   {
    "duration": 37,
    "start_time": "2022-11-28T18:11:02.582Z"
   },
   {
    "duration": 180,
    "start_time": "2022-11-28T18:11:02.621Z"
   },
   {
    "duration": 967,
    "start_time": "2022-11-29T07:04:51.375Z"
   },
   {
    "duration": 15,
    "start_time": "2022-11-29T07:04:52.345Z"
   },
   {
    "duration": 25,
    "start_time": "2022-11-29T07:04:52.361Z"
   },
   {
    "duration": 100,
    "start_time": "2022-11-29T07:04:52.388Z"
   },
   {
    "duration": 11,
    "start_time": "2022-11-29T07:04:52.489Z"
   },
   {
    "duration": 10,
    "start_time": "2022-11-29T07:04:52.502Z"
   },
   {
    "duration": 12,
    "start_time": "2022-11-29T07:04:52.514Z"
   },
   {
    "duration": 14,
    "start_time": "2022-11-29T07:04:52.527Z"
   },
   {
    "duration": 38,
    "start_time": "2022-11-29T07:04:52.542Z"
   },
   {
    "duration": 6,
    "start_time": "2022-11-29T07:04:52.584Z"
   },
   {
    "duration": 8,
    "start_time": "2022-11-29T07:04:52.591Z"
   },
   {
    "duration": 8,
    "start_time": "2022-11-29T07:04:52.601Z"
   },
   {
    "duration": 317,
    "start_time": "2022-11-29T07:04:52.610Z"
   },
   {
    "duration": 335,
    "start_time": "2022-11-29T07:04:52.929Z"
   },
   {
    "duration": 560,
    "start_time": "2022-11-29T07:04:53.266Z"
   },
   {
    "duration": 304,
    "start_time": "2022-11-29T07:04:53.828Z"
   },
   {
    "duration": 283,
    "start_time": "2022-11-29T07:04:54.133Z"
   },
   {
    "duration": 377,
    "start_time": "2022-11-29T07:04:54.418Z"
   },
   {
    "duration": 206,
    "start_time": "2022-11-29T07:04:54.797Z"
   },
   {
    "duration": 185,
    "start_time": "2022-11-29T07:04:55.005Z"
   },
   {
    "duration": 185,
    "start_time": "2022-11-29T07:04:55.192Z"
   },
   {
    "duration": 124,
    "start_time": "2022-11-29T07:04:55.380Z"
   },
   {
    "duration": 191,
    "start_time": "2022-11-29T07:04:55.506Z"
   },
   {
    "duration": 196,
    "start_time": "2022-11-29T07:04:55.699Z"
   },
   {
    "duration": 186,
    "start_time": "2022-11-29T07:04:55.897Z"
   },
   {
    "duration": 203,
    "start_time": "2022-11-29T07:04:56.084Z"
   },
   {
    "duration": 143,
    "start_time": "2022-11-29T07:04:56.288Z"
   },
   {
    "duration": 122,
    "start_time": "2022-11-29T07:04:56.434Z"
   },
   {
    "duration": 331,
    "start_time": "2022-11-29T07:04:56.558Z"
   },
   {
    "duration": 126,
    "start_time": "2022-11-29T07:04:56.890Z"
   },
   {
    "duration": 261,
    "start_time": "2022-11-29T07:04:57.017Z"
   },
   {
    "duration": 133,
    "start_time": "2022-11-29T07:04:57.280Z"
   },
   {
    "duration": 153,
    "start_time": "2022-11-29T07:04:57.414Z"
   },
   {
    "duration": 150,
    "start_time": "2022-11-29T07:04:57.568Z"
   },
   {
    "duration": 127,
    "start_time": "2022-11-29T07:04:57.719Z"
   },
   {
    "duration": 138,
    "start_time": "2022-11-29T07:04:57.848Z"
   },
   {
    "duration": 498,
    "start_time": "2022-11-29T07:04:57.988Z"
   },
   {
    "duration": 21,
    "start_time": "2022-11-29T07:04:58.488Z"
   },
   {
    "duration": 150,
    "start_time": "2022-11-29T07:04:58.511Z"
   },
   {
    "duration": 49,
    "start_time": "2022-11-29T18:45:37.987Z"
   },
   {
    "duration": 1551,
    "start_time": "2022-11-29T18:45:48.937Z"
   },
   {
    "duration": 17,
    "start_time": "2022-11-29T18:45:50.490Z"
   },
   {
    "duration": 27,
    "start_time": "2022-11-29T18:45:50.509Z"
   },
   {
    "duration": 126,
    "start_time": "2022-11-29T18:45:50.555Z"
   },
   {
    "duration": 12,
    "start_time": "2022-11-29T18:45:50.682Z"
   },
   {
    "duration": 9,
    "start_time": "2022-11-29T18:45:50.695Z"
   },
   {
    "duration": 8,
    "start_time": "2022-11-29T18:45:50.706Z"
   },
   {
    "duration": 13,
    "start_time": "2022-11-29T18:45:50.716Z"
   },
   {
    "duration": 104,
    "start_time": "2022-11-29T18:45:50.755Z"
   },
   {
    "duration": 6,
    "start_time": "2022-11-29T18:45:50.862Z"
   },
   {
    "duration": 18,
    "start_time": "2022-11-29T18:45:50.870Z"
   },
   {
    "duration": 10,
    "start_time": "2022-11-29T18:45:50.890Z"
   },
   {
    "duration": 356,
    "start_time": "2022-11-29T18:45:50.902Z"
   },
   {
    "duration": 312,
    "start_time": "2022-11-29T18:45:51.260Z"
   },
   {
    "duration": 690,
    "start_time": "2022-11-29T18:45:51.574Z"
   },
   {
    "duration": 300,
    "start_time": "2022-11-29T18:45:52.266Z"
   },
   {
    "duration": 384,
    "start_time": "2022-11-29T18:45:52.568Z"
   },
   {
    "duration": 311,
    "start_time": "2022-11-29T18:45:52.954Z"
   },
   {
    "duration": 224,
    "start_time": "2022-11-29T18:45:53.266Z"
   },
   {
    "duration": 210,
    "start_time": "2022-11-29T18:45:53.492Z"
   },
   {
    "duration": 229,
    "start_time": "2022-11-29T18:45:53.704Z"
   },
   {
    "duration": 133,
    "start_time": "2022-11-29T18:45:53.935Z"
   },
   {
    "duration": 203,
    "start_time": "2022-11-29T18:45:54.070Z"
   },
   {
    "duration": 242,
    "start_time": "2022-11-29T18:45:54.274Z"
   },
   {
    "duration": 251,
    "start_time": "2022-11-29T18:45:54.518Z"
   },
   {
    "duration": 298,
    "start_time": "2022-11-29T18:45:54.772Z"
   },
   {
    "duration": 156,
    "start_time": "2022-11-29T18:45:55.072Z"
   },
   {
    "duration": 140,
    "start_time": "2022-11-29T18:45:55.231Z"
   },
   {
    "duration": 300,
    "start_time": "2022-11-29T18:45:55.372Z"
   },
   {
    "duration": 132,
    "start_time": "2022-11-29T18:45:55.674Z"
   },
   {
    "duration": 298,
    "start_time": "2022-11-29T18:45:55.808Z"
   },
   {
    "duration": 99,
    "start_time": "2022-11-29T18:45:56.107Z"
   },
   {
    "duration": 0,
    "start_time": "2022-11-29T18:45:56.208Z"
   },
   {
    "duration": 0,
    "start_time": "2022-11-29T18:45:56.209Z"
   },
   {
    "duration": 0,
    "start_time": "2022-11-29T18:45:56.210Z"
   },
   {
    "duration": 0,
    "start_time": "2022-11-29T18:45:56.211Z"
   },
   {
    "duration": 0,
    "start_time": "2022-11-29T18:45:56.212Z"
   },
   {
    "duration": 0,
    "start_time": "2022-11-29T18:45:56.213Z"
   },
   {
    "duration": 0,
    "start_time": "2022-11-29T18:45:56.214Z"
   },
   {
    "duration": 325,
    "start_time": "2022-11-29T18:47:19.643Z"
   },
   {
    "duration": 83,
    "start_time": "2022-11-29T18:47:43.281Z"
   },
   {
    "duration": 755,
    "start_time": "2022-11-29T18:47:58.683Z"
   },
   {
    "duration": 24,
    "start_time": "2022-11-29T18:47:59.440Z"
   },
   {
    "duration": 25,
    "start_time": "2022-11-29T18:47:59.466Z"
   },
   {
    "duration": 112,
    "start_time": "2022-11-29T18:47:59.493Z"
   },
   {
    "duration": 11,
    "start_time": "2022-11-29T18:47:59.607Z"
   },
   {
    "duration": 8,
    "start_time": "2022-11-29T18:47:59.619Z"
   },
   {
    "duration": 26,
    "start_time": "2022-11-29T18:47:59.629Z"
   },
   {
    "duration": 13,
    "start_time": "2022-11-29T18:47:59.657Z"
   },
   {
    "duration": 110,
    "start_time": "2022-11-29T18:47:59.671Z"
   },
   {
    "duration": 6,
    "start_time": "2022-11-29T18:47:59.784Z"
   },
   {
    "duration": 8,
    "start_time": "2022-11-29T18:47:59.791Z"
   },
   {
    "duration": 9,
    "start_time": "2022-11-29T18:47:59.801Z"
   },
   {
    "duration": 374,
    "start_time": "2022-11-29T18:47:59.812Z"
   },
   {
    "duration": 327,
    "start_time": "2022-11-29T18:48:00.188Z"
   },
   {
    "duration": 654,
    "start_time": "2022-11-29T18:48:00.517Z"
   },
   {
    "duration": 317,
    "start_time": "2022-11-29T18:48:01.173Z"
   },
   {
    "duration": 390,
    "start_time": "2022-11-29T18:48:01.492Z"
   },
   {
    "duration": 313,
    "start_time": "2022-11-29T18:48:01.884Z"
   },
   {
    "duration": 220,
    "start_time": "2022-11-29T18:48:02.199Z"
   },
   {
    "duration": 185,
    "start_time": "2022-11-29T18:48:02.421Z"
   },
   {
    "duration": 208,
    "start_time": "2022-11-29T18:48:02.608Z"
   },
   {
    "duration": 139,
    "start_time": "2022-11-29T18:48:02.818Z"
   },
   {
    "duration": 206,
    "start_time": "2022-11-29T18:48:02.959Z"
   },
   {
    "duration": 213,
    "start_time": "2022-11-29T18:48:03.167Z"
   },
   {
    "duration": 217,
    "start_time": "2022-11-29T18:48:03.382Z"
   },
   {
    "duration": 319,
    "start_time": "2022-11-29T18:48:03.601Z"
   },
   {
    "duration": 157,
    "start_time": "2022-11-29T18:48:03.921Z"
   },
   {
    "duration": 169,
    "start_time": "2022-11-29T18:48:04.082Z"
   },
   {
    "duration": 308,
    "start_time": "2022-11-29T18:48:04.254Z"
   },
   {
    "duration": 161,
    "start_time": "2022-11-29T18:48:04.563Z"
   },
   {
    "duration": 325,
    "start_time": "2022-11-29T18:48:04.726Z"
   },
   {
    "duration": 102,
    "start_time": "2022-11-29T18:48:05.054Z"
   },
   {
    "duration": 0,
    "start_time": "2022-11-29T18:48:05.158Z"
   },
   {
    "duration": 0,
    "start_time": "2022-11-29T18:48:05.159Z"
   },
   {
    "duration": 0,
    "start_time": "2022-11-29T18:48:05.160Z"
   },
   {
    "duration": 0,
    "start_time": "2022-11-29T18:48:05.162Z"
   },
   {
    "duration": 0,
    "start_time": "2022-11-29T18:48:05.163Z"
   },
   {
    "duration": 0,
    "start_time": "2022-11-29T18:48:05.165Z"
   },
   {
    "duration": 0,
    "start_time": "2022-11-29T18:48:05.166Z"
   },
   {
    "duration": 10,
    "start_time": "2022-11-29T18:49:03.523Z"
   },
   {
    "duration": 783,
    "start_time": "2022-11-29T18:49:11.096Z"
   },
   {
    "duration": 13,
    "start_time": "2022-11-29T18:49:11.881Z"
   },
   {
    "duration": 33,
    "start_time": "2022-11-29T18:49:11.896Z"
   },
   {
    "duration": 109,
    "start_time": "2022-11-29T18:49:11.931Z"
   },
   {
    "duration": 21,
    "start_time": "2022-11-29T18:49:12.042Z"
   },
   {
    "duration": 9,
    "start_time": "2022-11-29T18:49:12.064Z"
   },
   {
    "duration": 21,
    "start_time": "2022-11-29T18:49:12.074Z"
   },
   {
    "duration": 18,
    "start_time": "2022-11-29T18:49:12.096Z"
   },
   {
    "duration": 11,
    "start_time": "2022-11-29T18:49:12.115Z"
   },
   {
    "duration": 11,
    "start_time": "2022-11-29T18:49:12.128Z"
   },
   {
    "duration": 19,
    "start_time": "2022-11-29T18:49:12.140Z"
   },
   {
    "duration": 21,
    "start_time": "2022-11-29T18:49:12.161Z"
   },
   {
    "duration": 295,
    "start_time": "2022-11-29T18:49:12.184Z"
   },
   {
    "duration": 364,
    "start_time": "2022-11-29T18:49:12.481Z"
   },
   {
    "duration": 660,
    "start_time": "2022-11-29T18:49:12.846Z"
   },
   {
    "duration": 345,
    "start_time": "2022-11-29T18:49:13.508Z"
   },
   {
    "duration": 295,
    "start_time": "2022-11-29T18:49:13.857Z"
   },
   {
    "duration": 410,
    "start_time": "2022-11-29T18:49:14.154Z"
   },
   {
    "duration": 229,
    "start_time": "2022-11-29T18:49:14.565Z"
   },
   {
    "duration": 228,
    "start_time": "2022-11-29T18:49:14.796Z"
   },
   {
    "duration": 209,
    "start_time": "2022-11-29T18:49:15.027Z"
   },
   {
    "duration": 137,
    "start_time": "2022-11-29T18:49:15.238Z"
   },
   {
    "duration": 199,
    "start_time": "2022-11-29T18:49:15.377Z"
   },
   {
    "duration": 211,
    "start_time": "2022-11-29T18:49:15.578Z"
   },
   {
    "duration": 210,
    "start_time": "2022-11-29T18:49:15.791Z"
   },
   {
    "duration": 222,
    "start_time": "2022-11-29T18:49:16.002Z"
   },
   {
    "duration": 174,
    "start_time": "2022-11-29T18:49:16.226Z"
   },
   {
    "duration": 136,
    "start_time": "2022-11-29T18:49:16.403Z"
   },
   {
    "duration": 447,
    "start_time": "2022-11-29T18:49:16.540Z"
   },
   {
    "duration": 134,
    "start_time": "2022-11-29T18:49:16.989Z"
   },
   {
    "duration": 311,
    "start_time": "2022-11-29T18:49:17.125Z"
   },
   {
    "duration": 154,
    "start_time": "2022-11-29T18:49:17.438Z"
   },
   {
    "duration": 165,
    "start_time": "2022-11-29T18:49:17.593Z"
   },
   {
    "duration": 162,
    "start_time": "2022-11-29T18:49:17.760Z"
   },
   {
    "duration": 154,
    "start_time": "2022-11-29T18:49:17.923Z"
   },
   {
    "duration": 148,
    "start_time": "2022-11-29T18:49:18.078Z"
   },
   {
    "duration": 571,
    "start_time": "2022-11-29T18:49:18.228Z"
   },
   {
    "duration": 24,
    "start_time": "2022-11-29T18:49:18.802Z"
   },
   {
    "duration": 186,
    "start_time": "2022-11-29T18:49:18.828Z"
   },
   {
    "duration": 140,
    "start_time": "2022-11-29T18:51:34.688Z"
   },
   {
    "duration": 13,
    "start_time": "2022-11-29T18:52:06.027Z"
   },
   {
    "duration": 735,
    "start_time": "2022-11-29T18:52:14.889Z"
   },
   {
    "duration": 14,
    "start_time": "2022-11-29T18:52:15.626Z"
   },
   {
    "duration": 36,
    "start_time": "2022-11-29T18:52:15.642Z"
   },
   {
    "duration": 114,
    "start_time": "2022-11-29T18:52:15.680Z"
   },
   {
    "duration": 12,
    "start_time": "2022-11-29T18:52:15.795Z"
   },
   {
    "duration": 9,
    "start_time": "2022-11-29T18:52:15.809Z"
   },
   {
    "duration": 9,
    "start_time": "2022-11-29T18:52:15.819Z"
   },
   {
    "duration": 38,
    "start_time": "2022-11-29T18:52:15.830Z"
   },
   {
    "duration": 8,
    "start_time": "2022-11-29T18:52:15.869Z"
   },
   {
    "duration": 5,
    "start_time": "2022-11-29T18:52:15.880Z"
   },
   {
    "duration": 10,
    "start_time": "2022-11-29T18:52:15.887Z"
   },
   {
    "duration": 11,
    "start_time": "2022-11-29T18:52:15.899Z"
   },
   {
    "duration": 318,
    "start_time": "2022-11-29T18:52:15.912Z"
   },
   {
    "duration": 377,
    "start_time": "2022-11-29T18:52:16.231Z"
   },
   {
    "duration": 707,
    "start_time": "2022-11-29T18:52:16.610Z"
   },
   {
    "duration": 305,
    "start_time": "2022-11-29T18:52:17.319Z"
   },
   {
    "duration": 308,
    "start_time": "2022-11-29T18:52:17.626Z"
   },
   {
    "duration": 397,
    "start_time": "2022-11-29T18:52:17.936Z"
   },
   {
    "duration": 219,
    "start_time": "2022-11-29T18:52:18.335Z"
   },
   {
    "duration": 189,
    "start_time": "2022-11-29T18:52:18.556Z"
   },
   {
    "duration": 218,
    "start_time": "2022-11-29T18:52:18.746Z"
   },
   {
    "duration": 155,
    "start_time": "2022-11-29T18:52:18.967Z"
   },
   {
    "duration": 210,
    "start_time": "2022-11-29T18:52:19.124Z"
   },
   {
    "duration": 206,
    "start_time": "2022-11-29T18:52:19.336Z"
   },
   {
    "duration": 231,
    "start_time": "2022-11-29T18:52:19.544Z"
   },
   {
    "duration": 204,
    "start_time": "2022-11-29T18:52:19.777Z"
   },
   {
    "duration": 153,
    "start_time": "2022-11-29T18:52:19.983Z"
   },
   {
    "duration": 143,
    "start_time": "2022-11-29T18:52:20.139Z"
   },
   {
    "duration": 402,
    "start_time": "2022-11-29T18:52:20.284Z"
   },
   {
    "duration": 143,
    "start_time": "2022-11-29T18:52:20.688Z"
   },
   {
    "duration": 313,
    "start_time": "2022-11-29T18:52:20.833Z"
   },
   {
    "duration": 168,
    "start_time": "2022-11-29T18:52:21.148Z"
   },
   {
    "duration": 186,
    "start_time": "2022-11-29T18:52:21.318Z"
   },
   {
    "duration": 193,
    "start_time": "2022-11-29T18:52:21.506Z"
   },
   {
    "duration": 192,
    "start_time": "2022-11-29T18:52:21.701Z"
   },
   {
    "duration": 146,
    "start_time": "2022-11-29T18:52:21.895Z"
   },
   {
    "duration": 582,
    "start_time": "2022-11-29T18:52:22.043Z"
   },
   {
    "duration": 32,
    "start_time": "2022-11-29T18:52:22.627Z"
   },
   {
    "duration": 153,
    "start_time": "2022-11-29T18:52:22.660Z"
   },
   {
    "duration": 803,
    "start_time": "2022-11-29T18:55:16.454Z"
   },
   {
    "duration": 16,
    "start_time": "2022-11-29T18:55:17.259Z"
   },
   {
    "duration": 27,
    "start_time": "2022-11-29T18:55:17.277Z"
   },
   {
    "duration": 137,
    "start_time": "2022-11-29T18:55:17.306Z"
   },
   {
    "duration": 18,
    "start_time": "2022-11-29T18:55:17.445Z"
   },
   {
    "duration": 10,
    "start_time": "2022-11-29T18:55:17.465Z"
   },
   {
    "duration": 9,
    "start_time": "2022-11-29T18:55:17.477Z"
   },
   {
    "duration": 16,
    "start_time": "2022-11-29T18:55:17.488Z"
   },
   {
    "duration": 7,
    "start_time": "2022-11-29T18:55:17.506Z"
   },
   {
    "duration": 43,
    "start_time": "2022-11-29T18:55:17.516Z"
   },
   {
    "duration": 11,
    "start_time": "2022-11-29T18:55:17.561Z"
   },
   {
    "duration": 10,
    "start_time": "2022-11-29T18:55:17.574Z"
   },
   {
    "duration": 311,
    "start_time": "2022-11-29T18:55:17.586Z"
   },
   {
    "duration": 375,
    "start_time": "2022-11-29T18:55:17.899Z"
   },
   {
    "duration": 621,
    "start_time": "2022-11-29T18:55:18.276Z"
   },
   {
    "duration": 355,
    "start_time": "2022-11-29T18:55:18.899Z"
   },
   {
    "duration": 307,
    "start_time": "2022-11-29T18:55:19.255Z"
   },
   {
    "duration": 412,
    "start_time": "2022-11-29T18:55:19.563Z"
   },
   {
    "duration": 227,
    "start_time": "2022-11-29T18:55:19.977Z"
   },
   {
    "duration": 195,
    "start_time": "2022-11-29T18:55:20.206Z"
   },
   {
    "duration": 212,
    "start_time": "2022-11-29T18:55:20.403Z"
   },
   {
    "duration": 126,
    "start_time": "2022-11-29T18:55:20.617Z"
   },
   {
    "duration": 214,
    "start_time": "2022-11-29T18:55:20.745Z"
   },
   {
    "duration": 220,
    "start_time": "2022-11-29T18:55:20.962Z"
   },
   {
    "duration": 201,
    "start_time": "2022-11-29T18:55:21.184Z"
   },
   {
    "duration": 209,
    "start_time": "2022-11-29T18:55:21.387Z"
   },
   {
    "duration": 155,
    "start_time": "2022-11-29T18:55:21.597Z"
   },
   {
    "duration": 141,
    "start_time": "2022-11-29T18:55:21.756Z"
   },
   {
    "duration": 379,
    "start_time": "2022-11-29T18:55:21.899Z"
   },
   {
    "duration": 138,
    "start_time": "2022-11-29T18:55:22.280Z"
   },
   {
    "duration": 297,
    "start_time": "2022-11-29T18:55:22.420Z"
   },
   {
    "duration": 181,
    "start_time": "2022-11-29T18:55:22.719Z"
   },
   {
    "duration": 190,
    "start_time": "2022-11-29T18:55:22.901Z"
   },
   {
    "duration": 296,
    "start_time": "2022-11-29T18:55:23.093Z"
   },
   {
    "duration": 0,
    "start_time": "2022-11-29T18:55:23.391Z"
   },
   {
    "duration": 0,
    "start_time": "2022-11-29T18:55:23.392Z"
   },
   {
    "duration": 0,
    "start_time": "2022-11-29T18:55:23.394Z"
   },
   {
    "duration": 0,
    "start_time": "2022-11-29T18:55:23.395Z"
   },
   {
    "duration": 0,
    "start_time": "2022-11-29T18:55:23.396Z"
   },
   {
    "duration": 801,
    "start_time": "2022-11-29T18:56:57.739Z"
   },
   {
    "duration": 17,
    "start_time": "2022-11-29T18:56:58.542Z"
   },
   {
    "duration": 26,
    "start_time": "2022-11-29T18:56:58.561Z"
   },
   {
    "duration": 128,
    "start_time": "2022-11-29T18:56:58.589Z"
   },
   {
    "duration": 12,
    "start_time": "2022-11-29T18:56:58.720Z"
   },
   {
    "duration": 22,
    "start_time": "2022-11-29T18:56:58.734Z"
   },
   {
    "duration": 9,
    "start_time": "2022-11-29T18:56:58.758Z"
   },
   {
    "duration": 16,
    "start_time": "2022-11-29T18:56:58.768Z"
   },
   {
    "duration": 7,
    "start_time": "2022-11-29T18:56:58.785Z"
   },
   {
    "duration": 9,
    "start_time": "2022-11-29T18:56:58.794Z"
   },
   {
    "duration": 14,
    "start_time": "2022-11-29T18:56:58.805Z"
   },
   {
    "duration": 38,
    "start_time": "2022-11-29T18:56:58.820Z"
   },
   {
    "duration": 296,
    "start_time": "2022-11-29T18:56:58.860Z"
   },
   {
    "duration": 350,
    "start_time": "2022-11-29T18:56:59.159Z"
   },
   {
    "duration": 625,
    "start_time": "2022-11-29T18:56:59.511Z"
   },
   {
    "duration": 303,
    "start_time": "2022-11-29T18:57:00.137Z"
   },
   {
    "duration": 323,
    "start_time": "2022-11-29T18:57:00.441Z"
   },
   {
    "duration": 427,
    "start_time": "2022-11-29T18:57:00.766Z"
   },
   {
    "duration": 218,
    "start_time": "2022-11-29T18:57:01.195Z"
   },
   {
    "duration": 183,
    "start_time": "2022-11-29T18:57:01.414Z"
   },
   {
    "duration": 204,
    "start_time": "2022-11-29T18:57:01.598Z"
   },
   {
    "duration": 127,
    "start_time": "2022-11-29T18:57:01.804Z"
   },
   {
    "duration": 214,
    "start_time": "2022-11-29T18:57:01.932Z"
   },
   {
    "duration": 223,
    "start_time": "2022-11-29T18:57:02.148Z"
   },
   {
    "duration": 219,
    "start_time": "2022-11-29T18:57:02.373Z"
   },
   {
    "duration": 212,
    "start_time": "2022-11-29T18:57:02.593Z"
   },
   {
    "duration": 156,
    "start_time": "2022-11-29T18:57:02.807Z"
   },
   {
    "duration": 134,
    "start_time": "2022-11-29T18:57:02.965Z"
   },
   {
    "duration": 378,
    "start_time": "2022-11-29T18:57:03.101Z"
   },
   {
    "duration": 130,
    "start_time": "2022-11-29T18:57:03.481Z"
   },
   {
    "duration": 330,
    "start_time": "2022-11-29T18:57:03.613Z"
   },
   {
    "duration": 169,
    "start_time": "2022-11-29T18:57:03.945Z"
   },
   {
    "duration": 186,
    "start_time": "2022-11-29T18:57:04.115Z"
   },
   {
    "duration": 180,
    "start_time": "2022-11-29T18:57:04.303Z"
   },
   {
    "duration": 190,
    "start_time": "2022-11-29T18:57:04.485Z"
   },
   {
    "duration": 148,
    "start_time": "2022-11-29T18:57:04.677Z"
   },
   {
    "duration": 573,
    "start_time": "2022-11-29T18:57:04.827Z"
   },
   {
    "duration": 23,
    "start_time": "2022-11-29T18:57:05.402Z"
   },
   {
    "duration": 182,
    "start_time": "2022-11-29T18:57:05.427Z"
   },
   {
    "duration": 307,
    "start_time": "2022-11-29T18:58:37.925Z"
   },
   {
    "duration": 315,
    "start_time": "2022-11-29T18:58:51.407Z"
   },
   {
    "duration": 320,
    "start_time": "2022-11-29T18:59:16.830Z"
   },
   {
    "duration": 294,
    "start_time": "2022-11-29T18:59:25.099Z"
   },
   {
    "duration": 209,
    "start_time": "2022-11-29T18:59:46.205Z"
   },
   {
    "duration": 302,
    "start_time": "2022-11-29T18:59:54.192Z"
   },
   {
    "duration": 168,
    "start_time": "2022-11-29T19:00:02.695Z"
   },
   {
    "duration": 904,
    "start_time": "2022-11-29T19:03:23.473Z"
   },
   {
    "duration": 16,
    "start_time": "2022-11-29T19:03:24.378Z"
   },
   {
    "duration": 53,
    "start_time": "2022-11-29T19:03:24.396Z"
   },
   {
    "duration": 132,
    "start_time": "2022-11-29T19:03:24.452Z"
   },
   {
    "duration": 15,
    "start_time": "2022-11-29T19:03:24.590Z"
   },
   {
    "duration": 58,
    "start_time": "2022-11-29T19:03:24.608Z"
   },
   {
    "duration": 39,
    "start_time": "2022-11-29T19:03:24.668Z"
   },
   {
    "duration": 53,
    "start_time": "2022-11-29T19:03:24.710Z"
   },
   {
    "duration": 74,
    "start_time": "2022-11-29T19:03:24.765Z"
   },
   {
    "duration": 46,
    "start_time": "2022-11-29T19:03:24.842Z"
   },
   {
    "duration": 70,
    "start_time": "2022-11-29T19:03:24.890Z"
   },
   {
    "duration": 59,
    "start_time": "2022-11-29T19:03:24.962Z"
   },
   {
    "duration": 323,
    "start_time": "2022-11-29T19:03:25.023Z"
   },
   {
    "duration": 375,
    "start_time": "2022-11-29T19:03:25.348Z"
   },
   {
    "duration": 691,
    "start_time": "2022-11-29T19:03:25.725Z"
   },
   {
    "duration": 362,
    "start_time": "2022-11-29T19:03:26.418Z"
   },
   {
    "duration": 336,
    "start_time": "2022-11-29T19:03:26.782Z"
   },
   {
    "duration": 412,
    "start_time": "2022-11-29T19:03:27.119Z"
   },
   {
    "duration": 185,
    "start_time": "2022-11-29T19:03:27.534Z"
   },
   {
    "duration": 192,
    "start_time": "2022-11-29T19:03:27.721Z"
   },
   {
    "duration": 213,
    "start_time": "2022-11-29T19:03:27.915Z"
   },
   {
    "duration": 137,
    "start_time": "2022-11-29T19:03:28.130Z"
   },
   {
    "duration": 204,
    "start_time": "2022-11-29T19:03:28.269Z"
   },
   {
    "duration": 222,
    "start_time": "2022-11-29T19:03:28.474Z"
   },
   {
    "duration": 215,
    "start_time": "2022-11-29T19:03:28.698Z"
   },
   {
    "duration": 219,
    "start_time": "2022-11-29T19:03:28.915Z"
   },
   {
    "duration": 154,
    "start_time": "2022-11-29T19:03:29.136Z"
   },
   {
    "duration": 144,
    "start_time": "2022-11-29T19:03:29.294Z"
   },
   {
    "duration": 415,
    "start_time": "2022-11-29T19:03:29.440Z"
   },
   {
    "duration": 141,
    "start_time": "2022-11-29T19:03:29.856Z"
   },
   {
    "duration": 291,
    "start_time": "2022-11-29T19:03:29.999Z"
   },
   {
    "duration": 165,
    "start_time": "2022-11-29T19:03:30.291Z"
   },
   {
    "duration": 185,
    "start_time": "2022-11-29T19:03:30.458Z"
   },
   {
    "duration": 168,
    "start_time": "2022-11-29T19:03:30.645Z"
   },
   {
    "duration": 152,
    "start_time": "2022-11-29T19:03:30.815Z"
   },
   {
    "duration": 161,
    "start_time": "2022-11-29T19:03:30.969Z"
   },
   {
    "duration": 561,
    "start_time": "2022-11-29T19:03:31.131Z"
   },
   {
    "duration": 23,
    "start_time": "2022-11-29T19:03:31.694Z"
   },
   {
    "duration": 163,
    "start_time": "2022-11-29T19:03:31.719Z"
   },
   {
    "duration": 876,
    "start_time": "2022-11-30T14:54:46.996Z"
   },
   {
    "duration": 16,
    "start_time": "2022-11-30T14:54:47.875Z"
   },
   {
    "duration": 36,
    "start_time": "2022-11-30T14:54:47.894Z"
   },
   {
    "duration": 137,
    "start_time": "2022-11-30T14:54:47.932Z"
   },
   {
    "duration": 17,
    "start_time": "2022-11-30T14:54:48.070Z"
   },
   {
    "duration": 9,
    "start_time": "2022-11-30T14:54:48.088Z"
   },
   {
    "duration": 10,
    "start_time": "2022-11-30T14:54:48.099Z"
   },
   {
    "duration": 16,
    "start_time": "2022-11-30T14:54:48.110Z"
   },
   {
    "duration": 9,
    "start_time": "2022-11-30T14:54:48.128Z"
   },
   {
    "duration": 44,
    "start_time": "2022-11-30T14:54:48.139Z"
   },
   {
    "duration": 8,
    "start_time": "2022-11-30T14:54:48.185Z"
   },
   {
    "duration": 11,
    "start_time": "2022-11-30T14:54:48.195Z"
   },
   {
    "duration": 310,
    "start_time": "2022-11-30T14:54:48.207Z"
   },
   {
    "duration": 370,
    "start_time": "2022-11-30T14:54:48.518Z"
   },
   {
    "duration": 683,
    "start_time": "2022-11-30T14:54:48.891Z"
   },
   {
    "duration": 319,
    "start_time": "2022-11-30T14:54:49.577Z"
   },
   {
    "duration": 323,
    "start_time": "2022-11-30T14:54:49.897Z"
   },
   {
    "duration": 403,
    "start_time": "2022-11-30T14:54:50.222Z"
   },
   {
    "duration": 179,
    "start_time": "2022-11-30T14:54:50.627Z"
   },
   {
    "duration": 190,
    "start_time": "2022-11-30T14:54:50.808Z"
   },
   {
    "duration": 218,
    "start_time": "2022-11-30T14:54:51.000Z"
   },
   {
    "duration": 138,
    "start_time": "2022-11-30T14:54:51.220Z"
   },
   {
    "duration": 226,
    "start_time": "2022-11-30T14:54:51.361Z"
   },
   {
    "duration": 220,
    "start_time": "2022-11-30T14:54:51.589Z"
   },
   {
    "duration": 208,
    "start_time": "2022-11-30T14:54:51.810Z"
   },
   {
    "duration": 231,
    "start_time": "2022-11-30T14:54:52.020Z"
   },
   {
    "duration": 150,
    "start_time": "2022-11-30T14:54:52.253Z"
   },
   {
    "duration": 143,
    "start_time": "2022-11-30T14:54:52.407Z"
   },
   {
    "duration": 401,
    "start_time": "2022-11-30T14:54:52.552Z"
   },
   {
    "duration": 140,
    "start_time": "2022-11-30T14:54:52.955Z"
   },
   {
    "duration": 302,
    "start_time": "2022-11-30T14:54:53.097Z"
   },
   {
    "duration": 166,
    "start_time": "2022-11-30T14:54:53.401Z"
   },
   {
    "duration": 185,
    "start_time": "2022-11-30T14:54:53.568Z"
   },
   {
    "duration": 168,
    "start_time": "2022-11-30T14:54:53.754Z"
   },
   {
    "duration": 204,
    "start_time": "2022-11-30T14:54:53.924Z"
   },
   {
    "duration": 173,
    "start_time": "2022-11-30T14:54:54.129Z"
   },
   {
    "duration": 568,
    "start_time": "2022-11-30T14:54:54.304Z"
   },
   {
    "duration": 21,
    "start_time": "2022-11-30T14:54:54.877Z"
   },
   {
    "duration": 182,
    "start_time": "2022-11-30T14:54:54.900Z"
   }
  ],
  "kernelspec": {
   "display_name": "Python 3 (ipykernel)",
   "language": "python",
   "name": "python3"
  },
  "language_info": {
   "codemirror_mode": {
    "name": "ipython",
    "version": 3
   },
   "file_extension": ".py",
   "mimetype": "text/x-python",
   "name": "python",
   "nbconvert_exporter": "python",
   "pygments_lexer": "ipython3",
   "version": "3.9.13"
  },
  "toc": {
   "base_numbering": 1,
   "nav_menu": {},
   "number_sections": true,
   "sideBar": true,
   "skip_h1_title": true,
   "title_cell": "Table of Contents",
   "title_sidebar": "Contents",
   "toc_cell": false,
   "toc_position": {},
   "toc_section_display": true,
   "toc_window_display": false
  }
 },
 "nbformat": 4,
 "nbformat_minor": 2
}
