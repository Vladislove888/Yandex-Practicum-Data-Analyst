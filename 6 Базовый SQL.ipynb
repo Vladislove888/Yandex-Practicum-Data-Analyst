{
 "cells": [
  {
   "cell_type": "markdown",
   "id": "b2936084",
   "metadata": {},
   "source": [
    "# Исследование инвестиций венчурных фондов в стартапы."
   ]
  },
  {
   "cell_type": "markdown",
   "id": "994fe7b5",
   "metadata": {},
   "source": [
    "В этом проекте мы будем работать с базой данных, которая хранит информацию о венчурных фондах и инвестициях в компании-стартапы. Эта база данных основана на датасете Startup Investments, опубликованном на Kaggle https://www.kaggle.com/justinas/startup-investments."
   ]
  },
  {
   "cell_type": "markdown",
   "id": "de7e5137",
   "metadata": {},
   "source": [
    "1. Посчитайте, сколько компаний закрылось."
   ]
  },
  {
   "cell_type": "code",
   "execution_count": null,
   "id": "782ac468",
   "metadata": {},
   "outputs": [],
   "source": [
    "SELECT COUNT(status) AS closed_companies_count\n",
    "FROM company\n",
    "WHERE status = 'closed'"
   ]
  },
  {
   "cell_type": "markdown",
   "id": "281d48b0",
   "metadata": {},
   "source": [
    "2.\n",
    "Отобразите количество привлечённых средств для новостных компаний США. Используйте данные из таблицы company. Отсортируйте таблицу по убыванию значений в поле funding_total ."
   ]
  },
  {
   "cell_type": "code",
   "execution_count": null,
   "id": "e806f20c",
   "metadata": {},
   "outputs": [],
   "source": [
    "SELECT funding_total \n",
    "FROM company\n",
    "WHERE category_code = 'news'\n",
    "AND country_code = 'USA'\n",
    "ORDER BY funding_total DESC;"
   ]
  },
  {
   "cell_type": "markdown",
   "id": "1315813c",
   "metadata": {},
   "source": [
    "3.\n",
    "Найдите общую сумму сделок по покупке одних компаний другими в долларах. Отберите сделки, которые осуществлялись только за наличные с 2011 по 2013 год включительно."
   ]
  },
  {
   "cell_type": "code",
   "execution_count": null,
   "id": "5c646b95",
   "metadata": {},
   "outputs": [],
   "source": [
    "SELECT SUM(price_amount)\n",
    "FROM acquisition\n",
    "WHERE EXTRACT(YEAR FROM acquired_at) BETWEEN 2011 AND 2013\n",
    "AND term_code = 'cash';"
   ]
  },
  {
   "cell_type": "markdown",
   "id": "805bc24b",
   "metadata": {},
   "source": [
    "4.\n",
    "Отобразите имя, фамилию и названия аккаунтов людей в твиттере, у которых названия аккаунтов начинаются на 'Silver'."
   ]
  },
  {
   "cell_type": "code",
   "execution_count": null,
   "id": "c46bda63",
   "metadata": {},
   "outputs": [],
   "source": [
    "SELECT first_name,\n",
    "       last_name,\n",
    "       twitter_username\n",
    "FROM people\n",
    "WHERE twitter_username LIKE 'Silver%';"
   ]
  },
  {
   "cell_type": "markdown",
   "id": "51c0c978",
   "metadata": {},
   "source": [
    "5.\n",
    "Выведите на экран всю информацию о людях, у которых названия аккаунтов в твиттере содержат подстроку 'money', а фамилия начинается на 'K'."
   ]
  },
  {
   "cell_type": "code",
   "execution_count": null,
   "id": "2f0736aa",
   "metadata": {},
   "outputs": [],
   "source": [
    "SELECT *\n",
    "FROM people\n",
    "WHERE twitter_username LIKE '%money%' AND last_name LIKE 'K%';"
   ]
  },
  {
   "cell_type": "markdown",
   "id": "23514569",
   "metadata": {},
   "source": [
    "6.\n",
    "Для каждой страны отобразите общую сумму привлечённых инвестиций, которые получили компании, зарегистрированные в этой стране. Страну, в которой зарегистрирована компания, можно определить по коду страны. Отсортируйте данные по убыванию суммы."
   ]
  },
  {
   "cell_type": "code",
   "execution_count": null,
   "id": "dd1ff85d",
   "metadata": {},
   "outputs": [],
   "source": [
    "SELECT country_code,\n",
    "       SUM(funding_total)\n",
    "FROM company\n",
    "GROUP BY country_code\n",
    "ORDER BY SUM(funding_total) DESC;"
   ]
  },
  {
   "cell_type": "markdown",
   "id": "def86490",
   "metadata": {},
   "source": [
    "7.\n",
    "Составьте таблицу, в которую войдёт дата проведения раунда, а также минимальное и максимальное значения суммы инвестиций, привлечённых в эту дату.\n",
    "Оставьте в итоговой таблице только те записи, в которых минимальное значение суммы инвестиций не равно нулю и не равно максимальному значению."
   ]
  },
  {
   "cell_type": "code",
   "execution_count": null,
   "id": "beac13ab",
   "metadata": {},
   "outputs": [],
   "source": [
    "SELECT funded_at,\n",
    "       MIN(raised_amount) AS min_raised_amount,\n",
    "       MAX(raised_amount) AS max_raised_amount\n",
    "FROM funding_round \n",
    "GROUP BY funded_at\n",
    "HAVING MIN(raised_amount) <> 0 AND MIN(raised_amount) <> MAX(raised_amount);"
   ]
  },
  {
   "cell_type": "markdown",
   "id": "0d114ac6",
   "metadata": {},
   "source": [
    "8.\n",
    "Создайте поле с категориями:\n",
    "Для фондов, которые инвестируют в 100 и более компаний, назначьте категорию high_activity.\n",
    "Для фондов, которые инвестируют в 20 и более компаний до 100, назначьте категорию middle_activity.\n",
    "Если количество инвестируемых компаний фонда не достигает 20, назначьте категорию low_activity.\n",
    "Отобразите все поля таблицы fund и новое поле с категориями."
   ]
  },
  {
   "cell_type": "code",
   "execution_count": null,
   "id": "ed02b97f",
   "metadata": {},
   "outputs": [],
   "source": [
    "SELECT *,\n",
    "       CASE\n",
    "           WHEN invested_companies >= 100 THEN 'high_activity'\n",
    "           WHEN invested_companies < 20 THEN 'low_activity'\n",
    "           ELSE 'middle_activity'\n",
    "           END AS category\n",
    "FROM fund;"
   ]
  },
  {
   "cell_type": "markdown",
   "id": "c48d52a0",
   "metadata": {},
   "source": [
    "9.\n",
    "Для каждой из категорий, назначенных в предыдущем задании, посчитайте округлённое до ближайшего целого числа среднее количество инвестиционных раундов, в которых фонд принимал участие. Выведите на экран категории и среднее число инвестиционных раундов. Отсортируйте таблицу по возрастанию среднего."
   ]
  },
  {
   "cell_type": "code",
   "execution_count": null,
   "id": "fbbabcbf",
   "metadata": {},
   "outputs": [],
   "source": [
    "SELECT \n",
    "       CASE\n",
    "           WHEN invested_companies>=100 THEN 'high_activity'\n",
    "           WHEN invested_companies>=20 THEN 'middle_activity'\n",
    "           ELSE 'low_activity'\n",
    "       END AS activity,\n",
    "       ROUND(AVG(investment_rounds)) AS avg_investment_rounds\n",
    "FROM fund\n",
    "GROUP BY activity\n",
    "ORDER BY avg_investment_rounds;"
   ]
  },
  {
   "cell_type": "markdown",
   "id": "87fd5642",
   "metadata": {},
   "source": [
    "10.\n",
    "Проанализируйте, в каких странах находятся фонды, которые чаще всего инвестируют в стартапы. \n",
    "Для каждой страны посчитайте минимальное, максимальное и среднее число компаний, в которые инвестировали фонды этой страны, основанные с 2010 по 2012 год включительно. Исключите страны с фондами, у которых минимальное число компаний, получивших инвестиции, равно нулю. Выгрузите десять самых активных стран-инвесторов.\n",
    "Отсортируйте таблицу по среднему количеству компаний от большего к меньшему, а затем по коду страны в лексикографическом порядке."
   ]
  },
  {
   "cell_type": "code",
   "execution_count": null,
   "id": "2f21bd0b",
   "metadata": {},
   "outputs": [],
   "source": [
    "SELECT country_code,\n",
    "       MIN(invested_companies) AS min_invested_companies,\n",
    "       MAX(invested_companies) AS max_invested_companies,\n",
    "       AVG(invested_companies) AS avg_invested_companies\n",
    "FROM fund\n",
    "WHERE EXTRACT(YEAR FROM founded_at) BETWEEN 2010 AND 2012\n",
    "GROUP BY country_code\n",
    "HAVING MIN(invested_companies) <> 0\n",
    "ORDER BY avg_invested_companies DESC\n",
    "LIMIT 10;"
   ]
  },
  {
   "cell_type": "markdown",
   "id": "20a056fb",
   "metadata": {},
   "source": [
    "11.\n",
    "Отобразите имя и фамилию всех сотрудников стартапов. Добавьте поле с названием учебного заведения, которое окончил сотрудник, если эта информация известна."
   ]
  },
  {
   "cell_type": "code",
   "execution_count": null,
   "id": "ea138661",
   "metadata": {},
   "outputs": [],
   "source": [
    "SELECT first_name,\n",
    "       last_name,\n",
    "       instituition\n",
    "FROM people AS p\n",
    "LEFT JOIN education AS ed ON p.id = ed.person_id;"
   ]
  },
  {
   "cell_type": "markdown",
   "id": "5da2703b",
   "metadata": {},
   "source": [
    "12.\n",
    "Для каждой компании найдите количество учебных заведений, которые окончили её сотрудники. Выведите название компании и число уникальных названий учебных заведений. Составьте топ-5 компаний по количеству университетов."
   ]
  },
  {
   "cell_type": "code",
   "execution_count": null,
   "id": "d5eeaf05",
   "metadata": {},
   "outputs": [],
   "source": [
    "SELECT c.name,\n",
    "       COUNT(DISTINCT e.instituition)\n",
    "FROM company AS c\n",
    "JOIN people AS p ON c.id = p.company_id\n",
    "JOIN education AS e ON p.id = e.person_id\n",
    "GROUP BY c.name\n",
    "ORDER BY COUNT(DISTINCT e.instituition) DESC\n",
    "LIMIT 5;"
   ]
  },
  {
   "cell_type": "markdown",
   "id": "e8194263",
   "metadata": {},
   "source": [
    "13.\n",
    "Составьте список с уникальными названиями закрытых компаний, для которых первый раунд финансирования оказался последним."
   ]
  },
  {
   "cell_type": "code",
   "execution_count": null,
   "id": "a318d877",
   "metadata": {},
   "outputs": [],
   "source": [
    "SELECT DISTINCT(c.name)\n",
    "FROM company AS c\n",
    "LEFT JOIN funding_round AS fr ON c.id = fr.company_id\n",
    "WHERE c.status = 'closed'\n",
    "AND is_first_round = 1\n",
    "AND is_last_round = 1\n",
    "GROUP BY c.name;"
   ]
  },
  {
   "cell_type": "markdown",
   "id": "4d3327ce",
   "metadata": {},
   "source": [
    "14.\n",
    "Составьте список уникальных номеров сотрудников, которые работают в компаниях, отобранных в предыдущем задании."
   ]
  },
  {
   "cell_type": "code",
   "execution_count": null,
   "id": "ad1901ed",
   "metadata": {},
   "outputs": [],
   "source": [
    "SELECT id\n",
    "FROM people AS p\n",
    "WHERE p.company_id IN \n",
    "    (\n",
    "    SELECT DISTINCT(c.id)\n",
    "    FROM company AS c\n",
    "    LEFT JOIN funding_round AS fr ON c.id = fr.company_id\n",
    "    WHERE c.status = 'closed'\n",
    "    AND is_first_round = 1\n",
    "    AND is_last_round = 1\n",
    "    GROUP BY c.id\n",
    "    );"
   ]
  },
  {
   "cell_type": "markdown",
   "id": "e093a469",
   "metadata": {},
   "source": [
    "15.\n",
    "Составьте таблицу, куда войдут уникальные пары с номерами сотрудников из предыдущей задачи и учебным заведением, которое окончил сотрудник."
   ]
  },
  {
   "cell_type": "code",
   "execution_count": null,
   "id": "0dfab9f3",
   "metadata": {},
   "outputs": [],
   "source": [
    "SELECT p.id,\n",
    "       e.instituition\n",
    "FROM people AS p\n",
    "LEFT JOIN education AS e ON p.id = e.person_id\n",
    "WHERE p.company_id IN\n",
    "                    (SELECT c.id\n",
    "                    FROM company AS c\n",
    "                    JOIN funding_round AS fr ON c.id = fr.company_id\n",
    "                    WHERE STATUS ='closed'\n",
    "                    AND is_first_round = 1\n",
    "                    AND is_last_round = 1\n",
    "                    GROUP BY c.id)\n",
    "GROUP BY p.id, e.instituition\n",
    "HAVING instituition IS NOT NULL;"
   ]
  },
  {
   "cell_type": "markdown",
   "id": "4002743c",
   "metadata": {},
   "source": [
    "16.\n",
    "Посчитайте количество учебных заведений для каждого сотрудника из предыдущего задания. При подсчёте учитывайте, что некоторые сотрудники могли окончить одно и то же заведение дважды."
   ]
  },
  {
   "cell_type": "code",
   "execution_count": null,
   "id": "500bba4c",
   "metadata": {},
   "outputs": [],
   "source": [
    "SELECT p.id,\n",
    "       COUNT(e.instituition)\n",
    "FROM people AS p\n",
    "LEFT JOIN education AS e ON p.id = e.person_id\n",
    "WHERE p.company_id IN\n",
    "                    (SELECT c.id\n",
    "                    FROM company AS c\n",
    "                    JOIN funding_round AS fr ON c.id = fr.company_id\n",
    "                    WHERE STATUS ='closed'\n",
    "                    AND is_first_round = 1\n",
    "                    AND is_last_round = 1\n",
    "                    GROUP BY c.id)\n",
    "GROUP BY p.id\n",
    "HAVING COUNT(DISTINCT e.instituition) > 0;"
   ]
  },
  {
   "cell_type": "markdown",
   "id": "442cc189",
   "metadata": {},
   "source": [
    "17.\n",
    "Дополните предыдущий запрос и выведите среднее число учебных заведений (всех, не только уникальных), которые окончили сотрудники разных компаний. Нужно вывести только одну запись, группировка здесь не понадобится."
   ]
  },
  {
   "cell_type": "code",
   "execution_count": null,
   "id": "a3015f99",
   "metadata": {},
   "outputs": [],
   "source": [
    "WITH inst_count AS\n",
    "                 (\n",
    "    SELECT p.id,\n",
    "           COUNT(e.instituition)\n",
    "    FROM people AS p\n",
    "    LEFT JOIN education AS e ON p.id = e.person_id\n",
    "    WHERE p.company_id IN\n",
    "                        (SELECT c.id\n",
    "                        FROM company AS c\n",
    "                        JOIN funding_round AS fr ON c.id = fr.company_id\n",
    "                        WHERE STATUS ='closed'\n",
    "                        AND is_first_round = 1\n",
    "                        AND is_last_round = 1\n",
    "                        GROUP BY c.id)\n",
    "    GROUP BY p.id\n",
    "    HAVING COUNT(DISTINCT e.instituition) > 0\n",
    "                     )\n",
    "SELECT AVG(COUNT)\n",
    "FROM inst_count;"
   ]
  },
  {
   "cell_type": "markdown",
   "id": "0f035cf7",
   "metadata": {},
   "source": [
    "18.\n",
    "Напишите похожий запрос: выведите среднее число учебных заведений (всех, не только уникальных), которые окончили сотрудники Facebook*.\n",
    "*(сервис, запрещённый на территории РФ)"
   ]
  },
  {
   "cell_type": "code",
   "execution_count": null,
   "id": "95734589",
   "metadata": {},
   "outputs": [],
   "source": [
    "WITH fb_count AS (\n",
    "                    SELECT p.id,\n",
    "                           COUNT(instituition)\n",
    "                    FROM education AS ed\n",
    "                    RIGHT JOIN people AS p ON ed.person_id = p.id\n",
    "                    LEFT JOIN company AS c ON p.company_id = c.id\n",
    "                    WHERE c.name = 'Facebook'\n",
    "                    GROUP BY p.id\n",
    "                    HAVING COUNT(instituition) > 0\n",
    "                  )\n",
    "SELECT AVG(COUNT)\n",
    "FROM fb_count                    \n",
    "\n",
    "\n",
    "WITH base AS \n",
    "        (SELECT p.id,\n",
    "                COUNT(e.instituition)\n",
    "        FROM people AS p\n",
    "        RIGHT JOIN education AS e ON p.id = e.person_id\n",
    "        WHERE p.company_id IN\n",
    "                            (SELECT id\n",
    "                            FROM company\n",
    "                            WHERE name = 'Facebook')\n",
    "                            GROUP BY p.id)\n",
    "SELECT AVG(COUNT)\n",
    "FROM base;"
   ]
  },
  {
   "cell_type": "markdown",
   "id": "14b752f7",
   "metadata": {},
   "source": [
    "19.\n",
    "Составьте таблицу из полей:\n",
    "name_of_fund — название фонда;\n",
    "name_of_company — название компании;\n",
    "amount — сумма инвестиций, которую привлекла компания в раунде.\n",
    "В таблицу войдут данные о компаниях, в истории которых было больше шести важных этапов, а раунды финансирования проходили с 2012 по 2013 год включительно."
   ]
  },
  {
   "cell_type": "code",
   "execution_count": null,
   "id": "c73c25c7",
   "metadata": {},
   "outputs": [],
   "source": [
    "WITH\n",
    "    fr_company_id AS (\n",
    "        SELECT *\n",
    "        FROM funding_round\n",
    "        WHERE funded_at BETWEEN '2012-01-01' AND '2013-12-31'\n",
    "        )\n",
    "\n",
    "SELECT f.name AS name_of_fund,\n",
    "       c.name AS name_of_company,\n",
    "       frid.raised_amount AS amount\n",
    "FROM investment AS inv\n",
    "LEFT JOIN fund AS f ON inv.fund_id = f.id\n",
    "LEFT JOIN company AS c ON inv.company_id = c.id\n",
    "INNER JOIN fr_company_id AS frid ON inv.funding_round_id = frid.id\n",
    "WHERE c.milestones > 6;"
   ]
  },
  {
   "cell_type": "markdown",
   "id": "902f66f1",
   "metadata": {},
   "source": [
    "20.\n",
    "Выгрузите таблицу, в которой будут такие поля:\n",
    "название компании-покупателя;\n",
    "сумма сделки;\n",
    "название компании, которую купили;\n",
    "сумма инвестиций, вложенных в купленную компанию;\n",
    "доля, которая отображает, во сколько раз сумма покупки превысила сумму вложенных в компанию инвестиций, округлённая до ближайшего целого числа.\n",
    "Не учитывайте те сделки, в которых сумма покупки равна нулю. Если сумма инвестиций в компанию равна нулю, исключите такую компанию из таблицы. \n",
    "Отсортируйте таблицу по сумме сделки от большей к меньшей, а затем по названию купленной компании в лексикографическом порядке. Ограничьте таблицу первыми десятью записями."
   ]
  },
  {
   "cell_type": "code",
   "execution_count": null,
   "id": "c73beee4",
   "metadata": {},
   "outputs": [],
   "source": [
    "WITH buyer_c AS\n",
    "        (SELECT c.name AS buyer,\n",
    "        a.price_amount AS price,\n",
    "        a.id AS KEY\n",
    "        FROM acquisition AS a\n",
    "        LEFT JOIN company AS c ON a.acquiring_company_id = c.id\n",
    "        WHERE a.price_amount > 0),\n",
    "        \n",
    "        sold_c AS\n",
    "                (SELECT c.name AS acquisition,\n",
    "                c.funding_total AS investment,\n",
    "                a.id AS KEY\n",
    "                FROM acquisition AS a\n",
    "                LEFT JOIN company AS c ON a.acquired_company_id = c.id\n",
    "                WHERE c.funding_total > 0)\n",
    "        \n",
    "SELECT bc.buyer,\n",
    "       bc.price,\n",
    "       sc.acquisition,\n",
    "       sc.investment,\n",
    "       ROUND(bc.price / sc.investment) AS proportion\n",
    "FROM buyer_c AS bc\n",
    "JOIN sold_c AS sc ON bc.KEY = sc.KEY\n",
    "ORDER BY price DESC, acquisition\n",
    "LIMIT 10;"
   ]
  },
  {
   "cell_type": "markdown",
   "id": "8d8a8995",
   "metadata": {},
   "source": [
    "21.\n",
    "Выгрузите таблицу, в которую войдут названия компаний из категории social, получившие финансирование с 2010 по 2013 год включительно. Проверьте, что сумма инвестиций не равна нулю. Выведите также номер месяца, в котором проходил раунд финансирования."
   ]
  },
  {
   "cell_type": "code",
   "execution_count": null,
   "id": "38646855",
   "metadata": {},
   "outputs": [],
   "source": [
    "SELECT c.name,\n",
    "       EXTRACT(MONTH FROM funded_at)\n",
    "FROM company AS c\n",
    "LEFT JOIN funding_round AS fr ON c.id = fr.company_id\n",
    "WHERE category_code = 'social' \n",
    "      AND funded_at BETWEEN '2010-01-01' AND '2013-12-31'\n",
    "      AND raised_amount > 0;"
   ]
  },
  {
   "cell_type": "markdown",
   "id": "7d9e47cf",
   "metadata": {},
   "source": [
    "22.\n",
    "Отберите данные по месяцам с 2010 по 2013 год, когда проходили инвестиционные раунды. Сгруппируйте данные по номеру месяца и получите таблицу, в которой будут поля:\n",
    "номер месяца, в котором проходили раунды;\n",
    "количество уникальных названий фондов из США, которые инвестировали в этом месяце;\n",
    "количество компаний, купленных за этот месяц;\n",
    "общая сумма сделок по покупкам в этом месяце."
   ]
  },
  {
   "cell_type": "code",
   "execution_count": null,
   "id": "ddae3c31",
   "metadata": {},
   "outputs": [],
   "source": [
    "WITH funds AS\n",
    "    (\n",
    "    SELECT EXTRACT(MONTH FROM fr.funded_at) AS funding_month,\n",
    "           COUNT(DISTINCT f.id) AS us_funds\n",
    "    FROM fund AS f\n",
    "    LEFT JOIN investment AS i ON f.id = i.fund_id\n",
    "    LEFT JOIN funding_round AS fr ON i.funding_round_id = fr.id\n",
    "    WHERE f.country_code = 'USA'\n",
    "    AND EXTRACT(YEAR FROM fr.funded_at) BETWEEN 2010 AND 2013\n",
    "    GROUP BY funding_month\n",
    "    ),\n",
    "\n",
    "acquisitions AS\n",
    "    (\n",
    "    SELECT EXTRACT(MONTH FROM acquired_at) AS funding_month,\n",
    "           COUNT(acquired_company_id) AS bought_compnaies,\n",
    "           SUM(price_amount) AS sum_total\n",
    "    FROM acquisition\n",
    "    WHERE EXTRACT(YEAR FROM acquired_at) BETWEEN 2010 AND 2013\n",
    "    GROUP BY funding_month\n",
    "    )\n",
    "\n",
    "SELECT f.funding_month, f.us_funds, acq.bought_compnaies, acq.sum_total\n",
    "FROM funds AS f\n",
    "LEFT JOIN acquisitions AS acq ON f.funding_month = acq.funding_month;"
   ]
  },
  {
   "cell_type": "markdown",
   "id": "ac2527b5",
   "metadata": {},
   "source": [
    "23.\n",
    "Составьте сводную таблицу и выведите среднюю сумму инвестиций для стран, в которых есть стартапы, зарегистрированные в 2011, 2012 и 2013 годах. Данные за каждый год должны быть в отдельном поле. Отсортируйте таблицу по среднему значению инвестиций за 2011 год от большего к меньшему."
   ]
  },
  {
   "cell_type": "code",
   "execution_count": null,
   "id": "d80fb266",
   "metadata": {},
   "outputs": [],
   "source": [
    "WITH\n",
    "avg_2011 AS (\n",
    "    SELECT country_code AS country,\n",
    "           AVG(funding_total) AS year_2011\n",
    "    FROM company\n",
    "    WHERE EXTRACT(YEAR FROM founded_at) IN (2011, 2012, 2013)\n",
    "    GROUP BY country, EXTRACT(YEAR FROM founded_at)\n",
    "    HAVING EXTRACT(YEAR FROM founded_at) = '2011'\n",
    "    ),\n",
    "    \n",
    "avg_2012 AS (\n",
    "    SELECT country_code AS country,\n",
    "           AVG(funding_total) AS year_2012\n",
    "    FROM company\n",
    "    WHERE EXTRACT(YEAR FROM founded_at) IN (2011, 2012, 2013)\n",
    "    GROUP BY country, EXTRACT(YEAR FROM founded_at)\n",
    "    HAVING EXTRACT(YEAR FROM founded_at) = '2012'\n",
    "    ),\n",
    "    \n",
    "avg_2013 AS (\n",
    "SELECT country_code AS country,\n",
    "           AVG(funding_total) AS year_2013\n",
    "    FROM company\n",
    "    WHERE EXTRACT(YEAR FROM founded_at) IN (2011, 2012, 2013)\n",
    "    GROUP BY country, EXTRACT(YEAR FROM founded_at)\n",
    "    HAVING EXTRACT(YEAR FROM founded_at) = '2013'\n",
    "    )   \n",
    "\n",
    "SELECT avg_2011.country,\n",
    "       avg_2011.year_2011,\n",
    "       avg_2012.year_2012,\n",
    "       avg_2013.year_2013\n",
    "FROM  avg_2011\n",
    "JOIN avg_2012 ON avg_2011.country = avg_2012.country\n",
    "JOIN avg_2013 ON avg_2012.country = avg_2013.country\n",
    "ORDER BY year_2011 DESC;"
   ]
  }
 ],
 "metadata": {
  "kernelspec": {
   "display_name": "Python 3 (ipykernel)",
   "language": "python",
   "name": "python3"
  },
  "language_info": {
   "codemirror_mode": {
    "name": "ipython",
    "version": 3
   },
   "file_extension": ".py",
   "mimetype": "text/x-python",
   "name": "python",
   "nbconvert_exporter": "python",
   "pygments_lexer": "ipython3",
   "version": "3.9.13"
  }
 },
 "nbformat": 4,
 "nbformat_minor": 5
}
