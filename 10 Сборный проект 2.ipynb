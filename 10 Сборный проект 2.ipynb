{
 "cells": [
  {
   "cell_type": "markdown",
   "metadata": {},
   "source": [
    "# Анализ поведения пользователей мобильного приложения"
   ]
  },
  {
   "cell_type": "markdown",
   "metadata": {},
   "source": [
    "## Описание проекта и данных"
   ]
  },
  {
   "cell_type": "markdown",
   "metadata": {},
   "source": [
    "- Нужно разобраться, как ведут себя пользователи мобильного приложения: изучить воронку продаж и узнать, как пользователи доходят до покупки.\n",
    "- Исследовать результаты A/A/B-эксперимента. Дизайнеры захотели поменять шрифты во всём приложении, но для пользователей это может оказаться непривычно. Решение будет принято по результатам A/A/B-теста. Пользователей разбили на 3 группы: 2 контрольные со старыми шрифтами и одну экспериментальную — с новыми. Нужно выяснить, какой шрифт лучше."
   ]
  },
  {
   "cell_type": "markdown",
   "metadata": {},
   "source": [
    "**Описание данных**\n",
    "\n",
    "Каждая запись в логе — это действие пользователя, или событие:\n",
    "\n",
    "*EventName* — название события;\n",
    "\n",
    "*DeviceIDHash* — уникальный идентификатор пользователя;\n",
    "\n",
    "*EventTimestamp* — время события;\n",
    "\n",
    "*ExpId* — номер эксперимента: 246 и 247 — контрольные группы, а 248 — экспериментальная."
   ]
  },
  {
   "cell_type": "markdown",
   "metadata": {},
   "source": [
    "## Предобработка данных"
   ]
  },
  {
   "cell_type": "code",
   "execution_count": 1,
   "metadata": {},
   "outputs": [],
   "source": [
    "import pandas as pd\n",
    "import matplotlib.pyplot as plt\n",
    "import seaborn as sns\n",
    "from plotly import graph_objects as go\n",
    "from scipy import stats as st\n",
    "import numpy as np\n",
    "import math as mth"
   ]
  },
  {
   "cell_type": "code",
   "execution_count": 2,
   "metadata": {},
   "outputs": [
    {
     "data": {
      "text/html": [
       "<div>\n",
       "<style scoped>\n",
       "    .dataframe tbody tr th:only-of-type {\n",
       "        vertical-align: middle;\n",
       "    }\n",
       "\n",
       "    .dataframe tbody tr th {\n",
       "        vertical-align: top;\n",
       "    }\n",
       "\n",
       "    .dataframe thead th {\n",
       "        text-align: right;\n",
       "    }\n",
       "</style>\n",
       "<table border=\"1\" class=\"dataframe\">\n",
       "  <thead>\n",
       "    <tr style=\"text-align: right;\">\n",
       "      <th></th>\n",
       "      <th>EventName</th>\n",
       "      <th>DeviceIDHash</th>\n",
       "      <th>EventTimestamp</th>\n",
       "      <th>ExpId</th>\n",
       "    </tr>\n",
       "  </thead>\n",
       "  <tbody>\n",
       "    <tr>\n",
       "      <th>0</th>\n",
       "      <td>MainScreenAppear</td>\n",
       "      <td>4575588528974610257</td>\n",
       "      <td>1564029816</td>\n",
       "      <td>246</td>\n",
       "    </tr>\n",
       "    <tr>\n",
       "      <th>1</th>\n",
       "      <td>MainScreenAppear</td>\n",
       "      <td>7416695313311560658</td>\n",
       "      <td>1564053102</td>\n",
       "      <td>246</td>\n",
       "    </tr>\n",
       "    <tr>\n",
       "      <th>2</th>\n",
       "      <td>PaymentScreenSuccessful</td>\n",
       "      <td>3518123091307005509</td>\n",
       "      <td>1564054127</td>\n",
       "      <td>248</td>\n",
       "    </tr>\n",
       "    <tr>\n",
       "      <th>3</th>\n",
       "      <td>CartScreenAppear</td>\n",
       "      <td>3518123091307005509</td>\n",
       "      <td>1564054127</td>\n",
       "      <td>248</td>\n",
       "    </tr>\n",
       "    <tr>\n",
       "      <th>4</th>\n",
       "      <td>PaymentScreenSuccessful</td>\n",
       "      <td>6217807653094995999</td>\n",
       "      <td>1564055322</td>\n",
       "      <td>248</td>\n",
       "    </tr>\n",
       "  </tbody>\n",
       "</table>\n",
       "</div>"
      ],
      "text/plain": [
       "                 EventName         DeviceIDHash  EventTimestamp  ExpId\n",
       "0         MainScreenAppear  4575588528974610257      1564029816    246\n",
       "1         MainScreenAppear  7416695313311560658      1564053102    246\n",
       "2  PaymentScreenSuccessful  3518123091307005509      1564054127    248\n",
       "3         CartScreenAppear  3518123091307005509      1564054127    248\n",
       "4  PaymentScreenSuccessful  6217807653094995999      1564055322    248"
      ]
     },
     "metadata": {},
     "output_type": "display_data"
    },
    {
     "name": "stdout",
     "output_type": "stream",
     "text": [
      "<class 'pandas.core.frame.DataFrame'>\n",
      "RangeIndex: 244126 entries, 0 to 244125\n",
      "Data columns (total 4 columns):\n",
      " #   Column          Non-Null Count   Dtype \n",
      "---  ------          --------------   ----- \n",
      " 0   EventName       244126 non-null  object\n",
      " 1   DeviceIDHash    244126 non-null  int64 \n",
      " 2   EventTimestamp  244126 non-null  int64 \n",
      " 3   ExpId           244126 non-null  int64 \n",
      "dtypes: int64(3), object(1)\n",
      "memory usage: 7.5+ MB\n",
      "None\n"
     ]
    }
   ],
   "source": [
    "data = pd.read_csv('/datasets/logs_exp.csv', sep='\\t')\n",
    "display(data.head())\n",
    "print(data.info())"
   ]
  },
  {
   "cell_type": "code",
   "execution_count": 3,
   "metadata": {},
   "outputs": [
    {
     "data": {
      "text/html": [
       "<div>\n",
       "<style scoped>\n",
       "    .dataframe tbody tr th:only-of-type {\n",
       "        vertical-align: middle;\n",
       "    }\n",
       "\n",
       "    .dataframe tbody tr th {\n",
       "        vertical-align: top;\n",
       "    }\n",
       "\n",
       "    .dataframe thead th {\n",
       "        text-align: right;\n",
       "    }\n",
       "</style>\n",
       "<table border=\"1\" class=\"dataframe\">\n",
       "  <thead>\n",
       "    <tr style=\"text-align: right;\">\n",
       "      <th></th>\n",
       "      <th>event_name</th>\n",
       "      <th>device_id_hash</th>\n",
       "      <th>event_timestamp</th>\n",
       "      <th>exp_id</th>\n",
       "      <th>date</th>\n",
       "    </tr>\n",
       "  </thead>\n",
       "  <tbody>\n",
       "    <tr>\n",
       "      <th>0</th>\n",
       "      <td>MainScreenAppear</td>\n",
       "      <td>4575588528974610257</td>\n",
       "      <td>2019-07-25 04:43:36</td>\n",
       "      <td>246</td>\n",
       "      <td>2019-07-25</td>\n",
       "    </tr>\n",
       "    <tr>\n",
       "      <th>1</th>\n",
       "      <td>MainScreenAppear</td>\n",
       "      <td>7416695313311560658</td>\n",
       "      <td>2019-07-25 11:11:42</td>\n",
       "      <td>246</td>\n",
       "      <td>2019-07-25</td>\n",
       "    </tr>\n",
       "    <tr>\n",
       "      <th>2</th>\n",
       "      <td>PaymentScreenSuccessful</td>\n",
       "      <td>3518123091307005509</td>\n",
       "      <td>2019-07-25 11:28:47</td>\n",
       "      <td>248</td>\n",
       "      <td>2019-07-25</td>\n",
       "    </tr>\n",
       "    <tr>\n",
       "      <th>3</th>\n",
       "      <td>CartScreenAppear</td>\n",
       "      <td>3518123091307005509</td>\n",
       "      <td>2019-07-25 11:28:47</td>\n",
       "      <td>248</td>\n",
       "      <td>2019-07-25</td>\n",
       "    </tr>\n",
       "    <tr>\n",
       "      <th>4</th>\n",
       "      <td>PaymentScreenSuccessful</td>\n",
       "      <td>6217807653094995999</td>\n",
       "      <td>2019-07-25 11:48:42</td>\n",
       "      <td>248</td>\n",
       "      <td>2019-07-25</td>\n",
       "    </tr>\n",
       "  </tbody>\n",
       "</table>\n",
       "</div>"
      ],
      "text/plain": [
       "                event_name       device_id_hash     event_timestamp  exp_id  \\\n",
       "0         MainScreenAppear  4575588528974610257 2019-07-25 04:43:36     246   \n",
       "1         MainScreenAppear  7416695313311560658 2019-07-25 11:11:42     246   \n",
       "2  PaymentScreenSuccessful  3518123091307005509 2019-07-25 11:28:47     248   \n",
       "3         CartScreenAppear  3518123091307005509 2019-07-25 11:28:47     248   \n",
       "4  PaymentScreenSuccessful  6217807653094995999 2019-07-25 11:48:42     248   \n",
       "\n",
       "        date  \n",
       "0 2019-07-25  \n",
       "1 2019-07-25  \n",
       "2 2019-07-25  \n",
       "3 2019-07-25  \n",
       "4 2019-07-25  "
      ]
     },
     "metadata": {},
     "output_type": "display_data"
    }
   ],
   "source": [
    "# В первую очередь переименуем столбцы\n",
    "data.columns = ['event_name', 'device_id_hash', 'event_timestamp', 'exp_id']\n",
    "# заменим тип данных в столбце с датой и временем\n",
    "data['event_timestamp'] = pd.to_datetime(data['event_timestamp'], unit='s')\n",
    "# добавим столбец с датой\n",
    "data['date'] = data['event_timestamp'].dt.date\n",
    "data['date'] = data['date'].astype('datetime64')\n",
    "display(data.head())"
   ]
  },
  {
   "cell_type": "code",
   "execution_count": 4,
   "metadata": {
    "scrolled": true
   },
   "outputs": [
    {
     "name": "stdout",
     "output_type": "stream",
     "text": [
      "Пропуски: event_name         0\n",
      "device_id_hash     0\n",
      "event_timestamp    0\n",
      "exp_id             0\n",
      "date               0\n",
      "dtype: int64\n",
      "\n",
      "Число дубликатов: 413\n"
     ]
    }
   ],
   "source": [
    "# Посчитаем число пропусков и дубликатов\n",
    "print('Пропуски:', data.isna().sum())\n",
    "print()\n",
    "print('Число дубликатов:', data.duplicated().sum())"
   ]
  },
  {
   "cell_type": "markdown",
   "metadata": {},
   "source": [
    "Пропуски отсутствуют, а количество дубликатов очень мало, поэтому можно их удалить.    "
   ]
  },
  {
   "cell_type": "code",
   "execution_count": 5,
   "metadata": {},
   "outputs": [],
   "source": [
    "data = data.drop_duplicates().reset_index(drop=True)"
   ]
  },
  {
   "cell_type": "markdown",
   "metadata": {},
   "source": [
    "## Изучение данных"
   ]
  },
  {
   "cell_type": "code",
   "execution_count": 6,
   "metadata": {},
   "outputs": [
    {
     "name": "stdout",
     "output_type": "stream",
     "text": [
      "Количество событий: 243713\n",
      "Число пользователей: 7551\n",
      "Среднее количество на одного пользователя: 32.28\n"
     ]
    }
   ],
   "source": [
    "# посмотрим, сколько всего событий в логе\n",
    "print('Количество событий:', data.shape[0])\n",
    "# также выясним количество уникальных пользователей в логе\n",
    "print('Число пользователей:', data['device_id_hash'].nunique())\n",
    "print('Среднее количество на одного пользователя:', round(data.shape[0]/data['device_id_hash'].nunique(), 2))"
   ]
  },
  {
   "cell_type": "code",
   "execution_count": 7,
   "metadata": {},
   "outputs": [
    {
     "name": "stdout",
     "output_type": "stream",
     "text": [
      "Начало периода 2019-07-25 00:00:00\n",
      "Конец периода 2019-08-07 00:00:00\n"
     ]
    }
   ],
   "source": [
    "# далее определим, данными за какой период мы располагаем \n",
    "print('Начало периода', data['date'].min())\n",
    "print('Конец периода', data['date'].max())"
   ]
  },
  {
   "cell_type": "code",
   "execution_count": 8,
   "metadata": {
    "scrolled": false
   },
   "outputs": [
    {
     "data": {
      "image/png": "[encoded data removed]",
      "text/plain": [
       "<Figure size 1008x360 with 1 Axes>"
      ]
     },
     "metadata": {
      "needs_background": "light"
     },
     "output_type": "display_data"
    }
   ],
   "source": [
    "# постройм гистограмму по дате и времени, чтобы убедиться, что у нас одинаково полные данные за весь период\n",
    "plt.figure(figsize=(9, 5))\n",
    "data['event_timestamp'].hist(bins=14*24, figsize=(14, 5))\n",
    "plt.xticks(rotation=45)\n",
    "plt.title('Гистограмма по дате и времени')\n",
    "plt.xlabel('Дата')\n",
    "plt.ylabel('Количество')\n",
    "plt.show()"
   ]
  },
  {
   "cell_type": "markdown",
   "metadata": {},
   "source": [
    "По гистограмме видно, что до 1 августа данные практически отсутствуют, скорее всего это несвоевременно дошедшие события за предыдущий период. Поэтому мы по сути распологаем данными только с 01.08.2019 по 07.08.2019."
   ]
  },
  {
   "cell_type": "code",
   "execution_count": 9,
   "metadata": {
    "scrolled": false
   },
   "outputs": [
    {
     "name": "stdout",
     "output_type": "stream",
     "text": [
      "Число событий по очищенным данным: 240887 Доля количества событий от изначального: 0.99\n",
      "Число пользователей по очищенным данным: 7534 Доля количества пользователей от изначального: 0.998\n"
     ]
    }
   ],
   "source": [
    "# отсеим данные до 1 августа\n",
    "data_new = data.query('date > \"2019-07-31\"')\n",
    "# и посчитаем, сколько мы потеряли событий и пользователей\n",
    "print('Число событий по очищенным данным:', data_new.shape[0],\n",
    "     'Доля количества событий от изначального:', round(data_new.shape[0]/data.shape[0], 2))\n",
    "print('Число пользователей по очищенным данным:',  data_new['device_id_hash'].nunique(),\n",
    "     'Доля количества пользователей от изначального:', round(data_new['device_id_hash'].nunique() / data['device_id_hash'].nunique(), 3))"
   ]
  },
  {
   "cell_type": "markdown",
   "metadata": {},
   "source": [
    "После отсеивания данных до 1 августа мы потеряли лишь 1% событий и 0.2% пользователей."
   ]
  },
  {
   "cell_type": "markdown",
   "metadata": {},
   "source": [
    "Далее проверим, что у нас представлены пользователи из всех трёх экспериментальных групп."
   ]
  },
  {
   "cell_type": "code",
   "execution_count": 10,
   "metadata": {
    "scrolled": true
   },
   "outputs": [
    {
     "data": {
      "text/plain": [
       "exp_id\n",
       "246        2484\n",
       "247        2513\n",
       "248        2537\n",
       "246+247    4997\n",
       "Name: device_id_hash, dtype: int64"
      ]
     },
     "execution_count": 10,
     "metadata": {},
     "output_type": "execute_result"
    }
   ],
   "source": [
    "users_count = data_new.groupby('exp_id', as_index=True)['device_id_hash'].nunique()\n",
    "users_count['246+247'] = users_count[246] + users_count[247]\n",
    "users_count"
   ]
  },
  {
   "cell_type": "markdown",
   "metadata": {},
   "source": [
    "Есть данные по всем трём группам"
   ]
  },
  {
   "cell_type": "markdown",
   "metadata": {},
   "source": [
    "**Вывод:** было установлено, что мы обладаем полными данными лишь за период с 01.08.2019 по 07.08.2019, события и пользователи, предшествующие этому промежутку, были удалены без ущерба для данных. В очищенных данных присутсвует информация по всем трём экспериментальным группам."
   ]
  },
  {
   "cell_type": "markdown",
   "metadata": {},
   "source": [
    "## Изучение воронки событий"
   ]
  },
  {
   "cell_type": "markdown",
   "metadata": {},
   "source": [
    "Посмотрим какие события есть в логах, как часто они встречаются. И отсортируем события по частоте."
   ]
  },
  {
   "cell_type": "code",
   "execution_count": 11,
   "metadata": {},
   "outputs": [
    {
     "name": "stdout",
     "output_type": "stream",
     "text": [
      "MainScreenAppear           117328\n",
      "OffersScreenAppear          46333\n",
      "CartScreenAppear            42303\n",
      "PaymentScreenSuccessful     33918\n",
      "Tutorial                     1005\n",
      "Name: event_name, dtype: int64\n"
     ]
    }
   ],
   "source": [
    "print(data_new['event_name'].value_counts())"
   ]
  },
  {
   "cell_type": "markdown",
   "metadata": {},
   "source": [
    "Посчитаем, сколько пользователей совершали каждое из этих событий и отсортируем события по числу пользователей. А также посчитаем долю пользователей, которые хоть раз совершали событие."
   ]
  },
  {
   "cell_type": "code",
   "execution_count": 12,
   "metadata": {},
   "outputs": [
    {
     "name": "stdout",
     "output_type": "stream",
     "text": [
      "                event_name  events_count  users_count  conversion\n",
      "0         MainScreenAppear        117328         7419        98.5\n",
      "1       OffersScreenAppear         46333         4593        61.0\n",
      "2         CartScreenAppear         42303         3734        49.6\n",
      "3  PaymentScreenSuccessful         33918         3539        47.0\n",
      "4                 Tutorial          1005          840        11.1\n"
     ]
    }
   ],
   "source": [
    "funnel_of_events = (data_new.groupby('event_name')\n",
    "                    .agg({'event_name': 'count','device_id_hash': 'nunique'}).sort_values(by='device_id_hash', ascending=False)\n",
    "                   )\n",
    "funnel_of_events.columns = ['events_count', 'users_count']\n",
    "funnel_of_events['conversion'] = round(((funnel_of_events['users_count'] / data_new['device_id_hash'].nunique()) * 100), 1)\n",
    "funnel_of_events = funnel_of_events.reset_index()\n",
    "print(funnel_of_events)"
   ]
  },
  {
   "cell_type": "code",
   "execution_count": 13,
   "metadata": {
    "scrolled": false
   },
   "outputs": [
    {
     "data": {
      "image/png": "[encoded data removed]",
      "text/plain": [
       "<Figure size 864x360 with 1 Axes>"
      ]
     },
     "metadata": {
      "needs_background": "light"
     },
     "output_type": "display_data"
    }
   ],
   "source": [
    "plt.figure(figsize=(12, 5))\n",
    "sns.barplot(data=funnel_of_events, x='event_name', y='users_count')\n",
    "plt.title('События по числу пользователей')\n",
    "plt.xlabel('Событие')\n",
    "plt.ylabel('Число пользователей')\n",
    "plt.show()"
   ]
  },
  {
   "cell_type": "markdown",
   "metadata": {},
   "source": [
    "События происходят в следующем порядке:\n",
    "1. MainScreenAppear - пользователь попадает на главный экран\n",
    "2. Tutorial - человеку предлагается пройти обучение\n",
    "3. OffersScreenAppear - пользователь попадает на экран каталога\n",
    "4. CartScreenAppear - переходит в корзину\n",
    "5. PaymentScreenSuccessful - экран успешной оплаты заказа"
   ]
  },
  {
   "cell_type": "markdown",
   "metadata": {},
   "source": [
    "Построим воронку событий, чтобы посчитать, какая доля пользователей проходит на следующий шаг воронки (от числа пользователей на предыдущем). То есть для последовательности событий A → B → C посчитаем отношение числа пользователей с событием B к количеству пользователей с событием A, а также отношение числа пользователей с событием C к количеству пользователей с событием B."
   ]
  },
  {
   "cell_type": "markdown",
   "metadata": {},
   "source": [
    "Этап Tutorial можно не учитывать в воронке, так как обучение не является обязательным и не влияет на то, дойдет ли пользователь до покупки."
   ]
  },
  {
   "cell_type": "code",
   "execution_count": 25,
   "metadata": {},
   "outputs": [
    {
     "data": {
      "text/html": [
       "<div>\n",
       "<style scoped>\n",
       "    .dataframe tbody tr th:only-of-type {\n",
       "        vertical-align: middle;\n",
       "    }\n",
       "\n",
       "    .dataframe tbody tr th {\n",
       "        vertical-align: top;\n",
       "    }\n",
       "\n",
       "    .dataframe thead th {\n",
       "        text-align: right;\n",
       "    }\n",
       "</style>\n",
       "<table border=\"1\" class=\"dataframe\">\n",
       "  <thead>\n",
       "    <tr style=\"text-align: right;\">\n",
       "      <th></th>\n",
       "      <th>event_name</th>\n",
       "      <th>events_count</th>\n",
       "      <th>users_count</th>\n",
       "      <th>conversion</th>\n",
       "      <th>step_conversion</th>\n",
       "    </tr>\n",
       "  </thead>\n",
       "  <tbody>\n",
       "    <tr>\n",
       "      <th>0</th>\n",
       "      <td>MainScreenAppear</td>\n",
       "      <td>117328</td>\n",
       "      <td>7419</td>\n",
       "      <td>98.5</td>\n",
       "      <td>NaN</td>\n",
       "    </tr>\n",
       "    <tr>\n",
       "      <th>1</th>\n",
       "      <td>OffersScreenAppear</td>\n",
       "      <td>46333</td>\n",
       "      <td>4593</td>\n",
       "      <td>61.0</td>\n",
       "      <td>61.91</td>\n",
       "    </tr>\n",
       "    <tr>\n",
       "      <th>2</th>\n",
       "      <td>CartScreenAppear</td>\n",
       "      <td>42303</td>\n",
       "      <td>3734</td>\n",
       "      <td>49.6</td>\n",
       "      <td>81.30</td>\n",
       "    </tr>\n",
       "    <tr>\n",
       "      <th>3</th>\n",
       "      <td>PaymentScreenSuccessful</td>\n",
       "      <td>33918</td>\n",
       "      <td>3539</td>\n",
       "      <td>47.0</td>\n",
       "      <td>94.78</td>\n",
       "    </tr>\n",
       "  </tbody>\n",
       "</table>\n",
       "</div>"
      ],
      "text/plain": [
       "                event_name  events_count  users_count  conversion  \\\n",
       "0         MainScreenAppear        117328         7419        98.5   \n",
       "1       OffersScreenAppear         46333         4593        61.0   \n",
       "2         CartScreenAppear         42303         3734        49.6   \n",
       "3  PaymentScreenSuccessful         33918         3539        47.0   \n",
       "\n",
       "   step_conversion  \n",
       "0              NaN  \n",
       "1            61.91  \n",
       "2            81.30  \n",
       "3            94.78  "
      ]
     },
     "metadata": {},
     "output_type": "display_data"
    },
    {
     "data": {
      "application/vnd.plotly.v1+json": {
       "config": {
        "plotlyServerURL": "https://plot.ly"
       },
       "data": [
        {
         "textinfo": "value+percent initial+percent previous",
         "type": "funnel",
         "x": [
          7419,
          4593,
          3734,
          3539
         ],
         "y": [
          "MainScreenAppear",
          "OffersScreenAppear",
          "CartScreenAppear",
          "PaymentScreenSuccessful"
         ]
        }
       ],
       "layout": {
        "template": {
         "data": {
          "bar": [
           {
            "error_x": {
             "color": "#2a3f5f"
            },
            "error_y": {
             "color": "#2a3f5f"
            },
            "marker": {
             "line": {
              "color": "#E5ECF6",
              "width": 0.5
             },
             "pattern": {
              "fillmode": "overlay",
              "size": 10,
              "solidity": 0.2
             }
            },
            "type": "bar"
           }
          ],
          "barpolar": [
           {
            "marker": {
             "line": {
              "color": "#E5ECF6",
              "width": 0.5
             },
             "pattern": {
              "fillmode": "overlay",
              "size": 10,
              "solidity": 0.2
             }
            },
            "type": "barpolar"
           }
          ],
          "carpet": [
           {
            "aaxis": {
             "endlinecolor": "#2a3f5f",
             "gridcolor": "white",
             "linecolor": "white",
             "minorgridcolor": "white",
             "startlinecolor": "#2a3f5f"
            },
            "baxis": {
             "endlinecolor": "#2a3f5f",
             "gridcolor": "white",
             "linecolor": "white",
             "minorgridcolor": "white",
             "startlinecolor": "#2a3f5f"
            },
            "type": "carpet"
           }
          ],
          "choropleth": [
           {
            "colorbar": {
             "outlinewidth": 0,
             "ticks": ""
            },
            "type": "choropleth"
           }
          ],
          "contour": [
           {
            "colorbar": {
             "outlinewidth": 0,
             "ticks": ""
            },
            "colorscale": [
             [
              0,
              "#0d0887"
             ],
             [
              0.1111111111111111,
              "#46039f"
             ],
             [
              0.2222222222222222,
              "#7201a8"
             ],
             [
              0.3333333333333333,
              "#9c179e"
             ],
             [
              0.4444444444444444,
              "#bd3786"
             ],
             [
              0.5555555555555556,
              "#d8576b"
             ],
             [
              0.6666666666666666,
              "#ed7953"
             ],
             [
              0.7777777777777778,
              "#fb9f3a"
             ],
             [
              0.8888888888888888,
              "#fdca26"
             ],
             [
              1,
              "#f0f921"
             ]
            ],
            "type": "contour"
           }
          ],
          "contourcarpet": [
           {
            "colorbar": {
             "outlinewidth": 0,
             "ticks": ""
            },
            "type": "contourcarpet"
           }
          ],
          "heatmap": [
           {
            "colorbar": {
             "outlinewidth": 0,
             "ticks": ""
            },
            "colorscale": [
             [
              0,
              "#0d0887"
             ],
             [
              0.1111111111111111,
              "#46039f"
             ],
             [
              0.2222222222222222,
              "#7201a8"
             ],
             [
              0.3333333333333333,
              "#9c179e"
             ],
             [
              0.4444444444444444,
              "#bd3786"
             ],
             [
              0.5555555555555556,
              "#d8576b"
             ],
             [
              0.6666666666666666,
              "#ed7953"
             ],
             [
              0.7777777777777778,
              "#fb9f3a"
             ],
             [
              0.8888888888888888,
              "#fdca26"
             ],
             [
              1,
              "#f0f921"
             ]
            ],
            "type": "heatmap"
           }
          ],
          "heatmapgl": [
           {
            "colorbar": {
             "outlinewidth": 0,
             "ticks": ""
            },
            "colorscale": [
             [
              0,
              "#0d0887"
             ],
             [
              0.1111111111111111,
              "#46039f"
             ],
             [
              0.2222222222222222,
              "#7201a8"
             ],
             [
              0.3333333333333333,
              "#9c179e"
             ],
             [
              0.4444444444444444,
              "#bd3786"
             ],
             [
              0.5555555555555556,
              "#d8576b"
             ],
             [
              0.6666666666666666,
              "#ed7953"
             ],
             [
              0.7777777777777778,
              "#fb9f3a"
             ],
             [
              0.8888888888888888,
              "#fdca26"
             ],
             [
              1,
              "#f0f921"
             ]
            ],
            "type": "heatmapgl"
           }
          ],
          "histogram": [
           {
            "marker": {
             "pattern": {
              "fillmode": "overlay",
              "size": 10,
              "solidity": 0.2
             }
            },
            "type": "histogram"
           }
          ],
          "histogram2d": [
           {
            "colorbar": {
             "outlinewidth": 0,
             "ticks": ""
            },
            "colorscale": [
             [
              0,
              "#0d0887"
             ],
             [
              0.1111111111111111,
              "#46039f"
             ],
             [
              0.2222222222222222,
              "#7201a8"
             ],
             [
              0.3333333333333333,
              "#9c179e"
             ],
             [
              0.4444444444444444,
              "#bd3786"
             ],
             [
              0.5555555555555556,
              "#d8576b"
             ],
             [
              0.6666666666666666,
              "#ed7953"
             ],
             [
              0.7777777777777778,
              "#fb9f3a"
             ],
             [
              0.8888888888888888,
              "#fdca26"
             ],
             [
              1,
              "#f0f921"
             ]
            ],
            "type": "histogram2d"
           }
          ],
          "histogram2dcontour": [
           {
            "colorbar": {
             "outlinewidth": 0,
             "ticks": ""
            },
            "colorscale": [
             [
              0,
              "#0d0887"
             ],
             [
              0.1111111111111111,
              "#46039f"
             ],
             [
              0.2222222222222222,
              "#7201a8"
             ],
             [
              0.3333333333333333,
              "#9c179e"
             ],
             [
              0.4444444444444444,
              "#bd3786"
             ],
             [
              0.5555555555555556,
              "#d8576b"
             ],
             [
              0.6666666666666666,
              "#ed7953"
             ],
             [
              0.7777777777777778,
              "#fb9f3a"
             ],
             [
              0.8888888888888888,
              "#fdca26"
             ],
             [
              1,
              "#f0f921"
             ]
            ],
            "type": "histogram2dcontour"
           }
          ],
          "mesh3d": [
           {
            "colorbar": {
             "outlinewidth": 0,
             "ticks": ""
            },
            "type": "mesh3d"
           }
          ],
          "parcoords": [
           {
            "line": {
             "colorbar": {
              "outlinewidth": 0,
              "ticks": ""
             }
            },
            "type": "parcoords"
           }
          ],
          "pie": [
           {
            "automargin": true,
            "type": "pie"
           }
          ],
          "scatter": [
           {
            "marker": {
             "colorbar": {
              "outlinewidth": 0,
              "ticks": ""
             }
            },
            "type": "scatter"
           }
          ],
          "scatter3d": [
           {
            "line": {
             "colorbar": {
              "outlinewidth": 0,
              "ticks": ""
             }
            },
            "marker": {
             "colorbar": {
              "outlinewidth": 0,
              "ticks": ""
             }
            },
            "type": "scatter3d"
           }
          ],
          "scattercarpet": [
           {
            "marker": {
             "colorbar": {
              "outlinewidth": 0,
              "ticks": ""
             }
            },
            "type": "scattercarpet"
           }
          ],
          "scattergeo": [
           {
            "marker": {
             "colorbar": {
              "outlinewidth": 0,
              "ticks": ""
             }
            },
            "type": "scattergeo"
           }
          ],
          "scattergl": [
           {
            "marker": {
             "colorbar": {
              "outlinewidth": 0,
              "ticks": ""
             }
            },
            "type": "scattergl"
           }
          ],
          "scattermapbox": [
           {
            "marker": {
             "colorbar": {
              "outlinewidth": 0,
              "ticks": ""
             }
            },
            "type": "scattermapbox"
           }
          ],
          "scatterpolar": [
           {
            "marker": {
             "colorbar": {
              "outlinewidth": 0,
              "ticks": ""
             }
            },
            "type": "scatterpolar"
           }
          ],
          "scatterpolargl": [
           {
            "marker": {
             "colorbar": {
              "outlinewidth": 0,
              "ticks": ""
             }
            },
            "type": "scatterpolargl"
           }
          ],
          "scatterternary": [
           {
            "marker": {
             "colorbar": {
              "outlinewidth": 0,
              "ticks": ""
             }
            },
            "type": "scatterternary"
           }
          ],
          "surface": [
           {
            "colorbar": {
             "outlinewidth": 0,
             "ticks": ""
            },
            "colorscale": [
             [
              0,
              "#0d0887"
             ],
             [
              0.1111111111111111,
              "#46039f"
             ],
             [
              0.2222222222222222,
              "#7201a8"
             ],
             [
              0.3333333333333333,
              "#9c179e"
             ],
             [
              0.4444444444444444,
              "#bd3786"
             ],
             [
              0.5555555555555556,
              "#d8576b"
             ],
             [
              0.6666666666666666,
              "#ed7953"
             ],
             [
              0.7777777777777778,
              "#fb9f3a"
             ],
             [
              0.8888888888888888,
              "#fdca26"
             ],
             [
              1,
              "#f0f921"
             ]
            ],
            "type": "surface"
           }
          ],
          "table": [
           {
            "cells": {
             "fill": {
              "color": "#EBF0F8"
             },
             "line": {
              "color": "white"
             }
            },
            "header": {
             "fill": {
              "color": "#C8D4E3"
             },
             "line": {
              "color": "white"
             }
            },
            "type": "table"
           }
          ]
         },
         "layout": {
          "annotationdefaults": {
           "arrowcolor": "#2a3f5f",
           "arrowhead": 0,
           "arrowwidth": 1
          },
          "autotypenumbers": "strict",
          "coloraxis": {
           "colorbar": {
            "outlinewidth": 0,
            "ticks": ""
           }
          },
          "colorscale": {
           "diverging": [
            [
             0,
             "#8e0152"
            ],
            [
             0.1,
             "#c51b7d"
            ],
            [
             0.2,
             "#de77ae"
            ],
            [
             0.3,
             "#f1b6da"
            ],
            [
             0.4,
             "#fde0ef"
            ],
            [
             0.5,
             "#f7f7f7"
            ],
            [
             0.6,
             "#e6f5d0"
            ],
            [
             0.7,
             "#b8e186"
            ],
            [
             0.8,
             "#7fbc41"
            ],
            [
             0.9,
             "#4d9221"
            ],
            [
             1,
             "#276419"
            ]
           ],
           "sequential": [
            [
             0,
             "#0d0887"
            ],
            [
             0.1111111111111111,
             "#46039f"
            ],
            [
             0.2222222222222222,
             "#7201a8"
            ],
            [
             0.3333333333333333,
             "#9c179e"
            ],
            [
             0.4444444444444444,
             "#bd3786"
            ],
            [
             0.5555555555555556,
             "#d8576b"
            ],
            [
             0.6666666666666666,
             "#ed7953"
            ],
            [
             0.7777777777777778,
             "#fb9f3a"
            ],
            [
             0.8888888888888888,
             "#fdca26"
            ],
            [
             1,
             "#f0f921"
            ]
           ],
           "sequentialminus": [
            [
             0,
             "#0d0887"
            ],
            [
             0.1111111111111111,
             "#46039f"
            ],
            [
             0.2222222222222222,
             "#7201a8"
            ],
            [
             0.3333333333333333,
             "#9c179e"
            ],
            [
             0.4444444444444444,
             "#bd3786"
            ],
            [
             0.5555555555555556,
             "#d8576b"
            ],
            [
             0.6666666666666666,
             "#ed7953"
            ],
            [
             0.7777777777777778,
             "#fb9f3a"
            ],
            [
             0.8888888888888888,
             "#fdca26"
            ],
            [
             1,
             "#f0f921"
            ]
           ]
          },
          "colorway": [
           "#636efa",
           "#EF553B",
           "#00cc96",
           "#ab63fa",
           "#FFA15A",
           "#19d3f3",
           "#FF6692",
           "#B6E880",
           "#FF97FF",
           "#FECB52"
          ],
          "font": {
           "color": "#2a3f5f"
          },
          "geo": {
           "bgcolor": "white",
           "lakecolor": "white",
           "landcolor": "#E5ECF6",
           "showlakes": true,
           "showland": true,
           "subunitcolor": "white"
          },
          "hoverlabel": {
           "align": "left"
          },
          "hovermode": "closest",
          "mapbox": {
           "style": "light"
          },
          "paper_bgcolor": "white",
          "plot_bgcolor": "#E5ECF6",
          "polar": {
           "angularaxis": {
            "gridcolor": "white",
            "linecolor": "white",
            "ticks": ""
           },
           "bgcolor": "#E5ECF6",
           "radialaxis": {
            "gridcolor": "white",
            "linecolor": "white",
            "ticks": ""
           }
          },
          "scene": {
           "xaxis": {
            "backgroundcolor": "#E5ECF6",
            "gridcolor": "white",
            "gridwidth": 2,
            "linecolor": "white",
            "showbackground": true,
            "ticks": "",
            "zerolinecolor": "white"
           },
           "yaxis": {
            "backgroundcolor": "#E5ECF6",
            "gridcolor": "white",
            "gridwidth": 2,
            "linecolor": "white",
            "showbackground": true,
            "ticks": "",
            "zerolinecolor": "white"
           },
           "zaxis": {
            "backgroundcolor": "#E5ECF6",
            "gridcolor": "white",
            "gridwidth": 2,
            "linecolor": "white",
            "showbackground": true,
            "ticks": "",
            "zerolinecolor": "white"
           }
          },
          "shapedefaults": {
           "line": {
            "color": "#2a3f5f"
           }
          },
          "ternary": {
           "aaxis": {
            "gridcolor": "white",
            "linecolor": "white",
            "ticks": ""
           },
           "baxis": {
            "gridcolor": "white",
            "linecolor": "white",
            "ticks": ""
           },
           "bgcolor": "#E5ECF6",
           "caxis": {
            "gridcolor": "white",
            "linecolor": "white",
            "ticks": ""
           }
          },
          "title": {
           "x": 0.05
          },
          "xaxis": {
           "automargin": true,
           "gridcolor": "white",
           "linecolor": "white",
           "ticks": "",
           "title": {
            "standoff": 15
           },
           "zerolinecolor": "white",
           "zerolinewidth": 2
          },
          "yaxis": {
           "automargin": true,
           "gridcolor": "white",
           "linecolor": "white",
           "ticks": "",
           "title": {
            "standoff": 15
           },
           "zerolinecolor": "white",
           "zerolinewidth": 2
          }
         }
        }
       }
      },
      "text/html": [
       "<div>                            <div id=\"a33a469f-85a2-4898-8f21-460319e04430\" class=\"plotly-graph-div\" style=\"height:525px; width:100%;\"></div>            <script type=\"text/javascript\">                require([\"plotly\"], function(Plotly) {                    window.PLOTLYENV=window.PLOTLYENV || {};                                    if (document.getElementById(\"a33a469f-85a2-4898-8f21-460319e04430\")) {                    Plotly.newPlot(                        \"a33a469f-85a2-4898-8f21-460319e04430\",                        [{\"textinfo\":\"value+percent initial+percent previous\",\"x\":[7419,4593,3734,3539],\"y\":[\"MainScreenAppear\",\"OffersScreenAppear\",\"CartScreenAppear\",\"PaymentScreenSuccessful\"],\"type\":\"funnel\"}],                        {\"template\":{\"data\":{\"bar\":[{\"error_x\":{\"color\":\"#2a3f5f\"},\"error_y\":{\"color\":\"#2a3f5f\"},\"marker\":{\"line\":{\"color\":\"#E5ECF6\",\"width\":0.5},\"pattern\":{\"fillmode\":\"overlay\",\"size\":10,\"solidity\":0.2}},\"type\":\"bar\"}],\"barpolar\":[{\"marker\":{\"line\":{\"color\":\"#E5ECF6\",\"width\":0.5},\"pattern\":{\"fillmode\":\"overlay\",\"size\":10,\"solidity\":0.2}},\"type\":\"barpolar\"}],\"carpet\":[{\"aaxis\":{\"endlinecolor\":\"#2a3f5f\",\"gridcolor\":\"white\",\"linecolor\":\"white\",\"minorgridcolor\":\"white\",\"startlinecolor\":\"#2a3f5f\"},\"baxis\":{\"endlinecolor\":\"#2a3f5f\",\"gridcolor\":\"white\",\"linecolor\":\"white\",\"minorgridcolor\":\"white\",\"startlinecolor\":\"#2a3f5f\"},\"type\":\"carpet\"}],\"choropleth\":[{\"colorbar\":{\"outlinewidth\":0,\"ticks\":\"\"},\"type\":\"choropleth\"}],\"contour\":[{\"colorbar\":{\"outlinewidth\":0,\"ticks\":\"\"},\"colorscale\":[[0.0,\"#0d0887\"],[0.1111111111111111,\"#46039f\"],[0.2222222222222222,\"#7201a8\"],[0.3333333333333333,\"#9c179e\"],[0.4444444444444444,\"#bd3786\"],[0.5555555555555556,\"#d8576b\"],[0.6666666666666666,\"#ed7953\"],[0.7777777777777778,\"#fb9f3a\"],[0.8888888888888888,\"#fdca26\"],[1.0,\"#f0f921\"]],\"type\":\"contour\"}],\"contourcarpet\":[{\"colorbar\":{\"outlinewidth\":0,\"ticks\":\"\"},\"type\":\"contourcarpet\"}],\"heatmap\":[{\"colorbar\":{\"outlinewidth\":0,\"ticks\":\"\"},\"colorscale\":[[0.0,\"#0d0887\"],[0.1111111111111111,\"#46039f\"],[0.2222222222222222,\"#7201a8\"],[0.3333333333333333,\"#9c179e\"],[0.4444444444444444,\"#bd3786\"],[0.5555555555555556,\"#d8576b\"],[0.6666666666666666,\"#ed7953\"],[0.7777777777777778,\"#fb9f3a\"],[0.8888888888888888,\"#fdca26\"],[1.0,\"#f0f921\"]],\"type\":\"heatmap\"}],\"heatmapgl\":[{\"colorbar\":{\"outlinewidth\":0,\"ticks\":\"\"},\"colorscale\":[[0.0,\"#0d0887\"],[0.1111111111111111,\"#46039f\"],[0.2222222222222222,\"#7201a8\"],[0.3333333333333333,\"#9c179e\"],[0.4444444444444444,\"#bd3786\"],[0.5555555555555556,\"#d8576b\"],[0.6666666666666666,\"#ed7953\"],[0.7777777777777778,\"#fb9f3a\"],[0.8888888888888888,\"#fdca26\"],[1.0,\"#f0f921\"]],\"type\":\"heatmapgl\"}],\"histogram\":[{\"marker\":{\"pattern\":{\"fillmode\":\"overlay\",\"size\":10,\"solidity\":0.2}},\"type\":\"histogram\"}],\"histogram2d\":[{\"colorbar\":{\"outlinewidth\":0,\"ticks\":\"\"},\"colorscale\":[[0.0,\"#0d0887\"],[0.1111111111111111,\"#46039f\"],[0.2222222222222222,\"#7201a8\"],[0.3333333333333333,\"#9c179e\"],[0.4444444444444444,\"#bd3786\"],[0.5555555555555556,\"#d8576b\"],[0.6666666666666666,\"#ed7953\"],[0.7777777777777778,\"#fb9f3a\"],[0.8888888888888888,\"#fdca26\"],[1.0,\"#f0f921\"]],\"type\":\"histogram2d\"}],\"histogram2dcontour\":[{\"colorbar\":{\"outlinewidth\":0,\"ticks\":\"\"},\"colorscale\":[[0.0,\"#0d0887\"],[0.1111111111111111,\"#46039f\"],[0.2222222222222222,\"#7201a8\"],[0.3333333333333333,\"#9c179e\"],[0.4444444444444444,\"#bd3786\"],[0.5555555555555556,\"#d8576b\"],[0.6666666666666666,\"#ed7953\"],[0.7777777777777778,\"#fb9f3a\"],[0.8888888888888888,\"#fdca26\"],[1.0,\"#f0f921\"]],\"type\":\"histogram2dcontour\"}],\"mesh3d\":[{\"colorbar\":{\"outlinewidth\":0,\"ticks\":\"\"},\"type\":\"mesh3d\"}],\"parcoords\":[{\"line\":{\"colorbar\":{\"outlinewidth\":0,\"ticks\":\"\"}},\"type\":\"parcoords\"}],\"pie\":[{\"automargin\":true,\"type\":\"pie\"}],\"scatter\":[{\"marker\":{\"colorbar\":{\"outlinewidth\":0,\"ticks\":\"\"}},\"type\":\"scatter\"}],\"scatter3d\":[{\"line\":{\"colorbar\":{\"outlinewidth\":0,\"ticks\":\"\"}},\"marker\":{\"colorbar\":{\"outlinewidth\":0,\"ticks\":\"\"}},\"type\":\"scatter3d\"}],\"scattercarpet\":[{\"marker\":{\"colorbar\":{\"outlinewidth\":0,\"ticks\":\"\"}},\"type\":\"scattercarpet\"}],\"scattergeo\":[{\"marker\":{\"colorbar\":{\"outlinewidth\":0,\"ticks\":\"\"}},\"type\":\"scattergeo\"}],\"scattergl\":[{\"marker\":{\"colorbar\":{\"outlinewidth\":0,\"ticks\":\"\"}},\"type\":\"scattergl\"}],\"scattermapbox\":[{\"marker\":{\"colorbar\":{\"outlinewidth\":0,\"ticks\":\"\"}},\"type\":\"scattermapbox\"}],\"scatterpolar\":[{\"marker\":{\"colorbar\":{\"outlinewidth\":0,\"ticks\":\"\"}},\"type\":\"scatterpolar\"}],\"scatterpolargl\":[{\"marker\":{\"colorbar\":{\"outlinewidth\":0,\"ticks\":\"\"}},\"type\":\"scatterpolargl\"}],\"scatterternary\":[{\"marker\":{\"colorbar\":{\"outlinewidth\":0,\"ticks\":\"\"}},\"type\":\"scatterternary\"}],\"surface\":[{\"colorbar\":{\"outlinewidth\":0,\"ticks\":\"\"},\"colorscale\":[[0.0,\"#0d0887\"],[0.1111111111111111,\"#46039f\"],[0.2222222222222222,\"#7201a8\"],[0.3333333333333333,\"#9c179e\"],[0.4444444444444444,\"#bd3786\"],[0.5555555555555556,\"#d8576b\"],[0.6666666666666666,\"#ed7953\"],[0.7777777777777778,\"#fb9f3a\"],[0.8888888888888888,\"#fdca26\"],[1.0,\"#f0f921\"]],\"type\":\"surface\"}],\"table\":[{\"cells\":{\"fill\":{\"color\":\"#EBF0F8\"},\"line\":{\"color\":\"white\"}},\"header\":{\"fill\":{\"color\":\"#C8D4E3\"},\"line\":{\"color\":\"white\"}},\"type\":\"table\"}]},\"layout\":{\"annotationdefaults\":{\"arrowcolor\":\"#2a3f5f\",\"arrowhead\":0,\"arrowwidth\":1},\"autotypenumbers\":\"strict\",\"coloraxis\":{\"colorbar\":{\"outlinewidth\":0,\"ticks\":\"\"}},\"colorscale\":{\"diverging\":[[0,\"#8e0152\"],[0.1,\"#c51b7d\"],[0.2,\"#de77ae\"],[0.3,\"#f1b6da\"],[0.4,\"#fde0ef\"],[0.5,\"#f7f7f7\"],[0.6,\"#e6f5d0\"],[0.7,\"#b8e186\"],[0.8,\"#7fbc41\"],[0.9,\"#4d9221\"],[1,\"#276419\"]],\"sequential\":[[0.0,\"#0d0887\"],[0.1111111111111111,\"#46039f\"],[0.2222222222222222,\"#7201a8\"],[0.3333333333333333,\"#9c179e\"],[0.4444444444444444,\"#bd3786\"],[0.5555555555555556,\"#d8576b\"],[0.6666666666666666,\"#ed7953\"],[0.7777777777777778,\"#fb9f3a\"],[0.8888888888888888,\"#fdca26\"],[1.0,\"#f0f921\"]],\"sequentialminus\":[[0.0,\"#0d0887\"],[0.1111111111111111,\"#46039f\"],[0.2222222222222222,\"#7201a8\"],[0.3333333333333333,\"#9c179e\"],[0.4444444444444444,\"#bd3786\"],[0.5555555555555556,\"#d8576b\"],[0.6666666666666666,\"#ed7953\"],[0.7777777777777778,\"#fb9f3a\"],[0.8888888888888888,\"#fdca26\"],[1.0,\"#f0f921\"]]},\"colorway\":[\"#636efa\",\"#EF553B\",\"#00cc96\",\"#ab63fa\",\"#FFA15A\",\"#19d3f3\",\"#FF6692\",\"#B6E880\",\"#FF97FF\",\"#FECB52\"],\"font\":{\"color\":\"#2a3f5f\"},\"geo\":{\"bgcolor\":\"white\",\"lakecolor\":\"white\",\"landcolor\":\"#E5ECF6\",\"showlakes\":true,\"showland\":true,\"subunitcolor\":\"white\"},\"hoverlabel\":{\"align\":\"left\"},\"hovermode\":\"closest\",\"mapbox\":{\"style\":\"light\"},\"paper_bgcolor\":\"white\",\"plot_bgcolor\":\"#E5ECF6\",\"polar\":{\"angularaxis\":{\"gridcolor\":\"white\",\"linecolor\":\"white\",\"ticks\":\"\"},\"bgcolor\":\"#E5ECF6\",\"radialaxis\":{\"gridcolor\":\"white\",\"linecolor\":\"white\",\"ticks\":\"\"}},\"scene\":{\"xaxis\":{\"backgroundcolor\":\"#E5ECF6\",\"gridcolor\":\"white\",\"gridwidth\":2,\"linecolor\":\"white\",\"showbackground\":true,\"ticks\":\"\",\"zerolinecolor\":\"white\"},\"yaxis\":{\"backgroundcolor\":\"#E5ECF6\",\"gridcolor\":\"white\",\"gridwidth\":2,\"linecolor\":\"white\",\"showbackground\":true,\"ticks\":\"\",\"zerolinecolor\":\"white\"},\"zaxis\":{\"backgroundcolor\":\"#E5ECF6\",\"gridcolor\":\"white\",\"gridwidth\":2,\"linecolor\":\"white\",\"showbackground\":true,\"ticks\":\"\",\"zerolinecolor\":\"white\"}},\"shapedefaults\":{\"line\":{\"color\":\"#2a3f5f\"}},\"ternary\":{\"aaxis\":{\"gridcolor\":\"white\",\"linecolor\":\"white\",\"ticks\":\"\"},\"baxis\":{\"gridcolor\":\"white\",\"linecolor\":\"white\",\"ticks\":\"\"},\"bgcolor\":\"#E5ECF6\",\"caxis\":{\"gridcolor\":\"white\",\"linecolor\":\"white\",\"ticks\":\"\"}},\"title\":{\"x\":0.05},\"xaxis\":{\"automargin\":true,\"gridcolor\":\"white\",\"linecolor\":\"white\",\"ticks\":\"\",\"title\":{\"standoff\":15},\"zerolinecolor\":\"white\",\"zerolinewidth\":2},\"yaxis\":{\"automargin\":true,\"gridcolor\":\"white\",\"linecolor\":\"white\",\"ticks\":\"\",\"title\":{\"standoff\":15},\"zerolinecolor\":\"white\",\"zerolinewidth\":2}}}},                        {\"responsive\": true}                    ).then(function(){\n",
       "                            \n",
       "var gd = document.getElementById('a33a469f-85a2-4898-8f21-460319e04430');\n",
       "var x = new MutationObserver(function (mutations, observer) {{\n",
       "        var display = window.getComputedStyle(gd).display;\n",
       "        if (!display || display === 'none') {{\n",
       "            console.log([gd, 'removed!']);\n",
       "            Plotly.purge(gd);\n",
       "            observer.disconnect();\n",
       "        }}\n",
       "}});\n",
       "\n",
       "// Listen for the removal of the full notebook cells\n",
       "var notebookContainer = gd.closest('#notebook-container');\n",
       "if (notebookContainer) {{\n",
       "    x.observe(notebookContainer, {childList: true});\n",
       "}}\n",
       "\n",
       "// Listen for the clearing of the current output cell\n",
       "var outputEl = gd.closest('.output');\n",
       "if (outputEl) {{\n",
       "    x.observe(outputEl, {childList: true});\n",
       "}}\n",
       "\n",
       "                        })                };                });            </script>        </div>"
      ]
     },
     "metadata": {},
     "output_type": "display_data"
    }
   ],
   "source": [
    "# для начала построим таблицу, а затем визуализируем её\n",
    "funnel_of_events_table = funnel_of_events.query('event_name != \"Tutorial\"')\n",
    "funnel_of_events_table['prev_step'] = funnel_of_events_table['users_count'].shift()\n",
    "funnel_of_events_table['step_conversion'] = round(funnel_of_events_table['users_count'] / funnel_of_events_table['prev_step'] * 100, 2)\n",
    "funnel_of_events_table.drop(columns= ['prev_step'], axis = 1, inplace = True)\n",
    "display(funnel_of_events_table)\n",
    "\n",
    "funnel_of_events = funnel_of_events.query('event_name != \"Tutorial\"')\n",
    "fig = go.Figure(go.Funnel(\n",
    "    y = funnel_of_events['event_name'],\n",
    "    x = funnel_of_events['users_count'],\n",
    "    textinfo = \"value + percent initial + percent previous\"))\n",
    "fig.show()"
   ]
  },
  {
   "cell_type": "markdown",
   "metadata": {},
   "source": [
    "Самый большой спад конверсии - переход между главной страницей и страницей каталога - 38% пользователей до туда не доходят. Зато на следующих шагах - корзина и экран успешной оплаты - отсеивается всего 19% и 5% пользователей соответветственно. Всего до успешной оплаты доходят 48% пользователей приложения."
   ]
  },
  {
   "cell_type": "markdown",
   "metadata": {},
   "source": [
    "## Результаты эксперимента"
   ]
  },
  {
   "cell_type": "markdown",
   "metadata": {},
   "source": [
    "Вспомним, сколько пользователей в каждой экспериментальной группе."
   ]
  },
  {
   "cell_type": "code",
   "execution_count": 15,
   "metadata": {},
   "outputs": [
    {
     "data": {
      "text/plain": [
       "exp_id\n",
       "246        2484\n",
       "247        2513\n",
       "248        2537\n",
       "246+247    4997\n",
       "Name: device_id_hash, dtype: int64"
      ]
     },
     "execution_count": 15,
     "metadata": {},
     "output_type": "execute_result"
    }
   ],
   "source": [
    "users_count"
   ]
  },
  {
   "cell_type": "markdown",
   "metadata": {},
   "source": [
    "Проверим также количество пользователей, попавших более чем в одну группу для корректности проведения теста."
   ]
  },
  {
   "cell_type": "code",
   "execution_count": 16,
   "metadata": {
    "scrolled": true
   },
   "outputs": [
    {
     "data": {
      "text/plain": [
       "exp_id    0\n",
       "dtype: int64"
      ]
     },
     "execution_count": 16,
     "metadata": {},
     "output_type": "execute_result"
    }
   ],
   "source": [
    "data_new.groupby('device_id_hash').agg({'exp_id': 'nunique'}).query('exp_id > 1').count()"
   ]
  },
  {
   "cell_type": "markdown",
   "metadata": {},
   "source": [
    "Такие пользователи отсутствуют."
   ]
  },
  {
   "cell_type": "markdown",
   "metadata": {},
   "source": [
    "### A/A-тест"
   ]
  },
  {
   "cell_type": "markdown",
   "metadata": {},
   "source": [
    "**Есть 2 контрольные группы для А/А-эксперимента, чтобы проверить корректность всех механизмов и расчётов. Проверим, находят ли статистические критерии разницу между выборками 246 и 247. Выберем самое популярное событие и посчитаем число пользователей, совершивших это событие в каждой из контрольных групп. Также посчитаем долю пользователей, совершивших это событие и проверим, будет ли отличие между группами статистически достоверным.**"
   ]
  },
  {
   "cell_type": "markdown",
   "metadata": {},
   "source": [
    "Самое популярное событие - MainScreenAppear. Посмотрим доли пользователей, соврешивших это событие."
   ]
  },
  {
   "cell_type": "code",
   "execution_count": 17,
   "metadata": {
    "scrolled": true
   },
   "outputs": [
    {
     "data": {
      "text/html": [
       "<div>\n",
       "<style scoped>\n",
       "    .dataframe tbody tr th:only-of-type {\n",
       "        vertical-align: middle;\n",
       "    }\n",
       "\n",
       "    .dataframe tbody tr th {\n",
       "        vertical-align: top;\n",
       "    }\n",
       "\n",
       "    .dataframe thead th {\n",
       "        text-align: right;\n",
       "    }\n",
       "</style>\n",
       "<table border=\"1\" class=\"dataframe\">\n",
       "  <thead>\n",
       "    <tr style=\"text-align: right;\">\n",
       "      <th>exp_id</th>\n",
       "      <th>246</th>\n",
       "      <th>247</th>\n",
       "      <th>248</th>\n",
       "      <th>246+247</th>\n",
       "    </tr>\n",
       "    <tr>\n",
       "      <th>event_name</th>\n",
       "      <th></th>\n",
       "      <th></th>\n",
       "      <th></th>\n",
       "      <th></th>\n",
       "    </tr>\n",
       "  </thead>\n",
       "  <tbody>\n",
       "    <tr>\n",
       "      <th>MainScreenAppear</th>\n",
       "      <td>2450</td>\n",
       "      <td>2476</td>\n",
       "      <td>2493</td>\n",
       "      <td>4926</td>\n",
       "    </tr>\n",
       "    <tr>\n",
       "      <th>OffersScreenAppear</th>\n",
       "      <td>1542</td>\n",
       "      <td>1520</td>\n",
       "      <td>1531</td>\n",
       "      <td>3062</td>\n",
       "    </tr>\n",
       "    <tr>\n",
       "      <th>CartScreenAppear</th>\n",
       "      <td>1266</td>\n",
       "      <td>1238</td>\n",
       "      <td>1230</td>\n",
       "      <td>2504</td>\n",
       "    </tr>\n",
       "    <tr>\n",
       "      <th>PaymentScreenSuccessful</th>\n",
       "      <td>1200</td>\n",
       "      <td>1158</td>\n",
       "      <td>1181</td>\n",
       "      <td>2358</td>\n",
       "    </tr>\n",
       "  </tbody>\n",
       "</table>\n",
       "</div>"
      ],
      "text/plain": [
       "exp_id                    246   247   248  246+247\n",
       "event_name                                        \n",
       "MainScreenAppear         2450  2476  2493     4926\n",
       "OffersScreenAppear       1542  1520  1531     3062\n",
       "CartScreenAppear         1266  1238  1230     2504\n",
       "PaymentScreenSuccessful  1200  1158  1181     2358"
      ]
     },
     "metadata": {},
     "output_type": "display_data"
    }
   ],
   "source": [
    "# создадим таблицу с количеством пользователей на каждое событие\n",
    "event_groups = (\n",
    "    data_new.query('event_name != \"Tutorial\"')\n",
    "    .pivot_table(index='event_name', columns='exp_id', values='device_id_hash', aggfunc='nunique')\n",
    "    .sort_values(by=246, ascending=False)\n",
    "              )\n",
    "event_groups['246+247'] = event_groups[246] + event_groups[247]\n",
    "\n",
    "display(event_groups)"
   ]
  },
  {
   "cell_type": "code",
   "execution_count": 18,
   "metadata": {},
   "outputs": [
    {
     "name": "stdout",
     "output_type": "stream",
     "text": [
      "Доля пользователей 246 группы, совершившей событие \"Главный экран\": 0.986\n",
      "Доля пользователей 247 группы, совершившей событие \"Главный экран\": 0.985\n"
     ]
    }
   ],
   "source": [
    "print('Доля пользователей 246 группы, совершившей событие \"Главный экран\":',\n",
    "      round(event_groups.loc['MainScreenAppear', 246]/users_count[246], 3)\n",
    "     )\n",
    "print('Доля пользователей 247 группы, совершившей событие \"Главный экран\":',\n",
    "    round(event_groups.loc['MainScreenAppear', 247]/users_count[247], 3))"
   ]
  },
  {
   "cell_type": "markdown",
   "metadata": {},
   "source": [
    "Количество пользователей, попавших на главный экран, составило 2450 в 246 группе и 2476 в 247 группе, то есть 98.6% и 98.5% соответственно от общего числа пользователей. Проверим, равны ли группы статистически."
   ]
  },
  {
   "cell_type": "markdown",
   "metadata": {},
   "source": [
    "H0: Доли уникальных посетителей, побывавших на этапе воронки, одинаковы.\n",
    "\n",
    "H1: Между долями уникальных посетителей, побывавших на этапе воронки, есть значимая разница."
   ]
  },
  {
   "cell_type": "code",
   "execution_count": 19,
   "metadata": {},
   "outputs": [],
   "source": [
    "def z_test (group_1, group_2, alpha, event_name):\n",
    "    alpha = alpha\n",
    "    \n",
    "    success_1 = event_groups.loc[event_name, group_1]\n",
    "    success_2 = event_groups.loc[event_name, group_2]\n",
    "    \n",
    "    users_count_1 = users_count.loc[group_1]\n",
    "    users_count_2 = users_count.loc[group_2]\n",
    "    \n",
    "    p1 = success_1 / users_count_1\n",
    "    p2 = success_2 / users_count_2\n",
    "    \n",
    "    p_combined = (success_1 + success_2) / (users_count_1 + users_count_2)\n",
    "    \n",
    "    difference = p1 - p2\n",
    "    \n",
    "    z_value = difference / mth.sqrt(p_combined * (1 - p_combined) * (1/users_count_1 + 1/users_count_2))\n",
    "    \n",
    "    distr = st.norm(0, 1)\n",
    "    \n",
    "    p_value = (1 - distr.cdf(abs(z_value))) * 2\n",
    "    \n",
    "    print('p-значение: ', p_value)\n",
    "\n",
    "    if p_value < alpha:\n",
    "        print('Отвергаем H0')\n",
    "    else:\n",
    "        print('Не получилось отвергнуть H0')"
   ]
  },
  {
   "cell_type": "code",
   "execution_count": 20,
   "metadata": {},
   "outputs": [
    {
     "name": "stdout",
     "output_type": "stream",
     "text": [
      "p-значение:  0.7570597232046099\n",
      "Не получилось отвергнуть H0\n"
     ]
    }
   ],
   "source": [
    "z_test(246, 247, 0.01, 'MainScreenAppear')"
   ]
  },
  {
   "cell_type": "markdown",
   "metadata": {},
   "source": [
    "Гипотеза о равенстве групп по количеству пользователей, посетивших главный экран также не была отвергнута. Проведем тесты по всем событиям 246 и 247 групп. Аналогично сформулируем гипотезы"
   ]
  },
  {
   "cell_type": "markdown",
   "metadata": {},
   "source": [
    "H0: Доли уникальных посетителей, побывавших на этапе воронки, одинаковы.\n",
    "\n",
    "H1: Между долями уникальных посетителей, побывавших на этапе воронки, есть значимая разница."
   ]
  },
  {
   "cell_type": "code",
   "execution_count": 21,
   "metadata": {},
   "outputs": [
    {
     "name": "stdout",
     "output_type": "stream",
     "text": [
      "MainScreenAppear\n",
      "p-значение:  0.7570597232046099\n",
      "Не получилось отвергнуть H0\n",
      "\n",
      "OffersScreenAppear\n",
      "p-значение:  0.2480954578522181\n",
      "Не получилось отвергнуть H0\n",
      "\n",
      "CartScreenAppear\n",
      "p-значение:  0.22883372237997213\n",
      "Не получилось отвергнуть H0\n",
      "\n",
      "PaymentScreenSuccessful\n",
      "p-значение:  0.11456679313141849\n",
      "Не получилось отвергнуть H0\n",
      "\n"
     ]
    }
   ],
   "source": [
    "for event_name in event_groups.index:\n",
    "    print(event_name)\n",
    "    z_test(246, 247, 0.01, event_name)\n",
    "    print()"
   ]
  },
  {
   "cell_type": "markdown",
   "metadata": {},
   "source": [
    "**Мы видим, что нет статистически значимой разницы для всех событий воронки продаж в группах. То есть разбиение по группам прошло корректно.**"
   ]
  },
  {
   "cell_type": "markdown",
   "metadata": {},
   "source": [
    "### A/B-тест"
   ]
  },
  {
   "cell_type": "markdown",
   "metadata": {},
   "source": [
    "Аналогично поступим с группой с изменённым шрифтом. Сравним результаты с каждой из контрольных групп в отдельности по каждому событию. А также сравним результаты с объединённой контрольной группой."
   ]
  },
  {
   "cell_type": "code",
   "execution_count": 22,
   "metadata": {},
   "outputs": [
    {
     "name": "stdout",
     "output_type": "stream",
     "text": [
      "Группа 246 и группа 248\n",
      "MainScreenAppear\n",
      "p-значение:  0.2949721933554552\n",
      "Не получилось отвергнуть H0\n",
      "\n",
      "OffersScreenAppear\n",
      "p-значение:  0.20836205402738917\n",
      "Не получилось отвергнуть H0\n",
      "\n",
      "CartScreenAppear\n",
      "p-значение:  0.07842923237520116\n",
      "Не получилось отвергнуть H0\n",
      "\n",
      "PaymentScreenSuccessful\n",
      "p-значение:  0.2122553275697796\n",
      "Не получилось отвергнуть H0\n",
      "\n",
      "------------\n",
      "Группа 247 и группа 248\n",
      "MainScreenAppear\n",
      "p-значение:  0.4587053616621515\n",
      "Не получилось отвергнуть H0\n",
      "\n",
      "OffersScreenAppear\n",
      "p-значение:  0.9197817830592261\n",
      "Не получилось отвергнуть H0\n",
      "\n",
      "CartScreenAppear\n",
      "p-значение:  0.5786197879539783\n",
      "Не получилось отвергнуть H0\n",
      "\n",
      "PaymentScreenSuccessful\n",
      "p-значение:  0.7373415053803964\n",
      "Не получилось отвергнуть H0\n",
      "\n",
      "------------\n",
      "Группа 246+247 и группа 248\n",
      "MainScreenAppear\n",
      "p-значение:  0.29424526837179577\n",
      "Не получилось отвергнуть H0\n",
      "\n",
      "OffersScreenAppear\n",
      "p-значение:  0.43425549655188256\n",
      "Не получилось отвергнуть H0\n",
      "\n",
      "CartScreenAppear\n",
      "p-значение:  0.18175875284404386\n",
      "Не получилось отвергнуть H0\n",
      "\n",
      "PaymentScreenSuccessful\n",
      "p-значение:  0.6004294282308704\n",
      "Не получилось отвергнуть H0\n",
      "\n",
      "------------\n"
     ]
    }
   ],
   "source": [
    "groups = [246, 247, '246+247']\n",
    "\n",
    "for n in groups:\n",
    "    print('Группа', n, 'и группа 248')\n",
    "    for event_name in event_groups.index:\n",
    "        print(event_name)\n",
    "        z_test(n, 248, 0.01, event_name)\n",
    "        print()\n",
    "    print('------------')    "
   ]
  },
  {
   "cell_type": "markdown",
   "metadata": {},
   "source": [
    "**На всех уровнях воронки событий при проведении z-теста гипотеза о равенстве групп не была отвергнута. Группа, состоящая из суммы тестовых групп, также показала результаты в пользу равенства групп. Но мы провели 16 тестов, и при таком количестве возникает вероятность ошибки ложноположительного результата. Если мы хотим, чтобы групповая вероятность ошибки в данном случае не превышала уровень значимости α = 0.01, то, согласно методу Бонферрони, мы должны сравнить каждое из полученных p-value не с α, а с α/m, где m - число проверяемых гипотез. Применим поправку Бонферрони к коэффициенту статистической значимости и посмотрим на результат:**"
   ]
  },
  {
   "cell_type": "code",
   "execution_count": 23,
   "metadata": {},
   "outputs": [
    {
     "name": "stdout",
     "output_type": "stream",
     "text": [
      "MainScreenAppear\n",
      "p-значение:  0.7570597232046099\n",
      "Не получилось отвергнуть H0\n",
      "\n",
      "OffersScreenAppear\n",
      "p-значение:  0.2480954578522181\n",
      "Не получилось отвергнуть H0\n",
      "\n",
      "CartScreenAppear\n",
      "p-значение:  0.22883372237997213\n",
      "Не получилось отвергнуть H0\n",
      "\n",
      "PaymentScreenSuccessful\n",
      "p-значение:  0.11456679313141849\n",
      "Не получилось отвергнуть H0\n",
      "\n"
     ]
    }
   ],
   "source": [
    "# поделим alpha на 16\n",
    "for event_name in event_groups.index:\n",
    "    print(event_name)\n",
    "    z_test(246, 247, 0.01/16, event_name)\n",
    "    print()"
   ]
  },
  {
   "cell_type": "code",
   "execution_count": 24,
   "metadata": {
    "scrolled": false
   },
   "outputs": [
    {
     "name": "stdout",
     "output_type": "stream",
     "text": [
      "Группа 246 и группа 248\n",
      "MainScreenAppear\n",
      "p-значение:  0.2949721933554552\n",
      "Не получилось отвергнуть H0\n",
      "\n",
      "OffersScreenAppear\n",
      "p-значение:  0.20836205402738917\n",
      "Не получилось отвергнуть H0\n",
      "\n",
      "CartScreenAppear\n",
      "p-значение:  0.07842923237520116\n",
      "Не получилось отвергнуть H0\n",
      "\n",
      "PaymentScreenSuccessful\n",
      "p-значение:  0.2122553275697796\n",
      "Не получилось отвергнуть H0\n",
      "\n",
      "------------\n",
      "Группа 247 и группа 248\n",
      "MainScreenAppear\n",
      "p-значение:  0.4587053616621515\n",
      "Не получилось отвергнуть H0\n",
      "\n",
      "OffersScreenAppear\n",
      "p-значение:  0.9197817830592261\n",
      "Не получилось отвергнуть H0\n",
      "\n",
      "CartScreenAppear\n",
      "p-значение:  0.5786197879539783\n",
      "Не получилось отвергнуть H0\n",
      "\n",
      "PaymentScreenSuccessful\n",
      "p-значение:  0.7373415053803964\n",
      "Не получилось отвергнуть H0\n",
      "\n",
      "------------\n",
      "Группа 246+247 и группа 248\n",
      "MainScreenAppear\n",
      "p-значение:  0.29424526837179577\n",
      "Не получилось отвергнуть H0\n",
      "\n",
      "OffersScreenAppear\n",
      "p-значение:  0.43425549655188256\n",
      "Не получилось отвергнуть H0\n",
      "\n",
      "CartScreenAppear\n",
      "p-значение:  0.18175875284404386\n",
      "Не получилось отвергнуть H0\n",
      "\n",
      "PaymentScreenSuccessful\n",
      "p-значение:  0.6004294282308704\n",
      "Не получилось отвергнуть H0\n",
      "\n",
      "------------\n"
     ]
    }
   ],
   "source": [
    "groups = [246, 247, '246+247']\n",
    "\n",
    "for n in groups:\n",
    "    print('Группа', n, 'и группа 248')\n",
    "    for event_name in event_groups.index:\n",
    "        print(event_name)\n",
    "        z_test(n, 248, 0.01/16, event_name)\n",
    "        print()\n",
    "    print('------------')  "
   ]
  },
  {
   "cell_type": "markdown",
   "metadata": {},
   "source": [
    "**Применив поправку Бонферрони, мы получили результат, с большей вероятностью указывающий на то, что группы схожи между собой.**"
   ]
  },
  {
   "cell_type": "markdown",
   "metadata": {},
   "source": [
    "## Вывод"
   ]
  },
  {
   "cell_type": "markdown",
   "metadata": {},
   "source": [
    "В ходе исследования было установлено, что мы обладаем полными данными лишь за период с 01.08.2019 по 07.08.2019, события и пользователи, предшествующие этому промежутку, были удалены без ущерба для данных.\n",
    "\n",
    "При построении воронки был исключён этап Tutorial, т.к он не является обязательным и не влияет на покупку. Также было обнаружено, что большая часть пользователей (38%) не идёт дальше главного экрана.\n",
    "\n",
    "После проведения А/А-теста мы увидели, что нет статистически значимой разницы для всех событий воронки продаж в контрольных группах, то есть разбиение по группам прошло корректно. Но и гипотеза о сходстве контрольных и тестируемой групп не была опровергнута, это означает, что разница между поведением пользователей до изменения шрифта в приложении и после отсутствует. Шрифт можно не менять."
   ]
  }
 ],
 "metadata": {
  "ExecuteTimeLog": [
   {
    "duration": 456,
    "start_time": "2023-03-03T18:24:30.494Z"
   },
   {
    "duration": 855,
    "start_time": "2023-03-03T18:24:38.995Z"
   },
   {
    "duration": 12,
    "start_time": "2023-03-03T18:24:43.506Z"
   },
   {
    "duration": 209,
    "start_time": "2023-03-03T18:24:57.794Z"
   },
   {
    "duration": 9,
    "start_time": "2023-03-03T18:24:59.148Z"
   },
   {
    "duration": 237,
    "start_time": "2023-03-03T18:26:57.169Z"
   },
   {
    "duration": 3,
    "start_time": "2023-03-03T18:32:36.365Z"
   },
   {
    "duration": 13,
    "start_time": "2023-03-03T18:32:39.290Z"
   },
   {
    "duration": 888,
    "start_time": "2023-03-03T18:36:54.557Z"
   },
   {
    "duration": 17,
    "start_time": "2023-03-03T18:37:42.710Z"
   },
   {
    "duration": 63,
    "start_time": "2023-03-03T18:37:50.968Z"
   },
   {
    "duration": 11,
    "start_time": "2023-03-03T18:37:59.973Z"
   },
   {
    "duration": 22,
    "start_time": "2023-03-03T18:38:02.811Z"
   },
   {
    "duration": 14,
    "start_time": "2023-03-03T18:38:39.495Z"
   },
   {
    "duration": 57,
    "start_time": "2023-03-03T18:38:45.103Z"
   },
   {
    "duration": 18,
    "start_time": "2023-03-03T18:38:53.888Z"
   },
   {
    "duration": 116,
    "start_time": "2023-03-03T18:40:05.346Z"
   },
   {
    "duration": 168,
    "start_time": "2023-03-03T18:43:07.378Z"
   },
   {
    "duration": 170,
    "start_time": "2023-03-03T18:43:28.422Z"
   },
   {
    "duration": 147,
    "start_time": "2023-03-03T18:43:32.756Z"
   },
   {
    "duration": 129,
    "start_time": "2023-03-03T18:43:43.073Z"
   },
   {
    "duration": 101,
    "start_time": "2023-03-03T18:43:52.590Z"
   },
   {
    "duration": 114,
    "start_time": "2023-03-03T18:44:09.365Z"
   },
   {
    "duration": 168,
    "start_time": "2023-03-03T18:44:14.093Z"
   },
   {
    "duration": 134,
    "start_time": "2023-03-03T18:44:21.667Z"
   },
   {
    "duration": 194,
    "start_time": "2023-03-03T18:45:40.270Z"
   },
   {
    "duration": 165,
    "start_time": "2023-03-03T18:45:49.238Z"
   },
   {
    "duration": 163,
    "start_time": "2023-03-03T18:47:02.906Z"
   },
   {
    "duration": 122,
    "start_time": "2023-03-03T18:47:20.393Z"
   },
   {
    "duration": 7,
    "start_time": "2023-03-03T18:53:14.966Z"
   },
   {
    "duration": 4,
    "start_time": "2023-03-03T18:53:17.907Z"
   },
   {
    "duration": 4,
    "start_time": "2023-03-03T18:53:26.294Z"
   },
   {
    "duration": 5,
    "start_time": "2023-03-03T18:53:56.374Z"
   },
   {
    "duration": 4,
    "start_time": "2023-03-03T18:54:02.992Z"
   },
   {
    "duration": 18,
    "start_time": "2023-03-03T18:55:34.468Z"
   },
   {
    "duration": 16,
    "start_time": "2023-03-03T18:55:42.152Z"
   },
   {
    "duration": 121,
    "start_time": "2023-03-03T18:55:58.370Z"
   },
   {
    "duration": 16,
    "start_time": "2023-03-03T18:56:00.717Z"
   },
   {
    "duration": 13,
    "start_time": "2023-03-03T18:57:18.273Z"
   },
   {
    "duration": 13,
    "start_time": "2023-03-03T18:57:32.002Z"
   },
   {
    "duration": 53,
    "start_time": "2023-03-04T12:30:28.605Z"
   },
   {
    "duration": 391,
    "start_time": "2023-03-04T12:30:36.058Z"
   },
   {
    "duration": 801,
    "start_time": "2023-03-04T12:30:36.450Z"
   },
   {
    "duration": 99,
    "start_time": "2023-03-04T12:30:37.253Z"
   },
   {
    "duration": 123,
    "start_time": "2023-03-04T12:30:37.355Z"
   },
   {
    "duration": 120,
    "start_time": "2023-03-04T12:30:37.480Z"
   },
   {
    "duration": 30,
    "start_time": "2023-03-04T12:30:37.602Z"
   },
   {
    "duration": 14,
    "start_time": "2023-03-04T12:30:37.636Z"
   },
   {
    "duration": 25,
    "start_time": "2023-03-04T12:31:16.734Z"
   },
   {
    "duration": 24,
    "start_time": "2023-03-04T12:31:29.247Z"
   },
   {
    "duration": 3,
    "start_time": "2023-03-04T12:33:37.908Z"
   },
   {
    "duration": 814,
    "start_time": "2023-03-04T12:34:40.419Z"
   },
   {
    "duration": 293,
    "start_time": "2023-03-04T12:34:53.908Z"
   },
   {
    "duration": 3,
    "start_time": "2023-03-04T12:35:36.371Z"
   },
   {
    "duration": 71,
    "start_time": "2023-03-04T12:35:45.147Z"
   },
   {
    "duration": 419,
    "start_time": "2023-03-04T12:36:07.938Z"
   },
   {
    "duration": 428,
    "start_time": "2023-03-04T12:39:55.881Z"
   },
   {
    "duration": 445,
    "start_time": "2023-03-04T12:40:06.467Z"
   },
   {
    "duration": 433,
    "start_time": "2023-03-04T12:40:17.035Z"
   },
   {
    "duration": 469,
    "start_time": "2023-03-04T12:40:41.267Z"
   },
   {
    "duration": 497,
    "start_time": "2023-03-04T12:40:50.204Z"
   },
   {
    "duration": 456,
    "start_time": "2023-03-04T12:41:01.083Z"
   },
   {
    "duration": 769,
    "start_time": "2023-03-04T12:41:09.196Z"
   },
   {
    "duration": 450,
    "start_time": "2023-03-04T12:43:52.944Z"
   },
   {
    "duration": 474,
    "start_time": "2023-03-04T12:44:08.968Z"
   },
   {
    "duration": 550,
    "start_time": "2023-03-04T12:44:18.434Z"
   },
   {
    "duration": 455,
    "start_time": "2023-03-04T12:44:57.234Z"
   },
   {
    "duration": 484,
    "start_time": "2023-03-04T12:45:11.009Z"
   },
   {
    "duration": 449,
    "start_time": "2023-03-04T12:45:17.241Z"
   },
   {
    "duration": 492,
    "start_time": "2023-03-04T12:45:29.929Z"
   },
   {
    "duration": 462,
    "start_time": "2023-03-04T12:47:56.773Z"
   },
   {
    "duration": 466,
    "start_time": "2023-03-04T12:48:48.485Z"
   },
   {
    "duration": 471,
    "start_time": "2023-03-04T12:49:35.266Z"
   },
   {
    "duration": 44,
    "start_time": "2023-03-04T12:55:05.661Z"
   },
   {
    "duration": 228,
    "start_time": "2023-03-04T12:55:24.011Z"
   },
   {
    "duration": 214,
    "start_time": "2023-03-04T12:55:33.832Z"
   },
   {
    "duration": 43,
    "start_time": "2023-03-04T12:56:57.479Z"
   },
   {
    "duration": 266,
    "start_time": "2023-03-04T12:57:30.548Z"
   },
   {
    "duration": 198,
    "start_time": "2023-03-04T12:58:05.664Z"
   },
   {
    "duration": 194,
    "start_time": "2023-03-04T12:58:11.154Z"
   },
   {
    "duration": 26,
    "start_time": "2023-03-04T12:58:51.065Z"
   },
   {
    "duration": 28,
    "start_time": "2023-03-04T13:00:04.035Z"
   },
   {
    "duration": 222,
    "start_time": "2023-03-04T13:00:22.865Z"
   },
   {
    "duration": 233,
    "start_time": "2023-03-04T13:02:23.010Z"
   },
   {
    "duration": 204,
    "start_time": "2023-03-04T13:02:26.373Z"
   },
   {
    "duration": 195,
    "start_time": "2023-03-04T13:03:04.116Z"
   },
   {
    "duration": 208,
    "start_time": "2023-03-04T13:03:28.164Z"
   },
   {
    "duration": 671,
    "start_time": "2023-03-04T13:03:52.301Z"
   },
   {
    "duration": 196,
    "start_time": "2023-03-04T13:03:52.974Z"
   },
   {
    "duration": 144,
    "start_time": "2023-03-04T13:03:53.172Z"
   },
   {
    "duration": 82,
    "start_time": "2023-03-04T13:03:53.325Z"
   },
   {
    "duration": 82,
    "start_time": "2023-03-04T13:03:53.409Z"
   },
   {
    "duration": 12,
    "start_time": "2023-03-04T13:03:53.493Z"
   },
   {
    "duration": 26,
    "start_time": "2023-03-04T13:03:53.506Z"
   },
   {
    "duration": 298,
    "start_time": "2023-03-04T13:03:53.537Z"
   },
   {
    "duration": 28,
    "start_time": "2023-03-04T13:03:53.837Z"
   },
   {
    "duration": 20,
    "start_time": "2023-03-04T13:04:21.194Z"
   },
   {
    "duration": 16,
    "start_time": "2023-03-04T13:08:31.751Z"
   },
   {
    "duration": 19,
    "start_time": "2023-03-04T13:08:48.996Z"
   },
   {
    "duration": 44,
    "start_time": "2023-03-04T13:09:32.979Z"
   },
   {
    "duration": 13,
    "start_time": "2023-03-04T13:09:36.443Z"
   },
   {
    "duration": 43,
    "start_time": "2023-03-04T13:09:39.939Z"
   },
   {
    "duration": 49,
    "start_time": "2023-03-04T13:09:43.840Z"
   },
   {
    "duration": 15,
    "start_time": "2023-03-04T13:09:51.252Z"
   },
   {
    "duration": 20,
    "start_time": "2023-03-04T13:10:20.408Z"
   },
   {
    "duration": 26,
    "start_time": "2023-03-04T13:11:02.453Z"
   },
   {
    "duration": 25,
    "start_time": "2023-03-04T13:11:17.171Z"
   },
   {
    "duration": 26,
    "start_time": "2023-03-04T13:11:44.041Z"
   },
   {
    "duration": 27,
    "start_time": "2023-03-04T13:11:57.985Z"
   },
   {
    "duration": 25,
    "start_time": "2023-03-04T13:12:11.780Z"
   },
   {
    "duration": 807,
    "start_time": "2023-03-05T15:22:48.656Z"
   },
   {
    "duration": 778,
    "start_time": "2023-03-05T15:22:49.466Z"
   },
   {
    "duration": 186,
    "start_time": "2023-03-05T15:22:50.246Z"
   },
   {
    "duration": 88,
    "start_time": "2023-03-05T15:22:50.434Z"
   },
   {
    "duration": 95,
    "start_time": "2023-03-05T15:22:50.524Z"
   },
   {
    "duration": 15,
    "start_time": "2023-03-05T15:22:50.620Z"
   },
   {
    "duration": 20,
    "start_time": "2023-03-05T15:22:50.637Z"
   },
   {
    "duration": 301,
    "start_time": "2023-03-05T15:22:50.659Z"
   },
   {
    "duration": 37,
    "start_time": "2023-03-05T15:22:50.963Z"
   },
   {
    "duration": 36,
    "start_time": "2023-03-05T15:29:21.218Z"
   },
   {
    "duration": 70,
    "start_time": "2023-03-05T15:40:20.184Z"
   },
   {
    "duration": 15,
    "start_time": "2023-03-05T15:40:32.816Z"
   },
   {
    "duration": 18,
    "start_time": "2023-03-05T15:42:36.303Z"
   },
   {
    "duration": 65,
    "start_time": "2023-03-05T15:50:27.274Z"
   },
   {
    "duration": 142,
    "start_time": "2023-03-05T15:51:42.040Z"
   },
   {
    "duration": 59,
    "start_time": "2023-03-05T15:51:49.655Z"
   },
   {
    "duration": 78,
    "start_time": "2023-03-05T15:51:58.844Z"
   },
   {
    "duration": 62,
    "start_time": "2023-03-05T15:52:08.437Z"
   },
   {
    "duration": 92,
    "start_time": "2023-03-05T15:52:30.132Z"
   },
   {
    "duration": 67,
    "start_time": "2023-03-05T15:53:15.250Z"
   },
   {
    "duration": 72,
    "start_time": "2023-03-05T15:56:26.063Z"
   },
   {
    "duration": 64,
    "start_time": "2023-03-05T15:56:56.063Z"
   },
   {
    "duration": 6,
    "start_time": "2023-03-05T15:57:23.402Z"
   },
   {
    "duration": 72,
    "start_time": "2023-03-05T15:57:26.055Z"
   },
   {
    "duration": 4,
    "start_time": "2023-03-05T15:57:27.647Z"
   },
   {
    "duration": 74,
    "start_time": "2023-03-05T15:57:42.181Z"
   },
   {
    "duration": 8,
    "start_time": "2023-03-05T16:11:15.047Z"
   },
   {
    "duration": 542,
    "start_time": "2023-03-05T16:11:22.518Z"
   },
   {
    "duration": 41,
    "start_time": "2023-03-05T16:11:26.405Z"
   },
   {
    "duration": 13,
    "start_time": "2023-03-05T16:12:37.009Z"
   },
   {
    "duration": 13,
    "start_time": "2023-03-05T16:14:01.156Z"
   },
   {
    "duration": 15,
    "start_time": "2023-03-05T16:15:00.523Z"
   },
   {
    "duration": 18,
    "start_time": "2023-03-05T16:16:05.546Z"
   },
   {
    "duration": 1153,
    "start_time": "2023-03-05T16:16:21.327Z"
   },
   {
    "duration": 180,
    "start_time": "2023-03-05T16:16:22.482Z"
   },
   {
    "duration": 137,
    "start_time": "2023-03-05T16:16:22.663Z"
   },
   {
    "duration": 92,
    "start_time": "2023-03-05T16:16:22.802Z"
   },
   {
    "duration": 85,
    "start_time": "2023-03-05T16:16:22.895Z"
   },
   {
    "duration": 13,
    "start_time": "2023-03-05T16:16:22.981Z"
   },
   {
    "duration": 6,
    "start_time": "2023-03-05T16:16:22.995Z"
   },
   {
    "duration": 299,
    "start_time": "2023-03-05T16:16:23.002Z"
   },
   {
    "duration": 29,
    "start_time": "2023-03-05T16:16:23.303Z"
   },
   {
    "duration": 47,
    "start_time": "2023-03-05T16:16:23.334Z"
   },
   {
    "duration": 20,
    "start_time": "2023-03-05T16:16:23.383Z"
   },
   {
    "duration": 89,
    "start_time": "2023-03-05T16:16:23.404Z"
   },
   {
    "duration": 110,
    "start_time": "2023-03-05T16:16:23.495Z"
   },
   {
    "duration": 10,
    "start_time": "2023-03-05T16:17:51.064Z"
   },
   {
    "duration": 9,
    "start_time": "2023-03-05T16:17:59.376Z"
   },
   {
    "duration": 13,
    "start_time": "2023-03-05T16:18:05.990Z"
   },
   {
    "duration": 67,
    "start_time": "2023-03-05T16:19:44.469Z"
   },
   {
    "duration": 72,
    "start_time": "2023-03-05T16:20:27.196Z"
   },
   {
    "duration": 73,
    "start_time": "2023-03-05T16:20:37.064Z"
   },
   {
    "duration": 178,
    "start_time": "2023-03-05T16:20:42.037Z"
   },
   {
    "duration": 16,
    "start_time": "2023-03-05T16:21:06.971Z"
   },
   {
    "duration": 158,
    "start_time": "2023-03-05T16:21:17.961Z"
   },
   {
    "duration": 146,
    "start_time": "2023-03-05T16:21:24.779Z"
   },
   {
    "duration": 164,
    "start_time": "2023-03-05T16:21:41.499Z"
   },
   {
    "duration": 183,
    "start_time": "2023-03-05T16:23:14.708Z"
   },
   {
    "duration": 18,
    "start_time": "2023-03-05T18:17:58.036Z"
   },
   {
    "duration": 228,
    "start_time": "2023-03-05T18:18:22.908Z"
   },
   {
    "duration": 19,
    "start_time": "2023-03-05T18:20:08.867Z"
   },
   {
    "duration": 11,
    "start_time": "2023-03-05T18:20:21.540Z"
   },
   {
    "duration": 13,
    "start_time": "2023-03-05T18:21:00.395Z"
   },
   {
    "duration": 20,
    "start_time": "2023-03-05T18:21:03.886Z"
   },
   {
    "duration": 11,
    "start_time": "2023-03-05T18:21:41.250Z"
   },
   {
    "duration": 692,
    "start_time": "2023-03-05T18:21:51.480Z"
   },
   {
    "duration": 2,
    "start_time": "2023-03-05T18:26:56.794Z"
   },
   {
    "duration": 12,
    "start_time": "2023-03-05T18:29:11.465Z"
   },
   {
    "duration": 14,
    "start_time": "2023-03-05T18:29:18.928Z"
   },
   {
    "duration": 13,
    "start_time": "2023-03-05T18:29:25.769Z"
   },
   {
    "duration": 12,
    "start_time": "2023-03-05T18:29:46.345Z"
   },
   {
    "duration": 13,
    "start_time": "2023-03-05T18:30:01.685Z"
   },
   {
    "duration": 19,
    "start_time": "2023-03-05T18:31:04.662Z"
   },
   {
    "duration": 19,
    "start_time": "2023-03-05T18:31:20.121Z"
   },
   {
    "duration": 12,
    "start_time": "2023-03-05T18:31:24.443Z"
   },
   {
    "duration": 11,
    "start_time": "2023-03-05T18:34:02.553Z"
   },
   {
    "duration": 1443,
    "start_time": "2023-03-09T18:04:36.601Z"
   },
   {
    "duration": 757,
    "start_time": "2023-03-09T18:04:38.046Z"
   },
   {
    "duration": 143,
    "start_time": "2023-03-09T18:04:38.804Z"
   },
   {
    "duration": 90,
    "start_time": "2023-03-09T18:04:38.950Z"
   },
   {
    "duration": 82,
    "start_time": "2023-03-09T18:04:39.042Z"
   },
   {
    "duration": 18,
    "start_time": "2023-03-09T18:04:39.130Z"
   },
   {
    "duration": 7,
    "start_time": "2023-03-09T18:04:39.150Z"
   },
   {
    "duration": 388,
    "start_time": "2023-03-09T18:04:39.159Z"
   },
   {
    "duration": 31,
    "start_time": "2023-03-09T18:04:39.549Z"
   },
   {
    "duration": 67,
    "start_time": "2023-03-09T18:04:39.583Z"
   },
   {
    "duration": 27,
    "start_time": "2023-03-09T18:04:39.652Z"
   },
   {
    "duration": 83,
    "start_time": "2023-03-09T18:04:39.681Z"
   },
   {
    "duration": 177,
    "start_time": "2023-03-09T18:04:39.766Z"
   },
   {
    "duration": 169,
    "start_time": "2023-03-09T18:04:39.945Z"
   },
   {
    "duration": 37,
    "start_time": "2023-03-09T18:10:33.487Z"
   },
   {
    "duration": 27,
    "start_time": "2023-03-09T18:11:42.144Z"
   },
   {
    "duration": 33,
    "start_time": "2023-03-09T18:11:43.767Z"
   },
   {
    "duration": 39,
    "start_time": "2023-03-09T18:11:49.047Z"
   },
   {
    "duration": 29,
    "start_time": "2023-03-09T18:11:52.284Z"
   },
   {
    "duration": 28,
    "start_time": "2023-03-09T18:12:03.469Z"
   },
   {
    "duration": 33,
    "start_time": "2023-03-09T18:12:04.590Z"
   },
   {
    "duration": 40,
    "start_time": "2023-03-09T18:16:50.767Z"
   },
   {
    "duration": 111,
    "start_time": "2023-03-09T18:17:57.279Z"
   },
   {
    "duration": 892,
    "start_time": "2023-03-09T18:18:11.900Z"
   },
   {
    "duration": 791,
    "start_time": "2023-03-09T18:18:15.398Z"
   },
   {
    "duration": 40,
    "start_time": "2023-03-09T18:18:27.134Z"
   },
   {
    "duration": 10,
    "start_time": "2023-03-09T18:42:32.948Z"
   },
   {
    "duration": 18,
    "start_time": "2023-03-09T18:43:02.377Z"
   },
   {
    "duration": 13,
    "start_time": "2023-03-09T18:45:06.813Z"
   },
   {
    "duration": 752,
    "start_time": "2023-03-09T18:45:39.041Z"
   },
   {
    "duration": 702,
    "start_time": "2023-03-09T18:45:46.602Z"
   },
   {
    "duration": 717,
    "start_time": "2023-03-09T18:46:10.727Z"
   },
   {
    "duration": 9,
    "start_time": "2023-03-09T18:50:23.003Z"
   },
   {
    "duration": 61,
    "start_time": "2023-03-09T18:50:28.873Z"
   },
   {
    "duration": 72,
    "start_time": "2023-03-09T18:51:19.620Z"
   },
   {
    "duration": 10,
    "start_time": "2023-03-09T18:55:21.043Z"
   },
   {
    "duration": 67,
    "start_time": "2023-03-09T18:59:45.520Z"
   },
   {
    "duration": 1448,
    "start_time": "2023-03-11T17:35:16.164Z"
   },
   {
    "duration": 939,
    "start_time": "2023-03-11T17:35:17.615Z"
   },
   {
    "duration": 153,
    "start_time": "2023-03-11T17:35:18.556Z"
   },
   {
    "duration": 94,
    "start_time": "2023-03-11T17:35:18.711Z"
   },
   {
    "duration": 90,
    "start_time": "2023-03-11T17:35:18.807Z"
   },
   {
    "duration": 13,
    "start_time": "2023-03-11T17:35:18.902Z"
   },
   {
    "duration": 6,
    "start_time": "2023-03-11T17:35:18.916Z"
   },
   {
    "duration": 310,
    "start_time": "2023-03-11T17:35:18.923Z"
   },
   {
    "duration": 36,
    "start_time": "2023-03-11T17:35:19.234Z"
   },
   {
    "duration": 35,
    "start_time": "2023-03-11T17:35:19.271Z"
   },
   {
    "duration": 45,
    "start_time": "2023-03-11T17:35:19.308Z"
   },
   {
    "duration": 87,
    "start_time": "2023-03-11T17:35:19.355Z"
   },
   {
    "duration": 165,
    "start_time": "2023-03-11T17:35:19.444Z"
   },
   {
    "duration": 171,
    "start_time": "2023-03-11T17:35:19.611Z"
   },
   {
    "duration": 63,
    "start_time": "2023-03-11T17:35:19.785Z"
   },
   {
    "duration": 39,
    "start_time": "2023-03-11T17:35:19.849Z"
   },
   {
    "duration": 122,
    "start_time": "2023-03-11T17:35:19.889Z"
   },
   {
    "duration": 28,
    "start_time": "2023-03-11T17:35:20.013Z"
   },
   {
    "duration": 3,
    "start_time": "2023-03-11T17:40:44.056Z"
   },
   {
    "duration": 8,
    "start_time": "2023-03-11T17:41:17.412Z"
   },
   {
    "duration": 126,
    "start_time": "2023-03-11T17:47:45.948Z"
   },
   {
    "duration": 627,
    "start_time": "2023-03-11T17:52:12.413Z"
   },
   {
    "duration": 497,
    "start_time": "2023-03-11T17:52:40.724Z"
   },
   {
    "duration": 488,
    "start_time": "2023-03-11T17:53:50.698Z"
   },
   {
    "duration": 1335,
    "start_time": "2023-03-11T17:53:58.960Z"
   },
   {
    "duration": 208,
    "start_time": "2023-03-11T17:54:00.297Z"
   },
   {
    "duration": 168,
    "start_time": "2023-03-11T17:54:00.506Z"
   },
   {
    "duration": 98,
    "start_time": "2023-03-11T17:54:00.675Z"
   },
   {
    "duration": 155,
    "start_time": "2023-03-11T17:54:00.776Z"
   },
   {
    "duration": 13,
    "start_time": "2023-03-11T17:54:00.933Z"
   },
   {
    "duration": 72,
    "start_time": "2023-03-11T17:54:00.947Z"
   },
   {
    "duration": 337,
    "start_time": "2023-03-11T17:54:01.021Z"
   },
   {
    "duration": 36,
    "start_time": "2023-03-11T17:54:01.360Z"
   },
   {
    "duration": 56,
    "start_time": "2023-03-11T17:54:01.398Z"
   },
   {
    "duration": 24,
    "start_time": "2023-03-11T17:54:01.456Z"
   },
   {
    "duration": 89,
    "start_time": "2023-03-11T17:54:01.481Z"
   },
   {
    "duration": 177,
    "start_time": "2023-03-11T17:54:01.572Z"
   },
   {
    "duration": 162,
    "start_time": "2023-03-11T17:54:01.752Z"
   },
   {
    "duration": 67,
    "start_time": "2023-03-11T17:54:01.916Z"
   },
   {
    "duration": 100,
    "start_time": "2023-03-11T17:54:01.985Z"
   },
   {
    "duration": 126,
    "start_time": "2023-03-11T17:54:02.087Z"
   },
   {
    "duration": 7,
    "start_time": "2023-03-11T17:54:02.214Z"
   },
   {
    "duration": 649,
    "start_time": "2023-03-11T17:54:02.223Z"
   },
   {
    "duration": 15,
    "start_time": "2023-03-11T17:54:12.221Z"
   },
   {
    "duration": 14,
    "start_time": "2023-03-11T17:55:16.622Z"
   },
   {
    "duration": 12,
    "start_time": "2023-03-11T18:05:38.629Z"
   },
   {
    "duration": 108,
    "start_time": "2023-03-11T18:05:54.363Z"
   },
   {
    "duration": 100,
    "start_time": "2023-03-11T18:06:00.090Z"
   },
   {
    "duration": 14,
    "start_time": "2023-03-11T18:06:52.787Z"
   },
   {
    "duration": 9,
    "start_time": "2023-03-11T18:07:14.754Z"
   },
   {
    "duration": 655,
    "start_time": "2023-03-11T18:09:24.148Z"
   },
   {
    "duration": 786,
    "start_time": "2023-03-11T18:09:50.449Z"
   },
   {
    "duration": 677,
    "start_time": "2023-03-11T18:10:18.335Z"
   },
   {
    "duration": 11,
    "start_time": "2023-03-11T18:11:03.278Z"
   },
   {
    "duration": 97,
    "start_time": "2023-03-11T18:11:10.029Z"
   },
   {
    "duration": 32,
    "start_time": "2023-03-11T18:12:02.933Z"
   },
   {
    "duration": 7,
    "start_time": "2023-03-11T18:12:24.595Z"
   },
   {
    "duration": 5,
    "start_time": "2023-03-11T18:12:56.322Z"
   },
   {
    "duration": 40,
    "start_time": "2023-03-11T18:18:14.037Z"
   },
   {
    "duration": 1431,
    "start_time": "2023-03-12T09:56:06.099Z"
   },
   {
    "duration": 315,
    "start_time": "2023-03-12T09:56:07.533Z"
   },
   {
    "duration": 152,
    "start_time": "2023-03-12T09:56:07.850Z"
   },
   {
    "duration": 98,
    "start_time": "2023-03-12T09:56:08.005Z"
   },
   {
    "duration": 89,
    "start_time": "2023-03-12T09:56:08.105Z"
   },
   {
    "duration": 15,
    "start_time": "2023-03-12T09:56:08.197Z"
   },
   {
    "duration": 5,
    "start_time": "2023-03-12T09:56:08.214Z"
   },
   {
    "duration": 327,
    "start_time": "2023-03-12T09:56:08.221Z"
   },
   {
    "duration": 45,
    "start_time": "2023-03-12T09:56:08.550Z"
   },
   {
    "duration": 45,
    "start_time": "2023-03-12T09:56:08.598Z"
   },
   {
    "duration": 30,
    "start_time": "2023-03-12T09:56:08.645Z"
   },
   {
    "duration": 74,
    "start_time": "2023-03-12T09:56:08.676Z"
   },
   {
    "duration": 175,
    "start_time": "2023-03-12T09:56:08.752Z"
   },
   {
    "duration": 184,
    "start_time": "2023-03-12T09:56:08.929Z"
   },
   {
    "duration": 61,
    "start_time": "2023-03-12T09:56:09.115Z"
   },
   {
    "duration": 44,
    "start_time": "2023-03-12T09:56:09.177Z"
   },
   {
    "duration": 77,
    "start_time": "2023-03-12T09:56:09.273Z"
   },
   {
    "duration": 25,
    "start_time": "2023-03-12T09:56:09.352Z"
   },
   {
    "duration": 18,
    "start_time": "2023-03-12T09:56:09.379Z"
   },
   {
    "duration": 117,
    "start_time": "2023-03-12T09:56:09.399Z"
   },
   {
    "duration": 39,
    "start_time": "2023-03-12T09:56:09.517Z"
   },
   {
    "duration": 17,
    "start_time": "2023-03-12T09:56:09.557Z"
   },
   {
    "duration": 48,
    "start_time": "2023-03-12T09:59:01.275Z"
   },
   {
    "duration": 5,
    "start_time": "2023-03-12T09:59:14.650Z"
   },
   {
    "duration": 4,
    "start_time": "2023-03-12T09:59:29.945Z"
   },
   {
    "duration": 5,
    "start_time": "2023-03-12T09:59:38.450Z"
   },
   {
    "duration": 5,
    "start_time": "2023-03-12T09:59:49.200Z"
   },
   {
    "duration": 5,
    "start_time": "2023-03-12T10:00:04.016Z"
   },
   {
    "duration": 7,
    "start_time": "2023-03-12T10:15:01.418Z"
   },
   {
    "duration": 127,
    "start_time": "2023-03-12T10:15:30.765Z"
   },
   {
    "duration": 5,
    "start_time": "2023-03-12T10:15:46.424Z"
   },
   {
    "duration": 6,
    "start_time": "2023-03-12T10:15:50.399Z"
   },
   {
    "duration": 6,
    "start_time": "2023-03-12T10:18:34.313Z"
   },
   {
    "duration": 5,
    "start_time": "2023-03-12T10:19:52.100Z"
   },
   {
    "duration": 6,
    "start_time": "2023-03-12T10:19:52.963Z"
   },
   {
    "duration": 7,
    "start_time": "2023-03-12T10:31:48.622Z"
   },
   {
    "duration": 5,
    "start_time": "2023-03-12T10:31:49.533Z"
   },
   {
    "duration": 5,
    "start_time": "2023-03-12T10:32:42.317Z"
   },
   {
    "duration": 5,
    "start_time": "2023-03-12T10:32:42.697Z"
   },
   {
    "duration": 5,
    "start_time": "2023-03-12T10:33:36.734Z"
   },
   {
    "duration": 4,
    "start_time": "2023-03-12T10:33:36.932Z"
   },
   {
    "duration": 6,
    "start_time": "2023-03-12T10:34:04.030Z"
   },
   {
    "duration": 5,
    "start_time": "2023-03-12T10:34:04.980Z"
   },
   {
    "duration": 5,
    "start_time": "2023-03-12T10:34:55.751Z"
   },
   {
    "duration": 15,
    "start_time": "2023-03-12T10:36:20.675Z"
   },
   {
    "duration": 22,
    "start_time": "2023-03-12T10:36:31.503Z"
   },
   {
    "duration": 15,
    "start_time": "2023-03-12T10:38:42.573Z"
   },
   {
    "duration": 318,
    "start_time": "2023-03-12T10:38:58.045Z"
   },
   {
    "duration": 12,
    "start_time": "2023-03-12T10:39:26.103Z"
   },
   {
    "duration": 19,
    "start_time": "2023-03-12T10:40:17.105Z"
   },
   {
    "duration": 11,
    "start_time": "2023-03-12T10:40:29.927Z"
   },
   {
    "duration": 71,
    "start_time": "2023-03-12T10:42:22.537Z"
   },
   {
    "duration": 9,
    "start_time": "2023-03-12T10:42:25.226Z"
   },
   {
    "duration": 9,
    "start_time": "2023-03-12T10:42:44.715Z"
   },
   {
    "duration": 9,
    "start_time": "2023-03-12T10:42:59.858Z"
   },
   {
    "duration": 15,
    "start_time": "2023-03-12T10:43:32.577Z"
   },
   {
    "duration": 73,
    "start_time": "2023-03-12T10:44:00.226Z"
   },
   {
    "duration": 12,
    "start_time": "2023-03-12T10:44:03.901Z"
   },
   {
    "duration": 11,
    "start_time": "2023-03-12T10:44:07.298Z"
   },
   {
    "duration": 10,
    "start_time": "2023-03-12T10:44:19.017Z"
   },
   {
    "duration": 9,
    "start_time": "2023-03-12T10:44:30.849Z"
   },
   {
    "duration": 9,
    "start_time": "2023-03-12T10:44:39.824Z"
   },
   {
    "duration": 5,
    "start_time": "2023-03-12T10:45:56.143Z"
   },
   {
    "duration": 1335,
    "start_time": "2023-03-12T10:46:03.629Z"
   },
   {
    "duration": 209,
    "start_time": "2023-03-12T10:46:04.966Z"
   },
   {
    "duration": 148,
    "start_time": "2023-03-12T10:46:05.176Z"
   },
   {
    "duration": 92,
    "start_time": "2023-03-12T10:46:05.327Z"
   },
   {
    "duration": 84,
    "start_time": "2023-03-12T10:46:05.420Z"
   },
   {
    "duration": 13,
    "start_time": "2023-03-12T10:46:05.507Z"
   },
   {
    "duration": 15,
    "start_time": "2023-03-12T10:46:05.522Z"
   },
   {
    "duration": 324,
    "start_time": "2023-03-12T10:46:05.539Z"
   },
   {
    "duration": 37,
    "start_time": "2023-03-12T10:46:05.865Z"
   },
   {
    "duration": 37,
    "start_time": "2023-03-12T10:46:05.905Z"
   },
   {
    "duration": 40,
    "start_time": "2023-03-12T10:46:05.944Z"
   },
   {
    "duration": 95,
    "start_time": "2023-03-12T10:46:05.987Z"
   },
   {
    "duration": 173,
    "start_time": "2023-03-12T10:46:06.084Z"
   },
   {
    "duration": 183,
    "start_time": "2023-03-12T10:46:06.259Z"
   },
   {
    "duration": 59,
    "start_time": "2023-03-12T10:46:06.444Z"
   },
   {
    "duration": 104,
    "start_time": "2023-03-12T10:46:06.505Z"
   },
   {
    "duration": 129,
    "start_time": "2023-03-12T10:46:06.611Z"
   },
   {
    "duration": 8,
    "start_time": "2023-03-12T10:46:06.742Z"
   },
   {
    "duration": 130,
    "start_time": "2023-03-12T10:46:06.752Z"
   },
   {
    "duration": 40,
    "start_time": "2023-03-12T10:46:06.883Z"
   },
   {
    "duration": 5,
    "start_time": "2023-03-12T10:46:06.925Z"
   },
   {
    "duration": 25,
    "start_time": "2023-03-12T10:46:06.931Z"
   },
   {
    "duration": 8,
    "start_time": "2023-03-12T10:46:06.958Z"
   },
   {
    "duration": 13,
    "start_time": "2023-03-12T10:46:06.973Z"
   },
   {
    "duration": 4,
    "start_time": "2023-03-12T10:46:28.855Z"
   },
   {
    "duration": 6,
    "start_time": "2023-03-12T10:46:57.605Z"
   },
   {
    "duration": 5,
    "start_time": "2023-03-12T10:46:58.550Z"
   },
   {
    "duration": 9,
    "start_time": "2023-03-12T10:47:03.173Z"
   },
   {
    "duration": 10,
    "start_time": "2023-03-12T10:49:26.132Z"
   },
   {
    "duration": 5,
    "start_time": "2023-03-12T10:52:48.697Z"
   },
   {
    "duration": 6,
    "start_time": "2023-03-12T10:52:48.992Z"
   },
   {
    "duration": 11,
    "start_time": "2023-03-12T10:52:49.764Z"
   },
   {
    "duration": 11,
    "start_time": "2023-03-12T10:53:24.323Z"
   },
   {
    "duration": 39,
    "start_time": "2023-03-12T10:55:47.557Z"
   },
   {
    "duration": 5,
    "start_time": "2023-03-12T10:56:10.279Z"
   },
   {
    "duration": 114,
    "start_time": "2023-03-12T10:56:40.662Z"
   },
   {
    "duration": 5,
    "start_time": "2023-03-12T10:56:52.943Z"
   },
   {
    "duration": 45,
    "start_time": "2023-03-12T10:56:54.134Z"
   },
   {
    "duration": 1212,
    "start_time": "2023-03-12T10:57:22.204Z"
   },
   {
    "duration": 205,
    "start_time": "2023-03-12T10:57:23.418Z"
   },
   {
    "duration": 155,
    "start_time": "2023-03-12T10:57:23.625Z"
   },
   {
    "duration": 97,
    "start_time": "2023-03-12T10:57:23.782Z"
   },
   {
    "duration": 78,
    "start_time": "2023-03-12T10:57:23.880Z"
   },
   {
    "duration": 25,
    "start_time": "2023-03-12T10:57:23.960Z"
   },
   {
    "duration": 87,
    "start_time": "2023-03-12T10:57:23.987Z"
   },
   {
    "duration": 424,
    "start_time": "2023-03-12T10:57:24.075Z"
   },
   {
    "duration": 31,
    "start_time": "2023-03-12T10:57:24.501Z"
   },
   {
    "duration": 62,
    "start_time": "2023-03-12T10:57:24.535Z"
   },
   {
    "duration": 33,
    "start_time": "2023-03-12T10:57:24.599Z"
   },
   {
    "duration": 94,
    "start_time": "2023-03-12T10:57:24.634Z"
   },
   {
    "duration": 166,
    "start_time": "2023-03-12T10:57:24.730Z"
   },
   {
    "duration": 173,
    "start_time": "2023-03-12T10:57:24.898Z"
   },
   {
    "duration": 6,
    "start_time": "2023-03-12T10:57:25.073Z"
   },
   {
    "duration": 109,
    "start_time": "2023-03-12T10:57:25.081Z"
   },
   {
    "duration": 125,
    "start_time": "2023-03-12T10:57:25.192Z"
   },
   {
    "duration": 9,
    "start_time": "2023-03-12T10:57:25.319Z"
   },
   {
    "duration": 126,
    "start_time": "2023-03-12T10:57:25.330Z"
   },
   {
    "duration": 4,
    "start_time": "2023-03-12T10:57:25.458Z"
   },
   {
    "duration": 14,
    "start_time": "2023-03-12T10:57:25.472Z"
   },
   {
    "duration": 10,
    "start_time": "2023-03-12T10:57:25.488Z"
   },
   {
    "duration": 12,
    "start_time": "2023-03-12T10:57:25.500Z"
   },
   {
    "duration": 10,
    "start_time": "2023-03-12T11:06:27.379Z"
   },
   {
    "duration": 11,
    "start_time": "2023-03-12T11:06:54.592Z"
   },
   {
    "duration": 1021,
    "start_time": "2023-03-12T11:08:04.466Z"
   },
   {
    "duration": 66,
    "start_time": "2023-03-12T11:12:39.293Z"
   },
   {
    "duration": 11,
    "start_time": "2023-03-12T11:12:42.214Z"
   },
   {
    "duration": 10,
    "start_time": "2023-03-12T11:12:50.084Z"
   },
   {
    "duration": 292,
    "start_time": "2023-03-12T11:12:56.515Z"
   },
   {
    "duration": 80,
    "start_time": "2023-03-12T11:13:05.901Z"
   },
   {
    "duration": 3,
    "start_time": "2023-03-12T11:13:09.836Z"
   },
   {
    "duration": 8,
    "start_time": "2023-03-12T11:13:13.588Z"
   },
   {
    "duration": 939,
    "start_time": "2023-03-12T11:13:39.300Z"
   },
   {
    "duration": 11,
    "start_time": "2023-03-12T11:14:01.204Z"
   },
   {
    "duration": 12,
    "start_time": "2023-03-12T11:14:06.035Z"
   },
   {
    "duration": 1213,
    "start_time": "2023-03-12T11:14:32.910Z"
   },
   {
    "duration": 1222,
    "start_time": "2023-03-12T11:14:38.117Z"
   },
   {
    "duration": 7,
    "start_time": "2023-03-12T11:14:50.082Z"
   },
   {
    "duration": 117,
    "start_time": "2023-03-12T11:15:03.057Z"
   },
   {
    "duration": 8,
    "start_time": "2023-03-12T11:15:06.984Z"
   },
   {
    "duration": 11,
    "start_time": "2023-03-12T11:15:09.725Z"
   },
   {
    "duration": 13,
    "start_time": "2023-03-12T11:15:17.858Z"
   },
   {
    "duration": 842,
    "start_time": "2023-03-12T11:15:18.442Z"
   },
   {
    "duration": 1159,
    "start_time": "2023-03-12T11:15:27.908Z"
   },
   {
    "duration": 914,
    "start_time": "2023-03-12T11:15:48.315Z"
   },
   {
    "duration": 1139,
    "start_time": "2023-03-12T11:17:35.633Z"
   },
   {
    "duration": 904,
    "start_time": "2023-03-12T11:17:44.577Z"
   },
   {
    "duration": 4,
    "start_time": "2023-03-12T11:20:03.388Z"
   },
   {
    "duration": 1156,
    "start_time": "2023-03-12T11:20:08.192Z"
   },
   {
    "duration": 844,
    "start_time": "2023-03-12T11:20:25.351Z"
   },
   {
    "duration": 9,
    "start_time": "2023-03-12T11:20:43.581Z"
   },
   {
    "duration": 1162,
    "start_time": "2023-03-12T11:21:04.848Z"
   },
   {
    "duration": 1258,
    "start_time": "2023-03-12T11:21:10.851Z"
   },
   {
    "duration": 202,
    "start_time": "2023-03-12T11:21:12.111Z"
   },
   {
    "duration": 164,
    "start_time": "2023-03-12T11:21:12.315Z"
   },
   {
    "duration": 96,
    "start_time": "2023-03-12T11:21:12.480Z"
   },
   {
    "duration": 94,
    "start_time": "2023-03-12T11:21:12.579Z"
   },
   {
    "duration": 14,
    "start_time": "2023-03-12T11:21:12.675Z"
   },
   {
    "duration": 5,
    "start_time": "2023-03-12T11:21:12.691Z"
   },
   {
    "duration": 325,
    "start_time": "2023-03-12T11:21:12.698Z"
   },
   {
    "duration": 32,
    "start_time": "2023-03-12T11:21:13.025Z"
   },
   {
    "duration": 37,
    "start_time": "2023-03-12T11:21:13.072Z"
   },
   {
    "duration": 25,
    "start_time": "2023-03-12T11:21:13.111Z"
   },
   {
    "duration": 95,
    "start_time": "2023-03-12T11:21:13.138Z"
   },
   {
    "duration": 166,
    "start_time": "2023-03-12T11:21:13.235Z"
   },
   {
    "duration": 187,
    "start_time": "2023-03-12T11:21:13.404Z"
   },
   {
    "duration": 6,
    "start_time": "2023-03-12T11:21:13.593Z"
   },
   {
    "duration": 96,
    "start_time": "2023-03-12T11:21:13.601Z"
   },
   {
    "duration": 133,
    "start_time": "2023-03-12T11:21:13.699Z"
   },
   {
    "duration": 7,
    "start_time": "2023-03-12T11:21:13.833Z"
   },
   {
    "duration": 127,
    "start_time": "2023-03-12T11:21:13.842Z"
   },
   {
    "duration": 5,
    "start_time": "2023-03-12T11:21:13.973Z"
   },
   {
    "duration": 6,
    "start_time": "2023-03-12T11:21:13.979Z"
   },
   {
    "duration": 10,
    "start_time": "2023-03-12T11:21:13.987Z"
   },
   {
    "duration": 19,
    "start_time": "2023-03-12T11:21:13.999Z"
   },
   {
    "duration": 11,
    "start_time": "2023-03-12T11:21:14.020Z"
   },
   {
    "duration": 43,
    "start_time": "2023-03-12T11:21:14.033Z"
   },
   {
    "duration": 11,
    "start_time": "2023-03-12T11:21:14.078Z"
   },
   {
    "duration": 1127,
    "start_time": "2023-03-12T11:21:14.091Z"
   },
   {
    "duration": 1140,
    "start_time": "2023-03-12T11:23:45.258Z"
   },
   {
    "duration": 938,
    "start_time": "2023-03-12T11:24:00.074Z"
   },
   {
    "duration": 856,
    "start_time": "2023-03-12T11:24:18.561Z"
   },
   {
    "duration": 5,
    "start_time": "2023-03-12T11:25:34.007Z"
   },
   {
    "duration": 5,
    "start_time": "2023-03-12T11:25:34.778Z"
   },
   {
    "duration": 11,
    "start_time": "2023-03-12T11:25:36.713Z"
   },
   {
    "duration": 7,
    "start_time": "2023-03-12T11:25:38.325Z"
   },
   {
    "duration": 11,
    "start_time": "2023-03-12T11:25:38.686Z"
   },
   {
    "duration": 10,
    "start_time": "2023-03-12T11:25:39.311Z"
   },
   {
    "duration": 864,
    "start_time": "2023-03-12T11:25:40.371Z"
   },
   {
    "duration": 113,
    "start_time": "2023-03-12T11:26:24.679Z"
   },
   {
    "duration": 115,
    "start_time": "2023-03-12T11:26:35.880Z"
   },
   {
    "duration": 5,
    "start_time": "2023-03-12T11:26:36.973Z"
   },
   {
    "duration": 5,
    "start_time": "2023-03-12T11:26:37.485Z"
   },
   {
    "duration": 5,
    "start_time": "2023-03-12T11:26:37.629Z"
   },
   {
    "duration": 10,
    "start_time": "2023-03-12T11:26:38.292Z"
   },
   {
    "duration": 7,
    "start_time": "2023-03-12T11:26:39.446Z"
   },
   {
    "duration": 9,
    "start_time": "2023-03-12T11:26:39.597Z"
   },
   {
    "duration": 10,
    "start_time": "2023-03-12T11:26:39.869Z"
   },
   {
    "duration": 1065,
    "start_time": "2023-03-12T11:26:46.894Z"
   },
   {
    "duration": 113,
    "start_time": "2023-03-12T11:27:12.766Z"
   },
   {
    "duration": 4,
    "start_time": "2023-03-12T11:27:13.004Z"
   },
   {
    "duration": 1236,
    "start_time": "2023-03-12T11:27:25.389Z"
   },
   {
    "duration": 212,
    "start_time": "2023-03-12T11:27:26.627Z"
   },
   {
    "duration": 168,
    "start_time": "2023-03-12T11:27:26.841Z"
   },
   {
    "duration": 101,
    "start_time": "2023-03-12T11:27:27.012Z"
   },
   {
    "duration": 87,
    "start_time": "2023-03-12T11:27:27.115Z"
   },
   {
    "duration": 14,
    "start_time": "2023-03-12T11:27:27.204Z"
   },
   {
    "duration": 10,
    "start_time": "2023-03-12T11:27:27.220Z"
   },
   {
    "duration": 332,
    "start_time": "2023-03-12T11:27:27.232Z"
   },
   {
    "duration": 35,
    "start_time": "2023-03-12T11:27:27.566Z"
   },
   {
    "duration": 37,
    "start_time": "2023-03-12T11:27:27.604Z"
   },
   {
    "duration": 42,
    "start_time": "2023-03-12T11:27:27.643Z"
   },
   {
    "duration": 99,
    "start_time": "2023-03-12T11:27:27.687Z"
   },
   {
    "duration": 171,
    "start_time": "2023-03-12T11:27:27.787Z"
   },
   {
    "duration": 168,
    "start_time": "2023-03-12T11:27:27.960Z"
   },
   {
    "duration": 5,
    "start_time": "2023-03-12T11:27:28.131Z"
   },
   {
    "duration": 136,
    "start_time": "2023-03-12T11:27:28.138Z"
   },
   {
    "duration": 124,
    "start_time": "2023-03-12T11:27:28.275Z"
   },
   {
    "duration": 8,
    "start_time": "2023-03-12T11:27:28.401Z"
   },
   {
    "duration": 129,
    "start_time": "2023-03-12T11:27:28.412Z"
   },
   {
    "duration": 4,
    "start_time": "2023-03-12T11:27:28.543Z"
   },
   {
    "duration": 11,
    "start_time": "2023-03-12T11:27:28.549Z"
   },
   {
    "duration": 13,
    "start_time": "2023-03-12T11:27:28.561Z"
   },
   {
    "duration": 23,
    "start_time": "2023-03-12T11:27:28.577Z"
   },
   {
    "duration": 7,
    "start_time": "2023-03-12T11:27:28.602Z"
   },
   {
    "duration": 12,
    "start_time": "2023-03-12T11:27:28.611Z"
   },
   {
    "duration": 10,
    "start_time": "2023-03-12T11:27:28.625Z"
   },
   {
    "duration": 1277,
    "start_time": "2023-03-12T11:27:28.637Z"
   },
   {
    "duration": 957,
    "start_time": "2023-03-12T11:29:37.602Z"
   },
   {
    "duration": 6,
    "start_time": "2023-03-12T11:29:53.651Z"
   },
   {
    "duration": 6,
    "start_time": "2023-03-12T11:31:49.136Z"
   },
   {
    "duration": 6,
    "start_time": "2023-03-12T11:31:49.318Z"
   },
   {
    "duration": 848,
    "start_time": "2023-03-12T11:31:58.314Z"
   },
   {
    "duration": 5,
    "start_time": "2023-03-12T11:32:29.457Z"
   },
   {
    "duration": 1142,
    "start_time": "2023-03-12T11:33:24.433Z"
   },
   {
    "duration": 15,
    "start_time": "2023-03-12T11:33:28.977Z"
   },
   {
    "duration": 1110,
    "start_time": "2023-03-12T11:33:37.919Z"
   },
   {
    "duration": 839,
    "start_time": "2023-03-12T11:33:48.872Z"
   },
   {
    "duration": 17,
    "start_time": "2023-03-12T11:36:28.499Z"
   },
   {
    "duration": 1078,
    "start_time": "2023-03-12T11:36:58.011Z"
   },
   {
    "duration": 1133,
    "start_time": "2023-03-12T11:37:05.795Z"
   },
   {
    "duration": 75,
    "start_time": "2023-03-12T11:37:56.316Z"
   },
   {
    "duration": 112,
    "start_time": "2023-03-12T11:40:11.206Z"
   },
   {
    "duration": 847,
    "start_time": "2023-03-12T11:42:35.668Z"
   },
   {
    "duration": 11,
    "start_time": "2023-03-12T11:42:47.023Z"
   },
   {
    "duration": 1116,
    "start_time": "2023-03-12T11:42:53.083Z"
   },
   {
    "duration": 10,
    "start_time": "2023-03-12T11:43:03.454Z"
   },
   {
    "duration": 894,
    "start_time": "2023-03-12T11:43:10.012Z"
   },
   {
    "duration": 21,
    "start_time": "2023-03-12T11:43:56.879Z"
   },
   {
    "duration": 1106,
    "start_time": "2023-03-12T11:44:08.705Z"
   },
   {
    "duration": 11,
    "start_time": "2023-03-12T11:44:20.935Z"
   },
   {
    "duration": 23,
    "start_time": "2023-03-12T11:44:26.451Z"
   },
   {
    "duration": 21,
    "start_time": "2023-03-12T11:44:33.620Z"
   },
   {
    "duration": 870,
    "start_time": "2023-03-12T11:44:39.556Z"
   },
   {
    "duration": 1080,
    "start_time": "2023-03-12T11:45:48.627Z"
   },
   {
    "duration": 1074,
    "start_time": "2023-03-12T11:45:57.929Z"
   },
   {
    "duration": 69,
    "start_time": "2023-03-12T11:46:04.185Z"
   },
   {
    "duration": 811,
    "start_time": "2023-03-12T11:46:16.944Z"
   },
   {
    "duration": 112,
    "start_time": "2023-03-12T11:47:43.479Z"
   },
   {
    "duration": 18,
    "start_time": "2023-03-12T11:47:49.736Z"
   },
   {
    "duration": 112,
    "start_time": "2023-03-12T11:48:20.075Z"
   },
   {
    "duration": 5,
    "start_time": "2023-03-12T11:48:21.042Z"
   },
   {
    "duration": 79,
    "start_time": "2023-03-12T11:48:48.677Z"
   },
   {
    "duration": 5,
    "start_time": "2023-03-12T11:48:53.815Z"
   },
   {
    "duration": 4,
    "start_time": "2023-03-12T11:49:10.149Z"
   },
   {
    "duration": 1197,
    "start_time": "2023-03-12T11:50:35.308Z"
   },
   {
    "duration": 217,
    "start_time": "2023-03-12T11:50:36.507Z"
   },
   {
    "duration": 183,
    "start_time": "2023-03-12T11:50:36.726Z"
   },
   {
    "duration": 99,
    "start_time": "2023-03-12T11:50:36.911Z"
   },
   {
    "duration": 86,
    "start_time": "2023-03-12T11:50:37.014Z"
   },
   {
    "duration": 14,
    "start_time": "2023-03-12T11:50:37.102Z"
   },
   {
    "duration": 7,
    "start_time": "2023-03-12T11:50:37.117Z"
   },
   {
    "duration": 340,
    "start_time": "2023-03-12T11:50:37.126Z"
   },
   {
    "duration": 33,
    "start_time": "2023-03-12T11:50:37.473Z"
   },
   {
    "duration": 37,
    "start_time": "2023-03-12T11:50:37.509Z"
   },
   {
    "duration": 49,
    "start_time": "2023-03-12T11:50:37.548Z"
   },
   {
    "duration": 88,
    "start_time": "2023-03-12T11:50:37.600Z"
   },
   {
    "duration": 183,
    "start_time": "2023-03-12T11:50:37.690Z"
   },
   {
    "duration": 169,
    "start_time": "2023-03-12T11:50:37.876Z"
   },
   {
    "duration": 5,
    "start_time": "2023-03-12T11:50:38.048Z"
   },
   {
    "duration": 117,
    "start_time": "2023-03-12T11:50:38.056Z"
   },
   {
    "duration": 125,
    "start_time": "2023-03-12T11:50:38.176Z"
   },
   {
    "duration": 8,
    "start_time": "2023-03-12T11:50:38.303Z"
   },
   {
    "duration": 132,
    "start_time": "2023-03-12T11:50:38.312Z"
   },
   {
    "duration": 4,
    "start_time": "2023-03-12T11:50:38.446Z"
   },
   {
    "duration": 14,
    "start_time": "2023-03-12T11:50:38.451Z"
   },
   {
    "duration": 16,
    "start_time": "2023-03-12T11:50:38.466Z"
   },
   {
    "duration": 26,
    "start_time": "2023-03-12T11:50:38.485Z"
   },
   {
    "duration": 13,
    "start_time": "2023-03-12T11:50:38.513Z"
   },
   {
    "duration": 11,
    "start_time": "2023-03-12T11:50:38.527Z"
   },
   {
    "duration": 981,
    "start_time": "2023-03-12T11:50:38.540Z"
   },
   {
    "duration": 10,
    "start_time": "2023-03-12T11:56:21.957Z"
   },
   {
    "duration": 11,
    "start_time": "2023-03-12T11:56:37.121Z"
   },
   {
    "duration": 876,
    "start_time": "2023-03-12T11:56:58.955Z"
   },
   {
    "duration": 3,
    "start_time": "2023-03-12T12:04:46.722Z"
   },
   {
    "duration": 7,
    "start_time": "2023-03-12T12:06:04.340Z"
   },
   {
    "duration": 6,
    "start_time": "2023-03-12T12:06:16.862Z"
   },
   {
    "duration": 5,
    "start_time": "2023-03-12T12:06:42.169Z"
   },
   {
    "duration": 858,
    "start_time": "2023-03-12T12:06:54.085Z"
   },
   {
    "duration": 20,
    "start_time": "2023-03-12T12:09:08.619Z"
   },
   {
    "duration": 877,
    "start_time": "2023-03-12T12:09:55.338Z"
   },
   {
    "duration": 1189,
    "start_time": "2023-03-12T13:47:13.017Z"
   },
   {
    "duration": 233,
    "start_time": "2023-03-12T13:47:14.209Z"
   },
   {
    "duration": 172,
    "start_time": "2023-03-12T13:47:14.444Z"
   },
   {
    "duration": 99,
    "start_time": "2023-03-12T13:47:14.618Z"
   },
   {
    "duration": 121,
    "start_time": "2023-03-12T13:47:14.720Z"
   },
   {
    "duration": 17,
    "start_time": "2023-03-12T13:47:14.844Z"
   },
   {
    "duration": 7,
    "start_time": "2023-03-12T13:47:14.874Z"
   },
   {
    "duration": 330,
    "start_time": "2023-03-12T13:47:14.883Z"
   },
   {
    "duration": 35,
    "start_time": "2023-03-12T13:47:15.215Z"
   },
   {
    "duration": 55,
    "start_time": "2023-03-12T13:47:15.252Z"
   },
   {
    "duration": 24,
    "start_time": "2023-03-12T13:47:15.310Z"
   },
   {
    "duration": 102,
    "start_time": "2023-03-12T13:47:15.336Z"
   },
   {
    "duration": 183,
    "start_time": "2023-03-12T13:47:15.441Z"
   },
   {
    "duration": 192,
    "start_time": "2023-03-12T13:47:15.627Z"
   },
   {
    "duration": 6,
    "start_time": "2023-03-12T13:47:15.821Z"
   },
   {
    "duration": 92,
    "start_time": "2023-03-12T13:47:15.828Z"
   },
   {
    "duration": 138,
    "start_time": "2023-03-12T13:47:15.972Z"
   },
   {
    "duration": 11,
    "start_time": "2023-03-12T13:47:16.112Z"
   },
   {
    "duration": 143,
    "start_time": "2023-03-12T13:47:16.125Z"
   },
   {
    "duration": 7,
    "start_time": "2023-03-12T13:47:16.269Z"
   },
   {
    "duration": 10,
    "start_time": "2023-03-12T13:47:16.277Z"
   },
   {
    "duration": 25,
    "start_time": "2023-03-12T13:47:16.289Z"
   },
   {
    "duration": 26,
    "start_time": "2023-03-12T13:47:16.316Z"
   },
   {
    "duration": 24,
    "start_time": "2023-03-12T13:47:16.344Z"
   },
   {
    "duration": 16,
    "start_time": "2023-03-12T13:47:16.370Z"
   },
   {
    "duration": 11,
    "start_time": "2023-03-12T13:47:16.388Z"
   },
   {
    "duration": 37,
    "start_time": "2023-03-12T13:47:16.401Z"
   },
   {
    "duration": 952,
    "start_time": "2023-03-12T13:47:16.440Z"
   },
   {
    "duration": 61,
    "start_time": "2023-03-12T13:53:10.834Z"
   },
   {
    "duration": 69,
    "start_time": "2023-03-12T13:53:13.648Z"
   },
   {
    "duration": 68,
    "start_time": "2023-03-12T13:53:29.989Z"
   },
   {
    "duration": 93,
    "start_time": "2023-03-12T13:55:53.045Z"
   },
   {
    "duration": 93,
    "start_time": "2023-03-12T13:56:16.681Z"
   },
   {
    "duration": 8,
    "start_time": "2023-03-12T13:56:54.240Z"
   },
   {
    "duration": 14,
    "start_time": "2023-03-12T13:57:15.218Z"
   },
   {
    "duration": 7,
    "start_time": "2023-03-12T13:57:30.082Z"
   },
   {
    "duration": 11,
    "start_time": "2023-03-12T13:57:30.699Z"
   },
   {
    "duration": 11,
    "start_time": "2023-03-12T13:58:04.697Z"
   },
   {
    "duration": 877,
    "start_time": "2023-03-12T13:58:12.442Z"
   },
   {
    "duration": 94,
    "start_time": "2023-03-12T13:59:05.797Z"
   },
   {
    "duration": 9,
    "start_time": "2023-03-12T14:00:32.666Z"
   },
   {
    "duration": 899,
    "start_time": "2023-03-12T14:00:41.359Z"
   },
   {
    "duration": 175,
    "start_time": "2023-03-12T14:02:11.704Z"
   },
   {
    "duration": 3,
    "start_time": "2023-03-12T14:02:34.869Z"
   },
   {
    "duration": 152,
    "start_time": "2023-03-12T14:02:42.437Z"
   },
   {
    "duration": 46,
    "start_time": "2023-03-12T14:02:55.788Z"
   },
   {
    "duration": 8,
    "start_time": "2023-03-12T14:03:48.465Z"
   },
   {
    "duration": 10,
    "start_time": "2023-03-12T14:04:28.226Z"
   },
   {
    "duration": 1211,
    "start_time": "2023-03-12T14:04:40.309Z"
   },
   {
    "duration": 205,
    "start_time": "2023-03-12T14:04:41.523Z"
   },
   {
    "duration": 167,
    "start_time": "2023-03-12T14:04:41.730Z"
   },
   {
    "duration": 97,
    "start_time": "2023-03-12T14:04:41.899Z"
   },
   {
    "duration": 94,
    "start_time": "2023-03-12T14:04:41.998Z"
   },
   {
    "duration": 14,
    "start_time": "2023-03-12T14:04:42.093Z"
   },
   {
    "duration": 6,
    "start_time": "2023-03-12T14:04:42.109Z"
   },
   {
    "duration": 338,
    "start_time": "2023-03-12T14:04:42.117Z"
   },
   {
    "duration": 39,
    "start_time": "2023-03-12T14:04:42.457Z"
   },
   {
    "duration": 36,
    "start_time": "2023-03-12T14:04:42.500Z"
   },
   {
    "duration": 39,
    "start_time": "2023-03-12T14:04:42.537Z"
   },
   {
    "duration": 80,
    "start_time": "2023-03-12T14:04:42.578Z"
   },
   {
    "duration": 178,
    "start_time": "2023-03-12T14:04:42.660Z"
   },
   {
    "duration": 160,
    "start_time": "2023-03-12T14:04:42.840Z"
   },
   {
    "duration": 5,
    "start_time": "2023-03-12T14:04:43.003Z"
   },
   {
    "duration": 87,
    "start_time": "2023-03-12T14:04:43.010Z"
   },
   {
    "duration": 130,
    "start_time": "2023-03-12T14:04:43.098Z"
   },
   {
    "duration": 8,
    "start_time": "2023-03-12T14:04:43.231Z"
   },
   {
    "duration": 133,
    "start_time": "2023-03-12T14:04:43.241Z"
   },
   {
    "duration": 5,
    "start_time": "2023-03-12T14:04:43.376Z"
   },
   {
    "duration": 10,
    "start_time": "2023-03-12T14:04:43.382Z"
   },
   {
    "duration": 10,
    "start_time": "2023-03-12T14:04:43.394Z"
   },
   {
    "duration": 14,
    "start_time": "2023-03-12T14:04:43.406Z"
   },
   {
    "duration": 11,
    "start_time": "2023-03-12T14:04:43.422Z"
   },
   {
    "duration": 40,
    "start_time": "2023-03-12T14:04:43.434Z"
   },
   {
    "duration": 9,
    "start_time": "2023-03-12T14:04:43.476Z"
   },
   {
    "duration": 1326,
    "start_time": "2023-03-12T14:04:43.487Z"
   },
   {
    "duration": 122,
    "start_time": "2023-03-12T14:05:14.536Z"
   },
   {
    "duration": 1233,
    "start_time": "2023-03-12T14:05:20.609Z"
   },
   {
    "duration": 122,
    "start_time": "2023-03-12T14:06:19.673Z"
   },
   {
    "duration": 5,
    "start_time": "2023-03-12T14:06:58.843Z"
   },
   {
    "duration": 4,
    "start_time": "2023-03-12T14:07:03.807Z"
   },
   {
    "duration": 906,
    "start_time": "2023-03-12T14:07:13.023Z"
   },
   {
    "duration": 15,
    "start_time": "2023-03-12T14:09:17.178Z"
   },
   {
    "duration": 91,
    "start_time": "2023-03-12T14:09:47.735Z"
   },
   {
    "duration": 15,
    "start_time": "2023-03-12T14:10:01.431Z"
   },
   {
    "duration": 92,
    "start_time": "2023-03-12T14:10:35.046Z"
   },
   {
    "duration": 19,
    "start_time": "2023-03-12T14:11:03.968Z"
   },
   {
    "duration": 1200,
    "start_time": "2023-03-12T14:12:17.460Z"
   },
   {
    "duration": 1249,
    "start_time": "2023-03-12T14:12:23.156Z"
   },
   {
    "duration": 5,
    "start_time": "2023-03-12T14:14:39.179Z"
   },
   {
    "duration": 20,
    "start_time": "2023-03-12T14:14:54.616Z"
   },
   {
    "duration": 5,
    "start_time": "2023-03-12T14:15:07.218Z"
   },
   {
    "duration": 5,
    "start_time": "2023-03-12T14:15:19.975Z"
   },
   {
    "duration": 5,
    "start_time": "2023-03-12T14:15:26.871Z"
   },
   {
    "duration": 1173,
    "start_time": "2023-03-12T14:15:36.028Z"
   },
   {
    "duration": 9,
    "start_time": "2023-03-12T14:16:54.352Z"
   },
   {
    "duration": 3,
    "start_time": "2023-03-12T14:17:22.718Z"
   },
   {
    "duration": 5,
    "start_time": "2023-03-12T14:17:27.668Z"
   },
   {
    "duration": 3,
    "start_time": "2023-03-12T14:18:29.652Z"
   },
   {
    "duration": 5,
    "start_time": "2023-03-12T14:18:33.741Z"
   },
   {
    "duration": 1201,
    "start_time": "2023-03-12T14:18:59.253Z"
   },
   {
    "duration": 13,
    "start_time": "2023-03-12T14:19:15.208Z"
   },
   {
    "duration": 3,
    "start_time": "2023-03-12T14:19:28.919Z"
   },
   {
    "duration": 9,
    "start_time": "2023-03-12T14:19:42.828Z"
   },
   {
    "duration": 1710,
    "start_time": "2023-03-12T14:20:02.005Z"
   },
   {
    "duration": 10,
    "start_time": "2023-03-12T14:22:02.978Z"
   },
   {
    "duration": 1152,
    "start_time": "2023-03-12T14:22:06.804Z"
   },
   {
    "duration": 1101,
    "start_time": "2023-03-12T14:22:16.647Z"
   },
   {
    "duration": 7,
    "start_time": "2023-03-12T14:22:33.317Z"
   },
   {
    "duration": 1166,
    "start_time": "2023-03-12T14:22:56.126Z"
   },
   {
    "duration": 3,
    "start_time": "2023-03-12T14:23:05.177Z"
   },
   {
    "duration": 4,
    "start_time": "2023-03-12T14:23:13.647Z"
   },
   {
    "duration": 2,
    "start_time": "2023-03-12T14:23:27.522Z"
   },
   {
    "duration": 5,
    "start_time": "2023-03-12T14:23:29.137Z"
   },
   {
    "duration": 1102,
    "start_time": "2023-03-12T14:23:37.745Z"
   },
   {
    "duration": 5,
    "start_time": "2023-03-12T14:23:39.016Z"
   },
   {
    "duration": 1129,
    "start_time": "2023-03-12T14:23:57.421Z"
   },
   {
    "duration": 1200,
    "start_time": "2023-03-12T14:24:08.065Z"
   },
   {
    "duration": 5,
    "start_time": "2023-03-12T14:26:03.562Z"
   },
   {
    "duration": 1138,
    "start_time": "2023-03-12T14:26:43.180Z"
   },
   {
    "duration": 10,
    "start_time": "2023-03-12T14:26:58.302Z"
   },
   {
    "duration": 10,
    "start_time": "2023-03-12T14:27:04.800Z"
   },
   {
    "duration": 10,
    "start_time": "2023-03-12T14:27:07.764Z"
   },
   {
    "duration": 10,
    "start_time": "2023-03-12T14:27:13.750Z"
   },
   {
    "duration": 912,
    "start_time": "2023-03-12T14:27:22.924Z"
   },
   {
    "duration": 4,
    "start_time": "2023-03-12T14:29:31.167Z"
   },
   {
    "duration": 8,
    "start_time": "2023-03-12T14:29:32.848Z"
   },
   {
    "duration": 14,
    "start_time": "2023-03-12T14:29:52.658Z"
   },
   {
    "duration": 952,
    "start_time": "2023-03-12T14:30:06.952Z"
   },
   {
    "duration": 19,
    "start_time": "2023-03-12T14:30:56.691Z"
   },
   {
    "duration": 20,
    "start_time": "2023-03-12T14:31:20.847Z"
   },
   {
    "duration": 23,
    "start_time": "2023-03-12T14:31:45.041Z"
   },
   {
    "duration": 23,
    "start_time": "2023-03-12T14:31:48.667Z"
   },
   {
    "duration": 5,
    "start_time": "2023-03-12T14:32:45.048Z"
   },
   {
    "duration": 21,
    "start_time": "2023-03-12T14:32:53.864Z"
   },
   {
    "duration": 20,
    "start_time": "2023-03-12T14:33:19.576Z"
   },
   {
    "duration": 6,
    "start_time": "2023-03-12T14:33:28.133Z"
   },
   {
    "duration": 20,
    "start_time": "2023-03-12T14:33:28.500Z"
   },
   {
    "duration": 1332,
    "start_time": "2023-03-12T14:34:05.468Z"
   },
   {
    "duration": 206,
    "start_time": "2023-03-12T14:34:06.802Z"
   },
   {
    "duration": 155,
    "start_time": "2023-03-12T14:34:07.010Z"
   },
   {
    "duration": 88,
    "start_time": "2023-03-12T14:34:07.167Z"
   },
   {
    "duration": 88,
    "start_time": "2023-03-12T14:34:07.257Z"
   },
   {
    "duration": 26,
    "start_time": "2023-03-12T14:34:07.347Z"
   },
   {
    "duration": 7,
    "start_time": "2023-03-12T14:34:07.375Z"
   },
   {
    "duration": 340,
    "start_time": "2023-03-12T14:34:07.383Z"
   },
   {
    "duration": 50,
    "start_time": "2023-03-12T14:34:07.725Z"
   },
   {
    "duration": 42,
    "start_time": "2023-03-12T14:34:07.778Z"
   },
   {
    "duration": 26,
    "start_time": "2023-03-12T14:34:07.822Z"
   },
   {
    "duration": 97,
    "start_time": "2023-03-12T14:34:07.849Z"
   },
   {
    "duration": 176,
    "start_time": "2023-03-12T14:34:07.948Z"
   },
   {
    "duration": 179,
    "start_time": "2023-03-12T14:34:08.125Z"
   },
   {
    "duration": 4,
    "start_time": "2023-03-12T14:34:08.306Z"
   },
   {
    "duration": 82,
    "start_time": "2023-03-12T14:34:08.312Z"
   },
   {
    "duration": 133,
    "start_time": "2023-03-12T14:34:08.396Z"
   },
   {
    "duration": 8,
    "start_time": "2023-03-12T14:34:08.531Z"
   },
   {
    "duration": 127,
    "start_time": "2023-03-12T14:34:08.541Z"
   },
   {
    "duration": 4,
    "start_time": "2023-03-12T14:34:08.673Z"
   },
   {
    "duration": 9,
    "start_time": "2023-03-12T14:34:08.679Z"
   },
   {
    "duration": 8,
    "start_time": "2023-03-12T14:34:08.689Z"
   },
   {
    "duration": 17,
    "start_time": "2023-03-12T14:34:08.699Z"
   },
   {
    "duration": 9,
    "start_time": "2023-03-12T14:34:08.718Z"
   },
   {
    "duration": 11,
    "start_time": "2023-03-12T14:34:08.729Z"
   },
   {
    "duration": 37,
    "start_time": "2023-03-12T14:34:08.742Z"
   },
   {
    "duration": 18,
    "start_time": "2023-03-12T14:34:08.781Z"
   },
   {
    "duration": 1048,
    "start_time": "2023-03-12T14:34:31.960Z"
   },
   {
    "duration": 1210,
    "start_time": "2023-03-12T14:35:53.314Z"
   },
   {
    "duration": 208,
    "start_time": "2023-03-12T14:35:54.526Z"
   },
   {
    "duration": 154,
    "start_time": "2023-03-12T14:35:54.736Z"
   },
   {
    "duration": 90,
    "start_time": "2023-03-12T14:35:54.892Z"
   },
   {
    "duration": 77,
    "start_time": "2023-03-12T14:35:54.984Z"
   },
   {
    "duration": 23,
    "start_time": "2023-03-12T14:35:55.062Z"
   },
   {
    "duration": 13,
    "start_time": "2023-03-12T14:35:55.087Z"
   },
   {
    "duration": 317,
    "start_time": "2023-03-12T14:35:55.102Z"
   },
   {
    "duration": 31,
    "start_time": "2023-03-12T14:35:55.421Z"
   },
   {
    "duration": 51,
    "start_time": "2023-03-12T14:35:55.455Z"
   },
   {
    "duration": 25,
    "start_time": "2023-03-12T14:35:55.508Z"
   },
   {
    "duration": 87,
    "start_time": "2023-03-12T14:35:55.535Z"
   },
   {
    "duration": 172,
    "start_time": "2023-03-12T14:35:55.624Z"
   },
   {
    "duration": 181,
    "start_time": "2023-03-12T14:35:55.798Z"
   },
   {
    "duration": 5,
    "start_time": "2023-03-12T14:35:55.981Z"
   },
   {
    "duration": 118,
    "start_time": "2023-03-12T14:35:55.988Z"
   },
   {
    "duration": 135,
    "start_time": "2023-03-12T14:35:56.108Z"
   },
   {
    "duration": 28,
    "start_time": "2023-03-12T14:35:56.245Z"
   },
   {
    "duration": 124,
    "start_time": "2023-03-12T14:35:56.275Z"
   },
   {
    "duration": 5,
    "start_time": "2023-03-12T14:35:56.401Z"
   },
   {
    "duration": 9,
    "start_time": "2023-03-12T14:35:56.408Z"
   },
   {
    "duration": 10,
    "start_time": "2023-03-12T14:35:56.419Z"
   },
   {
    "duration": 15,
    "start_time": "2023-03-12T14:35:56.431Z"
   },
   {
    "duration": 30,
    "start_time": "2023-03-12T14:35:56.448Z"
   },
   {
    "duration": 14,
    "start_time": "2023-03-12T14:35:56.480Z"
   },
   {
    "duration": 958,
    "start_time": "2023-03-12T14:44:32.684Z"
   },
   {
    "duration": 1380,
    "start_time": "2023-03-12T14:55:22.745Z"
   },
   {
    "duration": 243,
    "start_time": "2023-03-12T14:55:24.128Z"
   },
   {
    "duration": 252,
    "start_time": "2023-03-12T14:55:24.377Z"
   },
   {
    "duration": 102,
    "start_time": "2023-03-12T14:55:24.631Z"
   },
   {
    "duration": 96,
    "start_time": "2023-03-12T14:55:24.735Z"
   },
   {
    "duration": 13,
    "start_time": "2023-03-12T14:55:24.833Z"
   },
   {
    "duration": 6,
    "start_time": "2023-03-12T14:55:24.848Z"
   },
   {
    "duration": 349,
    "start_time": "2023-03-12T14:55:24.873Z"
   },
   {
    "duration": 56,
    "start_time": "2023-03-12T14:55:25.225Z"
   },
   {
    "duration": 44,
    "start_time": "2023-03-12T14:55:25.283Z"
   },
   {
    "duration": 61,
    "start_time": "2023-03-12T14:55:25.329Z"
   },
   {
    "duration": 96,
    "start_time": "2023-03-12T14:55:25.392Z"
   },
   {
    "duration": 183,
    "start_time": "2023-03-12T14:55:25.492Z"
   },
   {
    "duration": 238,
    "start_time": "2023-03-12T14:55:25.677Z"
   },
   {
    "duration": 6,
    "start_time": "2023-03-12T14:55:25.919Z"
   },
   {
    "duration": 75,
    "start_time": "2023-03-12T14:55:25.928Z"
   },
   {
    "duration": 146,
    "start_time": "2023-03-12T14:55:26.005Z"
   },
   {
    "duration": 28,
    "start_time": "2023-03-12T14:55:26.153Z"
   },
   {
    "duration": 139,
    "start_time": "2023-03-12T14:55:26.187Z"
   },
   {
    "duration": 6,
    "start_time": "2023-03-12T14:55:26.327Z"
   },
   {
    "duration": 18,
    "start_time": "2023-03-12T14:55:26.335Z"
   },
   {
    "duration": 19,
    "start_time": "2023-03-12T14:55:26.355Z"
   },
   {
    "duration": 15,
    "start_time": "2023-03-12T14:55:26.376Z"
   },
   {
    "duration": 15,
    "start_time": "2023-03-12T14:55:26.393Z"
   },
   {
    "duration": 18,
    "start_time": "2023-03-12T14:55:26.410Z"
   },
   {
    "duration": 1061,
    "start_time": "2023-03-12T14:55:26.430Z"
   },
   {
    "duration": 1508,
    "start_time": "2023-03-12T20:06:04.189Z"
   },
   {
    "duration": 971,
    "start_time": "2023-03-12T20:06:05.700Z"
   },
   {
    "duration": 146,
    "start_time": "2023-03-12T20:06:06.673Z"
   },
   {
    "duration": 89,
    "start_time": "2023-03-12T20:06:06.821Z"
   },
   {
    "duration": 92,
    "start_time": "2023-03-12T20:06:06.912Z"
   },
   {
    "duration": 36,
    "start_time": "2023-03-12T20:06:07.005Z"
   },
   {
    "duration": 7,
    "start_time": "2023-03-12T20:06:07.043Z"
   },
   {
    "duration": 324,
    "start_time": "2023-03-12T20:06:07.052Z"
   },
   {
    "duration": 33,
    "start_time": "2023-03-12T20:06:07.378Z"
   },
   {
    "duration": 42,
    "start_time": "2023-03-12T20:06:07.427Z"
   },
   {
    "duration": 21,
    "start_time": "2023-03-12T20:06:07.471Z"
   },
   {
    "duration": 94,
    "start_time": "2023-03-12T20:06:07.494Z"
   },
   {
    "duration": 186,
    "start_time": "2023-03-12T20:06:07.590Z"
   },
   {
    "duration": 214,
    "start_time": "2023-03-12T20:06:07.778Z"
   },
   {
    "duration": 5,
    "start_time": "2023-03-12T20:06:07.997Z"
   },
   {
    "duration": 135,
    "start_time": "2023-03-12T20:06:08.004Z"
   },
   {
    "duration": 106,
    "start_time": "2023-03-12T20:06:08.142Z"
   },
   {
    "duration": 10,
    "start_time": "2023-03-12T20:06:08.250Z"
   },
   {
    "duration": 132,
    "start_time": "2023-03-12T20:06:08.262Z"
   },
   {
    "duration": 5,
    "start_time": "2023-03-12T20:06:08.395Z"
   },
   {
    "duration": 24,
    "start_time": "2023-03-12T20:06:08.402Z"
   },
   {
    "duration": 7,
    "start_time": "2023-03-12T20:06:08.439Z"
   },
   {
    "duration": 27,
    "start_time": "2023-03-12T20:06:08.448Z"
   },
   {
    "duration": 11,
    "start_time": "2023-03-12T20:06:08.478Z"
   },
   {
    "duration": 10,
    "start_time": "2023-03-12T20:06:08.491Z"
   },
   {
    "duration": 712,
    "start_time": "2023-03-12T20:06:08.503Z"
   },
   {
    "duration": 50,
    "start_time": "2023-03-13T16:46:14.621Z"
   },
   {
    "duration": 1340,
    "start_time": "2023-03-13T16:46:20.325Z"
   },
   {
    "duration": 825,
    "start_time": "2023-03-13T16:46:21.667Z"
   },
   {
    "duration": 139,
    "start_time": "2023-03-13T16:46:22.494Z"
   },
   {
    "duration": 90,
    "start_time": "2023-03-13T16:46:22.636Z"
   },
   {
    "duration": 66,
    "start_time": "2023-03-13T16:46:22.728Z"
   },
   {
    "duration": 28,
    "start_time": "2023-03-13T16:46:22.796Z"
   },
   {
    "duration": 8,
    "start_time": "2023-03-13T16:46:22.826Z"
   },
   {
    "duration": 305,
    "start_time": "2023-03-13T16:46:22.836Z"
   },
   {
    "duration": 30,
    "start_time": "2023-03-13T16:46:23.143Z"
   },
   {
    "duration": 56,
    "start_time": "2023-03-13T16:46:23.177Z"
   },
   {
    "duration": 24,
    "start_time": "2023-03-13T16:46:23.236Z"
   },
   {
    "duration": 88,
    "start_time": "2023-03-13T16:46:23.262Z"
   },
   {
    "duration": 161,
    "start_time": "2023-03-13T16:46:23.352Z"
   },
   {
    "duration": 153,
    "start_time": "2023-03-13T16:46:23.515Z"
   },
   {
    "duration": 5,
    "start_time": "2023-03-13T16:46:23.671Z"
   },
   {
    "duration": 73,
    "start_time": "2023-03-13T16:46:23.678Z"
   },
   {
    "duration": 122,
    "start_time": "2023-03-13T16:46:23.753Z"
   },
   {
    "duration": 7,
    "start_time": "2023-03-13T16:46:23.876Z"
   },
   {
    "duration": 132,
    "start_time": "2023-03-13T16:46:23.885Z"
   },
   {
    "duration": 5,
    "start_time": "2023-03-13T16:46:24.023Z"
   },
   {
    "duration": 16,
    "start_time": "2023-03-13T16:46:24.029Z"
   },
   {
    "duration": 10,
    "start_time": "2023-03-13T16:46:24.046Z"
   },
   {
    "duration": 29,
    "start_time": "2023-03-13T16:46:24.057Z"
   },
   {
    "duration": 13,
    "start_time": "2023-03-13T16:46:24.087Z"
   },
   {
    "duration": 10,
    "start_time": "2023-03-13T16:46:24.102Z"
   },
   {
    "duration": 8,
    "start_time": "2023-03-13T16:46:24.114Z"
   },
   {
    "duration": 21,
    "start_time": "2023-03-13T16:55:14.143Z"
   },
   {
    "duration": 24,
    "start_time": "2023-03-13T16:55:36.799Z"
   },
   {
    "duration": 22,
    "start_time": "2023-03-13T16:56:41.634Z"
   },
   {
    "duration": 24,
    "start_time": "2023-03-13T16:57:25.953Z"
   },
   {
    "duration": 1226,
    "start_time": "2023-03-13T20:47:46.127Z"
   },
   {
    "duration": 200,
    "start_time": "2023-03-13T20:47:47.355Z"
   },
   {
    "duration": 152,
    "start_time": "2023-03-13T20:47:47.557Z"
   },
   {
    "duration": 88,
    "start_time": "2023-03-13T20:47:47.710Z"
   },
   {
    "duration": 91,
    "start_time": "2023-03-13T20:47:47.801Z"
   },
   {
    "duration": 14,
    "start_time": "2023-03-13T20:47:47.894Z"
   },
   {
    "duration": 6,
    "start_time": "2023-03-13T20:47:47.910Z"
   },
   {
    "duration": 368,
    "start_time": "2023-03-13T20:47:47.917Z"
   },
   {
    "duration": 31,
    "start_time": "2023-03-13T20:47:48.287Z"
   },
   {
    "duration": 47,
    "start_time": "2023-03-13T20:47:48.319Z"
   },
   {
    "duration": 23,
    "start_time": "2023-03-13T20:47:48.368Z"
   },
   {
    "duration": 89,
    "start_time": "2023-03-13T20:47:48.393Z"
   },
   {
    "duration": 169,
    "start_time": "2023-03-13T20:47:48.484Z"
   },
   {
    "duration": 373,
    "start_time": "2023-03-13T20:47:48.656Z"
   },
   {
    "duration": 4,
    "start_time": "2023-03-13T20:47:49.032Z"
   },
   {
    "duration": 57,
    "start_time": "2023-03-13T20:47:49.038Z"
   },
   {
    "duration": 119,
    "start_time": "2023-03-13T20:47:49.097Z"
   },
   {
    "duration": 27,
    "start_time": "2023-03-13T20:47:49.218Z"
   },
   {
    "duration": 123,
    "start_time": "2023-03-13T20:47:49.247Z"
   },
   {
    "duration": 4,
    "start_time": "2023-03-13T20:47:49.372Z"
   },
   {
    "duration": 17,
    "start_time": "2023-03-13T20:47:49.377Z"
   },
   {
    "duration": 9,
    "start_time": "2023-03-13T20:47:49.395Z"
   },
   {
    "duration": 35,
    "start_time": "2023-03-13T20:47:49.405Z"
   },
   {
    "duration": 29,
    "start_time": "2023-03-13T20:47:49.442Z"
   },
   {
    "duration": 6,
    "start_time": "2023-03-13T20:52:56.225Z"
   },
   {
    "duration": 111,
    "start_time": "2023-03-13T20:52:58.155Z"
   },
   {
    "duration": 14,
    "start_time": "2023-03-13T20:53:07.279Z"
   },
   {
    "duration": 4,
    "start_time": "2023-03-13T20:53:21.769Z"
   },
   {
    "duration": 252,
    "start_time": "2023-03-13T20:53:21.775Z"
   },
   {
    "duration": 156,
    "start_time": "2023-03-13T20:53:22.028Z"
   },
   {
    "duration": 78,
    "start_time": "2023-03-13T20:53:22.186Z"
   },
   {
    "duration": 79,
    "start_time": "2023-03-13T20:53:22.266Z"
   },
   {
    "duration": 11,
    "start_time": "2023-03-13T20:53:22.347Z"
   },
   {
    "duration": 35,
    "start_time": "2023-03-13T20:53:22.359Z"
   },
   {
    "duration": 219,
    "start_time": "2023-03-13T20:53:22.396Z"
   },
   {
    "duration": 33,
    "start_time": "2023-03-13T20:53:22.618Z"
   },
   {
    "duration": 33,
    "start_time": "2023-03-13T20:53:22.653Z"
   },
   {
    "duration": 22,
    "start_time": "2023-03-13T20:53:22.689Z"
   },
   {
    "duration": 91,
    "start_time": "2023-03-13T20:53:22.713Z"
   },
   {
    "duration": 165,
    "start_time": "2023-03-13T20:53:22.806Z"
   },
   {
    "duration": 11,
    "start_time": "2023-03-13T20:53:22.974Z"
   },
   {
    "duration": 9,
    "start_time": "2023-03-13T20:53:22.987Z"
   },
   {
    "duration": 58,
    "start_time": "2023-03-13T20:53:22.998Z"
   },
   {
    "duration": 67,
    "start_time": "2023-03-13T20:53:23.058Z"
   },
   {
    "duration": 17,
    "start_time": "2023-03-13T20:53:23.126Z"
   },
   {
    "duration": 171,
    "start_time": "2023-03-13T20:53:23.145Z"
   },
   {
    "duration": 4,
    "start_time": "2023-03-13T20:53:23.318Z"
   },
   {
    "duration": 18,
    "start_time": "2023-03-13T20:53:23.324Z"
   },
   {
    "duration": 15,
    "start_time": "2023-03-13T20:53:27.125Z"
   },
   {
    "duration": 5,
    "start_time": "2023-03-13T20:53:44.235Z"
   },
   {
    "duration": 5,
    "start_time": "2023-03-13T20:53:44.877Z"
   },
   {
    "duration": 5,
    "start_time": "2023-03-13T20:54:08.595Z"
   },
   {
    "duration": 6,
    "start_time": "2023-03-13T20:54:09.494Z"
   },
   {
    "duration": 11,
    "start_time": "2023-03-13T20:54:12.904Z"
   },
   {
    "duration": 29,
    "start_time": "2023-03-13T20:54:18.656Z"
   },
   {
    "duration": 6,
    "start_time": "2023-03-13T20:54:38.277Z"
   },
   {
    "duration": 4,
    "start_time": "2023-03-13T20:54:38.926Z"
   },
   {
    "duration": 10,
    "start_time": "2023-03-13T20:54:41.887Z"
   },
   {
    "duration": 21,
    "start_time": "2023-03-13T20:54:44.405Z"
   },
   {
    "duration": 17,
    "start_time": "2023-03-13T21:00:49.400Z"
   },
   {
    "duration": 758,
    "start_time": "2023-03-13T21:00:53.771Z"
   },
   {
    "duration": 559,
    "start_time": "2023-03-13T21:02:26.010Z"
   },
   {
    "duration": 48,
    "start_time": "2023-03-14T06:42:05.237Z"
   },
   {
    "duration": 1277,
    "start_time": "2023-03-14T06:42:11.759Z"
   },
   {
    "duration": 838,
    "start_time": "2023-03-14T06:42:13.038Z"
   },
   {
    "duration": 143,
    "start_time": "2023-03-14T06:42:13.878Z"
   },
   {
    "duration": 71,
    "start_time": "2023-03-14T06:42:14.022Z"
   },
   {
    "duration": 68,
    "start_time": "2023-03-14T06:42:14.094Z"
   },
   {
    "duration": 10,
    "start_time": "2023-03-14T06:42:14.163Z"
   },
   {
    "duration": 14,
    "start_time": "2023-03-14T06:42:14.174Z"
   },
   {
    "duration": 558,
    "start_time": "2023-03-14T06:42:14.189Z"
   },
   {
    "duration": 528,
    "start_time": "2023-03-14T06:42:14.748Z"
   },
   {
    "duration": 25,
    "start_time": "2023-03-14T06:42:15.278Z"
   },
   {
    "duration": 50,
    "start_time": "2023-03-14T06:42:15.305Z"
   },
   {
    "duration": 21,
    "start_time": "2023-03-14T06:42:15.357Z"
   },
   {
    "duration": 88,
    "start_time": "2023-03-14T06:42:15.380Z"
   },
   {
    "duration": 145,
    "start_time": "2023-03-14T06:42:15.470Z"
   },
   {
    "duration": 153,
    "start_time": "2023-03-14T06:42:15.616Z"
   },
   {
    "duration": 4,
    "start_time": "2023-03-14T06:42:15.771Z"
   },
   {
    "duration": 83,
    "start_time": "2023-03-14T06:42:15.776Z"
   },
   {
    "duration": 99,
    "start_time": "2023-03-14T06:42:15.861Z"
   },
   {
    "duration": 7,
    "start_time": "2023-03-14T06:42:15.961Z"
   },
   {
    "duration": 103,
    "start_time": "2023-03-14T06:42:15.969Z"
   },
   {
    "duration": 4,
    "start_time": "2023-03-14T06:42:16.073Z"
   },
   {
    "duration": 4,
    "start_time": "2023-03-14T06:42:16.079Z"
   },
   {
    "duration": 7,
    "start_time": "2023-03-14T06:42:16.084Z"
   },
   {
    "duration": 9,
    "start_time": "2023-03-14T06:42:16.092Z"
   },
   {
    "duration": 20,
    "start_time": "2023-03-14T06:42:16.102Z"
   },
   {
    "duration": 82,
    "start_time": "2023-03-14T06:48:46.594Z"
   },
   {
    "duration": 88,
    "start_time": "2023-03-14T06:48:53.067Z"
   },
   {
    "duration": 216,
    "start_time": "2023-03-14T06:49:06.945Z"
   },
   {
    "duration": 116,
    "start_time": "2023-03-14T06:49:14.540Z"
   },
   {
    "duration": 135,
    "start_time": "2023-03-14T06:50:42.331Z"
   },
   {
    "duration": 13,
    "start_time": "2023-03-14T06:51:08.939Z"
   },
   {
    "duration": 1066,
    "start_time": "2023-03-14T06:53:45.159Z"
   },
   {
    "duration": 168,
    "start_time": "2023-03-14T06:53:46.226Z"
   },
   {
    "duration": 122,
    "start_time": "2023-03-14T06:53:46.396Z"
   },
   {
    "duration": 80,
    "start_time": "2023-03-14T06:53:46.520Z"
   },
   {
    "duration": 99,
    "start_time": "2023-03-14T06:53:46.602Z"
   },
   {
    "duration": 13,
    "start_time": "2023-03-14T06:53:46.703Z"
   },
   {
    "duration": 6,
    "start_time": "2023-03-14T06:53:46.718Z"
   },
   {
    "duration": 599,
    "start_time": "2023-03-14T06:53:46.725Z"
   },
   {
    "duration": 546,
    "start_time": "2023-03-14T06:53:47.325Z"
   },
   {
    "duration": 23,
    "start_time": "2023-03-14T06:53:47.874Z"
   },
   {
    "duration": 31,
    "start_time": "2023-03-14T06:53:47.898Z"
   },
   {
    "duration": 35,
    "start_time": "2023-03-14T06:53:47.930Z"
   },
   {
    "duration": 65,
    "start_time": "2023-03-14T06:53:47.966Z"
   },
   {
    "duration": 152,
    "start_time": "2023-03-14T06:53:48.032Z"
   },
   {
    "duration": 140,
    "start_time": "2023-03-14T06:53:48.186Z"
   },
   {
    "duration": 4,
    "start_time": "2023-03-14T06:53:48.327Z"
   },
   {
    "duration": 47,
    "start_time": "2023-03-14T06:53:48.332Z"
   },
   {
    "duration": 123,
    "start_time": "2023-03-14T06:53:48.381Z"
   },
   {
    "duration": 6,
    "start_time": "2023-03-14T06:53:48.506Z"
   },
   {
    "duration": 108,
    "start_time": "2023-03-14T06:53:48.514Z"
   },
   {
    "duration": 3,
    "start_time": "2023-03-14T06:53:48.624Z"
   },
   {
    "duration": 5,
    "start_time": "2023-03-14T06:53:48.628Z"
   },
   {
    "duration": 4,
    "start_time": "2023-03-14T06:53:48.635Z"
   },
   {
    "duration": 21,
    "start_time": "2023-03-14T06:53:48.640Z"
   },
   {
    "duration": 20,
    "start_time": "2023-03-14T06:53:48.662Z"
   },
   {
    "duration": 4,
    "start_time": "2023-03-14T07:01:58.975Z"
   },
   {
    "duration": 179,
    "start_time": "2023-03-14T07:02:15.542Z"
   },
   {
    "duration": 6,
    "start_time": "2023-03-14T07:02:59.855Z"
   },
   {
    "duration": 67,
    "start_time": "2023-03-14T07:03:01.202Z"
   },
   {
    "duration": 4,
    "start_time": "2023-03-14T07:03:33.897Z"
   },
   {
    "duration": 64,
    "start_time": "2023-03-14T07:03:35.702Z"
   },
   {
    "duration": 7,
    "start_time": "2023-03-14T07:08:40.455Z"
   },
   {
    "duration": 73,
    "start_time": "2023-03-14T07:12:51.970Z"
   },
   {
    "duration": 11,
    "start_time": "2023-03-14T07:13:02.907Z"
   },
   {
    "duration": 8,
    "start_time": "2023-03-14T07:13:16.915Z"
   },
   {
    "duration": 9,
    "start_time": "2023-03-14T07:13:21.989Z"
   },
   {
    "duration": 10,
    "start_time": "2023-03-14T07:15:12.921Z"
   },
   {
    "duration": 10,
    "start_time": "2023-03-14T07:16:30.046Z"
   },
   {
    "duration": 9,
    "start_time": "2023-03-14T07:17:10.242Z"
   },
   {
    "duration": 60,
    "start_time": "2023-03-14T07:17:34.508Z"
   },
   {
    "duration": 1100,
    "start_time": "2023-03-14T07:17:39.827Z"
   },
   {
    "duration": 164,
    "start_time": "2023-03-14T07:17:40.929Z"
   },
   {
    "duration": 120,
    "start_time": "2023-03-14T07:17:41.095Z"
   },
   {
    "duration": 76,
    "start_time": "2023-03-14T07:17:41.217Z"
   },
   {
    "duration": 74,
    "start_time": "2023-03-14T07:17:41.294Z"
   },
   {
    "duration": 10,
    "start_time": "2023-03-14T07:17:41.369Z"
   },
   {
    "duration": 4,
    "start_time": "2023-03-14T07:17:41.381Z"
   },
   {
    "duration": 576,
    "start_time": "2023-03-14T07:17:41.387Z"
   },
   {
    "duration": 23,
    "start_time": "2023-03-14T07:17:41.965Z"
   },
   {
    "duration": 31,
    "start_time": "2023-03-14T07:17:41.990Z"
   },
   {
    "duration": 41,
    "start_time": "2023-03-14T07:17:42.023Z"
   },
   {
    "duration": 76,
    "start_time": "2023-03-14T07:17:42.066Z"
   },
   {
    "duration": 138,
    "start_time": "2023-03-14T07:17:42.144Z"
   },
   {
    "duration": 4,
    "start_time": "2023-03-14T07:17:42.283Z"
   },
   {
    "duration": 75,
    "start_time": "2023-03-14T07:17:42.289Z"
   },
   {
    "duration": 870,
    "start_time": "2023-03-14T07:17:42.366Z"
   },
   {
    "duration": 0,
    "start_time": "2023-03-14T07:17:43.238Z"
   },
   {
    "duration": 0,
    "start_time": "2023-03-14T07:17:43.239Z"
   },
   {
    "duration": 0,
    "start_time": "2023-03-14T07:17:43.240Z"
   },
   {
    "duration": 0,
    "start_time": "2023-03-14T07:17:43.241Z"
   },
   {
    "duration": 0,
    "start_time": "2023-03-14T07:17:43.243Z"
   },
   {
    "duration": 0,
    "start_time": "2023-03-14T07:17:43.244Z"
   },
   {
    "duration": 0,
    "start_time": "2023-03-14T07:17:43.245Z"
   },
   {
    "duration": 0,
    "start_time": "2023-03-14T07:17:43.245Z"
   },
   {
    "duration": 0,
    "start_time": "2023-03-14T07:17:43.247Z"
   },
   {
    "duration": 0,
    "start_time": "2023-03-14T07:17:43.248Z"
   },
   {
    "duration": 0,
    "start_time": "2023-03-14T07:17:43.249Z"
   },
   {
    "duration": 9,
    "start_time": "2023-03-14T07:18:30.021Z"
   },
   {
    "duration": 160,
    "start_time": "2023-03-14T07:19:14.233Z"
   },
   {
    "duration": 9,
    "start_time": "2023-03-14T07:19:23.774Z"
   },
   {
    "duration": 9,
    "start_time": "2023-03-14T07:20:35.769Z"
   },
   {
    "duration": 6,
    "start_time": "2023-03-14T07:21:51.699Z"
   },
   {
    "duration": 11,
    "start_time": "2023-03-14T07:21:55.901Z"
   },
   {
    "duration": 7,
    "start_time": "2023-03-14T07:22:52.159Z"
   },
   {
    "duration": 12,
    "start_time": "2023-03-14T07:22:57.766Z"
   },
   {
    "duration": 13,
    "start_time": "2023-03-14T07:23:26.112Z"
   },
   {
    "duration": 14,
    "start_time": "2023-03-14T07:23:51.228Z"
   },
   {
    "duration": 13,
    "start_time": "2023-03-14T07:24:17.525Z"
   },
   {
    "duration": 4,
    "start_time": "2023-03-14T07:24:47.548Z"
   },
   {
    "duration": 13,
    "start_time": "2023-03-14T07:24:55.579Z"
   },
   {
    "duration": 23,
    "start_time": "2023-03-14T07:25:27.860Z"
   },
   {
    "duration": 70,
    "start_time": "2023-03-14T07:25:59.322Z"
   },
   {
    "duration": 222,
    "start_time": "2023-03-14T07:26:00.397Z"
   },
   {
    "duration": 21,
    "start_time": "2023-03-14T07:26:02.504Z"
   },
   {
    "duration": 61,
    "start_time": "2023-03-14T07:26:14.021Z"
   },
   {
    "duration": 138,
    "start_time": "2023-03-14T07:26:14.273Z"
   },
   {
    "duration": 22,
    "start_time": "2023-03-14T07:26:16.234Z"
   },
   {
    "duration": 1114,
    "start_time": "2023-03-14T07:26:25.126Z"
   },
   {
    "duration": 165,
    "start_time": "2023-03-14T07:26:26.242Z"
   },
   {
    "duration": 124,
    "start_time": "2023-03-14T07:26:26.408Z"
   },
   {
    "duration": 87,
    "start_time": "2023-03-14T07:26:26.534Z"
   },
   {
    "duration": 84,
    "start_time": "2023-03-14T07:26:26.623Z"
   },
   {
    "duration": 12,
    "start_time": "2023-03-14T07:26:26.712Z"
   },
   {
    "duration": 7,
    "start_time": "2023-03-14T07:26:26.726Z"
   },
   {
    "duration": 592,
    "start_time": "2023-03-14T07:26:26.735Z"
   },
   {
    "duration": 34,
    "start_time": "2023-03-14T07:26:27.329Z"
   },
   {
    "duration": 32,
    "start_time": "2023-03-14T07:26:27.365Z"
   },
   {
    "duration": 20,
    "start_time": "2023-03-14T07:26:27.399Z"
   },
   {
    "duration": 86,
    "start_time": "2023-03-14T07:26:27.421Z"
   },
   {
    "duration": 150,
    "start_time": "2023-03-14T07:26:27.508Z"
   },
   {
    "duration": 167,
    "start_time": "2023-03-14T07:26:27.660Z"
   },
   {
    "duration": 4,
    "start_time": "2023-03-14T07:26:27.829Z"
   },
   {
    "duration": 52,
    "start_time": "2023-03-14T07:26:27.834Z"
   },
   {
    "duration": 118,
    "start_time": "2023-03-14T07:26:27.888Z"
   },
   {
    "duration": 6,
    "start_time": "2023-03-14T07:26:28.008Z"
   },
   {
    "duration": 104,
    "start_time": "2023-03-14T07:26:28.016Z"
   },
   {
    "duration": 3,
    "start_time": "2023-03-14T07:26:28.122Z"
   },
   {
    "duration": 5,
    "start_time": "2023-03-14T07:26:28.127Z"
   },
   {
    "duration": 9,
    "start_time": "2023-03-14T07:26:28.133Z"
   },
   {
    "duration": 19,
    "start_time": "2023-03-14T07:26:28.143Z"
   },
   {
    "duration": 27,
    "start_time": "2023-03-14T07:26:28.163Z"
   },
   {
    "duration": 86,
    "start_time": "2023-03-14T07:26:44.096Z"
   },
   {
    "duration": 22,
    "start_time": "2023-03-14T07:27:31.843Z"
   },
   {
    "duration": 6,
    "start_time": "2023-03-14T07:52:20.469Z"
   },
   {
    "duration": 9,
    "start_time": "2023-03-14T07:54:48.210Z"
   },
   {
    "duration": 5,
    "start_time": "2023-03-14T07:54:50.399Z"
   },
   {
    "duration": 8,
    "start_time": "2023-03-14T07:54:51.074Z"
   },
   {
    "duration": 21,
    "start_time": "2023-03-14T07:55:21.362Z"
   },
   {
    "duration": 5,
    "start_time": "2023-03-14T07:59:59.996Z"
   },
   {
    "duration": 8,
    "start_time": "2023-03-14T08:00:00.391Z"
   },
   {
    "duration": 21,
    "start_time": "2023-03-14T08:00:00.816Z"
   },
   {
    "duration": 1362,
    "start_time": "2023-03-14T21:40:06.713Z"
   },
   {
    "duration": 199,
    "start_time": "2023-03-14T21:40:08.077Z"
   },
   {
    "duration": 154,
    "start_time": "2023-03-14T21:40:08.278Z"
   },
   {
    "duration": 93,
    "start_time": "2023-03-14T21:40:08.434Z"
   },
   {
    "duration": 97,
    "start_time": "2023-03-14T21:40:08.530Z"
   },
   {
    "duration": 13,
    "start_time": "2023-03-14T21:40:08.628Z"
   },
   {
    "duration": 6,
    "start_time": "2023-03-14T21:40:08.653Z"
   },
   {
    "duration": 921,
    "start_time": "2023-03-14T21:40:08.661Z"
   },
   {
    "duration": 29,
    "start_time": "2023-03-14T21:40:09.584Z"
   },
   {
    "duration": 53,
    "start_time": "2023-03-14T21:40:09.615Z"
   },
   {
    "duration": 21,
    "start_time": "2023-03-14T21:40:09.670Z"
   },
   {
    "duration": 91,
    "start_time": "2023-03-14T21:40:09.693Z"
   },
   {
    "duration": 293,
    "start_time": "2023-03-14T21:40:09.786Z"
   },
   {
    "duration": 435,
    "start_time": "2023-03-14T21:40:10.082Z"
   },
   {
    "duration": 6,
    "start_time": "2023-03-14T21:40:10.518Z"
   },
   {
    "duration": 65,
    "start_time": "2023-03-14T21:40:10.525Z"
   },
   {
    "duration": 179,
    "start_time": "2023-03-14T21:40:10.591Z"
   },
   {
    "duration": 5,
    "start_time": "2023-03-14T21:40:10.772Z"
   },
   {
    "duration": 7,
    "start_time": "2023-03-14T21:40:10.779Z"
   },
   {
    "duration": 9,
    "start_time": "2023-03-14T21:40:10.788Z"
   },
   {
    "duration": 14,
    "start_time": "2023-03-14T21:40:10.798Z"
   },
   {
    "duration": 57,
    "start_time": "2023-03-14T21:40:10.814Z"
   },
   {
    "duration": 6,
    "start_time": "2023-03-14T21:40:10.873Z"
   },
   {
    "duration": 15,
    "start_time": "2023-03-14T21:40:10.882Z"
   },
   {
    "duration": 55,
    "start_time": "2023-03-14T21:40:10.899Z"
   },
   {
    "duration": 1276,
    "start_time": "2023-03-18T07:56:11.863Z"
   },
   {
    "duration": 856,
    "start_time": "2023-03-18T07:56:13.141Z"
   },
   {
    "duration": 126,
    "start_time": "2023-03-18T07:56:13.998Z"
   },
   {
    "duration": 75,
    "start_time": "2023-03-18T07:56:14.126Z"
   },
   {
    "duration": 82,
    "start_time": "2023-03-18T07:56:14.202Z"
   },
   {
    "duration": 12,
    "start_time": "2023-03-18T07:56:14.285Z"
   },
   {
    "duration": 17,
    "start_time": "2023-03-18T07:56:14.298Z"
   },
   {
    "duration": 665,
    "start_time": "2023-03-18T07:56:14.317Z"
   },
   {
    "duration": 28,
    "start_time": "2023-03-18T07:56:14.984Z"
   },
   {
    "duration": 52,
    "start_time": "2023-03-18T07:56:15.016Z"
   },
   {
    "duration": 22,
    "start_time": "2023-03-18T07:56:15.070Z"
   },
   {
    "duration": 90,
    "start_time": "2023-03-18T07:56:15.094Z"
   },
   {
    "duration": 167,
    "start_time": "2023-03-18T07:56:15.186Z"
   },
   {
    "duration": 258,
    "start_time": "2023-03-18T07:56:15.355Z"
   },
   {
    "duration": 4,
    "start_time": "2023-03-18T07:56:15.615Z"
   },
   {
    "duration": 41,
    "start_time": "2023-03-18T07:56:15.621Z"
   },
   {
    "duration": 141,
    "start_time": "2023-03-18T07:56:15.664Z"
   },
   {
    "duration": 5,
    "start_time": "2023-03-18T07:56:15.807Z"
   },
   {
    "duration": 30,
    "start_time": "2023-03-18T07:56:15.813Z"
   },
   {
    "duration": 9,
    "start_time": "2023-03-18T07:56:15.844Z"
   },
   {
    "duration": 15,
    "start_time": "2023-03-18T07:56:15.854Z"
   },
   {
    "duration": 22,
    "start_time": "2023-03-18T07:56:15.870Z"
   },
   {
    "duration": 5,
    "start_time": "2023-03-18T07:56:15.894Z"
   },
   {
    "duration": 11,
    "start_time": "2023-03-18T07:56:15.901Z"
   },
   {
    "duration": 25,
    "start_time": "2023-03-18T07:56:15.942Z"
   },
   {
    "duration": 23,
    "start_time": "2023-03-18T08:09:33.651Z"
   },
   {
    "duration": 1187,
    "start_time": "2023-03-18T08:16:22.439Z"
   },
   {
    "duration": 198,
    "start_time": "2023-03-18T08:16:23.628Z"
   },
   {
    "duration": 132,
    "start_time": "2023-03-18T08:16:23.828Z"
   },
   {
    "duration": 88,
    "start_time": "2023-03-18T08:16:23.963Z"
   },
   {
    "duration": 92,
    "start_time": "2023-03-18T08:16:24.054Z"
   },
   {
    "duration": 13,
    "start_time": "2023-03-18T08:16:24.149Z"
   },
   {
    "duration": 6,
    "start_time": "2023-03-18T08:16:24.163Z"
   },
   {
    "duration": 683,
    "start_time": "2023-03-18T08:16:24.170Z"
   },
   {
    "duration": 26,
    "start_time": "2023-03-18T08:16:24.855Z"
   },
   {
    "duration": 34,
    "start_time": "2023-03-18T08:16:24.884Z"
   },
   {
    "duration": 23,
    "start_time": "2023-03-18T08:16:24.941Z"
   },
   {
    "duration": 86,
    "start_time": "2023-03-18T08:16:24.966Z"
   },
   {
    "duration": 163,
    "start_time": "2023-03-18T08:16:25.054Z"
   },
   {
    "duration": 199,
    "start_time": "2023-03-18T08:16:25.219Z"
   },
   {
    "duration": 5,
    "start_time": "2023-03-18T08:16:25.420Z"
   },
   {
    "duration": 46,
    "start_time": "2023-03-18T08:16:25.426Z"
   },
   {
    "duration": 168,
    "start_time": "2023-03-18T08:16:25.474Z"
   },
   {
    "duration": 5,
    "start_time": "2023-03-18T08:16:25.644Z"
   },
   {
    "duration": 5,
    "start_time": "2023-03-18T08:16:25.650Z"
   },
   {
    "duration": 8,
    "start_time": "2023-03-18T08:16:25.657Z"
   },
   {
    "duration": 10,
    "start_time": "2023-03-18T08:16:25.667Z"
   },
   {
    "duration": 25,
    "start_time": "2023-03-18T08:16:25.679Z"
   },
   {
    "duration": 10,
    "start_time": "2023-03-18T08:16:25.740Z"
   },
   {
    "duration": 120,
    "start_time": "2023-03-18T08:16:25.752Z"
   },
   {
    "duration": 23,
    "start_time": "2023-03-18T08:16:42.294Z"
   }
  ],
  "kernelspec": {
   "display_name": "Python 3 (ipykernel)",
   "language": "python",
   "name": "python3"
  },
  "language_info": {
   "codemirror_mode": {
    "name": "ipython",
    "version": 3
   },
   "file_extension": ".py",
   "mimetype": "text/x-python",
   "name": "python",
   "nbconvert_exporter": "python",
   "pygments_lexer": "ipython3",
   "version": "3.9.13"
  },
  "toc": {
   "base_numbering": 1,
   "nav_menu": {
    "height": "266px",
    "width": "516px"
   },
   "number_sections": false,
   "sideBar": true,
   "skip_h1_title": false,
   "title_cell": "Table of Contents",
   "title_sidebar": "Contents",
   "toc_cell": false,
   "toc_position": {
    "height": "calc(100% - 180px)",
    "left": "10px",
    "top": "150px",
    "width": "258.267px"
   },
   "toc_section_display": true,
   "toc_window_display": true
  }
 },
 "nbformat": 4,
 "nbformat_minor": 2
}
