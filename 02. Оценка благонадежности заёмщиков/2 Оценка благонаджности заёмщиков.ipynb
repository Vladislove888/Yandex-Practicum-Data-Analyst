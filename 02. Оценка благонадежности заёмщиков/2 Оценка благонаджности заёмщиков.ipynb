{
 "cells": [
  {
   "cell_type": "markdown",
   "id": "e636beb7",
   "metadata": {
    "deletable": false,
    "editable": false,
    "id": "c81daeeb"
   },
   "source": [
    "# Исследование надежности заемщиков\n"
   ]
  },
  {
   "cell_type": "markdown",
   "id": "b877cd34",
   "metadata": {
    "deletable": false,
    "editable": false,
    "id": "827c20bf"
   },
   "source": [
    "Во второй части проекта вы выполните шаги 3 и 4. Их вручную проверит ревьюер.\n",
    "Чтобы вам не пришлось писать код заново для шагов 1 и 2, мы добавили авторские решения в ячейки с кодом. \n",
    "\n"
   ]
  },
  {
   "cell_type": "markdown",
   "id": "0061e2e2",
   "metadata": {
    "deletable": false,
    "editable": false,
    "id": "744d7639"
   },
   "source": [
    "## Откройте таблицу и изучите общую информацию о данных"
   ]
  },
  {
   "cell_type": "markdown",
   "id": "e63be078",
   "metadata": {
    "deletable": false,
    "editable": false,
    "id": "e7a14c31"
   },
   "source": [
    "**Задание 1. Импортируйте библиотеку pandas. Считайте данные из csv-файла в датафрейм и сохраните в переменную `data`. Путь к файлу:**\n",
    "\n",
    "`/datasets/data.csv`"
   ]
  },
  {
   "cell_type": "code",
   "execution_count": 1,
   "id": "f72b58d2",
   "metadata": {
    "deletable": false,
    "id": "7bcf75c9"
   },
   "outputs": [],
   "source": [
    "import pandas as pd\n",
    "import seaborn\n",
    "\n",
    "try:\n",
    "    data = pd.read_csv('/datasets/data.csv')\n",
    "except:\n",
    "    data = pd.read_csv('https://code.s3.yandex.net/datasets/data.csv')"
   ]
  },
  {
   "cell_type": "markdown",
   "id": "6578f717",
   "metadata": {
    "deletable": false,
    "editable": false,
    "id": "b8038fe3"
   },
   "source": [
    "**Задание 2. Выведите первые 20 строчек датафрейма `data` на экран.**"
   ]
  },
  {
   "cell_type": "code",
   "execution_count": 2,
   "id": "4d0173d8",
   "metadata": {
    "deletable": false,
    "id": "2a7cab99",
    "outputId": "1a8f3ef2-d323-4ec2-ddf7-89670b5944c4"
   },
   "outputs": [
    {
     "data": {
      "text/html": [
       "<div>\n",
       "<style scoped>\n",
       "    .dataframe tbody tr th:only-of-type {\n",
       "        vertical-align: middle;\n",
       "    }\n",
       "\n",
       "    .dataframe tbody tr th {\n",
       "        vertical-align: top;\n",
       "    }\n",
       "\n",
       "    .dataframe thead th {\n",
       "        text-align: right;\n",
       "    }\n",
       "</style>\n",
       "<table border=\"1\" class=\"dataframe\">\n",
       "  <thead>\n",
       "    <tr style=\"text-align: right;\">\n",
       "      <th></th>\n",
       "      <th>children</th>\n",
       "      <th>days_employed</th>\n",
       "      <th>dob_years</th>\n",
       "      <th>education</th>\n",
       "      <th>education_id</th>\n",
       "      <th>family_status</th>\n",
       "      <th>family_status_id</th>\n",
       "      <th>gender</th>\n",
       "      <th>income_type</th>\n",
       "      <th>debt</th>\n",
       "      <th>total_income</th>\n",
       "      <th>purpose</th>\n",
       "    </tr>\n",
       "  </thead>\n",
       "  <tbody>\n",
       "    <tr>\n",
       "      <th>0</th>\n",
       "      <td>1</td>\n",
       "      <td>-8437.673028</td>\n",
       "      <td>42</td>\n",
       "      <td>высшее</td>\n",
       "      <td>0</td>\n",
       "      <td>женат / замужем</td>\n",
       "      <td>0</td>\n",
       "      <td>F</td>\n",
       "      <td>сотрудник</td>\n",
       "      <td>0</td>\n",
       "      <td>253875.639453</td>\n",
       "      <td>покупка жилья</td>\n",
       "    </tr>\n",
       "    <tr>\n",
       "      <th>1</th>\n",
       "      <td>1</td>\n",
       "      <td>-4024.803754</td>\n",
       "      <td>36</td>\n",
       "      <td>среднее</td>\n",
       "      <td>1</td>\n",
       "      <td>женат / замужем</td>\n",
       "      <td>0</td>\n",
       "      <td>F</td>\n",
       "      <td>сотрудник</td>\n",
       "      <td>0</td>\n",
       "      <td>112080.014102</td>\n",
       "      <td>приобретение автомобиля</td>\n",
       "    </tr>\n",
       "    <tr>\n",
       "      <th>2</th>\n",
       "      <td>0</td>\n",
       "      <td>-5623.422610</td>\n",
       "      <td>33</td>\n",
       "      <td>Среднее</td>\n",
       "      <td>1</td>\n",
       "      <td>женат / замужем</td>\n",
       "      <td>0</td>\n",
       "      <td>M</td>\n",
       "      <td>сотрудник</td>\n",
       "      <td>0</td>\n",
       "      <td>145885.952297</td>\n",
       "      <td>покупка жилья</td>\n",
       "    </tr>\n",
       "    <tr>\n",
       "      <th>3</th>\n",
       "      <td>3</td>\n",
       "      <td>-4124.747207</td>\n",
       "      <td>32</td>\n",
       "      <td>среднее</td>\n",
       "      <td>1</td>\n",
       "      <td>женат / замужем</td>\n",
       "      <td>0</td>\n",
       "      <td>M</td>\n",
       "      <td>сотрудник</td>\n",
       "      <td>0</td>\n",
       "      <td>267628.550329</td>\n",
       "      <td>дополнительное образование</td>\n",
       "    </tr>\n",
       "    <tr>\n",
       "      <th>4</th>\n",
       "      <td>0</td>\n",
       "      <td>340266.072047</td>\n",
       "      <td>53</td>\n",
       "      <td>среднее</td>\n",
       "      <td>1</td>\n",
       "      <td>гражданский брак</td>\n",
       "      <td>1</td>\n",
       "      <td>F</td>\n",
       "      <td>пенсионер</td>\n",
       "      <td>0</td>\n",
       "      <td>158616.077870</td>\n",
       "      <td>сыграть свадьбу</td>\n",
       "    </tr>\n",
       "    <tr>\n",
       "      <th>5</th>\n",
       "      <td>0</td>\n",
       "      <td>-926.185831</td>\n",
       "      <td>27</td>\n",
       "      <td>высшее</td>\n",
       "      <td>0</td>\n",
       "      <td>гражданский брак</td>\n",
       "      <td>1</td>\n",
       "      <td>M</td>\n",
       "      <td>компаньон</td>\n",
       "      <td>0</td>\n",
       "      <td>255763.565419</td>\n",
       "      <td>покупка жилья</td>\n",
       "    </tr>\n",
       "    <tr>\n",
       "      <th>6</th>\n",
       "      <td>0</td>\n",
       "      <td>-2879.202052</td>\n",
       "      <td>43</td>\n",
       "      <td>высшее</td>\n",
       "      <td>0</td>\n",
       "      <td>женат / замужем</td>\n",
       "      <td>0</td>\n",
       "      <td>F</td>\n",
       "      <td>компаньон</td>\n",
       "      <td>0</td>\n",
       "      <td>240525.971920</td>\n",
       "      <td>операции с жильем</td>\n",
       "    </tr>\n",
       "    <tr>\n",
       "      <th>7</th>\n",
       "      <td>0</td>\n",
       "      <td>-152.779569</td>\n",
       "      <td>50</td>\n",
       "      <td>СРЕДНЕЕ</td>\n",
       "      <td>1</td>\n",
       "      <td>женат / замужем</td>\n",
       "      <td>0</td>\n",
       "      <td>M</td>\n",
       "      <td>сотрудник</td>\n",
       "      <td>0</td>\n",
       "      <td>135823.934197</td>\n",
       "      <td>образование</td>\n",
       "    </tr>\n",
       "    <tr>\n",
       "      <th>8</th>\n",
       "      <td>2</td>\n",
       "      <td>-6929.865299</td>\n",
       "      <td>35</td>\n",
       "      <td>ВЫСШЕЕ</td>\n",
       "      <td>0</td>\n",
       "      <td>гражданский брак</td>\n",
       "      <td>1</td>\n",
       "      <td>F</td>\n",
       "      <td>сотрудник</td>\n",
       "      <td>0</td>\n",
       "      <td>95856.832424</td>\n",
       "      <td>на проведение свадьбы</td>\n",
       "    </tr>\n",
       "    <tr>\n",
       "      <th>9</th>\n",
       "      <td>0</td>\n",
       "      <td>-2188.756445</td>\n",
       "      <td>41</td>\n",
       "      <td>среднее</td>\n",
       "      <td>1</td>\n",
       "      <td>женат / замужем</td>\n",
       "      <td>0</td>\n",
       "      <td>M</td>\n",
       "      <td>сотрудник</td>\n",
       "      <td>0</td>\n",
       "      <td>144425.938277</td>\n",
       "      <td>покупка жилья для семьи</td>\n",
       "    </tr>\n",
       "    <tr>\n",
       "      <th>10</th>\n",
       "      <td>2</td>\n",
       "      <td>-4171.483647</td>\n",
       "      <td>36</td>\n",
       "      <td>высшее</td>\n",
       "      <td>0</td>\n",
       "      <td>женат / замужем</td>\n",
       "      <td>0</td>\n",
       "      <td>M</td>\n",
       "      <td>компаньон</td>\n",
       "      <td>0</td>\n",
       "      <td>113943.491460</td>\n",
       "      <td>покупка недвижимости</td>\n",
       "    </tr>\n",
       "    <tr>\n",
       "      <th>11</th>\n",
       "      <td>0</td>\n",
       "      <td>-792.701887</td>\n",
       "      <td>40</td>\n",
       "      <td>среднее</td>\n",
       "      <td>1</td>\n",
       "      <td>женат / замужем</td>\n",
       "      <td>0</td>\n",
       "      <td>F</td>\n",
       "      <td>сотрудник</td>\n",
       "      <td>0</td>\n",
       "      <td>77069.234271</td>\n",
       "      <td>покупка коммерческой недвижимости</td>\n",
       "    </tr>\n",
       "    <tr>\n",
       "      <th>12</th>\n",
       "      <td>0</td>\n",
       "      <td>NaN</td>\n",
       "      <td>65</td>\n",
       "      <td>среднее</td>\n",
       "      <td>1</td>\n",
       "      <td>гражданский брак</td>\n",
       "      <td>1</td>\n",
       "      <td>M</td>\n",
       "      <td>пенсионер</td>\n",
       "      <td>0</td>\n",
       "      <td>NaN</td>\n",
       "      <td>сыграть свадьбу</td>\n",
       "    </tr>\n",
       "    <tr>\n",
       "      <th>13</th>\n",
       "      <td>0</td>\n",
       "      <td>-1846.641941</td>\n",
       "      <td>54</td>\n",
       "      <td>неоконченное высшее</td>\n",
       "      <td>2</td>\n",
       "      <td>женат / замужем</td>\n",
       "      <td>0</td>\n",
       "      <td>F</td>\n",
       "      <td>сотрудник</td>\n",
       "      <td>0</td>\n",
       "      <td>130458.228857</td>\n",
       "      <td>приобретение автомобиля</td>\n",
       "    </tr>\n",
       "    <tr>\n",
       "      <th>14</th>\n",
       "      <td>0</td>\n",
       "      <td>-1844.956182</td>\n",
       "      <td>56</td>\n",
       "      <td>высшее</td>\n",
       "      <td>0</td>\n",
       "      <td>гражданский брак</td>\n",
       "      <td>1</td>\n",
       "      <td>F</td>\n",
       "      <td>компаньон</td>\n",
       "      <td>1</td>\n",
       "      <td>165127.911772</td>\n",
       "      <td>покупка жилой недвижимости</td>\n",
       "    </tr>\n",
       "    <tr>\n",
       "      <th>15</th>\n",
       "      <td>1</td>\n",
       "      <td>-972.364419</td>\n",
       "      <td>26</td>\n",
       "      <td>среднее</td>\n",
       "      <td>1</td>\n",
       "      <td>женат / замужем</td>\n",
       "      <td>0</td>\n",
       "      <td>F</td>\n",
       "      <td>сотрудник</td>\n",
       "      <td>0</td>\n",
       "      <td>116820.904450</td>\n",
       "      <td>строительство собственной недвижимости</td>\n",
       "    </tr>\n",
       "    <tr>\n",
       "      <th>16</th>\n",
       "      <td>0</td>\n",
       "      <td>-1719.934226</td>\n",
       "      <td>35</td>\n",
       "      <td>среднее</td>\n",
       "      <td>1</td>\n",
       "      <td>женат / замужем</td>\n",
       "      <td>0</td>\n",
       "      <td>F</td>\n",
       "      <td>сотрудник</td>\n",
       "      <td>0</td>\n",
       "      <td>289202.704229</td>\n",
       "      <td>недвижимость</td>\n",
       "    </tr>\n",
       "    <tr>\n",
       "      <th>17</th>\n",
       "      <td>0</td>\n",
       "      <td>-2369.999720</td>\n",
       "      <td>33</td>\n",
       "      <td>высшее</td>\n",
       "      <td>0</td>\n",
       "      <td>гражданский брак</td>\n",
       "      <td>1</td>\n",
       "      <td>M</td>\n",
       "      <td>сотрудник</td>\n",
       "      <td>0</td>\n",
       "      <td>90410.586745</td>\n",
       "      <td>строительство недвижимости</td>\n",
       "    </tr>\n",
       "    <tr>\n",
       "      <th>18</th>\n",
       "      <td>0</td>\n",
       "      <td>400281.136913</td>\n",
       "      <td>53</td>\n",
       "      <td>среднее</td>\n",
       "      <td>1</td>\n",
       "      <td>вдовец / вдова</td>\n",
       "      <td>2</td>\n",
       "      <td>F</td>\n",
       "      <td>пенсионер</td>\n",
       "      <td>0</td>\n",
       "      <td>56823.777243</td>\n",
       "      <td>на покупку подержанного автомобиля</td>\n",
       "    </tr>\n",
       "    <tr>\n",
       "      <th>19</th>\n",
       "      <td>0</td>\n",
       "      <td>-10038.818549</td>\n",
       "      <td>48</td>\n",
       "      <td>СРЕДНЕЕ</td>\n",
       "      <td>1</td>\n",
       "      <td>в разводе</td>\n",
       "      <td>3</td>\n",
       "      <td>F</td>\n",
       "      <td>сотрудник</td>\n",
       "      <td>0</td>\n",
       "      <td>242831.107982</td>\n",
       "      <td>на покупку своего автомобиля</td>\n",
       "    </tr>\n",
       "  </tbody>\n",
       "</table>\n",
       "</div>"
      ],
      "text/plain": [
       "    children  days_employed  dob_years            education  education_id  \\\n",
       "0          1   -8437.673028         42               высшее             0   \n",
       "1          1   -4024.803754         36              среднее             1   \n",
       "2          0   -5623.422610         33              Среднее             1   \n",
       "3          3   -4124.747207         32              среднее             1   \n",
       "4          0  340266.072047         53              среднее             1   \n",
       "5          0    -926.185831         27               высшее             0   \n",
       "6          0   -2879.202052         43               высшее             0   \n",
       "7          0    -152.779569         50              СРЕДНЕЕ             1   \n",
       "8          2   -6929.865299         35               ВЫСШЕЕ             0   \n",
       "9          0   -2188.756445         41              среднее             1   \n",
       "10         2   -4171.483647         36               высшее             0   \n",
       "11         0    -792.701887         40              среднее             1   \n",
       "12         0            NaN         65              среднее             1   \n",
       "13         0   -1846.641941         54  неоконченное высшее             2   \n",
       "14         0   -1844.956182         56               высшее             0   \n",
       "15         1    -972.364419         26              среднее             1   \n",
       "16         0   -1719.934226         35              среднее             1   \n",
       "17         0   -2369.999720         33               высшее             0   \n",
       "18         0  400281.136913         53              среднее             1   \n",
       "19         0  -10038.818549         48              СРЕДНЕЕ             1   \n",
       "\n",
       "       family_status  family_status_id gender income_type  debt  \\\n",
       "0    женат / замужем                 0      F   сотрудник     0   \n",
       "1    женат / замужем                 0      F   сотрудник     0   \n",
       "2    женат / замужем                 0      M   сотрудник     0   \n",
       "3    женат / замужем                 0      M   сотрудник     0   \n",
       "4   гражданский брак                 1      F   пенсионер     0   \n",
       "5   гражданский брак                 1      M   компаньон     0   \n",
       "6    женат / замужем                 0      F   компаньон     0   \n",
       "7    женат / замужем                 0      M   сотрудник     0   \n",
       "8   гражданский брак                 1      F   сотрудник     0   \n",
       "9    женат / замужем                 0      M   сотрудник     0   \n",
       "10   женат / замужем                 0      M   компаньон     0   \n",
       "11   женат / замужем                 0      F   сотрудник     0   \n",
       "12  гражданский брак                 1      M   пенсионер     0   \n",
       "13   женат / замужем                 0      F   сотрудник     0   \n",
       "14  гражданский брак                 1      F   компаньон     1   \n",
       "15   женат / замужем                 0      F   сотрудник     0   \n",
       "16   женат / замужем                 0      F   сотрудник     0   \n",
       "17  гражданский брак                 1      M   сотрудник     0   \n",
       "18    вдовец / вдова                 2      F   пенсионер     0   \n",
       "19         в разводе                 3      F   сотрудник     0   \n",
       "\n",
       "     total_income                                 purpose  \n",
       "0   253875.639453                           покупка жилья  \n",
       "1   112080.014102                 приобретение автомобиля  \n",
       "2   145885.952297                           покупка жилья  \n",
       "3   267628.550329              дополнительное образование  \n",
       "4   158616.077870                         сыграть свадьбу  \n",
       "5   255763.565419                           покупка жилья  \n",
       "6   240525.971920                       операции с жильем  \n",
       "7   135823.934197                             образование  \n",
       "8    95856.832424                   на проведение свадьбы  \n",
       "9   144425.938277                 покупка жилья для семьи  \n",
       "10  113943.491460                    покупка недвижимости  \n",
       "11   77069.234271       покупка коммерческой недвижимости  \n",
       "12            NaN                         сыграть свадьбу  \n",
       "13  130458.228857                 приобретение автомобиля  \n",
       "14  165127.911772              покупка жилой недвижимости  \n",
       "15  116820.904450  строительство собственной недвижимости  \n",
       "16  289202.704229                            недвижимость  \n",
       "17   90410.586745              строительство недвижимости  \n",
       "18   56823.777243      на покупку подержанного автомобиля  \n",
       "19  242831.107982            на покупку своего автомобиля  "
      ]
     },
     "execution_count": 2,
     "metadata": {},
     "output_type": "execute_result"
    }
   ],
   "source": [
    "data.head(20)"
   ]
  },
  {
   "cell_type": "markdown",
   "id": "76c40f4d",
   "metadata": {
    "deletable": false,
    "editable": false,
    "id": "1c12e233"
   },
   "source": [
    "**Задание 3. Выведите основную информацию о датафрейме с помощью метода `info()`.**"
   ]
  },
  {
   "cell_type": "code",
   "execution_count": 3,
   "id": "e0292435",
   "metadata": {
    "deletable": false,
    "id": "2b757bca",
    "outputId": "15376089-8dad-46c9-b520-c05248d43158"
   },
   "outputs": [
    {
     "name": "stdout",
     "output_type": "stream",
     "text": [
      "<class 'pandas.core.frame.DataFrame'>\n",
      "RangeIndex: 21525 entries, 0 to 21524\n",
      "Data columns (total 12 columns):\n",
      " #   Column            Non-Null Count  Dtype  \n",
      "---  ------            --------------  -----  \n",
      " 0   children          21525 non-null  int64  \n",
      " 1   days_employed     19351 non-null  float64\n",
      " 2   dob_years         21525 non-null  int64  \n",
      " 3   education         21525 non-null  object \n",
      " 4   education_id      21525 non-null  int64  \n",
      " 5   family_status     21525 non-null  object \n",
      " 6   family_status_id  21525 non-null  int64  \n",
      " 7   gender            21525 non-null  object \n",
      " 8   income_type       21525 non-null  object \n",
      " 9   debt              21525 non-null  int64  \n",
      " 10  total_income      19351 non-null  float64\n",
      " 11  purpose           21525 non-null  object \n",
      "dtypes: float64(2), int64(5), object(5)\n",
      "memory usage: 2.0+ MB\n"
     ]
    }
   ],
   "source": [
    "data.info()"
   ]
  },
  {
   "cell_type": "markdown",
   "id": "08d11ecb",
   "metadata": {
    "deletable": false,
    "editable": false,
    "id": "333ec665"
   },
   "source": [
    "## Предобработка данных"
   ]
  },
  {
   "cell_type": "markdown",
   "id": "fb1eae04",
   "metadata": {
    "deletable": false,
    "editable": false,
    "id": "02d92d53"
   },
   "source": [
    "### Удаление пропусков"
   ]
  },
  {
   "cell_type": "markdown",
   "id": "a56dc25c",
   "metadata": {
    "deletable": false,
    "editable": false,
    "id": "cd84967c"
   },
   "source": [
    "**Задание 4. Выведите количество пропущенных значений для каждого столбца. Используйте комбинацию двух методов.**"
   ]
  },
  {
   "cell_type": "code",
   "execution_count": 4,
   "id": "f17ed253",
   "metadata": {
    "deletable": false,
    "id": "7f9b2309",
    "outputId": "81f4d817-781c-465c-ed15-91ce4446810d"
   },
   "outputs": [
    {
     "data": {
      "text/plain": [
       "children               0\n",
       "days_employed       2174\n",
       "dob_years              0\n",
       "education              0\n",
       "education_id           0\n",
       "family_status          0\n",
       "family_status_id       0\n",
       "gender                 0\n",
       "income_type            0\n",
       "debt                   0\n",
       "total_income        2174\n",
       "purpose                0\n",
       "dtype: int64"
      ]
     },
     "execution_count": 4,
     "metadata": {},
     "output_type": "execute_result"
    }
   ],
   "source": [
    "data.isna().sum()"
   ]
  },
  {
   "cell_type": "markdown",
   "id": "0d3a59a1",
   "metadata": {
    "deletable": false,
    "editable": false,
    "id": "db86e27b"
   },
   "source": [
    "**Задание 5. В двух столбцах есть пропущенные значения. Один из них — `days_employed`. Пропуски в этом столбце вы обработаете на следующем этапе. Другой столбец с пропущенными значениями — `total_income` — хранит данные о доходах. На сумму дохода сильнее всего влияет тип занятости, поэтому заполнить пропуски в этом столбце нужно медианным значением по каждому типу из столбца `income_type`. Например, у человека с типом занятости `сотрудник` пропуск в столбце `total_income` должен быть заполнен медианным доходом среди всех записей с тем же типом.**"
   ]
  },
  {
   "cell_type": "code",
   "execution_count": 5,
   "id": "90dd03e8",
   "metadata": {
    "deletable": false,
    "id": "42006a93"
   },
   "outputs": [],
   "source": [
    "for t in data['income_type'].unique():\n",
    "    data.loc[(data['income_type'] == t) & (data['total_income'].isna()), 'total_income'] = \\\n",
    "    data.loc[(data['income_type'] == t), 'total_income'].median()"
   ]
  },
  {
   "cell_type": "markdown",
   "id": "c902425f",
   "metadata": {
    "deletable": false,
    "editable": false,
    "id": "89da5ece"
   },
   "source": [
    "### Обработка аномальных значений"
   ]
  },
  {
   "cell_type": "markdown",
   "id": "0969bf9f",
   "metadata": {
    "deletable": false,
    "editable": false,
    "id": "57964554"
   },
   "source": [
    "**Задание 6. В данных могут встречаться артефакты (аномалии) — значения, которые не отражают действительность и появились по какой-то ошибке. таким артефактом будет отрицательное количество дней трудового стажа в столбце `days_employed`. Для реальных данных это нормально. Обработайте значения в этом столбце: замените все отрицательные значения положительными с помощью метода `abs()`.**"
   ]
  },
  {
   "cell_type": "code",
   "execution_count": 6,
   "id": "d0eac1f4",
   "metadata": {
    "deletable": false,
    "id": "f6f055bf"
   },
   "outputs": [],
   "source": [
    "data['days_employed'] = data['days_employed'].abs()"
   ]
  },
  {
   "cell_type": "markdown",
   "id": "b536f6ea",
   "metadata": {
    "deletable": false,
    "editable": false,
    "id": "6107dd2f"
   },
   "source": [
    "**Задание 7. Для каждого типа занятости выведите медианное значение трудового стажа `days_employed` в днях.**"
   ]
  },
  {
   "cell_type": "code",
   "execution_count": 7,
   "id": "7c4d7e83",
   "metadata": {
    "deletable": false,
    "id": "85a5faf6",
    "outputId": "801ef80e-522b-4668-f34e-565af7432bcf"
   },
   "outputs": [
    {
     "data": {
      "text/plain": [
       "income_type\n",
       "безработный        366413.652744\n",
       "в декрете            3296.759962\n",
       "госслужащий          2689.368353\n",
       "компаньон            1547.382223\n",
       "пенсионер          365213.306266\n",
       "предприниматель       520.848083\n",
       "сотрудник            1574.202821\n",
       "студент               578.751554\n",
       "Name: days_employed, dtype: float64"
      ]
     },
     "execution_count": 7,
     "metadata": {},
     "output_type": "execute_result"
    }
   ],
   "source": [
    "data.groupby('income_type')['days_employed'].agg('median')"
   ]
  },
  {
   "cell_type": "markdown",
   "id": "e6616134",
   "metadata": {
    "deletable": false,
    "editable": false,
    "id": "38d1a030"
   },
   "source": [
    "У двух типов (безработные и пенсионеры) получатся аномально большие значения. Исправить такие значения сложно, поэтому оставьте их как есть. Тем более этот столбец не понадобится вам для исследования."
   ]
  },
  {
   "cell_type": "markdown",
   "id": "81b1ff3c",
   "metadata": {
    "deletable": false,
    "editable": false,
    "id": "d8a9f147"
   },
   "source": [
    "**Задание 8. Выведите перечень уникальных значений столбца `children`.**"
   ]
  },
  {
   "cell_type": "code",
   "execution_count": 8,
   "id": "ab33d5b4",
   "metadata": {
    "deletable": false,
    "id": "ef5056eb",
    "outputId": "6975b15c-7f95-4697-d16d-a0c79b657b03"
   },
   "outputs": [
    {
     "data": {
      "text/plain": [
       "array([ 1,  0,  3,  2, -1,  4, 20,  5])"
      ]
     },
     "execution_count": 8,
     "metadata": {},
     "output_type": "execute_result"
    }
   ],
   "source": [
    "data['children'].unique()"
   ]
  },
  {
   "cell_type": "markdown",
   "id": "fed9eb51",
   "metadata": {
    "deletable": false,
    "editable": false,
    "id": "40b9ebf2"
   },
   "source": [
    "**Задание 9. В столбце `children` есть два аномальных значения. Удалите строки, в которых встречаются такие аномальные значения из датафрейма `data`.**"
   ]
  },
  {
   "cell_type": "code",
   "execution_count": 9,
   "id": "e41f7470",
   "metadata": {
    "deletable": false,
    "id": "3ff9801d"
   },
   "outputs": [],
   "source": [
    "data = data[(data['children'] != -1) & (data['children'] != 20)]"
   ]
  },
  {
   "cell_type": "markdown",
   "id": "eaebf774",
   "metadata": {
    "deletable": false,
    "editable": false,
    "id": "bbc4d0ce"
   },
   "source": [
    "**Задание 10. Ещё раз выведите перечень уникальных значений столбца `children`, чтобы убедиться, что артефакты удалены.**"
   ]
  },
  {
   "cell_type": "code",
   "execution_count": 10,
   "id": "2cfe3f61",
   "metadata": {
    "deletable": false,
    "id": "ad4fa8b7",
    "outputId": "b2097101-d49d-44d9-901b-32a65c9463d1"
   },
   "outputs": [
    {
     "data": {
      "text/plain": [
       "array([1, 0, 3, 2, 4, 5])"
      ]
     },
     "execution_count": 10,
     "metadata": {},
     "output_type": "execute_result"
    }
   ],
   "source": [
    "data['children'].unique()"
   ]
  },
  {
   "cell_type": "markdown",
   "id": "4236a280",
   "metadata": {
    "deletable": false,
    "editable": false,
    "id": "75440b63"
   },
   "source": [
    "### Удаление пропусков (продолжение)"
   ]
  },
  {
   "cell_type": "markdown",
   "id": "1334121c",
   "metadata": {
    "deletable": false,
    "editable": false,
    "id": "f4ea573f"
   },
   "source": [
    "**Задание 11. Заполните пропуски в столбце `days_employed` медианными значениями по каждого типа занятости `income_type`.**"
   ]
  },
  {
   "cell_type": "code",
   "execution_count": 11,
   "id": "65a0e8c5",
   "metadata": {
    "deletable": false,
    "id": "af6b1a7e"
   },
   "outputs": [],
   "source": [
    "for t in data['income_type'].unique():\n",
    "    data.loc[(data['income_type'] == t) & (data['days_employed'].isna()), 'days_employed'] = \\\n",
    "    data.loc[(data['income_type'] == t), 'days_employed'].median()"
   ]
  },
  {
   "cell_type": "markdown",
   "id": "4325b5e8",
   "metadata": {
    "deletable": false,
    "editable": false,
    "id": "2753f40d"
   },
   "source": [
    "**Задание 12. Убедитесь, что все пропуски заполнены. Проверьте себя и ещё раз выведите количество пропущенных значений для каждого столбца с помощью двух методов.**"
   ]
  },
  {
   "cell_type": "code",
   "execution_count": 12,
   "id": "fc356673",
   "metadata": {
    "deletable": false,
    "id": "55f78bc2",
    "outputId": "8da1e4e1-358e-4e87-98c9-f261bce0a7b2"
   },
   "outputs": [
    {
     "data": {
      "text/plain": [
       "children            0\n",
       "days_employed       0\n",
       "dob_years           0\n",
       "education           0\n",
       "education_id        0\n",
       "family_status       0\n",
       "family_status_id    0\n",
       "gender              0\n",
       "income_type         0\n",
       "debt                0\n",
       "total_income        0\n",
       "purpose             0\n",
       "dtype: int64"
      ]
     },
     "execution_count": 12,
     "metadata": {},
     "output_type": "execute_result"
    }
   ],
   "source": [
    "data.isna().sum()"
   ]
  },
  {
   "cell_type": "markdown",
   "id": "1c8700cd",
   "metadata": {
    "deletable": false,
    "editable": false,
    "id": "ddc81e43"
   },
   "source": [
    "### Изменение типов данных"
   ]
  },
  {
   "cell_type": "markdown",
   "id": "1b712413",
   "metadata": {
    "deletable": false,
    "editable": false,
    "id": "42d19d24"
   },
   "source": [
    "**Задание 13. Замените вещественный тип данных в столбце `total_income` на целочисленный с помощью метода `astype()`.**"
   ]
  },
  {
   "cell_type": "code",
   "execution_count": 13,
   "id": "4c6dfd68",
   "metadata": {
    "deletable": false,
    "id": "920b65ad"
   },
   "outputs": [],
   "source": [
    "data['total_income'] = data['total_income'].astype(int)"
   ]
  },
  {
   "cell_type": "markdown",
   "id": "79d5454e",
   "metadata": {
    "deletable": false,
    "editable": false,
    "id": "80c420ba"
   },
   "source": [
    "### Обработка дубликатов"
   ]
  },
  {
   "cell_type": "markdown",
   "id": "5334e3f2",
   "metadata": {
    "deletable": false,
    "editable": false
   },
   "source": [
    "**Задание 14. Обработайте неявные дубликаты в столбце `education`. В этом столбце есть одни и те же значения, но записанные по-разному: с использованием заглавных и строчных букв. Приведите их к нижнему регистру. Проверьте остальные столбцы.**"
   ]
  },
  {
   "cell_type": "code",
   "execution_count": 14,
   "id": "7e328cc9",
   "metadata": {
    "deletable": false
   },
   "outputs": [],
   "source": [
    "data['education'] = data['education'].str.lower()"
   ]
  },
  {
   "cell_type": "markdown",
   "id": "178961c1",
   "metadata": {
    "deletable": false,
    "editable": false,
    "id": "dc587695"
   },
   "source": [
    "**Задание 15. Выведите на экран количество строк-дубликатов в данных. Если такие строки присутствуют, удалите их.**"
   ]
  },
  {
   "cell_type": "code",
   "execution_count": 15,
   "id": "64e30132",
   "metadata": {
    "deletable": false,
    "id": "3ee445e4",
    "outputId": "9684deba-1934-42d1-99e1-cda61740f822"
   },
   "outputs": [
    {
     "data": {
      "text/plain": [
       "71"
      ]
     },
     "execution_count": 15,
     "metadata": {},
     "output_type": "execute_result"
    }
   ],
   "source": [
    "data.duplicated().sum()"
   ]
  },
  {
   "cell_type": "code",
   "execution_count": 16,
   "id": "5d64cb67",
   "metadata": {
    "deletable": false,
    "id": "8575fe05"
   },
   "outputs": [],
   "source": [
    "data = data.drop_duplicates()"
   ]
  },
  {
   "cell_type": "markdown",
   "id": "2e209819",
   "metadata": {
    "deletable": false,
    "editable": false,
    "id": "9904cf55"
   },
   "source": [
    "### Категоризация данных"
   ]
  },
  {
   "cell_type": "markdown",
   "id": "e108a7ac",
   "metadata": {
    "deletable": false,
    "editable": false,
    "id": "72fcc8a2"
   },
   "source": [
    "**Задание 16. На основании диапазонов, указанных ниже, создайте в датафрейме `data` столбец `total_income_category` с категориями:**\n",
    "\n",
    "- 0–30000 — `'E'`;\n",
    "- 30001–50000 — `'D'`;\n",
    "- 50001–200000 — `'C'`;\n",
    "- 200001–1000000 — `'B'`;\n",
    "- 1000001 и выше — `'A'`.\n",
    "\n",
    "\n",
    "**Например, кредитополучателю с доходом 25000 нужно назначить категорию `'E'`, а клиенту, получающему 235000, — `'B'`. Используйте собственную функцию с именем `categorize_income()` и метод `apply()`.**"
   ]
  },
  {
   "cell_type": "code",
   "execution_count": 17,
   "id": "35b0008b",
   "metadata": {
    "deletable": false,
    "id": "e1771346"
   },
   "outputs": [],
   "source": [
    "def categorize_income(income):\n",
    "    try:\n",
    "        if 0 <= income <= 30000:\n",
    "            return 'E'\n",
    "        elif 30001 <= income <= 50000:\n",
    "            return 'D'\n",
    "        elif 50001 <= income <= 200000:\n",
    "            return 'C'\n",
    "        elif 200001 <= income <= 1000000:\n",
    "            return 'B'\n",
    "        elif income >= 1000001:\n",
    "            return 'A'\n",
    "    except:\n",
    "        pass"
   ]
  },
  {
   "cell_type": "code",
   "execution_count": 18,
   "id": "d9a04a96",
   "metadata": {
    "deletable": false,
    "id": "d5f3586d"
   },
   "outputs": [],
   "source": [
    "data['total_income_category'] = data['total_income'].apply(categorize_income)"
   ]
  },
  {
   "cell_type": "markdown",
   "id": "0654bfd1",
   "metadata": {
    "deletable": false,
    "editable": false,
    "id": "dde49b5c"
   },
   "source": [
    "**Задание 17. Выведите на экран перечень уникальных целей взятия кредита из столбца `purpose`.**"
   ]
  },
  {
   "cell_type": "code",
   "execution_count": 19,
   "id": "54c2927a",
   "metadata": {
    "deletable": false,
    "id": "f67ce9b3",
    "outputId": "673c12d9-7d7e-4ae0-9812-c622c89dd244"
   },
   "outputs": [
    {
     "data": {
      "text/plain": [
       "array(['покупка жилья', 'приобретение автомобиля',\n",
       "       'дополнительное образование', 'сыграть свадьбу',\n",
       "       'операции с жильем', 'образование', 'на проведение свадьбы',\n",
       "       'покупка жилья для семьи', 'покупка недвижимости',\n",
       "       'покупка коммерческой недвижимости', 'покупка жилой недвижимости',\n",
       "       'строительство собственной недвижимости', 'недвижимость',\n",
       "       'строительство недвижимости', 'на покупку подержанного автомобиля',\n",
       "       'на покупку своего автомобиля',\n",
       "       'операции с коммерческой недвижимостью',\n",
       "       'строительство жилой недвижимости', 'жилье',\n",
       "       'операции со своей недвижимостью', 'автомобили',\n",
       "       'заняться образованием', 'сделка с подержанным автомобилем',\n",
       "       'получение образования', 'автомобиль', 'свадьба',\n",
       "       'получение дополнительного образования', 'покупка своего жилья',\n",
       "       'операции с недвижимостью', 'получение высшего образования',\n",
       "       'свой автомобиль', 'сделка с автомобилем',\n",
       "       'профильное образование', 'высшее образование',\n",
       "       'покупка жилья для сдачи', 'на покупку автомобиля', 'ремонт жилью',\n",
       "       'заняться высшим образованием'], dtype=object)"
      ]
     },
     "execution_count": 19,
     "metadata": {},
     "output_type": "execute_result"
    }
   ],
   "source": [
    "data['purpose'].unique()"
   ]
  },
  {
   "cell_type": "markdown",
   "id": "5d29abc3",
   "metadata": {
    "deletable": false,
    "editable": false,
    "id": "85d0aef0"
   },
   "source": [
    "**Задание 18. Создайте функцию, которая на основании данных из столбца `purpose` сформирует новый столбец `purpose_category`, в который войдут следующие категории:**\n",
    "\n",
    "- `'операции с автомобилем'`,\n",
    "- `'операции с недвижимостью'`,\n",
    "- `'проведение свадьбы'`,\n",
    "- `'получение образования'`.\n",
    "\n",
    "**Например, если в столбце `purpose` находится подстрока `'на покупку автомобиля'`, то в столбце `purpose_category` должна появиться строка `'операции с автомобилем'`.**\n",
    "\n",
    "**Используйте собственную функцию с именем `categorize_purpose()` и метод `apply()`. Изучите данные в столбце `purpose` и определите, какие подстроки помогут вам правильно определить категорию.**"
   ]
  },
  {
   "cell_type": "code",
   "execution_count": 20,
   "id": "82c01403",
   "metadata": {
    "deletable": false,
    "id": "e149fab4"
   },
   "outputs": [],
   "source": [
    "def categorize_purpose(row):\n",
    "    try:\n",
    "        if 'автом' in row:\n",
    "            return 'операции с автомобилем'\n",
    "        elif 'жил' in row or 'недвиж' in row:\n",
    "            return 'операции с недвижимостью'\n",
    "        elif 'свад' in row:\n",
    "            return 'проведение свадьбы'\n",
    "        elif 'образов' in row:\n",
    "            return 'получение образования'\n",
    "    except:\n",
    "        return 'нет категории'"
   ]
  },
  {
   "cell_type": "code",
   "execution_count": 21,
   "id": "aa44fd67",
   "metadata": {
    "deletable": false,
    "id": "bf36e69b"
   },
   "outputs": [],
   "source": [
    "data['purpose_category'] = data['purpose'].apply(categorize_purpose)"
   ]
  },
  {
   "cell_type": "markdown",
   "id": "3717859b",
   "metadata": {
    "deletable": false,
    "editable": false,
    "id": "09b242bf"
   },
   "source": [
    "### Шаг 3. Исследуйте данные и ответьте на вопросы"
   ]
  },
  {
   "cell_type": "markdown",
   "id": "ebac199d",
   "metadata": {
    "deletable": false,
    "editable": false,
    "id": "c5d66278"
   },
   "source": [
    "#### 3.1 Есть ли зависимость между количеством детей и возвратом кредита в срок?"
   ]
  },
  {
   "cell_type": "code",
   "execution_count": 22,
   "id": "5cfa0e52",
   "metadata": {
    "deletable": false,
    "id": "2cacfc4a"
   },
   "outputs": [
    {
     "data": {
      "text/html": [
       "<div>\n",
       "<style scoped>\n",
       "    .dataframe tbody tr th:only-of-type {\n",
       "        vertical-align: middle;\n",
       "    }\n",
       "\n",
       "    .dataframe tbody tr th {\n",
       "        vertical-align: top;\n",
       "    }\n",
       "\n",
       "    .dataframe thead tr th {\n",
       "        text-align: left;\n",
       "    }\n",
       "\n",
       "    .dataframe thead tr:last-of-type th {\n",
       "        text-align: right;\n",
       "    }\n",
       "</style>\n",
       "<table border=\"1\" class=\"dataframe\">\n",
       "  <thead>\n",
       "    <tr>\n",
       "      <th></th>\n",
       "      <th>sum</th>\n",
       "      <th>count</th>\n",
       "      <th>mean</th>\n",
       "    </tr>\n",
       "    <tr>\n",
       "      <th></th>\n",
       "      <th>debt</th>\n",
       "      <th>debt</th>\n",
       "      <th>debt</th>\n",
       "    </tr>\n",
       "    <tr>\n",
       "      <th>children</th>\n",
       "      <th></th>\n",
       "      <th></th>\n",
       "      <th></th>\n",
       "    </tr>\n",
       "  </thead>\n",
       "  <tbody>\n",
       "    <tr>\n",
       "      <th>0</th>\n",
       "      <td>1063</td>\n",
       "      <td>14091</td>\n",
       "      <td>0.075438</td>\n",
       "    </tr>\n",
       "    <tr>\n",
       "      <th>1</th>\n",
       "      <td>444</td>\n",
       "      <td>4808</td>\n",
       "      <td>0.092346</td>\n",
       "    </tr>\n",
       "    <tr>\n",
       "      <th>2</th>\n",
       "      <td>194</td>\n",
       "      <td>2052</td>\n",
       "      <td>0.094542</td>\n",
       "    </tr>\n",
       "    <tr>\n",
       "      <th>3</th>\n",
       "      <td>27</td>\n",
       "      <td>330</td>\n",
       "      <td>0.081818</td>\n",
       "    </tr>\n",
       "    <tr>\n",
       "      <th>4</th>\n",
       "      <td>4</td>\n",
       "      <td>41</td>\n",
       "      <td>0.097561</td>\n",
       "    </tr>\n",
       "    <tr>\n",
       "      <th>5</th>\n",
       "      <td>0</td>\n",
       "      <td>9</td>\n",
       "      <td>0.000000</td>\n",
       "    </tr>\n",
       "  </tbody>\n",
       "</table>\n",
       "</div>"
      ],
      "text/plain": [
       "           sum  count      mean\n",
       "          debt   debt      debt\n",
       "children                       \n",
       "0         1063  14091  0.075438\n",
       "1          444   4808  0.092346\n",
       "2          194   2052  0.094542\n",
       "3           27    330  0.081818\n",
       "4            4     41  0.097561\n",
       "5            0      9  0.000000"
      ]
     },
     "metadata": {},
     "output_type": "display_data"
    },
    {
     "data": {
      "text/plain": [
       "<AxesSubplot:xlabel='children', ylabel='debt'>"
      ]
     },
     "execution_count": 22,
     "metadata": {},
     "output_type": "execute_result"
    },
    {
     "data": {
      "image/png": "[encoded data removed]",
      "text/plain": [
       "<Figure size 648x360 with 1 Axes>"
      ]
     },
     "metadata": {
      "needs_background": "light"
     },
     "output_type": "display_data"
    }
   ],
   "source": [
    "# с помощью сводной таблицы и столбчатой диаграммы покажем процент невозврата кредита в срок в зависимости от количества детей\n",
    "data_pivot = data.pivot_table(index='children', values='debt', aggfunc=['sum', 'count', 'mean'])\n",
    "display(data_pivot)\n",
    "\n",
    "from matplotlib import pyplot as plt\n",
    "plt.figure(figsize=(9,5))\n",
    "seaborn.barplot(data = data, x='children', y='debt', ci=None)\n",
    "\n",
    "\n",
    "\n"
   ]
  },
  {
   "cell_type": "markdown",
   "id": "ca8a00c2",
   "metadata": {
    "deletable": false,
    "id": "3a6b99ec"
   },
   "source": [
    "**Вывод:** Исходя из результатов, представленных выше, можно сделать вывод о том, что наиболее надёжные заёмщики те, кто не имеет детей. Семьи, в которых есть 1 или 2 ребёнка, имют почти одинаковый процент невозврата. Для случаев, когда детей больше 2, я считаю, нужно больше данных. Но скорее всего закономерность будет такая: чем больше детей - тем больший процент просрочек по платежам. Дети - это большая нагрузка на кошелёк родителей."
   ]
  },
  {
   "cell_type": "markdown",
   "id": "7b3a4b8d",
   "metadata": {
    "deletable": false,
    "editable": false,
    "id": "97be82ca"
   },
   "source": [
    "#### 3.2 Есть ли зависимость между семейным положением и возвратом кредита в срок?"
   ]
  },
  {
   "cell_type": "code",
   "execution_count": 23,
   "id": "7bae937e",
   "metadata": {
    "deletable": false,
    "id": "dc3f7ee8"
   },
   "outputs": [
    {
     "data": {
      "text/html": [
       "<div>\n",
       "<style scoped>\n",
       "    .dataframe tbody tr th:only-of-type {\n",
       "        vertical-align: middle;\n",
       "    }\n",
       "\n",
       "    .dataframe tbody tr th {\n",
       "        vertical-align: top;\n",
       "    }\n",
       "\n",
       "    .dataframe thead tr th {\n",
       "        text-align: left;\n",
       "    }\n",
       "\n",
       "    .dataframe thead tr:last-of-type th {\n",
       "        text-align: right;\n",
       "    }\n",
       "</style>\n",
       "<table border=\"1\" class=\"dataframe\">\n",
       "  <thead>\n",
       "    <tr>\n",
       "      <th></th>\n",
       "      <th>sum</th>\n",
       "      <th>count</th>\n",
       "      <th>mean</th>\n",
       "    </tr>\n",
       "    <tr>\n",
       "      <th></th>\n",
       "      <th>debt</th>\n",
       "      <th>debt</th>\n",
       "      <th>debt</th>\n",
       "    </tr>\n",
       "    <tr>\n",
       "      <th>family_status</th>\n",
       "      <th></th>\n",
       "      <th></th>\n",
       "      <th></th>\n",
       "    </tr>\n",
       "  </thead>\n",
       "  <tbody>\n",
       "    <tr>\n",
       "      <th>Не женат / не замужем</th>\n",
       "      <td>273</td>\n",
       "      <td>2796</td>\n",
       "      <td>0.097639</td>\n",
       "    </tr>\n",
       "    <tr>\n",
       "      <th>в разводе</th>\n",
       "      <td>84</td>\n",
       "      <td>1189</td>\n",
       "      <td>0.070648</td>\n",
       "    </tr>\n",
       "    <tr>\n",
       "      <th>вдовец / вдова</th>\n",
       "      <td>63</td>\n",
       "      <td>951</td>\n",
       "      <td>0.066246</td>\n",
       "    </tr>\n",
       "    <tr>\n",
       "      <th>гражданский брак</th>\n",
       "      <td>385</td>\n",
       "      <td>4134</td>\n",
       "      <td>0.093130</td>\n",
       "    </tr>\n",
       "    <tr>\n",
       "      <th>женат / замужем</th>\n",
       "      <td>927</td>\n",
       "      <td>12261</td>\n",
       "      <td>0.075606</td>\n",
       "    </tr>\n",
       "  </tbody>\n",
       "</table>\n",
       "</div>"
      ],
      "text/plain": [
       "                       sum  count      mean\n",
       "                      debt   debt      debt\n",
       "family_status                              \n",
       "Не женат / не замужем  273   2796  0.097639\n",
       "в разводе               84   1189  0.070648\n",
       "вдовец / вдова          63    951  0.066246\n",
       "гражданский брак       385   4134  0.093130\n",
       "женат / замужем        927  12261  0.075606"
      ]
     },
     "metadata": {},
     "output_type": "display_data"
    },
    {
     "data": {
      "text/plain": [
       "<AxesSubplot:xlabel='family_status', ylabel='debt'>"
      ]
     },
     "execution_count": 23,
     "metadata": {},
     "output_type": "execute_result"
    },
    {
     "data": {
      "image/png": "[encoded data removed]",
      "text/plain": [
       "<Figure size 648x360 with 1 Axes>"
      ]
     },
     "metadata": {
      "needs_background": "light"
     },
     "output_type": "display_data"
    }
   ],
   "source": [
    "family_st_table = data.pivot_table(index='family_status', values='debt', aggfunc=['sum', 'count', 'mean'])\n",
    "display(family_st_table)\n",
    "\n",
    "\n",
    "plt.figure(figsize=(9,5))\n",
    "seaborn.barplot(data = data, x='family_status', y='debt', ci=None)\n",
    "\n",
    "\n",
    "\n",
    "\n"
   ]
  },
  {
   "cell_type": "markdown",
   "id": "7349e819",
   "metadata": {
    "deletable": false,
    "id": "1cef7837"
   },
   "source": [
    "**Вывод:** Наибольшую долю просрочек имеют заёмщики, не состоящие в браке, и заёмщики, состоящие в браке гражданском. Наименьшая доля просрочек по кредиту у овдовевших супругов."
   ]
  },
  {
   "cell_type": "markdown",
   "id": "84838c9e",
   "metadata": {
    "deletable": false,
    "editable": false,
    "id": "1e8b2fca"
   },
   "source": [
    "#### 3.3 Есть ли зависимость между уровнем дохода и возвратом кредита в срок?"
   ]
  },
  {
   "cell_type": "code",
   "execution_count": 24,
   "id": "8b0ab2d2",
   "metadata": {
    "deletable": false,
    "id": "cd7e3720"
   },
   "outputs": [
    {
     "data": {
      "text/html": [
       "<div>\n",
       "<style scoped>\n",
       "    .dataframe tbody tr th:only-of-type {\n",
       "        vertical-align: middle;\n",
       "    }\n",
       "\n",
       "    .dataframe tbody tr th {\n",
       "        vertical-align: top;\n",
       "    }\n",
       "\n",
       "    .dataframe thead tr th {\n",
       "        text-align: left;\n",
       "    }\n",
       "\n",
       "    .dataframe thead tr:last-of-type th {\n",
       "        text-align: right;\n",
       "    }\n",
       "</style>\n",
       "<table border=\"1\" class=\"dataframe\">\n",
       "  <thead>\n",
       "    <tr>\n",
       "      <th></th>\n",
       "      <th>sum</th>\n",
       "      <th>count</th>\n",
       "      <th>mean</th>\n",
       "    </tr>\n",
       "    <tr>\n",
       "      <th></th>\n",
       "      <th>debt</th>\n",
       "      <th>debt</th>\n",
       "      <th>debt</th>\n",
       "    </tr>\n",
       "    <tr>\n",
       "      <th>total_income_category</th>\n",
       "      <th></th>\n",
       "      <th></th>\n",
       "      <th></th>\n",
       "    </tr>\n",
       "  </thead>\n",
       "  <tbody>\n",
       "    <tr>\n",
       "      <th>A</th>\n",
       "      <td>2</td>\n",
       "      <td>25</td>\n",
       "      <td>0.080000</td>\n",
       "    </tr>\n",
       "    <tr>\n",
       "      <th>B</th>\n",
       "      <td>354</td>\n",
       "      <td>5014</td>\n",
       "      <td>0.070602</td>\n",
       "    </tr>\n",
       "    <tr>\n",
       "      <th>C</th>\n",
       "      <td>1353</td>\n",
       "      <td>15921</td>\n",
       "      <td>0.084982</td>\n",
       "    </tr>\n",
       "    <tr>\n",
       "      <th>D</th>\n",
       "      <td>21</td>\n",
       "      <td>349</td>\n",
       "      <td>0.060172</td>\n",
       "    </tr>\n",
       "    <tr>\n",
       "      <th>E</th>\n",
       "      <td>2</td>\n",
       "      <td>22</td>\n",
       "      <td>0.090909</td>\n",
       "    </tr>\n",
       "  </tbody>\n",
       "</table>\n",
       "</div>"
      ],
      "text/plain": [
       "                        sum  count      mean\n",
       "                       debt   debt      debt\n",
       "total_income_category                       \n",
       "A                         2     25  0.080000\n",
       "B                       354   5014  0.070602\n",
       "C                      1353  15921  0.084982\n",
       "D                        21    349  0.060172\n",
       "E                         2     22  0.090909"
      ]
     },
     "metadata": {},
     "output_type": "display_data"
    },
    {
     "data": {
      "text/plain": [
       "<AxesSubplot:xlabel='total_income_category', ylabel='debt'>"
      ]
     },
     "execution_count": 24,
     "metadata": {},
     "output_type": "execute_result"
    },
    {
     "data": {
      "image/png": "[encoded data removed]",
      "text/plain": [
       "<Figure size 648x360 with 1 Axes>"
      ]
     },
     "metadata": {
      "needs_background": "light"
     },
     "output_type": "display_data"
    }
   ],
   "source": [
    "income_pivot = data.pivot_table(index=['total_income_category'], values='debt', aggfunc=['sum', 'count', 'mean'])\n",
    "display(income_pivot)\n",
    "\n",
    "plt.figure(figsize=(9,5))\n",
    "seaborn.barplot(data = data, x='total_income_category', y='debt', ci=None)"
   ]
  },
  {
   "cell_type": "markdown",
   "id": "df655900",
   "metadata": {
    "deletable": false,
    "id": "e8593def"
   },
   "source": [
    "**Вывод:** Из двух самых крупных категорий, B и C, меньшая доля просрочек у людей, входящих в группу B. То есть люди, имеющие доход более 200 000 руб с высокой вероятностью погасят кредит вовремя. Заёмщики, которые относятся к группе С с доходом от 50 до 200 тысяч рублей имеют больший процент просрочек. По остальным категриям данных недостаточно для корректных выводов. Предоположительно, чем меньше у человека доход, тем больше вероятность неуплаты долга вовремя. \n",
    "\n",
    "        "
   ]
  },
  {
   "cell_type": "markdown",
   "id": "fb92420a",
   "metadata": {
    "deletable": false,
    "editable": false,
    "id": "99ecbd1f"
   },
   "source": [
    "#### 3.4 Как разные цели кредита влияют на его возврат в срок?"
   ]
  },
  {
   "cell_type": "code",
   "execution_count": 25,
   "id": "3a561c4b",
   "metadata": {
    "deletable": false,
    "id": "2b687290"
   },
   "outputs": [
    {
     "data": {
      "text/html": [
       "<div>\n",
       "<style scoped>\n",
       "    .dataframe tbody tr th:only-of-type {\n",
       "        vertical-align: middle;\n",
       "    }\n",
       "\n",
       "    .dataframe tbody tr th {\n",
       "        vertical-align: top;\n",
       "    }\n",
       "\n",
       "    .dataframe thead tr th {\n",
       "        text-align: left;\n",
       "    }\n",
       "\n",
       "    .dataframe thead tr:last-of-type th {\n",
       "        text-align: right;\n",
       "    }\n",
       "</style>\n",
       "<table border=\"1\" class=\"dataframe\">\n",
       "  <thead>\n",
       "    <tr>\n",
       "      <th></th>\n",
       "      <th>sum</th>\n",
       "      <th>count</th>\n",
       "      <th>mean</th>\n",
       "    </tr>\n",
       "    <tr>\n",
       "      <th></th>\n",
       "      <th>debt</th>\n",
       "      <th>debt</th>\n",
       "      <th>debt</th>\n",
       "    </tr>\n",
       "    <tr>\n",
       "      <th>purpose_category</th>\n",
       "      <th></th>\n",
       "      <th></th>\n",
       "      <th></th>\n",
       "    </tr>\n",
       "  </thead>\n",
       "  <tbody>\n",
       "    <tr>\n",
       "      <th>операции с автомобилем</th>\n",
       "      <td>400</td>\n",
       "      <td>4279</td>\n",
       "      <td>0.093480</td>\n",
       "    </tr>\n",
       "    <tr>\n",
       "      <th>операции с недвижимостью</th>\n",
       "      <td>780</td>\n",
       "      <td>10751</td>\n",
       "      <td>0.072551</td>\n",
       "    </tr>\n",
       "    <tr>\n",
       "      <th>получение образования</th>\n",
       "      <td>369</td>\n",
       "      <td>3988</td>\n",
       "      <td>0.092528</td>\n",
       "    </tr>\n",
       "    <tr>\n",
       "      <th>проведение свадьбы</th>\n",
       "      <td>183</td>\n",
       "      <td>2313</td>\n",
       "      <td>0.079118</td>\n",
       "    </tr>\n",
       "  </tbody>\n",
       "</table>\n",
       "</div>"
      ],
      "text/plain": [
       "                          sum  count      mean\n",
       "                         debt   debt      debt\n",
       "purpose_category                              \n",
       "операции с автомобилем    400   4279  0.093480\n",
       "операции с недвижимостью  780  10751  0.072551\n",
       "получение образования     369   3988  0.092528\n",
       "проведение свадьбы        183   2313  0.079118"
      ]
     },
     "metadata": {},
     "output_type": "display_data"
    },
    {
     "data": {
      "text/plain": [
       "<AxesSubplot:xlabel='purpose_category', ylabel='debt'>"
      ]
     },
     "execution_count": 25,
     "metadata": {},
     "output_type": "execute_result"
    },
    {
     "data": {
      "image/png": "[encoded data removed]",
      "text/plain": [
       "<Figure size 648x360 with 1 Axes>"
      ]
     },
     "metadata": {
      "needs_background": "light"
     },
     "output_type": "display_data"
    }
   ],
   "source": [
    "purpose_pivot = data.pivot_table(index=['purpose_category'], values='debt', aggfunc=['sum', 'count', 'mean'])\n",
    "display(purpose_pivot)\n",
    "\n",
    "plt.figure(figsize=(9,5))\n",
    "plt.xticks(rotation = 10)\n",
    "seaborn.barplot(data = data, x='purpose_category', y='debt', ci=None)"
   ]
  },
  {
   "cell_type": "markdown",
   "id": "e1c4fd48",
   "metadata": {
    "deletable": false,
    "id": "b4bb2ce6"
   },
   "source": [
    "**Вывод:** Самые надежные заемщики - те, кто берут кредиты на операции с недвижимостью. Хуже всего возвращают деньги те, кто берёт автокредит и кредит на образование."
   ]
  },
  {
   "cell_type": "markdown",
   "id": "8b8e008e",
   "metadata": {
    "deletable": false,
    "editable": false,
    "id": "09c3ac4c"
   },
   "source": [
    "#### 3.5 Приведите возможные причины появления пропусков в исходных данных."
   ]
  },
  {
   "cell_type": "markdown",
   "id": "efb912a7",
   "metadata": {
    "deletable": false,
    "id": "9da2ceda"
   },
   "source": [
    "*Ответ:* Пользователь мог не указать данные о себе. Также система может дать сбой. Иногда пропуски оставляют умышленно, расчитывая на автозаполнение."
   ]
  },
  {
   "cell_type": "markdown",
   "id": "19bdb676",
   "metadata": {
    "deletable": false,
    "editable": false,
    "id": "7b0487d6"
   },
   "source": [
    "#### 3.6 Объясните, почему заполнить пропуски медианным значением — лучшее решение для количественных переменных."
   ]
  },
  {
   "cell_type": "markdown",
   "id": "5c19e657",
   "metadata": {
    "deletable": false,
    "id": "7ecf2b8e"
   },
   "source": [
    "*Ответ:* Среднее значение некорректно характеризует данные, когда некоторые значения сильно выделяются среди большинства.  Когда в выборке присутствуют выдающиеся значения (30 000 против 1 000 000), лучше использовать медиану. "
   ]
  },
  {
   "cell_type": "markdown",
   "id": "ef31e9db",
   "metadata": {
    "deletable": false,
    "editable": false,
    "id": "6db5255a"
   },
   "source": [
    "### Шаг 4: общий вывод."
   ]
  },
  {
   "cell_type": "markdown",
   "id": "e866bb12",
   "metadata": {
    "deletable": false,
    "id": "bad65432"
   },
   "source": [
    "Исходя из результатов исследования можно сделать вывод о том, что надежнее выдавать кредит заёмщику, который выглядит так: семейный человек(или вдовец) без детей, имеющий доход выше среднего и берущий кредит на операции с недвижимостью. К менее надёжным относятся люди с детьми, с доходом ниже среднего, состоящие в гражданском браке или не состоящие в браке вовсе, а также люди, берущие кредит на автомобиль. \n",
    "Но наибольшее влияние на вероятность просрочки оказывают семейное положение и уровень дохода, банку стоит обращать на это внимание при выдаче займа.\n"
   ]
  }
 ],
 "metadata": {
  "ExecuteTimeLog": [
   {
    "duration": 50,
    "start_time": "2022-11-12T13:25:18.193Z"
   },
   {
    "duration": 490,
    "start_time": "2022-11-12T13:25:30.477Z"
   },
   {
    "duration": 23,
    "start_time": "2022-11-12T13:25:30.970Z"
   },
   {
    "duration": 113,
    "start_time": "2022-11-12T13:25:30.996Z"
   },
   {
    "duration": 25,
    "start_time": "2022-11-12T13:25:31.112Z"
   },
   {
    "duration": 63,
    "start_time": "2022-11-12T13:25:31.139Z"
   },
   {
    "duration": 33,
    "start_time": "2022-11-12T13:25:31.204Z"
   },
   {
    "duration": 46,
    "start_time": "2022-11-12T13:25:31.238Z"
   },
   {
    "duration": 47,
    "start_time": "2022-11-12T13:25:31.286Z"
   },
   {
    "duration": 41,
    "start_time": "2022-11-12T13:25:31.335Z"
   },
   {
    "duration": 30,
    "start_time": "2022-11-12T13:25:31.380Z"
   },
   {
    "duration": 84,
    "start_time": "2022-11-12T13:25:31.412Z"
   },
   {
    "duration": 42,
    "start_time": "2022-11-12T13:25:31.497Z"
   },
   {
    "duration": 29,
    "start_time": "2022-11-12T13:25:31.541Z"
   },
   {
    "duration": 22,
    "start_time": "2022-11-12T13:25:31.572Z"
   },
   {
    "duration": 26,
    "start_time": "2022-11-12T13:25:31.596Z"
   },
   {
    "duration": 115,
    "start_time": "2022-11-12T13:25:31.624Z"
   },
   {
    "duration": 5,
    "start_time": "2022-11-12T13:25:31.740Z"
   },
   {
    "duration": 27,
    "start_time": "2022-11-12T13:25:31.746Z"
   },
   {
    "duration": 10,
    "start_time": "2022-11-12T13:25:31.775Z"
   },
   {
    "duration": 10,
    "start_time": "2022-11-12T13:25:31.786Z"
   },
   {
    "duration": 13,
    "start_time": "2022-11-12T13:25:31.798Z"
   },
   {
    "duration": 18,
    "start_time": "2022-11-12T13:25:31.813Z"
   },
   {
    "duration": 10,
    "start_time": "2022-11-12T13:25:31.832Z"
   },
   {
    "duration": 9,
    "start_time": "2022-11-12T13:25:31.843Z"
   },
   {
    "duration": 7,
    "start_time": "2022-11-12T13:25:31.853Z"
   },
   {
    "duration": 53,
    "start_time": "2022-11-12T13:37:10.003Z"
   },
   {
    "duration": 65,
    "start_time": "2022-11-12T13:37:21.716Z"
   },
   {
    "duration": 20,
    "start_time": "2022-11-12T13:37:54.252Z"
   },
   {
    "duration": 78,
    "start_time": "2022-11-12T13:38:07.690Z"
   },
   {
    "duration": 21,
    "start_time": "2022-11-12T13:38:14.116Z"
   },
   {
    "duration": 24,
    "start_time": "2022-11-12T13:38:25.260Z"
   },
   {
    "duration": 22,
    "start_time": "2022-11-12T13:38:34.766Z"
   },
   {
    "duration": 22,
    "start_time": "2022-11-12T13:38:38.788Z"
   },
   {
    "duration": 24,
    "start_time": "2022-11-12T13:39:04.953Z"
   },
   {
    "duration": 21,
    "start_time": "2022-11-12T13:39:09.090Z"
   },
   {
    "duration": 1434,
    "start_time": "2022-11-12T13:40:43.223Z"
   },
   {
    "duration": 25,
    "start_time": "2022-11-12T13:40:54.241Z"
   },
   {
    "duration": 28,
    "start_time": "2022-11-12T13:41:04.597Z"
   },
   {
    "duration": 28,
    "start_time": "2022-11-12T13:44:32.390Z"
   },
   {
    "duration": 34,
    "start_time": "2022-11-12T13:44:47.767Z"
   },
   {
    "duration": 29,
    "start_time": "2022-11-12T13:45:00.704Z"
   },
   {
    "duration": 321,
    "start_time": "2022-11-12T13:45:23.687Z"
   },
   {
    "duration": 26,
    "start_time": "2022-11-12T13:45:42.786Z"
   },
   {
    "duration": 30,
    "start_time": "2022-11-12T13:46:23.111Z"
   },
   {
    "duration": 31,
    "start_time": "2022-11-12T13:46:34.574Z"
   },
   {
    "duration": 102,
    "start_time": "2022-11-12T14:00:06.253Z"
   },
   {
    "duration": 1318,
    "start_time": "2022-11-12T14:00:13.238Z"
   },
   {
    "duration": 400,
    "start_time": "2022-11-12T14:00:29.719Z"
   },
   {
    "duration": 130,
    "start_time": "2022-11-12T14:00:45.487Z"
   },
   {
    "duration": 140,
    "start_time": "2022-11-12T14:22:31.222Z"
   },
   {
    "duration": 22,
    "start_time": "2022-11-12T14:24:43.973Z"
   },
   {
    "duration": 26,
    "start_time": "2022-11-12T14:24:51.765Z"
   },
   {
    "duration": 165,
    "start_time": "2022-11-12T14:25:43.789Z"
   },
   {
    "duration": 154,
    "start_time": "2022-11-12T14:28:01.544Z"
   },
   {
    "duration": 159,
    "start_time": "2022-11-12T14:28:06.225Z"
   },
   {
    "duration": 458,
    "start_time": "2022-11-12T14:29:00.654Z"
   },
   {
    "duration": 371,
    "start_time": "2022-11-12T14:29:13.040Z"
   },
   {
    "duration": 156,
    "start_time": "2022-11-12T14:30:21.015Z"
   },
   {
    "duration": 208,
    "start_time": "2022-11-12T14:30:27.406Z"
   },
   {
    "duration": 27,
    "start_time": "2022-11-12T14:30:36.325Z"
   },
   {
    "duration": 30,
    "start_time": "2022-11-12T14:31:15.323Z"
   },
   {
    "duration": 29,
    "start_time": "2022-11-12T14:31:23.002Z"
   },
   {
    "duration": 98,
    "start_time": "2022-11-12T14:31:47.441Z"
   },
   {
    "duration": 126,
    "start_time": "2022-11-12T14:31:59.616Z"
   },
   {
    "duration": 76,
    "start_time": "2022-11-12T14:32:20.914Z"
   },
   {
    "duration": 30,
    "start_time": "2022-11-12T14:32:27.376Z"
   },
   {
    "duration": 37,
    "start_time": "2022-11-12T14:33:14.319Z"
   },
   {
    "duration": 39,
    "start_time": "2022-11-12T14:33:19.085Z"
   },
   {
    "duration": 35,
    "start_time": "2022-11-12T14:33:22.538Z"
   },
   {
    "duration": 36,
    "start_time": "2022-11-12T14:33:25.954Z"
   },
   {
    "duration": 30,
    "start_time": "2022-11-12T14:33:53.930Z"
   },
   {
    "duration": 35,
    "start_time": "2022-11-12T14:37:00.716Z"
   },
   {
    "duration": 25,
    "start_time": "2022-11-12T14:37:16.314Z"
   },
   {
    "duration": 30,
    "start_time": "2022-11-12T14:38:16.060Z"
   },
   {
    "duration": 373,
    "start_time": "2022-11-12T14:59:44.639Z"
   },
   {
    "duration": 146,
    "start_time": "2022-11-12T14:59:53.058Z"
   },
   {
    "duration": 67,
    "start_time": "2022-11-12T18:46:25.805Z"
   },
   {
    "duration": 728,
    "start_time": "2022-11-12T18:46:35.254Z"
   },
   {
    "duration": 34,
    "start_time": "2022-11-12T18:46:35.984Z"
   },
   {
    "duration": 20,
    "start_time": "2022-11-12T18:46:36.020Z"
   },
   {
    "duration": 36,
    "start_time": "2022-11-12T18:46:36.043Z"
   },
   {
    "duration": 63,
    "start_time": "2022-11-12T18:46:36.082Z"
   },
   {
    "duration": 20,
    "start_time": "2022-11-12T18:46:36.147Z"
   },
   {
    "duration": 28,
    "start_time": "2022-11-12T18:46:36.171Z"
   },
   {
    "duration": 8,
    "start_time": "2022-11-12T18:46:36.201Z"
   },
   {
    "duration": 11,
    "start_time": "2022-11-12T18:46:36.211Z"
   },
   {
    "duration": 5,
    "start_time": "2022-11-12T18:46:36.226Z"
   },
   {
    "duration": 62,
    "start_time": "2022-11-12T18:46:36.233Z"
   },
   {
    "duration": 11,
    "start_time": "2022-11-12T18:46:36.298Z"
   },
   {
    "duration": 11,
    "start_time": "2022-11-12T18:46:36.312Z"
   },
   {
    "duration": 34,
    "start_time": "2022-11-12T18:46:36.325Z"
   },
   {
    "duration": 50,
    "start_time": "2022-11-12T18:46:36.360Z"
   },
   {
    "duration": 20,
    "start_time": "2022-11-12T18:46:36.413Z"
   },
   {
    "duration": 5,
    "start_time": "2022-11-12T18:46:36.435Z"
   },
   {
    "duration": 27,
    "start_time": "2022-11-12T18:46:36.443Z"
   },
   {
    "duration": 21,
    "start_time": "2022-11-12T18:46:36.472Z"
   },
   {
    "duration": 5,
    "start_time": "2022-11-12T18:46:36.495Z"
   },
   {
    "duration": 23,
    "start_time": "2022-11-12T18:46:36.501Z"
   },
   {
    "duration": 1469,
    "start_time": "2022-11-12T18:46:36.526Z"
   },
   {
    "duration": 235,
    "start_time": "2022-11-12T18:46:37.997Z"
   },
   {
    "duration": 58,
    "start_time": "2022-11-12T18:46:38.234Z"
   },
   {
    "duration": 8,
    "start_time": "2022-11-12T18:46:38.294Z"
   },
   {
    "duration": 194,
    "start_time": "2022-11-12T18:47:36.460Z"
   },
   {
    "duration": 34,
    "start_time": "2022-11-12T18:48:38.487Z"
   },
   {
    "duration": 43,
    "start_time": "2022-11-12T18:48:49.957Z"
   },
   {
    "duration": 174,
    "start_time": "2022-11-12T18:49:16.775Z"
   },
   {
    "duration": 78,
    "start_time": "2022-11-12T18:50:50.608Z"
   },
   {
    "duration": 223,
    "start_time": "2022-11-12T18:51:00.508Z"
   },
   {
    "duration": 240,
    "start_time": "2022-11-12T18:52:03.341Z"
   },
   {
    "duration": 390,
    "start_time": "2022-11-12T18:53:31.805Z"
   },
   {
    "duration": 202,
    "start_time": "2022-11-12T18:53:41.736Z"
   },
   {
    "duration": 44,
    "start_time": "2022-11-12T19:08:19.932Z"
   },
   {
    "duration": 42,
    "start_time": "2022-11-12T19:09:35.080Z"
   },
   {
    "duration": 228,
    "start_time": "2022-11-12T19:11:07.976Z"
   },
   {
    "duration": 347,
    "start_time": "2022-11-12T19:11:14.748Z"
   },
   {
    "duration": 13,
    "start_time": "2022-11-12T19:13:30.803Z"
   },
   {
    "duration": 213,
    "start_time": "2022-11-12T19:13:36.998Z"
   },
   {
    "duration": 598,
    "start_time": "2022-11-12T19:37:04.416Z"
   },
   {
    "duration": 26,
    "start_time": "2022-11-12T19:37:05.016Z"
   },
   {
    "duration": 27,
    "start_time": "2022-11-12T19:37:05.053Z"
   },
   {
    "duration": 17,
    "start_time": "2022-11-12T19:37:05.082Z"
   },
   {
    "duration": 60,
    "start_time": "2022-11-12T19:37:05.101Z"
   },
   {
    "duration": 6,
    "start_time": "2022-11-12T19:37:05.164Z"
   },
   {
    "duration": 44,
    "start_time": "2022-11-12T19:37:05.173Z"
   },
   {
    "duration": 14,
    "start_time": "2022-11-12T19:37:05.218Z"
   },
   {
    "duration": 18,
    "start_time": "2022-11-12T19:37:05.234Z"
   },
   {
    "duration": 21,
    "start_time": "2022-11-12T19:37:05.259Z"
   },
   {
    "duration": 46,
    "start_time": "2022-11-12T19:37:05.283Z"
   },
   {
    "duration": 12,
    "start_time": "2022-11-12T19:37:05.331Z"
   },
   {
    "duration": 4,
    "start_time": "2022-11-12T19:37:05.360Z"
   },
   {
    "duration": 27,
    "start_time": "2022-11-12T19:37:05.367Z"
   },
   {
    "duration": 39,
    "start_time": "2022-11-12T19:37:05.396Z"
   },
   {
    "duration": 24,
    "start_time": "2022-11-12T19:37:05.436Z"
   },
   {
    "duration": 9,
    "start_time": "2022-11-12T19:37:05.462Z"
   },
   {
    "duration": 21,
    "start_time": "2022-11-12T19:37:05.473Z"
   },
   {
    "duration": 11,
    "start_time": "2022-11-12T19:37:05.497Z"
   },
   {
    "duration": 7,
    "start_time": "2022-11-12T19:37:05.510Z"
   },
   {
    "duration": 17,
    "start_time": "2022-11-12T19:37:05.519Z"
   },
   {
    "duration": 1098,
    "start_time": "2022-11-12T19:37:05.539Z"
   },
   {
    "duration": 208,
    "start_time": "2022-11-12T19:37:06.639Z"
   },
   {
    "duration": 189,
    "start_time": "2022-11-12T19:37:06.856Z"
   },
   {
    "duration": 191,
    "start_time": "2022-11-12T19:37:07.050Z"
   },
   {
    "duration": 511,
    "start_time": "2022-11-12T22:18:29.339Z"
   },
   {
    "duration": 31,
    "start_time": "2022-11-12T22:18:29.853Z"
   },
   {
    "duration": 63,
    "start_time": "2022-11-12T22:18:29.886Z"
   },
   {
    "duration": 16,
    "start_time": "2022-11-12T22:18:29.954Z"
   },
   {
    "duration": 56,
    "start_time": "2022-11-12T22:18:29.973Z"
   },
   {
    "duration": 5,
    "start_time": "2022-11-12T22:18:30.032Z"
   },
   {
    "duration": 24,
    "start_time": "2022-11-12T22:18:30.039Z"
   },
   {
    "duration": 18,
    "start_time": "2022-11-12T22:18:30.065Z"
   },
   {
    "duration": 24,
    "start_time": "2022-11-12T22:18:30.085Z"
   },
   {
    "duration": 21,
    "start_time": "2022-11-12T22:18:30.111Z"
   },
   {
    "duration": 60,
    "start_time": "2022-11-12T22:18:30.134Z"
   },
   {
    "duration": 12,
    "start_time": "2022-11-12T22:18:30.197Z"
   },
   {
    "duration": 32,
    "start_time": "2022-11-12T22:18:30.211Z"
   },
   {
    "duration": 40,
    "start_time": "2022-11-12T22:18:30.246Z"
   },
   {
    "duration": 28,
    "start_time": "2022-11-12T22:18:30.288Z"
   },
   {
    "duration": 27,
    "start_time": "2022-11-12T22:18:30.318Z"
   },
   {
    "duration": 10,
    "start_time": "2022-11-12T22:18:30.346Z"
   },
   {
    "duration": 47,
    "start_time": "2022-11-12T22:18:30.357Z"
   },
   {
    "duration": 39,
    "start_time": "2022-11-12T22:18:30.406Z"
   },
   {
    "duration": 50,
    "start_time": "2022-11-12T22:18:30.448Z"
   },
   {
    "duration": 35,
    "start_time": "2022-11-12T22:18:30.501Z"
   },
   {
    "duration": 1028,
    "start_time": "2022-11-12T22:18:30.538Z"
   },
   {
    "duration": 312,
    "start_time": "2022-11-12T22:18:31.568Z"
   },
   {
    "duration": 155,
    "start_time": "2022-11-12T22:18:31.884Z"
   },
   {
    "duration": 194,
    "start_time": "2022-11-12T22:18:32.047Z"
   },
   {
    "duration": 5,
    "start_time": "2022-11-12T22:26:42.485Z"
   },
   {
    "duration": 195,
    "start_time": "2022-11-12T22:26:55.366Z"
   },
   {
    "duration": 126,
    "start_time": "2022-11-12T22:27:04.644Z"
   },
   {
    "duration": 49,
    "start_time": "2022-11-13T09:45:18.695Z"
   },
   {
    "duration": 1457,
    "start_time": "2022-11-13T09:46:35.080Z"
   },
   {
    "duration": 21,
    "start_time": "2022-11-13T09:46:36.539Z"
   },
   {
    "duration": 15,
    "start_time": "2022-11-13T09:46:36.562Z"
   },
   {
    "duration": 10,
    "start_time": "2022-11-13T09:46:36.579Z"
   },
   {
    "duration": 47,
    "start_time": "2022-11-13T09:46:36.591Z"
   },
   {
    "duration": 4,
    "start_time": "2022-11-13T09:46:36.640Z"
   },
   {
    "duration": 14,
    "start_time": "2022-11-13T09:46:36.646Z"
   },
   {
    "duration": 5,
    "start_time": "2022-11-13T09:46:36.662Z"
   },
   {
    "duration": 9,
    "start_time": "2022-11-13T09:46:36.669Z"
   },
   {
    "duration": 5,
    "start_time": "2022-11-13T09:46:36.680Z"
   },
   {
    "duration": 64,
    "start_time": "2022-11-13T09:46:36.686Z"
   },
   {
    "duration": 10,
    "start_time": "2022-11-13T09:46:36.753Z"
   },
   {
    "duration": 4,
    "start_time": "2022-11-13T09:46:36.764Z"
   },
   {
    "duration": 15,
    "start_time": "2022-11-13T09:46:36.770Z"
   },
   {
    "duration": 41,
    "start_time": "2022-11-13T09:46:36.787Z"
   },
   {
    "duration": 19,
    "start_time": "2022-11-13T09:46:36.829Z"
   },
   {
    "duration": 3,
    "start_time": "2022-11-13T09:46:36.850Z"
   },
   {
    "duration": 12,
    "start_time": "2022-11-13T09:46:36.855Z"
   },
   {
    "duration": 10,
    "start_time": "2022-11-13T09:46:36.869Z"
   },
   {
    "duration": 3,
    "start_time": "2022-11-13T09:46:36.881Z"
   },
   {
    "duration": 38,
    "start_time": "2022-11-13T09:46:36.886Z"
   },
   {
    "duration": 174,
    "start_time": "2022-11-13T09:46:36.925Z"
   },
   {
    "duration": 181,
    "start_time": "2022-11-13T09:46:37.101Z"
   },
   {
    "duration": 141,
    "start_time": "2022-11-13T09:46:37.284Z"
   },
   {
    "duration": 152,
    "start_time": "2022-11-13T09:46:37.427Z"
   },
   {
    "duration": 158,
    "start_time": "2022-11-13T09:47:20.315Z"
   },
   {
    "duration": 155,
    "start_time": "2022-11-13T09:47:27.368Z"
   },
   {
    "duration": 158,
    "start_time": "2022-11-13T09:47:46.153Z"
   },
   {
    "duration": 136,
    "start_time": "2022-11-13T09:48:04.877Z"
   },
   {
    "duration": 41,
    "start_time": "2022-11-13T09:48:07.760Z"
   },
   {
    "duration": 42,
    "start_time": "2022-11-13T09:48:15.739Z"
   },
   {
    "duration": 52,
    "start_time": "2022-11-13T09:48:24.246Z"
   },
   {
    "duration": 139,
    "start_time": "2022-11-13T09:48:31.210Z"
   },
   {
    "duration": 172,
    "start_time": "2022-11-13T09:48:39.815Z"
   },
   {
    "duration": 247,
    "start_time": "2022-11-13T09:48:48.720Z"
   },
   {
    "duration": 159,
    "start_time": "2022-11-13T09:48:56.095Z"
   },
   {
    "duration": 1229,
    "start_time": "2022-11-13T09:49:55.858Z"
   },
   {
    "duration": 20,
    "start_time": "2022-11-13T09:49:57.089Z"
   },
   {
    "duration": 17,
    "start_time": "2022-11-13T09:49:57.110Z"
   },
   {
    "duration": 11,
    "start_time": "2022-11-13T09:49:57.129Z"
   },
   {
    "duration": 35,
    "start_time": "2022-11-13T09:49:57.142Z"
   },
   {
    "duration": 4,
    "start_time": "2022-11-13T09:49:57.178Z"
   },
   {
    "duration": 17,
    "start_time": "2022-11-13T09:49:57.184Z"
   },
   {
    "duration": 5,
    "start_time": "2022-11-13T09:49:57.221Z"
   },
   {
    "duration": 10,
    "start_time": "2022-11-13T09:49:57.228Z"
   },
   {
    "duration": 5,
    "start_time": "2022-11-13T09:49:57.240Z"
   },
   {
    "duration": 36,
    "start_time": "2022-11-13T09:49:57.247Z"
   },
   {
    "duration": 11,
    "start_time": "2022-11-13T09:49:57.285Z"
   },
   {
    "duration": 4,
    "start_time": "2022-11-13T09:49:57.323Z"
   },
   {
    "duration": 15,
    "start_time": "2022-11-13T09:49:57.328Z"
   },
   {
    "duration": 21,
    "start_time": "2022-11-13T09:49:57.344Z"
   },
   {
    "duration": 17,
    "start_time": "2022-11-13T09:49:57.367Z"
   },
   {
    "duration": 4,
    "start_time": "2022-11-13T09:49:57.385Z"
   },
   {
    "duration": 44,
    "start_time": "2022-11-13T09:49:57.391Z"
   },
   {
    "duration": 10,
    "start_time": "2022-11-13T09:49:57.437Z"
   },
   {
    "duration": 5,
    "start_time": "2022-11-13T09:49:57.449Z"
   },
   {
    "duration": 13,
    "start_time": "2022-11-13T09:49:57.456Z"
   },
   {
    "duration": 149,
    "start_time": "2022-11-13T09:49:57.470Z"
   },
   {
    "duration": 0,
    "start_time": "2022-11-13T09:49:57.622Z"
   },
   {
    "duration": 1,
    "start_time": "2022-11-13T09:49:57.624Z"
   },
   {
    "duration": 0,
    "start_time": "2022-11-13T09:49:57.626Z"
   },
   {
    "duration": 166,
    "start_time": "2022-11-13T09:50:51.189Z"
   },
   {
    "duration": 1247,
    "start_time": "2022-11-13T09:51:08.806Z"
   },
   {
    "duration": 20,
    "start_time": "2022-11-13T09:51:10.055Z"
   },
   {
    "duration": 19,
    "start_time": "2022-11-13T09:51:10.077Z"
   },
   {
    "duration": 26,
    "start_time": "2022-11-13T09:51:10.097Z"
   },
   {
    "duration": 34,
    "start_time": "2022-11-13T09:51:10.125Z"
   },
   {
    "duration": 4,
    "start_time": "2022-11-13T09:51:10.161Z"
   },
   {
    "duration": 55,
    "start_time": "2022-11-13T09:51:10.166Z"
   },
   {
    "duration": 5,
    "start_time": "2022-11-13T09:51:10.223Z"
   },
   {
    "duration": 20,
    "start_time": "2022-11-13T09:51:10.230Z"
   },
   {
    "duration": 7,
    "start_time": "2022-11-13T09:51:10.251Z"
   },
   {
    "duration": 35,
    "start_time": "2022-11-13T09:51:10.260Z"
   },
   {
    "duration": 26,
    "start_time": "2022-11-13T09:51:10.297Z"
   },
   {
    "duration": 4,
    "start_time": "2022-11-13T09:51:10.324Z"
   },
   {
    "duration": 11,
    "start_time": "2022-11-13T09:51:10.331Z"
   },
   {
    "duration": 24,
    "start_time": "2022-11-13T09:51:10.343Z"
   },
   {
    "duration": 18,
    "start_time": "2022-11-13T09:51:10.369Z"
   },
   {
    "duration": 3,
    "start_time": "2022-11-13T09:51:10.389Z"
   },
   {
    "duration": 37,
    "start_time": "2022-11-13T09:51:10.394Z"
   },
   {
    "duration": 9,
    "start_time": "2022-11-13T09:51:10.433Z"
   },
   {
    "duration": 11,
    "start_time": "2022-11-13T09:51:10.443Z"
   },
   {
    "duration": 14,
    "start_time": "2022-11-13T09:51:10.456Z"
   },
   {
    "duration": 174,
    "start_time": "2022-11-13T09:51:10.471Z"
   },
   {
    "duration": 180,
    "start_time": "2022-11-13T09:51:10.647Z"
   },
   {
    "duration": 152,
    "start_time": "2022-11-13T09:51:10.829Z"
   },
   {
    "duration": 175,
    "start_time": "2022-11-13T09:51:10.984Z"
   },
   {
    "duration": 164,
    "start_time": "2022-11-13T09:51:39.935Z"
   },
   {
    "duration": 166,
    "start_time": "2022-11-13T09:58:35.188Z"
   },
   {
    "duration": 167,
    "start_time": "2022-11-13T09:58:37.528Z"
   },
   {
    "duration": 188,
    "start_time": "2022-11-13T10:03:45.129Z"
   },
   {
    "duration": 213,
    "start_time": "2022-11-13T10:03:54.167Z"
   },
   {
    "duration": 232,
    "start_time": "2022-11-13T10:04:05.929Z"
   },
   {
    "duration": 1303,
    "start_time": "2022-11-13T10:32:40.801Z"
   },
   {
    "duration": 20,
    "start_time": "2022-11-13T10:32:42.107Z"
   },
   {
    "duration": 17,
    "start_time": "2022-11-13T10:32:42.128Z"
   },
   {
    "duration": 14,
    "start_time": "2022-11-13T10:32:42.148Z"
   },
   {
    "duration": 67,
    "start_time": "2022-11-13T10:32:42.163Z"
   },
   {
    "duration": 4,
    "start_time": "2022-11-13T10:32:42.231Z"
   },
   {
    "duration": 16,
    "start_time": "2022-11-13T10:32:42.236Z"
   },
   {
    "duration": 7,
    "start_time": "2022-11-13T10:32:42.253Z"
   },
   {
    "duration": 9,
    "start_time": "2022-11-13T10:32:42.262Z"
   },
   {
    "duration": 4,
    "start_time": "2022-11-13T10:32:42.274Z"
   },
   {
    "duration": 61,
    "start_time": "2022-11-13T10:32:42.280Z"
   },
   {
    "duration": 10,
    "start_time": "2022-11-13T10:32:42.342Z"
   },
   {
    "duration": 6,
    "start_time": "2022-11-13T10:32:42.353Z"
   },
   {
    "duration": 15,
    "start_time": "2022-11-13T10:32:42.361Z"
   },
   {
    "duration": 24,
    "start_time": "2022-11-13T10:32:42.378Z"
   },
   {
    "duration": 35,
    "start_time": "2022-11-13T10:32:42.404Z"
   },
   {
    "duration": 3,
    "start_time": "2022-11-13T10:32:42.441Z"
   },
   {
    "duration": 14,
    "start_time": "2022-11-13T10:32:42.446Z"
   },
   {
    "duration": 9,
    "start_time": "2022-11-13T10:32:42.462Z"
   },
   {
    "duration": 4,
    "start_time": "2022-11-13T10:32:42.472Z"
   },
   {
    "duration": 13,
    "start_time": "2022-11-13T10:32:42.477Z"
   },
   {
    "duration": 199,
    "start_time": "2022-11-13T10:32:42.491Z"
   },
   {
    "duration": 185,
    "start_time": "2022-11-13T10:32:42.691Z"
   },
   {
    "duration": 158,
    "start_time": "2022-11-13T10:32:42.878Z"
   },
   {
    "duration": 184,
    "start_time": "2022-11-13T10:32:43.038Z"
   },
   {
    "duration": 1355,
    "start_time": "2022-11-13T11:00:13.219Z"
   },
   {
    "duration": 22,
    "start_time": "2022-11-13T11:00:14.577Z"
   },
   {
    "duration": 28,
    "start_time": "2022-11-13T11:00:14.600Z"
   },
   {
    "duration": 10,
    "start_time": "2022-11-13T11:00:14.630Z"
   },
   {
    "duration": 37,
    "start_time": "2022-11-13T11:00:14.642Z"
   },
   {
    "duration": 4,
    "start_time": "2022-11-13T11:00:14.681Z"
   },
   {
    "duration": 14,
    "start_time": "2022-11-13T11:00:14.686Z"
   },
   {
    "duration": 5,
    "start_time": "2022-11-13T11:00:14.723Z"
   },
   {
    "duration": 8,
    "start_time": "2022-11-13T11:00:14.731Z"
   },
   {
    "duration": 5,
    "start_time": "2022-11-13T11:00:14.743Z"
   },
   {
    "duration": 44,
    "start_time": "2022-11-13T11:00:14.749Z"
   },
   {
    "duration": 32,
    "start_time": "2022-11-13T11:00:14.795Z"
   },
   {
    "duration": 5,
    "start_time": "2022-11-13T11:00:14.829Z"
   },
   {
    "duration": 17,
    "start_time": "2022-11-13T11:00:14.835Z"
   },
   {
    "duration": 22,
    "start_time": "2022-11-13T11:00:14.854Z"
   },
   {
    "duration": 44,
    "start_time": "2022-11-13T11:00:14.878Z"
   },
   {
    "duration": 4,
    "start_time": "2022-11-13T11:00:14.924Z"
   },
   {
    "duration": 21,
    "start_time": "2022-11-13T11:00:14.930Z"
   },
   {
    "duration": 9,
    "start_time": "2022-11-13T11:00:14.953Z"
   },
   {
    "duration": 4,
    "start_time": "2022-11-13T11:00:14.963Z"
   },
   {
    "duration": 12,
    "start_time": "2022-11-13T11:00:14.969Z"
   },
   {
    "duration": 199,
    "start_time": "2022-11-13T11:00:14.983Z"
   },
   {
    "duration": 183,
    "start_time": "2022-11-13T11:00:15.184Z"
   },
   {
    "duration": 168,
    "start_time": "2022-11-13T11:00:15.369Z"
   },
   {
    "duration": 188,
    "start_time": "2022-11-13T11:00:15.539Z"
   },
   {
    "duration": 1280,
    "start_time": "2022-11-13T12:48:35.851Z"
   },
   {
    "duration": 20,
    "start_time": "2022-11-13T12:48:37.133Z"
   },
   {
    "duration": 82,
    "start_time": "2022-11-13T12:48:37.155Z"
   },
   {
    "duration": 11,
    "start_time": "2022-11-13T12:48:37.239Z"
   },
   {
    "duration": 37,
    "start_time": "2022-11-13T12:48:37.252Z"
   },
   {
    "duration": 4,
    "start_time": "2022-11-13T12:48:37.291Z"
   },
   {
    "duration": 15,
    "start_time": "2022-11-13T12:48:37.297Z"
   },
   {
    "duration": 4,
    "start_time": "2022-11-13T12:48:37.313Z"
   },
   {
    "duration": 11,
    "start_time": "2022-11-13T12:48:37.319Z"
   },
   {
    "duration": 5,
    "start_time": "2022-11-13T12:48:37.352Z"
   },
   {
    "duration": 38,
    "start_time": "2022-11-13T12:48:37.358Z"
   },
   {
    "duration": 11,
    "start_time": "2022-11-13T12:48:37.397Z"
   },
   {
    "duration": 4,
    "start_time": "2022-11-13T12:48:37.409Z"
   },
   {
    "duration": 44,
    "start_time": "2022-11-13T12:48:37.415Z"
   },
   {
    "duration": 41,
    "start_time": "2022-11-13T12:48:37.462Z"
   },
   {
    "duration": 26,
    "start_time": "2022-11-13T12:48:37.505Z"
   },
   {
    "duration": 4,
    "start_time": "2022-11-13T12:48:37.533Z"
   },
   {
    "duration": 12,
    "start_time": "2022-11-13T12:48:37.550Z"
   },
   {
    "duration": 10,
    "start_time": "2022-11-13T12:48:37.564Z"
   },
   {
    "duration": 4,
    "start_time": "2022-11-13T12:48:37.577Z"
   },
   {
    "duration": 11,
    "start_time": "2022-11-13T12:48:37.583Z"
   },
   {
    "duration": 206,
    "start_time": "2022-11-13T12:48:37.596Z"
   },
   {
    "duration": 192,
    "start_time": "2022-11-13T12:48:37.804Z"
   },
   {
    "duration": 169,
    "start_time": "2022-11-13T12:48:37.998Z"
   },
   {
    "duration": 190,
    "start_time": "2022-11-13T12:48:38.169Z"
   },
   {
    "duration": 1395,
    "start_time": "2022-11-13T12:50:46.230Z"
   },
   {
    "duration": 45,
    "start_time": "2022-11-13T12:50:47.627Z"
   },
   {
    "duration": 19,
    "start_time": "2022-11-13T12:50:47.678Z"
   },
   {
    "duration": 10,
    "start_time": "2022-11-13T12:50:47.699Z"
   },
   {
    "duration": 48,
    "start_time": "2022-11-13T12:50:47.711Z"
   },
   {
    "duration": 4,
    "start_time": "2022-11-13T12:50:47.764Z"
   },
   {
    "duration": 14,
    "start_time": "2022-11-13T12:50:47.770Z"
   },
   {
    "duration": 6,
    "start_time": "2022-11-13T12:50:47.786Z"
   },
   {
    "duration": 9,
    "start_time": "2022-11-13T12:50:47.793Z"
   },
   {
    "duration": 5,
    "start_time": "2022-11-13T12:50:47.804Z"
   },
   {
    "duration": 72,
    "start_time": "2022-11-13T12:50:47.810Z"
   },
   {
    "duration": 11,
    "start_time": "2022-11-13T12:50:47.885Z"
   },
   {
    "duration": 4,
    "start_time": "2022-11-13T12:50:47.898Z"
   },
   {
    "duration": 26,
    "start_time": "2022-11-13T12:50:47.904Z"
   },
   {
    "duration": 37,
    "start_time": "2022-11-13T12:50:47.931Z"
   },
   {
    "duration": 21,
    "start_time": "2022-11-13T12:50:47.969Z"
   },
   {
    "duration": 4,
    "start_time": "2022-11-13T12:50:47.991Z"
   },
   {
    "duration": 14,
    "start_time": "2022-11-13T12:50:47.997Z"
   },
   {
    "duration": 7,
    "start_time": "2022-11-13T12:50:48.013Z"
   },
   {
    "duration": 29,
    "start_time": "2022-11-13T12:50:48.023Z"
   },
   {
    "duration": 29,
    "start_time": "2022-11-13T12:50:48.054Z"
   },
   {
    "duration": 194,
    "start_time": "2022-11-13T12:50:48.085Z"
   },
   {
    "duration": 200,
    "start_time": "2022-11-13T12:50:48.281Z"
   },
   {
    "duration": 735,
    "start_time": "2022-11-13T12:50:48.484Z"
   },
   {
    "duration": 209,
    "start_time": "2022-11-13T12:50:49.221Z"
   }
  ],
  "colab": {
   "name": "dpp_template_part2.ipynb",
   "provenance": []
  },
  "kernelspec": {
   "display_name": "Python 3 (ipykernel)",
   "language": "python",
   "name": "python3"
  },
  "language_info": {
   "codemirror_mode": {
    "name": "ipython",
    "version": 3
   },
   "file_extension": ".py",
   "mimetype": "text/x-python",
   "name": "python",
   "nbconvert_exporter": "python",
   "pygments_lexer": "ipython3",
   "version": "3.9.13"
  },
  "toc": {
   "base_numbering": 1,
   "nav_menu": {},
   "number_sections": true,
   "sideBar": true,
   "skip_h1_title": true,
   "title_cell": "Table of Contents",
   "title_sidebar": "Contents",
   "toc_cell": false,
   "toc_position": {},
   "toc_section_display": true,
   "toc_window_display": false
  }
 },
 "nbformat": 4,
 "nbformat_minor": 5
}
