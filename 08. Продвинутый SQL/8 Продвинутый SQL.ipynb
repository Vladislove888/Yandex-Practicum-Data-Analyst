{
 "cells": [
  {
   "cell_type": "markdown",
   "id": "6dacc271",
   "metadata": {},
   "source": [
    "# Исследование базы данных StackOverflow"
   ]
  },
  {
   "cell_type": "markdown",
   "id": "abc957da",
   "metadata": {},
   "source": [
    "В данном проекте будет работа с базой данных StackOverflow — сервиса вопросов и ответов о программировании. StackOverflow похож на социальную сеть — пользователи сервиса задают вопросы, отвечают на посты, оставляют комментарии и ставят оценки другим ответам."
   ]
  },
  {
   "cell_type": "markdown",
   "id": "ca9c90fd",
   "metadata": {},
   "source": [
    "## Часть 1"
   ]
  },
  {
   "cell_type": "markdown",
   "id": "31ea1b06",
   "metadata": {},
   "source": [
    "1. Найдите количество вопросов, которые набрали больше 300 очков или как минимум 100 раз были добавлены в «Закладки»."
   ]
  },
  {
   "cell_type": "code",
   "execution_count": null,
   "id": "b8beaa76",
   "metadata": {},
   "outputs": [],
   "source": [
    "SELECT COUNT(p.id)\n",
    "FROM stackoverflow.posts AS p\n",
    "LEFT JOIN stackoverflow.post_types AS pt ON p.post_type_id = pt.id\n",
    "WHERE pt.type = 'Question' AND (score > 300 OR favorites_count >= 100)"
   ]
  },
  {
   "cell_type": "markdown",
   "id": "0fdb5946",
   "metadata": {},
   "source": [
    "2. Сколько в среднем в день задавали вопросов с 1 по 18 ноября 2008 включительно? Результат округлите до целого числа."
   ]
  },
  {
   "cell_type": "code",
   "execution_count": null,
   "id": "f1d6dd40",
   "metadata": {},
   "outputs": [],
   "source": [
    "SELECT ROUND(AVG(questions_cnt), 0)\n",
    "FROM\n",
    "    (SELECT p.creation_date::date,\n",
    "           COUNT(p.id) AS questions_cnt\n",
    "    FROM stackoverflow.posts AS p\n",
    "    LEFT JOIN stackoverflow.post_types AS pt ON p.post_type_id = pt.id\n",
    "    WHERE pt.type = 'Question' AND p.creation_date::date BETWEEN '2008-11-01' AND '2008-11-18'\n",
    "    GROUP BY 1) AS q "
   ]
  },
  {
   "cell_type": "markdown",
   "id": "1afea521",
   "metadata": {},
   "source": [
    "3. Сколько пользователей получили значки сразу в день регистрации? Выведите количество уникальных пользователей."
   ]
  },
  {
   "cell_type": "code",
   "execution_count": null,
   "id": "c04a4723",
   "metadata": {},
   "outputs": [],
   "source": [
    "SELECT COUNT(DISTINCT(u.id))\n",
    "FROM stackoverflow.users AS u \n",
    "LEFT JOIN stackoverflow.badges AS b ON u.id = b.user_id\n",
    "WHERE u.creation_date::date = b.creation_date::date"
   ]
  },
  {
   "cell_type": "markdown",
   "id": "a5e77051",
   "metadata": {},
   "source": [
    "4. Сколько уникальных постов пользователя с именем Joel Coehoorn получили хотя бы один голос?"
   ]
  },
  {
   "cell_type": "code",
   "execution_count": null,
   "id": "7492128c",
   "metadata": {},
   "outputs": [],
   "source": [
    "WITH votes_count AS (\n",
    "    SELECT p.id AS id_post,\n",
    "           COUNT(v.id) AS votes_cnt\n",
    "    FROM stackoverflow.users AS u\n",
    "    JOIN stackoverflow.posts AS p ON p.user_id = u.id\n",
    "    JOIN stackoverflow.votes AS v ON v.post_id = p.id\n",
    "    WHERE display_name = 'Joel Coehoorn'\n",
    "    GROUP BY p.id \n",
    "      )\n",
    "SELECT COUNT(id_post)\n",
    "  FROM votes_count\n",
    "  WHERE votes_cnt >=1"
   ]
  },
  {
   "cell_type": "markdown",
   "id": "d4f933eb",
   "metadata": {},
   "source": [
    "5. Выгрузите все поля таблицы vote_types. Добавьте к таблице поле rank, в которое войдут номера записей в обратном порядке. Таблица должна быть отсортирована по полю id."
   ]
  },
  {
   "cell_type": "code",
   "execution_count": null,
   "id": "fb35dc5c",
   "metadata": {},
   "outputs": [],
   "source": [
    "SELECT *,\n",
    "       RANK() OVER (ORDER BY id DESC)\n",
    "FROM stackoverflow.vote_types \n",
    "ORDER BY id"
   ]
  },
  {
   "cell_type": "markdown",
   "id": "ea016e0d",
   "metadata": {},
   "source": [
    "6. Отберите 10 пользователей, которые поставили больше всего голосов типа Close. Отобразите таблицу из двух полей: идентификатором пользователя и количеством голосов. Отсортируйте данные сначала по убыванию количества голосов, потом по убыванию значения идентификатора пользователя."
   ]
  },
  {
   "cell_type": "code",
   "execution_count": null,
   "id": "b16c1fd9",
   "metadata": {},
   "outputs": [],
   "source": [
    "SELECT u.id AS user_id,\n",
    "       COUNT(v.id) AS votes_cnt\n",
    "FROM stackoverflow.users AS u\n",
    "JOIN stackoverflow.votes AS v ON u.id = v.user_id\n",
    "JOIN stackoverflow.vote_types AS vt ON v.vote_type_id = vt.id\n",
    "WHERE vt.name = 'Close'\n",
    "GROUP BY u.id\n",
    "ORDER BY votes_cnt DESC, user_id DESC\n",
    "LIMIT 10"
   ]
  },
  {
   "cell_type": "markdown",
   "id": "f6262c46",
   "metadata": {},
   "source": [
    "7. Отберите 10 пользователей по количеству значков, полученных в период с 15 ноября по 15 декабря 2008 года включительно.\n",
    "\n",
    "Отобразите несколько полей:\n",
    "- идентификатор пользователя;\n",
    "- число значков;\n",
    "- место в рейтинге — чем больше значков, тем выше рейтинг.\n",
    "\n",
    "Пользователям, которые набрали одинаковое количество значков, присвойте одно и то же место в рейтинге.\n",
    "Отсортируйте записи по количеству значков по убыванию, а затем по возрастанию значения идентификатора пользователя."
   ]
  },
  {
   "cell_type": "code",
   "execution_count": null,
   "id": "cf9ce584",
   "metadata": {},
   "outputs": [],
   "source": [
    "SELECT user_id,\n",
    "       COUNT(id) AS b_cnt,\n",
    "       DENSE_RANK() OVER (ORDER BY COUNT(id) DESC)\n",
    "FROM stackoverflow.badges\n",
    "WHERE creation_date::date BETWEEN '2008-11-15' AND '2008-12-15'\n",
    "GROUP BY user_id\n",
    "ORDER BY b_cnt DESC, user_id\n",
    "LIMIT 10"
   ]
  },
  {
   "cell_type": "markdown",
   "id": "16ef10a9",
   "metadata": {},
   "source": [
    "8. Сколько в среднем очков получает пост каждого пользователя?\n",
    "\n",
    "Сформируйте таблицу из следующих полей:\n",
    "- заголовок поста;\n",
    "- идентификатор пользователя;\n",
    "- число очков поста;\n",
    "- среднее число очков пользователя за пост, округлённое до целого числа.\n",
    "\n",
    "Не учитывайте посты без заголовка, а также те, что набрали ноль очков."
   ]
  },
  {
   "cell_type": "code",
   "execution_count": null,
   "id": "196d1f7c",
   "metadata": {},
   "outputs": [],
   "source": [
    "SELECT title,\n",
    "       user_id,\n",
    "       score,\n",
    "       ROUND(AVG(score) OVER (PARTITION BY user_id))\n",
    "FROM stackoverflow.posts\n",
    "WHERE title != '' AND score != 0"
   ]
  },
  {
   "cell_type": "markdown",
   "id": "5eb14fca",
   "metadata": {},
   "source": [
    "9. Отобразите заголовки постов, которые были написаны пользователями, получившими более 1000 значков. Посты без заголовков не должны попасть в список."
   ]
  },
  {
   "cell_type": "code",
   "execution_count": null,
   "id": "93251c33",
   "metadata": {},
   "outputs": [],
   "source": [
    "SELECT title\n",
    "FROM stackoverflow.posts\n",
    "WHERE user_id IN\n",
    "    (SELECT user_id\n",
    "    FROM stackoverflow.badges\n",
    "    GROUP BY user_id\n",
    "    HAVING COUNT(id) > 1000)\n",
    "AND title IS NOT NULL"
   ]
  },
  {
   "cell_type": "markdown",
   "id": "e00076e7",
   "metadata": {},
   "source": [
    "10. Напишите запрос, который выгрузит данные о пользователях из США (англ. United States). Разделите пользователей на три группы в зависимости от количества просмотров их профилей:\n",
    "- пользователям с числом просмотров больше либо равным 350 присвойте группу 1;\n",
    "- пользователям с числом просмотров меньше 350, но больше либо равно 100 — группу 2;\n",
    "- пользователям с числом просмотров меньше 100 — группу 3.\n",
    "\n",
    "Отобразите в итоговой таблице идентификатор пользователя, количество просмотров профиля и группу. Пользователи с нулевым количеством просмотров не должны войти в итоговую таблицу."
   ]
  },
  {
   "cell_type": "code",
   "execution_count": null,
   "id": "79d31979",
   "metadata": {},
   "outputs": [],
   "source": [
    "SELECT id,\n",
    "       views,\n",
    "       CASE\n",
    "           WHEN views >= 350 THEN 1\n",
    "           WHEN views < 350 AND views >= 100 THEN 2\n",
    "           WHEN views < 100 THEN 3\n",
    "           END AS group_number\n",
    "FROM stackoverflow.users\n",
    "WHERE location LIKE '%United States%' AND views != 0\n",
    "ORDER BY views DESC"
   ]
  },
  {
   "cell_type": "markdown",
   "id": "6a5f04d1",
   "metadata": {},
   "source": [
    "11. Дополните предыдущий запрос. Отобразите лидеров каждой группы — пользователей, которые набрали максимальное число просмотров в своей группе. Выведите поля с идентификатором пользователя, группой и количеством просмотров. Отсортируйте таблицу по убыванию просмотров, а затем по возрастанию значения идентификатора."
   ]
  },
  {
   "cell_type": "code",
   "execution_count": null,
   "id": "41c64504",
   "metadata": {},
   "outputs": [],
   "source": [
    "WITH users_us AS\n",
    "    (\n",
    "    SELECT id,\n",
    "           views,\n",
    "           CASE\n",
    "               WHEN views >= 350 THEN 1\n",
    "               WHEN views < 350 AND views >= 100 THEN 2\n",
    "               WHEN views < 100 THEN 3\n",
    "               END AS group_number\n",
    "    FROM stackoverflow.users\n",
    "    WHERE location LIKE '%United States%' AND views != 0\n",
    "    ORDER BY views DESC\n",
    "    )\n",
    "\n",
    "SELECT id,\n",
    "       group_number,\n",
    "       views\n",
    "FROM       \n",
    "    (SELECT *,\n",
    "           MAX(views) OVER (PARTITION BY group_number ORDER BY views DESC) AS max_views\n",
    "    FROM users_us) AS top_us\n",
    "WHERE views = max_views\n",
    "ORDER BY views DESC, id"
   ]
  },
  {
   "cell_type": "markdown",
   "id": "9894a53e",
   "metadata": {},
   "source": [
    "12. Посчитайте ежедневный прирост новых пользователей в ноябре 2008 года. Сформируйте таблицу с полями:\n",
    "- номер дня;\n",
    "- число пользователей, зарегистрированных в этот день;\n",
    "- сумму пользователей с накоплением."
   ]
  },
  {
   "cell_type": "code",
   "execution_count": null,
   "id": "755823ce",
   "metadata": {},
   "outputs": [],
   "source": [
    "WITH users_cnt_nov AS (\n",
    "    SELECT EXTRACT(DAY FROM creation_date) AS day,\n",
    "           COUNT(id) AS users_cnt\n",
    "    FROM stackoverflow.users\n",
    "    WHERE creation_date::date BETWEEN '2008-11-01' AND '2008-11-30'\n",
    "    GROUP BY EXTRACT(DAY FROM creation_date)\n",
    "    )\n",
    "SELECT day,\n",
    "       users_cnt,\n",
    "       SUM(users_cnt) OVER (ORDER BY day)\n",
    "FROM users_cnt_nov "
   ]
  },
  {
   "cell_type": "markdown",
   "id": "220b4937",
   "metadata": {},
   "source": [
    "13. Для каждого пользователя, который написал хотя бы один пост, найдите интервал между регистрацией и временем создания первого поста. Отобразите:\n",
    "- идентификатор пользователя;\n",
    "- разницу во времени между регистрацией и первым постом."
   ]
  },
  {
   "cell_type": "code",
   "execution_count": null,
   "id": "e9274b52",
   "metadata": {},
   "outputs": [],
   "source": [
    "SELECT DISTINCT(p.user_id),\n",
    "       MIN(p.creation_date) OVER (PARTITION BY p.user_id) - u.creation_date AS interval\n",
    "FROM stackoverflow.posts AS p\n",
    "LEFT JOIN stackoverflow.users AS u ON p.user_id = u.id"
   ]
  },
  {
   "cell_type": "markdown",
   "id": "0250deb8",
   "metadata": {},
   "source": [
    "## Часть 2"
   ]
  },
  {
   "cell_type": "markdown",
   "id": "4bbcc62b",
   "metadata": {},
   "source": [
    "1. Выведите общую сумму просмотров постов за каждый месяц 2008 года. Если данных за какой-либо месяц в базе нет, такой месяц можно пропустить. Результат отсортируйте по убыванию общего количества просмотров."
   ]
  },
  {
   "cell_type": "code",
   "execution_count": null,
   "id": "eaa39738",
   "metadata": {},
   "outputs": [],
   "source": [
    "SELECT DATE_TRUNC('month', creation_date)::date,\n",
    "       SUM(views_count)\n",
    "FROM stackoverflow.posts\n",
    "WHERE EXTRACT(YEAR FROM creation_date) = 2008\n",
    "GROUP BY 1\n",
    "ORDER BY 2 DESC"
   ]
  },
  {
   "cell_type": "markdown",
   "id": "f7549583",
   "metadata": {},
   "source": [
    "2. Выведите имена самых активных пользователей, которые в первый месяц после регистрации (включая день регистрации) дали больше 100 ответов. Вопросы, которые задавали пользователи, не учитывайте. Для каждого имени пользователя выведите количество уникальных значений user_id. Отсортируйте результат по полю с именами в лексикографическом порядке."
   ]
  },
  {
   "cell_type": "code",
   "execution_count": null,
   "id": "c2f70751",
   "metadata": {},
   "outputs": [],
   "source": [
    "SELECT u.display_name,\n",
    "       COUNT(DISTINCT p.user_id)\n",
    "FROM stackoverflow.users AS u\n",
    "JOIN stackoverflow.posts AS p ON u.id = p.user_id\n",
    "JOIN stackoverflow.post_types AS pt ON p.post_type_id = pt.id\n",
    "WHERE p.creation_date::date BETWEEN u.creation_date::date AND u.creation_date::date + INTERVAL '1 month'\n",
    "AND pt.type = 'Answer'\n",
    "GROUP BY u.display_name\n",
    "HAVING COUNT(DISTINCT p.id) > 100"
   ]
  },
  {
   "cell_type": "markdown",
   "id": "862d60a6",
   "metadata": {},
   "source": [
    "3. Выведите количество постов за 2008 год по месяцам. Отберите посты от пользователей, которые зарегистрировались в сентябре 2008 года и сделали хотя бы один пост в декабре того же года. Отсортируйте таблицу по значению месяца по убыванию."
   ]
  },
  {
   "cell_type": "code",
   "execution_count": null,
   "id": "0861ac0f",
   "metadata": {},
   "outputs": [],
   "source": [
    "SELECT DATE_TRUNC('month', creation_date)::date AS post_month,\n",
    "       COUNT(DISTINCT id) post_cnt\n",
    "FROM stackoverflow.posts\n",
    "WHERE user_id IN (\n",
    "    SELECT DISTINCT u.id\n",
    "    FROM stackoverflow.users AS u\n",
    "    JOIN stackoverflow.posts AS p ON u.id = p.user_id\n",
    "    WHERE u.creation_date::date BETWEEN '2008-09-01' AND '2008-09-30'\n",
    "    AND p.creation_date::date BETWEEN '2008-12-01' AND '2008-12-31'\n",
    "    )\n",
    "AND EXTRACT(YEAR FROM creation_date) = 2008\n",
    "GROUP BY 1\n",
    "ORDER BY 1 DESC"
   ]
  },
  {
   "cell_type": "markdown",
   "id": "79b14ad5",
   "metadata": {},
   "source": [
    "4. Используя данные о постах, выведите несколько полей:\n",
    "- идентификатор пользователя, который написал пост;\n",
    "- дата создания поста;\n",
    "- количество просмотров у текущего поста;\n",
    "- сумму просмотров постов автора с накоплением.\n",
    "\n",
    "Данные в таблице должны быть отсортированы по возрастанию идентификаторов пользователей, а данные об одном и том же пользователе — по возрастанию даты создания поста."
   ]
  },
  {
   "cell_type": "code",
   "execution_count": null,
   "id": "95e55b2e",
   "metadata": {},
   "outputs": [],
   "source": [
    "SELECT user_id,\n",
    "       creation_date,\n",
    "       views_count,\n",
    "       SUM(views_count) OVER (PARTITION BY user_id ORDER BY creation_date)\n",
    "FROM stackoverflow.posts\n",
    "ORDER BY 1, 2"
   ]
  },
  {
   "cell_type": "markdown",
   "id": "b0190d3c",
   "metadata": {},
   "source": [
    "5. Сколько в среднем дней в период с 1 по 7 декабря 2008 года включительно пользователи взаимодействовали с платформой? Для каждого пользователя отберите дни, в которые он или она опубликовали хотя бы один пост. Нужно получить одно целое число — не забудьте округлить результат."
   ]
  },
  {
   "cell_type": "code",
   "execution_count": null,
   "id": "cb407bd5",
   "metadata": {},
   "outputs": [],
   "source": [
    "SELECT ROUND(AVG(days_cnt))\n",
    "FROM \n",
    "    (SELECT user_id,\n",
    "           COUNT(DISTINCT creation_date::date) days_cnt\n",
    "    FROM stackoverflow.posts\n",
    "    WHERE creation_date::date BETWEEN '2008-12-01' AND '2008-12-07'\n",
    "    GROUP BY user_id) AS active_days"
   ]
  },
  {
   "cell_type": "markdown",
   "id": "8ed64d25",
   "metadata": {},
   "source": [
    "6. На сколько процентов менялось количество постов ежемесячно с 1 сентября по 31 декабря 2008 года? Отобразите таблицу со следующими полями:\n",
    "- номер месяца;\n",
    "- количество постов за месяц;\n",
    "- процент, который показывает, насколько изменилось количество постов в текущем месяце по сравнению с предыдущим.\n",
    "\n",
    "Если постов стало меньше, значение процента должно быть отрицательным, если больше — положительным. Округлите значение процента до двух знаков после запятой."
   ]
  },
  {
   "cell_type": "code",
   "execution_count": null,
   "id": "a39b30dd",
   "metadata": {},
   "outputs": [],
   "source": [
    "SELECT posts_month,\n",
    "       posts_cnt,\n",
    "       ROUND( (posts_cnt - LAG(posts_cnt) OVER () )* 100/ LAG(posts_cnt) OVER () :: numeric, 2)\n",
    "FROM       \n",
    "    (SELECT EXTRACT(MONTH FROM creation_date::date) AS posts_month,\n",
    "           COUNT(id) AS posts_cnt\n",
    "    FROM stackoverflow.posts\n",
    "    WHERE creation_date::date BETWEEN '2008-09-01' AND '2008-12-31'\n",
    "    GROUP BY EXTRACT(MONTH FROM creation_date::date)\n",
    "     ) AS raw"
   ]
  },
  {
   "cell_type": "markdown",
   "id": "d1175d95",
   "metadata": {},
   "source": [
    "7. Выгрузите данные активности пользователя, который опубликовал больше всего постов за всё время. Выведите данные за октябрь 2008 года в таком виде:\n",
    "- номер недели;\n",
    "- дата и время последнего поста, опубликованного на этой неделе."
   ]
  },
  {
   "cell_type": "code",
   "execution_count": null,
   "id": "37570981",
   "metadata": {},
   "outputs": [],
   "source": [
    "WITH week AS (   \n",
    "      SELECT EXTRACT(WEEK FROM creation_date) AS week_number,\n",
    "             MAX(creation_date) OVER (ORDER BY EXTRACT(WEEK FROM creation_date))\n",
    "        FROM stackoverflow.posts \n",
    "       WHERE user_id = (\n",
    "                 SELECT user_id\n",
    "                   FROM stackoverflow.posts \n",
    "               GROUP BY user_id \n",
    "               ORDER BY COUNT(id) DESC\n",
    "                  LIMIT 1\n",
    "                     ) \n",
    "        AND creation_date::date BETWEEN '2008-10-01' AND '2008-10-31'          \n",
    "   ORDER BY creation_date\n",
    "             )\n",
    "   \n",
    "SELECT DISTINCT *\n",
    "FROM week\n",
    "ORDER BY week_number"
   ]
  }
 ],
 "metadata": {
  "kernelspec": {
   "display_name": "Python 3 (ipykernel)",
   "language": "python",
   "name": "python3"
  },
  "language_info": {
   "codemirror_mode": {
    "name": "ipython",
    "version": 3
   },
   "file_extension": ".py",
   "mimetype": "text/x-python",
   "name": "python",
   "nbconvert_exporter": "python",
   "pygments_lexer": "ipython3",
   "version": "3.9.13"
  }
 },
 "nbformat": 4,
 "nbformat_minor": 5
}
